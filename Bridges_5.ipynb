{
  "nbformat": 4,
  "nbformat_minor": 0,
  "metadata": {
    "colab": {
      "name": "Bridges - 5.ipynb",
      "provenance": [],
      "collapsed_sections": [],
      "include_colab_link": true
    },
    "kernelspec": {
      "name": "python3",
      "display_name": "Python 3"
    }
  },
  "cells": [
    {
      "cell_type": "markdown",
      "metadata": {
        "id": "view-in-github",
        "colab_type": "text"
      },
      "source": [
        "<a href=\"https://colab.research.google.com/github/AlexBB999/Bridges/blob/master/Bridges_5.ipynb\" target=\"_parent\"><img src=\"https://colab.research.google.com/assets/colab-badge.svg\" alt=\"Open In Colab\"/></a>"
      ]
    },
    {
      "cell_type": "markdown",
      "metadata": {
        "id": "-GrZs_CNcsCr",
        "colab_type": "text"
      },
      "source": [
        "**IMPORT EVERYTHING I MAY USE**"
      ]
    },
    {
      "cell_type": "code",
      "metadata": {
        "id": "hBzn0dCgeDW-",
        "colab_type": "code",
        "colab": {}
      },
      "source": [
        "% matplotlib inline\n",
        "import pandas as pd\n",
        "import numpy as np\n",
        "import matplotlib.pyplot as plt\n",
        "from scipy import stats\n",
        "from scipy.stats import shapiro\n",
        "import statistics\n",
        "from scipy.stats import normaltest\n",
        "from scipy.stats import anderson\n",
        "from sklearn import linear_model\n",
        "from sklearn.ensemble import RandomForestRegressor\n",
        "from sklearn.tree import DecisionTreeClassifier\n",
        "from sklearn.model_selection import cross_val_score\n",
        "import statsmodels.api as sm\n",
        "from sklearn.linear_model import LogisticRegression\n",
        "import seaborn as sns\n",
        "from sklearn.model_selection import train_test_split\n",
        "from sklearn.metrics import classification_report, confusion_matrix, roc_auc_score, recall_score\n",
        "from sklearn.preprocessing import StandardScaler\n",
        "from sklearn.ensemble import GradientBoostingClassifier\n",
        "from xgboost import XGBClassifier\n",
        "from sklearn.model_selection import GridSearchCV\n",
        "from sklearn.model_selection import RandomizedSearchCV\n",
        "import warnings\n",
        "warnings.filterwarnings('ignore')"
      ],
      "execution_count": 0,
      "outputs": []
    },
    {
      "cell_type": "code",
      "metadata": {
        "id": "yPEwuhBXYxuD",
        "colab_type": "code",
        "colab": {}
      },
      "source": [
        "from google.colab import drive"
      ],
      "execution_count": 0,
      "outputs": []
    },
    {
      "cell_type": "code",
      "metadata": {
        "colab_type": "code",
        "id": "Wdjbc-TTZDUk",
        "outputId": "4f904e69-f048-433e-a786-57bcfa0689a9",
        "colab": {
          "base_uri": "https://localhost:8080/",
          "height": 121
        }
      },
      "source": [
        "drive.mount('/content/drive')"
      ],
      "execution_count": 3,
      "outputs": [
        {
          "output_type": "stream",
          "text": [
            "Go to this URL in a browser: https://accounts.google.com/o/oauth2/auth?client_id=947318989803-6bn6qk8qdgf4n4g3pfee6491hc0brc4i.apps.googleusercontent.com&redirect_uri=urn%3aietf%3awg%3aoauth%3a2.0%3aoob&response_type=code&scope=email%20https%3a%2f%2fwww.googleapis.com%2fauth%2fdocs.test%20https%3a%2f%2fwww.googleapis.com%2fauth%2fdrive%20https%3a%2f%2fwww.googleapis.com%2fauth%2fdrive.photos.readonly%20https%3a%2f%2fwww.googleapis.com%2fauth%2fpeopleapi.readonly\n",
            "\n",
            "Enter your authorization code:\n",
            "··········\n",
            "Mounted at /content/drive\n"
          ],
          "name": "stdout"
        }
      ]
    },
    {
      "cell_type": "markdown",
      "metadata": {
        "id": "BNmAkdSLmcim",
        "colab_type": "text"
      },
      "source": [
        "#**The current system for inspecting bridges is expensive, time-consuming and inefficient**\n",
        "\n",
        "The FHWA requires evaluation of all bridges however; it is costly having a\n",
        "bi­annual inspection cost of $2.7 billion for the U.S\n",
        "\n",
        "where  the  average inspection costper bridge ranges from $4,500 to $10,000.  This requires closing lanes for the span of theinspection, which can take 1 to 3 days causing traffic congestions.\n",
        "\n",
        "**https://catsr.vse.gmu.edu/SYST490/490_2014_BI/BIS_FinalReport.pdf**"
      ]
    },
    {
      "cell_type": "markdown",
      "metadata": {
        "id": "jx3F-b-im3YG",
        "colab_type": "text"
      },
      "source": [
        "**My objective in this project is adding granualrity/priortization to the process to help address at least part of the aforementioned shortcomings.** "
      ]
    },
    {
      "cell_type": "markdown",
      "metadata": {
        "id": "EddDUg3xnhWC",
        "colab_type": "text"
      },
      "source": [
        "The current system assigns a score called the \"Structural Evaluation\" to each brdge. It is a 10 point scale. A score of 4 or less marks the bridge as \"Structurally Deficient\" -- meaning the bridge needs repairs -- possibly replacement. It now has a priority when allocating limited funds for bridge maintenance. But the scoring of  0,1,2,3,4 is not as granular as need be. For example -- if two bridges have a score of 3 -- which one  do we repair first? If we allow decimals then we could have a score of 3.1 versus 3.5 so we know which is the first to get our limited funds."
      ]
    },
    {
      "cell_type": "markdown",
      "metadata": {
        "id": "y49_xRYrpX1E",
        "colab_type": "text"
      },
      "source": [
        "#**STAKEHOLDERS**\n",
        "\n",
        "The stakeholders have been clearly defined in the above quoted article:\n",
        "\n",
        "The primary stakeholders of the bridge inspection systems are the Federal\n",
        "Highway Administration (FHWA), District Department of Transportation (DDOT),\n",
        "Bridge Design Engineers, Bridge Construction Team, and the Inspection Team which are directly involved with the construction and inspection of the bridge. The secondary stakeholders are groups of people that are not directly involved with the construction andinspection but are impacted indirectly such as the traveling public or the Bridge Users.\n",
        "\n",
        "**My immediate audience (cohorts+instructor+you) are secondary stakeholders. But clearly this is of value to primary stakeholders**.\n"
      ]
    },
    {
      "cell_type": "markdown",
      "metadata": {
        "id": "yX_gnNizqfy_",
        "colab_type": "text"
      },
      "source": [
        "#**EXPLANATION FOR COULMNS DROPPED BEFORE ANY ANALYSIS**\n",
        "\n",
        "I am not creating a dashboard so any columns having to do with location/identification are **not** relevent at this time. Thus, I have dropped the following columns:\n",
        "\n",
        "State_code\n",
        "\n",
        "Record_type\n",
        "\n",
        "Route_prefix\n",
        "\n",
        "Route_number\n",
        "\n",
        "Direction\n",
        "\n",
        "Highway District\n",
        "\n",
        "County_code\n",
        "\n",
        "Place_code\n",
        "\n",
        "Features_Desc\n",
        "\n",
        "Location\n",
        "\n",
        "Kilopoint\n",
        "\n",
        "Base_Hwy_network\n",
        "\n",
        "LRS_Inv_Route\n",
        "\n",
        "Subroute\n",
        "\n",
        "Latitude\n",
        "\n",
        "Longitude\n",
        "\n",
        "Detour Kilos\n",
        "\n",
        "Cat 10\n",
        "\n",
        "Cat 23\n",
        "\n",
        "Without goiing into the same level of deatil , I have dropped all columns having to do with water/navigation and other irrelevant columns like Right_curb and Left_curb. I am not stating that this information is not useful -- I am simply simplifying this project. To factor in all 136 features and many subfeatures is not a project -- it's a full-time job."
      ]
    },
    {
      "cell_type": "code",
      "metadata": {
        "id": "kjC4QJs1h07q",
        "colab_type": "code",
        "colab": {}
      },
      "source": [
        "bridges9 = pd.read_csv('/content/drive/My Drive/2017HwyBridgesDelimitedAllStates.txt', sep=',',encoding='ISO-8859-1',low_memory=False)"
      ],
      "execution_count": 0,
      "outputs": []
    },
    {
      "cell_type": "markdown",
      "metadata": {
        "id": "f4-hIZdpjMiq",
        "colab_type": "text"
      },
      "source": [
        "**IDENTIFYING FEATURES BY COLUMN NUMBER**"
      ]
    },
    {
      "cell_type": "code",
      "metadata": {
        "id": "BFGnanTPiQCc",
        "colab_type": "code",
        "colab": {}
      },
      "source": [
        "g=list(range(1,138))"
      ],
      "execution_count": 0,
      "outputs": []
    },
    {
      "cell_type": "code",
      "metadata": {
        "id": "CzBKmXI8iZjt",
        "colab_type": "code",
        "colab": {}
      },
      "source": [
        "z=zip(g,list(bridges9))"
      ],
      "execution_count": 0,
      "outputs": []
    },
    {
      "cell_type": "code",
      "metadata": {
        "id": "XtVO5hKnifNE",
        "colab_type": "code",
        "outputId": "1895c71e-ee81-44d5-e9d5-9e24c1741ae5",
        "colab": {
          "base_uri": "https://localhost:8080/",
          "height": 1000
        }
      },
      "source": [
        "list(z)"
      ],
      "execution_count": 7,
      "outputs": [
        {
          "output_type": "execute_result",
          "data": {
            "text/plain": [
              "[(1, 'STATE_CODE_001'),\n",
              " (2, 'STRUCTURE_NUMBER_008'),\n",
              " (3, 'RECORD_TYPE_005A'),\n",
              " (4, 'ROUTE_PREFIX_005B'),\n",
              " (5, 'SERVICE_LEVEL_005C'),\n",
              " (6, 'ROUTE_NUMBER_005D'),\n",
              " (7, 'DIRECTION_005E'),\n",
              " (8, 'HIGHWAY_DISTRICT_002'),\n",
              " (9, 'COUNTY_CODE_003'),\n",
              " (10, 'PLACE_CODE_004'),\n",
              " (11, 'FEATURES_DESC_006A'),\n",
              " (12, 'CRITICAL_FACILITY_006B'),\n",
              " (13, 'FACILITY_CARRIED_007'),\n",
              " (14, 'LOCATION_009'),\n",
              " (15, 'MIN_VERT_CLR_010'),\n",
              " (16, 'KILOPOINT_011'),\n",
              " (17, 'BASE_HWY_NETWORK_012'),\n",
              " (18, 'LRS_INV_ROUTE_013A'),\n",
              " (19, 'SUBROUTE_NO_013B'),\n",
              " (20, 'LAT_016'),\n",
              " (21, 'LONG_017'),\n",
              " (22, 'DETOUR_KILOS_019'),\n",
              " (23, 'TOLL_020'),\n",
              " (24, 'MAINTENANCE_021'),\n",
              " (25, 'OWNER_022'),\n",
              " (26, 'FUNCTIONAL_CLASS_026'),\n",
              " (27, 'YEAR_BUILT_027'),\n",
              " (28, 'TRAFFIC_LANES_ON_028A'),\n",
              " (29, 'TRAFFIC_LANES_UND_028B'),\n",
              " (30, 'ADT_029'),\n",
              " (31, 'YEAR_ADT_030'),\n",
              " (32, 'DESIGN_LOAD_031'),\n",
              " (33, 'APPR_WIDTH_MT_032'),\n",
              " (34, 'MEDIAN_CODE_033'),\n",
              " (35, 'DEGREES_SKEW_034'),\n",
              " (36, 'STRUCTURE_FLARED_035'),\n",
              " (37, 'RAILINGS_036A'),\n",
              " (38, 'TRANSITIONS_036B'),\n",
              " (39, 'APPR_RAIL_036C'),\n",
              " (40, 'APPR_RAIL_END_036D'),\n",
              " (41, 'HISTORY_037'),\n",
              " (42, 'NAVIGATION_038'),\n",
              " (43, 'NAV_VERT_CLR_MT_039'),\n",
              " (44, 'NAV_HORR_CLR_MT_040'),\n",
              " (45, 'OPEN_CLOSED_POSTED_041'),\n",
              " (46, 'SERVICE_ON_042A'),\n",
              " (47, 'SERVICE_UND_042B'),\n",
              " (48, 'STRUCTURE_KIND_043A'),\n",
              " (49, 'STRUCTURE_TYPE_043B'),\n",
              " (50, 'APPR_KIND_044A'),\n",
              " (51, 'APPR_TYPE_044B'),\n",
              " (52, 'MAIN_UNIT_SPANS_045'),\n",
              " (53, 'APPR_SPANS_046'),\n",
              " (54, 'HORR_CLR_MT_047'),\n",
              " (55, 'MAX_SPAN_LEN_MT_048'),\n",
              " (56, 'STRUCTURE_LEN_MT_049'),\n",
              " (57, 'LEFT_CURB_MT_050A'),\n",
              " (58, 'RIGHT_CURB_MT_050B'),\n",
              " (59, 'ROADWAY_WIDTH_MT_051'),\n",
              " (60, 'DECK_WIDTH_MT_052'),\n",
              " (61, 'VERT_CLR_OVER_MT_053'),\n",
              " (62, 'VERT_CLR_UND_REF_054A'),\n",
              " (63, 'VERT_CLR_UND_054B'),\n",
              " (64, 'LAT_UND_REF_055A'),\n",
              " (65, 'LAT_UND_MT_055B'),\n",
              " (66, 'LEFT_LAT_UND_MT_056'),\n",
              " (67, 'DECK_COND_058'),\n",
              " (68, 'SUPERSTRUCTURE_COND_059'),\n",
              " (69, 'SUBSTRUCTURE_COND_060'),\n",
              " (70, 'CHANNEL_COND_061'),\n",
              " (71, 'CULVERT_COND_062'),\n",
              " (72, 'OPR_RATING_METH_063'),\n",
              " (73, 'OPERATING_RATING_064'),\n",
              " (74, 'INV_RATING_METH_065'),\n",
              " (75, 'INVENTORY_RATING_066'),\n",
              " (76, 'STRUCTURAL_EVAL_067'),\n",
              " (77, 'DECK_GEOMETRY_EVAL_068'),\n",
              " (78, 'UNDCLRENCE_EVAL_069'),\n",
              " (79, 'POSTING_EVAL_070'),\n",
              " (80, 'WATERWAY_EVAL_071'),\n",
              " (81, 'APPR_ROAD_EVAL_072'),\n",
              " (82, 'WORK_PROPOSED_075A'),\n",
              " (83, 'WORK_DONE_BY_075B'),\n",
              " (84, 'IMP_LEN_MT_076'),\n",
              " (85, 'DATE_OF_INSPECT_090'),\n",
              " (86, 'INSPECT_FREQ_MONTHS_091'),\n",
              " (87, 'FRACTURE_092A'),\n",
              " (88, 'UNDWATER_LOOK_SEE_092B'),\n",
              " (89, 'SPEC_INSPECT_092C'),\n",
              " (90, 'FRACTURE_LAST_DATE_093A'),\n",
              " (91, 'UNDWATER_LAST_DATE_093B'),\n",
              " (92, 'SPEC_LAST_DATE_093C'),\n",
              " (93, 'BRIDGE_IMP_COST_094'),\n",
              " (94, 'ROADWAY_IMP_COST_095'),\n",
              " (95, 'TOTAL_IMP_COST_096'),\n",
              " (96, 'YEAR_OF_IMP_097'),\n",
              " (97, 'OTHER_STATE_CODE_098A'),\n",
              " (98, 'OTHER_STATE_PCNT_098B'),\n",
              " (99, 'OTHR_STATE_STRUC_NO_099'),\n",
              " (100, 'STRAHNET_HIGHWAY_100'),\n",
              " (101, 'PARALLEL_STRUCTURE_101'),\n",
              " (102, 'TRAFFIC_DIRECTION_102'),\n",
              " (103, 'TEMP_STRUCTURE_103'),\n",
              " (104, 'HIGHWAY_SYSTEM_104'),\n",
              " (105, 'FEDERAL_LANDS_105'),\n",
              " (106, 'YEAR_RECONSTRUCTED_106'),\n",
              " (107, 'DECK_STRUCTURE_TYPE_107'),\n",
              " (108, 'SURFACE_TYPE_108A'),\n",
              " (109, 'MEMBRANE_TYPE_108B'),\n",
              " (110, 'DECK_PROTECTION_108C'),\n",
              " (111, 'PERCENT_ADT_TRUCK_109'),\n",
              " (112, 'NATIONAL_NETWORK_110'),\n",
              " (113, 'PIER_PROTECTION_111'),\n",
              " (114, 'BRIDGE_LEN_IND_112'),\n",
              " (115, 'SCOUR_CRITICAL_113'),\n",
              " (116, 'FUTURE_ADT_114'),\n",
              " (117, 'YEAR_OF_FUTURE_ADT_115'),\n",
              " (118, 'MIN_NAV_CLR_MT_116'),\n",
              " (119, 'FED_AGENCY'),\n",
              " (120, 'DATE_LAST_UPDATE'),\n",
              " (121, 'TYPE_LAST_UPDATE'),\n",
              " (122, 'DEDUCT_CODE'),\n",
              " (123, 'REMARKS'),\n",
              " (124, 'PROGRAM_CODE'),\n",
              " (125, 'PROJ_NO'),\n",
              " (126, 'PROJ_SUFFIX'),\n",
              " (127, 'NBI_TYPE_OF_IMP'),\n",
              " (128, 'DTL_TYPE_OF_IMP'),\n",
              " (129, 'SPECIAL_CODE'),\n",
              " (130, 'STEP_CODE'),\n",
              " (131, 'STATUS_WITH_10YR_RULE'),\n",
              " (132, 'SUFFICIENCY_ASTERC'),\n",
              " (133, 'SUFFICIENCY_RATING'),\n",
              " (134, 'STATUS_NO_10YR_RULE'),\n",
              " (135, 'CAT10'),\n",
              " (136, 'CAT23'),\n",
              " (137, 'CAT29')]"
            ]
          },
          "metadata": {
            "tags": []
          },
          "execution_count": 7
        }
      ]
    },
    {
      "cell_type": "markdown",
      "metadata": {
        "id": "wnKtl2gOKCKD",
        "colab_type": "text"
      },
      "source": [
        "**I HAVE ALREADY DONE SOME FEATURE SELECTION, AS NOTED ABOVE,  SO I AM NOT USING ALL 136 FEATURES**"
      ]
    },
    {
      "cell_type": "code",
      "metadata": {
        "colab_type": "code",
        "id": "bniB3AumxiMD",
        "colab": {}
      },
      "source": [
        "bridges99=bridges9.iloc[:,[4,22,23,26,27,31,45,47,54,59,66,67,68,72,74,75,76,106,107,108,109,132]]"
      ],
      "execution_count": 0,
      "outputs": []
    },
    {
      "cell_type": "code",
      "metadata": {
        "id": "xoRhE0BOAODI",
        "colab_type": "code",
        "outputId": "0aed0946-bfa7-4a6b-aa2b-ef6e8038f614",
        "colab": {
          "base_uri": "https://localhost:8080/",
          "height": 215
        }
      },
      "source": [
        "bridges99.head()"
      ],
      "execution_count": 40,
      "outputs": [
        {
          "output_type": "execute_result",
          "data": {
            "text/html": [
              "<div>\n",
              "<style scoped>\n",
              "    .dataframe tbody tr th:only-of-type {\n",
              "        vertical-align: middle;\n",
              "    }\n",
              "\n",
              "    .dataframe tbody tr th {\n",
              "        vertical-align: top;\n",
              "    }\n",
              "\n",
              "    .dataframe thead th {\n",
              "        text-align: right;\n",
              "    }\n",
              "</style>\n",
              "<table border=\"1\" class=\"dataframe\">\n",
              "  <thead>\n",
              "    <tr style=\"text-align: right;\">\n",
              "      <th></th>\n",
              "      <th>SERVICE_LEVEL_005C</th>\n",
              "      <th>TOLL_020</th>\n",
              "      <th>MAINTENANCE_021</th>\n",
              "      <th>YEAR_BUILT_027</th>\n",
              "      <th>TRAFFIC_LANES_ON_028A</th>\n",
              "      <th>DESIGN_LOAD_031</th>\n",
              "      <th>SERVICE_ON_042A</th>\n",
              "      <th>STRUCTURE_KIND_043A</th>\n",
              "      <th>MAX_SPAN_LEN_MT_048</th>\n",
              "      <th>DECK_WIDTH_MT_052</th>\n",
              "      <th>DECK_COND_058</th>\n",
              "      <th>SUPERSTRUCTURE_COND_059</th>\n",
              "      <th>SUBSTRUCTURE_COND_060</th>\n",
              "      <th>OPERATING_RATING_064</th>\n",
              "      <th>INVENTORY_RATING_066</th>\n",
              "      <th>STRUCTURAL_EVAL_067</th>\n",
              "      <th>DECK_GEOMETRY_EVAL_068</th>\n",
              "      <th>DECK_STRUCTURE_TYPE_107</th>\n",
              "      <th>SURFACE_TYPE_108A</th>\n",
              "      <th>MEMBRANE_TYPE_108B</th>\n",
              "      <th>DECK_PROTECTION_108C</th>\n",
              "      <th>SUFFICIENCY_RATING</th>\n",
              "    </tr>\n",
              "  </thead>\n",
              "  <tbody>\n",
              "    <tr>\n",
              "      <th>0</th>\n",
              "      <td>1.0</td>\n",
              "      <td>3</td>\n",
              "      <td>62</td>\n",
              "      <td>1999</td>\n",
              "      <td>2.0</td>\n",
              "      <td>5</td>\n",
              "      <td>1</td>\n",
              "      <td>5</td>\n",
              "      <td>14.7</td>\n",
              "      <td>9.7</td>\n",
              "      <td>8</td>\n",
              "      <td>8</td>\n",
              "      <td>7</td>\n",
              "      <td>44.2</td>\n",
              "      <td>32.4</td>\n",
              "      <td>7</td>\n",
              "      <td>7</td>\n",
              "      <td>2</td>\n",
              "      <td>6</td>\n",
              "      <td>0</td>\n",
              "      <td>1</td>\n",
              "      <td>100.0</td>\n",
              "    </tr>\n",
              "    <tr>\n",
              "      <th>1</th>\n",
              "      <td>1.0</td>\n",
              "      <td>3</td>\n",
              "      <td>62</td>\n",
              "      <td>2002</td>\n",
              "      <td>2.0</td>\n",
              "      <td>5</td>\n",
              "      <td>1</td>\n",
              "      <td>5</td>\n",
              "      <td>12.9</td>\n",
              "      <td>9.8</td>\n",
              "      <td>8</td>\n",
              "      <td>8</td>\n",
              "      <td>7</td>\n",
              "      <td>84.2</td>\n",
              "      <td>34.6</td>\n",
              "      <td>7</td>\n",
              "      <td>6</td>\n",
              "      <td>2</td>\n",
              "      <td>6</td>\n",
              "      <td>0</td>\n",
              "      <td>8</td>\n",
              "      <td>100.0</td>\n",
              "    </tr>\n",
              "    <tr>\n",
              "      <th>2</th>\n",
              "      <td>1.0</td>\n",
              "      <td>3</td>\n",
              "      <td>74</td>\n",
              "      <td>1942</td>\n",
              "      <td>2.0</td>\n",
              "      <td>4</td>\n",
              "      <td>1</td>\n",
              "      <td>1</td>\n",
              "      <td>18.3</td>\n",
              "      <td>9.0</td>\n",
              "      <td>5</td>\n",
              "      <td>5</td>\n",
              "      <td>6</td>\n",
              "      <td>51.7</td>\n",
              "      <td>37.2</td>\n",
              "      <td>5</td>\n",
              "      <td>4</td>\n",
              "      <td>1</td>\n",
              "      <td>1</td>\n",
              "      <td>0</td>\n",
              "      <td>0</td>\n",
              "      <td>69.5</td>\n",
              "    </tr>\n",
              "    <tr>\n",
              "      <th>3</th>\n",
              "      <td>1.0</td>\n",
              "      <td>3</td>\n",
              "      <td>67</td>\n",
              "      <td>1974</td>\n",
              "      <td>2.0</td>\n",
              "      <td>5</td>\n",
              "      <td>1</td>\n",
              "      <td>5</td>\n",
              "      <td>14.0</td>\n",
              "      <td>10.5</td>\n",
              "      <td>7</td>\n",
              "      <td>7</td>\n",
              "      <td>7</td>\n",
              "      <td>44.2</td>\n",
              "      <td>26.6</td>\n",
              "      <td>6</td>\n",
              "      <td>6</td>\n",
              "      <td>1</td>\n",
              "      <td>1</td>\n",
              "      <td>0</td>\n",
              "      <td>0</td>\n",
              "      <td>90.2</td>\n",
              "    </tr>\n",
              "    <tr>\n",
              "      <th>4</th>\n",
              "      <td>1.0</td>\n",
              "      <td>3</td>\n",
              "      <td>67</td>\n",
              "      <td>1937</td>\n",
              "      <td>2.0</td>\n",
              "      <td>4</td>\n",
              "      <td>5</td>\n",
              "      <td>3</td>\n",
              "      <td>53.3</td>\n",
              "      <td>7.8</td>\n",
              "      <td>6</td>\n",
              "      <td>6</td>\n",
              "      <td>7</td>\n",
              "      <td>40.0</td>\n",
              "      <td>23.9</td>\n",
              "      <td>5</td>\n",
              "      <td>2</td>\n",
              "      <td>1</td>\n",
              "      <td>1</td>\n",
              "      <td>0</td>\n",
              "      <td>0</td>\n",
              "      <td>49.9</td>\n",
              "    </tr>\n",
              "  </tbody>\n",
              "</table>\n",
              "</div>"
            ],
            "text/plain": [
              "   SERVICE_LEVEL_005C  TOLL_020  ...  DECK_PROTECTION_108C  SUFFICIENCY_RATING\n",
              "0                 1.0         3  ...                     1               100.0\n",
              "1                 1.0         3  ...                     8               100.0\n",
              "2                 1.0         3  ...                     0                69.5\n",
              "3                 1.0         3  ...                     0                90.2\n",
              "4                 1.0         3  ...                     0                49.9\n",
              "\n",
              "[5 rows x 22 columns]"
            ]
          },
          "metadata": {
            "tags": []
          },
          "execution_count": 40
        }
      ]
    },
    {
      "cell_type": "code",
      "metadata": {
        "id": "DHbT4q7LyyCI",
        "colab_type": "code",
        "colab": {
          "base_uri": "https://localhost:8080/",
          "height": 34
        },
        "outputId": "34d19cfc-4576-466f-cd09-dd104c982657"
      },
      "source": [
        "bridges99.shape\n"
      ],
      "execution_count": 61,
      "outputs": [
        {
          "output_type": "execute_result",
          "data": {
            "text/plain": [
              "(615002, 23)"
            ]
          },
          "metadata": {
            "tags": []
          },
          "execution_count": 61
        }
      ]
    },
    {
      "cell_type": "code",
      "metadata": {
        "id": "KzwMVboPxMh2",
        "colab_type": "code",
        "colab": {
          "base_uri": "https://localhost:8080/",
          "height": 34
        },
        "outputId": "063e6ec6-a0cd-4245-995d-8a7f0e48e514"
      },
      "source": [
        "bridges99['YEAR_BUILT_027'].nunique()"
      ],
      "execution_count": 65,
      "outputs": [
        {
          "output_type": "execute_result",
          "data": {
            "text/plain": [
              "118"
            ]
          },
          "metadata": {
            "tags": []
          },
          "execution_count": 65
        }
      ]
    },
    {
      "cell_type": "code",
      "metadata": {
        "id": "NcFxNPB7x9R8",
        "colab_type": "code",
        "colab": {}
      },
      "source": [
        "bridges99=bridges99[bridges99['YEAR_BUILT_027']>1899]"
      ],
      "execution_count": 0,
      "outputs": []
    },
    {
      "cell_type": "code",
      "metadata": {
        "id": "QqT_oNSYzcun",
        "colab_type": "code",
        "colab": {}
      },
      "source": [
        "bridges99['binned']=pd.cut(bridges99['YEAR_BUILT_027'],bins=[1889,1899,1909,1919,1929,1939,1949,1959,1969,1979,1989,1999,2009,2019], labels=False)"
      ],
      "execution_count": 0,
      "outputs": []
    },
    {
      "cell_type": "code",
      "metadata": {
        "id": "Vdos6FwRy-wd",
        "colab_type": "code",
        "colab": {
          "base_uri": "https://localhost:8080/",
          "height": 34
        },
        "outputId": "6c4d194f-7fd1-494e-ae85-feecf5855a15"
      },
      "source": [
        "bridges99.shape"
      ],
      "execution_count": 63,
      "outputs": [
        {
          "output_type": "execute_result",
          "data": {
            "text/plain": [
              "(613231, 23)"
            ]
          },
          "metadata": {
            "tags": []
          },
          "execution_count": 63
        }
      ]
    },
    {
      "cell_type": "code",
      "metadata": {
        "id": "wtWrMcRYbtHq",
        "colab_type": "code",
        "outputId": "e2cc145a-54dd-484a-c61b-e54a054a6986",
        "colab": {
          "base_uri": "https://localhost:8080/",
          "height": 215
        }
      },
      "source": [
        "bridges99.head()"
      ],
      "execution_count": 67,
      "outputs": [
        {
          "output_type": "execute_result",
          "data": {
            "text/html": [
              "<div>\n",
              "<style scoped>\n",
              "    .dataframe tbody tr th:only-of-type {\n",
              "        vertical-align: middle;\n",
              "    }\n",
              "\n",
              "    .dataframe tbody tr th {\n",
              "        vertical-align: top;\n",
              "    }\n",
              "\n",
              "    .dataframe thead th {\n",
              "        text-align: right;\n",
              "    }\n",
              "</style>\n",
              "<table border=\"1\" class=\"dataframe\">\n",
              "  <thead>\n",
              "    <tr style=\"text-align: right;\">\n",
              "      <th></th>\n",
              "      <th>SERVICE_LEVEL_005C</th>\n",
              "      <th>TOLL_020</th>\n",
              "      <th>MAINTENANCE_021</th>\n",
              "      <th>YEAR_BUILT_027</th>\n",
              "      <th>TRAFFIC_LANES_ON_028A</th>\n",
              "      <th>DESIGN_LOAD_031</th>\n",
              "      <th>SERVICE_ON_042A</th>\n",
              "      <th>STRUCTURE_KIND_043A</th>\n",
              "      <th>MAX_SPAN_LEN_MT_048</th>\n",
              "      <th>DECK_WIDTH_MT_052</th>\n",
              "      <th>DECK_COND_058</th>\n",
              "      <th>SUPERSTRUCTURE_COND_059</th>\n",
              "      <th>SUBSTRUCTURE_COND_060</th>\n",
              "      <th>OPERATING_RATING_064</th>\n",
              "      <th>INVENTORY_RATING_066</th>\n",
              "      <th>STRUCTURAL_EVAL_067</th>\n",
              "      <th>DECK_GEOMETRY_EVAL_068</th>\n",
              "      <th>DECK_STRUCTURE_TYPE_107</th>\n",
              "      <th>SURFACE_TYPE_108A</th>\n",
              "      <th>MEMBRANE_TYPE_108B</th>\n",
              "      <th>DECK_PROTECTION_108C</th>\n",
              "      <th>SUFFICIENCY_RATING</th>\n",
              "      <th>binned</th>\n",
              "    </tr>\n",
              "  </thead>\n",
              "  <tbody>\n",
              "    <tr>\n",
              "      <th>0</th>\n",
              "      <td>1.0</td>\n",
              "      <td>3</td>\n",
              "      <td>62</td>\n",
              "      <td>1999</td>\n",
              "      <td>2.0</td>\n",
              "      <td>5</td>\n",
              "      <td>1</td>\n",
              "      <td>5</td>\n",
              "      <td>14.7</td>\n",
              "      <td>9.7</td>\n",
              "      <td>8</td>\n",
              "      <td>8</td>\n",
              "      <td>7</td>\n",
              "      <td>44.2</td>\n",
              "      <td>32.4</td>\n",
              "      <td>7</td>\n",
              "      <td>7</td>\n",
              "      <td>2</td>\n",
              "      <td>6</td>\n",
              "      <td>0</td>\n",
              "      <td>1</td>\n",
              "      <td>100.0</td>\n",
              "      <td>10</td>\n",
              "    </tr>\n",
              "    <tr>\n",
              "      <th>1</th>\n",
              "      <td>1.0</td>\n",
              "      <td>3</td>\n",
              "      <td>62</td>\n",
              "      <td>2002</td>\n",
              "      <td>2.0</td>\n",
              "      <td>5</td>\n",
              "      <td>1</td>\n",
              "      <td>5</td>\n",
              "      <td>12.9</td>\n",
              "      <td>9.8</td>\n",
              "      <td>8</td>\n",
              "      <td>8</td>\n",
              "      <td>7</td>\n",
              "      <td>84.2</td>\n",
              "      <td>34.6</td>\n",
              "      <td>7</td>\n",
              "      <td>6</td>\n",
              "      <td>2</td>\n",
              "      <td>6</td>\n",
              "      <td>0</td>\n",
              "      <td>8</td>\n",
              "      <td>100.0</td>\n",
              "      <td>11</td>\n",
              "    </tr>\n",
              "    <tr>\n",
              "      <th>2</th>\n",
              "      <td>1.0</td>\n",
              "      <td>3</td>\n",
              "      <td>74</td>\n",
              "      <td>1942</td>\n",
              "      <td>2.0</td>\n",
              "      <td>4</td>\n",
              "      <td>1</td>\n",
              "      <td>1</td>\n",
              "      <td>18.3</td>\n",
              "      <td>9.0</td>\n",
              "      <td>5</td>\n",
              "      <td>5</td>\n",
              "      <td>6</td>\n",
              "      <td>51.7</td>\n",
              "      <td>37.2</td>\n",
              "      <td>5</td>\n",
              "      <td>4</td>\n",
              "      <td>1</td>\n",
              "      <td>1</td>\n",
              "      <td>0</td>\n",
              "      <td>0</td>\n",
              "      <td>69.5</td>\n",
              "      <td>5</td>\n",
              "    </tr>\n",
              "    <tr>\n",
              "      <th>3</th>\n",
              "      <td>1.0</td>\n",
              "      <td>3</td>\n",
              "      <td>67</td>\n",
              "      <td>1974</td>\n",
              "      <td>2.0</td>\n",
              "      <td>5</td>\n",
              "      <td>1</td>\n",
              "      <td>5</td>\n",
              "      <td>14.0</td>\n",
              "      <td>10.5</td>\n",
              "      <td>7</td>\n",
              "      <td>7</td>\n",
              "      <td>7</td>\n",
              "      <td>44.2</td>\n",
              "      <td>26.6</td>\n",
              "      <td>6</td>\n",
              "      <td>6</td>\n",
              "      <td>1</td>\n",
              "      <td>1</td>\n",
              "      <td>0</td>\n",
              "      <td>0</td>\n",
              "      <td>90.2</td>\n",
              "      <td>8</td>\n",
              "    </tr>\n",
              "    <tr>\n",
              "      <th>4</th>\n",
              "      <td>1.0</td>\n",
              "      <td>3</td>\n",
              "      <td>67</td>\n",
              "      <td>1937</td>\n",
              "      <td>2.0</td>\n",
              "      <td>4</td>\n",
              "      <td>5</td>\n",
              "      <td>3</td>\n",
              "      <td>53.3</td>\n",
              "      <td>7.8</td>\n",
              "      <td>6</td>\n",
              "      <td>6</td>\n",
              "      <td>7</td>\n",
              "      <td>40.0</td>\n",
              "      <td>23.9</td>\n",
              "      <td>5</td>\n",
              "      <td>2</td>\n",
              "      <td>1</td>\n",
              "      <td>1</td>\n",
              "      <td>0</td>\n",
              "      <td>0</td>\n",
              "      <td>49.9</td>\n",
              "      <td>4</td>\n",
              "    </tr>\n",
              "  </tbody>\n",
              "</table>\n",
              "</div>"
            ],
            "text/plain": [
              "   SERVICE_LEVEL_005C  TOLL_020  ...  SUFFICIENCY_RATING  binned\n",
              "0                 1.0         3  ...               100.0      10\n",
              "1                 1.0         3  ...               100.0      11\n",
              "2                 1.0         3  ...                69.5       5\n",
              "3                 1.0         3  ...                90.2       8\n",
              "4                 1.0         3  ...                49.9       4\n",
              "\n",
              "[5 rows x 23 columns]"
            ]
          },
          "metadata": {
            "tags": []
          },
          "execution_count": 67
        }
      ]
    },
    {
      "cell_type": "code",
      "metadata": {
        "id": "8So3gK9_wfOA",
        "colab_type": "code",
        "colab": {}
      },
      "source": [
        ""
      ],
      "execution_count": 0,
      "outputs": []
    },
    {
      "cell_type": "markdown",
      "metadata": {
        "id": "mFAA33RJeVv8",
        "colab_type": "text"
      },
      "source": [
        "**GET AN OVERVIEW OF OUR DATA**"
      ]
    },
    {
      "cell_type": "code",
      "metadata": {
        "id": "sUtqBS9teNUX",
        "colab_type": "code",
        "outputId": "3bd09f19-0f82-4cbb-dbbb-1433a45dfefa",
        "colab": {
          "base_uri": "https://localhost:8080/",
          "height": 487
        }
      },
      "source": [
        "bridges99.info()"
      ],
      "execution_count": 68,
      "outputs": [
        {
          "output_type": "stream",
          "text": [
            "<class 'pandas.core.frame.DataFrame'>\n",
            "Int64Index: 613231 entries, 0 to 615001\n",
            "Data columns (total 23 columns):\n",
            "SERVICE_LEVEL_005C         613228 non-null float64\n",
            "TOLL_020                   613231 non-null int64\n",
            "MAINTENANCE_021            613231 non-null int64\n",
            "YEAR_BUILT_027             613231 non-null int64\n",
            "TRAFFIC_LANES_ON_028A      613227 non-null float64\n",
            "DESIGN_LOAD_031            613231 non-null object\n",
            "SERVICE_ON_042A            613231 non-null int64\n",
            "STRUCTURE_KIND_043A        613231 non-null int64\n",
            "MAX_SPAN_LEN_MT_048        613231 non-null float64\n",
            "DECK_WIDTH_MT_052          613227 non-null float64\n",
            "DECK_COND_058              613231 non-null object\n",
            "SUPERSTRUCTURE_COND_059    613231 non-null object\n",
            "SUBSTRUCTURE_COND_060      613231 non-null object\n",
            "OPERATING_RATING_064       609286 non-null float64\n",
            "INVENTORY_RATING_066       609322 non-null float64\n",
            "STRUCTURAL_EVAL_067        613231 non-null object\n",
            "DECK_GEOMETRY_EVAL_068     613231 non-null object\n",
            "DECK_STRUCTURE_TYPE_107    613231 non-null object\n",
            "SURFACE_TYPE_108A          613230 non-null object\n",
            "MEMBRANE_TYPE_108B         613229 non-null object\n",
            "DECK_PROTECTION_108C       613230 non-null object\n",
            "SUFFICIENCY_RATING         613231 non-null float64\n",
            "binned                     613231 non-null int64\n",
            "dtypes: float64(7), int64(6), object(10)\n",
            "memory usage: 112.3+ MB\n"
          ],
          "name": "stdout"
        }
      ]
    },
    {
      "cell_type": "markdown",
      "metadata": {
        "id": "tI8bldZyn-Zr",
        "colab_type": "text"
      },
      "source": [
        "**CHECK FOR NAN**"
      ]
    },
    {
      "cell_type": "code",
      "metadata": {
        "id": "ZjEZv8-EnzRl",
        "colab_type": "code",
        "outputId": "bbced8f1-497e-43cc-be89-e68f315b37ee",
        "colab": {
          "base_uri": "https://localhost:8080/",
          "height": 420
        }
      },
      "source": [
        "bridges99.isna().sum()"
      ],
      "execution_count": 69,
      "outputs": [
        {
          "output_type": "execute_result",
          "data": {
            "text/plain": [
              "SERVICE_LEVEL_005C            3\n",
              "TOLL_020                      0\n",
              "MAINTENANCE_021               0\n",
              "YEAR_BUILT_027                0\n",
              "TRAFFIC_LANES_ON_028A         4\n",
              "DESIGN_LOAD_031               0\n",
              "SERVICE_ON_042A               0\n",
              "STRUCTURE_KIND_043A           0\n",
              "MAX_SPAN_LEN_MT_048           0\n",
              "DECK_WIDTH_MT_052             4\n",
              "DECK_COND_058                 0\n",
              "SUPERSTRUCTURE_COND_059       0\n",
              "SUBSTRUCTURE_COND_060         0\n",
              "OPERATING_RATING_064       3945\n",
              "INVENTORY_RATING_066       3909\n",
              "STRUCTURAL_EVAL_067           0\n",
              "DECK_GEOMETRY_EVAL_068        0\n",
              "DECK_STRUCTURE_TYPE_107       0\n",
              "SURFACE_TYPE_108A             1\n",
              "MEMBRANE_TYPE_108B            2\n",
              "DECK_PROTECTION_108C          1\n",
              "SUFFICIENCY_RATING            0\n",
              "binned                        0\n",
              "dtype: int64"
            ]
          },
          "metadata": {
            "tags": []
          },
          "execution_count": 69
        }
      ]
    },
    {
      "cell_type": "markdown",
      "metadata": {
        "id": "-sZtu7HazYmY",
        "colab_type": "text"
      },
      "source": [
        "**DROP NANs -- LESS THAN .6% OF DATA**"
      ]
    },
    {
      "cell_type": "code",
      "metadata": {
        "id": "uU5IQopbXB00",
        "colab_type": "code",
        "colab": {}
      },
      "source": [
        "bridges99.dropna(how='any',inplace=True,axis=0)"
      ],
      "execution_count": 0,
      "outputs": []
    },
    {
      "cell_type": "code",
      "metadata": {
        "id": "VeedaPE_o3h_",
        "colab_type": "code",
        "outputId": "12df85ef-d6de-4669-8fe4-e8f2f7746e93",
        "colab": {
          "base_uri": "https://localhost:8080/",
          "height": 487
        }
      },
      "source": [
        "bridges99.info()"
      ],
      "execution_count": 71,
      "outputs": [
        {
          "output_type": "stream",
          "text": [
            "<class 'pandas.core.frame.DataFrame'>\n",
            "Int64Index: 609268 entries, 0 to 615001\n",
            "Data columns (total 23 columns):\n",
            "SERVICE_LEVEL_005C         609268 non-null float64\n",
            "TOLL_020                   609268 non-null int64\n",
            "MAINTENANCE_021            609268 non-null int64\n",
            "YEAR_BUILT_027             609268 non-null int64\n",
            "TRAFFIC_LANES_ON_028A      609268 non-null float64\n",
            "DESIGN_LOAD_031            609268 non-null object\n",
            "SERVICE_ON_042A            609268 non-null int64\n",
            "STRUCTURE_KIND_043A        609268 non-null int64\n",
            "MAX_SPAN_LEN_MT_048        609268 non-null float64\n",
            "DECK_WIDTH_MT_052          609268 non-null float64\n",
            "DECK_COND_058              609268 non-null object\n",
            "SUPERSTRUCTURE_COND_059    609268 non-null object\n",
            "SUBSTRUCTURE_COND_060      609268 non-null object\n",
            "OPERATING_RATING_064       609268 non-null float64\n",
            "INVENTORY_RATING_066       609268 non-null float64\n",
            "STRUCTURAL_EVAL_067        609268 non-null object\n",
            "DECK_GEOMETRY_EVAL_068     609268 non-null object\n",
            "DECK_STRUCTURE_TYPE_107    609268 non-null object\n",
            "SURFACE_TYPE_108A          609268 non-null object\n",
            "MEMBRANE_TYPE_108B         609268 non-null object\n",
            "DECK_PROTECTION_108C       609268 non-null object\n",
            "SUFFICIENCY_RATING         609268 non-null float64\n",
            "binned                     609268 non-null int64\n",
            "dtypes: float64(7), int64(6), object(10)\n",
            "memory usage: 111.6+ MB\n"
          ],
          "name": "stdout"
        }
      ]
    },
    {
      "cell_type": "code",
      "metadata": {
        "id": "GmN8aZv6oZq4",
        "colab_type": "code",
        "outputId": "8a9c442d-1233-4d74-afdd-c3929a5626ef",
        "colab": {
          "base_uri": "https://localhost:8080/",
          "height": 185
        }
      },
      "source": [
        "bridges99['STRUCTURAL_EVAL_067'].value_counts(dropna=False)"
      ],
      "execution_count": 72,
      "outputs": [
        {
          "output_type": "execute_result",
          "data": {
            "text/plain": [
              "7    176652\n",
              "6    172155\n",
              "5    105774\n",
              "8     72211\n",
              "4     44175\n",
              "2     14959\n",
              "3     10399\n",
              "9      9815\n",
              "0      3128\n",
              "Name: STRUCTURAL_EVAL_067, dtype: int64"
            ]
          },
          "metadata": {
            "tags": []
          },
          "execution_count": 72
        }
      ]
    },
    {
      "cell_type": "markdown",
      "metadata": {
        "id": "UaMv415Ajegq",
        "colab_type": "text"
      },
      "source": [
        "**THE TARGET IS STRUCTURAL_EVALUATION**\n",
        "\n",
        "**THIS IS HOW NBI DETERMINES IF BRIDGE IS \"STRUCTURALLY DEFICIENT\"**"
      ]
    },
    {
      "cell_type": "markdown",
      "metadata": {
        "id": "EQqNiSFzBu3n",
        "colab_type": "text"
      },
      "source": [
        "**CREATE NEW FEATURE - MAIN SPAN SURFACE AREA  =MAX_SPAN_LEN_MT_048 X DECK_WIDTH_MT_052**\n",
        "\n",
        "**THE TOTAL SURFACE AREA OF THE MAIN SPAN HAS BEEN USED IN SOME STUDIES**"
      ]
    },
    {
      "cell_type": "code",
      "metadata": {
        "id": "3TT70qkmCIc6",
        "colab_type": "code",
        "colab": {}
      },
      "source": [
        "bridges99['surface_area']=bridges99['MAX_SPAN_LEN_MT_048']*bridges99['DECK_WIDTH_MT_052']"
      ],
      "execution_count": 0,
      "outputs": []
    },
    {
      "cell_type": "code",
      "metadata": {
        "id": "lsx9ETe7Cgal",
        "colab_type": "code",
        "outputId": "bf6e9b8a-47e4-483e-a274-cb83114e5ec3",
        "colab": {
          "base_uri": "https://localhost:8080/",
          "height": 215
        }
      },
      "source": [
        "bridges99.head()"
      ],
      "execution_count": 74,
      "outputs": [
        {
          "output_type": "execute_result",
          "data": {
            "text/html": [
              "<div>\n",
              "<style scoped>\n",
              "    .dataframe tbody tr th:only-of-type {\n",
              "        vertical-align: middle;\n",
              "    }\n",
              "\n",
              "    .dataframe tbody tr th {\n",
              "        vertical-align: top;\n",
              "    }\n",
              "\n",
              "    .dataframe thead th {\n",
              "        text-align: right;\n",
              "    }\n",
              "</style>\n",
              "<table border=\"1\" class=\"dataframe\">\n",
              "  <thead>\n",
              "    <tr style=\"text-align: right;\">\n",
              "      <th></th>\n",
              "      <th>SERVICE_LEVEL_005C</th>\n",
              "      <th>TOLL_020</th>\n",
              "      <th>MAINTENANCE_021</th>\n",
              "      <th>YEAR_BUILT_027</th>\n",
              "      <th>TRAFFIC_LANES_ON_028A</th>\n",
              "      <th>DESIGN_LOAD_031</th>\n",
              "      <th>SERVICE_ON_042A</th>\n",
              "      <th>STRUCTURE_KIND_043A</th>\n",
              "      <th>MAX_SPAN_LEN_MT_048</th>\n",
              "      <th>DECK_WIDTH_MT_052</th>\n",
              "      <th>DECK_COND_058</th>\n",
              "      <th>SUPERSTRUCTURE_COND_059</th>\n",
              "      <th>SUBSTRUCTURE_COND_060</th>\n",
              "      <th>OPERATING_RATING_064</th>\n",
              "      <th>INVENTORY_RATING_066</th>\n",
              "      <th>STRUCTURAL_EVAL_067</th>\n",
              "      <th>DECK_GEOMETRY_EVAL_068</th>\n",
              "      <th>DECK_STRUCTURE_TYPE_107</th>\n",
              "      <th>SURFACE_TYPE_108A</th>\n",
              "      <th>MEMBRANE_TYPE_108B</th>\n",
              "      <th>DECK_PROTECTION_108C</th>\n",
              "      <th>SUFFICIENCY_RATING</th>\n",
              "      <th>binned</th>\n",
              "      <th>surface_area</th>\n",
              "    </tr>\n",
              "  </thead>\n",
              "  <tbody>\n",
              "    <tr>\n",
              "      <th>0</th>\n",
              "      <td>1.0</td>\n",
              "      <td>3</td>\n",
              "      <td>62</td>\n",
              "      <td>1999</td>\n",
              "      <td>2.0</td>\n",
              "      <td>5</td>\n",
              "      <td>1</td>\n",
              "      <td>5</td>\n",
              "      <td>14.7</td>\n",
              "      <td>9.7</td>\n",
              "      <td>8</td>\n",
              "      <td>8</td>\n",
              "      <td>7</td>\n",
              "      <td>44.2</td>\n",
              "      <td>32.4</td>\n",
              "      <td>7</td>\n",
              "      <td>7</td>\n",
              "      <td>2</td>\n",
              "      <td>6</td>\n",
              "      <td>0</td>\n",
              "      <td>1</td>\n",
              "      <td>100.0</td>\n",
              "      <td>10</td>\n",
              "      <td>142.59</td>\n",
              "    </tr>\n",
              "    <tr>\n",
              "      <th>1</th>\n",
              "      <td>1.0</td>\n",
              "      <td>3</td>\n",
              "      <td>62</td>\n",
              "      <td>2002</td>\n",
              "      <td>2.0</td>\n",
              "      <td>5</td>\n",
              "      <td>1</td>\n",
              "      <td>5</td>\n",
              "      <td>12.9</td>\n",
              "      <td>9.8</td>\n",
              "      <td>8</td>\n",
              "      <td>8</td>\n",
              "      <td>7</td>\n",
              "      <td>84.2</td>\n",
              "      <td>34.6</td>\n",
              "      <td>7</td>\n",
              "      <td>6</td>\n",
              "      <td>2</td>\n",
              "      <td>6</td>\n",
              "      <td>0</td>\n",
              "      <td>8</td>\n",
              "      <td>100.0</td>\n",
              "      <td>11</td>\n",
              "      <td>126.42</td>\n",
              "    </tr>\n",
              "    <tr>\n",
              "      <th>2</th>\n",
              "      <td>1.0</td>\n",
              "      <td>3</td>\n",
              "      <td>74</td>\n",
              "      <td>1942</td>\n",
              "      <td>2.0</td>\n",
              "      <td>4</td>\n",
              "      <td>1</td>\n",
              "      <td>1</td>\n",
              "      <td>18.3</td>\n",
              "      <td>9.0</td>\n",
              "      <td>5</td>\n",
              "      <td>5</td>\n",
              "      <td>6</td>\n",
              "      <td>51.7</td>\n",
              "      <td>37.2</td>\n",
              "      <td>5</td>\n",
              "      <td>4</td>\n",
              "      <td>1</td>\n",
              "      <td>1</td>\n",
              "      <td>0</td>\n",
              "      <td>0</td>\n",
              "      <td>69.5</td>\n",
              "      <td>5</td>\n",
              "      <td>164.70</td>\n",
              "    </tr>\n",
              "    <tr>\n",
              "      <th>3</th>\n",
              "      <td>1.0</td>\n",
              "      <td>3</td>\n",
              "      <td>67</td>\n",
              "      <td>1974</td>\n",
              "      <td>2.0</td>\n",
              "      <td>5</td>\n",
              "      <td>1</td>\n",
              "      <td>5</td>\n",
              "      <td>14.0</td>\n",
              "      <td>10.5</td>\n",
              "      <td>7</td>\n",
              "      <td>7</td>\n",
              "      <td>7</td>\n",
              "      <td>44.2</td>\n",
              "      <td>26.6</td>\n",
              "      <td>6</td>\n",
              "      <td>6</td>\n",
              "      <td>1</td>\n",
              "      <td>1</td>\n",
              "      <td>0</td>\n",
              "      <td>0</td>\n",
              "      <td>90.2</td>\n",
              "      <td>8</td>\n",
              "      <td>147.00</td>\n",
              "    </tr>\n",
              "    <tr>\n",
              "      <th>4</th>\n",
              "      <td>1.0</td>\n",
              "      <td>3</td>\n",
              "      <td>67</td>\n",
              "      <td>1937</td>\n",
              "      <td>2.0</td>\n",
              "      <td>4</td>\n",
              "      <td>5</td>\n",
              "      <td>3</td>\n",
              "      <td>53.3</td>\n",
              "      <td>7.8</td>\n",
              "      <td>6</td>\n",
              "      <td>6</td>\n",
              "      <td>7</td>\n",
              "      <td>40.0</td>\n",
              "      <td>23.9</td>\n",
              "      <td>5</td>\n",
              "      <td>2</td>\n",
              "      <td>1</td>\n",
              "      <td>1</td>\n",
              "      <td>0</td>\n",
              "      <td>0</td>\n",
              "      <td>49.9</td>\n",
              "      <td>4</td>\n",
              "      <td>415.74</td>\n",
              "    </tr>\n",
              "  </tbody>\n",
              "</table>\n",
              "</div>"
            ],
            "text/plain": [
              "   SERVICE_LEVEL_005C  TOLL_020  ...  binned  surface_area\n",
              "0                 1.0         3  ...      10        142.59\n",
              "1                 1.0         3  ...      11        126.42\n",
              "2                 1.0         3  ...       5        164.70\n",
              "3                 1.0         3  ...       8        147.00\n",
              "4                 1.0         3  ...       4        415.74\n",
              "\n",
              "[5 rows x 24 columns]"
            ]
          },
          "metadata": {
            "tags": []
          },
          "execution_count": 74
        }
      ]
    },
    {
      "cell_type": "code",
      "metadata": {
        "id": "CrF8pcXm0CTq",
        "colab_type": "code",
        "outputId": "3db24c44-156d-4e1f-cc75-a211679192b9",
        "colab": {
          "base_uri": "https://localhost:8080/",
          "height": 218
        }
      },
      "source": [
        "bridges99['SURFACE_TYPE_108A'].value_counts()"
      ],
      "execution_count": 75,
      "outputs": [
        {
          "output_type": "execute_result",
          "data": {
            "text/plain": [
              "6    180393\n",
              "1    172669\n",
              "N     96347\n",
              "0     62675\n",
              "8     26023\n",
              "2     17351\n",
              "7     14052\n",
              "3     13350\n",
              "9     10613\n",
              "4      9246\n",
              "5      6549\n",
              "Name: SURFACE_TYPE_108A, dtype: int64"
            ]
          },
          "metadata": {
            "tags": []
          },
          "execution_count": 75
        }
      ]
    },
    {
      "cell_type": "markdown",
      "metadata": {
        "id": "YYGVdKMHtwwv",
        "colab_type": "text"
      },
      "source": [
        "Type of Service On Bridge\n",
        "\n",
        "Code            Description\n",
        "\n",
        "1                  Highway\n",
        "\n",
        "2                  Railroad\n",
        "\n",
        "3                  Pedestrian-bicycle\n",
        "\n",
        "4                  Highway-railroad\n",
        "\n",
        "5                  Highway-pedestrian\n",
        "\n",
        "6                  Overpass structure at an interchange or second level of a multilevel interchange\n",
        "\n",
        "7                  Third level (Interchange)\n",
        "\n",
        "8                  Fourth level (Interchange)\n",
        "\n",
        "9                  Building of plaza\n",
        "\n",
        "\n",
        "0                  Other\n",
        "\n",
        "99                 Miscoded data"
      ]
    },
    {
      "cell_type": "markdown",
      "metadata": {
        "id": "lS8ouamnHyeL",
        "colab_type": "text"
      },
      "source": [
        "**KEEP ONLY BRIDGES THAT ARE HIGHWAY OR HIGHWAY-PEDESTRIAN (10,246 dropped)**\n",
        "\n",
        "**Again, I have to limit this project so I am keeping the two designation that make up over 90% of the bridges**."
      ]
    },
    {
      "cell_type": "code",
      "metadata": {
        "id": "xHRiET75X0Vq",
        "colab_type": "code",
        "outputId": "9f4caf5c-cb86-4509-c8d6-b8609c8b7748",
        "colab": {
          "base_uri": "https://localhost:8080/",
          "height": 134
        }
      },
      "source": [
        "bridges9['SERVICE_ON_042A'].value_counts(dropna=False)"
      ],
      "execution_count": 76,
      "outputs": [
        {
          "output_type": "execute_result",
          "data": {
            "text/plain": [
              "1    550652\n",
              "5     53308\n",
              "6     10074\n",
              "7       575\n",
              "4       223\n",
              "8       170\n",
              "Name: SERVICE_ON_042A, dtype: int64"
            ]
          },
          "metadata": {
            "tags": []
          },
          "execution_count": 76
        }
      ]
    },
    {
      "cell_type": "code",
      "metadata": {
        "id": "wPIUcF520yKX",
        "colab_type": "code",
        "colab": {}
      },
      "source": [
        "bridges99=bridges99[(bridges99['SERVICE_ON_042A']==1) | (bridges99['SERVICE_ON_042A']==5) ]"
      ],
      "execution_count": 0,
      "outputs": []
    },
    {
      "cell_type": "code",
      "metadata": {
        "id": "u7TBj293vEFq",
        "colab_type": "code",
        "outputId": "a64cf041-e351-4a0d-a579-eef4c0f28123",
        "colab": {
          "base_uri": "https://localhost:8080/",
          "height": 67
        }
      },
      "source": [
        "bridges99['SERVICE_ON_042A'].value_counts()"
      ],
      "execution_count": 78,
      "outputs": [
        {
          "output_type": "execute_result",
          "data": {
            "text/plain": [
              "1    545605\n",
              "5     52638\n",
              "Name: SERVICE_ON_042A, dtype: int64"
            ]
          },
          "metadata": {
            "tags": []
          },
          "execution_count": 78
        }
      ]
    },
    {
      "cell_type": "code",
      "metadata": {
        "id": "M6MF_YgeCDlS",
        "colab_type": "code",
        "outputId": "03ee3246-4c71-46fb-c0d4-ac3f77178431",
        "colab": {
          "base_uri": "https://localhost:8080/",
          "height": 34
        }
      },
      "source": [
        "bridges99.shape"
      ],
      "execution_count": 79,
      "outputs": [
        {
          "output_type": "execute_result",
          "data": {
            "text/plain": [
              "(598243, 24)"
            ]
          },
          "metadata": {
            "tags": []
          },
          "execution_count": 79
        }
      ]
    },
    {
      "cell_type": "markdown",
      "metadata": {
        "id": "4aqCWEi8ls_m",
        "colab_type": "text"
      },
      "source": [
        "**CONVERT STRUCTURAL_EVALUATION TO NUMERIC**"
      ]
    },
    {
      "cell_type": "code",
      "metadata": {
        "id": "f94vkKzLmwr5",
        "colab_type": "code",
        "outputId": "0535b6d1-9c3d-4d1b-b1c5-d1ee427de473",
        "colab": {
          "base_uri": "https://localhost:8080/",
          "height": 34
        }
      },
      "source": [
        "bridges99['STRUCTURAL_EVAL_067']=bridges99['STRUCTURAL_EVAL_067'].str.strip('()')\n",
        "type(bridges99['STRUCTURAL_EVAL_067'][0])"
      ],
      "execution_count": 80,
      "outputs": [
        {
          "output_type": "execute_result",
          "data": {
            "text/plain": [
              "str"
            ]
          },
          "metadata": {
            "tags": []
          },
          "execution_count": 80
        }
      ]
    },
    {
      "cell_type": "code",
      "metadata": {
        "id": "h_Z1LLU0dbSY",
        "colab_type": "code",
        "colab": {}
      },
      "source": [
        "bridges99['STRUCTURAL_EVAL_067']=bridges99['STRUCTURAL_EVAL_067'].astype(int)"
      ],
      "execution_count": 0,
      "outputs": []
    },
    {
      "cell_type": "code",
      "metadata": {
        "id": "Ims3uA3Qav3k",
        "colab_type": "code",
        "outputId": "1331445b-9dea-4712-dc69-88f9613ebbf6",
        "colab": {
          "base_uri": "https://localhost:8080/",
          "height": 504
        }
      },
      "source": [
        "bridges99.info()"
      ],
      "execution_count": 82,
      "outputs": [
        {
          "output_type": "stream",
          "text": [
            "<class 'pandas.core.frame.DataFrame'>\n",
            "Int64Index: 598243 entries, 0 to 615001\n",
            "Data columns (total 24 columns):\n",
            "SERVICE_LEVEL_005C         598243 non-null float64\n",
            "TOLL_020                   598243 non-null int64\n",
            "MAINTENANCE_021            598243 non-null int64\n",
            "YEAR_BUILT_027             598243 non-null int64\n",
            "TRAFFIC_LANES_ON_028A      598243 non-null float64\n",
            "DESIGN_LOAD_031            598243 non-null object\n",
            "SERVICE_ON_042A            598243 non-null int64\n",
            "STRUCTURE_KIND_043A        598243 non-null int64\n",
            "MAX_SPAN_LEN_MT_048        598243 non-null float64\n",
            "DECK_WIDTH_MT_052          598243 non-null float64\n",
            "DECK_COND_058              598243 non-null object\n",
            "SUPERSTRUCTURE_COND_059    598243 non-null object\n",
            "SUBSTRUCTURE_COND_060      598243 non-null object\n",
            "OPERATING_RATING_064       598243 non-null float64\n",
            "INVENTORY_RATING_066       598243 non-null float64\n",
            "STRUCTURAL_EVAL_067        598243 non-null int64\n",
            "DECK_GEOMETRY_EVAL_068     598243 non-null object\n",
            "DECK_STRUCTURE_TYPE_107    598243 non-null object\n",
            "SURFACE_TYPE_108A          598243 non-null object\n",
            "MEMBRANE_TYPE_108B         598243 non-null object\n",
            "DECK_PROTECTION_108C       598243 non-null object\n",
            "SUFFICIENCY_RATING         598243 non-null float64\n",
            "binned                     598243 non-null int64\n",
            "surface_area               598243 non-null float64\n",
            "dtypes: float64(8), int64(7), object(9)\n",
            "memory usage: 134.1+ MB\n"
          ],
          "name": "stdout"
        }
      ]
    },
    {
      "cell_type": "markdown",
      "metadata": {
        "id": "V_jqkj1Tgy13",
        "colab_type": "text"
      },
      "source": [
        "**HISTOGRAMS OF NUMERICAL FEATURES**\n",
        "\n",
        "**TO HELP WITH FEATURE ENGINEERING**"
      ]
    },
    {
      "cell_type": "code",
      "metadata": {
        "id": "J-0LxIYAK879",
        "colab_type": "code",
        "outputId": "f69495c3-e2db-4c20-990b-628d7fc51a55",
        "colab": {
          "base_uri": "https://localhost:8080/",
          "height": 657
        }
      },
      "source": [
        "plt.rcParams[\"figure.figsize\"] = [12,9]\n",
        "bridges99.hist()\n",
        "plt.tight_layout()"
      ],
      "execution_count": 83,
      "outputs": [
        {
          "output_type": "display_data",
          "data": {
            "image/png": "[encoded data removed]",
            "text/plain": [
              "<Figure size 864x648 with 16 Axes>"
            ]
          },
          "metadata": {
            "tags": []
          }
        }
      ]
    },
    {
      "cell_type": "code",
      "metadata": {
        "id": "MEg0t5KbFJEf",
        "colab_type": "code",
        "outputId": "2a9761ad-0044-4cdf-991b-f5ad26701982",
        "colab": {
          "base_uri": "https://localhost:8080/",
          "height": 126
        }
      },
      "source": [
        "bridges99.head(2)"
      ],
      "execution_count": 84,
      "outputs": [
        {
          "output_type": "execute_result",
          "data": {
            "text/html": [
              "<div>\n",
              "<style scoped>\n",
              "    .dataframe tbody tr th:only-of-type {\n",
              "        vertical-align: middle;\n",
              "    }\n",
              "\n",
              "    .dataframe tbody tr th {\n",
              "        vertical-align: top;\n",
              "    }\n",
              "\n",
              "    .dataframe thead th {\n",
              "        text-align: right;\n",
              "    }\n",
              "</style>\n",
              "<table border=\"1\" class=\"dataframe\">\n",
              "  <thead>\n",
              "    <tr style=\"text-align: right;\">\n",
              "      <th></th>\n",
              "      <th>SERVICE_LEVEL_005C</th>\n",
              "      <th>TOLL_020</th>\n",
              "      <th>MAINTENANCE_021</th>\n",
              "      <th>YEAR_BUILT_027</th>\n",
              "      <th>TRAFFIC_LANES_ON_028A</th>\n",
              "      <th>DESIGN_LOAD_031</th>\n",
              "      <th>SERVICE_ON_042A</th>\n",
              "      <th>STRUCTURE_KIND_043A</th>\n",
              "      <th>MAX_SPAN_LEN_MT_048</th>\n",
              "      <th>DECK_WIDTH_MT_052</th>\n",
              "      <th>DECK_COND_058</th>\n",
              "      <th>SUPERSTRUCTURE_COND_059</th>\n",
              "      <th>SUBSTRUCTURE_COND_060</th>\n",
              "      <th>OPERATING_RATING_064</th>\n",
              "      <th>INVENTORY_RATING_066</th>\n",
              "      <th>STRUCTURAL_EVAL_067</th>\n",
              "      <th>DECK_GEOMETRY_EVAL_068</th>\n",
              "      <th>DECK_STRUCTURE_TYPE_107</th>\n",
              "      <th>SURFACE_TYPE_108A</th>\n",
              "      <th>MEMBRANE_TYPE_108B</th>\n",
              "      <th>DECK_PROTECTION_108C</th>\n",
              "      <th>SUFFICIENCY_RATING</th>\n",
              "      <th>binned</th>\n",
              "      <th>surface_area</th>\n",
              "    </tr>\n",
              "  </thead>\n",
              "  <tbody>\n",
              "    <tr>\n",
              "      <th>0</th>\n",
              "      <td>1.0</td>\n",
              "      <td>3</td>\n",
              "      <td>62</td>\n",
              "      <td>1999</td>\n",
              "      <td>2.0</td>\n",
              "      <td>5</td>\n",
              "      <td>1</td>\n",
              "      <td>5</td>\n",
              "      <td>14.7</td>\n",
              "      <td>9.7</td>\n",
              "      <td>8</td>\n",
              "      <td>8</td>\n",
              "      <td>7</td>\n",
              "      <td>44.2</td>\n",
              "      <td>32.4</td>\n",
              "      <td>7</td>\n",
              "      <td>7</td>\n",
              "      <td>2</td>\n",
              "      <td>6</td>\n",
              "      <td>0</td>\n",
              "      <td>1</td>\n",
              "      <td>100.0</td>\n",
              "      <td>10</td>\n",
              "      <td>142.59</td>\n",
              "    </tr>\n",
              "    <tr>\n",
              "      <th>1</th>\n",
              "      <td>1.0</td>\n",
              "      <td>3</td>\n",
              "      <td>62</td>\n",
              "      <td>2002</td>\n",
              "      <td>2.0</td>\n",
              "      <td>5</td>\n",
              "      <td>1</td>\n",
              "      <td>5</td>\n",
              "      <td>12.9</td>\n",
              "      <td>9.8</td>\n",
              "      <td>8</td>\n",
              "      <td>8</td>\n",
              "      <td>7</td>\n",
              "      <td>84.2</td>\n",
              "      <td>34.6</td>\n",
              "      <td>7</td>\n",
              "      <td>6</td>\n",
              "      <td>2</td>\n",
              "      <td>6</td>\n",
              "      <td>0</td>\n",
              "      <td>8</td>\n",
              "      <td>100.0</td>\n",
              "      <td>11</td>\n",
              "      <td>126.42</td>\n",
              "    </tr>\n",
              "  </tbody>\n",
              "</table>\n",
              "</div>"
            ],
            "text/plain": [
              "   SERVICE_LEVEL_005C  TOLL_020  ...  binned  surface_area\n",
              "0                 1.0         3  ...      10        142.59\n",
              "1                 1.0         3  ...      11        126.42\n",
              "\n",
              "[2 rows x 24 columns]"
            ]
          },
          "metadata": {
            "tags": []
          },
          "execution_count": 84
        }
      ]
    },
    {
      "cell_type": "markdown",
      "metadata": {
        "id": "9j5KKzqfGYZT",
        "colab_type": "text"
      },
      "source": [
        "**NOW THAT ALL TOLL VALUES ARE IDENTICAL  -- TOLL  CONTRIBUTES NOTHING TO MODEL SO DROP** "
      ]
    },
    {
      "cell_type": "code",
      "metadata": {
        "id": "LeIQzvgdGpUS",
        "colab_type": "code",
        "colab": {}
      },
      "source": [
        "bridges99.drop('TOLL_020',axis=1,inplace=True)"
      ],
      "execution_count": 0,
      "outputs": []
    },
    {
      "cell_type": "code",
      "metadata": {
        "id": "Ow6i3DdJG6lB",
        "colab_type": "code",
        "outputId": "66d2560e-09c2-42f9-9e2c-f30e692d16c5",
        "colab": {
          "base_uri": "https://localhost:8080/",
          "height": 215
        }
      },
      "source": [
        "bridges99.head()"
      ],
      "execution_count": 86,
      "outputs": [
        {
          "output_type": "execute_result",
          "data": {
            "text/html": [
              "<div>\n",
              "<style scoped>\n",
              "    .dataframe tbody tr th:only-of-type {\n",
              "        vertical-align: middle;\n",
              "    }\n",
              "\n",
              "    .dataframe tbody tr th {\n",
              "        vertical-align: top;\n",
              "    }\n",
              "\n",
              "    .dataframe thead th {\n",
              "        text-align: right;\n",
              "    }\n",
              "</style>\n",
              "<table border=\"1\" class=\"dataframe\">\n",
              "  <thead>\n",
              "    <tr style=\"text-align: right;\">\n",
              "      <th></th>\n",
              "      <th>SERVICE_LEVEL_005C</th>\n",
              "      <th>MAINTENANCE_021</th>\n",
              "      <th>YEAR_BUILT_027</th>\n",
              "      <th>TRAFFIC_LANES_ON_028A</th>\n",
              "      <th>DESIGN_LOAD_031</th>\n",
              "      <th>SERVICE_ON_042A</th>\n",
              "      <th>STRUCTURE_KIND_043A</th>\n",
              "      <th>MAX_SPAN_LEN_MT_048</th>\n",
              "      <th>DECK_WIDTH_MT_052</th>\n",
              "      <th>DECK_COND_058</th>\n",
              "      <th>SUPERSTRUCTURE_COND_059</th>\n",
              "      <th>SUBSTRUCTURE_COND_060</th>\n",
              "      <th>OPERATING_RATING_064</th>\n",
              "      <th>INVENTORY_RATING_066</th>\n",
              "      <th>STRUCTURAL_EVAL_067</th>\n",
              "      <th>DECK_GEOMETRY_EVAL_068</th>\n",
              "      <th>DECK_STRUCTURE_TYPE_107</th>\n",
              "      <th>SURFACE_TYPE_108A</th>\n",
              "      <th>MEMBRANE_TYPE_108B</th>\n",
              "      <th>DECK_PROTECTION_108C</th>\n",
              "      <th>SUFFICIENCY_RATING</th>\n",
              "      <th>binned</th>\n",
              "      <th>surface_area</th>\n",
              "    </tr>\n",
              "  </thead>\n",
              "  <tbody>\n",
              "    <tr>\n",
              "      <th>0</th>\n",
              "      <td>1.0</td>\n",
              "      <td>62</td>\n",
              "      <td>1999</td>\n",
              "      <td>2.0</td>\n",
              "      <td>5</td>\n",
              "      <td>1</td>\n",
              "      <td>5</td>\n",
              "      <td>14.7</td>\n",
              "      <td>9.7</td>\n",
              "      <td>8</td>\n",
              "      <td>8</td>\n",
              "      <td>7</td>\n",
              "      <td>44.2</td>\n",
              "      <td>32.4</td>\n",
              "      <td>7</td>\n",
              "      <td>7</td>\n",
              "      <td>2</td>\n",
              "      <td>6</td>\n",
              "      <td>0</td>\n",
              "      <td>1</td>\n",
              "      <td>100.0</td>\n",
              "      <td>10</td>\n",
              "      <td>142.59</td>\n",
              "    </tr>\n",
              "    <tr>\n",
              "      <th>1</th>\n",
              "      <td>1.0</td>\n",
              "      <td>62</td>\n",
              "      <td>2002</td>\n",
              "      <td>2.0</td>\n",
              "      <td>5</td>\n",
              "      <td>1</td>\n",
              "      <td>5</td>\n",
              "      <td>12.9</td>\n",
              "      <td>9.8</td>\n",
              "      <td>8</td>\n",
              "      <td>8</td>\n",
              "      <td>7</td>\n",
              "      <td>84.2</td>\n",
              "      <td>34.6</td>\n",
              "      <td>7</td>\n",
              "      <td>6</td>\n",
              "      <td>2</td>\n",
              "      <td>6</td>\n",
              "      <td>0</td>\n",
              "      <td>8</td>\n",
              "      <td>100.0</td>\n",
              "      <td>11</td>\n",
              "      <td>126.42</td>\n",
              "    </tr>\n",
              "    <tr>\n",
              "      <th>2</th>\n",
              "      <td>1.0</td>\n",
              "      <td>74</td>\n",
              "      <td>1942</td>\n",
              "      <td>2.0</td>\n",
              "      <td>4</td>\n",
              "      <td>1</td>\n",
              "      <td>1</td>\n",
              "      <td>18.3</td>\n",
              "      <td>9.0</td>\n",
              "      <td>5</td>\n",
              "      <td>5</td>\n",
              "      <td>6</td>\n",
              "      <td>51.7</td>\n",
              "      <td>37.2</td>\n",
              "      <td>5</td>\n",
              "      <td>4</td>\n",
              "      <td>1</td>\n",
              "      <td>1</td>\n",
              "      <td>0</td>\n",
              "      <td>0</td>\n",
              "      <td>69.5</td>\n",
              "      <td>5</td>\n",
              "      <td>164.70</td>\n",
              "    </tr>\n",
              "    <tr>\n",
              "      <th>3</th>\n",
              "      <td>1.0</td>\n",
              "      <td>67</td>\n",
              "      <td>1974</td>\n",
              "      <td>2.0</td>\n",
              "      <td>5</td>\n",
              "      <td>1</td>\n",
              "      <td>5</td>\n",
              "      <td>14.0</td>\n",
              "      <td>10.5</td>\n",
              "      <td>7</td>\n",
              "      <td>7</td>\n",
              "      <td>7</td>\n",
              "      <td>44.2</td>\n",
              "      <td>26.6</td>\n",
              "      <td>6</td>\n",
              "      <td>6</td>\n",
              "      <td>1</td>\n",
              "      <td>1</td>\n",
              "      <td>0</td>\n",
              "      <td>0</td>\n",
              "      <td>90.2</td>\n",
              "      <td>8</td>\n",
              "      <td>147.00</td>\n",
              "    </tr>\n",
              "    <tr>\n",
              "      <th>4</th>\n",
              "      <td>1.0</td>\n",
              "      <td>67</td>\n",
              "      <td>1937</td>\n",
              "      <td>2.0</td>\n",
              "      <td>4</td>\n",
              "      <td>5</td>\n",
              "      <td>3</td>\n",
              "      <td>53.3</td>\n",
              "      <td>7.8</td>\n",
              "      <td>6</td>\n",
              "      <td>6</td>\n",
              "      <td>7</td>\n",
              "      <td>40.0</td>\n",
              "      <td>23.9</td>\n",
              "      <td>5</td>\n",
              "      <td>2</td>\n",
              "      <td>1</td>\n",
              "      <td>1</td>\n",
              "      <td>0</td>\n",
              "      <td>0</td>\n",
              "      <td>49.9</td>\n",
              "      <td>4</td>\n",
              "      <td>415.74</td>\n",
              "    </tr>\n",
              "  </tbody>\n",
              "</table>\n",
              "</div>"
            ],
            "text/plain": [
              "   SERVICE_LEVEL_005C  MAINTENANCE_021  ...  binned  surface_area\n",
              "0                 1.0               62  ...      10        142.59\n",
              "1                 1.0               62  ...      11        126.42\n",
              "2                 1.0               74  ...       5        164.70\n",
              "3                 1.0               67  ...       8        147.00\n",
              "4                 1.0               67  ...       4        415.74\n",
              "\n",
              "[5 rows x 23 columns]"
            ]
          },
          "metadata": {
            "tags": []
          },
          "execution_count": 86
        }
      ]
    },
    {
      "cell_type": "markdown",
      "metadata": {
        "id": "WKDDC-0wbIUY",
        "colab_type": "text"
      },
      "source": [
        "**6.1 METERS IS FEDERAL MINIMUM TO BE A BRIDGE**\n",
        "\n",
        "**REMOVE BRIDGES LESS THAN 6.1 METERS MAIN SPAN**  (152,926)\n",
        "\n",
        "**About 25% of the listed bridges meet state definitions of a bridge. I am only looking at those that meet the federal definition**."
      ]
    },
    {
      "cell_type": "code",
      "metadata": {
        "id": "R6zLUkFQJtpj",
        "colab_type": "code",
        "colab": {}
      },
      "source": [
        "bridges99=bridges99[bridges99['MAX_SPAN_LEN_MT_048']>=6.1]"
      ],
      "execution_count": 0,
      "outputs": []
    },
    {
      "cell_type": "code",
      "metadata": {
        "id": "TVWMuRJ2ARcd",
        "colab_type": "code",
        "outputId": "33b3bd25-82fc-4893-8bdb-ec933451d912",
        "colab": {
          "base_uri": "https://localhost:8080/",
          "height": 34
        }
      },
      "source": [
        "bridges99.shape"
      ],
      "execution_count": 88,
      "outputs": [
        {
          "output_type": "execute_result",
          "data": {
            "text/plain": [
              "(446852, 23)"
            ]
          },
          "metadata": {
            "tags": []
          },
          "execution_count": 88
        }
      ]
    },
    {
      "cell_type": "code",
      "metadata": {
        "id": "3NkRtr1xrUwk",
        "colab_type": "code",
        "outputId": "59db2d99-dc65-4deb-9616-c944dac90f91",
        "colab": {
          "base_uri": "https://localhost:8080/",
          "height": 657
        }
      },
      "source": [
        "plt.rcParams[\"figure.figsize\"] = [12,9]\n",
        "bridges99.hist()\n",
        "plt.tight_layout()"
      ],
      "execution_count": 89,
      "outputs": [
        {
          "output_type": "display_data",
          "data": {
            "image/png": "[encoded data removed]",
            "text/plain": [
              "<Figure size 864x648 with 16 Axes>"
            ]
          },
          "metadata": {
            "tags": []
          }
        }
      ]
    },
    {
      "cell_type": "code",
      "metadata": {
        "id": "CudZGVvdUNSN",
        "colab_type": "code",
        "outputId": "36c1be46-1b4c-4d97-af02-4c7ddb4d6e47",
        "colab": {
          "base_uri": "https://localhost:8080/",
          "height": 34
        }
      },
      "source": [
        "bridges99.shape"
      ],
      "execution_count": 90,
      "outputs": [
        {
          "output_type": "execute_result",
          "data": {
            "text/plain": [
              "(446852, 23)"
            ]
          },
          "metadata": {
            "tags": []
          },
          "execution_count": 90
        }
      ]
    },
    {
      "cell_type": "markdown",
      "metadata": {
        "id": "VLAHCTloUZW6",
        "colab_type": "text"
      },
      "source": [
        "**SOME CRAZY NUMBERS IN LANE COUNT LIKE 80 LANES --  TYPOS?**\n",
        "\n",
        "**WILL KEEP TOP 4 SUBCATEGORIES -- 1,2,3,4 lanes -- THEY MAKE UP OVER 95% OF VALUES**"
      ]
    },
    {
      "cell_type": "code",
      "metadata": {
        "id": "9CUU25XhT45q",
        "colab_type": "code",
        "outputId": "e13841ea-6374-4eba-a3a8-1bb8c85ba4e4",
        "colab": {
          "base_uri": "https://localhost:8080/",
          "height": 554
        }
      },
      "source": [
        "bridges99['TRAFFIC_LANES_ON_028A'].value_counts()"
      ],
      "execution_count": 91,
      "outputs": [
        {
          "output_type": "execute_result",
          "data": {
            "text/plain": [
              "2.0     351711\n",
              "1.0      34567\n",
              "4.0      25124\n",
              "3.0      17939\n",
              "5.0       6310\n",
              "6.0       5988\n",
              "8.0       1739\n",
              "7.0       1474\n",
              "10.0       711\n",
              "9.0        537\n",
              "12.0       267\n",
              "11.0       231\n",
              "13.0        92\n",
              "14.0        79\n",
              "20.0        31\n",
              "15.0        15\n",
              "16.0        10\n",
              "40.0         5\n",
              "50.0         5\n",
              "17.0         4\n",
              "45.0         2\n",
              "18.0         2\n",
              "19.0         1\n",
              "70.0         1\n",
              "80.0         1\n",
              "82.0         1\n",
              "21.0         1\n",
              "30.0         1\n",
              "25.0         1\n",
              "22.0         1\n",
              "60.0         1\n",
              "Name: TRAFFIC_LANES_ON_028A, dtype: int64"
            ]
          },
          "metadata": {
            "tags": []
          },
          "execution_count": 91
        }
      ]
    },
    {
      "cell_type": "code",
      "metadata": {
        "id": "kcXoZPj2YQWp",
        "colab_type": "code",
        "colab": {}
      },
      "source": [
        "bridges99=bridges99[(bridges99['TRAFFIC_LANES_ON_028A']==1) | (bridges99['TRAFFIC_LANES_ON_028A']==2) |(bridges99['TRAFFIC_LANES_ON_028A']==3)| (bridges99['TRAFFIC_LANES_ON_028A']==4)]"
      ],
      "execution_count": 0,
      "outputs": []
    },
    {
      "cell_type": "code",
      "metadata": {
        "id": "8NXQlYgQYtCg",
        "colab_type": "code",
        "outputId": "8fbdc01b-91ce-4cfe-cca9-b7a8a1914886",
        "colab": {
          "base_uri": "https://localhost:8080/",
          "height": 101
        }
      },
      "source": [
        "bridges99['TRAFFIC_LANES_ON_028A'].value_counts()"
      ],
      "execution_count": 93,
      "outputs": [
        {
          "output_type": "execute_result",
          "data": {
            "text/plain": [
              "2.0    351711\n",
              "1.0     34567\n",
              "4.0     25124\n",
              "3.0     17939\n",
              "Name: TRAFFIC_LANES_ON_028A, dtype: int64"
            ]
          },
          "metadata": {
            "tags": []
          },
          "execution_count": 93
        }
      ]
    },
    {
      "cell_type": "code",
      "metadata": {
        "id": "MRAnpllFjfQh",
        "colab_type": "code",
        "outputId": "17f08eca-5566-4da1-aaca-3de03569d5dc",
        "colab": {
          "base_uri": "https://localhost:8080/",
          "height": 34
        }
      },
      "source": [
        "bridges99.shape"
      ],
      "execution_count": 94,
      "outputs": [
        {
          "output_type": "execute_result",
          "data": {
            "text/plain": [
              "(429341, 23)"
            ]
          },
          "metadata": {
            "tags": []
          },
          "execution_count": 94
        }
      ]
    },
    {
      "cell_type": "markdown",
      "metadata": {
        "id": "6aC1TrE3gZRQ",
        "colab_type": "text"
      },
      "source": [
        "df.groupby('city').filter(lambda x : len(x)>3)\n",
        "\n",
        "Solution two transform\n",
        "\n",
        "sub_df = df[df.groupby('city').city.transform('count')>3].copy()"
      ]
    },
    {
      "cell_type": "markdown",
      "metadata": {
        "id": "P2WrrOWIvsl_",
        "colab_type": "text"
      },
      "source": [
        "**CREATING SUBSET OF NUMERICAL FEATURES**"
      ]
    },
    {
      "cell_type": "code",
      "metadata": {
        "id": "GnbmfwJVvcJ1",
        "colab_type": "code",
        "colab": {}
      },
      "source": [
        "n=[col for col in list(bridges99) if bridges99[col].dtype!=object]"
      ],
      "execution_count": 0,
      "outputs": []
    },
    {
      "cell_type": "markdown",
      "metadata": {
        "id": "huCtODDav92a",
        "colab_type": "text"
      },
      "source": [
        "**BIVARIATE ANALYSIS**\n",
        "\n",
        "temporarily add the target back in to numerical features"
      ]
    },
    {
      "cell_type": "code",
      "metadata": {
        "id": "inSspMTYv1wd",
        "colab_type": "code",
        "outputId": "16ceb88a-bf6d-46ba-b71c-004a21f27068",
        "colab": {
          "base_uri": "https://localhost:8080/",
          "height": 482
        }
      },
      "source": [
        "bridges99[n].corr()"
      ],
      "execution_count": 96,
      "outputs": [
        {
          "output_type": "execute_result",
          "data": {
            "text/html": [
              "<div>\n",
              "<style scoped>\n",
              "    .dataframe tbody tr th:only-of-type {\n",
              "        vertical-align: middle;\n",
              "    }\n",
              "\n",
              "    .dataframe tbody tr th {\n",
              "        vertical-align: top;\n",
              "    }\n",
              "\n",
              "    .dataframe thead th {\n",
              "        text-align: right;\n",
              "    }\n",
              "</style>\n",
              "<table border=\"1\" class=\"dataframe\">\n",
              "  <thead>\n",
              "    <tr style=\"text-align: right;\">\n",
              "      <th></th>\n",
              "      <th>SERVICE_LEVEL_005C</th>\n",
              "      <th>MAINTENANCE_021</th>\n",
              "      <th>YEAR_BUILT_027</th>\n",
              "      <th>TRAFFIC_LANES_ON_028A</th>\n",
              "      <th>SERVICE_ON_042A</th>\n",
              "      <th>STRUCTURE_KIND_043A</th>\n",
              "      <th>MAX_SPAN_LEN_MT_048</th>\n",
              "      <th>DECK_WIDTH_MT_052</th>\n",
              "      <th>OPERATING_RATING_064</th>\n",
              "      <th>INVENTORY_RATING_066</th>\n",
              "      <th>STRUCTURAL_EVAL_067</th>\n",
              "      <th>SUFFICIENCY_RATING</th>\n",
              "      <th>binned</th>\n",
              "      <th>surface_area</th>\n",
              "    </tr>\n",
              "  </thead>\n",
              "  <tbody>\n",
              "    <tr>\n",
              "      <th>SERVICE_LEVEL_005C</th>\n",
              "      <td>1.000000</td>\n",
              "      <td>0.006546</td>\n",
              "      <td>0.052890</td>\n",
              "      <td>-0.087648</td>\n",
              "      <td>-0.041729</td>\n",
              "      <td>0.035785</td>\n",
              "      <td>0.122978</td>\n",
              "      <td>0.012604</td>\n",
              "      <td>0.031727</td>\n",
              "      <td>0.036146</td>\n",
              "      <td>0.046463</td>\n",
              "      <td>0.053723</td>\n",
              "      <td>0.052502</td>\n",
              "      <td>0.073114</td>\n",
              "    </tr>\n",
              "    <tr>\n",
              "      <th>MAINTENANCE_021</th>\n",
              "      <td>0.006546</td>\n",
              "      <td>1.000000</td>\n",
              "      <td>-0.000550</td>\n",
              "      <td>-0.069682</td>\n",
              "      <td>0.020657</td>\n",
              "      <td>0.044874</td>\n",
              "      <td>0.019539</td>\n",
              "      <td>-0.030399</td>\n",
              "      <td>-0.040473</td>\n",
              "      <td>-0.005476</td>\n",
              "      <td>-0.010858</td>\n",
              "      <td>-0.034308</td>\n",
              "      <td>-0.000628</td>\n",
              "      <td>0.003381</td>\n",
              "    </tr>\n",
              "    <tr>\n",
              "      <th>YEAR_BUILT_027</th>\n",
              "      <td>0.052890</td>\n",
              "      <td>-0.000550</td>\n",
              "      <td>1.000000</td>\n",
              "      <td>0.075985</td>\n",
              "      <td>-0.056143</td>\n",
              "      <td>0.273960</td>\n",
              "      <td>0.157093</td>\n",
              "      <td>0.114363</td>\n",
              "      <td>0.319409</td>\n",
              "      <td>0.340569</td>\n",
              "      <td>0.584475</td>\n",
              "      <td>0.550049</td>\n",
              "      <td>0.993439</td>\n",
              "      <td>0.159117</td>\n",
              "    </tr>\n",
              "    <tr>\n",
              "      <th>TRAFFIC_LANES_ON_028A</th>\n",
              "      <td>-0.087648</td>\n",
              "      <td>-0.069682</td>\n",
              "      <td>0.075985</td>\n",
              "      <td>1.000000</td>\n",
              "      <td>0.220627</td>\n",
              "      <td>0.024609</td>\n",
              "      <td>0.171362</td>\n",
              "      <td>0.570707</td>\n",
              "      <td>0.157535</td>\n",
              "      <td>0.144723</td>\n",
              "      <td>0.145611</td>\n",
              "      <td>0.137738</td>\n",
              "      <td>0.071817</td>\n",
              "      <td>0.408159</td>\n",
              "    </tr>\n",
              "    <tr>\n",
              "      <th>SERVICE_ON_042A</th>\n",
              "      <td>-0.041729</td>\n",
              "      <td>0.020657</td>\n",
              "      <td>-0.056143</td>\n",
              "      <td>0.220627</td>\n",
              "      <td>1.000000</td>\n",
              "      <td>-0.004493</td>\n",
              "      <td>0.092881</td>\n",
              "      <td>0.263328</td>\n",
              "      <td>0.086979</td>\n",
              "      <td>0.068779</td>\n",
              "      <td>0.000156</td>\n",
              "      <td>-0.038029</td>\n",
              "      <td>-0.057298</td>\n",
              "      <td>0.170260</td>\n",
              "    </tr>\n",
              "    <tr>\n",
              "      <th>STRUCTURE_KIND_043A</th>\n",
              "      <td>0.035785</td>\n",
              "      <td>0.044874</td>\n",
              "      <td>0.273960</td>\n",
              "      <td>0.024609</td>\n",
              "      <td>-0.004493</td>\n",
              "      <td>1.000000</td>\n",
              "      <td>0.224150</td>\n",
              "      <td>0.076843</td>\n",
              "      <td>0.103066</td>\n",
              "      <td>0.080780</td>\n",
              "      <td>0.147420</td>\n",
              "      <td>0.147468</td>\n",
              "      <td>0.273597</td>\n",
              "      <td>0.184932</td>\n",
              "    </tr>\n",
              "    <tr>\n",
              "      <th>MAX_SPAN_LEN_MT_048</th>\n",
              "      <td>0.122978</td>\n",
              "      <td>0.019539</td>\n",
              "      <td>0.157093</td>\n",
              "      <td>0.171362</td>\n",
              "      <td>0.092881</td>\n",
              "      <td>0.224150</td>\n",
              "      <td>1.000000</td>\n",
              "      <td>0.238055</td>\n",
              "      <td>0.155299</td>\n",
              "      <td>0.113969</td>\n",
              "      <td>0.129480</td>\n",
              "      <td>0.091749</td>\n",
              "      <td>0.155091</td>\n",
              "      <td>0.861133</td>\n",
              "    </tr>\n",
              "    <tr>\n",
              "      <th>DECK_WIDTH_MT_052</th>\n",
              "      <td>0.012604</td>\n",
              "      <td>-0.030399</td>\n",
              "      <td>0.114363</td>\n",
              "      <td>0.570707</td>\n",
              "      <td>0.263328</td>\n",
              "      <td>0.076843</td>\n",
              "      <td>0.238055</td>\n",
              "      <td>1.000000</td>\n",
              "      <td>0.212008</td>\n",
              "      <td>0.179872</td>\n",
              "      <td>0.182580</td>\n",
              "      <td>0.220415</td>\n",
              "      <td>0.110035</td>\n",
              "      <td>0.570754</td>\n",
              "    </tr>\n",
              "    <tr>\n",
              "      <th>OPERATING_RATING_064</th>\n",
              "      <td>0.031727</td>\n",
              "      <td>-0.040473</td>\n",
              "      <td>0.319409</td>\n",
              "      <td>0.157535</td>\n",
              "      <td>0.086979</td>\n",
              "      <td>0.103066</td>\n",
              "      <td>0.155299</td>\n",
              "      <td>0.212008</td>\n",
              "      <td>1.000000</td>\n",
              "      <td>0.879678</td>\n",
              "      <td>0.536776</td>\n",
              "      <td>0.544590</td>\n",
              "      <td>0.314777</td>\n",
              "      <td>0.182806</td>\n",
              "    </tr>\n",
              "    <tr>\n",
              "      <th>INVENTORY_RATING_066</th>\n",
              "      <td>0.036146</td>\n",
              "      <td>-0.005476</td>\n",
              "      <td>0.340569</td>\n",
              "      <td>0.144723</td>\n",
              "      <td>0.068779</td>\n",
              "      <td>0.080780</td>\n",
              "      <td>0.113969</td>\n",
              "      <td>0.179872</td>\n",
              "      <td>0.879678</td>\n",
              "      <td>1.000000</td>\n",
              "      <td>0.563869</td>\n",
              "      <td>0.559694</td>\n",
              "      <td>0.336764</td>\n",
              "      <td>0.145733</td>\n",
              "    </tr>\n",
              "    <tr>\n",
              "      <th>STRUCTURAL_EVAL_067</th>\n",
              "      <td>0.046463</td>\n",
              "      <td>-0.010858</td>\n",
              "      <td>0.584475</td>\n",
              "      <td>0.145611</td>\n",
              "      <td>0.000156</td>\n",
              "      <td>0.147420</td>\n",
              "      <td>0.129480</td>\n",
              "      <td>0.182580</td>\n",
              "      <td>0.536776</td>\n",
              "      <td>0.563869</td>\n",
              "      <td>1.000000</td>\n",
              "      <td>0.817802</td>\n",
              "      <td>0.580046</td>\n",
              "      <td>0.153634</td>\n",
              "    </tr>\n",
              "    <tr>\n",
              "      <th>SUFFICIENCY_RATING</th>\n",
              "      <td>0.053723</td>\n",
              "      <td>-0.034308</td>\n",
              "      <td>0.550049</td>\n",
              "      <td>0.137738</td>\n",
              "      <td>-0.038029</td>\n",
              "      <td>0.147468</td>\n",
              "      <td>0.091749</td>\n",
              "      <td>0.220415</td>\n",
              "      <td>0.544590</td>\n",
              "      <td>0.559694</td>\n",
              "      <td>0.817802</td>\n",
              "      <td>1.000000</td>\n",
              "      <td>0.544363</td>\n",
              "      <td>0.139991</td>\n",
              "    </tr>\n",
              "    <tr>\n",
              "      <th>binned</th>\n",
              "      <td>0.052502</td>\n",
              "      <td>-0.000628</td>\n",
              "      <td>0.993439</td>\n",
              "      <td>0.071817</td>\n",
              "      <td>-0.057298</td>\n",
              "      <td>0.273597</td>\n",
              "      <td>0.155091</td>\n",
              "      <td>0.110035</td>\n",
              "      <td>0.314777</td>\n",
              "      <td>0.336764</td>\n",
              "      <td>0.580046</td>\n",
              "      <td>0.544363</td>\n",
              "      <td>1.000000</td>\n",
              "      <td>0.156763</td>\n",
              "    </tr>\n",
              "    <tr>\n",
              "      <th>surface_area</th>\n",
              "      <td>0.073114</td>\n",
              "      <td>0.003381</td>\n",
              "      <td>0.159117</td>\n",
              "      <td>0.408159</td>\n",
              "      <td>0.170260</td>\n",
              "      <td>0.184932</td>\n",
              "      <td>0.861133</td>\n",
              "      <td>0.570754</td>\n",
              "      <td>0.182806</td>\n",
              "      <td>0.145733</td>\n",
              "      <td>0.153634</td>\n",
              "      <td>0.139991</td>\n",
              "      <td>0.156763</td>\n",
              "      <td>1.000000</td>\n",
              "    </tr>\n",
              "  </tbody>\n",
              "</table>\n",
              "</div>"
            ],
            "text/plain": [
              "                       SERVICE_LEVEL_005C  ...  surface_area\n",
              "SERVICE_LEVEL_005C               1.000000  ...      0.073114\n",
              "MAINTENANCE_021                  0.006546  ...      0.003381\n",
              "YEAR_BUILT_027                   0.052890  ...      0.159117\n",
              "TRAFFIC_LANES_ON_028A           -0.087648  ...      0.408159\n",
              "SERVICE_ON_042A                 -0.041729  ...      0.170260\n",
              "STRUCTURE_KIND_043A              0.035785  ...      0.184932\n",
              "MAX_SPAN_LEN_MT_048              0.122978  ...      0.861133\n",
              "DECK_WIDTH_MT_052                0.012604  ...      0.570754\n",
              "OPERATING_RATING_064             0.031727  ...      0.182806\n",
              "INVENTORY_RATING_066             0.036146  ...      0.145733\n",
              "STRUCTURAL_EVAL_067              0.046463  ...      0.153634\n",
              "SUFFICIENCY_RATING               0.053723  ...      0.139991\n",
              "binned                           0.052502  ...      0.156763\n",
              "surface_area                     0.073114  ...      1.000000\n",
              "\n",
              "[14 rows x 14 columns]"
            ]
          },
          "metadata": {
            "tags": []
          },
          "execution_count": 96
        }
      ]
    },
    {
      "cell_type": "markdown",
      "metadata": {
        "id": "PkVGWTNcyyBO",
        "colab_type": "text"
      },
      "source": [
        "**HEATMAP**"
      ]
    },
    {
      "cell_type": "code",
      "metadata": {
        "id": "TqoeJIaswMbR",
        "colab_type": "code",
        "outputId": "92e41aae-1527-4cdd-f393-372bed505ed7",
        "colab": {
          "base_uri": "https://localhost:8080/",
          "height": 841
        }
      },
      "source": [
        "plt.figure(figsize=(12,12))\n",
        "sns.heatmap(bridges99[n].corr(),annot=True,linewidth=0.5,cmap='coolwarm')"
      ],
      "execution_count": 98,
      "outputs": [
        {
          "output_type": "execute_result",
          "data": {
            "text/plain": [
              "<matplotlib.axes._subplots.AxesSubplot at 0x7f73674dbd68>"
            ]
          },
          "metadata": {
            "tags": []
          },
          "execution_count": 98
        },
        {
          "output_type": "display_data",
          "data": {
            "image/png": "[encoded data removed]",
            "text/plain": [
              "<Figure size 864x864 with 2 Axes>"
            ]
          },
          "metadata": {
            "tags": []
          }
        }
      ]
    },
    {
      "cell_type": "markdown",
      "metadata": {
        "id": "aQ47SWnYwXB8",
        "colab_type": "text"
      },
      "source": [
        "**OVERALL NOT MUCH CORREALTION -- I WILL DROP OPERATOR RATING .88 CORRELATION WITH INVENTORY RATING & YEAR_BUILT .995 CORRELATION WITH BINNED**"
      ]
    },
    {
      "cell_type": "code",
      "metadata": {
        "id": "HdY0rumhQ3_x",
        "colab_type": "code",
        "colab": {}
      },
      "source": [
        "bridges99.drop(['OPERATING_RATING_064','YEAR_BUILT_027'],axis=1,inplace=True)"
      ],
      "execution_count": 0,
      "outputs": []
    },
    {
      "cell_type": "code",
      "metadata": {
        "id": "Zb4Vpq-lRDJ0",
        "colab_type": "code",
        "outputId": "285dffeb-db09-498c-c558-6ef1bd35a14b",
        "colab": {
          "base_uri": "https://localhost:8080/",
          "height": 34
        }
      },
      "source": [
        "bridges99.shape"
      ],
      "execution_count": 100,
      "outputs": [
        {
          "output_type": "execute_result",
          "data": {
            "text/plain": [
              "(429341, 21)"
            ]
          },
          "metadata": {
            "tags": []
          },
          "execution_count": 100
        }
      ]
    },
    {
      "cell_type": "markdown",
      "metadata": {
        "id": "LTglHDymfZ2L",
        "colab_type": "text"
      },
      "source": [
        "  **CREATING SUBSET OF OBJECT FEATURES**"
      ]
    },
    {
      "cell_type": "code",
      "metadata": {
        "id": "1qLNe8n9HEsX",
        "colab_type": "code",
        "outputId": "4bf8b7bc-807f-41b8-d781-d89fd30c802e",
        "colab": {
          "base_uri": "https://localhost:8080/",
          "height": 168
        }
      },
      "source": [
        "k=[col for col in list(bridges99) if bridges99[col].dtype==object]\n",
        "k"
      ],
      "execution_count": 101,
      "outputs": [
        {
          "output_type": "execute_result",
          "data": {
            "text/plain": [
              "['DESIGN_LOAD_031',\n",
              " 'DECK_COND_058',\n",
              " 'SUPERSTRUCTURE_COND_059',\n",
              " 'SUBSTRUCTURE_COND_060',\n",
              " 'DECK_GEOMETRY_EVAL_068',\n",
              " 'DECK_STRUCTURE_TYPE_107',\n",
              " 'SURFACE_TYPE_108A',\n",
              " 'MEMBRANE_TYPE_108B',\n",
              " 'DECK_PROTECTION_108C']"
            ]
          },
          "metadata": {
            "tags": []
          },
          "execution_count": 101
        }
      ]
    },
    {
      "cell_type": "markdown",
      "metadata": {
        "id": "l1tM5aqORvG2",
        "colab_type": "text"
      },
      "source": [
        "**GET VALUE_COUNT GETS FOR ALL CATEGORICALS**"
      ]
    },
    {
      "cell_type": "code",
      "metadata": {
        "id": "bfoME9kAR9wM",
        "colab_type": "code",
        "outputId": "00b858b8-0123-465b-d9bb-b5b98d8c9b41",
        "colab": {
          "base_uri": "https://localhost:8080/",
          "height": 1000
        }
      },
      "source": [
        "for col in k:\n",
        "  print(col)\n",
        "  print(bridges99[col].value_counts())\n",
        "  print('')"
      ],
      "execution_count": 102,
      "outputs": [
        {
          "output_type": "stream",
          "text": [
            "DESIGN_LOAD_031\n",
            "5    171103\n",
            "0     77826\n",
            "6     45095\n",
            "2     34994\n",
            "4     31831\n",
            "9     26342\n",
            "A     16987\n",
            "1     15080\n",
            "3      7746\n",
            "C      1419\n",
            "B       840\n",
            "8        64\n",
            "7        14\n",
            "Name: DESIGN_LOAD_031, dtype: int64\n",
            "\n",
            "DECK_COND_058\n",
            "7    168582\n",
            "6     97477\n",
            "8     68432\n",
            "5     48227\n",
            "N     19696\n",
            "9     11884\n",
            "4     11810\n",
            "3      2213\n",
            "0       602\n",
            "2       338\n",
            "1        80\n",
            "Name: DECK_COND_058, dtype: int64\n",
            "\n",
            "SUPERSTRUCTURE_COND_059\n",
            "7    149850\n",
            "6     92993\n",
            "8     91063\n",
            "5     48257\n",
            "N     15075\n",
            "9     14526\n",
            "4     13537\n",
            "3      2755\n",
            "0       608\n",
            "2       508\n",
            "1       169\n",
            "Name: SUPERSTRUCTURE_COND_059, dtype: int64\n",
            "\n",
            "SUBSTRUCTURE_COND_060\n",
            "7    157724\n",
            "6     95323\n",
            "8     77522\n",
            "5     50827\n",
            "N     15201\n",
            "4     15041\n",
            "9     12457\n",
            "3      3580\n",
            "2       901\n",
            "0       615\n",
            "1       150\n",
            "Name: SUBSTRUCTURE_COND_060, dtype: int64\n",
            "\n",
            "DECK_GEOMETRY_EVAL_068\n",
            "6    95775\n",
            "5    95557\n",
            "4    74724\n",
            "7    53427\n",
            "9    31982\n",
            "2    30189\n",
            "3    26643\n",
            "N    10502\n",
            "8    10054\n",
            "0      485\n",
            "*        3\n",
            "Name: DECK_GEOMETRY_EVAL_068, dtype: int64\n",
            "\n",
            "DECK_STRUCTURE_TYPE_107\n",
            "1    297602\n",
            "2     51504\n",
            "8     28295\n",
            "N     25722\n",
            "9     11500\n",
            "6      9728\n",
            "3      2429\n",
            "5      1492\n",
            "4       966\n",
            "7       103\n",
            "Name: DECK_STRUCTURE_TYPE_107, dtype: int64\n",
            "\n",
            "SURFACE_TYPE_108A\n",
            "1    149357\n",
            "6    134846\n",
            "0     52286\n",
            "8     16823\n",
            "2     15688\n",
            "N     14045\n",
            "3     11654\n",
            "7     11464\n",
            "9      8919\n",
            "4      8378\n",
            "5      5881\n",
            "Name: SURFACE_TYPE_108A, dtype: int64\n",
            "\n",
            "MEMBRANE_TYPE_108B\n",
            "0    322969\n",
            "8     51826\n",
            "N     16869\n",
            "2     15217\n",
            "1     10796\n",
            "9      8042\n",
            "3      3622\n",
            "Name: MEMBRANE_TYPE_108B, dtype: int64\n",
            "\n",
            "DECK_PROTECTION_108C\n",
            "0    269723\n",
            "1     82935\n",
            "8     47631\n",
            "N     22064\n",
            "9      2955\n",
            "7      1341\n",
            "2      1242\n",
            "6       739\n",
            "3       450\n",
            "4       261\n",
            "Name: DECK_PROTECTION_108C, dtype: int64\n",
            "\n"
          ],
          "name": "stdout"
        }
      ]
    },
    {
      "cell_type": "code",
      "metadata": {
        "id": "dEsj_EuGV4PM",
        "colab_type": "code",
        "colab": {}
      },
      "source": [
        "#list(bridges99)"
      ],
      "execution_count": 0,
      "outputs": []
    },
    {
      "cell_type": "markdown",
      "metadata": {
        "id": "n9WnrBYi07KL",
        "colab_type": "text"
      },
      "source": [
        "**CHANGING TARGET TO BINARY**"
      ]
    },
    {
      "cell_type": "code",
      "metadata": {
        "id": "TN4MQM4YWNDO",
        "colab_type": "code",
        "colab": {}
      },
      "source": [
        "bridges99['STRUCTURAL_EVAL_067']=np.where(bridges99['STRUCTURAL_EVAL_067']<5,1,0)"
      ],
      "execution_count": 0,
      "outputs": []
    },
    {
      "cell_type": "code",
      "metadata": {
        "id": "LrjuPMCHWqAC",
        "colab_type": "code",
        "outputId": "31129038-db70-4e8f-e245-bfa955447a3f",
        "colab": {
          "base_uri": "https://localhost:8080/",
          "height": 67
        }
      },
      "source": [
        "bridges99['STRUCTURAL_EVAL_067'].value_counts()"
      ],
      "execution_count": 105,
      "outputs": [
        {
          "output_type": "execute_result",
          "data": {
            "text/plain": [
              "0    374505\n",
              "1     54836\n",
              "Name: STRUCTURAL_EVAL_067, dtype: int64"
            ]
          },
          "metadata": {
            "tags": []
          },
          "execution_count": 105
        }
      ]
    },
    {
      "cell_type": "code",
      "metadata": {
        "id": "D5Dz6SgOW3Fj",
        "colab_type": "code",
        "colab": {}
      },
      "source": [
        "y=bridges99['STRUCTURAL_EVAL_067']"
      ],
      "execution_count": 0,
      "outputs": []
    },
    {
      "cell_type": "markdown",
      "metadata": {
        "id": "-ZEf8VFcW92c",
        "colab_type": "text"
      },
      "source": [
        "X=bridges99.drop('STRUCTURAL_EVAL_067',axis=1)"
      ]
    },
    {
      "cell_type": "markdown",
      "metadata": {
        "id": "mxTb4J9v8tNc",
        "colab_type": "text"
      },
      "source": [
        "**DROP COLUMNS HIGHLY CORRELATED WITH TARGET**"
      ]
    },
    {
      "cell_type": "code",
      "metadata": {
        "id": "aS5WhknepHEz",
        "colab_type": "code",
        "colab": {}
      },
      "source": [
        "X2=bridges99.drop(['STRUCTURAL_EVAL_067','SUFFICIENCY_RATING','SUBSTRUCTURE_COND_060'],axis=1)"
      ],
      "execution_count": 0,
      "outputs": []
    },
    {
      "cell_type": "markdown",
      "metadata": {
        "id": "uXiPCog_9ySM",
        "colab_type": "text"
      },
      "source": [
        "**ONE-HOT ENCODE**"
      ]
    },
    {
      "cell_type": "code",
      "metadata": {
        "id": "nc-kuNuzpa3z",
        "colab_type": "code",
        "colab": {}
      },
      "source": [
        "X2_dummy=pd.get_dummies(X2,drop_first=True)"
      ],
      "execution_count": 0,
      "outputs": []
    },
    {
      "cell_type": "markdown",
      "metadata": {
        "id": "9j0Q8ELs89EU",
        "colab_type": "text"
      },
      "source": [
        "**TRAIN_TEST_SPLIT**"
      ]
    },
    {
      "cell_type": "code",
      "metadata": {
        "id": "yCzJkhXH_dIM",
        "colab_type": "code",
        "colab": {}
      },
      "source": [
        "\n",
        "X_train,X_test,y_train,y_test= train_test_split(X2_dummy, y, test_size = 0.2, random_state = 465)"
      ],
      "execution_count": 0,
      "outputs": []
    },
    {
      "cell_type": "markdown",
      "metadata": {
        "id": "XYHu_m1O9H0h",
        "colab_type": "text"
      },
      "source": [
        "**`GRIDSEARCH**"
      ]
    },
    {
      "cell_type": "code",
      "metadata": {
        "id": "XrV2Uq91yxVV",
        "colab_type": "code",
        "colab": {}
      },
      "source": [
        "param_grid = {\n",
        "    'bootstrap': [True],\n",
        "    'max_depth': [4,8],\n",
        "    'max_features': [2, 3,4],\n",
        "    'min_samples_leaf': [3,5,8],\n",
        "    'min_samples_split': [8,12],\n",
        "    'n_estimators': [10, 20,30]\n",
        "}\n",
        "rfc = RandomForestRegressor()\n",
        "grid = GridSearchCV(rfc, param_grid=param_grid, refit = True, verbose = 3) "
      ],
      "execution_count": 0,
      "outputs": []
    },
    {
      "cell_type": "code",
      "metadata": {
        "id": "mdGtSeS3xB8C",
        "colab_type": "code",
        "outputId": "ac3b8177-38a8-475f-93cd-95ffea5f5a18",
        "colab": {
          "base_uri": "https://localhost:8080/",
          "height": 1000
        }
      },
      "source": [
        "grid.fit(X_train,y_train)"
      ],
      "execution_count": 145,
      "outputs": [
        {
          "output_type": "stream",
          "text": [
            "Fitting 5 folds for each of 108 candidates, totalling 540 fits\n",
            "[CV] bootstrap=True, max_depth=4, max_features=2, min_samples_leaf=3, min_samples_split=8, n_estimators=10 \n"
          ],
          "name": "stdout"
        },
        {
          "output_type": "stream",
          "text": [
            "[Parallel(n_jobs=1)]: Using backend SequentialBackend with 1 concurrent workers.\n"
          ],
          "name": "stderr"
        },
        {
          "output_type": "stream",
          "text": [
            "[CV]  bootstrap=True, max_depth=4, max_features=2, min_samples_leaf=3, min_samples_split=8, n_estimators=10, score=0.255, total=   0.7s\n",
            "[CV] bootstrap=True, max_depth=4, max_features=2, min_samples_leaf=3, min_samples_split=8, n_estimators=10 \n"
          ],
          "name": "stdout"
        },
        {
          "output_type": "stream",
          "text": [
            "[Parallel(n_jobs=1)]: Done   1 out of   1 | elapsed:    0.7s remaining:    0.0s\n"
          ],
          "name": "stderr"
        },
        {
          "output_type": "stream",
          "text": [
            "[CV]  bootstrap=True, max_depth=4, max_features=2, min_samples_leaf=3, min_samples_split=8, n_estimators=10, score=0.228, total=   0.6s\n",
            "[CV] bootstrap=True, max_depth=4, max_features=2, min_samples_leaf=3, min_samples_split=8, n_estimators=10 \n"
          ],
          "name": "stdout"
        },
        {
          "output_type": "stream",
          "text": [
            "[Parallel(n_jobs=1)]: Done   2 out of   2 | elapsed:    1.3s remaining:    0.0s\n"
          ],
          "name": "stderr"
        },
        {
          "output_type": "stream",
          "text": [
            "[CV]  bootstrap=True, max_depth=4, max_features=2, min_samples_leaf=3, min_samples_split=8, n_estimators=10, score=0.316, total=   0.7s\n",
            "[CV] bootstrap=True, max_depth=4, max_features=2, min_samples_leaf=3, min_samples_split=8, n_estimators=10 \n",
            "[CV]  bootstrap=True, max_depth=4, max_features=2, min_samples_leaf=3, min_samples_split=8, n_estimators=10, score=0.163, total=   0.7s\n",
            "[CV] bootstrap=True, max_depth=4, max_features=2, min_samples_leaf=3, min_samples_split=8, n_estimators=10 \n",
            "[CV]  bootstrap=True, max_depth=4, max_features=2, min_samples_leaf=3, min_samples_split=8, n_estimators=10, score=0.242, total=   0.7s\n",
            "[CV] bootstrap=True, max_depth=4, max_features=2, min_samples_leaf=3, min_samples_split=8, n_estimators=20 \n",
            "[CV]  bootstrap=True, max_depth=4, max_features=2, min_samples_leaf=3, min_samples_split=8, n_estimators=20, score=0.283, total=   1.1s\n",
            "[CV] bootstrap=True, max_depth=4, max_features=2, min_samples_leaf=3, min_samples_split=8, n_estimators=20 \n",
            "[CV]  bootstrap=True, max_depth=4, max_features=2, min_samples_leaf=3, min_samples_split=8, n_estimators=20, score=0.307, total=   1.1s\n",
            "[CV] bootstrap=True, max_depth=4, max_features=2, min_samples_leaf=3, min_samples_split=8, n_estimators=20 \n",
            "[CV]  bootstrap=True, max_depth=4, max_features=2, min_samples_leaf=3, min_samples_split=8, n_estimators=20, score=0.317, total=   1.1s\n",
            "[CV] bootstrap=True, max_depth=4, max_features=2, min_samples_leaf=3, min_samples_split=8, n_estimators=20 \n",
            "[CV]  bootstrap=True, max_depth=4, max_features=2, min_samples_leaf=3, min_samples_split=8, n_estimators=20, score=0.363, total=   1.1s\n",
            "[CV] bootstrap=True, max_depth=4, max_features=2, min_samples_leaf=3, min_samples_split=8, n_estimators=20 \n",
            "[CV]  bootstrap=True, max_depth=4, max_features=2, min_samples_leaf=3, min_samples_split=8, n_estimators=20, score=0.260, total=   1.1s\n",
            "[CV] bootstrap=True, max_depth=4, max_features=2, min_samples_leaf=3, min_samples_split=8, n_estimators=30 \n",
            "[CV]  bootstrap=True, max_depth=4, max_features=2, min_samples_leaf=3, min_samples_split=8, n_estimators=30, score=0.290, total=   1.5s\n",
            "[CV] bootstrap=True, max_depth=4, max_features=2, min_samples_leaf=3, min_samples_split=8, n_estimators=30 \n",
            "[CV]  bootstrap=True, max_depth=4, max_features=2, min_samples_leaf=3, min_samples_split=8, n_estimators=30, score=0.185, total=   1.4s\n",
            "[CV] bootstrap=True, max_depth=4, max_features=2, min_samples_leaf=3, min_samples_split=8, n_estimators=30 \n",
            "[CV]  bootstrap=True, max_depth=4, max_features=2, min_samples_leaf=3, min_samples_split=8, n_estimators=30, score=0.190, total=   1.5s\n",
            "[CV] bootstrap=True, max_depth=4, max_features=2, min_samples_leaf=3, min_samples_split=8, n_estimators=30 \n",
            "[CV]  bootstrap=True, max_depth=4, max_features=2, min_samples_leaf=3, min_samples_split=8, n_estimators=30, score=0.295, total=   1.5s\n",
            "[CV] bootstrap=True, max_depth=4, max_features=2, min_samples_leaf=3, min_samples_split=8, n_estimators=30 \n",
            "[CV]  bootstrap=True, max_depth=4, max_features=2, min_samples_leaf=3, min_samples_split=8, n_estimators=30, score=0.277, total=   1.6s\n",
            "[CV] bootstrap=True, max_depth=4, max_features=2, min_samples_leaf=3, min_samples_split=12, n_estimators=10 \n",
            "[CV]  bootstrap=True, max_depth=4, max_features=2, min_samples_leaf=3, min_samples_split=12, n_estimators=10, score=0.362, total=   0.7s\n",
            "[CV] bootstrap=True, max_depth=4, max_features=2, min_samples_leaf=3, min_samples_split=12, n_estimators=10 \n",
            "[CV]  bootstrap=True, max_depth=4, max_features=2, min_samples_leaf=3, min_samples_split=12, n_estimators=10, score=0.146, total=   0.6s\n",
            "[CV] bootstrap=True, max_depth=4, max_features=2, min_samples_leaf=3, min_samples_split=12, n_estimators=10 \n",
            "[CV]  bootstrap=True, max_depth=4, max_features=2, min_samples_leaf=3, min_samples_split=12, n_estimators=10, score=0.281, total=   0.6s\n",
            "[CV] bootstrap=True, max_depth=4, max_features=2, min_samples_leaf=3, min_samples_split=12, n_estimators=10 \n",
            "[CV]  bootstrap=True, max_depth=4, max_features=2, min_samples_leaf=3, min_samples_split=12, n_estimators=10, score=0.216, total=   0.6s\n",
            "[CV] bootstrap=True, max_depth=4, max_features=2, min_samples_leaf=3, min_samples_split=12, n_estimators=10 \n",
            "[CV]  bootstrap=True, max_depth=4, max_features=2, min_samples_leaf=3, min_samples_split=12, n_estimators=10, score=0.258, total=   0.7s\n",
            "[CV] bootstrap=True, max_depth=4, max_features=2, min_samples_leaf=3, min_samples_split=12, n_estimators=20 \n",
            "[CV]  bootstrap=True, max_depth=4, max_features=2, min_samples_leaf=3, min_samples_split=12, n_estimators=20, score=0.255, total=   1.1s\n",
            "[CV] bootstrap=True, max_depth=4, max_features=2, min_samples_leaf=3, min_samples_split=12, n_estimators=20 \n",
            "[CV]  bootstrap=True, max_depth=4, max_features=2, min_samples_leaf=3, min_samples_split=12, n_estimators=20, score=0.315, total=   1.0s\n",
            "[CV] bootstrap=True, max_depth=4, max_features=2, min_samples_leaf=3, min_samples_split=12, n_estimators=20 \n",
            "[CV]  bootstrap=True, max_depth=4, max_features=2, min_samples_leaf=3, min_samples_split=12, n_estimators=20, score=0.205, total=   1.1s\n",
            "[CV] bootstrap=True, max_depth=4, max_features=2, min_samples_leaf=3, min_samples_split=12, n_estimators=20 \n",
            "[CV]  bootstrap=True, max_depth=4, max_features=2, min_samples_leaf=3, min_samples_split=12, n_estimators=20, score=0.204, total=   1.2s\n",
            "[CV] bootstrap=True, max_depth=4, max_features=2, min_samples_leaf=3, min_samples_split=12, n_estimators=20 \n",
            "[CV]  bootstrap=True, max_depth=4, max_features=2, min_samples_leaf=3, min_samples_split=12, n_estimators=20, score=0.372, total=   1.2s\n",
            "[CV] bootstrap=True, max_depth=4, max_features=2, min_samples_leaf=3, min_samples_split=12, n_estimators=30 \n",
            "[CV]  bootstrap=True, max_depth=4, max_features=2, min_samples_leaf=3, min_samples_split=12, n_estimators=30, score=0.308, total=   1.6s\n",
            "[CV] bootstrap=True, max_depth=4, max_features=2, min_samples_leaf=3, min_samples_split=12, n_estimators=30 \n",
            "[CV]  bootstrap=True, max_depth=4, max_features=2, min_samples_leaf=3, min_samples_split=12, n_estimators=30, score=0.263, total=   1.4s\n",
            "[CV] bootstrap=True, max_depth=4, max_features=2, min_samples_leaf=3, min_samples_split=12, n_estimators=30 \n",
            "[CV]  bootstrap=True, max_depth=4, max_features=2, min_samples_leaf=3, min_samples_split=12, n_estimators=30, score=0.241, total=   1.4s\n",
            "[CV] bootstrap=True, max_depth=4, max_features=2, min_samples_leaf=3, min_samples_split=12, n_estimators=30 \n",
            "[CV]  bootstrap=True, max_depth=4, max_features=2, min_samples_leaf=3, min_samples_split=12, n_estimators=30, score=0.263, total=   1.5s\n",
            "[CV] bootstrap=True, max_depth=4, max_features=2, min_samples_leaf=3, min_samples_split=12, n_estimators=30 \n",
            "[CV]  bootstrap=True, max_depth=4, max_features=2, min_samples_leaf=3, min_samples_split=12, n_estimators=30, score=0.241, total=   1.5s\n",
            "[CV] bootstrap=True, max_depth=4, max_features=2, min_samples_leaf=5, min_samples_split=8, n_estimators=10 \n",
            "[CV]  bootstrap=True, max_depth=4, max_features=2, min_samples_leaf=5, min_samples_split=8, n_estimators=10, score=0.151, total=   0.6s\n",
            "[CV] bootstrap=True, max_depth=4, max_features=2, min_samples_leaf=5, min_samples_split=8, n_estimators=10 \n",
            "[CV]  bootstrap=True, max_depth=4, max_features=2, min_samples_leaf=5, min_samples_split=8, n_estimators=10, score=0.249, total=   0.7s\n",
            "[CV] bootstrap=True, max_depth=4, max_features=2, min_samples_leaf=5, min_samples_split=8, n_estimators=10 \n",
            "[CV]  bootstrap=True, max_depth=4, max_features=2, min_samples_leaf=5, min_samples_split=8, n_estimators=10, score=0.220, total=   0.6s\n",
            "[CV] bootstrap=True, max_depth=4, max_features=2, min_samples_leaf=5, min_samples_split=8, n_estimators=10 \n",
            "[CV]  bootstrap=True, max_depth=4, max_features=2, min_samples_leaf=5, min_samples_split=8, n_estimators=10, score=0.274, total=   0.6s\n",
            "[CV] bootstrap=True, max_depth=4, max_features=2, min_samples_leaf=5, min_samples_split=8, n_estimators=10 \n",
            "[CV]  bootstrap=True, max_depth=4, max_features=2, min_samples_leaf=5, min_samples_split=8, n_estimators=10, score=0.231, total=   0.7s\n",
            "[CV] bootstrap=True, max_depth=4, max_features=2, min_samples_leaf=5, min_samples_split=8, n_estimators=20 \n",
            "[CV]  bootstrap=True, max_depth=4, max_features=2, min_samples_leaf=5, min_samples_split=8, n_estimators=20, score=0.209, total=   1.1s\n",
            "[CV] bootstrap=True, max_depth=4, max_features=2, min_samples_leaf=5, min_samples_split=8, n_estimators=20 \n",
            "[CV]  bootstrap=True, max_depth=4, max_features=2, min_samples_leaf=5, min_samples_split=8, n_estimators=20, score=0.250, total=   1.1s\n",
            "[CV] bootstrap=True, max_depth=4, max_features=2, min_samples_leaf=5, min_samples_split=8, n_estimators=20 \n",
            "[CV]  bootstrap=True, max_depth=4, max_features=2, min_samples_leaf=5, min_samples_split=8, n_estimators=20, score=0.212, total=   1.0s\n",
            "[CV] bootstrap=True, max_depth=4, max_features=2, min_samples_leaf=5, min_samples_split=8, n_estimators=20 \n",
            "[CV]  bootstrap=True, max_depth=4, max_features=2, min_samples_leaf=5, min_samples_split=8, n_estimators=20, score=0.204, total=   1.1s\n",
            "[CV] bootstrap=True, max_depth=4, max_features=2, min_samples_leaf=5, min_samples_split=8, n_estimators=20 \n",
            "[CV]  bootstrap=True, max_depth=4, max_features=2, min_samples_leaf=5, min_samples_split=8, n_estimators=20, score=0.182, total=   1.1s\n",
            "[CV] bootstrap=True, max_depth=4, max_features=2, min_samples_leaf=5, min_samples_split=8, n_estimators=30 \n",
            "[CV]  bootstrap=True, max_depth=4, max_features=2, min_samples_leaf=5, min_samples_split=8, n_estimators=30, score=0.354, total=   1.5s\n",
            "[CV] bootstrap=True, max_depth=4, max_features=2, min_samples_leaf=5, min_samples_split=8, n_estimators=30 \n",
            "[CV]  bootstrap=True, max_depth=4, max_features=2, min_samples_leaf=5, min_samples_split=8, n_estimators=30, score=0.233, total=   1.5s\n",
            "[CV] bootstrap=True, max_depth=4, max_features=2, min_samples_leaf=5, min_samples_split=8, n_estimators=30 \n",
            "[CV]  bootstrap=True, max_depth=4, max_features=2, min_samples_leaf=5, min_samples_split=8, n_estimators=30, score=0.246, total=   1.5s\n",
            "[CV] bootstrap=True, max_depth=4, max_features=2, min_samples_leaf=5, min_samples_split=8, n_estimators=30 \n",
            "[CV]  bootstrap=True, max_depth=4, max_features=2, min_samples_leaf=5, min_samples_split=8, n_estimators=30, score=0.301, total=   1.4s\n",
            "[CV] bootstrap=True, max_depth=4, max_features=2, min_samples_leaf=5, min_samples_split=8, n_estimators=30 \n",
            "[CV]  bootstrap=True, max_depth=4, max_features=2, min_samples_leaf=5, min_samples_split=8, n_estimators=30, score=0.209, total=   1.4s\n",
            "[CV] bootstrap=True, max_depth=4, max_features=2, min_samples_leaf=5, min_samples_split=12, n_estimators=10 \n",
            "[CV]  bootstrap=True, max_depth=4, max_features=2, min_samples_leaf=5, min_samples_split=12, n_estimators=10, score=0.204, total=   0.7s\n",
            "[CV] bootstrap=True, max_depth=4, max_features=2, min_samples_leaf=5, min_samples_split=12, n_estimators=10 \n",
            "[CV]  bootstrap=True, max_depth=4, max_features=2, min_samples_leaf=5, min_samples_split=12, n_estimators=10, score=0.311, total=   0.7s\n",
            "[CV] bootstrap=True, max_depth=4, max_features=2, min_samples_leaf=5, min_samples_split=12, n_estimators=10 \n",
            "[CV]  bootstrap=True, max_depth=4, max_features=2, min_samples_leaf=5, min_samples_split=12, n_estimators=10, score=0.210, total=   0.6s\n",
            "[CV] bootstrap=True, max_depth=4, max_features=2, min_samples_leaf=5, min_samples_split=12, n_estimators=10 \n",
            "[CV]  bootstrap=True, max_depth=4, max_features=2, min_samples_leaf=5, min_samples_split=12, n_estimators=10, score=0.237, total=   0.7s\n",
            "[CV] bootstrap=True, max_depth=4, max_features=2, min_samples_leaf=5, min_samples_split=12, n_estimators=10 \n",
            "[CV]  bootstrap=True, max_depth=4, max_features=2, min_samples_leaf=5, min_samples_split=12, n_estimators=10, score=0.192, total=   0.7s\n",
            "[CV] bootstrap=True, max_depth=4, max_features=2, min_samples_leaf=5, min_samples_split=12, n_estimators=20 \n",
            "[CV]  bootstrap=True, max_depth=4, max_features=2, min_samples_leaf=5, min_samples_split=12, n_estimators=20, score=0.264, total=   1.1s\n",
            "[CV] bootstrap=True, max_depth=4, max_features=2, min_samples_leaf=5, min_samples_split=12, n_estimators=20 \n",
            "[CV]  bootstrap=True, max_depth=4, max_features=2, min_samples_leaf=5, min_samples_split=12, n_estimators=20, score=0.227, total=   1.0s\n",
            "[CV] bootstrap=True, max_depth=4, max_features=2, min_samples_leaf=5, min_samples_split=12, n_estimators=20 \n",
            "[CV]  bootstrap=True, max_depth=4, max_features=2, min_samples_leaf=5, min_samples_split=12, n_estimators=20, score=0.243, total=   1.1s\n",
            "[CV] bootstrap=True, max_depth=4, max_features=2, min_samples_leaf=5, min_samples_split=12, n_estimators=20 \n",
            "[CV]  bootstrap=True, max_depth=4, max_features=2, min_samples_leaf=5, min_samples_split=12, n_estimators=20, score=0.342, total=   1.1s\n",
            "[CV] bootstrap=True, max_depth=4, max_features=2, min_samples_leaf=5, min_samples_split=12, n_estimators=20 \n",
            "[CV]  bootstrap=True, max_depth=4, max_features=2, min_samples_leaf=5, min_samples_split=12, n_estimators=20, score=0.203, total=   1.0s\n",
            "[CV] bootstrap=True, max_depth=4, max_features=2, min_samples_leaf=5, min_samples_split=12, n_estimators=30 \n",
            "[CV]  bootstrap=True, max_depth=4, max_features=2, min_samples_leaf=5, min_samples_split=12, n_estimators=30, score=0.182, total=   1.5s\n",
            "[CV] bootstrap=True, max_depth=4, max_features=2, min_samples_leaf=5, min_samples_split=12, n_estimators=30 \n",
            "[CV]  bootstrap=True, max_depth=4, max_features=2, min_samples_leaf=5, min_samples_split=12, n_estimators=30, score=0.288, total=   1.5s\n",
            "[CV] bootstrap=True, max_depth=4, max_features=2, min_samples_leaf=5, min_samples_split=12, n_estimators=30 \n",
            "[CV]  bootstrap=True, max_depth=4, max_features=2, min_samples_leaf=5, min_samples_split=12, n_estimators=30, score=0.248, total=   1.4s\n",
            "[CV] bootstrap=True, max_depth=4, max_features=2, min_samples_leaf=5, min_samples_split=12, n_estimators=30 \n",
            "[CV]  bootstrap=True, max_depth=4, max_features=2, min_samples_leaf=5, min_samples_split=12, n_estimators=30, score=0.215, total=   1.5s\n",
            "[CV] bootstrap=True, max_depth=4, max_features=2, min_samples_leaf=5, min_samples_split=12, n_estimators=30 \n",
            "[CV]  bootstrap=True, max_depth=4, max_features=2, min_samples_leaf=5, min_samples_split=12, n_estimators=30, score=0.193, total=   1.5s\n",
            "[CV] bootstrap=True, max_depth=4, max_features=2, min_samples_leaf=8, min_samples_split=8, n_estimators=10 \n",
            "[CV]  bootstrap=True, max_depth=4, max_features=2, min_samples_leaf=8, min_samples_split=8, n_estimators=10, score=0.289, total=   0.6s\n",
            "[CV] bootstrap=True, max_depth=4, max_features=2, min_samples_leaf=8, min_samples_split=8, n_estimators=10 \n",
            "[CV]  bootstrap=True, max_depth=4, max_features=2, min_samples_leaf=8, min_samples_split=8, n_estimators=10, score=0.274, total=   0.6s\n",
            "[CV] bootstrap=True, max_depth=4, max_features=2, min_samples_leaf=8, min_samples_split=8, n_estimators=10 \n",
            "[CV]  bootstrap=True, max_depth=4, max_features=2, min_samples_leaf=8, min_samples_split=8, n_estimators=10, score=0.270, total=   0.7s\n",
            "[CV] bootstrap=True, max_depth=4, max_features=2, min_samples_leaf=8, min_samples_split=8, n_estimators=10 \n",
            "[CV]  bootstrap=True, max_depth=4, max_features=2, min_samples_leaf=8, min_samples_split=8, n_estimators=10, score=0.275, total=   0.7s\n",
            "[CV] bootstrap=True, max_depth=4, max_features=2, min_samples_leaf=8, min_samples_split=8, n_estimators=10 \n",
            "[CV]  bootstrap=True, max_depth=4, max_features=2, min_samples_leaf=8, min_samples_split=8, n_estimators=10, score=0.260, total=   0.6s\n",
            "[CV] bootstrap=True, max_depth=4, max_features=2, min_samples_leaf=8, min_samples_split=8, n_estimators=20 \n",
            "[CV]  bootstrap=True, max_depth=4, max_features=2, min_samples_leaf=8, min_samples_split=8, n_estimators=20, score=0.271, total=   1.1s\n",
            "[CV] bootstrap=True, max_depth=4, max_features=2, min_samples_leaf=8, min_samples_split=8, n_estimators=20 \n",
            "[CV]  bootstrap=True, max_depth=4, max_features=2, min_samples_leaf=8, min_samples_split=8, n_estimators=20, score=0.281, total=   1.1s\n",
            "[CV] bootstrap=True, max_depth=4, max_features=2, min_samples_leaf=8, min_samples_split=8, n_estimators=20 \n",
            "[CV]  bootstrap=True, max_depth=4, max_features=2, min_samples_leaf=8, min_samples_split=8, n_estimators=20, score=0.248, total=   1.1s\n",
            "[CV] bootstrap=True, max_depth=4, max_features=2, min_samples_leaf=8, min_samples_split=8, n_estimators=20 \n",
            "[CV]  bootstrap=True, max_depth=4, max_features=2, min_samples_leaf=8, min_samples_split=8, n_estimators=20, score=0.185, total=   1.0s\n",
            "[CV] bootstrap=True, max_depth=4, max_features=2, min_samples_leaf=8, min_samples_split=8, n_estimators=20 \n",
            "[CV]  bootstrap=True, max_depth=4, max_features=2, min_samples_leaf=8, min_samples_split=8, n_estimators=20, score=0.221, total=   1.1s\n",
            "[CV] bootstrap=True, max_depth=4, max_features=2, min_samples_leaf=8, min_samples_split=8, n_estimators=30 \n",
            "[CV]  bootstrap=True, max_depth=4, max_features=2, min_samples_leaf=8, min_samples_split=8, n_estimators=30, score=0.248, total=   1.5s\n",
            "[CV] bootstrap=True, max_depth=4, max_features=2, min_samples_leaf=8, min_samples_split=8, n_estimators=30 \n",
            "[CV]  bootstrap=True, max_depth=4, max_features=2, min_samples_leaf=8, min_samples_split=8, n_estimators=30, score=0.253, total=   1.6s\n",
            "[CV] bootstrap=True, max_depth=4, max_features=2, min_samples_leaf=8, min_samples_split=8, n_estimators=30 \n",
            "[CV]  bootstrap=True, max_depth=4, max_features=2, min_samples_leaf=8, min_samples_split=8, n_estimators=30, score=0.250, total=   1.5s\n",
            "[CV] bootstrap=True, max_depth=4, max_features=2, min_samples_leaf=8, min_samples_split=8, n_estimators=30 \n",
            "[CV]  bootstrap=True, max_depth=4, max_features=2, min_samples_leaf=8, min_samples_split=8, n_estimators=30, score=0.270, total=   1.5s\n",
            "[CV] bootstrap=True, max_depth=4, max_features=2, min_samples_leaf=8, min_samples_split=8, n_estimators=30 \n",
            "[CV]  bootstrap=True, max_depth=4, max_features=2, min_samples_leaf=8, min_samples_split=8, n_estimators=30, score=0.316, total=   1.5s\n",
            "[CV] bootstrap=True, max_depth=4, max_features=2, min_samples_leaf=8, min_samples_split=12, n_estimators=10 \n",
            "[CV]  bootstrap=True, max_depth=4, max_features=2, min_samples_leaf=8, min_samples_split=12, n_estimators=10, score=0.170, total=   0.7s\n",
            "[CV] bootstrap=True, max_depth=4, max_features=2, min_samples_leaf=8, min_samples_split=12, n_estimators=10 \n",
            "[CV]  bootstrap=True, max_depth=4, max_features=2, min_samples_leaf=8, min_samples_split=12, n_estimators=10, score=0.275, total=   0.7s\n",
            "[CV] bootstrap=True, max_depth=4, max_features=2, min_samples_leaf=8, min_samples_split=12, n_estimators=10 \n",
            "[CV]  bootstrap=True, max_depth=4, max_features=2, min_samples_leaf=8, min_samples_split=12, n_estimators=10, score=0.222, total=   0.7s\n",
            "[CV] bootstrap=True, max_depth=4, max_features=2, min_samples_leaf=8, min_samples_split=12, n_estimators=10 \n",
            "[CV]  bootstrap=True, max_depth=4, max_features=2, min_samples_leaf=8, min_samples_split=12, n_estimators=10, score=0.182, total=   0.6s\n",
            "[CV] bootstrap=True, max_depth=4, max_features=2, min_samples_leaf=8, min_samples_split=12, n_estimators=10 \n",
            "[CV]  bootstrap=True, max_depth=4, max_features=2, min_samples_leaf=8, min_samples_split=12, n_estimators=10, score=0.164, total=   0.6s\n",
            "[CV] bootstrap=True, max_depth=4, max_features=2, min_samples_leaf=8, min_samples_split=12, n_estimators=20 \n",
            "[CV]  bootstrap=True, max_depth=4, max_features=2, min_samples_leaf=8, min_samples_split=12, n_estimators=20, score=0.206, total=   1.1s\n",
            "[CV] bootstrap=True, max_depth=4, max_features=2, min_samples_leaf=8, min_samples_split=12, n_estimators=20 \n",
            "[CV]  bootstrap=True, max_depth=4, max_features=2, min_samples_leaf=8, min_samples_split=12, n_estimators=20, score=0.256, total=   1.0s\n",
            "[CV] bootstrap=True, max_depth=4, max_features=2, min_samples_leaf=8, min_samples_split=12, n_estimators=20 \n",
            "[CV]  bootstrap=True, max_depth=4, max_features=2, min_samples_leaf=8, min_samples_split=12, n_estimators=20, score=0.236, total=   1.1s\n",
            "[CV] bootstrap=True, max_depth=4, max_features=2, min_samples_leaf=8, min_samples_split=12, n_estimators=20 \n",
            "[CV]  bootstrap=True, max_depth=4, max_features=2, min_samples_leaf=8, min_samples_split=12, n_estimators=20, score=0.247, total=   1.1s\n",
            "[CV] bootstrap=True, max_depth=4, max_features=2, min_samples_leaf=8, min_samples_split=12, n_estimators=20 \n",
            "[CV]  bootstrap=True, max_depth=4, max_features=2, min_samples_leaf=8, min_samples_split=12, n_estimators=20, score=0.246, total=   1.1s\n",
            "[CV] bootstrap=True, max_depth=4, max_features=2, min_samples_leaf=8, min_samples_split=12, n_estimators=30 \n",
            "[CV]  bootstrap=True, max_depth=4, max_features=2, min_samples_leaf=8, min_samples_split=12, n_estimators=30, score=0.252, total=   1.5s\n",
            "[CV] bootstrap=True, max_depth=4, max_features=2, min_samples_leaf=8, min_samples_split=12, n_estimators=30 \n",
            "[CV]  bootstrap=True, max_depth=4, max_features=2, min_samples_leaf=8, min_samples_split=12, n_estimators=30, score=0.262, total=   1.6s\n",
            "[CV] bootstrap=True, max_depth=4, max_features=2, min_samples_leaf=8, min_samples_split=12, n_estimators=30 \n",
            "[CV]  bootstrap=True, max_depth=4, max_features=2, min_samples_leaf=8, min_samples_split=12, n_estimators=30, score=0.241, total=   1.5s\n",
            "[CV] bootstrap=True, max_depth=4, max_features=2, min_samples_leaf=8, min_samples_split=12, n_estimators=30 \n",
            "[CV]  bootstrap=True, max_depth=4, max_features=2, min_samples_leaf=8, min_samples_split=12, n_estimators=30, score=0.270, total=   1.6s\n",
            "[CV] bootstrap=True, max_depth=4, max_features=2, min_samples_leaf=8, min_samples_split=12, n_estimators=30 \n",
            "[CV]  bootstrap=True, max_depth=4, max_features=2, min_samples_leaf=8, min_samples_split=12, n_estimators=30, score=0.276, total=   1.5s\n",
            "[CV] bootstrap=True, max_depth=4, max_features=3, min_samples_leaf=3, min_samples_split=8, n_estimators=10 \n",
            "[CV]  bootstrap=True, max_depth=4, max_features=3, min_samples_leaf=3, min_samples_split=8, n_estimators=10, score=0.464, total=   0.8s\n",
            "[CV] bootstrap=True, max_depth=4, max_features=3, min_samples_leaf=3, min_samples_split=8, n_estimators=10 \n",
            "[CV]  bootstrap=True, max_depth=4, max_features=3, min_samples_leaf=3, min_samples_split=8, n_estimators=10, score=0.193, total=   0.8s\n",
            "[CV] bootstrap=True, max_depth=4, max_features=3, min_samples_leaf=3, min_samples_split=8, n_estimators=10 \n",
            "[CV]  bootstrap=True, max_depth=4, max_features=3, min_samples_leaf=3, min_samples_split=8, n_estimators=10, score=0.322, total=   0.8s\n",
            "[CV] bootstrap=True, max_depth=4, max_features=3, min_samples_leaf=3, min_samples_split=8, n_estimators=10 \n",
            "[CV]  bootstrap=True, max_depth=4, max_features=3, min_samples_leaf=3, min_samples_split=8, n_estimators=10, score=0.259, total=   0.7s\n",
            "[CV] bootstrap=True, max_depth=4, max_features=3, min_samples_leaf=3, min_samples_split=8, n_estimators=10 \n",
            "[CV]  bootstrap=True, max_depth=4, max_features=3, min_samples_leaf=3, min_samples_split=8, n_estimators=10, score=0.394, total=   0.8s\n",
            "[CV] bootstrap=True, max_depth=4, max_features=3, min_samples_leaf=3, min_samples_split=8, n_estimators=20 \n",
            "[CV]  bootstrap=True, max_depth=4, max_features=3, min_samples_leaf=3, min_samples_split=8, n_estimators=20, score=0.313, total=   1.3s\n",
            "[CV] bootstrap=True, max_depth=4, max_features=3, min_samples_leaf=3, min_samples_split=8, n_estimators=20 \n",
            "[CV]  bootstrap=True, max_depth=4, max_features=3, min_samples_leaf=3, min_samples_split=8, n_estimators=20, score=0.240, total=   1.2s\n",
            "[CV] bootstrap=True, max_depth=4, max_features=3, min_samples_leaf=3, min_samples_split=8, n_estimators=20 \n",
            "[CV]  bootstrap=True, max_depth=4, max_features=3, min_samples_leaf=3, min_samples_split=8, n_estimators=20, score=0.283, total=   1.2s\n",
            "[CV] bootstrap=True, max_depth=4, max_features=3, min_samples_leaf=3, min_samples_split=8, n_estimators=20 \n",
            "[CV]  bootstrap=True, max_depth=4, max_features=3, min_samples_leaf=3, min_samples_split=8, n_estimators=20, score=0.392, total=   1.3s\n",
            "[CV] bootstrap=True, max_depth=4, max_features=3, min_samples_leaf=3, min_samples_split=8, n_estimators=20 \n",
            "[CV]  bootstrap=True, max_depth=4, max_features=3, min_samples_leaf=3, min_samples_split=8, n_estimators=20, score=0.282, total=   1.2s\n",
            "[CV] bootstrap=True, max_depth=4, max_features=3, min_samples_leaf=3, min_samples_split=8, n_estimators=30 \n",
            "[CV]  bootstrap=True, max_depth=4, max_features=3, min_samples_leaf=3, min_samples_split=8, n_estimators=30, score=0.281, total=   1.7s\n",
            "[CV] bootstrap=True, max_depth=4, max_features=3, min_samples_leaf=3, min_samples_split=8, n_estimators=30 \n",
            "[CV]  bootstrap=True, max_depth=4, max_features=3, min_samples_leaf=3, min_samples_split=8, n_estimators=30, score=0.293, total=   1.9s\n",
            "[CV] bootstrap=True, max_depth=4, max_features=3, min_samples_leaf=3, min_samples_split=8, n_estimators=30 \n",
            "[CV]  bootstrap=True, max_depth=4, max_features=3, min_samples_leaf=3, min_samples_split=8, n_estimators=30, score=0.295, total=   1.8s\n",
            "[CV] bootstrap=True, max_depth=4, max_features=3, min_samples_leaf=3, min_samples_split=8, n_estimators=30 \n",
            "[CV]  bootstrap=True, max_depth=4, max_features=3, min_samples_leaf=3, min_samples_split=8, n_estimators=30, score=0.327, total=   1.7s\n",
            "[CV] bootstrap=True, max_depth=4, max_features=3, min_samples_leaf=3, min_samples_split=8, n_estimators=30 \n",
            "[CV]  bootstrap=True, max_depth=4, max_features=3, min_samples_leaf=3, min_samples_split=8, n_estimators=30, score=0.331, total=   1.8s\n",
            "[CV] bootstrap=True, max_depth=4, max_features=3, min_samples_leaf=3, min_samples_split=12, n_estimators=10 \n",
            "[CV]  bootstrap=True, max_depth=4, max_features=3, min_samples_leaf=3, min_samples_split=12, n_estimators=10, score=0.347, total=   0.8s\n",
            "[CV] bootstrap=True, max_depth=4, max_features=3, min_samples_leaf=3, min_samples_split=12, n_estimators=10 \n",
            "[CV]  bootstrap=True, max_depth=4, max_features=3, min_samples_leaf=3, min_samples_split=12, n_estimators=10, score=0.277, total=   0.8s\n",
            "[CV] bootstrap=True, max_depth=4, max_features=3, min_samples_leaf=3, min_samples_split=12, n_estimators=10 \n",
            "[CV]  bootstrap=True, max_depth=4, max_features=3, min_samples_leaf=3, min_samples_split=12, n_estimators=10, score=0.227, total=   0.7s\n",
            "[CV] bootstrap=True, max_depth=4, max_features=3, min_samples_leaf=3, min_samples_split=12, n_estimators=10 \n",
            "[CV]  bootstrap=True, max_depth=4, max_features=3, min_samples_leaf=3, min_samples_split=12, n_estimators=10, score=0.210, total=   0.7s\n",
            "[CV] bootstrap=True, max_depth=4, max_features=3, min_samples_leaf=3, min_samples_split=12, n_estimators=10 \n",
            "[CV]  bootstrap=True, max_depth=4, max_features=3, min_samples_leaf=3, min_samples_split=12, n_estimators=10, score=0.322, total=   0.8s\n",
            "[CV] bootstrap=True, max_depth=4, max_features=3, min_samples_leaf=3, min_samples_split=12, n_estimators=20 \n",
            "[CV]  bootstrap=True, max_depth=4, max_features=3, min_samples_leaf=3, min_samples_split=12, n_estimators=20, score=0.287, total=   1.3s\n",
            "[CV] bootstrap=True, max_depth=4, max_features=3, min_samples_leaf=3, min_samples_split=12, n_estimators=20 \n",
            "[CV]  bootstrap=True, max_depth=4, max_features=3, min_samples_leaf=3, min_samples_split=12, n_estimators=20, score=0.280, total=   1.3s\n",
            "[CV] bootstrap=True, max_depth=4, max_features=3, min_samples_leaf=3, min_samples_split=12, n_estimators=20 \n",
            "[CV]  bootstrap=True, max_depth=4, max_features=3, min_samples_leaf=3, min_samples_split=12, n_estimators=20, score=0.339, total=   1.3s\n",
            "[CV] bootstrap=True, max_depth=4, max_features=3, min_samples_leaf=3, min_samples_split=12, n_estimators=20 \n",
            "[CV]  bootstrap=True, max_depth=4, max_features=3, min_samples_leaf=3, min_samples_split=12, n_estimators=20, score=0.331, total=   1.3s\n",
            "[CV] bootstrap=True, max_depth=4, max_features=3, min_samples_leaf=3, min_samples_split=12, n_estimators=20 \n",
            "[CV]  bootstrap=True, max_depth=4, max_features=3, min_samples_leaf=3, min_samples_split=12, n_estimators=20, score=0.264, total=   1.3s\n",
            "[CV] bootstrap=True, max_depth=4, max_features=3, min_samples_leaf=3, min_samples_split=12, n_estimators=30 \n",
            "[CV]  bootstrap=True, max_depth=4, max_features=3, min_samples_leaf=3, min_samples_split=12, n_estimators=30, score=0.385, total=   1.8s\n",
            "[CV] bootstrap=True, max_depth=4, max_features=3, min_samples_leaf=3, min_samples_split=12, n_estimators=30 \n",
            "[CV]  bootstrap=True, max_depth=4, max_features=3, min_samples_leaf=3, min_samples_split=12, n_estimators=30, score=0.337, total=   1.7s\n",
            "[CV] bootstrap=True, max_depth=4, max_features=3, min_samples_leaf=3, min_samples_split=12, n_estimators=30 \n",
            "[CV]  bootstrap=True, max_depth=4, max_features=3, min_samples_leaf=3, min_samples_split=12, n_estimators=30, score=0.351, total=   1.8s\n",
            "[CV] bootstrap=True, max_depth=4, max_features=3, min_samples_leaf=3, min_samples_split=12, n_estimators=30 \n",
            "[CV]  bootstrap=True, max_depth=4, max_features=3, min_samples_leaf=3, min_samples_split=12, n_estimators=30, score=0.317, total=   1.8s\n",
            "[CV] bootstrap=True, max_depth=4, max_features=3, min_samples_leaf=3, min_samples_split=12, n_estimators=30 \n",
            "[CV]  bootstrap=True, max_depth=4, max_features=3, min_samples_leaf=3, min_samples_split=12, n_estimators=30, score=0.296, total=   1.9s\n",
            "[CV] bootstrap=True, max_depth=4, max_features=3, min_samples_leaf=5, min_samples_split=8, n_estimators=10 \n",
            "[CV]  bootstrap=True, max_depth=4, max_features=3, min_samples_leaf=5, min_samples_split=8, n_estimators=10, score=0.220, total=   0.8s\n",
            "[CV] bootstrap=True, max_depth=4, max_features=3, min_samples_leaf=5, min_samples_split=8, n_estimators=10 \n",
            "[CV]  bootstrap=True, max_depth=4, max_features=3, min_samples_leaf=5, min_samples_split=8, n_estimators=10, score=0.274, total=   0.7s\n",
            "[CV] bootstrap=True, max_depth=4, max_features=3, min_samples_leaf=5, min_samples_split=8, n_estimators=10 \n",
            "[CV]  bootstrap=True, max_depth=4, max_features=3, min_samples_leaf=5, min_samples_split=8, n_estimators=10, score=0.276, total=   0.7s\n",
            "[CV] bootstrap=True, max_depth=4, max_features=3, min_samples_leaf=5, min_samples_split=8, n_estimators=10 \n",
            "[CV]  bootstrap=True, max_depth=4, max_features=3, min_samples_leaf=5, min_samples_split=8, n_estimators=10, score=0.248, total=   0.8s\n",
            "[CV] bootstrap=True, max_depth=4, max_features=3, min_samples_leaf=5, min_samples_split=8, n_estimators=10 \n",
            "[CV]  bootstrap=True, max_depth=4, max_features=3, min_samples_leaf=5, min_samples_split=8, n_estimators=10, score=0.318, total=   0.8s\n",
            "[CV] bootstrap=True, max_depth=4, max_features=3, min_samples_leaf=5, min_samples_split=8, n_estimators=20 \n",
            "[CV]  bootstrap=True, max_depth=4, max_features=3, min_samples_leaf=5, min_samples_split=8, n_estimators=20, score=0.251, total=   1.2s\n",
            "[CV] bootstrap=True, max_depth=4, max_features=3, min_samples_leaf=5, min_samples_split=8, n_estimators=20 \n",
            "[CV]  bootstrap=True, max_depth=4, max_features=3, min_samples_leaf=5, min_samples_split=8, n_estimators=20, score=0.326, total=   1.2s\n",
            "[CV] bootstrap=True, max_depth=4, max_features=3, min_samples_leaf=5, min_samples_split=8, n_estimators=20 \n",
            "[CV]  bootstrap=True, max_depth=4, max_features=3, min_samples_leaf=5, min_samples_split=8, n_estimators=20, score=0.306, total=   1.3s\n",
            "[CV] bootstrap=True, max_depth=4, max_features=3, min_samples_leaf=5, min_samples_split=8, n_estimators=20 \n",
            "[CV]  bootstrap=True, max_depth=4, max_features=3, min_samples_leaf=5, min_samples_split=8, n_estimators=20, score=0.252, total=   1.2s\n",
            "[CV] bootstrap=True, max_depth=4, max_features=3, min_samples_leaf=5, min_samples_split=8, n_estimators=20 \n",
            "[CV]  bootstrap=True, max_depth=4, max_features=3, min_samples_leaf=5, min_samples_split=8, n_estimators=20, score=0.297, total=   1.2s\n",
            "[CV] bootstrap=True, max_depth=4, max_features=3, min_samples_leaf=5, min_samples_split=8, n_estimators=30 \n",
            "[CV]  bootstrap=True, max_depth=4, max_features=3, min_samples_leaf=5, min_samples_split=8, n_estimators=30, score=0.269, total=   1.8s\n",
            "[CV] bootstrap=True, max_depth=4, max_features=3, min_samples_leaf=5, min_samples_split=8, n_estimators=30 \n",
            "[CV]  bootstrap=True, max_depth=4, max_features=3, min_samples_leaf=5, min_samples_split=8, n_estimators=30, score=0.263, total=   1.8s\n",
            "[CV] bootstrap=True, max_depth=4, max_features=3, min_samples_leaf=5, min_samples_split=8, n_estimators=30 \n",
            "[CV]  bootstrap=True, max_depth=4, max_features=3, min_samples_leaf=5, min_samples_split=8, n_estimators=30, score=0.284, total=   1.9s\n",
            "[CV] bootstrap=True, max_depth=4, max_features=3, min_samples_leaf=5, min_samples_split=8, n_estimators=30 \n",
            "[CV]  bootstrap=True, max_depth=4, max_features=3, min_samples_leaf=5, min_samples_split=8, n_estimators=30, score=0.305, total=   1.8s\n",
            "[CV] bootstrap=True, max_depth=4, max_features=3, min_samples_leaf=5, min_samples_split=8, n_estimators=30 \n",
            "[CV]  bootstrap=True, max_depth=4, max_features=3, min_samples_leaf=5, min_samples_split=8, n_estimators=30, score=0.359, total=   1.8s\n",
            "[CV] bootstrap=True, max_depth=4, max_features=3, min_samples_leaf=5, min_samples_split=12, n_estimators=10 \n",
            "[CV]  bootstrap=True, max_depth=4, max_features=3, min_samples_leaf=5, min_samples_split=12, n_estimators=10, score=0.434, total=   0.8s\n",
            "[CV] bootstrap=True, max_depth=4, max_features=3, min_samples_leaf=5, min_samples_split=12, n_estimators=10 \n",
            "[CV]  bootstrap=True, max_depth=4, max_features=3, min_samples_leaf=5, min_samples_split=12, n_estimators=10, score=0.188, total=   0.7s\n",
            "[CV] bootstrap=True, max_depth=4, max_features=3, min_samples_leaf=5, min_samples_split=12, n_estimators=10 \n",
            "[CV]  bootstrap=True, max_depth=4, max_features=3, min_samples_leaf=5, min_samples_split=12, n_estimators=10, score=0.295, total=   0.8s\n",
            "[CV] bootstrap=True, max_depth=4, max_features=3, min_samples_leaf=5, min_samples_split=12, n_estimators=10 \n",
            "[CV]  bootstrap=True, max_depth=4, max_features=3, min_samples_leaf=5, min_samples_split=12, n_estimators=10, score=0.230, total=   0.7s\n",
            "[CV] bootstrap=True, max_depth=4, max_features=3, min_samples_leaf=5, min_samples_split=12, n_estimators=10 \n",
            "[CV]  bootstrap=True, max_depth=4, max_features=3, min_samples_leaf=5, min_samples_split=12, n_estimators=10, score=0.359, total=   0.8s\n",
            "[CV] bootstrap=True, max_depth=4, max_features=3, min_samples_leaf=5, min_samples_split=12, n_estimators=20 \n",
            "[CV]  bootstrap=True, max_depth=4, max_features=3, min_samples_leaf=5, min_samples_split=12, n_estimators=20, score=0.337, total=   1.3s\n",
            "[CV] bootstrap=True, max_depth=4, max_features=3, min_samples_leaf=5, min_samples_split=12, n_estimators=20 \n",
            "[CV]  bootstrap=True, max_depth=4, max_features=3, min_samples_leaf=5, min_samples_split=12, n_estimators=20, score=0.264, total=   1.4s\n",
            "[CV] bootstrap=True, max_depth=4, max_features=3, min_samples_leaf=5, min_samples_split=12, n_estimators=20 \n",
            "[CV]  bootstrap=True, max_depth=4, max_features=3, min_samples_leaf=5, min_samples_split=12, n_estimators=20, score=0.257, total=   1.2s\n",
            "[CV] bootstrap=True, max_depth=4, max_features=3, min_samples_leaf=5, min_samples_split=12, n_estimators=20 \n",
            "[CV]  bootstrap=True, max_depth=4, max_features=3, min_samples_leaf=5, min_samples_split=12, n_estimators=20, score=0.323, total=   1.2s\n",
            "[CV] bootstrap=True, max_depth=4, max_features=3, min_samples_leaf=5, min_samples_split=12, n_estimators=20 \n",
            "[CV]  bootstrap=True, max_depth=4, max_features=3, min_samples_leaf=5, min_samples_split=12, n_estimators=20, score=0.243, total=   1.3s\n",
            "[CV] bootstrap=True, max_depth=4, max_features=3, min_samples_leaf=5, min_samples_split=12, n_estimators=30 \n",
            "[CV]  bootstrap=True, max_depth=4, max_features=3, min_samples_leaf=5, min_samples_split=12, n_estimators=30, score=0.331, total=   1.8s\n",
            "[CV] bootstrap=True, max_depth=4, max_features=3, min_samples_leaf=5, min_samples_split=12, n_estimators=30 \n",
            "[CV]  bootstrap=True, max_depth=4, max_features=3, min_samples_leaf=5, min_samples_split=12, n_estimators=30, score=0.296, total=   1.7s\n",
            "[CV] bootstrap=True, max_depth=4, max_features=3, min_samples_leaf=5, min_samples_split=12, n_estimators=30 \n",
            "[CV]  bootstrap=True, max_depth=4, max_features=3, min_samples_leaf=5, min_samples_split=12, n_estimators=30, score=0.378, total=   1.9s\n",
            "[CV] bootstrap=True, max_depth=4, max_features=3, min_samples_leaf=5, min_samples_split=12, n_estimators=30 \n",
            "[CV]  bootstrap=True, max_depth=4, max_features=3, min_samples_leaf=5, min_samples_split=12, n_estimators=30, score=0.308, total=   1.7s\n",
            "[CV] bootstrap=True, max_depth=4, max_features=3, min_samples_leaf=5, min_samples_split=12, n_estimators=30 \n",
            "[CV]  bootstrap=True, max_depth=4, max_features=3, min_samples_leaf=5, min_samples_split=12, n_estimators=30, score=0.310, total=   1.7s\n",
            "[CV] bootstrap=True, max_depth=4, max_features=3, min_samples_leaf=8, min_samples_split=8, n_estimators=10 \n",
            "[CV]  bootstrap=True, max_depth=4, max_features=3, min_samples_leaf=8, min_samples_split=8, n_estimators=10, score=0.314, total=   0.8s\n",
            "[CV] bootstrap=True, max_depth=4, max_features=3, min_samples_leaf=8, min_samples_split=8, n_estimators=10 \n",
            "[CV]  bootstrap=True, max_depth=4, max_features=3, min_samples_leaf=8, min_samples_split=8, n_estimators=10, score=0.339, total=   0.8s\n",
            "[CV] bootstrap=True, max_depth=4, max_features=3, min_samples_leaf=8, min_samples_split=8, n_estimators=10 \n",
            "[CV]  bootstrap=True, max_depth=4, max_features=3, min_samples_leaf=8, min_samples_split=8, n_estimators=10, score=0.358, total=   0.7s\n",
            "[CV] bootstrap=True, max_depth=4, max_features=3, min_samples_leaf=8, min_samples_split=8, n_estimators=10 \n",
            "[CV]  bootstrap=True, max_depth=4, max_features=3, min_samples_leaf=8, min_samples_split=8, n_estimators=10, score=0.345, total=   0.8s\n",
            "[CV] bootstrap=True, max_depth=4, max_features=3, min_samples_leaf=8, min_samples_split=8, n_estimators=10 \n",
            "[CV]  bootstrap=True, max_depth=4, max_features=3, min_samples_leaf=8, min_samples_split=8, n_estimators=10, score=0.235, total=   0.7s\n",
            "[CV] bootstrap=True, max_depth=4, max_features=3, min_samples_leaf=8, min_samples_split=8, n_estimators=20 \n",
            "[CV]  bootstrap=True, max_depth=4, max_features=3, min_samples_leaf=8, min_samples_split=8, n_estimators=20, score=0.389, total=   1.3s\n",
            "[CV] bootstrap=True, max_depth=4, max_features=3, min_samples_leaf=8, min_samples_split=8, n_estimators=20 \n",
            "[CV]  bootstrap=True, max_depth=4, max_features=3, min_samples_leaf=8, min_samples_split=8, n_estimators=20, score=0.312, total=   1.2s\n",
            "[CV] bootstrap=True, max_depth=4, max_features=3, min_samples_leaf=8, min_samples_split=8, n_estimators=20 \n",
            "[CV]  bootstrap=True, max_depth=4, max_features=3, min_samples_leaf=8, min_samples_split=8, n_estimators=20, score=0.381, total=   1.3s\n",
            "[CV] bootstrap=True, max_depth=4, max_features=3, min_samples_leaf=8, min_samples_split=8, n_estimators=20 \n",
            "[CV]  bootstrap=True, max_depth=4, max_features=3, min_samples_leaf=8, min_samples_split=8, n_estimators=20, score=0.243, total=   1.2s\n",
            "[CV] bootstrap=True, max_depth=4, max_features=3, min_samples_leaf=8, min_samples_split=8, n_estimators=20 \n",
            "[CV]  bootstrap=True, max_depth=4, max_features=3, min_samples_leaf=8, min_samples_split=8, n_estimators=20, score=0.305, total=   1.3s\n",
            "[CV] bootstrap=True, max_depth=4, max_features=3, min_samples_leaf=8, min_samples_split=8, n_estimators=30 \n",
            "[CV]  bootstrap=True, max_depth=4, max_features=3, min_samples_leaf=8, min_samples_split=8, n_estimators=30, score=0.250, total=   1.7s\n",
            "[CV] bootstrap=True, max_depth=4, max_features=3, min_samples_leaf=8, min_samples_split=8, n_estimators=30 \n",
            "[CV]  bootstrap=True, max_depth=4, max_features=3, min_samples_leaf=8, min_samples_split=8, n_estimators=30, score=0.327, total=   1.7s\n",
            "[CV] bootstrap=True, max_depth=4, max_features=3, min_samples_leaf=8, min_samples_split=8, n_estimators=30 \n",
            "[CV]  bootstrap=True, max_depth=4, max_features=3, min_samples_leaf=8, min_samples_split=8, n_estimators=30, score=0.392, total=   1.7s\n",
            "[CV] bootstrap=True, max_depth=4, max_features=3, min_samples_leaf=8, min_samples_split=8, n_estimators=30 \n",
            "[CV]  bootstrap=True, max_depth=4, max_features=3, min_samples_leaf=8, min_samples_split=8, n_estimators=30, score=0.304, total=   1.8s\n",
            "[CV] bootstrap=True, max_depth=4, max_features=3, min_samples_leaf=8, min_samples_split=8, n_estimators=30 \n",
            "[CV]  bootstrap=True, max_depth=4, max_features=3, min_samples_leaf=8, min_samples_split=8, n_estimators=30, score=0.304, total=   1.9s\n",
            "[CV] bootstrap=True, max_depth=4, max_features=3, min_samples_leaf=8, min_samples_split=12, n_estimators=10 \n",
            "[CV]  bootstrap=True, max_depth=4, max_features=3, min_samples_leaf=8, min_samples_split=12, n_estimators=10, score=0.269, total=   0.7s\n",
            "[CV] bootstrap=True, max_depth=4, max_features=3, min_samples_leaf=8, min_samples_split=12, n_estimators=10 \n",
            "[CV]  bootstrap=True, max_depth=4, max_features=3, min_samples_leaf=8, min_samples_split=12, n_estimators=10, score=0.280, total=   0.7s\n",
            "[CV] bootstrap=True, max_depth=4, max_features=3, min_samples_leaf=8, min_samples_split=12, n_estimators=10 \n",
            "[CV]  bootstrap=True, max_depth=4, max_features=3, min_samples_leaf=8, min_samples_split=12, n_estimators=10, score=0.258, total=   0.8s\n",
            "[CV] bootstrap=True, max_depth=4, max_features=3, min_samples_leaf=8, min_samples_split=12, n_estimators=10 \n",
            "[CV]  bootstrap=True, max_depth=4, max_features=3, min_samples_leaf=8, min_samples_split=12, n_estimators=10, score=0.348, total=   0.8s\n",
            "[CV] bootstrap=True, max_depth=4, max_features=3, min_samples_leaf=8, min_samples_split=12, n_estimators=10 \n",
            "[CV]  bootstrap=True, max_depth=4, max_features=3, min_samples_leaf=8, min_samples_split=12, n_estimators=10, score=0.265, total=   0.7s\n",
            "[CV] bootstrap=True, max_depth=4, max_features=3, min_samples_leaf=8, min_samples_split=12, n_estimators=20 \n",
            "[CV]  bootstrap=True, max_depth=4, max_features=3, min_samples_leaf=8, min_samples_split=12, n_estimators=20, score=0.380, total=   1.3s\n",
            "[CV] bootstrap=True, max_depth=4, max_features=3, min_samples_leaf=8, min_samples_split=12, n_estimators=20 \n",
            "[CV]  bootstrap=True, max_depth=4, max_features=3, min_samples_leaf=8, min_samples_split=12, n_estimators=20, score=0.321, total=   1.3s\n",
            "[CV] bootstrap=True, max_depth=4, max_features=3, min_samples_leaf=8, min_samples_split=12, n_estimators=20 \n",
            "[CV]  bootstrap=True, max_depth=4, max_features=3, min_samples_leaf=8, min_samples_split=12, n_estimators=20, score=0.357, total=   1.2s\n",
            "[CV] bootstrap=True, max_depth=4, max_features=3, min_samples_leaf=8, min_samples_split=12, n_estimators=20 \n",
            "[CV]  bootstrap=True, max_depth=4, max_features=3, min_samples_leaf=8, min_samples_split=12, n_estimators=20, score=0.291, total=   1.3s\n",
            "[CV] bootstrap=True, max_depth=4, max_features=3, min_samples_leaf=8, min_samples_split=12, n_estimators=20 \n",
            "[CV]  bootstrap=True, max_depth=4, max_features=3, min_samples_leaf=8, min_samples_split=12, n_estimators=20, score=0.382, total=   1.2s\n",
            "[CV] bootstrap=True, max_depth=4, max_features=3, min_samples_leaf=8, min_samples_split=12, n_estimators=30 \n",
            "[CV]  bootstrap=True, max_depth=4, max_features=3, min_samples_leaf=8, min_samples_split=12, n_estimators=30, score=0.287, total=   1.8s\n",
            "[CV] bootstrap=True, max_depth=4, max_features=3, min_samples_leaf=8, min_samples_split=12, n_estimators=30 \n",
            "[CV]  bootstrap=True, max_depth=4, max_features=3, min_samples_leaf=8, min_samples_split=12, n_estimators=30, score=0.398, total=   1.7s\n",
            "[CV] bootstrap=True, max_depth=4, max_features=3, min_samples_leaf=8, min_samples_split=12, n_estimators=30 \n",
            "[CV]  bootstrap=True, max_depth=4, max_features=3, min_samples_leaf=8, min_samples_split=12, n_estimators=30, score=0.287, total=   1.7s\n",
            "[CV] bootstrap=True, max_depth=4, max_features=3, min_samples_leaf=8, min_samples_split=12, n_estimators=30 \n",
            "[CV]  bootstrap=True, max_depth=4, max_features=3, min_samples_leaf=8, min_samples_split=12, n_estimators=30, score=0.319, total=   1.7s\n",
            "[CV] bootstrap=True, max_depth=4, max_features=3, min_samples_leaf=8, min_samples_split=12, n_estimators=30 \n",
            "[CV]  bootstrap=True, max_depth=4, max_features=3, min_samples_leaf=8, min_samples_split=12, n_estimators=30, score=0.276, total=   1.8s\n",
            "[CV] bootstrap=True, max_depth=4, max_features=4, min_samples_leaf=3, min_samples_split=8, n_estimators=10 \n",
            "[CV]  bootstrap=True, max_depth=4, max_features=4, min_samples_leaf=3, min_samples_split=8, n_estimators=10, score=0.245, total=   0.8s\n",
            "[CV] bootstrap=True, max_depth=4, max_features=4, min_samples_leaf=3, min_samples_split=8, n_estimators=10 \n",
            "[CV]  bootstrap=True, max_depth=4, max_features=4, min_samples_leaf=3, min_samples_split=8, n_estimators=10, score=0.458, total=   0.8s\n",
            "[CV] bootstrap=True, max_depth=4, max_features=4, min_samples_leaf=3, min_samples_split=8, n_estimators=10 \n",
            "[CV]  bootstrap=True, max_depth=4, max_features=4, min_samples_leaf=3, min_samples_split=8, n_estimators=10, score=0.305, total=   0.8s\n",
            "[CV] bootstrap=True, max_depth=4, max_features=4, min_samples_leaf=3, min_samples_split=8, n_estimators=10 \n",
            "[CV]  bootstrap=True, max_depth=4, max_features=4, min_samples_leaf=3, min_samples_split=8, n_estimators=10, score=0.345, total=   0.9s\n",
            "[CV] bootstrap=True, max_depth=4, max_features=4, min_samples_leaf=3, min_samples_split=8, n_estimators=10 \n",
            "[CV]  bootstrap=True, max_depth=4, max_features=4, min_samples_leaf=3, min_samples_split=8, n_estimators=10, score=0.244, total=   0.8s\n",
            "[CV] bootstrap=True, max_depth=4, max_features=4, min_samples_leaf=3, min_samples_split=8, n_estimators=20 \n",
            "[CV]  bootstrap=True, max_depth=4, max_features=4, min_samples_leaf=3, min_samples_split=8, n_estimators=20, score=0.323, total=   1.4s\n",
            "[CV] bootstrap=True, max_depth=4, max_features=4, min_samples_leaf=3, min_samples_split=8, n_estimators=20 \n",
            "[CV]  bootstrap=True, max_depth=4, max_features=4, min_samples_leaf=3, min_samples_split=8, n_estimators=20, score=0.331, total=   1.5s\n",
            "[CV] bootstrap=True, max_depth=4, max_features=4, min_samples_leaf=3, min_samples_split=8, n_estimators=20 \n",
            "[CV]  bootstrap=True, max_depth=4, max_features=4, min_samples_leaf=3, min_samples_split=8, n_estimators=20, score=0.367, total=   1.4s\n",
            "[CV] bootstrap=True, max_depth=4, max_features=4, min_samples_leaf=3, min_samples_split=8, n_estimators=20 \n",
            "[CV]  bootstrap=True, max_depth=4, max_features=4, min_samples_leaf=3, min_samples_split=8, n_estimators=20, score=0.453, total=   1.4s\n",
            "[CV] bootstrap=True, max_depth=4, max_features=4, min_samples_leaf=3, min_samples_split=8, n_estimators=20 \n",
            "[CV]  bootstrap=True, max_depth=4, max_features=4, min_samples_leaf=3, min_samples_split=8, n_estimators=20, score=0.347, total=   1.5s\n",
            "[CV] bootstrap=True, max_depth=4, max_features=4, min_samples_leaf=3, min_samples_split=8, n_estimators=30 \n",
            "[CV]  bootstrap=True, max_depth=4, max_features=4, min_samples_leaf=3, min_samples_split=8, n_estimators=30, score=0.382, total=   2.1s\n",
            "[CV] bootstrap=True, max_depth=4, max_features=4, min_samples_leaf=3, min_samples_split=8, n_estimators=30 \n",
            "[CV]  bootstrap=True, max_depth=4, max_features=4, min_samples_leaf=3, min_samples_split=8, n_estimators=30, score=0.397, total=   1.9s\n",
            "[CV] bootstrap=True, max_depth=4, max_features=4, min_samples_leaf=3, min_samples_split=8, n_estimators=30 \n",
            "[CV]  bootstrap=True, max_depth=4, max_features=4, min_samples_leaf=3, min_samples_split=8, n_estimators=30, score=0.395, total=   2.0s\n",
            "[CV] bootstrap=True, max_depth=4, max_features=4, min_samples_leaf=3, min_samples_split=8, n_estimators=30 \n",
            "[CV]  bootstrap=True, max_depth=4, max_features=4, min_samples_leaf=3, min_samples_split=8, n_estimators=30, score=0.417, total=   2.1s\n",
            "[CV] bootstrap=True, max_depth=4, max_features=4, min_samples_leaf=3, min_samples_split=8, n_estimators=30 \n",
            "[CV]  bootstrap=True, max_depth=4, max_features=4, min_samples_leaf=3, min_samples_split=8, n_estimators=30, score=0.380, total=   2.0s\n",
            "[CV] bootstrap=True, max_depth=4, max_features=4, min_samples_leaf=3, min_samples_split=12, n_estimators=10 \n",
            "[CV]  bootstrap=True, max_depth=4, max_features=4, min_samples_leaf=3, min_samples_split=12, n_estimators=10, score=0.367, total=   0.9s\n",
            "[CV] bootstrap=True, max_depth=4, max_features=4, min_samples_leaf=3, min_samples_split=12, n_estimators=10 \n",
            "[CV]  bootstrap=True, max_depth=4, max_features=4, min_samples_leaf=3, min_samples_split=12, n_estimators=10, score=0.401, total=   0.8s\n",
            "[CV] bootstrap=True, max_depth=4, max_features=4, min_samples_leaf=3, min_samples_split=12, n_estimators=10 \n",
            "[CV]  bootstrap=True, max_depth=4, max_features=4, min_samples_leaf=3, min_samples_split=12, n_estimators=10, score=0.218, total=   0.8s\n",
            "[CV] bootstrap=True, max_depth=4, max_features=4, min_samples_leaf=3, min_samples_split=12, n_estimators=10 \n",
            "[CV]  bootstrap=True, max_depth=4, max_features=4, min_samples_leaf=3, min_samples_split=12, n_estimators=10, score=0.317, total=   0.9s\n",
            "[CV] bootstrap=True, max_depth=4, max_features=4, min_samples_leaf=3, min_samples_split=12, n_estimators=10 \n",
            "[CV]  bootstrap=True, max_depth=4, max_features=4, min_samples_leaf=3, min_samples_split=12, n_estimators=10, score=0.431, total=   0.8s\n",
            "[CV] bootstrap=True, max_depth=4, max_features=4, min_samples_leaf=3, min_samples_split=12, n_estimators=20 \n",
            "[CV]  bootstrap=True, max_depth=4, max_features=4, min_samples_leaf=3, min_samples_split=12, n_estimators=20, score=0.336, total=   1.5s\n",
            "[CV] bootstrap=True, max_depth=4, max_features=4, min_samples_leaf=3, min_samples_split=12, n_estimators=20 \n",
            "[CV]  bootstrap=True, max_depth=4, max_features=4, min_samples_leaf=3, min_samples_split=12, n_estimators=20, score=0.411, total=   1.5s\n",
            "[CV] bootstrap=True, max_depth=4, max_features=4, min_samples_leaf=3, min_samples_split=12, n_estimators=20 \n",
            "[CV]  bootstrap=True, max_depth=4, max_features=4, min_samples_leaf=3, min_samples_split=12, n_estimators=20, score=0.360, total=   1.4s\n",
            "[CV] bootstrap=True, max_depth=4, max_features=4, min_samples_leaf=3, min_samples_split=12, n_estimators=20 \n",
            "[CV]  bootstrap=True, max_depth=4, max_features=4, min_samples_leaf=3, min_samples_split=12, n_estimators=20, score=0.289, total=   1.5s\n",
            "[CV] bootstrap=True, max_depth=4, max_features=4, min_samples_leaf=3, min_samples_split=12, n_estimators=20 \n",
            "[CV]  bootstrap=True, max_depth=4, max_features=4, min_samples_leaf=3, min_samples_split=12, n_estimators=20, score=0.447, total=   1.6s\n",
            "[CV] bootstrap=True, max_depth=4, max_features=4, min_samples_leaf=3, min_samples_split=12, n_estimators=30 \n",
            "[CV]  bootstrap=True, max_depth=4, max_features=4, min_samples_leaf=3, min_samples_split=12, n_estimators=30, score=0.386, total=   2.1s\n",
            "[CV] bootstrap=True, max_depth=4, max_features=4, min_samples_leaf=3, min_samples_split=12, n_estimators=30 \n",
            "[CV]  bootstrap=True, max_depth=4, max_features=4, min_samples_leaf=3, min_samples_split=12, n_estimators=30, score=0.425, total=   1.9s\n",
            "[CV] bootstrap=True, max_depth=4, max_features=4, min_samples_leaf=3, min_samples_split=12, n_estimators=30 \n",
            "[CV]  bootstrap=True, max_depth=4, max_features=4, min_samples_leaf=3, min_samples_split=12, n_estimators=30, score=0.373, total=   2.1s\n",
            "[CV] bootstrap=True, max_depth=4, max_features=4, min_samples_leaf=3, min_samples_split=12, n_estimators=30 \n",
            "[CV]  bootstrap=True, max_depth=4, max_features=4, min_samples_leaf=3, min_samples_split=12, n_estimators=30, score=0.326, total=   2.1s\n",
            "[CV] bootstrap=True, max_depth=4, max_features=4, min_samples_leaf=3, min_samples_split=12, n_estimators=30 \n",
            "[CV]  bootstrap=True, max_depth=4, max_features=4, min_samples_leaf=3, min_samples_split=12, n_estimators=30, score=0.317, total=   2.1s\n",
            "[CV] bootstrap=True, max_depth=4, max_features=4, min_samples_leaf=5, min_samples_split=8, n_estimators=10 \n",
            "[CV]  bootstrap=True, max_depth=4, max_features=4, min_samples_leaf=5, min_samples_split=8, n_estimators=10, score=0.401, total=   0.8s\n",
            "[CV] bootstrap=True, max_depth=4, max_features=4, min_samples_leaf=5, min_samples_split=8, n_estimators=10 \n",
            "[CV]  bootstrap=True, max_depth=4, max_features=4, min_samples_leaf=5, min_samples_split=8, n_estimators=10, score=0.494, total=   0.8s\n",
            "[CV] bootstrap=True, max_depth=4, max_features=4, min_samples_leaf=5, min_samples_split=8, n_estimators=10 \n",
            "[CV]  bootstrap=True, max_depth=4, max_features=4, min_samples_leaf=5, min_samples_split=8, n_estimators=10, score=0.259, total=   0.8s\n",
            "[CV] bootstrap=True, max_depth=4, max_features=4, min_samples_leaf=5, min_samples_split=8, n_estimators=10 \n",
            "[CV]  bootstrap=True, max_depth=4, max_features=4, min_samples_leaf=5, min_samples_split=8, n_estimators=10, score=0.416, total=   0.8s\n",
            "[CV] bootstrap=True, max_depth=4, max_features=4, min_samples_leaf=5, min_samples_split=8, n_estimators=10 \n",
            "[CV]  bootstrap=True, max_depth=4, max_features=4, min_samples_leaf=5, min_samples_split=8, n_estimators=10, score=0.308, total=   0.9s\n",
            "[CV] bootstrap=True, max_depth=4, max_features=4, min_samples_leaf=5, min_samples_split=8, n_estimators=20 \n",
            "[CV]  bootstrap=True, max_depth=4, max_features=4, min_samples_leaf=5, min_samples_split=8, n_estimators=20, score=0.328, total=   1.4s\n",
            "[CV] bootstrap=True, max_depth=4, max_features=4, min_samples_leaf=5, min_samples_split=8, n_estimators=20 \n",
            "[CV]  bootstrap=True, max_depth=4, max_features=4, min_samples_leaf=5, min_samples_split=8, n_estimators=20, score=0.345, total=   1.5s\n",
            "[CV] bootstrap=True, max_depth=4, max_features=4, min_samples_leaf=5, min_samples_split=8, n_estimators=20 \n",
            "[CV]  bootstrap=True, max_depth=4, max_features=4, min_samples_leaf=5, min_samples_split=8, n_estimators=20, score=0.296, total=   1.4s\n",
            "[CV] bootstrap=True, max_depth=4, max_features=4, min_samples_leaf=5, min_samples_split=8, n_estimators=20 \n",
            "[CV]  bootstrap=True, max_depth=4, max_features=4, min_samples_leaf=5, min_samples_split=8, n_estimators=20, score=0.392, total=   1.5s\n",
            "[CV] bootstrap=True, max_depth=4, max_features=4, min_samples_leaf=5, min_samples_split=8, n_estimators=20 \n",
            "[CV]  bootstrap=True, max_depth=4, max_features=4, min_samples_leaf=5, min_samples_split=8, n_estimators=20, score=0.409, total=   1.4s\n",
            "[CV] bootstrap=True, max_depth=4, max_features=4, min_samples_leaf=5, min_samples_split=8, n_estimators=30 \n",
            "[CV]  bootstrap=True, max_depth=4, max_features=4, min_samples_leaf=5, min_samples_split=8, n_estimators=30, score=0.416, total=   2.0s\n",
            "[CV] bootstrap=True, max_depth=4, max_features=4, min_samples_leaf=5, min_samples_split=8, n_estimators=30 \n",
            "[CV]  bootstrap=True, max_depth=4, max_features=4, min_samples_leaf=5, min_samples_split=8, n_estimators=30, score=0.376, total=   2.1s\n",
            "[CV] bootstrap=True, max_depth=4, max_features=4, min_samples_leaf=5, min_samples_split=8, n_estimators=30 \n",
            "[CV]  bootstrap=True, max_depth=4, max_features=4, min_samples_leaf=5, min_samples_split=8, n_estimators=30, score=0.399, total=   2.0s\n",
            "[CV] bootstrap=True, max_depth=4, max_features=4, min_samples_leaf=5, min_samples_split=8, n_estimators=30 \n",
            "[CV]  bootstrap=True, max_depth=4, max_features=4, min_samples_leaf=5, min_samples_split=8, n_estimators=30, score=0.295, total=   2.0s\n",
            "[CV] bootstrap=True, max_depth=4, max_features=4, min_samples_leaf=5, min_samples_split=8, n_estimators=30 \n",
            "[CV]  bootstrap=True, max_depth=4, max_features=4, min_samples_leaf=5, min_samples_split=8, n_estimators=30, score=0.407, total=   2.1s\n",
            "[CV] bootstrap=True, max_depth=4, max_features=4, min_samples_leaf=5, min_samples_split=12, n_estimators=10 \n",
            "[CV]  bootstrap=True, max_depth=4, max_features=4, min_samples_leaf=5, min_samples_split=12, n_estimators=10, score=0.306, total=   0.8s\n",
            "[CV] bootstrap=True, max_depth=4, max_features=4, min_samples_leaf=5, min_samples_split=12, n_estimators=10 \n",
            "[CV]  bootstrap=True, max_depth=4, max_features=4, min_samples_leaf=5, min_samples_split=12, n_estimators=10, score=0.381, total=   0.8s\n",
            "[CV] bootstrap=True, max_depth=4, max_features=4, min_samples_leaf=5, min_samples_split=12, n_estimators=10 \n",
            "[CV]  bootstrap=True, max_depth=4, max_features=4, min_samples_leaf=5, min_samples_split=12, n_estimators=10, score=0.368, total=   0.9s\n",
            "[CV] bootstrap=True, max_depth=4, max_features=4, min_samples_leaf=5, min_samples_split=12, n_estimators=10 \n",
            "[CV]  bootstrap=True, max_depth=4, max_features=4, min_samples_leaf=5, min_samples_split=12, n_estimators=10, score=0.231, total=   0.9s\n",
            "[CV] bootstrap=True, max_depth=4, max_features=4, min_samples_leaf=5, min_samples_split=12, n_estimators=10 \n",
            "[CV]  bootstrap=True, max_depth=4, max_features=4, min_samples_leaf=5, min_samples_split=12, n_estimators=10, score=0.357, total=   0.8s\n",
            "[CV] bootstrap=True, max_depth=4, max_features=4, min_samples_leaf=5, min_samples_split=12, n_estimators=20 \n",
            "[CV]  bootstrap=True, max_depth=4, max_features=4, min_samples_leaf=5, min_samples_split=12, n_estimators=20, score=0.440, total=   1.5s\n",
            "[CV] bootstrap=True, max_depth=4, max_features=4, min_samples_leaf=5, min_samples_split=12, n_estimators=20 \n",
            "[CV]  bootstrap=True, max_depth=4, max_features=4, min_samples_leaf=5, min_samples_split=12, n_estimators=20, score=0.433, total=   1.4s\n",
            "[CV] bootstrap=True, max_depth=4, max_features=4, min_samples_leaf=5, min_samples_split=12, n_estimators=20 \n",
            "[CV]  bootstrap=True, max_depth=4, max_features=4, min_samples_leaf=5, min_samples_split=12, n_estimators=20, score=0.385, total=   1.6s\n",
            "[CV] bootstrap=True, max_depth=4, max_features=4, min_samples_leaf=5, min_samples_split=12, n_estimators=20 \n",
            "[CV]  bootstrap=True, max_depth=4, max_features=4, min_samples_leaf=5, min_samples_split=12, n_estimators=20, score=0.434, total=   1.4s\n",
            "[CV] bootstrap=True, max_depth=4, max_features=4, min_samples_leaf=5, min_samples_split=12, n_estimators=20 \n",
            "[CV]  bootstrap=True, max_depth=4, max_features=4, min_samples_leaf=5, min_samples_split=12, n_estimators=20, score=0.366, total=   1.4s\n",
            "[CV] bootstrap=True, max_depth=4, max_features=4, min_samples_leaf=5, min_samples_split=12, n_estimators=30 \n",
            "[CV]  bootstrap=True, max_depth=4, max_features=4, min_samples_leaf=5, min_samples_split=12, n_estimators=30, score=0.381, total=   2.1s\n",
            "[CV] bootstrap=True, max_depth=4, max_features=4, min_samples_leaf=5, min_samples_split=12, n_estimators=30 \n",
            "[CV]  bootstrap=True, max_depth=4, max_features=4, min_samples_leaf=5, min_samples_split=12, n_estimators=30, score=0.411, total=   2.0s\n",
            "[CV] bootstrap=True, max_depth=4, max_features=4, min_samples_leaf=5, min_samples_split=12, n_estimators=30 \n",
            "[CV]  bootstrap=True, max_depth=4, max_features=4, min_samples_leaf=5, min_samples_split=12, n_estimators=30, score=0.421, total=   2.0s\n",
            "[CV] bootstrap=True, max_depth=4, max_features=4, min_samples_leaf=5, min_samples_split=12, n_estimators=30 \n",
            "[CV]  bootstrap=True, max_depth=4, max_features=4, min_samples_leaf=5, min_samples_split=12, n_estimators=30, score=0.374, total=   2.1s\n",
            "[CV] bootstrap=True, max_depth=4, max_features=4, min_samples_leaf=5, min_samples_split=12, n_estimators=30 \n",
            "[CV]  bootstrap=True, max_depth=4, max_features=4, min_samples_leaf=5, min_samples_split=12, n_estimators=30, score=0.354, total=   2.0s\n",
            "[CV] bootstrap=True, max_depth=4, max_features=4, min_samples_leaf=8, min_samples_split=8, n_estimators=10 \n",
            "[CV]  bootstrap=True, max_depth=4, max_features=4, min_samples_leaf=8, min_samples_split=8, n_estimators=10, score=0.417, total=   0.9s\n",
            "[CV] bootstrap=True, max_depth=4, max_features=4, min_samples_leaf=8, min_samples_split=8, n_estimators=10 \n",
            "[CV]  bootstrap=True, max_depth=4, max_features=4, min_samples_leaf=8, min_samples_split=8, n_estimators=10, score=0.249, total=   0.8s\n",
            "[CV] bootstrap=True, max_depth=4, max_features=4, min_samples_leaf=8, min_samples_split=8, n_estimators=10 \n",
            "[CV]  bootstrap=True, max_depth=4, max_features=4, min_samples_leaf=8, min_samples_split=8, n_estimators=10, score=0.448, total=   0.8s\n",
            "[CV] bootstrap=True, max_depth=4, max_features=4, min_samples_leaf=8, min_samples_split=8, n_estimators=10 \n",
            "[CV]  bootstrap=True, max_depth=4, max_features=4, min_samples_leaf=8, min_samples_split=8, n_estimators=10, score=0.438, total=   0.8s\n",
            "[CV] bootstrap=True, max_depth=4, max_features=4, min_samples_leaf=8, min_samples_split=8, n_estimators=10 \n",
            "[CV]  bootstrap=True, max_depth=4, max_features=4, min_samples_leaf=8, min_samples_split=8, n_estimators=10, score=0.391, total=   0.8s\n",
            "[CV] bootstrap=True, max_depth=4, max_features=4, min_samples_leaf=8, min_samples_split=8, n_estimators=20 \n",
            "[CV]  bootstrap=True, max_depth=4, max_features=4, min_samples_leaf=8, min_samples_split=8, n_estimators=20, score=0.331, total=   1.5s\n",
            "[CV] bootstrap=True, max_depth=4, max_features=4, min_samples_leaf=8, min_samples_split=8, n_estimators=20 \n",
            "[CV]  bootstrap=True, max_depth=4, max_features=4, min_samples_leaf=8, min_samples_split=8, n_estimators=20, score=0.378, total=   1.5s\n",
            "[CV] bootstrap=True, max_depth=4, max_features=4, min_samples_leaf=8, min_samples_split=8, n_estimators=20 \n",
            "[CV]  bootstrap=True, max_depth=4, max_features=4, min_samples_leaf=8, min_samples_split=8, n_estimators=20, score=0.382, total=   1.5s\n",
            "[CV] bootstrap=True, max_depth=4, max_features=4, min_samples_leaf=8, min_samples_split=8, n_estimators=20 \n",
            "[CV]  bootstrap=True, max_depth=4, max_features=4, min_samples_leaf=8, min_samples_split=8, n_estimators=20, score=0.370, total=   1.4s\n",
            "[CV] bootstrap=True, max_depth=4, max_features=4, min_samples_leaf=8, min_samples_split=8, n_estimators=20 \n",
            "[CV]  bootstrap=True, max_depth=4, max_features=4, min_samples_leaf=8, min_samples_split=8, n_estimators=20, score=0.346, total=   1.4s\n",
            "[CV] bootstrap=True, max_depth=4, max_features=4, min_samples_leaf=8, min_samples_split=8, n_estimators=30 \n",
            "[CV]  bootstrap=True, max_depth=4, max_features=4, min_samples_leaf=8, min_samples_split=8, n_estimators=30, score=0.415, total=   2.1s\n",
            "[CV] bootstrap=True, max_depth=4, max_features=4, min_samples_leaf=8, min_samples_split=8, n_estimators=30 \n",
            "[CV]  bootstrap=True, max_depth=4, max_features=4, min_samples_leaf=8, min_samples_split=8, n_estimators=30, score=0.431, total=   2.2s\n",
            "[CV] bootstrap=True, max_depth=4, max_features=4, min_samples_leaf=8, min_samples_split=8, n_estimators=30 \n",
            "[CV]  bootstrap=True, max_depth=4, max_features=4, min_samples_leaf=8, min_samples_split=8, n_estimators=30, score=0.368, total=   2.0s\n",
            "[CV] bootstrap=True, max_depth=4, max_features=4, min_samples_leaf=8, min_samples_split=8, n_estimators=30 \n",
            "[CV]  bootstrap=True, max_depth=4, max_features=4, min_samples_leaf=8, min_samples_split=8, n_estimators=30, score=0.346, total=   2.1s\n",
            "[CV] bootstrap=True, max_depth=4, max_features=4, min_samples_leaf=8, min_samples_split=8, n_estimators=30 \n",
            "[CV]  bootstrap=True, max_depth=4, max_features=4, min_samples_leaf=8, min_samples_split=8, n_estimators=30, score=0.396, total=   2.1s\n",
            "[CV] bootstrap=True, max_depth=4, max_features=4, min_samples_leaf=8, min_samples_split=12, n_estimators=10 \n",
            "[CV]  bootstrap=True, max_depth=4, max_features=4, min_samples_leaf=8, min_samples_split=12, n_estimators=10, score=0.363, total=   0.8s\n",
            "[CV] bootstrap=True, max_depth=4, max_features=4, min_samples_leaf=8, min_samples_split=12, n_estimators=10 \n",
            "[CV]  bootstrap=True, max_depth=4, max_features=4, min_samples_leaf=8, min_samples_split=12, n_estimators=10, score=0.242, total=   0.8s\n",
            "[CV] bootstrap=True, max_depth=4, max_features=4, min_samples_leaf=8, min_samples_split=12, n_estimators=10 \n",
            "[CV]  bootstrap=True, max_depth=4, max_features=4, min_samples_leaf=8, min_samples_split=12, n_estimators=10, score=0.402, total=   0.9s\n",
            "[CV] bootstrap=True, max_depth=4, max_features=4, min_samples_leaf=8, min_samples_split=12, n_estimators=10 \n",
            "[CV]  bootstrap=True, max_depth=4, max_features=4, min_samples_leaf=8, min_samples_split=12, n_estimators=10, score=0.299, total=   0.9s\n",
            "[CV] bootstrap=True, max_depth=4, max_features=4, min_samples_leaf=8, min_samples_split=12, n_estimators=10 \n",
            "[CV]  bootstrap=True, max_depth=4, max_features=4, min_samples_leaf=8, min_samples_split=12, n_estimators=10, score=0.320, total=   0.8s\n",
            "[CV] bootstrap=True, max_depth=4, max_features=4, min_samples_leaf=8, min_samples_split=12, n_estimators=20 \n",
            "[CV]  bootstrap=True, max_depth=4, max_features=4, min_samples_leaf=8, min_samples_split=12, n_estimators=20, score=0.375, total=   1.5s\n",
            "[CV] bootstrap=True, max_depth=4, max_features=4, min_samples_leaf=8, min_samples_split=12, n_estimators=20 \n",
            "[CV]  bootstrap=True, max_depth=4, max_features=4, min_samples_leaf=8, min_samples_split=12, n_estimators=20, score=0.329, total=   1.4s\n",
            "[CV] bootstrap=True, max_depth=4, max_features=4, min_samples_leaf=8, min_samples_split=12, n_estimators=20 \n",
            "[CV]  bootstrap=True, max_depth=4, max_features=4, min_samples_leaf=8, min_samples_split=12, n_estimators=20, score=0.274, total=   1.3s\n",
            "[CV] bootstrap=True, max_depth=4, max_features=4, min_samples_leaf=8, min_samples_split=12, n_estimators=20 \n",
            "[CV]  bootstrap=True, max_depth=4, max_features=4, min_samples_leaf=8, min_samples_split=12, n_estimators=20, score=0.396, total=   1.5s\n",
            "[CV] bootstrap=True, max_depth=4, max_features=4, min_samples_leaf=8, min_samples_split=12, n_estimators=20 \n",
            "[CV]  bootstrap=True, max_depth=4, max_features=4, min_samples_leaf=8, min_samples_split=12, n_estimators=20, score=0.283, total=   1.5s\n",
            "[CV] bootstrap=True, max_depth=4, max_features=4, min_samples_leaf=8, min_samples_split=12, n_estimators=30 \n",
            "[CV]  bootstrap=True, max_depth=4, max_features=4, min_samples_leaf=8, min_samples_split=12, n_estimators=30, score=0.297, total=   2.0s\n",
            "[CV] bootstrap=True, max_depth=4, max_features=4, min_samples_leaf=8, min_samples_split=12, n_estimators=30 \n",
            "[CV]  bootstrap=True, max_depth=4, max_features=4, min_samples_leaf=8, min_samples_split=12, n_estimators=30, score=0.354, total=   2.0s\n",
            "[CV] bootstrap=True, max_depth=4, max_features=4, min_samples_leaf=8, min_samples_split=12, n_estimators=30 \n",
            "[CV]  bootstrap=True, max_depth=4, max_features=4, min_samples_leaf=8, min_samples_split=12, n_estimators=30, score=0.418, total=   2.2s\n",
            "[CV] bootstrap=True, max_depth=4, max_features=4, min_samples_leaf=8, min_samples_split=12, n_estimators=30 \n",
            "[CV]  bootstrap=True, max_depth=4, max_features=4, min_samples_leaf=8, min_samples_split=12, n_estimators=30, score=0.405, total=   2.1s\n",
            "[CV] bootstrap=True, max_depth=4, max_features=4, min_samples_leaf=8, min_samples_split=12, n_estimators=30 \n",
            "[CV]  bootstrap=True, max_depth=4, max_features=4, min_samples_leaf=8, min_samples_split=12, n_estimators=30, score=0.377, total=   2.1s\n",
            "[CV] bootstrap=True, max_depth=8, max_features=2, min_samples_leaf=3, min_samples_split=8, n_estimators=10 \n",
            "[CV]  bootstrap=True, max_depth=8, max_features=2, min_samples_leaf=3, min_samples_split=8, n_estimators=10, score=0.420, total=   1.0s\n",
            "[CV] bootstrap=True, max_depth=8, max_features=2, min_samples_leaf=3, min_samples_split=8, n_estimators=10 \n",
            "[CV]  bootstrap=True, max_depth=8, max_features=2, min_samples_leaf=3, min_samples_split=8, n_estimators=10, score=0.455, total=   1.0s\n",
            "[CV] bootstrap=True, max_depth=8, max_features=2, min_samples_leaf=3, min_samples_split=8, n_estimators=10 \n",
            "[CV]  bootstrap=True, max_depth=8, max_features=2, min_samples_leaf=3, min_samples_split=8, n_estimators=10, score=0.350, total=   1.0s\n",
            "[CV] bootstrap=True, max_depth=8, max_features=2, min_samples_leaf=3, min_samples_split=8, n_estimators=10 \n",
            "[CV]  bootstrap=True, max_depth=8, max_features=2, min_samples_leaf=3, min_samples_split=8, n_estimators=10, score=0.385, total=   1.1s\n",
            "[CV] bootstrap=True, max_depth=8, max_features=2, min_samples_leaf=3, min_samples_split=8, n_estimators=10 \n",
            "[CV]  bootstrap=True, max_depth=8, max_features=2, min_samples_leaf=3, min_samples_split=8, n_estimators=10, score=0.354, total=   0.9s\n",
            "[CV] bootstrap=True, max_depth=8, max_features=2, min_samples_leaf=3, min_samples_split=8, n_estimators=20 \n",
            "[CV]  bootstrap=True, max_depth=8, max_features=2, min_samples_leaf=3, min_samples_split=8, n_estimators=20, score=0.442, total=   1.7s\n",
            "[CV] bootstrap=True, max_depth=8, max_features=2, min_samples_leaf=3, min_samples_split=8, n_estimators=20 \n",
            "[CV]  bootstrap=True, max_depth=8, max_features=2, min_samples_leaf=3, min_samples_split=8, n_estimators=20, score=0.436, total=   1.8s\n",
            "[CV] bootstrap=True, max_depth=8, max_features=2, min_samples_leaf=3, min_samples_split=8, n_estimators=20 \n",
            "[CV]  bootstrap=True, max_depth=8, max_features=2, min_samples_leaf=3, min_samples_split=8, n_estimators=20, score=0.343, total=   1.8s\n",
            "[CV] bootstrap=True, max_depth=8, max_features=2, min_samples_leaf=3, min_samples_split=8, n_estimators=20 \n",
            "[CV]  bootstrap=True, max_depth=8, max_features=2, min_samples_leaf=3, min_samples_split=8, n_estimators=20, score=0.432, total=   1.7s\n",
            "[CV] bootstrap=True, max_depth=8, max_features=2, min_samples_leaf=3, min_samples_split=8, n_estimators=20 \n",
            "[CV]  bootstrap=True, max_depth=8, max_features=2, min_samples_leaf=3, min_samples_split=8, n_estimators=20, score=0.341, total=   1.7s\n",
            "[CV] bootstrap=True, max_depth=8, max_features=2, min_samples_leaf=3, min_samples_split=8, n_estimators=30 \n",
            "[CV]  bootstrap=True, max_depth=8, max_features=2, min_samples_leaf=3, min_samples_split=8, n_estimators=30, score=0.411, total=   2.5s\n",
            "[CV] bootstrap=True, max_depth=8, max_features=2, min_samples_leaf=3, min_samples_split=8, n_estimators=30 \n",
            "[CV]  bootstrap=True, max_depth=8, max_features=2, min_samples_leaf=3, min_samples_split=8, n_estimators=30, score=0.439, total=   2.5s\n",
            "[CV] bootstrap=True, max_depth=8, max_features=2, min_samples_leaf=3, min_samples_split=8, n_estimators=30 \n",
            "[CV]  bootstrap=True, max_depth=8, max_features=2, min_samples_leaf=3, min_samples_split=8, n_estimators=30, score=0.464, total=   2.6s\n",
            "[CV] bootstrap=True, max_depth=8, max_features=2, min_samples_leaf=3, min_samples_split=8, n_estimators=30 \n",
            "[CV]  bootstrap=True, max_depth=8, max_features=2, min_samples_leaf=3, min_samples_split=8, n_estimators=30, score=0.400, total=   2.6s\n",
            "[CV] bootstrap=True, max_depth=8, max_features=2, min_samples_leaf=3, min_samples_split=8, n_estimators=30 \n",
            "[CV]  bootstrap=True, max_depth=8, max_features=2, min_samples_leaf=3, min_samples_split=8, n_estimators=30, score=0.393, total=   2.4s\n",
            "[CV] bootstrap=True, max_depth=8, max_features=2, min_samples_leaf=3, min_samples_split=12, n_estimators=10 \n",
            "[CV]  bootstrap=True, max_depth=8, max_features=2, min_samples_leaf=3, min_samples_split=12, n_estimators=10, score=0.382, total=   1.1s\n",
            "[CV] bootstrap=True, max_depth=8, max_features=2, min_samples_leaf=3, min_samples_split=12, n_estimators=10 \n",
            "[CV]  bootstrap=True, max_depth=8, max_features=2, min_samples_leaf=3, min_samples_split=12, n_estimators=10, score=0.278, total=   1.0s\n",
            "[CV] bootstrap=True, max_depth=8, max_features=2, min_samples_leaf=3, min_samples_split=12, n_estimators=10 \n",
            "[CV]  bootstrap=True, max_depth=8, max_features=2, min_samples_leaf=3, min_samples_split=12, n_estimators=10, score=0.341, total=   1.0s\n",
            "[CV] bootstrap=True, max_depth=8, max_features=2, min_samples_leaf=3, min_samples_split=12, n_estimators=10 \n",
            "[CV]  bootstrap=True, max_depth=8, max_features=2, min_samples_leaf=3, min_samples_split=12, n_estimators=10, score=0.283, total=   1.0s\n",
            "[CV] bootstrap=True, max_depth=8, max_features=2, min_samples_leaf=3, min_samples_split=12, n_estimators=10 \n",
            "[CV]  bootstrap=True, max_depth=8, max_features=2, min_samples_leaf=3, min_samples_split=12, n_estimators=10, score=0.425, total=   1.0s\n",
            "[CV] bootstrap=True, max_depth=8, max_features=2, min_samples_leaf=3, min_samples_split=12, n_estimators=20 \n",
            "[CV]  bootstrap=True, max_depth=8, max_features=2, min_samples_leaf=3, min_samples_split=12, n_estimators=20, score=0.344, total=   1.7s\n",
            "[CV] bootstrap=True, max_depth=8, max_features=2, min_samples_leaf=3, min_samples_split=12, n_estimators=20 \n",
            "[CV]  bootstrap=True, max_depth=8, max_features=2, min_samples_leaf=3, min_samples_split=12, n_estimators=20, score=0.326, total=   1.7s\n",
            "[CV] bootstrap=True, max_depth=8, max_features=2, min_samples_leaf=3, min_samples_split=12, n_estimators=20 \n",
            "[CV]  bootstrap=True, max_depth=8, max_features=2, min_samples_leaf=3, min_samples_split=12, n_estimators=20, score=0.440, total=   1.8s\n",
            "[CV] bootstrap=True, max_depth=8, max_features=2, min_samples_leaf=3, min_samples_split=12, n_estimators=20 \n",
            "[CV]  bootstrap=True, max_depth=8, max_features=2, min_samples_leaf=3, min_samples_split=12, n_estimators=20, score=0.378, total=   1.8s\n",
            "[CV] bootstrap=True, max_depth=8, max_features=2, min_samples_leaf=3, min_samples_split=12, n_estimators=20 \n",
            "[CV]  bootstrap=True, max_depth=8, max_features=2, min_samples_leaf=3, min_samples_split=12, n_estimators=20, score=0.389, total=   1.8s\n",
            "[CV] bootstrap=True, max_depth=8, max_features=2, min_samples_leaf=3, min_samples_split=12, n_estimators=30 \n",
            "[CV]  bootstrap=True, max_depth=8, max_features=2, min_samples_leaf=3, min_samples_split=12, n_estimators=30, score=0.352, total=   2.5s\n",
            "[CV] bootstrap=True, max_depth=8, max_features=2, min_samples_leaf=3, min_samples_split=12, n_estimators=30 \n",
            "[CV]  bootstrap=True, max_depth=8, max_features=2, min_samples_leaf=3, min_samples_split=12, n_estimators=30, score=0.372, total=   2.5s\n",
            "[CV] bootstrap=True, max_depth=8, max_features=2, min_samples_leaf=3, min_samples_split=12, n_estimators=30 \n",
            "[CV]  bootstrap=True, max_depth=8, max_features=2, min_samples_leaf=3, min_samples_split=12, n_estimators=30, score=0.354, total=   2.6s\n",
            "[CV] bootstrap=True, max_depth=8, max_features=2, min_samples_leaf=3, min_samples_split=12, n_estimators=30 \n",
            "[CV]  bootstrap=True, max_depth=8, max_features=2, min_samples_leaf=3, min_samples_split=12, n_estimators=30, score=0.406, total=   2.6s\n",
            "[CV] bootstrap=True, max_depth=8, max_features=2, min_samples_leaf=3, min_samples_split=12, n_estimators=30 \n",
            "[CV]  bootstrap=True, max_depth=8, max_features=2, min_samples_leaf=3, min_samples_split=12, n_estimators=30, score=0.330, total=   2.5s\n",
            "[CV] bootstrap=True, max_depth=8, max_features=2, min_samples_leaf=5, min_samples_split=8, n_estimators=10 \n",
            "[CV]  bootstrap=True, max_depth=8, max_features=2, min_samples_leaf=5, min_samples_split=8, n_estimators=10, score=0.456, total=   1.1s\n",
            "[CV] bootstrap=True, max_depth=8, max_features=2, min_samples_leaf=5, min_samples_split=8, n_estimators=10 \n",
            "[CV]  bootstrap=True, max_depth=8, max_features=2, min_samples_leaf=5, min_samples_split=8, n_estimators=10, score=0.318, total=   1.0s\n",
            "[CV] bootstrap=True, max_depth=8, max_features=2, min_samples_leaf=5, min_samples_split=8, n_estimators=10 \n",
            "[CV]  bootstrap=True, max_depth=8, max_features=2, min_samples_leaf=5, min_samples_split=8, n_estimators=10, score=0.412, total=   1.1s\n",
            "[CV] bootstrap=True, max_depth=8, max_features=2, min_samples_leaf=5, min_samples_split=8, n_estimators=10 \n",
            "[CV]  bootstrap=True, max_depth=8, max_features=2, min_samples_leaf=5, min_samples_split=8, n_estimators=10, score=0.365, total=   1.0s\n",
            "[CV] bootstrap=True, max_depth=8, max_features=2, min_samples_leaf=5, min_samples_split=8, n_estimators=10 \n",
            "[CV]  bootstrap=True, max_depth=8, max_features=2, min_samples_leaf=5, min_samples_split=8, n_estimators=10, score=0.402, total=   1.0s\n",
            "[CV] bootstrap=True, max_depth=8, max_features=2, min_samples_leaf=5, min_samples_split=8, n_estimators=20 \n",
            "[CV]  bootstrap=True, max_depth=8, max_features=2, min_samples_leaf=5, min_samples_split=8, n_estimators=20, score=0.365, total=   1.9s\n",
            "[CV] bootstrap=True, max_depth=8, max_features=2, min_samples_leaf=5, min_samples_split=8, n_estimators=20 \n",
            "[CV]  bootstrap=True, max_depth=8, max_features=2, min_samples_leaf=5, min_samples_split=8, n_estimators=20, score=0.442, total=   1.8s\n",
            "[CV] bootstrap=True, max_depth=8, max_features=2, min_samples_leaf=5, min_samples_split=8, n_estimators=20 \n",
            "[CV]  bootstrap=True, max_depth=8, max_features=2, min_samples_leaf=5, min_samples_split=8, n_estimators=20, score=0.369, total=   1.9s\n",
            "[CV] bootstrap=True, max_depth=8, max_features=2, min_samples_leaf=5, min_samples_split=8, n_estimators=20 \n",
            "[CV]  bootstrap=True, max_depth=8, max_features=2, min_samples_leaf=5, min_samples_split=8, n_estimators=20, score=0.303, total=   1.7s\n",
            "[CV] bootstrap=True, max_depth=8, max_features=2, min_samples_leaf=5, min_samples_split=8, n_estimators=20 \n",
            "[CV]  bootstrap=True, max_depth=8, max_features=2, min_samples_leaf=5, min_samples_split=8, n_estimators=20, score=0.389, total=   1.7s\n",
            "[CV] bootstrap=True, max_depth=8, max_features=2, min_samples_leaf=5, min_samples_split=8, n_estimators=30 \n",
            "[CV]  bootstrap=True, max_depth=8, max_features=2, min_samples_leaf=5, min_samples_split=8, n_estimators=30, score=0.396, total=   2.5s\n",
            "[CV] bootstrap=True, max_depth=8, max_features=2, min_samples_leaf=5, min_samples_split=8, n_estimators=30 \n",
            "[CV]  bootstrap=True, max_depth=8, max_features=2, min_samples_leaf=5, min_samples_split=8, n_estimators=30, score=0.395, total=   2.5s\n",
            "[CV] bootstrap=True, max_depth=8, max_features=2, min_samples_leaf=5, min_samples_split=8, n_estimators=30 \n",
            "[CV]  bootstrap=True, max_depth=8, max_features=2, min_samples_leaf=5, min_samples_split=8, n_estimators=30, score=0.409, total=   2.5s\n",
            "[CV] bootstrap=True, max_depth=8, max_features=2, min_samples_leaf=5, min_samples_split=8, n_estimators=30 \n",
            "[CV]  bootstrap=True, max_depth=8, max_features=2, min_samples_leaf=5, min_samples_split=8, n_estimators=30, score=0.356, total=   2.6s\n",
            "[CV] bootstrap=True, max_depth=8, max_features=2, min_samples_leaf=5, min_samples_split=8, n_estimators=30 \n",
            "[CV]  bootstrap=True, max_depth=8, max_features=2, min_samples_leaf=5, min_samples_split=8, n_estimators=30, score=0.368, total=   2.5s\n",
            "[CV] bootstrap=True, max_depth=8, max_features=2, min_samples_leaf=5, min_samples_split=12, n_estimators=10 \n",
            "[CV]  bootstrap=True, max_depth=8, max_features=2, min_samples_leaf=5, min_samples_split=12, n_estimators=10, score=0.272, total=   1.0s\n",
            "[CV] bootstrap=True, max_depth=8, max_features=2, min_samples_leaf=5, min_samples_split=12, n_estimators=10 \n",
            "[CV]  bootstrap=True, max_depth=8, max_features=2, min_samples_leaf=5, min_samples_split=12, n_estimators=10, score=0.361, total=   1.0s\n",
            "[CV] bootstrap=True, max_depth=8, max_features=2, min_samples_leaf=5, min_samples_split=12, n_estimators=10 \n",
            "[CV]  bootstrap=True, max_depth=8, max_features=2, min_samples_leaf=5, min_samples_split=12, n_estimators=10, score=0.363, total=   1.1s\n",
            "[CV] bootstrap=True, max_depth=8, max_features=2, min_samples_leaf=5, min_samples_split=12, n_estimators=10 \n",
            "[CV]  bootstrap=True, max_depth=8, max_features=2, min_samples_leaf=5, min_samples_split=12, n_estimators=10, score=0.281, total=   1.0s\n",
            "[CV] bootstrap=True, max_depth=8, max_features=2, min_samples_leaf=5, min_samples_split=12, n_estimators=10 \n",
            "[CV]  bootstrap=True, max_depth=8, max_features=2, min_samples_leaf=5, min_samples_split=12, n_estimators=10, score=0.387, total=   1.0s\n",
            "[CV] bootstrap=True, max_depth=8, max_features=2, min_samples_leaf=5, min_samples_split=12, n_estimators=20 \n",
            "[CV]  bootstrap=True, max_depth=8, max_features=2, min_samples_leaf=5, min_samples_split=12, n_estimators=20, score=0.361, total=   1.8s\n",
            "[CV] bootstrap=True, max_depth=8, max_features=2, min_samples_leaf=5, min_samples_split=12, n_estimators=20 \n",
            "[CV]  bootstrap=True, max_depth=8, max_features=2, min_samples_leaf=5, min_samples_split=12, n_estimators=20, score=0.360, total=   1.7s\n",
            "[CV] bootstrap=True, max_depth=8, max_features=2, min_samples_leaf=5, min_samples_split=12, n_estimators=20 \n",
            "[CV]  bootstrap=True, max_depth=8, max_features=2, min_samples_leaf=5, min_samples_split=12, n_estimators=20, score=0.412, total=   1.7s\n",
            "[CV] bootstrap=True, max_depth=8, max_features=2, min_samples_leaf=5, min_samples_split=12, n_estimators=20 \n",
            "[CV]  bootstrap=True, max_depth=8, max_features=2, min_samples_leaf=5, min_samples_split=12, n_estimators=20, score=0.429, total=   1.8s\n",
            "[CV] bootstrap=True, max_depth=8, max_features=2, min_samples_leaf=5, min_samples_split=12, n_estimators=20 \n",
            "[CV]  bootstrap=True, max_depth=8, max_features=2, min_samples_leaf=5, min_samples_split=12, n_estimators=20, score=0.497, total=   1.9s\n",
            "[CV] bootstrap=True, max_depth=8, max_features=2, min_samples_leaf=5, min_samples_split=12, n_estimators=30 \n",
            "[CV]  bootstrap=True, max_depth=8, max_features=2, min_samples_leaf=5, min_samples_split=12, n_estimators=30, score=0.351, total=   2.5s\n",
            "[CV] bootstrap=True, max_depth=8, max_features=2, min_samples_leaf=5, min_samples_split=12, n_estimators=30 \n",
            "[CV]  bootstrap=True, max_depth=8, max_features=2, min_samples_leaf=5, min_samples_split=12, n_estimators=30, score=0.374, total=   2.5s\n",
            "[CV] bootstrap=True, max_depth=8, max_features=2, min_samples_leaf=5, min_samples_split=12, n_estimators=30 \n",
            "[CV]  bootstrap=True, max_depth=8, max_features=2, min_samples_leaf=5, min_samples_split=12, n_estimators=30, score=0.459, total=   2.6s\n",
            "[CV] bootstrap=True, max_depth=8, max_features=2, min_samples_leaf=5, min_samples_split=12, n_estimators=30 \n",
            "[CV]  bootstrap=True, max_depth=8, max_features=2, min_samples_leaf=5, min_samples_split=12, n_estimators=30, score=0.386, total=   2.5s\n",
            "[CV] bootstrap=True, max_depth=8, max_features=2, min_samples_leaf=5, min_samples_split=12, n_estimators=30 \n",
            "[CV]  bootstrap=True, max_depth=8, max_features=2, min_samples_leaf=5, min_samples_split=12, n_estimators=30, score=0.360, total=   2.5s\n",
            "[CV] bootstrap=True, max_depth=8, max_features=2, min_samples_leaf=8, min_samples_split=8, n_estimators=10 \n",
            "[CV]  bootstrap=True, max_depth=8, max_features=2, min_samples_leaf=8, min_samples_split=8, n_estimators=10, score=0.421, total=   1.0s\n",
            "[CV] bootstrap=True, max_depth=8, max_features=2, min_samples_leaf=8, min_samples_split=8, n_estimators=10 \n",
            "[CV]  bootstrap=True, max_depth=8, max_features=2, min_samples_leaf=8, min_samples_split=8, n_estimators=10, score=0.377, total=   1.0s\n",
            "[CV] bootstrap=True, max_depth=8, max_features=2, min_samples_leaf=8, min_samples_split=8, n_estimators=10 \n",
            "[CV]  bootstrap=True, max_depth=8, max_features=2, min_samples_leaf=8, min_samples_split=8, n_estimators=10, score=0.399, total=   1.1s\n",
            "[CV] bootstrap=True, max_depth=8, max_features=2, min_samples_leaf=8, min_samples_split=8, n_estimators=10 \n",
            "[CV]  bootstrap=True, max_depth=8, max_features=2, min_samples_leaf=8, min_samples_split=8, n_estimators=10, score=0.330, total=   1.0s\n",
            "[CV] bootstrap=True, max_depth=8, max_features=2, min_samples_leaf=8, min_samples_split=8, n_estimators=10 \n",
            "[CV]  bootstrap=True, max_depth=8, max_features=2, min_samples_leaf=8, min_samples_split=8, n_estimators=10, score=0.382, total=   0.9s\n",
            "[CV] bootstrap=True, max_depth=8, max_features=2, min_samples_leaf=8, min_samples_split=8, n_estimators=20 \n",
            "[CV]  bootstrap=True, max_depth=8, max_features=2, min_samples_leaf=8, min_samples_split=8, n_estimators=20, score=0.375, total=   1.8s\n",
            "[CV] bootstrap=True, max_depth=8, max_features=2, min_samples_leaf=8, min_samples_split=8, n_estimators=20 \n",
            "[CV]  bootstrap=True, max_depth=8, max_features=2, min_samples_leaf=8, min_samples_split=8, n_estimators=20, score=0.444, total=   1.7s\n",
            "[CV] bootstrap=True, max_depth=8, max_features=2, min_samples_leaf=8, min_samples_split=8, n_estimators=20 \n",
            "[CV]  bootstrap=True, max_depth=8, max_features=2, min_samples_leaf=8, min_samples_split=8, n_estimators=20, score=0.363, total=   1.7s\n",
            "[CV] bootstrap=True, max_depth=8, max_features=2, min_samples_leaf=8, min_samples_split=8, n_estimators=20 \n",
            "[CV]  bootstrap=True, max_depth=8, max_features=2, min_samples_leaf=8, min_samples_split=8, n_estimators=20, score=0.376, total=   1.8s\n",
            "[CV] bootstrap=True, max_depth=8, max_features=2, min_samples_leaf=8, min_samples_split=8, n_estimators=20 \n",
            "[CV]  bootstrap=True, max_depth=8, max_features=2, min_samples_leaf=8, min_samples_split=8, n_estimators=20, score=0.411, total=   1.8s\n",
            "[CV] bootstrap=True, max_depth=8, max_features=2, min_samples_leaf=8, min_samples_split=8, n_estimators=30 \n",
            "[CV]  bootstrap=True, max_depth=8, max_features=2, min_samples_leaf=8, min_samples_split=8, n_estimators=30, score=0.488, total=   2.5s\n",
            "[CV] bootstrap=True, max_depth=8, max_features=2, min_samples_leaf=8, min_samples_split=8, n_estimators=30 \n",
            "[CV]  bootstrap=True, max_depth=8, max_features=2, min_samples_leaf=8, min_samples_split=8, n_estimators=30, score=0.425, total=   2.5s\n",
            "[CV] bootstrap=True, max_depth=8, max_features=2, min_samples_leaf=8, min_samples_split=8, n_estimators=30 \n",
            "[CV]  bootstrap=True, max_depth=8, max_features=2, min_samples_leaf=8, min_samples_split=8, n_estimators=30, score=0.418, total=   2.7s\n",
            "[CV] bootstrap=True, max_depth=8, max_features=2, min_samples_leaf=8, min_samples_split=8, n_estimators=30 \n",
            "[CV]  bootstrap=True, max_depth=8, max_features=2, min_samples_leaf=8, min_samples_split=8, n_estimators=30, score=0.362, total=   2.6s\n",
            "[CV] bootstrap=True, max_depth=8, max_features=2, min_samples_leaf=8, min_samples_split=8, n_estimators=30 \n",
            "[CV]  bootstrap=True, max_depth=8, max_features=2, min_samples_leaf=8, min_samples_split=8, n_estimators=30, score=0.373, total=   2.4s\n",
            "[CV] bootstrap=True, max_depth=8, max_features=2, min_samples_leaf=8, min_samples_split=12, n_estimators=10 \n",
            "[CV]  bootstrap=True, max_depth=8, max_features=2, min_samples_leaf=8, min_samples_split=12, n_estimators=10, score=0.371, total=   1.0s\n",
            "[CV] bootstrap=True, max_depth=8, max_features=2, min_samples_leaf=8, min_samples_split=12, n_estimators=10 \n",
            "[CV]  bootstrap=True, max_depth=8, max_features=2, min_samples_leaf=8, min_samples_split=12, n_estimators=10, score=0.416, total=   1.0s\n",
            "[CV] bootstrap=True, max_depth=8, max_features=2, min_samples_leaf=8, min_samples_split=12, n_estimators=10 \n",
            "[CV]  bootstrap=True, max_depth=8, max_features=2, min_samples_leaf=8, min_samples_split=12, n_estimators=10, score=0.401, total=   1.0s\n",
            "[CV] bootstrap=True, max_depth=8, max_features=2, min_samples_leaf=8, min_samples_split=12, n_estimators=10 \n",
            "[CV]  bootstrap=True, max_depth=8, max_features=2, min_samples_leaf=8, min_samples_split=12, n_estimators=10, score=0.441, total=   1.0s\n",
            "[CV] bootstrap=True, max_depth=8, max_features=2, min_samples_leaf=8, min_samples_split=12, n_estimators=10 \n",
            "[CV]  bootstrap=True, max_depth=8, max_features=2, min_samples_leaf=8, min_samples_split=12, n_estimators=10, score=0.448, total=   1.0s\n",
            "[CV] bootstrap=True, max_depth=8, max_features=2, min_samples_leaf=8, min_samples_split=12, n_estimators=20 \n",
            "[CV]  bootstrap=True, max_depth=8, max_features=2, min_samples_leaf=8, min_samples_split=12, n_estimators=20, score=0.438, total=   1.8s\n",
            "[CV] bootstrap=True, max_depth=8, max_features=2, min_samples_leaf=8, min_samples_split=12, n_estimators=20 \n",
            "[CV]  bootstrap=True, max_depth=8, max_features=2, min_samples_leaf=8, min_samples_split=12, n_estimators=20, score=0.343, total=   1.8s\n",
            "[CV] bootstrap=True, max_depth=8, max_features=2, min_samples_leaf=8, min_samples_split=12, n_estimators=20 \n",
            "[CV]  bootstrap=True, max_depth=8, max_features=2, min_samples_leaf=8, min_samples_split=12, n_estimators=20, score=0.370, total=   1.8s\n",
            "[CV] bootstrap=True, max_depth=8, max_features=2, min_samples_leaf=8, min_samples_split=12, n_estimators=20 \n",
            "[CV]  bootstrap=True, max_depth=8, max_features=2, min_samples_leaf=8, min_samples_split=12, n_estimators=20, score=0.343, total=   1.8s\n",
            "[CV] bootstrap=True, max_depth=8, max_features=2, min_samples_leaf=8, min_samples_split=12, n_estimators=20 \n",
            "[CV]  bootstrap=True, max_depth=8, max_features=2, min_samples_leaf=8, min_samples_split=12, n_estimators=20, score=0.347, total=   1.7s\n",
            "[CV] bootstrap=True, max_depth=8, max_features=2, min_samples_leaf=8, min_samples_split=12, n_estimators=30 \n",
            "[CV]  bootstrap=True, max_depth=8, max_features=2, min_samples_leaf=8, min_samples_split=12, n_estimators=30, score=0.413, total=   2.5s\n",
            "[CV] bootstrap=True, max_depth=8, max_features=2, min_samples_leaf=8, min_samples_split=12, n_estimators=30 \n",
            "[CV]  bootstrap=True, max_depth=8, max_features=2, min_samples_leaf=8, min_samples_split=12, n_estimators=30, score=0.391, total=   2.7s\n",
            "[CV] bootstrap=True, max_depth=8, max_features=2, min_samples_leaf=8, min_samples_split=12, n_estimators=30 \n",
            "[CV]  bootstrap=True, max_depth=8, max_features=2, min_samples_leaf=8, min_samples_split=12, n_estimators=30, score=0.379, total=   2.5s\n",
            "[CV] bootstrap=True, max_depth=8, max_features=2, min_samples_leaf=8, min_samples_split=12, n_estimators=30 \n",
            "[CV]  bootstrap=True, max_depth=8, max_features=2, min_samples_leaf=8, min_samples_split=12, n_estimators=30, score=0.346, total=   2.5s\n",
            "[CV] bootstrap=True, max_depth=8, max_features=2, min_samples_leaf=8, min_samples_split=12, n_estimators=30 \n",
            "[CV]  bootstrap=True, max_depth=8, max_features=2, min_samples_leaf=8, min_samples_split=12, n_estimators=30, score=0.376, total=   2.5s\n",
            "[CV] bootstrap=True, max_depth=8, max_features=3, min_samples_leaf=3, min_samples_split=8, n_estimators=10 \n",
            "[CV]  bootstrap=True, max_depth=8, max_features=3, min_samples_leaf=3, min_samples_split=8, n_estimators=10, score=0.494, total=   1.2s\n",
            "[CV] bootstrap=True, max_depth=8, max_features=3, min_samples_leaf=3, min_samples_split=8, n_estimators=10 \n",
            "[CV]  bootstrap=True, max_depth=8, max_features=3, min_samples_leaf=3, min_samples_split=8, n_estimators=10, score=0.498, total=   1.2s\n",
            "[CV] bootstrap=True, max_depth=8, max_features=3, min_samples_leaf=3, min_samples_split=8, n_estimators=10 \n",
            "[CV]  bootstrap=True, max_depth=8, max_features=3, min_samples_leaf=3, min_samples_split=8, n_estimators=10, score=0.466, total=   1.1s\n",
            "[CV] bootstrap=True, max_depth=8, max_features=3, min_samples_leaf=3, min_samples_split=8, n_estimators=10 \n",
            "[CV]  bootstrap=True, max_depth=8, max_features=3, min_samples_leaf=3, min_samples_split=8, n_estimators=10, score=0.560, total=   1.2s\n",
            "[CV] bootstrap=True, max_depth=8, max_features=3, min_samples_leaf=3, min_samples_split=8, n_estimators=10 \n",
            "[CV]  bootstrap=True, max_depth=8, max_features=3, min_samples_leaf=3, min_samples_split=8, n_estimators=10, score=0.402, total=   1.1s\n",
            "[CV] bootstrap=True, max_depth=8, max_features=3, min_samples_leaf=3, min_samples_split=8, n_estimators=20 \n",
            "[CV]  bootstrap=True, max_depth=8, max_features=3, min_samples_leaf=3, min_samples_split=8, n_estimators=20, score=0.540, total=   2.1s\n",
            "[CV] bootstrap=True, max_depth=8, max_features=3, min_samples_leaf=3, min_samples_split=8, n_estimators=20 \n",
            "[CV]  bootstrap=True, max_depth=8, max_features=3, min_samples_leaf=3, min_samples_split=8, n_estimators=20, score=0.438, total=   2.2s\n",
            "[CV] bootstrap=True, max_depth=8, max_features=3, min_samples_leaf=3, min_samples_split=8, n_estimators=20 \n",
            "[CV]  bootstrap=True, max_depth=8, max_features=3, min_samples_leaf=3, min_samples_split=8, n_estimators=20, score=0.452, total=   2.1s\n",
            "[CV] bootstrap=True, max_depth=8, max_features=3, min_samples_leaf=3, min_samples_split=8, n_estimators=20 \n",
            "[CV]  bootstrap=True, max_depth=8, max_features=3, min_samples_leaf=3, min_samples_split=8, n_estimators=20, score=0.439, total=   2.2s\n",
            "[CV] bootstrap=True, max_depth=8, max_features=3, min_samples_leaf=3, min_samples_split=8, n_estimators=20 \n",
            "[CV]  bootstrap=True, max_depth=8, max_features=3, min_samples_leaf=3, min_samples_split=8, n_estimators=20, score=0.472, total=   2.3s\n",
            "[CV] bootstrap=True, max_depth=8, max_features=3, min_samples_leaf=3, min_samples_split=8, n_estimators=30 \n",
            "[CV]  bootstrap=True, max_depth=8, max_features=3, min_samples_leaf=3, min_samples_split=8, n_estimators=30, score=0.509, total=   3.3s\n",
            "[CV] bootstrap=True, max_depth=8, max_features=3, min_samples_leaf=3, min_samples_split=8, n_estimators=30 \n",
            "[CV]  bootstrap=True, max_depth=8, max_features=3, min_samples_leaf=3, min_samples_split=8, n_estimators=30, score=0.509, total=   3.3s\n",
            "[CV] bootstrap=True, max_depth=8, max_features=3, min_samples_leaf=3, min_samples_split=8, n_estimators=30 \n",
            "[CV]  bootstrap=True, max_depth=8, max_features=3, min_samples_leaf=3, min_samples_split=8, n_estimators=30, score=0.464, total=   3.2s\n",
            "[CV] bootstrap=True, max_depth=8, max_features=3, min_samples_leaf=3, min_samples_split=8, n_estimators=30 \n",
            "[CV]  bootstrap=True, max_depth=8, max_features=3, min_samples_leaf=3, min_samples_split=8, n_estimators=30, score=0.491, total=   3.3s\n",
            "[CV] bootstrap=True, max_depth=8, max_features=3, min_samples_leaf=3, min_samples_split=8, n_estimators=30 \n",
            "[CV]  bootstrap=True, max_depth=8, max_features=3, min_samples_leaf=3, min_samples_split=8, n_estimators=30, score=0.522, total=   3.1s\n",
            "[CV] bootstrap=True, max_depth=8, max_features=3, min_samples_leaf=3, min_samples_split=12, n_estimators=10 \n",
            "[CV]  bootstrap=True, max_depth=8, max_features=3, min_samples_leaf=3, min_samples_split=12, n_estimators=10, score=0.446, total=   1.2s\n",
            "[CV] bootstrap=True, max_depth=8, max_features=3, min_samples_leaf=3, min_samples_split=12, n_estimators=10 \n",
            "[CV]  bootstrap=True, max_depth=8, max_features=3, min_samples_leaf=3, min_samples_split=12, n_estimators=10, score=0.460, total=   1.3s\n",
            "[CV] bootstrap=True, max_depth=8, max_features=3, min_samples_leaf=3, min_samples_split=12, n_estimators=10 \n",
            "[CV]  bootstrap=True, max_depth=8, max_features=3, min_samples_leaf=3, min_samples_split=12, n_estimators=10, score=0.430, total=   1.1s\n",
            "[CV] bootstrap=True, max_depth=8, max_features=3, min_samples_leaf=3, min_samples_split=12, n_estimators=10 \n",
            "[CV]  bootstrap=True, max_depth=8, max_features=3, min_samples_leaf=3, min_samples_split=12, n_estimators=10, score=0.448, total=   1.2s\n",
            "[CV] bootstrap=True, max_depth=8, max_features=3, min_samples_leaf=3, min_samples_split=12, n_estimators=10 \n",
            "[CV]  bootstrap=True, max_depth=8, max_features=3, min_samples_leaf=3, min_samples_split=12, n_estimators=10, score=0.426, total=   1.1s\n",
            "[CV] bootstrap=True, max_depth=8, max_features=3, min_samples_leaf=3, min_samples_split=12, n_estimators=20 \n",
            "[CV]  bootstrap=True, max_depth=8, max_features=3, min_samples_leaf=3, min_samples_split=12, n_estimators=20, score=0.516, total=   2.1s\n",
            "[CV] bootstrap=True, max_depth=8, max_features=3, min_samples_leaf=3, min_samples_split=12, n_estimators=20 \n",
            "[CV]  bootstrap=True, max_depth=8, max_features=3, min_samples_leaf=3, min_samples_split=12, n_estimators=20, score=0.428, total=   2.2s\n",
            "[CV] bootstrap=True, max_depth=8, max_features=3, min_samples_leaf=3, min_samples_split=12, n_estimators=20 \n",
            "[CV]  bootstrap=True, max_depth=8, max_features=3, min_samples_leaf=3, min_samples_split=12, n_estimators=20, score=0.461, total=   2.2s\n",
            "[CV] bootstrap=True, max_depth=8, max_features=3, min_samples_leaf=3, min_samples_split=12, n_estimators=20 \n",
            "[CV]  bootstrap=True, max_depth=8, max_features=3, min_samples_leaf=3, min_samples_split=12, n_estimators=20, score=0.478, total=   2.1s\n",
            "[CV] bootstrap=True, max_depth=8, max_features=3, min_samples_leaf=3, min_samples_split=12, n_estimators=20 \n",
            "[CV]  bootstrap=True, max_depth=8, max_features=3, min_samples_leaf=3, min_samples_split=12, n_estimators=20, score=0.515, total=   2.1s\n",
            "[CV] bootstrap=True, max_depth=8, max_features=3, min_samples_leaf=3, min_samples_split=12, n_estimators=30 \n",
            "[CV]  bootstrap=True, max_depth=8, max_features=3, min_samples_leaf=3, min_samples_split=12, n_estimators=30, score=0.480, total=   3.2s\n",
            "[CV] bootstrap=True, max_depth=8, max_features=3, min_samples_leaf=3, min_samples_split=12, n_estimators=30 \n",
            "[CV]  bootstrap=True, max_depth=8, max_features=3, min_samples_leaf=3, min_samples_split=12, n_estimators=30, score=0.472, total=   3.1s\n",
            "[CV] bootstrap=True, max_depth=8, max_features=3, min_samples_leaf=3, min_samples_split=12, n_estimators=30 \n",
            "[CV]  bootstrap=True, max_depth=8, max_features=3, min_samples_leaf=3, min_samples_split=12, n_estimators=30, score=0.448, total=   3.0s\n",
            "[CV] bootstrap=True, max_depth=8, max_features=3, min_samples_leaf=3, min_samples_split=12, n_estimators=30 \n",
            "[CV]  bootstrap=True, max_depth=8, max_features=3, min_samples_leaf=3, min_samples_split=12, n_estimators=30, score=0.416, total=   3.2s\n",
            "[CV] bootstrap=True, max_depth=8, max_features=3, min_samples_leaf=3, min_samples_split=12, n_estimators=30 \n",
            "[CV]  bootstrap=True, max_depth=8, max_features=3, min_samples_leaf=3, min_samples_split=12, n_estimators=30, score=0.494, total=   3.0s\n",
            "[CV] bootstrap=True, max_depth=8, max_features=3, min_samples_leaf=5, min_samples_split=8, n_estimators=10 \n",
            "[CV]  bootstrap=True, max_depth=8, max_features=3, min_samples_leaf=5, min_samples_split=8, n_estimators=10, score=0.462, total=   1.2s\n",
            "[CV] bootstrap=True, max_depth=8, max_features=3, min_samples_leaf=5, min_samples_split=8, n_estimators=10 \n",
            "[CV]  bootstrap=True, max_depth=8, max_features=3, min_samples_leaf=5, min_samples_split=8, n_estimators=10, score=0.534, total=   1.2s\n",
            "[CV] bootstrap=True, max_depth=8, max_features=3, min_samples_leaf=5, min_samples_split=8, n_estimators=10 \n",
            "[CV]  bootstrap=True, max_depth=8, max_features=3, min_samples_leaf=5, min_samples_split=8, n_estimators=10, score=0.438, total=   1.2s\n",
            "[CV] bootstrap=True, max_depth=8, max_features=3, min_samples_leaf=5, min_samples_split=8, n_estimators=10 \n",
            "[CV]  bootstrap=True, max_depth=8, max_features=3, min_samples_leaf=5, min_samples_split=8, n_estimators=10, score=0.490, total=   1.2s\n",
            "[CV] bootstrap=True, max_depth=8, max_features=3, min_samples_leaf=5, min_samples_split=8, n_estimators=10 \n",
            "[CV]  bootstrap=True, max_depth=8, max_features=3, min_samples_leaf=5, min_samples_split=8, n_estimators=10, score=0.505, total=   1.2s\n",
            "[CV] bootstrap=True, max_depth=8, max_features=3, min_samples_leaf=5, min_samples_split=8, n_estimators=20 \n",
            "[CV]  bootstrap=True, max_depth=8, max_features=3, min_samples_leaf=5, min_samples_split=8, n_estimators=20, score=0.457, total=   2.2s\n",
            "[CV] bootstrap=True, max_depth=8, max_features=3, min_samples_leaf=5, min_samples_split=8, n_estimators=20 \n",
            "[CV]  bootstrap=True, max_depth=8, max_features=3, min_samples_leaf=5, min_samples_split=8, n_estimators=20, score=0.544, total=   2.2s\n",
            "[CV] bootstrap=True, max_depth=8, max_features=3, min_samples_leaf=5, min_samples_split=8, n_estimators=20 \n",
            "[CV]  bootstrap=True, max_depth=8, max_features=3, min_samples_leaf=5, min_samples_split=8, n_estimators=20, score=0.492, total=   2.3s\n",
            "[CV] bootstrap=True, max_depth=8, max_features=3, min_samples_leaf=5, min_samples_split=8, n_estimators=20 \n",
            "[CV]  bootstrap=True, max_depth=8, max_features=3, min_samples_leaf=5, min_samples_split=8, n_estimators=20, score=0.462, total=   2.2s\n",
            "[CV] bootstrap=True, max_depth=8, max_features=3, min_samples_leaf=5, min_samples_split=8, n_estimators=20 \n",
            "[CV]  bootstrap=True, max_depth=8, max_features=3, min_samples_leaf=5, min_samples_split=8, n_estimators=20, score=0.548, total=   2.3s\n",
            "[CV] bootstrap=True, max_depth=8, max_features=3, min_samples_leaf=5, min_samples_split=8, n_estimators=30 \n",
            "[CV]  bootstrap=True, max_depth=8, max_features=3, min_samples_leaf=5, min_samples_split=8, n_estimators=30, score=0.462, total=   3.1s\n",
            "[CV] bootstrap=True, max_depth=8, max_features=3, min_samples_leaf=5, min_samples_split=8, n_estimators=30 \n",
            "[CV]  bootstrap=True, max_depth=8, max_features=3, min_samples_leaf=5, min_samples_split=8, n_estimators=30, score=0.508, total=   3.2s\n",
            "[CV] bootstrap=True, max_depth=8, max_features=3, min_samples_leaf=5, min_samples_split=8, n_estimators=30 \n",
            "[CV]  bootstrap=True, max_depth=8, max_features=3, min_samples_leaf=5, min_samples_split=8, n_estimators=30, score=0.434, total=   3.1s\n",
            "[CV] bootstrap=True, max_depth=8, max_features=3, min_samples_leaf=5, min_samples_split=8, n_estimators=30 \n",
            "[CV]  bootstrap=True, max_depth=8, max_features=3, min_samples_leaf=5, min_samples_split=8, n_estimators=30, score=0.463, total=   3.3s\n",
            "[CV] bootstrap=True, max_depth=8, max_features=3, min_samples_leaf=5, min_samples_split=8, n_estimators=30 \n",
            "[CV]  bootstrap=True, max_depth=8, max_features=3, min_samples_leaf=5, min_samples_split=8, n_estimators=30, score=0.478, total=   3.1s\n",
            "[CV] bootstrap=True, max_depth=8, max_features=3, min_samples_leaf=5, min_samples_split=12, n_estimators=10 \n",
            "[CV]  bootstrap=True, max_depth=8, max_features=3, min_samples_leaf=5, min_samples_split=12, n_estimators=10, score=0.391, total=   1.2s\n",
            "[CV] bootstrap=True, max_depth=8, max_features=3, min_samples_leaf=5, min_samples_split=12, n_estimators=10 \n",
            "[CV]  bootstrap=True, max_depth=8, max_features=3, min_samples_leaf=5, min_samples_split=12, n_estimators=10, score=0.426, total=   1.2s\n",
            "[CV] bootstrap=True, max_depth=8, max_features=3, min_samples_leaf=5, min_samples_split=12, n_estimators=10 \n",
            "[CV]  bootstrap=True, max_depth=8, max_features=3, min_samples_leaf=5, min_samples_split=12, n_estimators=10, score=0.448, total=   1.2s\n",
            "[CV] bootstrap=True, max_depth=8, max_features=3, min_samples_leaf=5, min_samples_split=12, n_estimators=10 \n",
            "[CV]  bootstrap=True, max_depth=8, max_features=3, min_samples_leaf=5, min_samples_split=12, n_estimators=10, score=0.473, total=   1.2s\n",
            "[CV] bootstrap=True, max_depth=8, max_features=3, min_samples_leaf=5, min_samples_split=12, n_estimators=10 \n",
            "[CV]  bootstrap=True, max_depth=8, max_features=3, min_samples_leaf=5, min_samples_split=12, n_estimators=10, score=0.380, total=   1.3s\n",
            "[CV] bootstrap=True, max_depth=8, max_features=3, min_samples_leaf=5, min_samples_split=12, n_estimators=20 \n",
            "[CV]  bootstrap=True, max_depth=8, max_features=3, min_samples_leaf=5, min_samples_split=12, n_estimators=20, score=0.556, total=   2.2s\n",
            "[CV] bootstrap=True, max_depth=8, max_features=3, min_samples_leaf=5, min_samples_split=12, n_estimators=20 \n",
            "[CV]  bootstrap=True, max_depth=8, max_features=3, min_samples_leaf=5, min_samples_split=12, n_estimators=20, score=0.535, total=   2.2s\n",
            "[CV] bootstrap=True, max_depth=8, max_features=3, min_samples_leaf=5, min_samples_split=12, n_estimators=20 \n",
            "[CV]  bootstrap=True, max_depth=8, max_features=3, min_samples_leaf=5, min_samples_split=12, n_estimators=20, score=0.498, total=   2.2s\n",
            "[CV] bootstrap=True, max_depth=8, max_features=3, min_samples_leaf=5, min_samples_split=12, n_estimators=20 \n",
            "[CV]  bootstrap=True, max_depth=8, max_features=3, min_samples_leaf=5, min_samples_split=12, n_estimators=20, score=0.520, total=   2.2s\n",
            "[CV] bootstrap=True, max_depth=8, max_features=3, min_samples_leaf=5, min_samples_split=12, n_estimators=20 \n",
            "[CV]  bootstrap=True, max_depth=8, max_features=3, min_samples_leaf=5, min_samples_split=12, n_estimators=20, score=0.487, total=   2.1s\n",
            "[CV] bootstrap=True, max_depth=8, max_features=3, min_samples_leaf=5, min_samples_split=12, n_estimators=30 \n",
            "[CV]  bootstrap=True, max_depth=8, max_features=3, min_samples_leaf=5, min_samples_split=12, n_estimators=30, score=0.518, total=   3.2s\n",
            "[CV] bootstrap=True, max_depth=8, max_features=3, min_samples_leaf=5, min_samples_split=12, n_estimators=30 \n",
            "[CV]  bootstrap=True, max_depth=8, max_features=3, min_samples_leaf=5, min_samples_split=12, n_estimators=30, score=0.422, total=   3.2s\n",
            "[CV] bootstrap=True, max_depth=8, max_features=3, min_samples_leaf=5, min_samples_split=12, n_estimators=30 \n",
            "[CV]  bootstrap=True, max_depth=8, max_features=3, min_samples_leaf=5, min_samples_split=12, n_estimators=30, score=0.468, total=   3.2s\n",
            "[CV] bootstrap=True, max_depth=8, max_features=3, min_samples_leaf=5, min_samples_split=12, n_estimators=30 \n",
            "[CV]  bootstrap=True, max_depth=8, max_features=3, min_samples_leaf=5, min_samples_split=12, n_estimators=30, score=0.490, total=   3.1s\n",
            "[CV] bootstrap=True, max_depth=8, max_features=3, min_samples_leaf=5, min_samples_split=12, n_estimators=30 \n",
            "[CV]  bootstrap=True, max_depth=8, max_features=3, min_samples_leaf=5, min_samples_split=12, n_estimators=30, score=0.475, total=   3.2s\n",
            "[CV] bootstrap=True, max_depth=8, max_features=3, min_samples_leaf=8, min_samples_split=8, n_estimators=10 \n",
            "[CV]  bootstrap=True, max_depth=8, max_features=3, min_samples_leaf=8, min_samples_split=8, n_estimators=10, score=0.424, total=   1.2s\n",
            "[CV] bootstrap=True, max_depth=8, max_features=3, min_samples_leaf=8, min_samples_split=8, n_estimators=10 \n",
            "[CV]  bootstrap=True, max_depth=8, max_features=3, min_samples_leaf=8, min_samples_split=8, n_estimators=10, score=0.409, total=   1.2s\n",
            "[CV] bootstrap=True, max_depth=8, max_features=3, min_samples_leaf=8, min_samples_split=8, n_estimators=10 \n",
            "[CV]  bootstrap=True, max_depth=8, max_features=3, min_samples_leaf=8, min_samples_split=8, n_estimators=10, score=0.496, total=   1.2s\n",
            "[CV] bootstrap=True, max_depth=8, max_features=3, min_samples_leaf=8, min_samples_split=8, n_estimators=10 \n",
            "[CV]  bootstrap=True, max_depth=8, max_features=3, min_samples_leaf=8, min_samples_split=8, n_estimators=10, score=0.332, total=   1.2s\n",
            "[CV] bootstrap=True, max_depth=8, max_features=3, min_samples_leaf=8, min_samples_split=8, n_estimators=10 \n",
            "[CV]  bootstrap=True, max_depth=8, max_features=3, min_samples_leaf=8, min_samples_split=8, n_estimators=10, score=0.460, total=   1.4s\n",
            "[CV] bootstrap=True, max_depth=8, max_features=3, min_samples_leaf=8, min_samples_split=8, n_estimators=20 \n",
            "[CV]  bootstrap=True, max_depth=8, max_features=3, min_samples_leaf=8, min_samples_split=8, n_estimators=20, score=0.465, total=   2.1s\n",
            "[CV] bootstrap=True, max_depth=8, max_features=3, min_samples_leaf=8, min_samples_split=8, n_estimators=20 \n",
            "[CV]  bootstrap=True, max_depth=8, max_features=3, min_samples_leaf=8, min_samples_split=8, n_estimators=20, score=0.469, total=   2.2s\n",
            "[CV] bootstrap=True, max_depth=8, max_features=3, min_samples_leaf=8, min_samples_split=8, n_estimators=20 \n",
            "[CV]  bootstrap=True, max_depth=8, max_features=3, min_samples_leaf=8, min_samples_split=8, n_estimators=20, score=0.507, total=   2.3s\n",
            "[CV] bootstrap=True, max_depth=8, max_features=3, min_samples_leaf=8, min_samples_split=8, n_estimators=20 \n",
            "[CV]  bootstrap=True, max_depth=8, max_features=3, min_samples_leaf=8, min_samples_split=8, n_estimators=20, score=0.400, total=   2.2s\n",
            "[CV] bootstrap=True, max_depth=8, max_features=3, min_samples_leaf=8, min_samples_split=8, n_estimators=20 \n",
            "[CV]  bootstrap=True, max_depth=8, max_features=3, min_samples_leaf=8, min_samples_split=8, n_estimators=20, score=0.442, total=   2.3s\n",
            "[CV] bootstrap=True, max_depth=8, max_features=3, min_samples_leaf=8, min_samples_split=8, n_estimators=30 \n",
            "[CV]  bootstrap=True, max_depth=8, max_features=3, min_samples_leaf=8, min_samples_split=8, n_estimators=30, score=0.472, total=   3.2s\n",
            "[CV] bootstrap=True, max_depth=8, max_features=3, min_samples_leaf=8, min_samples_split=8, n_estimators=30 \n",
            "[CV]  bootstrap=True, max_depth=8, max_features=3, min_samples_leaf=8, min_samples_split=8, n_estimators=30, score=0.492, total=   3.1s\n",
            "[CV] bootstrap=True, max_depth=8, max_features=3, min_samples_leaf=8, min_samples_split=8, n_estimators=30 \n",
            "[CV]  bootstrap=True, max_depth=8, max_features=3, min_samples_leaf=8, min_samples_split=8, n_estimators=30, score=0.461, total=   3.1s\n",
            "[CV] bootstrap=True, max_depth=8, max_features=3, min_samples_leaf=8, min_samples_split=8, n_estimators=30 \n",
            "[CV]  bootstrap=True, max_depth=8, max_features=3, min_samples_leaf=8, min_samples_split=8, n_estimators=30, score=0.493, total=   3.0s\n",
            "[CV] bootstrap=True, max_depth=8, max_features=3, min_samples_leaf=8, min_samples_split=8, n_estimators=30 \n",
            "[CV]  bootstrap=True, max_depth=8, max_features=3, min_samples_leaf=8, min_samples_split=8, n_estimators=30, score=0.486, total=   3.1s\n",
            "[CV] bootstrap=True, max_depth=8, max_features=3, min_samples_leaf=8, min_samples_split=12, n_estimators=10 \n",
            "[CV]  bootstrap=True, max_depth=8, max_features=3, min_samples_leaf=8, min_samples_split=12, n_estimators=10, score=0.496, total=   1.2s\n",
            "[CV] bootstrap=True, max_depth=8, max_features=3, min_samples_leaf=8, min_samples_split=12, n_estimators=10 \n",
            "[CV]  bootstrap=True, max_depth=8, max_features=3, min_samples_leaf=8, min_samples_split=12, n_estimators=10, score=0.499, total=   1.2s\n",
            "[CV] bootstrap=True, max_depth=8, max_features=3, min_samples_leaf=8, min_samples_split=12, n_estimators=10 \n",
            "[CV]  bootstrap=True, max_depth=8, max_features=3, min_samples_leaf=8, min_samples_split=12, n_estimators=10, score=0.371, total=   1.1s\n",
            "[CV] bootstrap=True, max_depth=8, max_features=3, min_samples_leaf=8, min_samples_split=12, n_estimators=10 \n",
            "[CV]  bootstrap=True, max_depth=8, max_features=3, min_samples_leaf=8, min_samples_split=12, n_estimators=10, score=0.388, total=   1.3s\n",
            "[CV] bootstrap=True, max_depth=8, max_features=3, min_samples_leaf=8, min_samples_split=12, n_estimators=10 \n",
            "[CV]  bootstrap=True, max_depth=8, max_features=3, min_samples_leaf=8, min_samples_split=12, n_estimators=10, score=0.605, total=   1.2s\n",
            "[CV] bootstrap=True, max_depth=8, max_features=3, min_samples_leaf=8, min_samples_split=12, n_estimators=20 \n",
            "[CV]  bootstrap=True, max_depth=8, max_features=3, min_samples_leaf=8, min_samples_split=12, n_estimators=20, score=0.477, total=   2.2s\n",
            "[CV] bootstrap=True, max_depth=8, max_features=3, min_samples_leaf=8, min_samples_split=12, n_estimators=20 \n",
            "[CV]  bootstrap=True, max_depth=8, max_features=3, min_samples_leaf=8, min_samples_split=12, n_estimators=20, score=0.459, total=   2.1s\n",
            "[CV] bootstrap=True, max_depth=8, max_features=3, min_samples_leaf=8, min_samples_split=12, n_estimators=20 \n",
            "[CV]  bootstrap=True, max_depth=8, max_features=3, min_samples_leaf=8, min_samples_split=12, n_estimators=20, score=0.498, total=   2.1s\n",
            "[CV] bootstrap=True, max_depth=8, max_features=3, min_samples_leaf=8, min_samples_split=12, n_estimators=20 \n",
            "[CV]  bootstrap=True, max_depth=8, max_features=3, min_samples_leaf=8, min_samples_split=12, n_estimators=20, score=0.469, total=   2.2s\n",
            "[CV] bootstrap=True, max_depth=8, max_features=3, min_samples_leaf=8, min_samples_split=12, n_estimators=20 \n",
            "[CV]  bootstrap=True, max_depth=8, max_features=3, min_samples_leaf=8, min_samples_split=12, n_estimators=20, score=0.507, total=   2.2s\n",
            "[CV] bootstrap=True, max_depth=8, max_features=3, min_samples_leaf=8, min_samples_split=12, n_estimators=30 \n",
            "[CV]  bootstrap=True, max_depth=8, max_features=3, min_samples_leaf=8, min_samples_split=12, n_estimators=30, score=0.455, total=   3.2s\n",
            "[CV] bootstrap=True, max_depth=8, max_features=3, min_samples_leaf=8, min_samples_split=12, n_estimators=30 \n",
            "[CV]  bootstrap=True, max_depth=8, max_features=3, min_samples_leaf=8, min_samples_split=12, n_estimators=30, score=0.464, total=   3.0s\n",
            "[CV] bootstrap=True, max_depth=8, max_features=3, min_samples_leaf=8, min_samples_split=12, n_estimators=30 \n",
            "[CV]  bootstrap=True, max_depth=8, max_features=3, min_samples_leaf=8, min_samples_split=12, n_estimators=30, score=0.507, total=   3.2s\n",
            "[CV] bootstrap=True, max_depth=8, max_features=3, min_samples_leaf=8, min_samples_split=12, n_estimators=30 \n",
            "[CV]  bootstrap=True, max_depth=8, max_features=3, min_samples_leaf=8, min_samples_split=12, n_estimators=30, score=0.502, total=   3.2s\n",
            "[CV] bootstrap=True, max_depth=8, max_features=3, min_samples_leaf=8, min_samples_split=12, n_estimators=30 \n",
            "[CV]  bootstrap=True, max_depth=8, max_features=3, min_samples_leaf=8, min_samples_split=12, n_estimators=30, score=0.505, total=   3.1s\n",
            "[CV] bootstrap=True, max_depth=8, max_features=4, min_samples_leaf=3, min_samples_split=8, n_estimators=10 \n",
            "[CV]  bootstrap=True, max_depth=8, max_features=4, min_samples_leaf=3, min_samples_split=8, n_estimators=10, score=0.514, total=   1.4s\n",
            "[CV] bootstrap=True, max_depth=8, max_features=4, min_samples_leaf=3, min_samples_split=8, n_estimators=10 \n",
            "[CV]  bootstrap=True, max_depth=8, max_features=4, min_samples_leaf=3, min_samples_split=8, n_estimators=10, score=0.534, total=   1.4s\n",
            "[CV] bootstrap=True, max_depth=8, max_features=4, min_samples_leaf=3, min_samples_split=8, n_estimators=10 \n",
            "[CV]  bootstrap=True, max_depth=8, max_features=4, min_samples_leaf=3, min_samples_split=8, n_estimators=10, score=0.542, total=   1.4s\n",
            "[CV] bootstrap=True, max_depth=8, max_features=4, min_samples_leaf=3, min_samples_split=8, n_estimators=10 \n",
            "[CV]  bootstrap=True, max_depth=8, max_features=4, min_samples_leaf=3, min_samples_split=8, n_estimators=10, score=0.621, total=   1.4s\n",
            "[CV] bootstrap=True, max_depth=8, max_features=4, min_samples_leaf=3, min_samples_split=8, n_estimators=10 \n",
            "[CV]  bootstrap=True, max_depth=8, max_features=4, min_samples_leaf=3, min_samples_split=8, n_estimators=10, score=0.511, total=   1.5s\n",
            "[CV] bootstrap=True, max_depth=8, max_features=4, min_samples_leaf=3, min_samples_split=8, n_estimators=20 \n",
            "[CV]  bootstrap=True, max_depth=8, max_features=4, min_samples_leaf=3, min_samples_split=8, n_estimators=20, score=0.497, total=   2.5s\n",
            "[CV] bootstrap=True, max_depth=8, max_features=4, min_samples_leaf=3, min_samples_split=8, n_estimators=20 \n",
            "[CV]  bootstrap=True, max_depth=8, max_features=4, min_samples_leaf=3, min_samples_split=8, n_estimators=20, score=0.485, total=   2.6s\n",
            "[CV] bootstrap=True, max_depth=8, max_features=4, min_samples_leaf=3, min_samples_split=8, n_estimators=20 \n",
            "[CV]  bootstrap=True, max_depth=8, max_features=4, min_samples_leaf=3, min_samples_split=8, n_estimators=20, score=0.546, total=   2.6s\n",
            "[CV] bootstrap=True, max_depth=8, max_features=4, min_samples_leaf=3, min_samples_split=8, n_estimators=20 \n",
            "[CV]  bootstrap=True, max_depth=8, max_features=4, min_samples_leaf=3, min_samples_split=8, n_estimators=20, score=0.545, total=   2.5s\n",
            "[CV] bootstrap=True, max_depth=8, max_features=4, min_samples_leaf=3, min_samples_split=8, n_estimators=20 \n",
            "[CV]  bootstrap=True, max_depth=8, max_features=4, min_samples_leaf=3, min_samples_split=8, n_estimators=20, score=0.519, total=   2.6s\n",
            "[CV] bootstrap=True, max_depth=8, max_features=4, min_samples_leaf=3, min_samples_split=8, n_estimators=30 \n",
            "[CV]  bootstrap=True, max_depth=8, max_features=4, min_samples_leaf=3, min_samples_split=8, n_estimators=30, score=0.551, total=   3.7s\n",
            "[CV] bootstrap=True, max_depth=8, max_features=4, min_samples_leaf=3, min_samples_split=8, n_estimators=30 \n",
            "[CV]  bootstrap=True, max_depth=8, max_features=4, min_samples_leaf=3, min_samples_split=8, n_estimators=30, score=0.522, total=   3.7s\n",
            "[CV] bootstrap=True, max_depth=8, max_features=4, min_samples_leaf=3, min_samples_split=8, n_estimators=30 \n",
            "[CV]  bootstrap=True, max_depth=8, max_features=4, min_samples_leaf=3, min_samples_split=8, n_estimators=30, score=0.553, total=   3.8s\n",
            "[CV] bootstrap=True, max_depth=8, max_features=4, min_samples_leaf=3, min_samples_split=8, n_estimators=30 \n",
            "[CV]  bootstrap=True, max_depth=8, max_features=4, min_samples_leaf=3, min_samples_split=8, n_estimators=30, score=0.567, total=   3.8s\n",
            "[CV] bootstrap=True, max_depth=8, max_features=4, min_samples_leaf=3, min_samples_split=8, n_estimators=30 \n",
            "[CV]  bootstrap=True, max_depth=8, max_features=4, min_samples_leaf=3, min_samples_split=8, n_estimators=30, score=0.596, total=   3.7s\n",
            "[CV] bootstrap=True, max_depth=8, max_features=4, min_samples_leaf=3, min_samples_split=12, n_estimators=10 \n",
            "[CV]  bootstrap=True, max_depth=8, max_features=4, min_samples_leaf=3, min_samples_split=12, n_estimators=10, score=0.516, total=   1.5s\n",
            "[CV] bootstrap=True, max_depth=8, max_features=4, min_samples_leaf=3, min_samples_split=12, n_estimators=10 \n",
            "[CV]  bootstrap=True, max_depth=8, max_features=4, min_samples_leaf=3, min_samples_split=12, n_estimators=10, score=0.542, total=   1.5s\n",
            "[CV] bootstrap=True, max_depth=8, max_features=4, min_samples_leaf=3, min_samples_split=12, n_estimators=10 \n",
            "[CV]  bootstrap=True, max_depth=8, max_features=4, min_samples_leaf=3, min_samples_split=12, n_estimators=10, score=0.519, total=   1.5s\n",
            "[CV] bootstrap=True, max_depth=8, max_features=4, min_samples_leaf=3, min_samples_split=12, n_estimators=10 \n",
            "[CV]  bootstrap=True, max_depth=8, max_features=4, min_samples_leaf=3, min_samples_split=12, n_estimators=10, score=0.532, total=   1.5s\n",
            "[CV] bootstrap=True, max_depth=8, max_features=4, min_samples_leaf=3, min_samples_split=12, n_estimators=10 \n",
            "[CV]  bootstrap=True, max_depth=8, max_features=4, min_samples_leaf=3, min_samples_split=12, n_estimators=10, score=0.533, total=   1.5s\n",
            "[CV] bootstrap=True, max_depth=8, max_features=4, min_samples_leaf=3, min_samples_split=12, n_estimators=20 \n",
            "[CV]  bootstrap=True, max_depth=8, max_features=4, min_samples_leaf=3, min_samples_split=12, n_estimators=20, score=0.470, total=   2.6s\n",
            "[CV] bootstrap=True, max_depth=8, max_features=4, min_samples_leaf=3, min_samples_split=12, n_estimators=20 \n",
            "[CV]  bootstrap=True, max_depth=8, max_features=4, min_samples_leaf=3, min_samples_split=12, n_estimators=20, score=0.511, total=   2.6s\n",
            "[CV] bootstrap=True, max_depth=8, max_features=4, min_samples_leaf=3, min_samples_split=12, n_estimators=20 \n",
            "[CV]  bootstrap=True, max_depth=8, max_features=4, min_samples_leaf=3, min_samples_split=12, n_estimators=20, score=0.588, total=   2.7s\n",
            "[CV] bootstrap=True, max_depth=8, max_features=4, min_samples_leaf=3, min_samples_split=12, n_estimators=20 \n",
            "[CV]  bootstrap=True, max_depth=8, max_features=4, min_samples_leaf=3, min_samples_split=12, n_estimators=20, score=0.493, total=   2.7s\n",
            "[CV] bootstrap=True, max_depth=8, max_features=4, min_samples_leaf=3, min_samples_split=12, n_estimators=20 \n",
            "[CV]  bootstrap=True, max_depth=8, max_features=4, min_samples_leaf=3, min_samples_split=12, n_estimators=20, score=0.632, total=   2.7s\n",
            "[CV] bootstrap=True, max_depth=8, max_features=4, min_samples_leaf=3, min_samples_split=12, n_estimators=30 \n",
            "[CV]  bootstrap=True, max_depth=8, max_features=4, min_samples_leaf=3, min_samples_split=12, n_estimators=30, score=0.609, total=   3.8s\n",
            "[CV] bootstrap=True, max_depth=8, max_features=4, min_samples_leaf=3, min_samples_split=12, n_estimators=30 \n",
            "[CV]  bootstrap=True, max_depth=8, max_features=4, min_samples_leaf=3, min_samples_split=12, n_estimators=30, score=0.494, total=   3.8s\n",
            "[CV] bootstrap=True, max_depth=8, max_features=4, min_samples_leaf=3, min_samples_split=12, n_estimators=30 \n",
            "[CV]  bootstrap=True, max_depth=8, max_features=4, min_samples_leaf=3, min_samples_split=12, n_estimators=30, score=0.521, total=   3.7s\n",
            "[CV] bootstrap=True, max_depth=8, max_features=4, min_samples_leaf=3, min_samples_split=12, n_estimators=30 \n",
            "[CV]  bootstrap=True, max_depth=8, max_features=4, min_samples_leaf=3, min_samples_split=12, n_estimators=30, score=0.554, total=   3.8s\n",
            "[CV] bootstrap=True, max_depth=8, max_features=4, min_samples_leaf=3, min_samples_split=12, n_estimators=30 \n",
            "[CV]  bootstrap=True, max_depth=8, max_features=4, min_samples_leaf=3, min_samples_split=12, n_estimators=30, score=0.542, total=   3.9s\n",
            "[CV] bootstrap=True, max_depth=8, max_features=4, min_samples_leaf=5, min_samples_split=8, n_estimators=10 \n",
            "[CV]  bootstrap=True, max_depth=8, max_features=4, min_samples_leaf=5, min_samples_split=8, n_estimators=10, score=0.526, total=   1.4s\n",
            "[CV] bootstrap=True, max_depth=8, max_features=4, min_samples_leaf=5, min_samples_split=8, n_estimators=10 \n",
            "[CV]  bootstrap=True, max_depth=8, max_features=4, min_samples_leaf=5, min_samples_split=8, n_estimators=10, score=0.575, total=   1.5s\n",
            "[CV] bootstrap=True, max_depth=8, max_features=4, min_samples_leaf=5, min_samples_split=8, n_estimators=10 \n",
            "[CV]  bootstrap=True, max_depth=8, max_features=4, min_samples_leaf=5, min_samples_split=8, n_estimators=10, score=0.567, total=   1.4s\n",
            "[CV] bootstrap=True, max_depth=8, max_features=4, min_samples_leaf=5, min_samples_split=8, n_estimators=10 \n",
            "[CV]  bootstrap=True, max_depth=8, max_features=4, min_samples_leaf=5, min_samples_split=8, n_estimators=10, score=0.518, total=   1.4s\n",
            "[CV] bootstrap=True, max_depth=8, max_features=4, min_samples_leaf=5, min_samples_split=8, n_estimators=10 \n",
            "[CV]  bootstrap=True, max_depth=8, max_features=4, min_samples_leaf=5, min_samples_split=8, n_estimators=10, score=0.492, total=   1.5s\n",
            "[CV] bootstrap=True, max_depth=8, max_features=4, min_samples_leaf=5, min_samples_split=8, n_estimators=20 \n",
            "[CV]  bootstrap=True, max_depth=8, max_features=4, min_samples_leaf=5, min_samples_split=8, n_estimators=20, score=0.563, total=   2.6s\n",
            "[CV] bootstrap=True, max_depth=8, max_features=4, min_samples_leaf=5, min_samples_split=8, n_estimators=20 \n",
            "[CV]  bootstrap=True, max_depth=8, max_features=4, min_samples_leaf=5, min_samples_split=8, n_estimators=20, score=0.581, total=   2.5s\n",
            "[CV] bootstrap=True, max_depth=8, max_features=4, min_samples_leaf=5, min_samples_split=8, n_estimators=20 \n",
            "[CV]  bootstrap=True, max_depth=8, max_features=4, min_samples_leaf=5, min_samples_split=8, n_estimators=20, score=0.516, total=   2.5s\n",
            "[CV] bootstrap=True, max_depth=8, max_features=4, min_samples_leaf=5, min_samples_split=8, n_estimators=20 \n",
            "[CV]  bootstrap=True, max_depth=8, max_features=4, min_samples_leaf=5, min_samples_split=8, n_estimators=20, score=0.521, total=   2.6s\n",
            "[CV] bootstrap=True, max_depth=8, max_features=4, min_samples_leaf=5, min_samples_split=8, n_estimators=20 \n",
            "[CV]  bootstrap=True, max_depth=8, max_features=4, min_samples_leaf=5, min_samples_split=8, n_estimators=20, score=0.565, total=   2.6s\n",
            "[CV] bootstrap=True, max_depth=8, max_features=4, min_samples_leaf=5, min_samples_split=8, n_estimators=30 \n",
            "[CV]  bootstrap=True, max_depth=8, max_features=4, min_samples_leaf=5, min_samples_split=8, n_estimators=30, score=0.561, total=   3.9s\n",
            "[CV] bootstrap=True, max_depth=8, max_features=4, min_samples_leaf=5, min_samples_split=8, n_estimators=30 \n",
            "[CV]  bootstrap=True, max_depth=8, max_features=4, min_samples_leaf=5, min_samples_split=8, n_estimators=30, score=0.578, total=   3.7s\n",
            "[CV] bootstrap=True, max_depth=8, max_features=4, min_samples_leaf=5, min_samples_split=8, n_estimators=30 \n",
            "[CV]  bootstrap=True, max_depth=8, max_features=4, min_samples_leaf=5, min_samples_split=8, n_estimators=30, score=0.548, total=   3.8s\n",
            "[CV] bootstrap=True, max_depth=8, max_features=4, min_samples_leaf=5, min_samples_split=8, n_estimators=30 \n",
            "[CV]  bootstrap=True, max_depth=8, max_features=4, min_samples_leaf=5, min_samples_split=8, n_estimators=30, score=0.547, total=   3.8s\n",
            "[CV] bootstrap=True, max_depth=8, max_features=4, min_samples_leaf=5, min_samples_split=8, n_estimators=30 \n",
            "[CV]  bootstrap=True, max_depth=8, max_features=4, min_samples_leaf=5, min_samples_split=8, n_estimators=30, score=0.558, total=   3.7s\n",
            "[CV] bootstrap=True, max_depth=8, max_features=4, min_samples_leaf=5, min_samples_split=12, n_estimators=10 \n",
            "[CV]  bootstrap=True, max_depth=8, max_features=4, min_samples_leaf=5, min_samples_split=12, n_estimators=10, score=0.535, total=   1.4s\n",
            "[CV] bootstrap=True, max_depth=8, max_features=4, min_samples_leaf=5, min_samples_split=12, n_estimators=10 \n",
            "[CV]  bootstrap=True, max_depth=8, max_features=4, min_samples_leaf=5, min_samples_split=12, n_estimators=10, score=0.562, total=   1.5s\n",
            "[CV] bootstrap=True, max_depth=8, max_features=4, min_samples_leaf=5, min_samples_split=12, n_estimators=10 \n",
            "[CV]  bootstrap=True, max_depth=8, max_features=4, min_samples_leaf=5, min_samples_split=12, n_estimators=10, score=0.462, total=   1.5s\n",
            "[CV] bootstrap=True, max_depth=8, max_features=4, min_samples_leaf=5, min_samples_split=12, n_estimators=10 \n",
            "[CV]  bootstrap=True, max_depth=8, max_features=4, min_samples_leaf=5, min_samples_split=12, n_estimators=10, score=0.586, total=   1.4s\n",
            "[CV] bootstrap=True, max_depth=8, max_features=4, min_samples_leaf=5, min_samples_split=12, n_estimators=10 \n",
            "[CV]  bootstrap=True, max_depth=8, max_features=4, min_samples_leaf=5, min_samples_split=12, n_estimators=10, score=0.621, total=   1.4s\n",
            "[CV] bootstrap=True, max_depth=8, max_features=4, min_samples_leaf=5, min_samples_split=12, n_estimators=20 \n",
            "[CV]  bootstrap=True, max_depth=8, max_features=4, min_samples_leaf=5, min_samples_split=12, n_estimators=20, score=0.510, total=   2.5s\n",
            "[CV] bootstrap=True, max_depth=8, max_features=4, min_samples_leaf=5, min_samples_split=12, n_estimators=20 \n",
            "[CV]  bootstrap=True, max_depth=8, max_features=4, min_samples_leaf=5, min_samples_split=12, n_estimators=20, score=0.503, total=   2.5s\n",
            "[CV] bootstrap=True, max_depth=8, max_features=4, min_samples_leaf=5, min_samples_split=12, n_estimators=20 \n",
            "[CV]  bootstrap=True, max_depth=8, max_features=4, min_samples_leaf=5, min_samples_split=12, n_estimators=20, score=0.596, total=   2.6s\n",
            "[CV] bootstrap=True, max_depth=8, max_features=4, min_samples_leaf=5, min_samples_split=12, n_estimators=20 \n",
            "[CV]  bootstrap=True, max_depth=8, max_features=4, min_samples_leaf=5, min_samples_split=12, n_estimators=20, score=0.552, total=   2.6s\n",
            "[CV] bootstrap=True, max_depth=8, max_features=4, min_samples_leaf=5, min_samples_split=12, n_estimators=20 \n",
            "[CV]  bootstrap=True, max_depth=8, max_features=4, min_samples_leaf=5, min_samples_split=12, n_estimators=20, score=0.541, total=   2.6s\n",
            "[CV] bootstrap=True, max_depth=8, max_features=4, min_samples_leaf=5, min_samples_split=12, n_estimators=30 \n",
            "[CV]  bootstrap=True, max_depth=8, max_features=4, min_samples_leaf=5, min_samples_split=12, n_estimators=30, score=0.578, total=   3.7s\n",
            "[CV] bootstrap=True, max_depth=8, max_features=4, min_samples_leaf=5, min_samples_split=12, n_estimators=30 \n",
            "[CV]  bootstrap=True, max_depth=8, max_features=4, min_samples_leaf=5, min_samples_split=12, n_estimators=30, score=0.534, total=   3.7s\n",
            "[CV] bootstrap=True, max_depth=8, max_features=4, min_samples_leaf=5, min_samples_split=12, n_estimators=30 \n",
            "[CV]  bootstrap=True, max_depth=8, max_features=4, min_samples_leaf=5, min_samples_split=12, n_estimators=30, score=0.550, total=   3.7s\n",
            "[CV] bootstrap=True, max_depth=8, max_features=4, min_samples_leaf=5, min_samples_split=12, n_estimators=30 \n",
            "[CV]  bootstrap=True, max_depth=8, max_features=4, min_samples_leaf=5, min_samples_split=12, n_estimators=30, score=0.528, total=   3.7s\n",
            "[CV] bootstrap=True, max_depth=8, max_features=4, min_samples_leaf=5, min_samples_split=12, n_estimators=30 \n",
            "[CV]  bootstrap=True, max_depth=8, max_features=4, min_samples_leaf=5, min_samples_split=12, n_estimators=30, score=0.521, total=   3.7s\n",
            "[CV] bootstrap=True, max_depth=8, max_features=4, min_samples_leaf=8, min_samples_split=8, n_estimators=10 \n",
            "[CV]  bootstrap=True, max_depth=8, max_features=4, min_samples_leaf=8, min_samples_split=8, n_estimators=10, score=0.490, total=   1.4s\n",
            "[CV] bootstrap=True, max_depth=8, max_features=4, min_samples_leaf=8, min_samples_split=8, n_estimators=10 \n",
            "[CV]  bootstrap=True, max_depth=8, max_features=4, min_samples_leaf=8, min_samples_split=8, n_estimators=10, score=0.567, total=   1.3s\n",
            "[CV] bootstrap=True, max_depth=8, max_features=4, min_samples_leaf=8, min_samples_split=8, n_estimators=10 \n",
            "[CV]  bootstrap=True, max_depth=8, max_features=4, min_samples_leaf=8, min_samples_split=8, n_estimators=10, score=0.481, total=   1.3s\n",
            "[CV] bootstrap=True, max_depth=8, max_features=4, min_samples_leaf=8, min_samples_split=8, n_estimators=10 \n",
            "[CV]  bootstrap=True, max_depth=8, max_features=4, min_samples_leaf=8, min_samples_split=8, n_estimators=10, score=0.493, total=   1.4s\n",
            "[CV] bootstrap=True, max_depth=8, max_features=4, min_samples_leaf=8, min_samples_split=8, n_estimators=10 \n",
            "[CV]  bootstrap=True, max_depth=8, max_features=4, min_samples_leaf=8, min_samples_split=8, n_estimators=10, score=0.509, total=   1.4s\n",
            "[CV] bootstrap=True, max_depth=8, max_features=4, min_samples_leaf=8, min_samples_split=8, n_estimators=20 \n",
            "[CV]  bootstrap=True, max_depth=8, max_features=4, min_samples_leaf=8, min_samples_split=8, n_estimators=20, score=0.518, total=   2.7s\n",
            "[CV] bootstrap=True, max_depth=8, max_features=4, min_samples_leaf=8, min_samples_split=8, n_estimators=20 \n",
            "[CV]  bootstrap=True, max_depth=8, max_features=4, min_samples_leaf=8, min_samples_split=8, n_estimators=20, score=0.514, total=   2.5s\n",
            "[CV] bootstrap=True, max_depth=8, max_features=4, min_samples_leaf=8, min_samples_split=8, n_estimators=20 \n",
            "[CV]  bootstrap=True, max_depth=8, max_features=4, min_samples_leaf=8, min_samples_split=8, n_estimators=20, score=0.530, total=   2.4s\n",
            "[CV] bootstrap=True, max_depth=8, max_features=4, min_samples_leaf=8, min_samples_split=8, n_estimators=20 \n",
            "[CV]  bootstrap=True, max_depth=8, max_features=4, min_samples_leaf=8, min_samples_split=8, n_estimators=20, score=0.504, total=   2.6s\n",
            "[CV] bootstrap=True, max_depth=8, max_features=4, min_samples_leaf=8, min_samples_split=8, n_estimators=20 \n",
            "[CV]  bootstrap=True, max_depth=8, max_features=4, min_samples_leaf=8, min_samples_split=8, n_estimators=20, score=0.463, total=   2.5s\n",
            "[CV] bootstrap=True, max_depth=8, max_features=4, min_samples_leaf=8, min_samples_split=8, n_estimators=30 \n",
            "[CV]  bootstrap=True, max_depth=8, max_features=4, min_samples_leaf=8, min_samples_split=8, n_estimators=30, score=0.520, total=   3.7s\n",
            "[CV] bootstrap=True, max_depth=8, max_features=4, min_samples_leaf=8, min_samples_split=8, n_estimators=30 \n",
            "[CV]  bootstrap=True, max_depth=8, max_features=4, min_samples_leaf=8, min_samples_split=8, n_estimators=30, score=0.475, total=   3.8s\n",
            "[CV] bootstrap=True, max_depth=8, max_features=4, min_samples_leaf=8, min_samples_split=8, n_estimators=30 \n",
            "[CV]  bootstrap=True, max_depth=8, max_features=4, min_samples_leaf=8, min_samples_split=8, n_estimators=30, score=0.489, total=   3.8s\n",
            "[CV] bootstrap=True, max_depth=8, max_features=4, min_samples_leaf=8, min_samples_split=8, n_estimators=30 \n",
            "[CV]  bootstrap=True, max_depth=8, max_features=4, min_samples_leaf=8, min_samples_split=8, n_estimators=30, score=0.556, total=   3.6s\n",
            "[CV] bootstrap=True, max_depth=8, max_features=4, min_samples_leaf=8, min_samples_split=8, n_estimators=30 \n",
            "[CV]  bootstrap=True, max_depth=8, max_features=4, min_samples_leaf=8, min_samples_split=8, n_estimators=30, score=0.543, total=   3.8s\n",
            "[CV] bootstrap=True, max_depth=8, max_features=4, min_samples_leaf=8, min_samples_split=12, n_estimators=10 \n",
            "[CV]  bootstrap=True, max_depth=8, max_features=4, min_samples_leaf=8, min_samples_split=12, n_estimators=10, score=0.414, total=   1.3s\n",
            "[CV] bootstrap=True, max_depth=8, max_features=4, min_samples_leaf=8, min_samples_split=12, n_estimators=10 \n",
            "[CV]  bootstrap=True, max_depth=8, max_features=4, min_samples_leaf=8, min_samples_split=12, n_estimators=10, score=0.621, total=   1.4s\n",
            "[CV] bootstrap=True, max_depth=8, max_features=4, min_samples_leaf=8, min_samples_split=12, n_estimators=10 \n",
            "[CV]  bootstrap=True, max_depth=8, max_features=4, min_samples_leaf=8, min_samples_split=12, n_estimators=10, score=0.547, total=   1.4s\n",
            "[CV] bootstrap=True, max_depth=8, max_features=4, min_samples_leaf=8, min_samples_split=12, n_estimators=10 \n",
            "[CV]  bootstrap=True, max_depth=8, max_features=4, min_samples_leaf=8, min_samples_split=12, n_estimators=10, score=0.513, total=   1.4s\n",
            "[CV] bootstrap=True, max_depth=8, max_features=4, min_samples_leaf=8, min_samples_split=12, n_estimators=10 \n",
            "[CV]  bootstrap=True, max_depth=8, max_features=4, min_samples_leaf=8, min_samples_split=12, n_estimators=10, score=0.478, total=   1.4s\n",
            "[CV] bootstrap=True, max_depth=8, max_features=4, min_samples_leaf=8, min_samples_split=12, n_estimators=20 \n",
            "[CV]  bootstrap=True, max_depth=8, max_features=4, min_samples_leaf=8, min_samples_split=12, n_estimators=20, score=0.600, total=   2.4s\n",
            "[CV] bootstrap=True, max_depth=8, max_features=4, min_samples_leaf=8, min_samples_split=12, n_estimators=20 \n",
            "[CV]  bootstrap=True, max_depth=8, max_features=4, min_samples_leaf=8, min_samples_split=12, n_estimators=20, score=0.546, total=   2.7s\n",
            "[CV] bootstrap=True, max_depth=8, max_features=4, min_samples_leaf=8, min_samples_split=12, n_estimators=20 \n",
            "[CV]  bootstrap=True, max_depth=8, max_features=4, min_samples_leaf=8, min_samples_split=12, n_estimators=20, score=0.569, total=   2.5s\n",
            "[CV] bootstrap=True, max_depth=8, max_features=4, min_samples_leaf=8, min_samples_split=12, n_estimators=20 \n",
            "[CV]  bootstrap=True, max_depth=8, max_features=4, min_samples_leaf=8, min_samples_split=12, n_estimators=20, score=0.552, total=   2.5s\n",
            "[CV] bootstrap=True, max_depth=8, max_features=4, min_samples_leaf=8, min_samples_split=12, n_estimators=20 \n",
            "[CV]  bootstrap=True, max_depth=8, max_features=4, min_samples_leaf=8, min_samples_split=12, n_estimators=20, score=0.526, total=   2.6s\n",
            "[CV] bootstrap=True, max_depth=8, max_features=4, min_samples_leaf=8, min_samples_split=12, n_estimators=30 \n",
            "[CV]  bootstrap=True, max_depth=8, max_features=4, min_samples_leaf=8, min_samples_split=12, n_estimators=30, score=0.545, total=   3.8s\n",
            "[CV] bootstrap=True, max_depth=8, max_features=4, min_samples_leaf=8, min_samples_split=12, n_estimators=30 \n",
            "[CV]  bootstrap=True, max_depth=8, max_features=4, min_samples_leaf=8, min_samples_split=12, n_estimators=30, score=0.561, total=   3.8s\n",
            "[CV] bootstrap=True, max_depth=8, max_features=4, min_samples_leaf=8, min_samples_split=12, n_estimators=30 \n",
            "[CV]  bootstrap=True, max_depth=8, max_features=4, min_samples_leaf=8, min_samples_split=12, n_estimators=30, score=0.557, total=   3.8s\n",
            "[CV] bootstrap=True, max_depth=8, max_features=4, min_samples_leaf=8, min_samples_split=12, n_estimators=30 \n",
            "[CV]  bootstrap=True, max_depth=8, max_features=4, min_samples_leaf=8, min_samples_split=12, n_estimators=30, score=0.570, total=   3.6s\n",
            "[CV] bootstrap=True, max_depth=8, max_features=4, min_samples_leaf=8, min_samples_split=12, n_estimators=30 \n",
            "[CV]  bootstrap=True, max_depth=8, max_features=4, min_samples_leaf=8, min_samples_split=12, n_estimators=30, score=0.563, total=   3.7s\n"
          ],
          "name": "stdout"
        },
        {
          "output_type": "stream",
          "text": [
            "[Parallel(n_jobs=1)]: Done 540 out of 540 | elapsed: 15.5min finished\n"
          ],
          "name": "stderr"
        },
        {
          "output_type": "execute_result",
          "data": {
            "text/plain": [
              "GridSearchCV(cv=None, error_score=nan,\n",
              "             estimator=RandomForestRegressor(bootstrap=True, ccp_alpha=0.0,\n",
              "                                             criterion='mse', max_depth=None,\n",
              "                                             max_features='auto',\n",
              "                                             max_leaf_nodes=None,\n",
              "                                             max_samples=None,\n",
              "                                             min_impurity_decrease=0.0,\n",
              "                                             min_impurity_split=None,\n",
              "                                             min_samples_leaf=1,\n",
              "                                             min_samples_split=2,\n",
              "                                             min_weight_fraction_leaf=0.0,\n",
              "                                             n_estimators=100, n_jobs=None,\n",
              "                                             oob_score=False, random_state=None,\n",
              "                                             verbose=0, warm_start=False),\n",
              "             iid='deprecated', n_jobs=None,\n",
              "             param_grid={'bootstrap': [True], 'max_depth': [4, 8],\n",
              "                         'max_features': [2, 3, 4],\n",
              "                         'min_samples_leaf': [3, 5, 8],\n",
              "                         'min_samples_split': [8, 12],\n",
              "                         'n_estimators': [10, 20, 30]},\n",
              "             pre_dispatch='2*n_jobs', refit=True, return_train_score=False,\n",
              "             scoring=None, verbose=3)"
            ]
          },
          "metadata": {
            "tags": []
          },
          "execution_count": 145
        }
      ]
    },
    {
      "cell_type": "code",
      "metadata": {
        "id": "dNIU-HDWzZQZ",
        "colab_type": "code",
        "outputId": "12d65542-5908-4f06-eca6-ad5c95249390",
        "colab": {
          "base_uri": "https://localhost:8080/",
          "height": 151
        }
      },
      "source": [
        "# print best parameter after tuning \n",
        "print(grid.best_params_) \n",
        "  \n",
        "# print how our model looks after hyper-parameter tuning \n",
        "print(grid.best_estimator_) "
      ],
      "execution_count": 146,
      "outputs": [
        {
          "output_type": "stream",
          "text": [
            "{'bootstrap': True, 'max_depth': 8, 'max_features': 4, 'min_samples_leaf': 8, 'min_samples_split': 12, 'n_estimators': 30}\n",
            "RandomForestRegressor(bootstrap=True, ccp_alpha=0.0, criterion='mse',\n",
            "                      max_depth=8, max_features=4, max_leaf_nodes=None,\n",
            "                      max_samples=None, min_impurity_decrease=0.0,\n",
            "                      min_impurity_split=None, min_samples_leaf=8,\n",
            "                      min_samples_split=12, min_weight_fraction_leaf=0.0,\n",
            "                      n_estimators=30, n_jobs=None, oob_score=False,\n",
            "                      random_state=None, verbose=0, warm_start=False)\n"
          ],
          "name": "stdout"
        }
      ]
    },
    {
      "cell_type": "markdown",
      "metadata": {
        "id": "WOZDZa-w9V0I",
        "colab_type": "text"
      },
      "source": [
        "#**RANDOMFOREST**"
      ]
    },
    {
      "cell_type": "code",
      "metadata": {
        "id": "rhdbwkdIA90E",
        "colab_type": "code",
        "outputId": "2e77487a-ab4c-47e0-e037-2afd7a5bdd11",
        "colab": {
          "base_uri": "https://localhost:8080/",
          "height": 134
        }
      },
      "source": [
        "rfc=RandomForestRegressor(max_depth=16,max_features=4,min_samples_leaf=8,min_samples_split=12,n_estimators=30)\n",
        "rfc.fit(X_train,y_train)"
      ],
      "execution_count": 200,
      "outputs": [
        {
          "output_type": "execute_result",
          "data": {
            "text/plain": [
              "RandomForestRegressor(bootstrap=True, ccp_alpha=0.0, criterion='mse',\n",
              "                      max_depth=16, max_features=4, max_leaf_nodes=None,\n",
              "                      max_samples=None, min_impurity_decrease=0.0,\n",
              "                      min_impurity_split=None, min_samples_leaf=8,\n",
              "                      min_samples_split=12, min_weight_fraction_leaf=0.0,\n",
              "                      n_estimators=30, n_jobs=None, oob_score=False,\n",
              "                      random_state=None, verbose=0, warm_start=False)"
            ]
          },
          "metadata": {
            "tags": []
          },
          "execution_count": 200
        }
      ]
    },
    {
      "cell_type": "markdown",
      "metadata": {
        "id": "pXabvMmb9b-O",
        "colab_type": "text"
      },
      "source": [
        "**RESULTS**"
      ]
    },
    {
      "cell_type": "code",
      "metadata": {
        "id": "kuLK6dAhEzPn",
        "colab_type": "code",
        "colab": {}
      },
      "source": [
        "rf_predictions = rfc.predict(X_test)"
      ],
      "execution_count": 0,
      "outputs": []
    },
    {
      "cell_type": "code",
      "metadata": {
        "id": "JCkvMj7VEi3L",
        "colab_type": "code",
        "outputId": "d30e0e6e-b77b-4210-9341-2b2c0b4841c4",
        "colab": {
          "base_uri": "https://localhost:8080/",
          "height": 34
        }
      },
      "source": [
        "rfc.score(X_train,y_train)"
      ],
      "execution_count": 202,
      "outputs": [
        {
          "output_type": "execute_result",
          "data": {
            "text/plain": [
              "0.6781277303457478"
            ]
          },
          "metadata": {
            "tags": []
          },
          "execution_count": 202
        }
      ]
    },
    {
      "cell_type": "code",
      "metadata": {
        "id": "bRdd9q0KKUsD",
        "colab_type": "code",
        "outputId": "4d7175f1-54b8-4ff0-db72-83ec464fd1a7",
        "colab": {
          "base_uri": "https://localhost:8080/",
          "height": 34
        }
      },
      "source": [
        "rfc.score(X_test,y_test)"
      ],
      "execution_count": 203,
      "outputs": [
        {
          "output_type": "execute_result",
          "data": {
            "text/plain": [
              "0.6740839178062921"
            ]
          },
          "metadata": {
            "tags": []
          },
          "execution_count": 203
        }
      ]
    },
    {
      "cell_type": "code",
      "metadata": {
        "id": "Wc37ahJFHq2M",
        "colab_type": "code",
        "outputId": "4c3801c3-5eec-44f5-8bb0-7f5507d5cfcb",
        "colab": {
          "base_uri": "https://localhost:8080/",
          "height": 54
        }
      },
      "source": [
        "# answer below:\n",
        "important_features_dict = {}\n",
        "for x,i in enumerate(rfc.feature_importances_):\n",
        "    important_features_dict[x]=i\n",
        "\n",
        "\n",
        "important_features_list = sorted(important_features_dict,\n",
        "                                 key=important_features_dict.get,\n",
        "                                 reverse=True)\n",
        "\n",
        "print ('Most important features: %s' %important_features_list)"
      ],
      "execution_count": 151,
      "outputs": [
        {
          "output_type": "stream",
          "text": [
            "Most important features: [7, 35, 8, 6, 25, 34, 2, 58, 26, 9, 4, 67, 39, 38, 44, 36, 24, 14, 77, 1, 10, 11, 68, 5, 28, 61, 50, 85, 29, 37, 33, 66, 52, 40, 18, 74, 15, 51, 27, 19, 83, 70, 13, 47, 32, 3, 45, 56, 30, 76, 42, 23, 0, 21, 59, 43, 55, 63, 41, 62, 53, 31, 75, 22, 12, 49, 46, 72, 60, 82, 65, 71, 69, 20, 48, 73, 54, 64, 81, 84, 78, 80, 16, 17, 57, 79]\n"
          ],
          "name": "stdout"
        }
      ]
    },
    {
      "cell_type": "markdown",
      "metadata": {
        "id": "JV6PCeaUGfd4",
        "colab_type": "text"
      },
      "source": [
        "//////////////////////////////////////////////////////////////////////////////////////////////////////////\n"
      ]
    },
    {
      "cell_type": "code",
      "metadata": {
        "id": "y9zMxMXdGnCW",
        "colab_type": "code",
        "colab": {}
      },
      "source": [
        "importances = rfc.feature_importances_"
      ],
      "execution_count": 0,
      "outputs": []
    },
    {
      "cell_type": "code",
      "metadata": {
        "id": "FPF7_sgoGteL",
        "colab_type": "code",
        "colab": {}
      },
      "source": [
        "indices = np.argsort(importances)"
      ],
      "execution_count": 0,
      "outputs": []
    },
    {
      "cell_type": "code",
      "metadata": {
        "id": "MiQ60AedGzw5",
        "colab_type": "code",
        "colab": {}
      },
      "source": [
        "features = X2_dummy.columns"
      ],
      "execution_count": 0,
      "outputs": []
    },
    {
      "cell_type": "markdown",
      "metadata": {
        "id": "IlhrShAa9lo8",
        "colab_type": "text"
      },
      "source": [
        "**PLOT OF FEATURE IMPORTANCE**"
      ]
    },
    {
      "cell_type": "code",
      "metadata": {
        "id": "frOSwrl_HYeo",
        "colab_type": "code",
        "outputId": "a7ccdb50-a817-44fd-9074-5d6c6ca2fd97",
        "colab": {
          "base_uri": "https://localhost:8080/",
          "height": 1000
        }
      },
      "source": [
        "from matplotlib.pyplot import figure\n",
        "figure(num=None, figsize=(20,20), dpi=80, facecolor='w', edgecolor='k')\n",
        "plt.figure(1)\n",
        "plt.title('Feature Importances')\n",
        "plt.barh(range(len(indices)), importances[indices], color='b', align='center')\n",
        "plt.yticks(range(len(indices)), features[indices])\n",
        "plt.xlabel('Relative Importance')"
      ],
      "execution_count": 156,
      "outputs": [
        {
          "output_type": "execute_result",
          "data": {
            "text/plain": [
              "Text(0.5, 0, 'Relative Importance')"
            ]
          },
          "metadata": {
            "tags": []
          },
          "execution_count": 156
        },
        {
          "output_type": "display_data",
          "data": {
            "image/png": "[encoded data removed]",
            "text/plain": [
              "<Figure size 1600x1600 with 1 Axes>"
            ]
          },
          "metadata": {
            "tags": []
          }
        }
      ]
    },
    {
      "cell_type": "markdown",
      "metadata": {
        "id": "aCJXT_KDGkMU",
        "colab_type": "text"
      },
      "source": [
        "//////////////////////////////////////////////////////////////////////////////////////////////////////"
      ]
    },
    {
      "cell_type": "markdown",
      "metadata": {
        "id": "cYPQWlVHYS-k",
        "colab_type": "text"
      },
      "source": [
        "////////////////////////////////////////////////////////////////////////////////////////////////////////////////////////////"
      ]
    },
    {
      "cell_type": "markdown",
      "metadata": {
        "id": "e32FEsX5LOUZ",
        "colab_type": "text"
      },
      "source": [
        "#**LOGISTIC REGRESSION**"
      ]
    },
    {
      "cell_type": "code",
      "metadata": {
        "id": "88Y6sHtNLWyk",
        "colab_type": "code",
        "colab": {}
      },
      "source": [
        "scaler = StandardScaler()\n",
        "X_train = scaler.fit_transform(X_train)\n",
        "X_test = scaler.transform(X_test)"
      ],
      "execution_count": 0,
      "outputs": []
    },
    {
      "cell_type": "code",
      "metadata": {
        "id": "M2fg2oWhLgyg",
        "colab_type": "code",
        "colab": {}
      },
      "source": [
        "logistic = linear_model.LogisticRegression(solver='liblinear')"
      ],
      "execution_count": 0,
      "outputs": []
    },
    {
      "cell_type": "code",
      "metadata": {
        "id": "5A9R-DsYLqtG",
        "colab_type": "code",
        "colab": {
          "base_uri": "https://localhost:8080/",
          "height": 101
        },
        "outputId": "e800870a-1c71-4349-a3bb-8dff3328a868"
      },
      "source": [
        "logistic.fit(X_train,y_train)"
      ],
      "execution_count": 160,
      "outputs": [
        {
          "output_type": "execute_result",
          "data": {
            "text/plain": [
              "LogisticRegression(C=1.0, class_weight=None, dual=False, fit_intercept=True,\n",
              "                   intercept_scaling=1, l1_ratio=None, max_iter=100,\n",
              "                   multi_class='auto', n_jobs=None, penalty='l2',\n",
              "                   random_state=None, solver='liblinear', tol=0.0001, verbose=0,\n",
              "                   warm_start=False)"
            ]
          },
          "metadata": {
            "tags": []
          },
          "execution_count": 160
        }
      ]
    },
    {
      "cell_type": "code",
      "metadata": {
        "id": "ld67sSn4MYzv",
        "colab_type": "code",
        "colab": {}
      },
      "source": [
        "logistic_predictions = logistic.predict(X_test)"
      ],
      "execution_count": 0,
      "outputs": []
    },
    {
      "cell_type": "markdown",
      "metadata": {
        "id": "G424j0XSOKUc",
        "colab_type": "text"
      },
      "source": [
        "**CONFUSION MATRIX**"
      ]
    },
    {
      "cell_type": "code",
      "metadata": {
        "id": "TkwbsI_LN5lv",
        "colab_type": "code",
        "colab": {
          "base_uri": "https://localhost:8080/",
          "height": 106
        },
        "outputId": "adc4ea9a-8a4d-464c-a2ff-721e0614e617"
      },
      "source": [
        "cm = pd.DataFrame(confusion_matrix(y_test, logistic_predictions))\n",
        "cm"
      ],
      "execution_count": 173,
      "outputs": [
        {
          "output_type": "execute_result",
          "data": {
            "text/html": [
              "<div>\n",
              "<style scoped>\n",
              "    .dataframe tbody tr th:only-of-type {\n",
              "        vertical-align: middle;\n",
              "    }\n",
              "\n",
              "    .dataframe tbody tr th {\n",
              "        vertical-align: top;\n",
              "    }\n",
              "\n",
              "    .dataframe thead th {\n",
              "        text-align: right;\n",
              "    }\n",
              "</style>\n",
              "<table border=\"1\" class=\"dataframe\">\n",
              "  <thead>\n",
              "    <tr style=\"text-align: right;\">\n",
              "      <th></th>\n",
              "      <th>0</th>\n",
              "      <th>1</th>\n",
              "    </tr>\n",
              "  </thead>\n",
              "  <tbody>\n",
              "    <tr>\n",
              "      <th>0</th>\n",
              "      <td>74349</td>\n",
              "      <td>654</td>\n",
              "    </tr>\n",
              "    <tr>\n",
              "      <th>1</th>\n",
              "      <td>2542</td>\n",
              "      <td>8324</td>\n",
              "    </tr>\n",
              "  </tbody>\n",
              "</table>\n",
              "</div>"
            ],
            "text/plain": [
              "       0     1\n",
              "0  74349   654\n",
              "1   2542  8324"
            ]
          },
          "metadata": {
            "tags": []
          },
          "execution_count": 173
        }
      ]
    },
    {
      "cell_type": "code",
      "metadata": {
        "id": "2MQ-9Vl1MpFd",
        "colab_type": "code",
        "colab": {
          "base_uri": "https://localhost:8080/",
          "height": 34
        },
        "outputId": "6b43edcd-b15a-449c-8dd4-06db8dd431d3"
      },
      "source": [
        "logistic.score(X_train,y_train)"
      ],
      "execution_count": 162,
      "outputs": [
        {
          "output_type": "execute_result",
          "data": {
            "text/plain": [
              "0.962637420226394"
            ]
          },
          "metadata": {
            "tags": []
          },
          "execution_count": 162
        }
      ]
    },
    {
      "cell_type": "code",
      "metadata": {
        "id": "VflYN5iNMwB5",
        "colab_type": "code",
        "colab": {
          "base_uri": "https://localhost:8080/",
          "height": 34
        },
        "outputId": "5e5d96c0-0d9f-46d2-a566-0768a01ef5b2"
      },
      "source": [
        "logistic.score(X_test,y_test)"
      ],
      "execution_count": 164,
      "outputs": [
        {
          "output_type": "execute_result",
          "data": {
            "text/plain": [
              "0.9627805145046524"
            ]
          },
          "metadata": {
            "tags": []
          },
          "execution_count": 164
        }
      ]
    },
    {
      "cell_type": "code",
      "metadata": {
        "id": "IHGuve90M_AZ",
        "colab_type": "code",
        "colab": {}
      },
      "source": [
        "train_probs = logistic.predict_proba(X_train)\n",
        "test_probs = logistic.predict_proba(X_test)"
      ],
      "execution_count": 0,
      "outputs": []
    },
    {
      "cell_type": "code",
      "metadata": {
        "id": "2h2VEflxNbjh",
        "colab_type": "code",
        "colab": {}
      },
      "source": [
        "from sklearn.metrics import confusion_matrix, log_loss"
      ],
      "execution_count": 0,
      "outputs": []
    },
    {
      "cell_type": "markdown",
      "metadata": {
        "id": "WXopZmqiOQQu",
        "colab_type": "text"
      },
      "source": [
        "**`LOG-LOSS`**"
      ]
    },
    {
      "cell_type": "code",
      "metadata": {
        "id": "ufjJbDVcNQdi",
        "colab_type": "code",
        "colab": {
          "base_uri": "https://localhost:8080/",
          "height": 34
        },
        "outputId": "da9ba885-9b4b-4d6f-f4c7-1dad3d7c14e0"
      },
      "source": [
        "log_loss(y_train, train_probs)"
      ],
      "execution_count": 194,
      "outputs": [
        {
          "output_type": "execute_result",
          "data": {
            "text/plain": [
              "0.1313612351196324"
            ]
          },
          "metadata": {
            "tags": []
          },
          "execution_count": 194
        }
      ]
    },
    {
      "cell_type": "code",
      "metadata": {
        "id": "m0gx27sRNkfd",
        "colab_type": "code",
        "colab": {
          "base_uri": "https://localhost:8080/",
          "height": 34
        },
        "outputId": "86eea754-f3d6-4293-92e6-96a41573eacd"
      },
      "source": [
        "log_loss(y_test, test_probs)"
      ],
      "execution_count": 170,
      "outputs": [
        {
          "output_type": "execute_result",
          "data": {
            "text/plain": [
              "0.1281437105177606"
            ]
          },
          "metadata": {
            "tags": []
          },
          "execution_count": 170
        }
      ]
    },
    {
      "cell_type": "markdown",
      "metadata": {
        "id": "e8AWPGDIZr--",
        "colab_type": "text"
      },
      "source": [
        "**CONCLUSION -- LOGISITIC REGRESSION IS BEST MODEL FOR THIS CLASSIFICATION PROBLEM**"
      ]
    }
  ]
}
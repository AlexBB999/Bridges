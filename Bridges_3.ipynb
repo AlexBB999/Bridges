{
  "nbformat": 4,
  "nbformat_minor": 0,
  "metadata": {
    "colab": {
      "name": "Bridges - 3.ipynb",
      "provenance": [],
      "collapsed_sections": [],
      "include_colab_link": true
    },
    "kernelspec": {
      "name": "python3",
      "display_name": "Python 3"
    }
  },
  "cells": [
    {
      "cell_type": "markdown",
      "metadata": {
        "id": "view-in-github",
        "colab_type": "text"
      },
      "source": [
        "<a href=\"https://colab.research.google.com/github/AlexBB999/Bridges/blob/master/Bridges_3.ipynb\" target=\"_parent\"><img src=\"https://colab.research.google.com/assets/colab-badge.svg\" alt=\"Open In Colab\"/></a>"
      ]
    },
    {
      "cell_type": "markdown",
      "metadata": {
        "id": "-GrZs_CNcsCr",
        "colab_type": "text"
      },
      "source": [
        "**IMPORT EVERYTHING I MAY USE**"
      ]
    },
    {
      "cell_type": "code",
      "metadata": {
        "id": "hBzn0dCgeDW-",
        "colab_type": "code",
        "colab": {}
      },
      "source": [
        "% matplotlib inline\n",
        "import pandas as pd\n",
        "import numpy as np\n",
        "import matplotlib.pyplot as plt\n",
        "from scipy import stats\n",
        "from scipy.stats import shapiro\n",
        "import statistics\n",
        "from scipy.stats import normaltest\n",
        "from scipy.stats import anderson\n",
        "from sklearn import linear_model\n",
        "from sklearn.ensemble import RandomForestRegressor\n",
        "import statsmodels.api as sm\n",
        "from sklearn.linear_model import LogisticRegression\n",
        "import seaborn as sns\n",
        "from sklearn.model_selection import train_test_split\n",
        "from sklearn.metrics import classification_report, confusion_matrix, roc_auc_score, recall_score\n",
        "from sklearn.preprocessing import StandardScaler\n",
        "from sklearn.ensemble import GradientBoostingClassifier\n",
        "from xgboost import XGBClassifier\n",
        "from sklearn.model_selection import GridSearchCV\n",
        "import warnings\n",
        "warnings.filterwarnings('ignore')"
      ],
      "execution_count": 0,
      "outputs": []
    },
    {
      "cell_type": "code",
      "metadata": {
        "id": "yPEwuhBXYxuD",
        "colab_type": "code",
        "colab": {}
      },
      "source": [
        "from google.colab import drive"
      ],
      "execution_count": 0,
      "outputs": []
    },
    {
      "cell_type": "code",
      "metadata": {
        "colab_type": "code",
        "id": "Wdjbc-TTZDUk",
        "outputId": "6d9ee1fa-4ebf-42b4-c621-b0068861af7b",
        "colab": {
          "base_uri": "https://localhost:8080/",
          "height": 121
        }
      },
      "source": [
        "drive.mount('/content/drive')"
      ],
      "execution_count": 9,
      "outputs": [
        {
          "output_type": "stream",
          "text": [
            "Go to this URL in a browser: https://accounts.google.com/o/oauth2/auth?client_id=947318989803-6bn6qk8qdgf4n4g3pfee6491hc0brc4i.apps.googleusercontent.com&redirect_uri=urn%3aietf%3awg%3aoauth%3a2.0%3aoob&response_type=code&scope=email%20https%3a%2f%2fwww.googleapis.com%2fauth%2fdocs.test%20https%3a%2f%2fwww.googleapis.com%2fauth%2fdrive%20https%3a%2f%2fwww.googleapis.com%2fauth%2fdrive.photos.readonly%20https%3a%2f%2fwww.googleapis.com%2fauth%2fpeopleapi.readonly\n",
            "\n",
            "Enter your authorization code:\n",
            "··········\n",
            "Mounted at /content/drive\n"
          ],
          "name": "stdout"
        }
      ]
    },
    {
      "cell_type": "markdown",
      "metadata": {
        "id": "BNmAkdSLmcim",
        "colab_type": "text"
      },
      "source": [
        "#**The current system for inspecting bridges is expensive, time-consuming and inefficient**\n",
        "\n",
        "The FHWA requires evaluation of all bridges however; it is costly having a\n",
        "bi­annual inspection cost of $2.7 billion for the U.S\n",
        "\n",
        "where  the  average inspection costper bridge ranges from $4,500 to $10,000.  This requires closing lanes for the span of theinspection, which can take 1 to 3 days causing traffic congestions.\n",
        "\n",
        "**https://catsr.vse.gmu.edu/SYST490/490_2014_BI/BIS_FinalReport.pdf**"
      ]
    },
    {
      "cell_type": "markdown",
      "metadata": {
        "id": "jx3F-b-im3YG",
        "colab_type": "text"
      },
      "source": [
        "**My objective in this project is adding granualrity/priortization to the process to help address at least part of the aforementioned shortcomings.** "
      ]
    },
    {
      "cell_type": "markdown",
      "metadata": {
        "id": "64gx3MkLs31G",
        "colab_type": "text"
      },
      "source": [
        ""
      ]
    },
    {
      "cell_type": "markdown",
      "metadata": {
        "id": "EddDUg3xnhWC",
        "colab_type": "text"
      },
      "source": [
        "The current system assigns a score called the \"Structural Evaluation\" to each brude. It is a 10 poitn scale. A score of 4 or less marks the bridge as \"Structurally Deficient\" -- meaning the bridge needs repairs -- possibly replacement. It now has a priority when allocating limited funds for bridge maintenance. But the scoring of  0,1,2,3,4 is not as granular as need be. For example -- if two bridges have a score of 3 -- which one  do we reapir forst? If we allow decimals hten we might have a score of 3.1 versus 3.5 so we know which is the first to get our limited funds."
      ]
    },
    {
      "cell_type": "markdown",
      "metadata": {
        "id": "y49_xRYrpX1E",
        "colab_type": "text"
      },
      "source": [
        "#**STAKEHOLDERS**\n",
        "\n",
        "The stakeholders have been clearly defined in the above quoted article:\n",
        "\n",
        "The primary stakeholders of the bridge inspection systems are the Federal\n",
        "Highway Administration (FHWA), District Department of Transportation (DDOT),\n",
        "Bridge Design Engineers, Bridge Construction Team, and the Inspection Team which are directly involved with the construction and inspection of the bridge. The secondary stakeholders are groups of people that are not directly involved with the construction andinspection but are impacted indirectly such as the traveling public or the Bridge Users.\n",
        "\n",
        "**My immediate audience (cohorts+instructor+you) are secondary stakeholders. But clearly this is of value to primary stakeholders**.\n"
      ]
    },
    {
      "cell_type": "markdown",
      "metadata": {
        "id": "yX_gnNizqfy_",
        "colab_type": "text"
      },
      "source": [
        "#**EXPLANATION FOR COULMNS DROPPED BEFORE ANY ANALYSIS**\n",
        "\n",
        "I am not creating a dashboard so any columns having to do with location/identification are **not** relevent at this time. Thus I have dropped the following columns:\n",
        "\n",
        "State_code\n",
        "\n",
        "Record_type\n",
        "\n",
        "Route_prefix\n",
        "\n",
        "Route_number\n",
        "\n",
        "Direction\n",
        "\n",
        "Highway District\n",
        "\n",
        "County_code\n",
        "\n",
        "Place_code\n",
        "\n",
        "Features_Desc\n",
        "\n",
        "Location\n",
        "\n",
        "Kilopoint\n",
        "\n",
        "Bae_Hwy_network\n",
        "\n",
        "LRS_Inv_Route\n",
        "\n",
        "Subroute\n",
        "\n",
        "Latitude\n",
        "\n",
        "Longitude\n",
        "\n",
        "Detour Kilos\n",
        "\n",
        "Cat 10\n",
        "\n",
        "Cat 23\n",
        "\n",
        "Without goiing into the same level of deatil , I have dropped all columns having to do with water/navigation and other irrelevant coluns like Right_curb and Left_curb. I am not staing that this information is not useful -- I am simply simplifying this project. To factor in all 136 features and many subfeatures is not a project -- it's a full-time job."
      ]
    },
    {
      "cell_type": "code",
      "metadata": {
        "id": "kjC4QJs1h07q",
        "colab_type": "code",
        "colab": {}
      },
      "source": [
        "bridges9 = pd.read_csv('/content/drive/My Drive/2017HwyBridgesDelimitedAllStates.txt', sep=',',encoding='ISO-8859-1',low_memory=False)"
      ],
      "execution_count": 0,
      "outputs": []
    },
    {
      "cell_type": "markdown",
      "metadata": {
        "id": "VfTu9fxUngTB",
        "colab_type": "text"
      },
      "source": [
        ""
      ]
    },
    {
      "cell_type": "markdown",
      "metadata": {
        "id": "f4-hIZdpjMiq",
        "colab_type": "text"
      },
      "source": [
        "**IDENTIFYING FEATURES BY COLUMN NUMBER**"
      ]
    },
    {
      "cell_type": "code",
      "metadata": {
        "id": "BFGnanTPiQCc",
        "colab_type": "code",
        "colab": {}
      },
      "source": [
        "g=list(range(1,137))"
      ],
      "execution_count": 0,
      "outputs": []
    },
    {
      "cell_type": "code",
      "metadata": {
        "id": "CzBKmXI8iZjt",
        "colab_type": "code",
        "colab": {}
      },
      "source": [
        "z=zip(g,list(bridges9))"
      ],
      "execution_count": 0,
      "outputs": []
    },
    {
      "cell_type": "code",
      "metadata": {
        "id": "XtVO5hKnifNE",
        "colab_type": "code",
        "outputId": "89ca7061-726d-48fd-b601-38910f29dacf",
        "colab": {
          "base_uri": "https://localhost:8080/",
          "height": 1000
        }
      },
      "source": [
        "list(z)"
      ],
      "execution_count": 13,
      "outputs": [
        {
          "output_type": "execute_result",
          "data": {
            "text/plain": [
              "[(1, 'STATE_CODE_001'),\n",
              " (2, 'STRUCTURE_NUMBER_008'),\n",
              " (3, 'RECORD_TYPE_005A'),\n",
              " (4, 'ROUTE_PREFIX_005B'),\n",
              " (5, 'SERVICE_LEVEL_005C'),\n",
              " (6, 'ROUTE_NUMBER_005D'),\n",
              " (7, 'DIRECTION_005E'),\n",
              " (8, 'HIGHWAY_DISTRICT_002'),\n",
              " (9, 'COUNTY_CODE_003'),\n",
              " (10, 'PLACE_CODE_004'),\n",
              " (11, 'FEATURES_DESC_006A'),\n",
              " (12, 'CRITICAL_FACILITY_006B'),\n",
              " (13, 'FACILITY_CARRIED_007'),\n",
              " (14, 'LOCATION_009'),\n",
              " (15, 'MIN_VERT_CLR_010'),\n",
              " (16, 'KILOPOINT_011'),\n",
              " (17, 'BASE_HWY_NETWORK_012'),\n",
              " (18, 'LRS_INV_ROUTE_013A'),\n",
              " (19, 'SUBROUTE_NO_013B'),\n",
              " (20, 'LAT_016'),\n",
              " (21, 'LONG_017'),\n",
              " (22, 'DETOUR_KILOS_019'),\n",
              " (23, 'TOLL_020'),\n",
              " (24, 'MAINTENANCE_021'),\n",
              " (25, 'OWNER_022'),\n",
              " (26, 'FUNCTIONAL_CLASS_026'),\n",
              " (27, 'YEAR_BUILT_027'),\n",
              " (28, 'TRAFFIC_LANES_ON_028A'),\n",
              " (29, 'TRAFFIC_LANES_UND_028B'),\n",
              " (30, 'ADT_029'),\n",
              " (31, 'YEAR_ADT_030'),\n",
              " (32, 'DESIGN_LOAD_031'),\n",
              " (33, 'APPR_WIDTH_MT_032'),\n",
              " (34, 'MEDIAN_CODE_033'),\n",
              " (35, 'DEGREES_SKEW_034'),\n",
              " (36, 'STRUCTURE_FLARED_035'),\n",
              " (37, 'RAILINGS_036A'),\n",
              " (38, 'TRANSITIONS_036B'),\n",
              " (39, 'APPR_RAIL_036C'),\n",
              " (40, 'APPR_RAIL_END_036D'),\n",
              " (41, 'HISTORY_037'),\n",
              " (42, 'NAVIGATION_038'),\n",
              " (43, 'NAV_VERT_CLR_MT_039'),\n",
              " (44, 'NAV_HORR_CLR_MT_040'),\n",
              " (45, 'OPEN_CLOSED_POSTED_041'),\n",
              " (46, 'SERVICE_ON_042A'),\n",
              " (47, 'SERVICE_UND_042B'),\n",
              " (48, 'STRUCTURE_KIND_043A'),\n",
              " (49, 'STRUCTURE_TYPE_043B'),\n",
              " (50, 'APPR_KIND_044A'),\n",
              " (51, 'APPR_TYPE_044B'),\n",
              " (52, 'MAIN_UNIT_SPANS_045'),\n",
              " (53, 'APPR_SPANS_046'),\n",
              " (54, 'HORR_CLR_MT_047'),\n",
              " (55, 'MAX_SPAN_LEN_MT_048'),\n",
              " (56, 'STRUCTURE_LEN_MT_049'),\n",
              " (57, 'LEFT_CURB_MT_050A'),\n",
              " (58, 'RIGHT_CURB_MT_050B'),\n",
              " (59, 'ROADWAY_WIDTH_MT_051'),\n",
              " (60, 'DECK_WIDTH_MT_052'),\n",
              " (61, 'VERT_CLR_OVER_MT_053'),\n",
              " (62, 'VERT_CLR_UND_REF_054A'),\n",
              " (63, 'VERT_CLR_UND_054B'),\n",
              " (64, 'LAT_UND_REF_055A'),\n",
              " (65, 'LAT_UND_MT_055B'),\n",
              " (66, 'LEFT_LAT_UND_MT_056'),\n",
              " (67, 'DECK_COND_058'),\n",
              " (68, 'SUPERSTRUCTURE_COND_059'),\n",
              " (69, 'SUBSTRUCTURE_COND_060'),\n",
              " (70, 'CHANNEL_COND_061'),\n",
              " (71, 'CULVERT_COND_062'),\n",
              " (72, 'OPR_RATING_METH_063'),\n",
              " (73, 'OPERATING_RATING_064'),\n",
              " (74, 'INV_RATING_METH_065'),\n",
              " (75, 'INVENTORY_RATING_066'),\n",
              " (76, 'STRUCTURAL_EVAL_067'),\n",
              " (77, 'DECK_GEOMETRY_EVAL_068'),\n",
              " (78, 'UNDCLRENCE_EVAL_069'),\n",
              " (79, 'POSTING_EVAL_070'),\n",
              " (80, 'WATERWAY_EVAL_071'),\n",
              " (81, 'APPR_ROAD_EVAL_072'),\n",
              " (82, 'WORK_PROPOSED_075A'),\n",
              " (83, 'WORK_DONE_BY_075B'),\n",
              " (84, 'IMP_LEN_MT_076'),\n",
              " (85, 'DATE_OF_INSPECT_090'),\n",
              " (86, 'INSPECT_FREQ_MONTHS_091'),\n",
              " (87, 'FRACTURE_092A'),\n",
              " (88, 'UNDWATER_LOOK_SEE_092B'),\n",
              " (89, 'SPEC_INSPECT_092C'),\n",
              " (90, 'FRACTURE_LAST_DATE_093A'),\n",
              " (91, 'UNDWATER_LAST_DATE_093B'),\n",
              " (92, 'SPEC_LAST_DATE_093C'),\n",
              " (93, 'BRIDGE_IMP_COST_094'),\n",
              " (94, 'ROADWAY_IMP_COST_095'),\n",
              " (95, 'TOTAL_IMP_COST_096'),\n",
              " (96, 'YEAR_OF_IMP_097'),\n",
              " (97, 'OTHER_STATE_CODE_098A'),\n",
              " (98, 'OTHER_STATE_PCNT_098B'),\n",
              " (99, 'OTHR_STATE_STRUC_NO_099'),\n",
              " (100, 'STRAHNET_HIGHWAY_100'),\n",
              " (101, 'PARALLEL_STRUCTURE_101'),\n",
              " (102, 'TRAFFIC_DIRECTION_102'),\n",
              " (103, 'TEMP_STRUCTURE_103'),\n",
              " (104, 'HIGHWAY_SYSTEM_104'),\n",
              " (105, 'FEDERAL_LANDS_105'),\n",
              " (106, 'YEAR_RECONSTRUCTED_106'),\n",
              " (107, 'DECK_STRUCTURE_TYPE_107'),\n",
              " (108, 'SURFACE_TYPE_108A'),\n",
              " (109, 'MEMBRANE_TYPE_108B'),\n",
              " (110, 'DECK_PROTECTION_108C'),\n",
              " (111, 'PERCENT_ADT_TRUCK_109'),\n",
              " (112, 'NATIONAL_NETWORK_110'),\n",
              " (113, 'PIER_PROTECTION_111'),\n",
              " (114, 'BRIDGE_LEN_IND_112'),\n",
              " (115, 'SCOUR_CRITICAL_113'),\n",
              " (116, 'FUTURE_ADT_114'),\n",
              " (117, 'YEAR_OF_FUTURE_ADT_115'),\n",
              " (118, 'MIN_NAV_CLR_MT_116'),\n",
              " (119, 'FED_AGENCY'),\n",
              " (120, 'DATE_LAST_UPDATE'),\n",
              " (121, 'TYPE_LAST_UPDATE'),\n",
              " (122, 'DEDUCT_CODE'),\n",
              " (123, 'REMARKS'),\n",
              " (124, 'PROGRAM_CODE'),\n",
              " (125, 'PROJ_NO'),\n",
              " (126, 'PROJ_SUFFIX'),\n",
              " (127, 'NBI_TYPE_OF_IMP'),\n",
              " (128, 'DTL_TYPE_OF_IMP'),\n",
              " (129, 'SPECIAL_CODE'),\n",
              " (130, 'STEP_CODE'),\n",
              " (131, 'STATUS_WITH_10YR_RULE'),\n",
              " (132, 'SUFFICIENCY_ASTERC'),\n",
              " (133, 'SUFFICIENCY_RATING'),\n",
              " (134, 'STATUS_NO_10YR_RULE'),\n",
              " (135, 'CAT10'),\n",
              " (136, 'CAT23')]"
            ]
          },
          "metadata": {
            "tags": []
          },
          "execution_count": 13
        }
      ]
    },
    {
      "cell_type": "markdown",
      "metadata": {
        "id": "wnKtl2gOKCKD",
        "colab_type": "text"
      },
      "source": [
        "**I HAVE ALREADY DONE SOME FEATURE SELECTION, AS NOTED ABOVE,  SO I AM NOT USING ALL 136 FEATURES**"
      ]
    },
    {
      "cell_type": "code",
      "metadata": {
        "colab_type": "code",
        "id": "bniB3AumxiMD",
        "colab": {}
      },
      "source": [
        "bridges99 = pd.read_csv('/content/drive/My Drive/2017HwyBridgesDelimitedAllStates.txt', sep=',',usecols=[1,22,23,26,27,29,31,45,47,48,54,59,66,67,71,72,73,74,75,76,106,107,108,109,114,132],encoding='ISO-8859-1',low_memory=False)"
      ],
      "execution_count": 0,
      "outputs": []
    },
    {
      "cell_type": "markdown",
      "metadata": {
        "id": "mFAA33RJeVv8",
        "colab_type": "text"
      },
      "source": [
        "**GET AN OVERVIEW OF YOUR DATA**"
      ]
    },
    {
      "cell_type": "code",
      "metadata": {
        "id": "GANDiQZYpe7s",
        "colab_type": "code",
        "outputId": "70b54cfa-9c5c-4eef-99a0-d89747493ac0",
        "colab": {
          "base_uri": "https://localhost:8080/",
          "height": 659
        }
      },
      "source": [
        "bridges99.head(20)"
      ],
      "execution_count": 15,
      "outputs": [
        {
          "output_type": "execute_result",
          "data": {
            "text/html": [
              "<div>\n",
              "<style scoped>\n",
              "    .dataframe tbody tr th:only-of-type {\n",
              "        vertical-align: middle;\n",
              "    }\n",
              "\n",
              "    .dataframe tbody tr th {\n",
              "        vertical-align: top;\n",
              "    }\n",
              "\n",
              "    .dataframe thead th {\n",
              "        text-align: right;\n",
              "    }\n",
              "</style>\n",
              "<table border=\"1\" class=\"dataframe\">\n",
              "  <thead>\n",
              "    <tr style=\"text-align: right;\">\n",
              "      <th></th>\n",
              "      <th>STRUCTURE_NUMBER_008</th>\n",
              "      <th>TOLL_020</th>\n",
              "      <th>MAINTENANCE_021</th>\n",
              "      <th>YEAR_BUILT_027</th>\n",
              "      <th>TRAFFIC_LANES_ON_028A</th>\n",
              "      <th>ADT_029</th>\n",
              "      <th>DESIGN_LOAD_031</th>\n",
              "      <th>SERVICE_ON_042A</th>\n",
              "      <th>STRUCTURE_KIND_043A</th>\n",
              "      <th>STRUCTURE_TYPE_043B</th>\n",
              "      <th>MAX_SPAN_LEN_MT_048</th>\n",
              "      <th>DECK_WIDTH_MT_052</th>\n",
              "      <th>DECK_COND_058</th>\n",
              "      <th>SUPERSTRUCTURE_COND_059</th>\n",
              "      <th>OPR_RATING_METH_063</th>\n",
              "      <th>OPERATING_RATING_064</th>\n",
              "      <th>INV_RATING_METH_065</th>\n",
              "      <th>INVENTORY_RATING_066</th>\n",
              "      <th>STRUCTURAL_EVAL_067</th>\n",
              "      <th>DECK_GEOMETRY_EVAL_068</th>\n",
              "      <th>DECK_STRUCTURE_TYPE_107</th>\n",
              "      <th>SURFACE_TYPE_108A</th>\n",
              "      <th>MEMBRANE_TYPE_108B</th>\n",
              "      <th>DECK_PROTECTION_108C</th>\n",
              "      <th>SCOUR_CRITICAL_113</th>\n",
              "      <th>SUFFICIENCY_RATING</th>\n",
              "    </tr>\n",
              "  </thead>\n",
              "  <tbody>\n",
              "    <tr>\n",
              "      <th>0</th>\n",
              "      <td>00000000000S702</td>\n",
              "      <td>3</td>\n",
              "      <td>62</td>\n",
              "      <td>1999</td>\n",
              "      <td>2.0</td>\n",
              "      <td>50</td>\n",
              "      <td>5</td>\n",
              "      <td>1</td>\n",
              "      <td>5</td>\n",
              "      <td>5</td>\n",
              "      <td>14.7</td>\n",
              "      <td>9.7</td>\n",
              "      <td>8</td>\n",
              "      <td>8</td>\n",
              "      <td>1</td>\n",
              "      <td>44.2</td>\n",
              "      <td>1</td>\n",
              "      <td>32.4</td>\n",
              "      <td>7</td>\n",
              "      <td>7</td>\n",
              "      <td>2</td>\n",
              "      <td>6</td>\n",
              "      <td>0</td>\n",
              "      <td>1</td>\n",
              "      <td>8</td>\n",
              "      <td>100.0</td>\n",
              "    </tr>\n",
              "    <tr>\n",
              "      <th>1</th>\n",
              "      <td>00000000000S703</td>\n",
              "      <td>3</td>\n",
              "      <td>62</td>\n",
              "      <td>2002</td>\n",
              "      <td>2.0</td>\n",
              "      <td>159</td>\n",
              "      <td>5</td>\n",
              "      <td>1</td>\n",
              "      <td>5</td>\n",
              "      <td>1</td>\n",
              "      <td>12.9</td>\n",
              "      <td>9.8</td>\n",
              "      <td>8</td>\n",
              "      <td>8</td>\n",
              "      <td>1</td>\n",
              "      <td>84.2</td>\n",
              "      <td>1</td>\n",
              "      <td>34.6</td>\n",
              "      <td>7</td>\n",
              "      <td>6</td>\n",
              "      <td>2</td>\n",
              "      <td>6</td>\n",
              "      <td>0</td>\n",
              "      <td>8</td>\n",
              "      <td>8</td>\n",
              "      <td>100.0</td>\n",
              "    </tr>\n",
              "    <tr>\n",
              "      <th>2</th>\n",
              "      <td>0000000000M0022</td>\n",
              "      <td>3</td>\n",
              "      <td>74</td>\n",
              "      <td>1942</td>\n",
              "      <td>2.0</td>\n",
              "      <td>375</td>\n",
              "      <td>4</td>\n",
              "      <td>1</td>\n",
              "      <td>1</td>\n",
              "      <td>4</td>\n",
              "      <td>18.3</td>\n",
              "      <td>9.0</td>\n",
              "      <td>5</td>\n",
              "      <td>5</td>\n",
              "      <td>2</td>\n",
              "      <td>51.7</td>\n",
              "      <td>2</td>\n",
              "      <td>37.2</td>\n",
              "      <td>5</td>\n",
              "      <td>4</td>\n",
              "      <td>1</td>\n",
              "      <td>1</td>\n",
              "      <td>0</td>\n",
              "      <td>0</td>\n",
              "      <td>8</td>\n",
              "      <td>69.5</td>\n",
              "    </tr>\n",
              "    <tr>\n",
              "      <th>3</th>\n",
              "      <td>000000883039900</td>\n",
              "      <td>3</td>\n",
              "      <td>67</td>\n",
              "      <td>1974</td>\n",
              "      <td>2.0</td>\n",
              "      <td>300</td>\n",
              "      <td>5</td>\n",
              "      <td>1</td>\n",
              "      <td>5</td>\n",
              "      <td>5</td>\n",
              "      <td>14.0</td>\n",
              "      <td>10.5</td>\n",
              "      <td>7</td>\n",
              "      <td>7</td>\n",
              "      <td>1</td>\n",
              "      <td>44.2</td>\n",
              "      <td>1</td>\n",
              "      <td>26.6</td>\n",
              "      <td>6</td>\n",
              "      <td>6</td>\n",
              "      <td>1</td>\n",
              "      <td>1</td>\n",
              "      <td>0</td>\n",
              "      <td>0</td>\n",
              "      <td>8</td>\n",
              "      <td>90.2</td>\n",
              "    </tr>\n",
              "    <tr>\n",
              "      <th>4</th>\n",
              "      <td>000001014002450</td>\n",
              "      <td>3</td>\n",
              "      <td>67</td>\n",
              "      <td>1937</td>\n",
              "      <td>2.0</td>\n",
              "      <td>6200</td>\n",
              "      <td>4</td>\n",
              "      <td>5</td>\n",
              "      <td>3</td>\n",
              "      <td>10</td>\n",
              "      <td>53.3</td>\n",
              "      <td>7.8</td>\n",
              "      <td>6</td>\n",
              "      <td>6</td>\n",
              "      <td>1</td>\n",
              "      <td>40.0</td>\n",
              "      <td>1</td>\n",
              "      <td>23.9</td>\n",
              "      <td>5</td>\n",
              "      <td>2</td>\n",
              "      <td>1</td>\n",
              "      <td>1</td>\n",
              "      <td>0</td>\n",
              "      <td>0</td>\n",
              "      <td>9</td>\n",
              "      <td>49.9</td>\n",
              "    </tr>\n",
              "    <tr>\n",
              "      <th>5</th>\n",
              "      <td>000001331700710</td>\n",
              "      <td>3</td>\n",
              "      <td>67</td>\n",
              "      <td>1924</td>\n",
              "      <td>2.0</td>\n",
              "      <td>3620</td>\n",
              "      <td>3</td>\n",
              "      <td>5</td>\n",
              "      <td>4</td>\n",
              "      <td>3</td>\n",
              "      <td>46.9</td>\n",
              "      <td>8.3</td>\n",
              "      <td>5</td>\n",
              "      <td>5</td>\n",
              "      <td>1</td>\n",
              "      <td>58.4</td>\n",
              "      <td>1</td>\n",
              "      <td>35.0</td>\n",
              "      <td>5</td>\n",
              "      <td>2</td>\n",
              "      <td>1</td>\n",
              "      <td>5</td>\n",
              "      <td>0</td>\n",
              "      <td>0</td>\n",
              "      <td>9</td>\n",
              "      <td>61.3</td>\n",
              "    </tr>\n",
              "    <tr>\n",
              "      <th>6</th>\n",
              "      <td>000002</td>\n",
              "      <td>3</td>\n",
              "      <td>2</td>\n",
              "      <td>1898</td>\n",
              "      <td>1.0</td>\n",
              "      <td>400</td>\n",
              "      <td>1</td>\n",
              "      <td>1</td>\n",
              "      <td>3</td>\n",
              "      <td>10</td>\n",
              "      <td>30.5</td>\n",
              "      <td>3.7</td>\n",
              "      <td>7</td>\n",
              "      <td>4</td>\n",
              "      <td>1</td>\n",
              "      <td>2.7</td>\n",
              "      <td>1</td>\n",
              "      <td>1.8</td>\n",
              "      <td>2</td>\n",
              "      <td>2</td>\n",
              "      <td>6</td>\n",
              "      <td>6</td>\n",
              "      <td>0</td>\n",
              "      <td>0</td>\n",
              "      <td>5</td>\n",
              "      <td>16.9</td>\n",
              "    </tr>\n",
              "    <tr>\n",
              "      <th>7</th>\n",
              "      <td>000004</td>\n",
              "      <td>3</td>\n",
              "      <td>2</td>\n",
              "      <td>1900</td>\n",
              "      <td>1.0</td>\n",
              "      <td>150</td>\n",
              "      <td>2</td>\n",
              "      <td>1</td>\n",
              "      <td>3</td>\n",
              "      <td>10</td>\n",
              "      <td>25.6</td>\n",
              "      <td>3.7</td>\n",
              "      <td>4</td>\n",
              "      <td>4</td>\n",
              "      <td>5</td>\n",
              "      <td>0.0</td>\n",
              "      <td>5</td>\n",
              "      <td>0.0</td>\n",
              "      <td>0</td>\n",
              "      <td>0</td>\n",
              "      <td>6</td>\n",
              "      <td>8</td>\n",
              "      <td>0</td>\n",
              "      <td>0</td>\n",
              "      <td>U</td>\n",
              "      <td>0.0</td>\n",
              "    </tr>\n",
              "    <tr>\n",
              "      <th>8</th>\n",
              "      <td>000004504800350</td>\n",
              "      <td>3</td>\n",
              "      <td>67</td>\n",
              "      <td>1939</td>\n",
              "      <td>2.0</td>\n",
              "      <td>350</td>\n",
              "      <td>4</td>\n",
              "      <td>1</td>\n",
              "      <td>1</td>\n",
              "      <td>4</td>\n",
              "      <td>18.3</td>\n",
              "      <td>8.2</td>\n",
              "      <td>7</td>\n",
              "      <td>7</td>\n",
              "      <td>1</td>\n",
              "      <td>47.7</td>\n",
              "      <td>1</td>\n",
              "      <td>28.8</td>\n",
              "      <td>7</td>\n",
              "      <td>4</td>\n",
              "      <td>1</td>\n",
              "      <td>6</td>\n",
              "      <td>0</td>\n",
              "      <td>0</td>\n",
              "      <td>8</td>\n",
              "      <td>72.8</td>\n",
              "    </tr>\n",
              "    <tr>\n",
              "      <th>9</th>\n",
              "      <td>000005</td>\n",
              "      <td>3</td>\n",
              "      <td>4</td>\n",
              "      <td>1900</td>\n",
              "      <td>1.0</td>\n",
              "      <td>15</td>\n",
              "      <td>1</td>\n",
              "      <td>1</td>\n",
              "      <td>4</td>\n",
              "      <td>10</td>\n",
              "      <td>7.9</td>\n",
              "      <td>4.8</td>\n",
              "      <td>5</td>\n",
              "      <td>4</td>\n",
              "      <td>1</td>\n",
              "      <td>4.5</td>\n",
              "      <td>1</td>\n",
              "      <td>2.7</td>\n",
              "      <td>2</td>\n",
              "      <td>6</td>\n",
              "      <td>8</td>\n",
              "      <td>7</td>\n",
              "      <td>0</td>\n",
              "      <td>0</td>\n",
              "      <td>4</td>\n",
              "      <td>22.1</td>\n",
              "    </tr>\n",
              "    <tr>\n",
              "      <th>10</th>\n",
              "      <td>000007</td>\n",
              "      <td>3</td>\n",
              "      <td>2</td>\n",
              "      <td>1993</td>\n",
              "      <td>1.0</td>\n",
              "      <td>180</td>\n",
              "      <td>5</td>\n",
              "      <td>1</td>\n",
              "      <td>1</td>\n",
              "      <td>22</td>\n",
              "      <td>7.3</td>\n",
              "      <td>7.5</td>\n",
              "      <td>7</td>\n",
              "      <td>6</td>\n",
              "      <td>1</td>\n",
              "      <td>63.7</td>\n",
              "      <td>1</td>\n",
              "      <td>38.2</td>\n",
              "      <td>6</td>\n",
              "      <td>5</td>\n",
              "      <td>2</td>\n",
              "      <td>0</td>\n",
              "      <td>0</td>\n",
              "      <td>0</td>\n",
              "      <td>5</td>\n",
              "      <td>99.0</td>\n",
              "    </tr>\n",
              "    <tr>\n",
              "      <th>11</th>\n",
              "      <td>000008</td>\n",
              "      <td>3</td>\n",
              "      <td>2</td>\n",
              "      <td>1927</td>\n",
              "      <td>2.0</td>\n",
              "      <td>513</td>\n",
              "      <td>2</td>\n",
              "      <td>1</td>\n",
              "      <td>3</td>\n",
              "      <td>3</td>\n",
              "      <td>33.2</td>\n",
              "      <td>7.0</td>\n",
              "      <td>7</td>\n",
              "      <td>7</td>\n",
              "      <td>2</td>\n",
              "      <td>13.6</td>\n",
              "      <td>2</td>\n",
              "      <td>9.5</td>\n",
              "      <td>2</td>\n",
              "      <td>3</td>\n",
              "      <td>1</td>\n",
              "      <td>1</td>\n",
              "      <td>0</td>\n",
              "      <td>0</td>\n",
              "      <td>N</td>\n",
              "      <td>40.6</td>\n",
              "    </tr>\n",
              "    <tr>\n",
              "      <th>12</th>\n",
              "      <td>00000B253040000</td>\n",
              "      <td>3</td>\n",
              "      <td>67</td>\n",
              "      <td>1969</td>\n",
              "      <td>2.0</td>\n",
              "      <td>50</td>\n",
              "      <td>5</td>\n",
              "      <td>1</td>\n",
              "      <td>5</td>\n",
              "      <td>5</td>\n",
              "      <td>14.3</td>\n",
              "      <td>9.6</td>\n",
              "      <td>7</td>\n",
              "      <td>6</td>\n",
              "      <td>1</td>\n",
              "      <td>48.9</td>\n",
              "      <td>1</td>\n",
              "      <td>29.2</td>\n",
              "      <td>6</td>\n",
              "      <td>7</td>\n",
              "      <td>2</td>\n",
              "      <td>6</td>\n",
              "      <td>0</td>\n",
              "      <td>0</td>\n",
              "      <td>8</td>\n",
              "      <td>93.1</td>\n",
              "    </tr>\n",
              "    <tr>\n",
              "      <th>13</th>\n",
              "      <td>00000BLN0BR0010</td>\n",
              "      <td>3</td>\n",
              "      <td>67</td>\n",
              "      <td>1974</td>\n",
              "      <td>2.0</td>\n",
              "      <td>250</td>\n",
              "      <td>4</td>\n",
              "      <td>1</td>\n",
              "      <td>1</td>\n",
              "      <td>19</td>\n",
              "      <td>3.0</td>\n",
              "      <td>0.0</td>\n",
              "      <td>N</td>\n",
              "      <td>N</td>\n",
              "      <td>3</td>\n",
              "      <td>37.3</td>\n",
              "      <td>3</td>\n",
              "      <td>28.8</td>\n",
              "      <td>6</td>\n",
              "      <td>N</td>\n",
              "      <td>N</td>\n",
              "      <td>6</td>\n",
              "      <td>N</td>\n",
              "      <td>N</td>\n",
              "      <td>8</td>\n",
              "      <td>96.7</td>\n",
              "    </tr>\n",
              "    <tr>\n",
              "      <th>14</th>\n",
              "      <td>00000T721700150</td>\n",
              "      <td>3</td>\n",
              "      <td>67</td>\n",
              "      <td>1953</td>\n",
              "      <td>2.0</td>\n",
              "      <td>100</td>\n",
              "      <td>4</td>\n",
              "      <td>1</td>\n",
              "      <td>1</td>\n",
              "      <td>4</td>\n",
              "      <td>16.2</td>\n",
              "      <td>9.1</td>\n",
              "      <td>6</td>\n",
              "      <td>6</td>\n",
              "      <td>1</td>\n",
              "      <td>46.4</td>\n",
              "      <td>1</td>\n",
              "      <td>27.9</td>\n",
              "      <td>6</td>\n",
              "      <td>6</td>\n",
              "      <td>1</td>\n",
              "      <td>1</td>\n",
              "      <td>0</td>\n",
              "      <td>0</td>\n",
              "      <td>8</td>\n",
              "      <td>89.9</td>\n",
              "    </tr>\n",
              "    <tr>\n",
              "      <th>15</th>\n",
              "      <td>000010</td>\n",
              "      <td>3</td>\n",
              "      <td>2</td>\n",
              "      <td>1900</td>\n",
              "      <td>1.0</td>\n",
              "      <td>30</td>\n",
              "      <td>0</td>\n",
              "      <td>1</td>\n",
              "      <td>4</td>\n",
              "      <td>2</td>\n",
              "      <td>11.3</td>\n",
              "      <td>4.3</td>\n",
              "      <td>3</td>\n",
              "      <td>2</td>\n",
              "      <td>2</td>\n",
              "      <td>0.0</td>\n",
              "      <td>2</td>\n",
              "      <td>0.0</td>\n",
              "      <td>0</td>\n",
              "      <td>6</td>\n",
              "      <td>8</td>\n",
              "      <td>7</td>\n",
              "      <td>0</td>\n",
              "      <td>9</td>\n",
              "      <td>U</td>\n",
              "      <td>14.7</td>\n",
              "    </tr>\n",
              "    <tr>\n",
              "      <th>16</th>\n",
              "      <td>000012</td>\n",
              "      <td>3</td>\n",
              "      <td>4</td>\n",
              "      <td>1900</td>\n",
              "      <td>2.0</td>\n",
              "      <td>495</td>\n",
              "      <td>1</td>\n",
              "      <td>1</td>\n",
              "      <td>1</td>\n",
              "      <td>1</td>\n",
              "      <td>10.1</td>\n",
              "      <td>6.9</td>\n",
              "      <td>5</td>\n",
              "      <td>6</td>\n",
              "      <td>0</td>\n",
              "      <td>43.5</td>\n",
              "      <td>0</td>\n",
              "      <td>32.7</td>\n",
              "      <td>6</td>\n",
              "      <td>3</td>\n",
              "      <td>1</td>\n",
              "      <td>1</td>\n",
              "      <td>0</td>\n",
              "      <td>0</td>\n",
              "      <td>N</td>\n",
              "      <td>74.9</td>\n",
              "    </tr>\n",
              "    <tr>\n",
              "      <th>17</th>\n",
              "      <td>000013771700120</td>\n",
              "      <td>3</td>\n",
              "      <td>67</td>\n",
              "      <td>1958</td>\n",
              "      <td>2.0</td>\n",
              "      <td>3620</td>\n",
              "      <td>6</td>\n",
              "      <td>1</td>\n",
              "      <td>3</td>\n",
              "      <td>2</td>\n",
              "      <td>17.7</td>\n",
              "      <td>9.8</td>\n",
              "      <td>6</td>\n",
              "      <td>7</td>\n",
              "      <td>1</td>\n",
              "      <td>55.1</td>\n",
              "      <td>1</td>\n",
              "      <td>33.0</td>\n",
              "      <td>7</td>\n",
              "      <td>3</td>\n",
              "      <td>1</td>\n",
              "      <td>6</td>\n",
              "      <td>0</td>\n",
              "      <td>0</td>\n",
              "      <td>N</td>\n",
              "      <td>79.9</td>\n",
              "    </tr>\n",
              "    <tr>\n",
              "      <th>18</th>\n",
              "      <td>000018</td>\n",
              "      <td>3</td>\n",
              "      <td>2</td>\n",
              "      <td>1900</td>\n",
              "      <td>1.0</td>\n",
              "      <td>74</td>\n",
              "      <td>0</td>\n",
              "      <td>1</td>\n",
              "      <td>3</td>\n",
              "      <td>10</td>\n",
              "      <td>15.5</td>\n",
              "      <td>4.9</td>\n",
              "      <td>3</td>\n",
              "      <td>3</td>\n",
              "      <td>1</td>\n",
              "      <td>2.7</td>\n",
              "      <td>1</td>\n",
              "      <td>1.8</td>\n",
              "      <td>2</td>\n",
              "      <td>3</td>\n",
              "      <td>1</td>\n",
              "      <td>1</td>\n",
              "      <td>0</td>\n",
              "      <td>0</td>\n",
              "      <td>5</td>\n",
              "      <td>24.5</td>\n",
              "    </tr>\n",
              "    <tr>\n",
              "      <th>19</th>\n",
              "      <td>000019</td>\n",
              "      <td>3</td>\n",
              "      <td>2</td>\n",
              "      <td>1900</td>\n",
              "      <td>2.0</td>\n",
              "      <td>250</td>\n",
              "      <td>2</td>\n",
              "      <td>1</td>\n",
              "      <td>3</td>\n",
              "      <td>19</td>\n",
              "      <td>7.3</td>\n",
              "      <td>7.6</td>\n",
              "      <td>N</td>\n",
              "      <td>N</td>\n",
              "      <td>1</td>\n",
              "      <td>35.7</td>\n",
              "      <td>1</td>\n",
              "      <td>28.8</td>\n",
              "      <td>5</td>\n",
              "      <td>N</td>\n",
              "      <td>N</td>\n",
              "      <td>N</td>\n",
              "      <td>N</td>\n",
              "      <td>N</td>\n",
              "      <td>8</td>\n",
              "      <td>81.7</td>\n",
              "    </tr>\n",
              "  </tbody>\n",
              "</table>\n",
              "</div>"
            ],
            "text/plain": [
              "   STRUCTURE_NUMBER_008  TOLL_020  ...  SCOUR_CRITICAL_113  SUFFICIENCY_RATING\n",
              "0       00000000000S702         3  ...                   8               100.0\n",
              "1       00000000000S703         3  ...                   8               100.0\n",
              "2       0000000000M0022         3  ...                   8                69.5\n",
              "3       000000883039900         3  ...                   8                90.2\n",
              "4       000001014002450         3  ...                   9                49.9\n",
              "5       000001331700710         3  ...                   9                61.3\n",
              "6       000002                  3  ...                   5                16.9\n",
              "7       000004                  3  ...                   U                 0.0\n",
              "8       000004504800350         3  ...                   8                72.8\n",
              "9       000005                  3  ...                   4                22.1\n",
              "10      000007                  3  ...                   5                99.0\n",
              "11      000008                  3  ...                   N                40.6\n",
              "12      00000B253040000         3  ...                   8                93.1\n",
              "13      00000BLN0BR0010         3  ...                   8                96.7\n",
              "14      00000T721700150         3  ...                   8                89.9\n",
              "15      000010                  3  ...                   U                14.7\n",
              "16      000012                  3  ...                   N                74.9\n",
              "17      000013771700120         3  ...                   N                79.9\n",
              "18      000018                  3  ...                   5                24.5\n",
              "19      000019                  3  ...                   8                81.7\n",
              "\n",
              "[20 rows x 26 columns]"
            ]
          },
          "metadata": {
            "tags": []
          },
          "execution_count": 15
        }
      ]
    },
    {
      "cell_type": "code",
      "metadata": {
        "id": "sUtqBS9teNUX",
        "colab_type": "code",
        "outputId": "380ece13-a1f7-49e8-f7f8-ad325ef2982e",
        "colab": {
          "base_uri": "https://localhost:8080/",
          "height": 538
        }
      },
      "source": [
        "bridges99.info()"
      ],
      "execution_count": 16,
      "outputs": [
        {
          "output_type": "stream",
          "text": [
            "<class 'pandas.core.frame.DataFrame'>\n",
            "RangeIndex: 615002 entries, 0 to 615001\n",
            "Data columns (total 26 columns):\n",
            "STRUCTURE_NUMBER_008       615002 non-null object\n",
            "TOLL_020                   615002 non-null int64\n",
            "MAINTENANCE_021            615002 non-null int64\n",
            "YEAR_BUILT_027             615002 non-null int64\n",
            "TRAFFIC_LANES_ON_028A      614998 non-null float64\n",
            "ADT_029                    615002 non-null int64\n",
            "DESIGN_LOAD_031            615002 non-null object\n",
            "SERVICE_ON_042A            615002 non-null int64\n",
            "STRUCTURE_KIND_043A        615002 non-null int64\n",
            "STRUCTURE_TYPE_043B        615002 non-null int64\n",
            "MAX_SPAN_LEN_MT_048        615002 non-null float64\n",
            "DECK_WIDTH_MT_052          614998 non-null float64\n",
            "DECK_COND_058              615002 non-null object\n",
            "SUPERSTRUCTURE_COND_059    615002 non-null object\n",
            "OPR_RATING_METH_063        614951 non-null object\n",
            "OPERATING_RATING_064       611057 non-null float64\n",
            "INV_RATING_METH_065        614950 non-null object\n",
            "INVENTORY_RATING_066       611093 non-null float64\n",
            "STRUCTURAL_EVAL_067        615002 non-null object\n",
            "DECK_GEOMETRY_EVAL_068     615002 non-null object\n",
            "DECK_STRUCTURE_TYPE_107    615002 non-null object\n",
            "SURFACE_TYPE_108A          615001 non-null object\n",
            "MEMBRANE_TYPE_108B         615000 non-null object\n",
            "DECK_PROTECTION_108C       615001 non-null object\n",
            "SCOUR_CRITICAL_113         615002 non-null object\n",
            "SUFFICIENCY_RATING         615002 non-null float64\n",
            "dtypes: float64(6), int64(7), object(13)\n",
            "memory usage: 122.0+ MB\n"
          ],
          "name": "stdout"
        }
      ]
    },
    {
      "cell_type": "markdown",
      "metadata": {
        "id": "UaMv415Ajegq",
        "colab_type": "text"
      },
      "source": [
        "**THE TARGET IS STRUCTURAL_EVALUATION**\n",
        "\n",
        "**THIS IS HOW NBI DETERMINES IF BRIDGE IS \"STRUCTURALLY DEFICIENT\"**"
      ]
    },
    {
      "cell_type": "markdown",
      "metadata": {
        "id": "EQqNiSFzBu3n",
        "colab_type": "text"
      },
      "source": [
        "**CREATE NEW FEATURE - MAIN SPAN SURFACE AREA  =MAX_SPAN_LEN_MT_048 X DECK_WIDTH_MT_052**\n",
        "\n",
        "**THE TOTAL SURFACE AREA OF THE MAIN SPAN HAS BEEN USED IN SOME STUDIES**"
      ]
    },
    {
      "cell_type": "code",
      "metadata": {
        "id": "3TT70qkmCIc6",
        "colab_type": "code",
        "colab": {}
      },
      "source": [
        "bridges99['surface_area']=bridges99['MAX_SPAN_LEN_MT_048']*bridges99['DECK_WIDTH_MT_052']"
      ],
      "execution_count": 0,
      "outputs": []
    },
    {
      "cell_type": "code",
      "metadata": {
        "id": "lsx9ETe7Cgal",
        "colab_type": "code",
        "outputId": "3f540ffc-d8e2-4c9a-ca3d-704832ae68b9",
        "colab": {
          "base_uri": "https://localhost:8080/",
          "height": 215
        }
      },
      "source": [
        "bridges99.head()"
      ],
      "execution_count": 20,
      "outputs": [
        {
          "output_type": "execute_result",
          "data": {
            "text/html": [
              "<div>\n",
              "<style scoped>\n",
              "    .dataframe tbody tr th:only-of-type {\n",
              "        vertical-align: middle;\n",
              "    }\n",
              "\n",
              "    .dataframe tbody tr th {\n",
              "        vertical-align: top;\n",
              "    }\n",
              "\n",
              "    .dataframe thead th {\n",
              "        text-align: right;\n",
              "    }\n",
              "</style>\n",
              "<table border=\"1\" class=\"dataframe\">\n",
              "  <thead>\n",
              "    <tr style=\"text-align: right;\">\n",
              "      <th></th>\n",
              "      <th>STRUCTURE_NUMBER_008</th>\n",
              "      <th>TOLL_020</th>\n",
              "      <th>MAINTENANCE_021</th>\n",
              "      <th>YEAR_BUILT_027</th>\n",
              "      <th>TRAFFIC_LANES_ON_028A</th>\n",
              "      <th>ADT_029</th>\n",
              "      <th>DESIGN_LOAD_031</th>\n",
              "      <th>SERVICE_ON_042A</th>\n",
              "      <th>STRUCTURE_KIND_043A</th>\n",
              "      <th>STRUCTURE_TYPE_043B</th>\n",
              "      <th>MAX_SPAN_LEN_MT_048</th>\n",
              "      <th>DECK_WIDTH_MT_052</th>\n",
              "      <th>DECK_COND_058</th>\n",
              "      <th>SUPERSTRUCTURE_COND_059</th>\n",
              "      <th>OPR_RATING_METH_063</th>\n",
              "      <th>OPERATING_RATING_064</th>\n",
              "      <th>INV_RATING_METH_065</th>\n",
              "      <th>INVENTORY_RATING_066</th>\n",
              "      <th>STRUCTURAL_EVAL_067</th>\n",
              "      <th>DECK_GEOMETRY_EVAL_068</th>\n",
              "      <th>DECK_STRUCTURE_TYPE_107</th>\n",
              "      <th>SURFACE_TYPE_108A</th>\n",
              "      <th>MEMBRANE_TYPE_108B</th>\n",
              "      <th>DECK_PROTECTION_108C</th>\n",
              "      <th>SCOUR_CRITICAL_113</th>\n",
              "      <th>SUFFICIENCY_RATING</th>\n",
              "      <th>surface_area</th>\n",
              "    </tr>\n",
              "  </thead>\n",
              "  <tbody>\n",
              "    <tr>\n",
              "      <th>0</th>\n",
              "      <td>00000000000S702</td>\n",
              "      <td>3</td>\n",
              "      <td>62</td>\n",
              "      <td>1999</td>\n",
              "      <td>2.0</td>\n",
              "      <td>50</td>\n",
              "      <td>5</td>\n",
              "      <td>1</td>\n",
              "      <td>5</td>\n",
              "      <td>5</td>\n",
              "      <td>14.7</td>\n",
              "      <td>9.7</td>\n",
              "      <td>8</td>\n",
              "      <td>8</td>\n",
              "      <td>1</td>\n",
              "      <td>44.2</td>\n",
              "      <td>1</td>\n",
              "      <td>32.4</td>\n",
              "      <td>7</td>\n",
              "      <td>7</td>\n",
              "      <td>2</td>\n",
              "      <td>6</td>\n",
              "      <td>0</td>\n",
              "      <td>1</td>\n",
              "      <td>8</td>\n",
              "      <td>100.0</td>\n",
              "      <td>142.59</td>\n",
              "    </tr>\n",
              "    <tr>\n",
              "      <th>1</th>\n",
              "      <td>00000000000S703</td>\n",
              "      <td>3</td>\n",
              "      <td>62</td>\n",
              "      <td>2002</td>\n",
              "      <td>2.0</td>\n",
              "      <td>159</td>\n",
              "      <td>5</td>\n",
              "      <td>1</td>\n",
              "      <td>5</td>\n",
              "      <td>1</td>\n",
              "      <td>12.9</td>\n",
              "      <td>9.8</td>\n",
              "      <td>8</td>\n",
              "      <td>8</td>\n",
              "      <td>1</td>\n",
              "      <td>84.2</td>\n",
              "      <td>1</td>\n",
              "      <td>34.6</td>\n",
              "      <td>7</td>\n",
              "      <td>6</td>\n",
              "      <td>2</td>\n",
              "      <td>6</td>\n",
              "      <td>0</td>\n",
              "      <td>8</td>\n",
              "      <td>8</td>\n",
              "      <td>100.0</td>\n",
              "      <td>126.42</td>\n",
              "    </tr>\n",
              "    <tr>\n",
              "      <th>2</th>\n",
              "      <td>0000000000M0022</td>\n",
              "      <td>3</td>\n",
              "      <td>74</td>\n",
              "      <td>1942</td>\n",
              "      <td>2.0</td>\n",
              "      <td>375</td>\n",
              "      <td>4</td>\n",
              "      <td>1</td>\n",
              "      <td>1</td>\n",
              "      <td>4</td>\n",
              "      <td>18.3</td>\n",
              "      <td>9.0</td>\n",
              "      <td>5</td>\n",
              "      <td>5</td>\n",
              "      <td>2</td>\n",
              "      <td>51.7</td>\n",
              "      <td>2</td>\n",
              "      <td>37.2</td>\n",
              "      <td>5</td>\n",
              "      <td>4</td>\n",
              "      <td>1</td>\n",
              "      <td>1</td>\n",
              "      <td>0</td>\n",
              "      <td>0</td>\n",
              "      <td>8</td>\n",
              "      <td>69.5</td>\n",
              "      <td>164.70</td>\n",
              "    </tr>\n",
              "    <tr>\n",
              "      <th>3</th>\n",
              "      <td>000000883039900</td>\n",
              "      <td>3</td>\n",
              "      <td>67</td>\n",
              "      <td>1974</td>\n",
              "      <td>2.0</td>\n",
              "      <td>300</td>\n",
              "      <td>5</td>\n",
              "      <td>1</td>\n",
              "      <td>5</td>\n",
              "      <td>5</td>\n",
              "      <td>14.0</td>\n",
              "      <td>10.5</td>\n",
              "      <td>7</td>\n",
              "      <td>7</td>\n",
              "      <td>1</td>\n",
              "      <td>44.2</td>\n",
              "      <td>1</td>\n",
              "      <td>26.6</td>\n",
              "      <td>6</td>\n",
              "      <td>6</td>\n",
              "      <td>1</td>\n",
              "      <td>1</td>\n",
              "      <td>0</td>\n",
              "      <td>0</td>\n",
              "      <td>8</td>\n",
              "      <td>90.2</td>\n",
              "      <td>147.00</td>\n",
              "    </tr>\n",
              "    <tr>\n",
              "      <th>4</th>\n",
              "      <td>000001014002450</td>\n",
              "      <td>3</td>\n",
              "      <td>67</td>\n",
              "      <td>1937</td>\n",
              "      <td>2.0</td>\n",
              "      <td>6200</td>\n",
              "      <td>4</td>\n",
              "      <td>5</td>\n",
              "      <td>3</td>\n",
              "      <td>10</td>\n",
              "      <td>53.3</td>\n",
              "      <td>7.8</td>\n",
              "      <td>6</td>\n",
              "      <td>6</td>\n",
              "      <td>1</td>\n",
              "      <td>40.0</td>\n",
              "      <td>1</td>\n",
              "      <td>23.9</td>\n",
              "      <td>5</td>\n",
              "      <td>2</td>\n",
              "      <td>1</td>\n",
              "      <td>1</td>\n",
              "      <td>0</td>\n",
              "      <td>0</td>\n",
              "      <td>9</td>\n",
              "      <td>49.9</td>\n",
              "      <td>415.74</td>\n",
              "    </tr>\n",
              "  </tbody>\n",
              "</table>\n",
              "</div>"
            ],
            "text/plain": [
              "  STRUCTURE_NUMBER_008  TOLL_020  ...  SUFFICIENCY_RATING  surface_area\n",
              "0      00000000000S702         3  ...               100.0        142.59\n",
              "1      00000000000S703         3  ...               100.0        126.42\n",
              "2      0000000000M0022         3  ...                69.5        164.70\n",
              "3      000000883039900         3  ...                90.2        147.00\n",
              "4      000001014002450         3  ...                49.9        415.74\n",
              "\n",
              "[5 rows x 27 columns]"
            ]
          },
          "metadata": {
            "tags": []
          },
          "execution_count": 20
        }
      ]
    },
    {
      "cell_type": "code",
      "metadata": {
        "id": "xHRiET75X0Vq",
        "colab_type": "code",
        "outputId": "0592021a-5602-4779-a5c6-e4826858275c",
        "colab": {
          "base_uri": "https://localhost:8080/",
          "height": 134
        }
      },
      "source": [
        "bridges99['SERVICE_ON_042A'].value_counts()"
      ],
      "execution_count": 21,
      "outputs": [
        {
          "output_type": "execute_result",
          "data": {
            "text/plain": [
              "1    550652\n",
              "5     53308\n",
              "6     10074\n",
              "7       575\n",
              "4       223\n",
              "8       170\n",
              "Name: SERVICE_ON_042A, dtype: int64"
            ]
          },
          "metadata": {
            "tags": []
          },
          "execution_count": 21
        }
      ]
    },
    {
      "cell_type": "markdown",
      "metadata": {
        "id": "XOfonqa4XM0O",
        "colab_type": "text"
      },
      "source": [
        "**DROP ADT**"
      ]
    },
    {
      "cell_type": "code",
      "metadata": {
        "id": "LW2CI3gYWj3B",
        "colab_type": "code",
        "colab": {}
      },
      "source": [
        "bridges99.drop('ADT_029',axis=1,inplace=True)"
      ],
      "execution_count": 0,
      "outputs": []
    },
    {
      "cell_type": "markdown",
      "metadata": {
        "id": "V_jqkj1Tgy13",
        "colab_type": "text"
      },
      "source": [
        "**HISTOGRAMS OF NUMERICAL FEATURES**\n",
        "\n",
        "**TO HELP WITH FEATURE ENGINEERING**"
      ]
    },
    {
      "cell_type": "code",
      "metadata": {
        "id": "J-0LxIYAK879",
        "colab_type": "code",
        "outputId": "6771d263-aea1-4cef-cd25-970046380910",
        "colab": {
          "base_uri": "https://localhost:8080/",
          "height": 657
        }
      },
      "source": [
        "plt.rcParams[\"figure.figsize\"] = [12,9]\n",
        "bridges99.hist()\n",
        "plt.tight_layout()"
      ],
      "execution_count": 23,
      "outputs": [
        {
          "output_type": "display_data",
          "data": {
            "image/png": "[encoded data removed]",
            "text/plain": [
              "<Figure size 864x648 with 16 Axes>"
            ]
          },
          "metadata": {
            "tags": []
          }
        }
      ]
    },
    {
      "cell_type": "markdown",
      "metadata": {
        "id": "WKDDC-0wbIUY",
        "colab_type": "text"
      },
      "source": [
        "**6.1 METERS IS FEDERAL MINIMUM TO BE A BRIDGE**\n",
        "\n",
        "**REMOVE BRIDGES LESS THAN 6.1 METERS MAIN SPAN**  (152,926)\n",
        "\n",
        "**About 25% of the listed bridges meet state definitions of a bridge. I am only looking at those that meet the federal definition**."
      ]
    },
    {
      "cell_type": "code",
      "metadata": {
        "id": "R6zLUkFQJtpj",
        "colab_type": "code",
        "colab": {}
      },
      "source": [
        "bridges99=bridges99[bridges99['MAX_SPAN_LEN_MT_048']>=6.1]"
      ],
      "execution_count": 0,
      "outputs": []
    },
    {
      "cell_type": "code",
      "metadata": {
        "id": "TVWMuRJ2ARcd",
        "colab_type": "code",
        "outputId": "453efc69-8061-415b-d491-940532738dc4",
        "colab": {
          "base_uri": "https://localhost:8080/",
          "height": 34
        }
      },
      "source": [
        "bridges99.shape\n"
      ],
      "execution_count": 26,
      "outputs": [
        {
          "output_type": "execute_result",
          "data": {
            "text/plain": [
              "(462076, 26)"
            ]
          },
          "metadata": {
            "tags": []
          },
          "execution_count": 26
        }
      ]
    },
    {
      "cell_type": "markdown",
      "metadata": {
        "id": "-CpTU19HoadT",
        "colab_type": "text"
      },
      "source": [
        "**REMOVE TOLL ROADS  (7,708)**\n",
        "\n",
        "**Again simplification with negligible information loss**\n",
        "\n"
      ]
    },
    {
      "cell_type": "code",
      "metadata": {
        "id": "k8ugFALEnh_H",
        "colab_type": "code",
        "outputId": "4bbeca9b-40e8-4059-8d01-4309f271bd44",
        "colab": {
          "base_uri": "https://localhost:8080/",
          "height": 34
        }
      },
      "source": [
        "bridges99=bridges99[bridges99['TOLL_020']==3]\n",
        "bridges99.shape"
      ],
      "execution_count": 27,
      "outputs": [
        {
          "output_type": "execute_result",
          "data": {
            "text/plain": [
              "(454368, 26)"
            ]
          },
          "metadata": {
            "tags": []
          },
          "execution_count": 27
        }
      ]
    },
    {
      "cell_type": "code",
      "metadata": {
        "id": "FC3CUVqCpHQp",
        "colab_type": "code",
        "outputId": "abf7d00f-cd15-4475-acd2-8513e6b80839",
        "colab": {
          "base_uri": "https://localhost:8080/",
          "height": 134
        }
      },
      "source": [
        "bridges99['SERVICE_ON_042A'].value_counts()"
      ],
      "execution_count": 28,
      "outputs": [
        {
          "output_type": "execute_result",
          "data": {
            "text/plain": [
              "1    398511\n",
              "5     45611\n",
              "6      9415\n",
              "7       518\n",
              "4       160\n",
              "8       153\n",
              "Name: SERVICE_ON_042A, dtype: int64"
            ]
          },
          "metadata": {
            "tags": []
          },
          "execution_count": 28
        }
      ]
    },
    {
      "cell_type": "markdown",
      "metadata": {
        "id": "ZKTXTVMapznT",
        "colab_type": "text"
      },
      "source": [
        "  **KEEP ONLY BRIDGES THAT ARE HIGHWAY OR HIGHWAY-PEDESTRIAN**  (10,246 dropped)\n",
        "\n",
        "  **Again, I have to limit this project so I am keeping the two designation that make up over 90% of the bridges**."
      ]
    },
    {
      "cell_type": "code",
      "metadata": {
        "id": "DTf7cny9pv94",
        "colab_type": "code",
        "colab": {}
      },
      "source": [
        "bridges99=bridges99[bridges99['SERVICE_ON_042A'].isin ([1,5])]"
      ],
      "execution_count": 0,
      "outputs": []
    },
    {
      "cell_type": "code",
      "metadata": {
        "id": "gv7MfVxVqt7O",
        "colab_type": "code",
        "outputId": "8bf061ea-3014-498e-d124-551faa4f0581",
        "colab": {
          "base_uri": "https://localhost:8080/",
          "height": 34
        }
      },
      "source": [
        "bridges99.shape"
      ],
      "execution_count": 33,
      "outputs": [
        {
          "output_type": "execute_result",
          "data": {
            "text/plain": [
              "(444122, 26)"
            ]
          },
          "metadata": {
            "tags": []
          },
          "execution_count": 33
        }
      ]
    },
    {
      "cell_type": "code",
      "metadata": {
        "id": "3NkRtr1xrUwk",
        "colab_type": "code",
        "outputId": "dae4d9ae-6ab6-415d-88cf-7b25c83b74a7",
        "colab": {
          "base_uri": "https://localhost:8080/",
          "height": 657
        }
      },
      "source": [
        "plt.rcParams[\"figure.figsize\"] = [12,9]\n",
        "bridges99.hist()\n",
        "plt.tight_layout()"
      ],
      "execution_count": 31,
      "outputs": [
        {
          "output_type": "display_data",
          "data": {
            "image/png": "[encoded data removed]",
            "text/plain": [
              "<Figure size 864x648 with 16 Axes>"
            ]
          },
          "metadata": {
            "tags": []
          }
        }
      ]
    },
    {
      "cell_type": "markdown",
      "metadata": {
        "id": "P2WrrOWIvsl_",
        "colab_type": "text"
      },
      "source": [
        "**CREATING SUBSET OF NUMERICAL FEATURES**"
      ]
    },
    {
      "cell_type": "code",
      "metadata": {
        "id": "GnbmfwJVvcJ1",
        "colab_type": "code",
        "colab": {
          "base_uri": "https://localhost:8080/",
          "height": 235
        },
        "outputId": "63fb120a-3ab2-460f-c5cb-e53ac5be7a2c"
      },
      "source": [
        "n=[col for col in list(bridges99) if bridges99[col].dtype!=object]\n",
        "n"
      ],
      "execution_count": 36,
      "outputs": [
        {
          "output_type": "execute_result",
          "data": {
            "text/plain": [
              "['TOLL_020',\n",
              " 'MAINTENANCE_021',\n",
              " 'YEAR_BUILT_027',\n",
              " 'TRAFFIC_LANES_ON_028A',\n",
              " 'SERVICE_ON_042A',\n",
              " 'STRUCTURE_KIND_043A',\n",
              " 'STRUCTURE_TYPE_043B',\n",
              " 'MAX_SPAN_LEN_MT_048',\n",
              " 'DECK_WIDTH_MT_052',\n",
              " 'OPERATING_RATING_064',\n",
              " 'INVENTORY_RATING_066',\n",
              " 'SUFFICIENCY_RATING',\n",
              " 'surface_area']"
            ]
          },
          "metadata": {
            "tags": []
          },
          "execution_count": 36
        }
      ]
    },
    {
      "cell_type": "markdown",
      "metadata": {
        "id": "huCtODDav92a",
        "colab_type": "text"
      },
      "source": [
        "**BIVARIATER ANALYSIS**"
      ]
    },
    {
      "cell_type": "code",
      "metadata": {
        "id": "inSspMTYv1wd",
        "colab_type": "code",
        "colab": {
          "base_uri": "https://localhost:8080/",
          "height": 452
        },
        "outputId": "162ea070-1851-4ba1-b58b-b473fd4e3fbc"
      },
      "source": [
        "bridges99[n].corr()"
      ],
      "execution_count": 37,
      "outputs": [
        {
          "output_type": "execute_result",
          "data": {
            "text/html": [
              "<div>\n",
              "<style scoped>\n",
              "    .dataframe tbody tr th:only-of-type {\n",
              "        vertical-align: middle;\n",
              "    }\n",
              "\n",
              "    .dataframe tbody tr th {\n",
              "        vertical-align: top;\n",
              "    }\n",
              "\n",
              "    .dataframe thead th {\n",
              "        text-align: right;\n",
              "    }\n",
              "</style>\n",
              "<table border=\"1\" class=\"dataframe\">\n",
              "  <thead>\n",
              "    <tr style=\"text-align: right;\">\n",
              "      <th></th>\n",
              "      <th>TOLL_020</th>\n",
              "      <th>MAINTENANCE_021</th>\n",
              "      <th>YEAR_BUILT_027</th>\n",
              "      <th>TRAFFIC_LANES_ON_028A</th>\n",
              "      <th>SERVICE_ON_042A</th>\n",
              "      <th>STRUCTURE_KIND_043A</th>\n",
              "      <th>STRUCTURE_TYPE_043B</th>\n",
              "      <th>MAX_SPAN_LEN_MT_048</th>\n",
              "      <th>DECK_WIDTH_MT_052</th>\n",
              "      <th>OPERATING_RATING_064</th>\n",
              "      <th>INVENTORY_RATING_066</th>\n",
              "      <th>SUFFICIENCY_RATING</th>\n",
              "      <th>surface_area</th>\n",
              "    </tr>\n",
              "  </thead>\n",
              "  <tbody>\n",
              "    <tr>\n",
              "      <th>TOLL_020</th>\n",
              "      <td>NaN</td>\n",
              "      <td>NaN</td>\n",
              "      <td>NaN</td>\n",
              "      <td>NaN</td>\n",
              "      <td>NaN</td>\n",
              "      <td>NaN</td>\n",
              "      <td>NaN</td>\n",
              "      <td>NaN</td>\n",
              "      <td>NaN</td>\n",
              "      <td>NaN</td>\n",
              "      <td>NaN</td>\n",
              "      <td>NaN</td>\n",
              "      <td>NaN</td>\n",
              "    </tr>\n",
              "    <tr>\n",
              "      <th>MAINTENANCE_021</th>\n",
              "      <td>NaN</td>\n",
              "      <td>1.000000</td>\n",
              "      <td>-0.004705</td>\n",
              "      <td>-0.096098</td>\n",
              "      <td>0.014173</td>\n",
              "      <td>0.038152</td>\n",
              "      <td>0.010383</td>\n",
              "      <td>-0.021552</td>\n",
              "      <td>-0.080555</td>\n",
              "      <td>-0.054993</td>\n",
              "      <td>-0.021450</td>\n",
              "      <td>-0.042374</td>\n",
              "      <td>-0.045276</td>\n",
              "    </tr>\n",
              "    <tr>\n",
              "      <th>YEAR_BUILT_027</th>\n",
              "      <td>NaN</td>\n",
              "      <td>-0.004705</td>\n",
              "      <td>1.000000</td>\n",
              "      <td>0.058861</td>\n",
              "      <td>-0.058628</td>\n",
              "      <td>0.251657</td>\n",
              "      <td>-0.005105</td>\n",
              "      <td>0.151512</td>\n",
              "      <td>0.093737</td>\n",
              "      <td>0.315252</td>\n",
              "      <td>0.333509</td>\n",
              "      <td>0.547612</td>\n",
              "      <td>0.127908</td>\n",
              "    </tr>\n",
              "    <tr>\n",
              "      <th>TRAFFIC_LANES_ON_028A</th>\n",
              "      <td>NaN</td>\n",
              "      <td>-0.096098</td>\n",
              "      <td>0.058861</td>\n",
              "      <td>1.000000</td>\n",
              "      <td>0.197378</td>\n",
              "      <td>0.014045</td>\n",
              "      <td>-0.003039</td>\n",
              "      <td>0.170874</td>\n",
              "      <td>0.682829</td>\n",
              "      <td>0.135072</td>\n",
              "      <td>0.119839</td>\n",
              "      <td>0.090178</td>\n",
              "      <td>0.460076</td>\n",
              "    </tr>\n",
              "    <tr>\n",
              "      <th>SERVICE_ON_042A</th>\n",
              "      <td>NaN</td>\n",
              "      <td>0.014173</td>\n",
              "      <td>-0.058628</td>\n",
              "      <td>0.197378</td>\n",
              "      <td>1.000000</td>\n",
              "      <td>0.001619</td>\n",
              "      <td>0.014328</td>\n",
              "      <td>0.098996</td>\n",
              "      <td>0.249944</td>\n",
              "      <td>0.094787</td>\n",
              "      <td>0.075496</td>\n",
              "      <td>-0.030905</td>\n",
              "      <td>0.155390</td>\n",
              "    </tr>\n",
              "    <tr>\n",
              "      <th>STRUCTURE_KIND_043A</th>\n",
              "      <td>NaN</td>\n",
              "      <td>0.038152</td>\n",
              "      <td>0.251657</td>\n",
              "      <td>0.014045</td>\n",
              "      <td>0.001619</td>\n",
              "      <td>1.000000</td>\n",
              "      <td>-0.209207</td>\n",
              "      <td>0.225813</td>\n",
              "      <td>0.056763</td>\n",
              "      <td>0.098242</td>\n",
              "      <td>0.073540</td>\n",
              "      <td>0.136315</td>\n",
              "      <td>0.146379</td>\n",
              "    </tr>\n",
              "    <tr>\n",
              "      <th>STRUCTURE_TYPE_043B</th>\n",
              "      <td>NaN</td>\n",
              "      <td>0.010383</td>\n",
              "      <td>-0.005105</td>\n",
              "      <td>-0.003039</td>\n",
              "      <td>0.014328</td>\n",
              "      <td>-0.209207</td>\n",
              "      <td>1.000000</td>\n",
              "      <td>-0.067422</td>\n",
              "      <td>-0.103842</td>\n",
              "      <td>-0.019543</td>\n",
              "      <td>0.009957</td>\n",
              "      <td>-0.019383</td>\n",
              "      <td>-0.062586</td>\n",
              "    </tr>\n",
              "    <tr>\n",
              "      <th>MAX_SPAN_LEN_MT_048</th>\n",
              "      <td>NaN</td>\n",
              "      <td>-0.021552</td>\n",
              "      <td>0.151512</td>\n",
              "      <td>0.170874</td>\n",
              "      <td>0.098996</td>\n",
              "      <td>0.225813</td>\n",
              "      <td>-0.067422</td>\n",
              "      <td>1.000000</td>\n",
              "      <td>0.230611</td>\n",
              "      <td>0.155941</td>\n",
              "      <td>0.111240</td>\n",
              "      <td>0.087012</td>\n",
              "      <td>0.732471</td>\n",
              "    </tr>\n",
              "    <tr>\n",
              "      <th>DECK_WIDTH_MT_052</th>\n",
              "      <td>NaN</td>\n",
              "      <td>-0.080555</td>\n",
              "      <td>0.093737</td>\n",
              "      <td>0.682829</td>\n",
              "      <td>0.249944</td>\n",
              "      <td>0.056763</td>\n",
              "      <td>-0.103842</td>\n",
              "      <td>0.230611</td>\n",
              "      <td>1.000000</td>\n",
              "      <td>0.192741</td>\n",
              "      <td>0.162783</td>\n",
              "      <td>0.176572</td>\n",
              "      <td>0.594568</td>\n",
              "    </tr>\n",
              "    <tr>\n",
              "      <th>OPERATING_RATING_064</th>\n",
              "      <td>NaN</td>\n",
              "      <td>-0.054993</td>\n",
              "      <td>0.315252</td>\n",
              "      <td>0.135072</td>\n",
              "      <td>0.094787</td>\n",
              "      <td>0.098242</td>\n",
              "      <td>-0.019543</td>\n",
              "      <td>0.155941</td>\n",
              "      <td>0.192741</td>\n",
              "      <td>1.000000</td>\n",
              "      <td>0.877657</td>\n",
              "      <td>0.542627</td>\n",
              "      <td>0.156264</td>\n",
              "    </tr>\n",
              "    <tr>\n",
              "      <th>INVENTORY_RATING_066</th>\n",
              "      <td>NaN</td>\n",
              "      <td>-0.021450</td>\n",
              "      <td>0.333509</td>\n",
              "      <td>0.119839</td>\n",
              "      <td>0.075496</td>\n",
              "      <td>0.073540</td>\n",
              "      <td>0.009957</td>\n",
              "      <td>0.111240</td>\n",
              "      <td>0.162783</td>\n",
              "      <td>0.877657</td>\n",
              "      <td>1.000000</td>\n",
              "      <td>0.555326</td>\n",
              "      <td>0.121245</td>\n",
              "    </tr>\n",
              "    <tr>\n",
              "      <th>SUFFICIENCY_RATING</th>\n",
              "      <td>NaN</td>\n",
              "      <td>-0.042374</td>\n",
              "      <td>0.547612</td>\n",
              "      <td>0.090178</td>\n",
              "      <td>-0.030905</td>\n",
              "      <td>0.136315</td>\n",
              "      <td>-0.019383</td>\n",
              "      <td>0.087012</td>\n",
              "      <td>0.176572</td>\n",
              "      <td>0.542627</td>\n",
              "      <td>0.555326</td>\n",
              "      <td>1.000000</td>\n",
              "      <td>0.108835</td>\n",
              "    </tr>\n",
              "    <tr>\n",
              "      <th>surface_area</th>\n",
              "      <td>NaN</td>\n",
              "      <td>-0.045276</td>\n",
              "      <td>0.127908</td>\n",
              "      <td>0.460076</td>\n",
              "      <td>0.155390</td>\n",
              "      <td>0.146379</td>\n",
              "      <td>-0.062586</td>\n",
              "      <td>0.732471</td>\n",
              "      <td>0.594568</td>\n",
              "      <td>0.156264</td>\n",
              "      <td>0.121245</td>\n",
              "      <td>0.108835</td>\n",
              "      <td>1.000000</td>\n",
              "    </tr>\n",
              "  </tbody>\n",
              "</table>\n",
              "</div>"
            ],
            "text/plain": [
              "                       TOLL_020  ...  surface_area\n",
              "TOLL_020                    NaN  ...           NaN\n",
              "MAINTENANCE_021             NaN  ...     -0.045276\n",
              "YEAR_BUILT_027              NaN  ...      0.127908\n",
              "TRAFFIC_LANES_ON_028A       NaN  ...      0.460076\n",
              "SERVICE_ON_042A             NaN  ...      0.155390\n",
              "STRUCTURE_KIND_043A         NaN  ...      0.146379\n",
              "STRUCTURE_TYPE_043B         NaN  ...     -0.062586\n",
              "MAX_SPAN_LEN_MT_048         NaN  ...      0.732471\n",
              "DECK_WIDTH_MT_052           NaN  ...      0.594568\n",
              "OPERATING_RATING_064        NaN  ...      0.156264\n",
              "INVENTORY_RATING_066        NaN  ...      0.121245\n",
              "SUFFICIENCY_RATING          NaN  ...      0.108835\n",
              "surface_area                NaN  ...      1.000000\n",
              "\n",
              "[13 rows x 13 columns]"
            ]
          },
          "metadata": {
            "tags": []
          },
          "execution_count": 37
        }
      ]
    },
    {
      "cell_type": "markdown",
      "metadata": {
        "id": "PkVGWTNcyyBO",
        "colab_type": "text"
      },
      "source": [
        "**HEATMAP**"
      ]
    },
    {
      "cell_type": "code",
      "metadata": {
        "id": "TqoeJIaswMbR",
        "colab_type": "code",
        "colab": {
          "base_uri": "https://localhost:8080/",
          "height": 732
        },
        "outputId": "5fdf6ffc-b114-4003-cae0-6cc5351e9526"
      },
      "source": [
        "plt.figure(figsize=(10,10))\n",
        "sns.heatmap(bridges99[n].corr(),annot=True,linewidth=0.5,cmap='coolwarm')"
      ],
      "execution_count": 38,
      "outputs": [
        {
          "output_type": "execute_result",
          "data": {
            "text/plain": [
              "<matplotlib.axes._subplots.AxesSubplot at 0x7f35a9e1f518>"
            ]
          },
          "metadata": {
            "tags": []
          },
          "execution_count": 38
        },
        {
          "output_type": "display_data",
          "data": {
            "image/png": "[encoded data removed]",
            "text/plain": [
              "<Figure size 720x720 with 2 Axes>"
            ]
          },
          "metadata": {
            "tags": []
          }
        }
      ]
    },
    {
      "cell_type": "markdown",
      "metadata": {
        "id": "aQ47SWnYwXB8",
        "colab_type": "text"
      },
      "source": [
        "**OVERALL NOT MUCH CORREALTION -- I WILL DROP ONE OR TWO FEATURES LIKE OPERATOR RATING**"
      ]
    },
    {
      "cell_type": "markdown",
      "metadata": {
        "id": "LTglHDymfZ2L",
        "colab_type": "text"
      },
      "source": [
        "  **CREATING SUBSET OF OBJECT FEATURES**"
      ]
    },
    {
      "cell_type": "code",
      "metadata": {
        "id": "1qLNe8n9HEsX",
        "colab_type": "code",
        "outputId": "9326478e-b8e3-42b9-ceac-94b6ee6f38d0",
        "colab": {
          "base_uri": "https://localhost:8080/",
          "height": 235
        }
      },
      "source": [
        "k=[col for col in list(bridges99) if bridges99[col].dtype==object]\n",
        "k"
      ],
      "execution_count": 34,
      "outputs": [
        {
          "output_type": "execute_result",
          "data": {
            "text/plain": [
              "['STRUCTURE_NUMBER_008',\n",
              " 'DESIGN_LOAD_031',\n",
              " 'DECK_COND_058',\n",
              " 'SUPERSTRUCTURE_COND_059',\n",
              " 'OPR_RATING_METH_063',\n",
              " 'INV_RATING_METH_065',\n",
              " 'STRUCTURAL_EVAL_067',\n",
              " 'DECK_GEOMETRY_EVAL_068',\n",
              " 'DECK_STRUCTURE_TYPE_107',\n",
              " 'SURFACE_TYPE_108A',\n",
              " 'MEMBRANE_TYPE_108B',\n",
              " 'DECK_PROTECTION_108C',\n",
              " 'SCOUR_CRITICAL_113']"
            ]
          },
          "metadata": {
            "tags": []
          },
          "execution_count": 34
        }
      ]
    },
    {
      "cell_type": "markdown",
      "metadata": {
        "id": "_levo9iqhAd4",
        "colab_type": "text"
      },
      "source": [
        "**STILL DOING EDA**"
      ]
    },
    {
      "cell_type": "code",
      "metadata": {
        "id": "P3getBsrroTm",
        "colab_type": "code",
        "outputId": "c6f1ccf6-6a99-4ccb-83c6-fe3c28843869",
        "colab": {
          "base_uri": "https://localhost:8080/",
          "height": 571
        }
      },
      "source": [
        "bridges99['TRAFFIC_LANES_ON_028A'].value_counts(dropna=False)"
      ],
      "execution_count": 0,
      "outputs": [
        {
          "output_type": "execute_result",
          "data": {
            "text/plain": [
              "2.0     350027\n",
              "1.0      36760\n",
              "4.0      23885\n",
              "3.0      16841\n",
              "5.0       6087\n",
              "6.0       5521\n",
              "8.0       1662\n",
              "7.0       1404\n",
              "10.0       688\n",
              "9.0        517\n",
              "12.0       256\n",
              "11.0       221\n",
              "13.0        90\n",
              "14.0        76\n",
              "20.0        32\n",
              "15.0        15\n",
              "16.0         9\n",
              "50.0         5\n",
              "40.0         5\n",
              "17.0         4\n",
              "NaN          3\n",
              "45.0         2\n",
              "18.0         2\n",
              "22.0         2\n",
              "21.0         1\n",
              "82.0         1\n",
              "30.0         1\n",
              "19.0         1\n",
              "60.0         1\n",
              "25.0         1\n",
              "70.0         1\n",
              "80.0         1\n",
              "Name: TRAFFIC_LANES_ON_028A, dtype: int64"
            ]
          },
          "metadata": {
            "tags": []
          },
          "execution_count": 72
        }
      ]
    },
    {
      "cell_type": "code",
      "metadata": {
        "id": "bT-r5XPJzOuu",
        "colab_type": "code",
        "outputId": "dee42c19-f468-4686-d2b3-bd683332552f",
        "colab": {
          "base_uri": "https://localhost:8080/",
          "height": 235
        }
      },
      "source": [
        "bridges99.groupby('YEAR_BUILT_027')['YEAR_BUILT_027'].count()"
      ],
      "execution_count": 0,
      "outputs": [
        {
          "output_type": "execute_result",
          "data": {
            "text/plain": [
              "YEAR_BUILT_027\n",
              "1697       1\n",
              "1764       1\n",
              "1765       1\n",
              "1789       1\n",
              "1792       2\n",
              "        ... \n",
              "2013    4372\n",
              "2014    4184\n",
              "2015    3830\n",
              "2016    2909\n",
              "2017     168\n",
              "Name: YEAR_BUILT_027, Length: 210, dtype: int64"
            ]
          },
          "metadata": {
            "tags": []
          },
          "execution_count": 80
        }
      ]
    },
    {
      "cell_type": "markdown",
      "metadata": {
        "id": "WQBlfT7uhIXQ",
        "colab_type": "text"
      },
      "source": [
        "**CHECKING NaN**"
      ]
    },
    {
      "cell_type": "code",
      "metadata": {
        "id": "hlzO23ZkJQ8f",
        "colab_type": "code",
        "outputId": "867fbba3-f134-4a4d-af66-e85bee752861",
        "colab": {
          "base_uri": "https://localhost:8080/",
          "height": 470
        }
      },
      "source": [
        "bridges99.isna().sum()"
      ],
      "execution_count": 0,
      "outputs": [
        {
          "output_type": "execute_result",
          "data": {
            "text/plain": [
              "STRUCTURE_NUMBER_008          0\n",
              "TOLL_020                      0\n",
              "MAINTENANCE_021               0\n",
              "YEAR_BUILT_027                0\n",
              "TRAFFIC_LANES_ON_028A         3\n",
              "ADT_029                       0\n",
              "DESIGN_LOAD_031               0\n",
              "SERVICE_ON_042A               0\n",
              "STRUCTURE_KIND_043A           0\n",
              "STRUCTURE_TYPE_043B           0\n",
              "MAX_SPAN_LEN_MT_048           0\n",
              "DECK_WIDTH_MT_052             0\n",
              "DECK_COND_058                 0\n",
              "SUPERSTRUCTURE_COND_059       0\n",
              "OPR_RATING_METH_063          37\n",
              "OPERATING_RATING_064       2587\n",
              "INV_RATING_METH_065          38\n",
              "INVENTORY_RATING_066       2577\n",
              "STRUCTURAL_EVAL_067           0\n",
              "DECK_GEOMETRY_EVAL_068        0\n",
              "DECK_STRUCTURE_TYPE_107       0\n",
              "SURFACE_TYPE_108A             1\n",
              "MEMBRANE_TYPE_108B            1\n",
              "DECK_PROTECTION_108C          1\n",
              "SCOUR_CRITICAL_113            0\n",
              "SUFFICIENCY_RATING            0\n",
              "dtype: int64"
            ]
          },
          "metadata": {
            "tags": []
          },
          "execution_count": 64
        }
      ]
    }
  ]
}
{
  "nbformat": 4,
  "nbformat_minor": 0,
  "metadata": {
    "colab": {
      "name": "Bridges - 6.ipynb",
      "provenance": [],
      "collapsed_sections": [],
      "include_colab_link": true
    },
    "kernelspec": {
      "name": "python3",
      "display_name": "Python 3"
    }
  },
  "cells": [
    {
      "cell_type": "markdown",
      "metadata": {
        "id": "view-in-github",
        "colab_type": "text"
      },
      "source": [
        "<a href=\"https://colab.research.google.com/github/AlexBB999/Bridges/blob/master/Bridges_6.ipynb\" target=\"_parent\"><img src=\"https://colab.research.google.com/assets/colab-badge.svg\" alt=\"Open In Colab\"/></a>"
      ]
    },
    {
      "cell_type": "markdown",
      "metadata": {
        "id": "-GrZs_CNcsCr",
        "colab_type": "text"
      },
      "source": [
        "**IMPORT EVERYTHING I MAY USE**"
      ]
    },
    {
      "cell_type": "code",
      "metadata": {
        "id": "hBzn0dCgeDW-",
        "colab_type": "code",
        "colab": {}
      },
      "source": [
        "% matplotlib inline\n",
        "import pandas as pd\n",
        "import numpy as np\n",
        "import matplotlib.pyplot as plt\n",
        "from scipy import stats\n",
        "from scipy.stats import shapiro\n",
        "import statistics\n",
        "from scipy.stats import normaltest\n",
        "from scipy.stats import anderson\n",
        "from sklearn import linear_model\n",
        "from sklearn.ensemble import RandomForestRegressor ,RandomForestClassifier\n",
        "from sklearn.tree import DecisionTreeClassifier\n",
        "from sklearn.model_selection import cross_val_score\n",
        "import statsmodels.api as sm\n",
        "from sklearn.linear_model import LogisticRegression\n",
        "import seaborn as sns\n",
        "from sklearn.model_selection import train_test_split\n",
        "from sklearn.metrics import classification_report, confusion_matrix, roc_auc_score, recall_score\n",
        "from sklearn.preprocessing import StandardScaler\n",
        "from sklearn.ensemble import GradientBoostingClassifier\n",
        "from xgboost import XGBClassifier\n",
        "from sklearn.model_selection import GridSearchCV\n",
        "from sklearn.model_selection import RandomizedSearchCV\n",
        "import warnings\n",
        "warnings.filterwarnings('ignore')"
      ],
      "execution_count": 0,
      "outputs": []
    },
    {
      "cell_type": "code",
      "metadata": {
        "id": "yPEwuhBXYxuD",
        "colab_type": "code",
        "colab": {}
      },
      "source": [
        "from google.colab import drive"
      ],
      "execution_count": 0,
      "outputs": []
    },
    {
      "cell_type": "code",
      "metadata": {
        "colab_type": "code",
        "id": "Wdjbc-TTZDUk",
        "outputId": "de23b6f4-b042-4cb7-e3a9-448bfa6af788",
        "colab": {
          "base_uri": "https://localhost:8080/",
          "height": 34
        }
      },
      "source": [
        "drive.mount('/content/drive')"
      ],
      "execution_count": 206,
      "outputs": [
        {
          "output_type": "stream",
          "text": [
            "Drive already mounted at /content/drive; to attempt to forcibly remount, call drive.mount(\"/content/drive\", force_remount=True).\n"
          ],
          "name": "stdout"
        }
      ]
    },
    {
      "cell_type": "markdown",
      "metadata": {
        "id": "BNmAkdSLmcim",
        "colab_type": "text"
      },
      "source": [
        "#**The current system for inspecting bridges is expensive, time-consuming and inefficient**\n",
        "\n",
        "The FHWA requires evaluation of all bridges however; it is costly having a\n",
        "bi­annual inspection cost of $2.7 billion for the U.S\n",
        "\n",
        "where  the  average inspection costper bridge ranges from $4,500 to $10,000.  This requires closing lanes for the span of theinspection, which can take 1 to 3 days causing traffic congestions.\n",
        "\n",
        "**https://catsr.vse.gmu.edu/SYST490/490_2014_BI/BIS_FinalReport.pdf**"
      ]
    },
    {
      "cell_type": "markdown",
      "metadata": {
        "id": "jx3F-b-im3YG",
        "colab_type": "text"
      },
      "source": [
        "**My objective in this project is adding granualrity/priortization to the process to help address at least part of the aforementioned shortcomings.** "
      ]
    },
    {
      "cell_type": "markdown",
      "metadata": {
        "id": "EddDUg3xnhWC",
        "colab_type": "text"
      },
      "source": [
        "The current system assigns a score called the \"Structural Evaluation\" to each brdge. It is a 10 point scale. A score of 4 or less marks the bridge as \"Structurally Deficient\" -- meaning the bridge needs repairs -- possibly replacement. It now has a priority when allocating limited funds for bridge maintenance. But the scoring of  0,1,2,3,4 is not as granular as need be. For example -- if two bridges have a score of 3 -- which one  do we repair first? If we allow decimals then we could have a score of 3.1 versus 3.5 so we know which is the first to get our limited funds."
      ]
    },
    {
      "cell_type": "markdown",
      "metadata": {
        "id": "y49_xRYrpX1E",
        "colab_type": "text"
      },
      "source": [
        "#**STAKEHOLDERS**\n",
        "\n",
        "The stakeholders have been clearly defined in the above quoted article:\n",
        "\n",
        "The primary stakeholders of the bridge inspection systems are the Federal\n",
        "Highway Administration (FHWA), District Department of Transportation (DDOT),\n",
        "Bridge Design Engineers, Bridge Construction Team, and the Inspection Team which are directly involved with the construction and inspection of the bridge. The secondary stakeholders are groups of people that are not directly involved with the construction andinspection but are impacted indirectly such as the traveling public or the Bridge Users.\n",
        "\n",
        "**My immediate audience (cohorts+instructor+you) are secondary stakeholders. But clearly this is of value to primary stakeholders**.\n"
      ]
    },
    {
      "cell_type": "markdown",
      "metadata": {
        "id": "yX_gnNizqfy_",
        "colab_type": "text"
      },
      "source": [
        "#**EXPLANATION FOR COULMNS DROPPED BEFORE ANY ANALYSIS**\n",
        "\n",
        "I am not creating a dashboard so any columns having to do with location/identification are **not** relevent at this time. Thus, I have dropped the following columns:\n",
        "\n",
        "State_code\n",
        "\n",
        "Record_type\n",
        "\n",
        "Route_prefix\n",
        "\n",
        "Route_number\n",
        "\n",
        "Direction\n",
        "\n",
        "Highway District\n",
        "\n",
        "County_code\n",
        "\n",
        "Place_code\n",
        "\n",
        "Features_Desc\n",
        "\n",
        "Location\n",
        "\n",
        "Kilopoint\n",
        "\n",
        "Base_Hwy_network\n",
        "\n",
        "LRS_Inv_Route\n",
        "\n",
        "Subroute\n",
        "\n",
        "Latitude\n",
        "\n",
        "Longitude\n",
        "\n",
        "Detour Kilos\n",
        "\n",
        "Cat 10\n",
        "\n",
        "Cat 23\n",
        "\n",
        "Without goiing into the same level of deatil , I have dropped all columns having to do with water/navigation and other irrelevant columns like Right_curb and Left_curb. I am not stating that this information is not useful -- I am simply simplifying this project. To factor in all 136 features and many subfeatures is not a project -- it's a full-time job."
      ]
    },
    {
      "cell_type": "code",
      "metadata": {
        "id": "kjC4QJs1h07q",
        "colab_type": "code",
        "colab": {}
      },
      "source": [
        "bridges9 = pd.read_csv('/content/drive/My Drive/2017HwyBridgesDelimitedAllStates.txt', sep=',',encoding='ISO-8859-1',low_memory=False)"
      ],
      "execution_count": 0,
      "outputs": []
    },
    {
      "cell_type": "markdown",
      "metadata": {
        "id": "f4-hIZdpjMiq",
        "colab_type": "text"
      },
      "source": [
        "**IDENTIFYING FEATURES BY COLUMN NUMBER**"
      ]
    },
    {
      "cell_type": "code",
      "metadata": {
        "id": "BFGnanTPiQCc",
        "colab_type": "code",
        "colab": {}
      },
      "source": [
        "g=list(range(1,138))"
      ],
      "execution_count": 0,
      "outputs": []
    },
    {
      "cell_type": "code",
      "metadata": {
        "id": "CzBKmXI8iZjt",
        "colab_type": "code",
        "colab": {}
      },
      "source": [
        "z=zip(g,list(bridges9))"
      ],
      "execution_count": 0,
      "outputs": []
    },
    {
      "cell_type": "code",
      "metadata": {
        "id": "XtVO5hKnifNE",
        "colab_type": "code",
        "outputId": "37e66537-585d-48f5-f355-187fac13b954",
        "colab": {
          "base_uri": "https://localhost:8080/",
          "height": 1000
        }
      },
      "source": [
        "list(z)"
      ],
      "execution_count": 210,
      "outputs": [
        {
          "output_type": "execute_result",
          "data": {
            "text/plain": [
              "[(1, 'STATE_CODE_001'),\n",
              " (2, 'STRUCTURE_NUMBER_008'),\n",
              " (3, 'RECORD_TYPE_005A'),\n",
              " (4, 'ROUTE_PREFIX_005B'),\n",
              " (5, 'SERVICE_LEVEL_005C'),\n",
              " (6, 'ROUTE_NUMBER_005D'),\n",
              " (7, 'DIRECTION_005E'),\n",
              " (8, 'HIGHWAY_DISTRICT_002'),\n",
              " (9, 'COUNTY_CODE_003'),\n",
              " (10, 'PLACE_CODE_004'),\n",
              " (11, 'FEATURES_DESC_006A'),\n",
              " (12, 'CRITICAL_FACILITY_006B'),\n",
              " (13, 'FACILITY_CARRIED_007'),\n",
              " (14, 'LOCATION_009'),\n",
              " (15, 'MIN_VERT_CLR_010'),\n",
              " (16, 'KILOPOINT_011'),\n",
              " (17, 'BASE_HWY_NETWORK_012'),\n",
              " (18, 'LRS_INV_ROUTE_013A'),\n",
              " (19, 'SUBROUTE_NO_013B'),\n",
              " (20, 'LAT_016'),\n",
              " (21, 'LONG_017'),\n",
              " (22, 'DETOUR_KILOS_019'),\n",
              " (23, 'TOLL_020'),\n",
              " (24, 'MAINTENANCE_021'),\n",
              " (25, 'OWNER_022'),\n",
              " (26, 'FUNCTIONAL_CLASS_026'),\n",
              " (27, 'YEAR_BUILT_027'),\n",
              " (28, 'TRAFFIC_LANES_ON_028A'),\n",
              " (29, 'TRAFFIC_LANES_UND_028B'),\n",
              " (30, 'ADT_029'),\n",
              " (31, 'YEAR_ADT_030'),\n",
              " (32, 'DESIGN_LOAD_031'),\n",
              " (33, 'APPR_WIDTH_MT_032'),\n",
              " (34, 'MEDIAN_CODE_033'),\n",
              " (35, 'DEGREES_SKEW_034'),\n",
              " (36, 'STRUCTURE_FLARED_035'),\n",
              " (37, 'RAILINGS_036A'),\n",
              " (38, 'TRANSITIONS_036B'),\n",
              " (39, 'APPR_RAIL_036C'),\n",
              " (40, 'APPR_RAIL_END_036D'),\n",
              " (41, 'HISTORY_037'),\n",
              " (42, 'NAVIGATION_038'),\n",
              " (43, 'NAV_VERT_CLR_MT_039'),\n",
              " (44, 'NAV_HORR_CLR_MT_040'),\n",
              " (45, 'OPEN_CLOSED_POSTED_041'),\n",
              " (46, 'SERVICE_ON_042A'),\n",
              " (47, 'SERVICE_UND_042B'),\n",
              " (48, 'STRUCTURE_KIND_043A'),\n",
              " (49, 'STRUCTURE_TYPE_043B'),\n",
              " (50, 'APPR_KIND_044A'),\n",
              " (51, 'APPR_TYPE_044B'),\n",
              " (52, 'MAIN_UNIT_SPANS_045'),\n",
              " (53, 'APPR_SPANS_046'),\n",
              " (54, 'HORR_CLR_MT_047'),\n",
              " (55, 'MAX_SPAN_LEN_MT_048'),\n",
              " (56, 'STRUCTURE_LEN_MT_049'),\n",
              " (57, 'LEFT_CURB_MT_050A'),\n",
              " (58, 'RIGHT_CURB_MT_050B'),\n",
              " (59, 'ROADWAY_WIDTH_MT_051'),\n",
              " (60, 'DECK_WIDTH_MT_052'),\n",
              " (61, 'VERT_CLR_OVER_MT_053'),\n",
              " (62, 'VERT_CLR_UND_REF_054A'),\n",
              " (63, 'VERT_CLR_UND_054B'),\n",
              " (64, 'LAT_UND_REF_055A'),\n",
              " (65, 'LAT_UND_MT_055B'),\n",
              " (66, 'LEFT_LAT_UND_MT_056'),\n",
              " (67, 'DECK_COND_058'),\n",
              " (68, 'SUPERSTRUCTURE_COND_059'),\n",
              " (69, 'SUBSTRUCTURE_COND_060'),\n",
              " (70, 'CHANNEL_COND_061'),\n",
              " (71, 'CULVERT_COND_062'),\n",
              " (72, 'OPR_RATING_METH_063'),\n",
              " (73, 'OPERATING_RATING_064'),\n",
              " (74, 'INV_RATING_METH_065'),\n",
              " (75, 'INVENTORY_RATING_066'),\n",
              " (76, 'STRUCTURAL_EVAL_067'),\n",
              " (77, 'DECK_GEOMETRY_EVAL_068'),\n",
              " (78, 'UNDCLRENCE_EVAL_069'),\n",
              " (79, 'POSTING_EVAL_070'),\n",
              " (80, 'WATERWAY_EVAL_071'),\n",
              " (81, 'APPR_ROAD_EVAL_072'),\n",
              " (82, 'WORK_PROPOSED_075A'),\n",
              " (83, 'WORK_DONE_BY_075B'),\n",
              " (84, 'IMP_LEN_MT_076'),\n",
              " (85, 'DATE_OF_INSPECT_090'),\n",
              " (86, 'INSPECT_FREQ_MONTHS_091'),\n",
              " (87, 'FRACTURE_092A'),\n",
              " (88, 'UNDWATER_LOOK_SEE_092B'),\n",
              " (89, 'SPEC_INSPECT_092C'),\n",
              " (90, 'FRACTURE_LAST_DATE_093A'),\n",
              " (91, 'UNDWATER_LAST_DATE_093B'),\n",
              " (92, 'SPEC_LAST_DATE_093C'),\n",
              " (93, 'BRIDGE_IMP_COST_094'),\n",
              " (94, 'ROADWAY_IMP_COST_095'),\n",
              " (95, 'TOTAL_IMP_COST_096'),\n",
              " (96, 'YEAR_OF_IMP_097'),\n",
              " (97, 'OTHER_STATE_CODE_098A'),\n",
              " (98, 'OTHER_STATE_PCNT_098B'),\n",
              " (99, 'OTHR_STATE_STRUC_NO_099'),\n",
              " (100, 'STRAHNET_HIGHWAY_100'),\n",
              " (101, 'PARALLEL_STRUCTURE_101'),\n",
              " (102, 'TRAFFIC_DIRECTION_102'),\n",
              " (103, 'TEMP_STRUCTURE_103'),\n",
              " (104, 'HIGHWAY_SYSTEM_104'),\n",
              " (105, 'FEDERAL_LANDS_105'),\n",
              " (106, 'YEAR_RECONSTRUCTED_106'),\n",
              " (107, 'DECK_STRUCTURE_TYPE_107'),\n",
              " (108, 'SURFACE_TYPE_108A'),\n",
              " (109, 'MEMBRANE_TYPE_108B'),\n",
              " (110, 'DECK_PROTECTION_108C'),\n",
              " (111, 'PERCENT_ADT_TRUCK_109'),\n",
              " (112, 'NATIONAL_NETWORK_110'),\n",
              " (113, 'PIER_PROTECTION_111'),\n",
              " (114, 'BRIDGE_LEN_IND_112'),\n",
              " (115, 'SCOUR_CRITICAL_113'),\n",
              " (116, 'FUTURE_ADT_114'),\n",
              " (117, 'YEAR_OF_FUTURE_ADT_115'),\n",
              " (118, 'MIN_NAV_CLR_MT_116'),\n",
              " (119, 'FED_AGENCY'),\n",
              " (120, 'DATE_LAST_UPDATE'),\n",
              " (121, 'TYPE_LAST_UPDATE'),\n",
              " (122, 'DEDUCT_CODE'),\n",
              " (123, 'REMARKS'),\n",
              " (124, 'PROGRAM_CODE'),\n",
              " (125, 'PROJ_NO'),\n",
              " (126, 'PROJ_SUFFIX'),\n",
              " (127, 'NBI_TYPE_OF_IMP'),\n",
              " (128, 'DTL_TYPE_OF_IMP'),\n",
              " (129, 'SPECIAL_CODE'),\n",
              " (130, 'STEP_CODE'),\n",
              " (131, 'STATUS_WITH_10YR_RULE'),\n",
              " (132, 'SUFFICIENCY_ASTERC'),\n",
              " (133, 'SUFFICIENCY_RATING'),\n",
              " (134, 'STATUS_NO_10YR_RULE'),\n",
              " (135, 'CAT10'),\n",
              " (136, 'CAT23'),\n",
              " (137, 'CAT29')]"
            ]
          },
          "metadata": {
            "tags": []
          },
          "execution_count": 210
        }
      ]
    },
    {
      "cell_type": "markdown",
      "metadata": {
        "id": "wnKtl2gOKCKD",
        "colab_type": "text"
      },
      "source": [
        "**I HAVE ALREADY DONE SOME FEATURE SELECTION, AS NOTED ABOVE,  SO I AM NOT USING ALL 136 FEATURES**"
      ]
    },
    {
      "cell_type": "code",
      "metadata": {
        "colab_type": "code",
        "id": "bniB3AumxiMD",
        "colab": {}
      },
      "source": [
        "bridges99=bridges9.iloc[:,[4,22,23,26,27,31,45,47,54,59,66,67,68,72,74,75,76,106,107,108,109,132]]"
      ],
      "execution_count": 0,
      "outputs": []
    },
    {
      "cell_type": "code",
      "metadata": {
        "id": "xoRhE0BOAODI",
        "colab_type": "code",
        "outputId": "a1f7d754-1209-4d07-ab1d-2ab8f5cf6c45",
        "colab": {
          "base_uri": "https://localhost:8080/",
          "height": 215
        }
      },
      "source": [
        "bridges99.head()"
      ],
      "execution_count": 260,
      "outputs": [
        {
          "output_type": "execute_result",
          "data": {
            "text/html": [
              "<div>\n",
              "<style scoped>\n",
              "    .dataframe tbody tr th:only-of-type {\n",
              "        vertical-align: middle;\n",
              "    }\n",
              "\n",
              "    .dataframe tbody tr th {\n",
              "        vertical-align: top;\n",
              "    }\n",
              "\n",
              "    .dataframe thead th {\n",
              "        text-align: right;\n",
              "    }\n",
              "</style>\n",
              "<table border=\"1\" class=\"dataframe\">\n",
              "  <thead>\n",
              "    <tr style=\"text-align: right;\">\n",
              "      <th></th>\n",
              "      <th>SERVICE_LEVEL_005C</th>\n",
              "      <th>TOLL_020</th>\n",
              "      <th>MAINTENANCE_021</th>\n",
              "      <th>YEAR_BUILT_027</th>\n",
              "      <th>TRAFFIC_LANES_ON_028A</th>\n",
              "      <th>DESIGN_LOAD_031</th>\n",
              "      <th>SERVICE_ON_042A</th>\n",
              "      <th>STRUCTURE_KIND_043A</th>\n",
              "      <th>MAX_SPAN_LEN_MT_048</th>\n",
              "      <th>DECK_WIDTH_MT_052</th>\n",
              "      <th>DECK_COND_058</th>\n",
              "      <th>SUPERSTRUCTURE_COND_059</th>\n",
              "      <th>SUBSTRUCTURE_COND_060</th>\n",
              "      <th>OPERATING_RATING_064</th>\n",
              "      <th>INVENTORY_RATING_066</th>\n",
              "      <th>STRUCTURAL_EVAL_067</th>\n",
              "      <th>DECK_GEOMETRY_EVAL_068</th>\n",
              "      <th>DECK_STRUCTURE_TYPE_107</th>\n",
              "      <th>SURFACE_TYPE_108A</th>\n",
              "      <th>MEMBRANE_TYPE_108B</th>\n",
              "      <th>DECK_PROTECTION_108C</th>\n",
              "      <th>SUFFICIENCY_RATING</th>\n",
              "    </tr>\n",
              "  </thead>\n",
              "  <tbody>\n",
              "    <tr>\n",
              "      <th>0</th>\n",
              "      <td>1.0</td>\n",
              "      <td>3</td>\n",
              "      <td>62</td>\n",
              "      <td>1999</td>\n",
              "      <td>2.0</td>\n",
              "      <td>5</td>\n",
              "      <td>1</td>\n",
              "      <td>5</td>\n",
              "      <td>14.7</td>\n",
              "      <td>9.7</td>\n",
              "      <td>8</td>\n",
              "      <td>8</td>\n",
              "      <td>7</td>\n",
              "      <td>44.2</td>\n",
              "      <td>32.4</td>\n",
              "      <td>7</td>\n",
              "      <td>7</td>\n",
              "      <td>2</td>\n",
              "      <td>6</td>\n",
              "      <td>0</td>\n",
              "      <td>1</td>\n",
              "      <td>100.0</td>\n",
              "    </tr>\n",
              "    <tr>\n",
              "      <th>1</th>\n",
              "      <td>1.0</td>\n",
              "      <td>3</td>\n",
              "      <td>62</td>\n",
              "      <td>2002</td>\n",
              "      <td>2.0</td>\n",
              "      <td>5</td>\n",
              "      <td>1</td>\n",
              "      <td>5</td>\n",
              "      <td>12.9</td>\n",
              "      <td>9.8</td>\n",
              "      <td>8</td>\n",
              "      <td>8</td>\n",
              "      <td>7</td>\n",
              "      <td>84.2</td>\n",
              "      <td>34.6</td>\n",
              "      <td>7</td>\n",
              "      <td>6</td>\n",
              "      <td>2</td>\n",
              "      <td>6</td>\n",
              "      <td>0</td>\n",
              "      <td>8</td>\n",
              "      <td>100.0</td>\n",
              "    </tr>\n",
              "    <tr>\n",
              "      <th>2</th>\n",
              "      <td>1.0</td>\n",
              "      <td>3</td>\n",
              "      <td>74</td>\n",
              "      <td>1942</td>\n",
              "      <td>2.0</td>\n",
              "      <td>4</td>\n",
              "      <td>1</td>\n",
              "      <td>1</td>\n",
              "      <td>18.3</td>\n",
              "      <td>9.0</td>\n",
              "      <td>5</td>\n",
              "      <td>5</td>\n",
              "      <td>6</td>\n",
              "      <td>51.7</td>\n",
              "      <td>37.2</td>\n",
              "      <td>5</td>\n",
              "      <td>4</td>\n",
              "      <td>1</td>\n",
              "      <td>1</td>\n",
              "      <td>0</td>\n",
              "      <td>0</td>\n",
              "      <td>69.5</td>\n",
              "    </tr>\n",
              "    <tr>\n",
              "      <th>3</th>\n",
              "      <td>1.0</td>\n",
              "      <td>3</td>\n",
              "      <td>67</td>\n",
              "      <td>1974</td>\n",
              "      <td>2.0</td>\n",
              "      <td>5</td>\n",
              "      <td>1</td>\n",
              "      <td>5</td>\n",
              "      <td>14.0</td>\n",
              "      <td>10.5</td>\n",
              "      <td>7</td>\n",
              "      <td>7</td>\n",
              "      <td>7</td>\n",
              "      <td>44.2</td>\n",
              "      <td>26.6</td>\n",
              "      <td>6</td>\n",
              "      <td>6</td>\n",
              "      <td>1</td>\n",
              "      <td>1</td>\n",
              "      <td>0</td>\n",
              "      <td>0</td>\n",
              "      <td>90.2</td>\n",
              "    </tr>\n",
              "    <tr>\n",
              "      <th>4</th>\n",
              "      <td>1.0</td>\n",
              "      <td>3</td>\n",
              "      <td>67</td>\n",
              "      <td>1937</td>\n",
              "      <td>2.0</td>\n",
              "      <td>4</td>\n",
              "      <td>5</td>\n",
              "      <td>3</td>\n",
              "      <td>53.3</td>\n",
              "      <td>7.8</td>\n",
              "      <td>6</td>\n",
              "      <td>6</td>\n",
              "      <td>7</td>\n",
              "      <td>40.0</td>\n",
              "      <td>23.9</td>\n",
              "      <td>5</td>\n",
              "      <td>2</td>\n",
              "      <td>1</td>\n",
              "      <td>1</td>\n",
              "      <td>0</td>\n",
              "      <td>0</td>\n",
              "      <td>49.9</td>\n",
              "    </tr>\n",
              "  </tbody>\n",
              "</table>\n",
              "</div>"
            ],
            "text/plain": [
              "   SERVICE_LEVEL_005C  TOLL_020  ...  DECK_PROTECTION_108C  SUFFICIENCY_RATING\n",
              "0                 1.0         3  ...                     1               100.0\n",
              "1                 1.0         3  ...                     8               100.0\n",
              "2                 1.0         3  ...                     0                69.5\n",
              "3                 1.0         3  ...                     0                90.2\n",
              "4                 1.0         3  ...                     0                49.9\n",
              "\n",
              "[5 rows x 22 columns]"
            ]
          },
          "metadata": {
            "tags": []
          },
          "execution_count": 260
        }
      ]
    },
    {
      "cell_type": "code",
      "metadata": {
        "id": "DHbT4q7LyyCI",
        "colab_type": "code",
        "outputId": "0892f111-bf6b-443b-d442-adfe5544f7c6",
        "colab": {
          "base_uri": "https://localhost:8080/",
          "height": 34
        }
      },
      "source": [
        "bridges99.shape"
      ],
      "execution_count": 261,
      "outputs": [
        {
          "output_type": "execute_result",
          "data": {
            "text/plain": [
              "(615002, 22)"
            ]
          },
          "metadata": {
            "tags": []
          },
          "execution_count": 261
        }
      ]
    },
    {
      "cell_type": "markdown",
      "metadata": {
        "id": "xKzGDOYbbC4p",
        "colab_type": "text"
      },
      "source": [
        "**I AM ONLY  LOOKING AT BRIDGES BUILT AFTER 1899** "
      ]
    },
    {
      "cell_type": "code",
      "metadata": {
        "id": "NcFxNPB7x9R8",
        "colab_type": "code",
        "colab": {}
      },
      "source": [
        "bridges99=bridges99[bridges99['YEAR_BUILT_027']>1899]"
      ],
      "execution_count": 0,
      "outputs": []
    },
    {
      "cell_type": "markdown",
      "metadata": {
        "id": "rwW6JR1LbP4o",
        "colab_type": "text"
      },
      "source": [
        "**BINNING YEAR_BUILT BY DECADE**"
      ]
    },
    {
      "cell_type": "code",
      "metadata": {
        "id": "QqT_oNSYzcun",
        "colab_type": "code",
        "colab": {}
      },
      "source": [
        "bridges99['binned']=pd.cut(bridges99['YEAR_BUILT_027'],bins=[1889,1899,1909,1919,1929,1939,1949,1959,1969,1979,1989,1999,2009,2019], labels=False)"
      ],
      "execution_count": 0,
      "outputs": []
    },
    {
      "cell_type": "code",
      "metadata": {
        "id": "Vdos6FwRy-wd",
        "colab_type": "code",
        "outputId": "7a1c8d30-1a48-42a6-e9f0-82df4252bef9",
        "colab": {
          "base_uri": "https://localhost:8080/",
          "height": 34
        }
      },
      "source": [
        "bridges99.shape"
      ],
      "execution_count": 264,
      "outputs": [
        {
          "output_type": "execute_result",
          "data": {
            "text/plain": [
              "(613231, 23)"
            ]
          },
          "metadata": {
            "tags": []
          },
          "execution_count": 264
        }
      ]
    },
    {
      "cell_type": "code",
      "metadata": {
        "id": "wtWrMcRYbtHq",
        "colab_type": "code",
        "outputId": "a19a5c70-c21f-4e94-c8ee-6937897039e9",
        "colab": {
          "base_uri": "https://localhost:8080/",
          "height": 215
        }
      },
      "source": [
        "bridges99.head()"
      ],
      "execution_count": 265,
      "outputs": [
        {
          "output_type": "execute_result",
          "data": {
            "text/html": [
              "<div>\n",
              "<style scoped>\n",
              "    .dataframe tbody tr th:only-of-type {\n",
              "        vertical-align: middle;\n",
              "    }\n",
              "\n",
              "    .dataframe tbody tr th {\n",
              "        vertical-align: top;\n",
              "    }\n",
              "\n",
              "    .dataframe thead th {\n",
              "        text-align: right;\n",
              "    }\n",
              "</style>\n",
              "<table border=\"1\" class=\"dataframe\">\n",
              "  <thead>\n",
              "    <tr style=\"text-align: right;\">\n",
              "      <th></th>\n",
              "      <th>SERVICE_LEVEL_005C</th>\n",
              "      <th>TOLL_020</th>\n",
              "      <th>MAINTENANCE_021</th>\n",
              "      <th>YEAR_BUILT_027</th>\n",
              "      <th>TRAFFIC_LANES_ON_028A</th>\n",
              "      <th>DESIGN_LOAD_031</th>\n",
              "      <th>SERVICE_ON_042A</th>\n",
              "      <th>STRUCTURE_KIND_043A</th>\n",
              "      <th>MAX_SPAN_LEN_MT_048</th>\n",
              "      <th>DECK_WIDTH_MT_052</th>\n",
              "      <th>DECK_COND_058</th>\n",
              "      <th>SUPERSTRUCTURE_COND_059</th>\n",
              "      <th>SUBSTRUCTURE_COND_060</th>\n",
              "      <th>OPERATING_RATING_064</th>\n",
              "      <th>INVENTORY_RATING_066</th>\n",
              "      <th>STRUCTURAL_EVAL_067</th>\n",
              "      <th>DECK_GEOMETRY_EVAL_068</th>\n",
              "      <th>DECK_STRUCTURE_TYPE_107</th>\n",
              "      <th>SURFACE_TYPE_108A</th>\n",
              "      <th>MEMBRANE_TYPE_108B</th>\n",
              "      <th>DECK_PROTECTION_108C</th>\n",
              "      <th>SUFFICIENCY_RATING</th>\n",
              "      <th>binned</th>\n",
              "    </tr>\n",
              "  </thead>\n",
              "  <tbody>\n",
              "    <tr>\n",
              "      <th>0</th>\n",
              "      <td>1.0</td>\n",
              "      <td>3</td>\n",
              "      <td>62</td>\n",
              "      <td>1999</td>\n",
              "      <td>2.0</td>\n",
              "      <td>5</td>\n",
              "      <td>1</td>\n",
              "      <td>5</td>\n",
              "      <td>14.7</td>\n",
              "      <td>9.7</td>\n",
              "      <td>8</td>\n",
              "      <td>8</td>\n",
              "      <td>7</td>\n",
              "      <td>44.2</td>\n",
              "      <td>32.4</td>\n",
              "      <td>7</td>\n",
              "      <td>7</td>\n",
              "      <td>2</td>\n",
              "      <td>6</td>\n",
              "      <td>0</td>\n",
              "      <td>1</td>\n",
              "      <td>100.0</td>\n",
              "      <td>10</td>\n",
              "    </tr>\n",
              "    <tr>\n",
              "      <th>1</th>\n",
              "      <td>1.0</td>\n",
              "      <td>3</td>\n",
              "      <td>62</td>\n",
              "      <td>2002</td>\n",
              "      <td>2.0</td>\n",
              "      <td>5</td>\n",
              "      <td>1</td>\n",
              "      <td>5</td>\n",
              "      <td>12.9</td>\n",
              "      <td>9.8</td>\n",
              "      <td>8</td>\n",
              "      <td>8</td>\n",
              "      <td>7</td>\n",
              "      <td>84.2</td>\n",
              "      <td>34.6</td>\n",
              "      <td>7</td>\n",
              "      <td>6</td>\n",
              "      <td>2</td>\n",
              "      <td>6</td>\n",
              "      <td>0</td>\n",
              "      <td>8</td>\n",
              "      <td>100.0</td>\n",
              "      <td>11</td>\n",
              "    </tr>\n",
              "    <tr>\n",
              "      <th>2</th>\n",
              "      <td>1.0</td>\n",
              "      <td>3</td>\n",
              "      <td>74</td>\n",
              "      <td>1942</td>\n",
              "      <td>2.0</td>\n",
              "      <td>4</td>\n",
              "      <td>1</td>\n",
              "      <td>1</td>\n",
              "      <td>18.3</td>\n",
              "      <td>9.0</td>\n",
              "      <td>5</td>\n",
              "      <td>5</td>\n",
              "      <td>6</td>\n",
              "      <td>51.7</td>\n",
              "      <td>37.2</td>\n",
              "      <td>5</td>\n",
              "      <td>4</td>\n",
              "      <td>1</td>\n",
              "      <td>1</td>\n",
              "      <td>0</td>\n",
              "      <td>0</td>\n",
              "      <td>69.5</td>\n",
              "      <td>5</td>\n",
              "    </tr>\n",
              "    <tr>\n",
              "      <th>3</th>\n",
              "      <td>1.0</td>\n",
              "      <td>3</td>\n",
              "      <td>67</td>\n",
              "      <td>1974</td>\n",
              "      <td>2.0</td>\n",
              "      <td>5</td>\n",
              "      <td>1</td>\n",
              "      <td>5</td>\n",
              "      <td>14.0</td>\n",
              "      <td>10.5</td>\n",
              "      <td>7</td>\n",
              "      <td>7</td>\n",
              "      <td>7</td>\n",
              "      <td>44.2</td>\n",
              "      <td>26.6</td>\n",
              "      <td>6</td>\n",
              "      <td>6</td>\n",
              "      <td>1</td>\n",
              "      <td>1</td>\n",
              "      <td>0</td>\n",
              "      <td>0</td>\n",
              "      <td>90.2</td>\n",
              "      <td>8</td>\n",
              "    </tr>\n",
              "    <tr>\n",
              "      <th>4</th>\n",
              "      <td>1.0</td>\n",
              "      <td>3</td>\n",
              "      <td>67</td>\n",
              "      <td>1937</td>\n",
              "      <td>2.0</td>\n",
              "      <td>4</td>\n",
              "      <td>5</td>\n",
              "      <td>3</td>\n",
              "      <td>53.3</td>\n",
              "      <td>7.8</td>\n",
              "      <td>6</td>\n",
              "      <td>6</td>\n",
              "      <td>7</td>\n",
              "      <td>40.0</td>\n",
              "      <td>23.9</td>\n",
              "      <td>5</td>\n",
              "      <td>2</td>\n",
              "      <td>1</td>\n",
              "      <td>1</td>\n",
              "      <td>0</td>\n",
              "      <td>0</td>\n",
              "      <td>49.9</td>\n",
              "      <td>4</td>\n",
              "    </tr>\n",
              "  </tbody>\n",
              "</table>\n",
              "</div>"
            ],
            "text/plain": [
              "   SERVICE_LEVEL_005C  TOLL_020  ...  SUFFICIENCY_RATING  binned\n",
              "0                 1.0         3  ...               100.0      10\n",
              "1                 1.0         3  ...               100.0      11\n",
              "2                 1.0         3  ...                69.5       5\n",
              "3                 1.0         3  ...                90.2       8\n",
              "4                 1.0         3  ...                49.9       4\n",
              "\n",
              "[5 rows x 23 columns]"
            ]
          },
          "metadata": {
            "tags": []
          },
          "execution_count": 265
        }
      ]
    },
    {
      "cell_type": "markdown",
      "metadata": {
        "id": "mFAA33RJeVv8",
        "colab_type": "text"
      },
      "source": [
        "**GET AN OVERVIEW OF OUR DATA**"
      ]
    },
    {
      "cell_type": "code",
      "metadata": {
        "id": "sUtqBS9teNUX",
        "colab_type": "code",
        "outputId": "af072025-2ad6-4a89-c53b-5379b02ced11",
        "colab": {
          "base_uri": "https://localhost:8080/",
          "height": 487
        }
      },
      "source": [
        "bridges99.info()"
      ],
      "execution_count": 217,
      "outputs": [
        {
          "output_type": "stream",
          "text": [
            "<class 'pandas.core.frame.DataFrame'>\n",
            "RangeIndex: 615002 entries, 0 to 615001\n",
            "Data columns (total 23 columns):\n",
            "SERVICE_LEVEL_005C         614999 non-null float64\n",
            "TOLL_020                   615002 non-null int64\n",
            "MAINTENANCE_021            615002 non-null int64\n",
            "YEAR_BUILT_027             615002 non-null int64\n",
            "TRAFFIC_LANES_ON_028A      614998 non-null float64\n",
            "DESIGN_LOAD_031            615002 non-null object\n",
            "SERVICE_ON_042A            615002 non-null int64\n",
            "STRUCTURE_KIND_043A        615002 non-null int64\n",
            "MAX_SPAN_LEN_MT_048        615002 non-null float64\n",
            "DECK_WIDTH_MT_052          614998 non-null float64\n",
            "DECK_COND_058              615002 non-null object\n",
            "SUPERSTRUCTURE_COND_059    615002 non-null object\n",
            "SUBSTRUCTURE_COND_060      615002 non-null object\n",
            "OPERATING_RATING_064       611057 non-null float64\n",
            "INVENTORY_RATING_066       611093 non-null float64\n",
            "STRUCTURAL_EVAL_067        615002 non-null object\n",
            "DECK_GEOMETRY_EVAL_068     615002 non-null object\n",
            "DECK_STRUCTURE_TYPE_107    615002 non-null object\n",
            "SURFACE_TYPE_108A          615001 non-null object\n",
            "MEMBRANE_TYPE_108B         615000 non-null object\n",
            "DECK_PROTECTION_108C       615001 non-null object\n",
            "SUFFICIENCY_RATING         615002 non-null float64\n",
            "binned                     613903 non-null float64\n",
            "dtypes: float64(8), int64(5), object(10)\n",
            "memory usage: 107.9+ MB\n"
          ],
          "name": "stdout"
        }
      ]
    },
    {
      "cell_type": "markdown",
      "metadata": {
        "id": "tI8bldZyn-Zr",
        "colab_type": "text"
      },
      "source": [
        "**CHECK FOR NAN**"
      ]
    },
    {
      "cell_type": "code",
      "metadata": {
        "id": "ZjEZv8-EnzRl",
        "colab_type": "code",
        "outputId": "86fe9286-d56e-430f-8cea-fc0751d46fe4",
        "colab": {
          "base_uri": "https://localhost:8080/",
          "height": 420
        }
      },
      "source": [
        "bridges99.isna().sum()"
      ],
      "execution_count": 266,
      "outputs": [
        {
          "output_type": "execute_result",
          "data": {
            "text/plain": [
              "SERVICE_LEVEL_005C            3\n",
              "TOLL_020                      0\n",
              "MAINTENANCE_021               0\n",
              "YEAR_BUILT_027                0\n",
              "TRAFFIC_LANES_ON_028A         4\n",
              "DESIGN_LOAD_031               0\n",
              "SERVICE_ON_042A               0\n",
              "STRUCTURE_KIND_043A           0\n",
              "MAX_SPAN_LEN_MT_048           0\n",
              "DECK_WIDTH_MT_052             4\n",
              "DECK_COND_058                 0\n",
              "SUPERSTRUCTURE_COND_059       0\n",
              "SUBSTRUCTURE_COND_060         0\n",
              "OPERATING_RATING_064       3945\n",
              "INVENTORY_RATING_066       3909\n",
              "STRUCTURAL_EVAL_067           0\n",
              "DECK_GEOMETRY_EVAL_068        0\n",
              "DECK_STRUCTURE_TYPE_107       0\n",
              "SURFACE_TYPE_108A             1\n",
              "MEMBRANE_TYPE_108B            2\n",
              "DECK_PROTECTION_108C          1\n",
              "SUFFICIENCY_RATING            0\n",
              "binned                        0\n",
              "dtype: int64"
            ]
          },
          "metadata": {
            "tags": []
          },
          "execution_count": 266
        }
      ]
    },
    {
      "cell_type": "markdown",
      "metadata": {
        "id": "-sZtu7HazYmY",
        "colab_type": "text"
      },
      "source": [
        "**DROP NANs -- LESS THAN .6% OF DATA**"
      ]
    },
    {
      "cell_type": "code",
      "metadata": {
        "id": "uU5IQopbXB00",
        "colab_type": "code",
        "colab": {}
      },
      "source": [
        "bridges99.dropna(how='any',inplace=True,axis=0)"
      ],
      "execution_count": 0,
      "outputs": []
    },
    {
      "cell_type": "code",
      "metadata": {
        "id": "VeedaPE_o3h_",
        "colab_type": "code",
        "outputId": "0322c9e6-9b55-40a5-c113-c3cee80f085b",
        "colab": {
          "base_uri": "https://localhost:8080/",
          "height": 487
        }
      },
      "source": [
        "bridges99.info()"
      ],
      "execution_count": 268,
      "outputs": [
        {
          "output_type": "stream",
          "text": [
            "<class 'pandas.core.frame.DataFrame'>\n",
            "Int64Index: 609268 entries, 0 to 615001\n",
            "Data columns (total 23 columns):\n",
            "SERVICE_LEVEL_005C         609268 non-null float64\n",
            "TOLL_020                   609268 non-null int64\n",
            "MAINTENANCE_021            609268 non-null int64\n",
            "YEAR_BUILT_027             609268 non-null int64\n",
            "TRAFFIC_LANES_ON_028A      609268 non-null float64\n",
            "DESIGN_LOAD_031            609268 non-null object\n",
            "SERVICE_ON_042A            609268 non-null int64\n",
            "STRUCTURE_KIND_043A        609268 non-null int64\n",
            "MAX_SPAN_LEN_MT_048        609268 non-null float64\n",
            "DECK_WIDTH_MT_052          609268 non-null float64\n",
            "DECK_COND_058              609268 non-null object\n",
            "SUPERSTRUCTURE_COND_059    609268 non-null object\n",
            "SUBSTRUCTURE_COND_060      609268 non-null object\n",
            "OPERATING_RATING_064       609268 non-null float64\n",
            "INVENTORY_RATING_066       609268 non-null float64\n",
            "STRUCTURAL_EVAL_067        609268 non-null object\n",
            "DECK_GEOMETRY_EVAL_068     609268 non-null object\n",
            "DECK_STRUCTURE_TYPE_107    609268 non-null object\n",
            "SURFACE_TYPE_108A          609268 non-null object\n",
            "MEMBRANE_TYPE_108B         609268 non-null object\n",
            "DECK_PROTECTION_108C       609268 non-null object\n",
            "SUFFICIENCY_RATING         609268 non-null float64\n",
            "binned                     609268 non-null int64\n",
            "dtypes: float64(7), int64(6), object(10)\n",
            "memory usage: 111.6+ MB\n"
          ],
          "name": "stdout"
        }
      ]
    },
    {
      "cell_type": "code",
      "metadata": {
        "id": "GmN8aZv6oZq4",
        "colab_type": "code",
        "outputId": "1ed99458-27cb-4b78-9bf1-c112cc733ad6",
        "colab": {
          "base_uri": "https://localhost:8080/",
          "height": 185
        }
      },
      "source": [
        "bridges99['STRUCTURAL_EVAL_067'].value_counts(dropna=False)"
      ],
      "execution_count": 269,
      "outputs": [
        {
          "output_type": "execute_result",
          "data": {
            "text/plain": [
              "7    176652\n",
              "6    172155\n",
              "5    105774\n",
              "8     72211\n",
              "4     44175\n",
              "2     14959\n",
              "3     10399\n",
              "9      9815\n",
              "0      3128\n",
              "Name: STRUCTURAL_EVAL_067, dtype: int64"
            ]
          },
          "metadata": {
            "tags": []
          },
          "execution_count": 269
        }
      ]
    },
    {
      "cell_type": "markdown",
      "metadata": {
        "id": "UaMv415Ajegq",
        "colab_type": "text"
      },
      "source": [
        "**THE TARGET IS STRUCTURAL_EVALUATION**\n",
        "\n",
        "**THIS IS HOW NBI DETERMINES IF BRIDGE IS \"STRUCTURALLY DEFICIENT\"**"
      ]
    },
    {
      "cell_type": "markdown",
      "metadata": {
        "id": "EQqNiSFzBu3n",
        "colab_type": "text"
      },
      "source": [
        "**CREATE NEW FEATURE - MAIN SPAN SURFACE AREA  =MAX_SPAN_LEN_MT_048 X DECK_WIDTH_MT_052**\n",
        "\n",
        "**THE TOTAL SURFACE AREA OF THE MAIN SPAN HAS BEEN USED IN SOME STUDIES**"
      ]
    },
    {
      "cell_type": "code",
      "metadata": {
        "id": "3TT70qkmCIc6",
        "colab_type": "code",
        "colab": {}
      },
      "source": [
        "bridges99['surface_area']=bridges99['MAX_SPAN_LEN_MT_048']*bridges99['DECK_WIDTH_MT_052']"
      ],
      "execution_count": 0,
      "outputs": []
    },
    {
      "cell_type": "code",
      "metadata": {
        "id": "lsx9ETe7Cgal",
        "colab_type": "code",
        "outputId": "4132591f-19f7-465f-f2de-e833cc001f40",
        "colab": {
          "base_uri": "https://localhost:8080/",
          "height": 215
        }
      },
      "source": [
        "bridges99.head()"
      ],
      "execution_count": 271,
      "outputs": [
        {
          "output_type": "execute_result",
          "data": {
            "text/html": [
              "<div>\n",
              "<style scoped>\n",
              "    .dataframe tbody tr th:only-of-type {\n",
              "        vertical-align: middle;\n",
              "    }\n",
              "\n",
              "    .dataframe tbody tr th {\n",
              "        vertical-align: top;\n",
              "    }\n",
              "\n",
              "    .dataframe thead th {\n",
              "        text-align: right;\n",
              "    }\n",
              "</style>\n",
              "<table border=\"1\" class=\"dataframe\">\n",
              "  <thead>\n",
              "    <tr style=\"text-align: right;\">\n",
              "      <th></th>\n",
              "      <th>SERVICE_LEVEL_005C</th>\n",
              "      <th>TOLL_020</th>\n",
              "      <th>MAINTENANCE_021</th>\n",
              "      <th>YEAR_BUILT_027</th>\n",
              "      <th>TRAFFIC_LANES_ON_028A</th>\n",
              "      <th>DESIGN_LOAD_031</th>\n",
              "      <th>SERVICE_ON_042A</th>\n",
              "      <th>STRUCTURE_KIND_043A</th>\n",
              "      <th>MAX_SPAN_LEN_MT_048</th>\n",
              "      <th>DECK_WIDTH_MT_052</th>\n",
              "      <th>DECK_COND_058</th>\n",
              "      <th>SUPERSTRUCTURE_COND_059</th>\n",
              "      <th>SUBSTRUCTURE_COND_060</th>\n",
              "      <th>OPERATING_RATING_064</th>\n",
              "      <th>INVENTORY_RATING_066</th>\n",
              "      <th>STRUCTURAL_EVAL_067</th>\n",
              "      <th>DECK_GEOMETRY_EVAL_068</th>\n",
              "      <th>DECK_STRUCTURE_TYPE_107</th>\n",
              "      <th>SURFACE_TYPE_108A</th>\n",
              "      <th>MEMBRANE_TYPE_108B</th>\n",
              "      <th>DECK_PROTECTION_108C</th>\n",
              "      <th>SUFFICIENCY_RATING</th>\n",
              "      <th>binned</th>\n",
              "      <th>surface_area</th>\n",
              "    </tr>\n",
              "  </thead>\n",
              "  <tbody>\n",
              "    <tr>\n",
              "      <th>0</th>\n",
              "      <td>1.0</td>\n",
              "      <td>3</td>\n",
              "      <td>62</td>\n",
              "      <td>1999</td>\n",
              "      <td>2.0</td>\n",
              "      <td>5</td>\n",
              "      <td>1</td>\n",
              "      <td>5</td>\n",
              "      <td>14.7</td>\n",
              "      <td>9.7</td>\n",
              "      <td>8</td>\n",
              "      <td>8</td>\n",
              "      <td>7</td>\n",
              "      <td>44.2</td>\n",
              "      <td>32.4</td>\n",
              "      <td>7</td>\n",
              "      <td>7</td>\n",
              "      <td>2</td>\n",
              "      <td>6</td>\n",
              "      <td>0</td>\n",
              "      <td>1</td>\n",
              "      <td>100.0</td>\n",
              "      <td>10</td>\n",
              "      <td>142.59</td>\n",
              "    </tr>\n",
              "    <tr>\n",
              "      <th>1</th>\n",
              "      <td>1.0</td>\n",
              "      <td>3</td>\n",
              "      <td>62</td>\n",
              "      <td>2002</td>\n",
              "      <td>2.0</td>\n",
              "      <td>5</td>\n",
              "      <td>1</td>\n",
              "      <td>5</td>\n",
              "      <td>12.9</td>\n",
              "      <td>9.8</td>\n",
              "      <td>8</td>\n",
              "      <td>8</td>\n",
              "      <td>7</td>\n",
              "      <td>84.2</td>\n",
              "      <td>34.6</td>\n",
              "      <td>7</td>\n",
              "      <td>6</td>\n",
              "      <td>2</td>\n",
              "      <td>6</td>\n",
              "      <td>0</td>\n",
              "      <td>8</td>\n",
              "      <td>100.0</td>\n",
              "      <td>11</td>\n",
              "      <td>126.42</td>\n",
              "    </tr>\n",
              "    <tr>\n",
              "      <th>2</th>\n",
              "      <td>1.0</td>\n",
              "      <td>3</td>\n",
              "      <td>74</td>\n",
              "      <td>1942</td>\n",
              "      <td>2.0</td>\n",
              "      <td>4</td>\n",
              "      <td>1</td>\n",
              "      <td>1</td>\n",
              "      <td>18.3</td>\n",
              "      <td>9.0</td>\n",
              "      <td>5</td>\n",
              "      <td>5</td>\n",
              "      <td>6</td>\n",
              "      <td>51.7</td>\n",
              "      <td>37.2</td>\n",
              "      <td>5</td>\n",
              "      <td>4</td>\n",
              "      <td>1</td>\n",
              "      <td>1</td>\n",
              "      <td>0</td>\n",
              "      <td>0</td>\n",
              "      <td>69.5</td>\n",
              "      <td>5</td>\n",
              "      <td>164.70</td>\n",
              "    </tr>\n",
              "    <tr>\n",
              "      <th>3</th>\n",
              "      <td>1.0</td>\n",
              "      <td>3</td>\n",
              "      <td>67</td>\n",
              "      <td>1974</td>\n",
              "      <td>2.0</td>\n",
              "      <td>5</td>\n",
              "      <td>1</td>\n",
              "      <td>5</td>\n",
              "      <td>14.0</td>\n",
              "      <td>10.5</td>\n",
              "      <td>7</td>\n",
              "      <td>7</td>\n",
              "      <td>7</td>\n",
              "      <td>44.2</td>\n",
              "      <td>26.6</td>\n",
              "      <td>6</td>\n",
              "      <td>6</td>\n",
              "      <td>1</td>\n",
              "      <td>1</td>\n",
              "      <td>0</td>\n",
              "      <td>0</td>\n",
              "      <td>90.2</td>\n",
              "      <td>8</td>\n",
              "      <td>147.00</td>\n",
              "    </tr>\n",
              "    <tr>\n",
              "      <th>4</th>\n",
              "      <td>1.0</td>\n",
              "      <td>3</td>\n",
              "      <td>67</td>\n",
              "      <td>1937</td>\n",
              "      <td>2.0</td>\n",
              "      <td>4</td>\n",
              "      <td>5</td>\n",
              "      <td>3</td>\n",
              "      <td>53.3</td>\n",
              "      <td>7.8</td>\n",
              "      <td>6</td>\n",
              "      <td>6</td>\n",
              "      <td>7</td>\n",
              "      <td>40.0</td>\n",
              "      <td>23.9</td>\n",
              "      <td>5</td>\n",
              "      <td>2</td>\n",
              "      <td>1</td>\n",
              "      <td>1</td>\n",
              "      <td>0</td>\n",
              "      <td>0</td>\n",
              "      <td>49.9</td>\n",
              "      <td>4</td>\n",
              "      <td>415.74</td>\n",
              "    </tr>\n",
              "  </tbody>\n",
              "</table>\n",
              "</div>"
            ],
            "text/plain": [
              "   SERVICE_LEVEL_005C  TOLL_020  ...  binned  surface_area\n",
              "0                 1.0         3  ...      10        142.59\n",
              "1                 1.0         3  ...      11        126.42\n",
              "2                 1.0         3  ...       5        164.70\n",
              "3                 1.0         3  ...       8        147.00\n",
              "4                 1.0         3  ...       4        415.74\n",
              "\n",
              "[5 rows x 24 columns]"
            ]
          },
          "metadata": {
            "tags": []
          },
          "execution_count": 271
        }
      ]
    },
    {
      "cell_type": "code",
      "metadata": {
        "id": "CrF8pcXm0CTq",
        "colab_type": "code",
        "outputId": "bdc33151-670b-49da-e5de-13b7dca9cc00",
        "colab": {
          "base_uri": "https://localhost:8080/",
          "height": 218
        }
      },
      "source": [
        "bridges99['SURFACE_TYPE_108A'].value_counts()"
      ],
      "execution_count": 272,
      "outputs": [
        {
          "output_type": "execute_result",
          "data": {
            "text/plain": [
              "6    180393\n",
              "1    172669\n",
              "N     96347\n",
              "0     62675\n",
              "8     26023\n",
              "2     17351\n",
              "7     14052\n",
              "3     13350\n",
              "9     10613\n",
              "4      9246\n",
              "5      6549\n",
              "Name: SURFACE_TYPE_108A, dtype: int64"
            ]
          },
          "metadata": {
            "tags": []
          },
          "execution_count": 272
        }
      ]
    },
    {
      "cell_type": "markdown",
      "metadata": {
        "id": "YYGVdKMHtwwv",
        "colab_type": "text"
      },
      "source": [
        "Type of Service On Bridge\n",
        "\n",
        "Code            Description\n",
        "\n",
        "1                  Highway\n",
        "\n",
        "2                  Railroad\n",
        "\n",
        "3                  Pedestrian-bicycle\n",
        "\n",
        "4                  Highway-railroad\n",
        "\n",
        "5                  Highway-pedestrian\n",
        "\n",
        "6                  Overpass structure at an interchange or second level of a multilevel interchange\n",
        "\n",
        "7                  Third level (Interchange)\n",
        "\n",
        "8                  Fourth level (Interchange)\n",
        "\n",
        "9                  Building of plaza\n",
        "\n",
        "\n",
        "0                  Other\n",
        "\n",
        "99                 Miscoded data"
      ]
    },
    {
      "cell_type": "markdown",
      "metadata": {
        "id": "lS8ouamnHyeL",
        "colab_type": "text"
      },
      "source": [
        "**KEEP ONLY BRIDGES THAT ARE HIGHWAY OR HIGHWAY-PEDESTRIAN (10,246 dropped)**\n",
        "\n",
        "**Again, I have to limit this project so I am keeping the two designation that make up over 90% of the bridges**."
      ]
    },
    {
      "cell_type": "code",
      "metadata": {
        "id": "xHRiET75X0Vq",
        "colab_type": "code",
        "outputId": "400513ff-e68f-49b2-dbeb-6938473fa2b0",
        "colab": {
          "base_uri": "https://localhost:8080/",
          "height": 134
        }
      },
      "source": [
        "bridges9['SERVICE_ON_042A'].value_counts(dropna=False)"
      ],
      "execution_count": 273,
      "outputs": [
        {
          "output_type": "execute_result",
          "data": {
            "text/plain": [
              "1    550652\n",
              "5     53308\n",
              "6     10074\n",
              "7       575\n",
              "4       223\n",
              "8       170\n",
              "Name: SERVICE_ON_042A, dtype: int64"
            ]
          },
          "metadata": {
            "tags": []
          },
          "execution_count": 273
        }
      ]
    },
    {
      "cell_type": "code",
      "metadata": {
        "id": "wPIUcF520yKX",
        "colab_type": "code",
        "colab": {}
      },
      "source": [
        "bridges99=bridges99[(bridges99['SERVICE_ON_042A']==1) | (bridges99['SERVICE_ON_042A']==5) ]"
      ],
      "execution_count": 0,
      "outputs": []
    },
    {
      "cell_type": "code",
      "metadata": {
        "id": "u7TBj293vEFq",
        "colab_type": "code",
        "outputId": "f7ed4ddd-2d30-439c-c179-62e9a2d6b514",
        "colab": {
          "base_uri": "https://localhost:8080/",
          "height": 67
        }
      },
      "source": [
        "bridges99['SERVICE_ON_042A'].value_counts()"
      ],
      "execution_count": 275,
      "outputs": [
        {
          "output_type": "execute_result",
          "data": {
            "text/plain": [
              "1    545605\n",
              "5     52638\n",
              "Name: SERVICE_ON_042A, dtype: int64"
            ]
          },
          "metadata": {
            "tags": []
          },
          "execution_count": 275
        }
      ]
    },
    {
      "cell_type": "code",
      "metadata": {
        "id": "M6MF_YgeCDlS",
        "colab_type": "code",
        "outputId": "b2b0ac96-5d59-4062-9bca-a22e03f504f0",
        "colab": {
          "base_uri": "https://localhost:8080/",
          "height": 34
        }
      },
      "source": [
        "bridges99.shape"
      ],
      "execution_count": 276,
      "outputs": [
        {
          "output_type": "execute_result",
          "data": {
            "text/plain": [
              "(598243, 24)"
            ]
          },
          "metadata": {
            "tags": []
          },
          "execution_count": 276
        }
      ]
    },
    {
      "cell_type": "markdown",
      "metadata": {
        "id": "4aqCWEi8ls_m",
        "colab_type": "text"
      },
      "source": [
        "**CONVERT STRUCTURAL_EVALUATION TO NUMERIC**"
      ]
    },
    {
      "cell_type": "code",
      "metadata": {
        "id": "f94vkKzLmwr5",
        "colab_type": "code",
        "outputId": "03ddd0ea-3842-4b66-d2de-fa14ecd98400",
        "colab": {
          "base_uri": "https://localhost:8080/",
          "height": 34
        }
      },
      "source": [
        "bridges99['STRUCTURAL_EVAL_067']=bridges99['STRUCTURAL_EVAL_067'].str.strip('()')\n",
        "type(bridges99['STRUCTURAL_EVAL_067'][0])"
      ],
      "execution_count": 277,
      "outputs": [
        {
          "output_type": "execute_result",
          "data": {
            "text/plain": [
              "str"
            ]
          },
          "metadata": {
            "tags": []
          },
          "execution_count": 277
        }
      ]
    },
    {
      "cell_type": "code",
      "metadata": {
        "id": "h_Z1LLU0dbSY",
        "colab_type": "code",
        "colab": {}
      },
      "source": [
        "bridges99['STRUCTURAL_EVAL_067']=bridges99['STRUCTURAL_EVAL_067'].astype(int)"
      ],
      "execution_count": 0,
      "outputs": []
    },
    {
      "cell_type": "code",
      "metadata": {
        "id": "Ims3uA3Qav3k",
        "colab_type": "code",
        "colab": {}
      },
      "source": [
        "#bridges99.info()"
      ],
      "execution_count": 0,
      "outputs": []
    },
    {
      "cell_type": "markdown",
      "metadata": {
        "id": "V_jqkj1Tgy13",
        "colab_type": "text"
      },
      "source": [
        "**HISTOGRAMS OF NUMERICAL FEATURES**\n",
        "\n",
        "**TO HELP WITH FEATURE ENGINEERING**"
      ]
    },
    {
      "cell_type": "code",
      "metadata": {
        "id": "J-0LxIYAK879",
        "colab_type": "code",
        "outputId": "d9bcbc96-eb12-4b5c-aa7c-006deea9eef4",
        "colab": {
          "base_uri": "https://localhost:8080/",
          "height": 657
        }
      },
      "source": [
        "plt.rcParams[\"figure.figsize\"] = [12,9]\n",
        "bridges99.hist()\n",
        "plt.tight_layout()"
      ],
      "execution_count": 279,
      "outputs": [
        {
          "output_type": "display_data",
          "data": {
            "image/png": "[encoded data removed]",
            "text/plain": [
              "<Figure size 864x648 with 16 Axes>"
            ]
          },
          "metadata": {
            "tags": []
          }
        }
      ]
    },
    {
      "cell_type": "code",
      "metadata": {
        "id": "MEg0t5KbFJEf",
        "colab_type": "code",
        "outputId": "c0b6db01-e933-4966-fa5f-b31c2f85ab45",
        "colab": {
          "base_uri": "https://localhost:8080/",
          "height": 126
        }
      },
      "source": [
        "bridges99.head(2)"
      ],
      "execution_count": 280,
      "outputs": [
        {
          "output_type": "execute_result",
          "data": {
            "text/html": [
              "<div>\n",
              "<style scoped>\n",
              "    .dataframe tbody tr th:only-of-type {\n",
              "        vertical-align: middle;\n",
              "    }\n",
              "\n",
              "    .dataframe tbody tr th {\n",
              "        vertical-align: top;\n",
              "    }\n",
              "\n",
              "    .dataframe thead th {\n",
              "        text-align: right;\n",
              "    }\n",
              "</style>\n",
              "<table border=\"1\" class=\"dataframe\">\n",
              "  <thead>\n",
              "    <tr style=\"text-align: right;\">\n",
              "      <th></th>\n",
              "      <th>SERVICE_LEVEL_005C</th>\n",
              "      <th>TOLL_020</th>\n",
              "      <th>MAINTENANCE_021</th>\n",
              "      <th>YEAR_BUILT_027</th>\n",
              "      <th>TRAFFIC_LANES_ON_028A</th>\n",
              "      <th>DESIGN_LOAD_031</th>\n",
              "      <th>SERVICE_ON_042A</th>\n",
              "      <th>STRUCTURE_KIND_043A</th>\n",
              "      <th>MAX_SPAN_LEN_MT_048</th>\n",
              "      <th>DECK_WIDTH_MT_052</th>\n",
              "      <th>DECK_COND_058</th>\n",
              "      <th>SUPERSTRUCTURE_COND_059</th>\n",
              "      <th>SUBSTRUCTURE_COND_060</th>\n",
              "      <th>OPERATING_RATING_064</th>\n",
              "      <th>INVENTORY_RATING_066</th>\n",
              "      <th>STRUCTURAL_EVAL_067</th>\n",
              "      <th>DECK_GEOMETRY_EVAL_068</th>\n",
              "      <th>DECK_STRUCTURE_TYPE_107</th>\n",
              "      <th>SURFACE_TYPE_108A</th>\n",
              "      <th>MEMBRANE_TYPE_108B</th>\n",
              "      <th>DECK_PROTECTION_108C</th>\n",
              "      <th>SUFFICIENCY_RATING</th>\n",
              "      <th>binned</th>\n",
              "      <th>surface_area</th>\n",
              "    </tr>\n",
              "  </thead>\n",
              "  <tbody>\n",
              "    <tr>\n",
              "      <th>0</th>\n",
              "      <td>1.0</td>\n",
              "      <td>3</td>\n",
              "      <td>62</td>\n",
              "      <td>1999</td>\n",
              "      <td>2.0</td>\n",
              "      <td>5</td>\n",
              "      <td>1</td>\n",
              "      <td>5</td>\n",
              "      <td>14.7</td>\n",
              "      <td>9.7</td>\n",
              "      <td>8</td>\n",
              "      <td>8</td>\n",
              "      <td>7</td>\n",
              "      <td>44.2</td>\n",
              "      <td>32.4</td>\n",
              "      <td>7</td>\n",
              "      <td>7</td>\n",
              "      <td>2</td>\n",
              "      <td>6</td>\n",
              "      <td>0</td>\n",
              "      <td>1</td>\n",
              "      <td>100.0</td>\n",
              "      <td>10</td>\n",
              "      <td>142.59</td>\n",
              "    </tr>\n",
              "    <tr>\n",
              "      <th>1</th>\n",
              "      <td>1.0</td>\n",
              "      <td>3</td>\n",
              "      <td>62</td>\n",
              "      <td>2002</td>\n",
              "      <td>2.0</td>\n",
              "      <td>5</td>\n",
              "      <td>1</td>\n",
              "      <td>5</td>\n",
              "      <td>12.9</td>\n",
              "      <td>9.8</td>\n",
              "      <td>8</td>\n",
              "      <td>8</td>\n",
              "      <td>7</td>\n",
              "      <td>84.2</td>\n",
              "      <td>34.6</td>\n",
              "      <td>7</td>\n",
              "      <td>6</td>\n",
              "      <td>2</td>\n",
              "      <td>6</td>\n",
              "      <td>0</td>\n",
              "      <td>8</td>\n",
              "      <td>100.0</td>\n",
              "      <td>11</td>\n",
              "      <td>126.42</td>\n",
              "    </tr>\n",
              "  </tbody>\n",
              "</table>\n",
              "</div>"
            ],
            "text/plain": [
              "   SERVICE_LEVEL_005C  TOLL_020  ...  binned  surface_area\n",
              "0                 1.0         3  ...      10        142.59\n",
              "1                 1.0         3  ...      11        126.42\n",
              "\n",
              "[2 rows x 24 columns]"
            ]
          },
          "metadata": {
            "tags": []
          },
          "execution_count": 280
        }
      ]
    },
    {
      "cell_type": "markdown",
      "metadata": {
        "id": "9j5KKzqfGYZT",
        "colab_type": "text"
      },
      "source": [
        "**NOW THAT ALL TOLL VALUES ARE IDENTICAL  -- TOLL  CONTRIBUTES NOTHING TO MODEL SO DROP** "
      ]
    },
    {
      "cell_type": "code",
      "metadata": {
        "id": "LeIQzvgdGpUS",
        "colab_type": "code",
        "colab": {}
      },
      "source": [
        "bridges99.drop('TOLL_020',axis=1,inplace=True)"
      ],
      "execution_count": 0,
      "outputs": []
    },
    {
      "cell_type": "code",
      "metadata": {
        "id": "Ow6i3DdJG6lB",
        "colab_type": "code",
        "outputId": "b8d1fc67-3a9f-4bd9-ceda-1288a758b67f",
        "colab": {
          "base_uri": "https://localhost:8080/",
          "height": 215
        }
      },
      "source": [
        "bridges99.head()"
      ],
      "execution_count": 282,
      "outputs": [
        {
          "output_type": "execute_result",
          "data": {
            "text/html": [
              "<div>\n",
              "<style scoped>\n",
              "    .dataframe tbody tr th:only-of-type {\n",
              "        vertical-align: middle;\n",
              "    }\n",
              "\n",
              "    .dataframe tbody tr th {\n",
              "        vertical-align: top;\n",
              "    }\n",
              "\n",
              "    .dataframe thead th {\n",
              "        text-align: right;\n",
              "    }\n",
              "</style>\n",
              "<table border=\"1\" class=\"dataframe\">\n",
              "  <thead>\n",
              "    <tr style=\"text-align: right;\">\n",
              "      <th></th>\n",
              "      <th>SERVICE_LEVEL_005C</th>\n",
              "      <th>MAINTENANCE_021</th>\n",
              "      <th>YEAR_BUILT_027</th>\n",
              "      <th>TRAFFIC_LANES_ON_028A</th>\n",
              "      <th>DESIGN_LOAD_031</th>\n",
              "      <th>SERVICE_ON_042A</th>\n",
              "      <th>STRUCTURE_KIND_043A</th>\n",
              "      <th>MAX_SPAN_LEN_MT_048</th>\n",
              "      <th>DECK_WIDTH_MT_052</th>\n",
              "      <th>DECK_COND_058</th>\n",
              "      <th>SUPERSTRUCTURE_COND_059</th>\n",
              "      <th>SUBSTRUCTURE_COND_060</th>\n",
              "      <th>OPERATING_RATING_064</th>\n",
              "      <th>INVENTORY_RATING_066</th>\n",
              "      <th>STRUCTURAL_EVAL_067</th>\n",
              "      <th>DECK_GEOMETRY_EVAL_068</th>\n",
              "      <th>DECK_STRUCTURE_TYPE_107</th>\n",
              "      <th>SURFACE_TYPE_108A</th>\n",
              "      <th>MEMBRANE_TYPE_108B</th>\n",
              "      <th>DECK_PROTECTION_108C</th>\n",
              "      <th>SUFFICIENCY_RATING</th>\n",
              "      <th>binned</th>\n",
              "      <th>surface_area</th>\n",
              "    </tr>\n",
              "  </thead>\n",
              "  <tbody>\n",
              "    <tr>\n",
              "      <th>0</th>\n",
              "      <td>1.0</td>\n",
              "      <td>62</td>\n",
              "      <td>1999</td>\n",
              "      <td>2.0</td>\n",
              "      <td>5</td>\n",
              "      <td>1</td>\n",
              "      <td>5</td>\n",
              "      <td>14.7</td>\n",
              "      <td>9.7</td>\n",
              "      <td>8</td>\n",
              "      <td>8</td>\n",
              "      <td>7</td>\n",
              "      <td>44.2</td>\n",
              "      <td>32.4</td>\n",
              "      <td>7</td>\n",
              "      <td>7</td>\n",
              "      <td>2</td>\n",
              "      <td>6</td>\n",
              "      <td>0</td>\n",
              "      <td>1</td>\n",
              "      <td>100.0</td>\n",
              "      <td>10</td>\n",
              "      <td>142.59</td>\n",
              "    </tr>\n",
              "    <tr>\n",
              "      <th>1</th>\n",
              "      <td>1.0</td>\n",
              "      <td>62</td>\n",
              "      <td>2002</td>\n",
              "      <td>2.0</td>\n",
              "      <td>5</td>\n",
              "      <td>1</td>\n",
              "      <td>5</td>\n",
              "      <td>12.9</td>\n",
              "      <td>9.8</td>\n",
              "      <td>8</td>\n",
              "      <td>8</td>\n",
              "      <td>7</td>\n",
              "      <td>84.2</td>\n",
              "      <td>34.6</td>\n",
              "      <td>7</td>\n",
              "      <td>6</td>\n",
              "      <td>2</td>\n",
              "      <td>6</td>\n",
              "      <td>0</td>\n",
              "      <td>8</td>\n",
              "      <td>100.0</td>\n",
              "      <td>11</td>\n",
              "      <td>126.42</td>\n",
              "    </tr>\n",
              "    <tr>\n",
              "      <th>2</th>\n",
              "      <td>1.0</td>\n",
              "      <td>74</td>\n",
              "      <td>1942</td>\n",
              "      <td>2.0</td>\n",
              "      <td>4</td>\n",
              "      <td>1</td>\n",
              "      <td>1</td>\n",
              "      <td>18.3</td>\n",
              "      <td>9.0</td>\n",
              "      <td>5</td>\n",
              "      <td>5</td>\n",
              "      <td>6</td>\n",
              "      <td>51.7</td>\n",
              "      <td>37.2</td>\n",
              "      <td>5</td>\n",
              "      <td>4</td>\n",
              "      <td>1</td>\n",
              "      <td>1</td>\n",
              "      <td>0</td>\n",
              "      <td>0</td>\n",
              "      <td>69.5</td>\n",
              "      <td>5</td>\n",
              "      <td>164.70</td>\n",
              "    </tr>\n",
              "    <tr>\n",
              "      <th>3</th>\n",
              "      <td>1.0</td>\n",
              "      <td>67</td>\n",
              "      <td>1974</td>\n",
              "      <td>2.0</td>\n",
              "      <td>5</td>\n",
              "      <td>1</td>\n",
              "      <td>5</td>\n",
              "      <td>14.0</td>\n",
              "      <td>10.5</td>\n",
              "      <td>7</td>\n",
              "      <td>7</td>\n",
              "      <td>7</td>\n",
              "      <td>44.2</td>\n",
              "      <td>26.6</td>\n",
              "      <td>6</td>\n",
              "      <td>6</td>\n",
              "      <td>1</td>\n",
              "      <td>1</td>\n",
              "      <td>0</td>\n",
              "      <td>0</td>\n",
              "      <td>90.2</td>\n",
              "      <td>8</td>\n",
              "      <td>147.00</td>\n",
              "    </tr>\n",
              "    <tr>\n",
              "      <th>4</th>\n",
              "      <td>1.0</td>\n",
              "      <td>67</td>\n",
              "      <td>1937</td>\n",
              "      <td>2.0</td>\n",
              "      <td>4</td>\n",
              "      <td>5</td>\n",
              "      <td>3</td>\n",
              "      <td>53.3</td>\n",
              "      <td>7.8</td>\n",
              "      <td>6</td>\n",
              "      <td>6</td>\n",
              "      <td>7</td>\n",
              "      <td>40.0</td>\n",
              "      <td>23.9</td>\n",
              "      <td>5</td>\n",
              "      <td>2</td>\n",
              "      <td>1</td>\n",
              "      <td>1</td>\n",
              "      <td>0</td>\n",
              "      <td>0</td>\n",
              "      <td>49.9</td>\n",
              "      <td>4</td>\n",
              "      <td>415.74</td>\n",
              "    </tr>\n",
              "  </tbody>\n",
              "</table>\n",
              "</div>"
            ],
            "text/plain": [
              "   SERVICE_LEVEL_005C  MAINTENANCE_021  ...  binned  surface_area\n",
              "0                 1.0               62  ...      10        142.59\n",
              "1                 1.0               62  ...      11        126.42\n",
              "2                 1.0               74  ...       5        164.70\n",
              "3                 1.0               67  ...       8        147.00\n",
              "4                 1.0               67  ...       4        415.74\n",
              "\n",
              "[5 rows x 23 columns]"
            ]
          },
          "metadata": {
            "tags": []
          },
          "execution_count": 282
        }
      ]
    },
    {
      "cell_type": "markdown",
      "metadata": {
        "id": "WKDDC-0wbIUY",
        "colab_type": "text"
      },
      "source": [
        "**6.1 METERS IS FEDERAL MINIMUM TO BE A BRIDGE**\n",
        "\n",
        "**REMOVE BRIDGES LESS THAN 6.1 METERS MAIN SPAN**  (152,926)\n",
        "\n",
        "**About 25% of the listed bridges meet state definitions of a bridge. I am only looking at those that meet the federal definition**."
      ]
    },
    {
      "cell_type": "code",
      "metadata": {
        "id": "R6zLUkFQJtpj",
        "colab_type": "code",
        "colab": {}
      },
      "source": [
        "bridges99=bridges99[bridges99['MAX_SPAN_LEN_MT_048']>=6.1]"
      ],
      "execution_count": 0,
      "outputs": []
    },
    {
      "cell_type": "code",
      "metadata": {
        "id": "TVWMuRJ2ARcd",
        "colab_type": "code",
        "outputId": "2d6aea32-cfb2-4de5-e498-f0f8fbd58b3e",
        "colab": {
          "base_uri": "https://localhost:8080/",
          "height": 34
        }
      },
      "source": [
        "bridges99.shape"
      ],
      "execution_count": 284,
      "outputs": [
        {
          "output_type": "execute_result",
          "data": {
            "text/plain": [
              "(446852, 23)"
            ]
          },
          "metadata": {
            "tags": []
          },
          "execution_count": 284
        }
      ]
    },
    {
      "cell_type": "code",
      "metadata": {
        "id": "3NkRtr1xrUwk",
        "colab_type": "code",
        "outputId": "5c0613a0-f6d2-4d77-abf3-d0cd010b7b0a",
        "colab": {
          "base_uri": "https://localhost:8080/",
          "height": 657
        }
      },
      "source": [
        "plt.rcParams[\"figure.figsize\"] = [12,9]\n",
        "bridges99.hist()\n",
        "plt.tight_layout()"
      ],
      "execution_count": 285,
      "outputs": [
        {
          "output_type": "display_data",
          "data": {
            "image/png": "[encoded data removed]",
            "text/plain": [
              "<Figure size 864x648 with 16 Axes>"
            ]
          },
          "metadata": {
            "tags": []
          }
        }
      ]
    },
    {
      "cell_type": "code",
      "metadata": {
        "id": "CudZGVvdUNSN",
        "colab_type": "code",
        "outputId": "36c1be46-1b4c-4d97-af02-4c7ddb4d6e47",
        "colab": {
          "base_uri": "https://localhost:8080/",
          "height": 34
        }
      },
      "source": [
        "bridges99.shape"
      ],
      "execution_count": 0,
      "outputs": [
        {
          "output_type": "execute_result",
          "data": {
            "text/plain": [
              "(446852, 23)"
            ]
          },
          "metadata": {
            "tags": []
          },
          "execution_count": 90
        }
      ]
    },
    {
      "cell_type": "markdown",
      "metadata": {
        "id": "VLAHCTloUZW6",
        "colab_type": "text"
      },
      "source": [
        "**SOME CRAZY NUMBERS IN LANE COUNT LIKE 80 LANES --  TYPOS?**\n",
        "\n",
        "**WILL KEEP TOP 4 SUBCATEGORIES -- 1,2,3,4 lanes -- THEY MAKE UP OVER 95% OF VALUES**"
      ]
    },
    {
      "cell_type": "code",
      "metadata": {
        "id": "9CUU25XhT45q",
        "colab_type": "code",
        "outputId": "8388a5fe-ca13-4eb6-b698-c2c29d38fdef",
        "colab": {
          "base_uri": "https://localhost:8080/",
          "height": 554
        }
      },
      "source": [
        "bridges99['TRAFFIC_LANES_ON_028A'].value_counts()"
      ],
      "execution_count": 239,
      "outputs": [
        {
          "output_type": "execute_result",
          "data": {
            "text/plain": [
              "2.0     352009\n",
              "1.0      34853\n",
              "4.0      25152\n",
              "3.0      17954\n",
              "5.0       6310\n",
              "6.0       5994\n",
              "8.0       1740\n",
              "7.0       1475\n",
              "10.0       712\n",
              "9.0        537\n",
              "12.0       267\n",
              "11.0       231\n",
              "13.0        92\n",
              "14.0        79\n",
              "20.0        31\n",
              "15.0        15\n",
              "16.0        10\n",
              "40.0         5\n",
              "50.0         5\n",
              "17.0         4\n",
              "45.0         2\n",
              "18.0         2\n",
              "19.0         1\n",
              "70.0         1\n",
              "80.0         1\n",
              "82.0         1\n",
              "21.0         1\n",
              "30.0         1\n",
              "25.0         1\n",
              "22.0         1\n",
              "60.0         1\n",
              "Name: TRAFFIC_LANES_ON_028A, dtype: int64"
            ]
          },
          "metadata": {
            "tags": []
          },
          "execution_count": 239
        }
      ]
    },
    {
      "cell_type": "code",
      "metadata": {
        "id": "kcXoZPj2YQWp",
        "colab_type": "code",
        "colab": {}
      },
      "source": [
        "bridges99=bridges99[(bridges99['TRAFFIC_LANES_ON_028A']==1) | (bridges99['TRAFFIC_LANES_ON_028A']==2) |(bridges99['TRAFFIC_LANES_ON_028A']==3)| (bridges99['TRAFFIC_LANES_ON_028A']==4)]"
      ],
      "execution_count": 0,
      "outputs": []
    },
    {
      "cell_type": "code",
      "metadata": {
        "id": "8NXQlYgQYtCg",
        "colab_type": "code",
        "outputId": "61df97d4-bba0-40c8-cc2b-a7de2858ecf6",
        "colab": {
          "base_uri": "https://localhost:8080/",
          "height": 101
        }
      },
      "source": [
        "bridges99['TRAFFIC_LANES_ON_028A'].value_counts()"
      ],
      "execution_count": 287,
      "outputs": [
        {
          "output_type": "execute_result",
          "data": {
            "text/plain": [
              "2.0    351711\n",
              "1.0     34567\n",
              "4.0     25124\n",
              "3.0     17939\n",
              "Name: TRAFFIC_LANES_ON_028A, dtype: int64"
            ]
          },
          "metadata": {
            "tags": []
          },
          "execution_count": 287
        }
      ]
    },
    {
      "cell_type": "code",
      "metadata": {
        "id": "MRAnpllFjfQh",
        "colab_type": "code",
        "outputId": "66c7d7ae-9e55-48c7-bd63-4ccc3a79eb1c",
        "colab": {
          "base_uri": "https://localhost:8080/",
          "height": 34
        }
      },
      "source": [
        "bridges99.shape"
      ],
      "execution_count": 288,
      "outputs": [
        {
          "output_type": "execute_result",
          "data": {
            "text/plain": [
              "(429341, 23)"
            ]
          },
          "metadata": {
            "tags": []
          },
          "execution_count": 288
        }
      ]
    },
    {
      "cell_type": "markdown",
      "metadata": {
        "id": "P2WrrOWIvsl_",
        "colab_type": "text"
      },
      "source": [
        "**CREATING SUBSET OF NUMERICAL FEATURES**"
      ]
    },
    {
      "cell_type": "code",
      "metadata": {
        "id": "GnbmfwJVvcJ1",
        "colab_type": "code",
        "colab": {}
      },
      "source": [
        "n=[col for col in list(bridges99) if bridges99[col].dtype!=object]"
      ],
      "execution_count": 0,
      "outputs": []
    },
    {
      "cell_type": "markdown",
      "metadata": {
        "id": "huCtODDav92a",
        "colab_type": "text"
      },
      "source": [
        "**BIVARIATE ANALYSIS**\n",
        "\n",
        "temporarily add the target back in to numerical features"
      ]
    },
    {
      "cell_type": "code",
      "metadata": {
        "id": "inSspMTYv1wd",
        "colab_type": "code",
        "outputId": "84c192c0-d8fa-4996-e53d-fa4e3e6fb401",
        "colab": {
          "base_uri": "https://localhost:8080/",
          "height": 482
        }
      },
      "source": [
        "bridges99[n].corr()"
      ],
      "execution_count": 290,
      "outputs": [
        {
          "output_type": "execute_result",
          "data": {
            "text/html": [
              "<div>\n",
              "<style scoped>\n",
              "    .dataframe tbody tr th:only-of-type {\n",
              "        vertical-align: middle;\n",
              "    }\n",
              "\n",
              "    .dataframe tbody tr th {\n",
              "        vertical-align: top;\n",
              "    }\n",
              "\n",
              "    .dataframe thead th {\n",
              "        text-align: right;\n",
              "    }\n",
              "</style>\n",
              "<table border=\"1\" class=\"dataframe\">\n",
              "  <thead>\n",
              "    <tr style=\"text-align: right;\">\n",
              "      <th></th>\n",
              "      <th>SERVICE_LEVEL_005C</th>\n",
              "      <th>MAINTENANCE_021</th>\n",
              "      <th>YEAR_BUILT_027</th>\n",
              "      <th>TRAFFIC_LANES_ON_028A</th>\n",
              "      <th>SERVICE_ON_042A</th>\n",
              "      <th>STRUCTURE_KIND_043A</th>\n",
              "      <th>MAX_SPAN_LEN_MT_048</th>\n",
              "      <th>DECK_WIDTH_MT_052</th>\n",
              "      <th>OPERATING_RATING_064</th>\n",
              "      <th>INVENTORY_RATING_066</th>\n",
              "      <th>STRUCTURAL_EVAL_067</th>\n",
              "      <th>SUFFICIENCY_RATING</th>\n",
              "      <th>binned</th>\n",
              "      <th>surface_area</th>\n",
              "    </tr>\n",
              "  </thead>\n",
              "  <tbody>\n",
              "    <tr>\n",
              "      <th>SERVICE_LEVEL_005C</th>\n",
              "      <td>1.000000</td>\n",
              "      <td>0.006546</td>\n",
              "      <td>0.052890</td>\n",
              "      <td>-0.087648</td>\n",
              "      <td>-0.041729</td>\n",
              "      <td>0.035785</td>\n",
              "      <td>0.122978</td>\n",
              "      <td>0.012604</td>\n",
              "      <td>0.031727</td>\n",
              "      <td>0.036146</td>\n",
              "      <td>0.046463</td>\n",
              "      <td>0.053723</td>\n",
              "      <td>0.052502</td>\n",
              "      <td>0.073114</td>\n",
              "    </tr>\n",
              "    <tr>\n",
              "      <th>MAINTENANCE_021</th>\n",
              "      <td>0.006546</td>\n",
              "      <td>1.000000</td>\n",
              "      <td>-0.000550</td>\n",
              "      <td>-0.069682</td>\n",
              "      <td>0.020657</td>\n",
              "      <td>0.044874</td>\n",
              "      <td>0.019539</td>\n",
              "      <td>-0.030399</td>\n",
              "      <td>-0.040473</td>\n",
              "      <td>-0.005476</td>\n",
              "      <td>-0.010858</td>\n",
              "      <td>-0.034308</td>\n",
              "      <td>-0.000628</td>\n",
              "      <td>0.003381</td>\n",
              "    </tr>\n",
              "    <tr>\n",
              "      <th>YEAR_BUILT_027</th>\n",
              "      <td>0.052890</td>\n",
              "      <td>-0.000550</td>\n",
              "      <td>1.000000</td>\n",
              "      <td>0.075985</td>\n",
              "      <td>-0.056143</td>\n",
              "      <td>0.273960</td>\n",
              "      <td>0.157093</td>\n",
              "      <td>0.114363</td>\n",
              "      <td>0.319409</td>\n",
              "      <td>0.340569</td>\n",
              "      <td>0.584475</td>\n",
              "      <td>0.550049</td>\n",
              "      <td>0.993439</td>\n",
              "      <td>0.159117</td>\n",
              "    </tr>\n",
              "    <tr>\n",
              "      <th>TRAFFIC_LANES_ON_028A</th>\n",
              "      <td>-0.087648</td>\n",
              "      <td>-0.069682</td>\n",
              "      <td>0.075985</td>\n",
              "      <td>1.000000</td>\n",
              "      <td>0.220627</td>\n",
              "      <td>0.024609</td>\n",
              "      <td>0.171362</td>\n",
              "      <td>0.570707</td>\n",
              "      <td>0.157535</td>\n",
              "      <td>0.144723</td>\n",
              "      <td>0.145611</td>\n",
              "      <td>0.137738</td>\n",
              "      <td>0.071817</td>\n",
              "      <td>0.408159</td>\n",
              "    </tr>\n",
              "    <tr>\n",
              "      <th>SERVICE_ON_042A</th>\n",
              "      <td>-0.041729</td>\n",
              "      <td>0.020657</td>\n",
              "      <td>-0.056143</td>\n",
              "      <td>0.220627</td>\n",
              "      <td>1.000000</td>\n",
              "      <td>-0.004493</td>\n",
              "      <td>0.092881</td>\n",
              "      <td>0.263328</td>\n",
              "      <td>0.086979</td>\n",
              "      <td>0.068779</td>\n",
              "      <td>0.000156</td>\n",
              "      <td>-0.038029</td>\n",
              "      <td>-0.057298</td>\n",
              "      <td>0.170260</td>\n",
              "    </tr>\n",
              "    <tr>\n",
              "      <th>STRUCTURE_KIND_043A</th>\n",
              "      <td>0.035785</td>\n",
              "      <td>0.044874</td>\n",
              "      <td>0.273960</td>\n",
              "      <td>0.024609</td>\n",
              "      <td>-0.004493</td>\n",
              "      <td>1.000000</td>\n",
              "      <td>0.224150</td>\n",
              "      <td>0.076843</td>\n",
              "      <td>0.103066</td>\n",
              "      <td>0.080780</td>\n",
              "      <td>0.147420</td>\n",
              "      <td>0.147468</td>\n",
              "      <td>0.273597</td>\n",
              "      <td>0.184932</td>\n",
              "    </tr>\n",
              "    <tr>\n",
              "      <th>MAX_SPAN_LEN_MT_048</th>\n",
              "      <td>0.122978</td>\n",
              "      <td>0.019539</td>\n",
              "      <td>0.157093</td>\n",
              "      <td>0.171362</td>\n",
              "      <td>0.092881</td>\n",
              "      <td>0.224150</td>\n",
              "      <td>1.000000</td>\n",
              "      <td>0.238055</td>\n",
              "      <td>0.155299</td>\n",
              "      <td>0.113969</td>\n",
              "      <td>0.129480</td>\n",
              "      <td>0.091749</td>\n",
              "      <td>0.155091</td>\n",
              "      <td>0.861133</td>\n",
              "    </tr>\n",
              "    <tr>\n",
              "      <th>DECK_WIDTH_MT_052</th>\n",
              "      <td>0.012604</td>\n",
              "      <td>-0.030399</td>\n",
              "      <td>0.114363</td>\n",
              "      <td>0.570707</td>\n",
              "      <td>0.263328</td>\n",
              "      <td>0.076843</td>\n",
              "      <td>0.238055</td>\n",
              "      <td>1.000000</td>\n",
              "      <td>0.212008</td>\n",
              "      <td>0.179872</td>\n",
              "      <td>0.182580</td>\n",
              "      <td>0.220415</td>\n",
              "      <td>0.110035</td>\n",
              "      <td>0.570754</td>\n",
              "    </tr>\n",
              "    <tr>\n",
              "      <th>OPERATING_RATING_064</th>\n",
              "      <td>0.031727</td>\n",
              "      <td>-0.040473</td>\n",
              "      <td>0.319409</td>\n",
              "      <td>0.157535</td>\n",
              "      <td>0.086979</td>\n",
              "      <td>0.103066</td>\n",
              "      <td>0.155299</td>\n",
              "      <td>0.212008</td>\n",
              "      <td>1.000000</td>\n",
              "      <td>0.879678</td>\n",
              "      <td>0.536776</td>\n",
              "      <td>0.544590</td>\n",
              "      <td>0.314777</td>\n",
              "      <td>0.182806</td>\n",
              "    </tr>\n",
              "    <tr>\n",
              "      <th>INVENTORY_RATING_066</th>\n",
              "      <td>0.036146</td>\n",
              "      <td>-0.005476</td>\n",
              "      <td>0.340569</td>\n",
              "      <td>0.144723</td>\n",
              "      <td>0.068779</td>\n",
              "      <td>0.080780</td>\n",
              "      <td>0.113969</td>\n",
              "      <td>0.179872</td>\n",
              "      <td>0.879678</td>\n",
              "      <td>1.000000</td>\n",
              "      <td>0.563869</td>\n",
              "      <td>0.559694</td>\n",
              "      <td>0.336764</td>\n",
              "      <td>0.145733</td>\n",
              "    </tr>\n",
              "    <tr>\n",
              "      <th>STRUCTURAL_EVAL_067</th>\n",
              "      <td>0.046463</td>\n",
              "      <td>-0.010858</td>\n",
              "      <td>0.584475</td>\n",
              "      <td>0.145611</td>\n",
              "      <td>0.000156</td>\n",
              "      <td>0.147420</td>\n",
              "      <td>0.129480</td>\n",
              "      <td>0.182580</td>\n",
              "      <td>0.536776</td>\n",
              "      <td>0.563869</td>\n",
              "      <td>1.000000</td>\n",
              "      <td>0.817802</td>\n",
              "      <td>0.580046</td>\n",
              "      <td>0.153634</td>\n",
              "    </tr>\n",
              "    <tr>\n",
              "      <th>SUFFICIENCY_RATING</th>\n",
              "      <td>0.053723</td>\n",
              "      <td>-0.034308</td>\n",
              "      <td>0.550049</td>\n",
              "      <td>0.137738</td>\n",
              "      <td>-0.038029</td>\n",
              "      <td>0.147468</td>\n",
              "      <td>0.091749</td>\n",
              "      <td>0.220415</td>\n",
              "      <td>0.544590</td>\n",
              "      <td>0.559694</td>\n",
              "      <td>0.817802</td>\n",
              "      <td>1.000000</td>\n",
              "      <td>0.544363</td>\n",
              "      <td>0.139991</td>\n",
              "    </tr>\n",
              "    <tr>\n",
              "      <th>binned</th>\n",
              "      <td>0.052502</td>\n",
              "      <td>-0.000628</td>\n",
              "      <td>0.993439</td>\n",
              "      <td>0.071817</td>\n",
              "      <td>-0.057298</td>\n",
              "      <td>0.273597</td>\n",
              "      <td>0.155091</td>\n",
              "      <td>0.110035</td>\n",
              "      <td>0.314777</td>\n",
              "      <td>0.336764</td>\n",
              "      <td>0.580046</td>\n",
              "      <td>0.544363</td>\n",
              "      <td>1.000000</td>\n",
              "      <td>0.156763</td>\n",
              "    </tr>\n",
              "    <tr>\n",
              "      <th>surface_area</th>\n",
              "      <td>0.073114</td>\n",
              "      <td>0.003381</td>\n",
              "      <td>0.159117</td>\n",
              "      <td>0.408159</td>\n",
              "      <td>0.170260</td>\n",
              "      <td>0.184932</td>\n",
              "      <td>0.861133</td>\n",
              "      <td>0.570754</td>\n",
              "      <td>0.182806</td>\n",
              "      <td>0.145733</td>\n",
              "      <td>0.153634</td>\n",
              "      <td>0.139991</td>\n",
              "      <td>0.156763</td>\n",
              "      <td>1.000000</td>\n",
              "    </tr>\n",
              "  </tbody>\n",
              "</table>\n",
              "</div>"
            ],
            "text/plain": [
              "                       SERVICE_LEVEL_005C  ...  surface_area\n",
              "SERVICE_LEVEL_005C               1.000000  ...      0.073114\n",
              "MAINTENANCE_021                  0.006546  ...      0.003381\n",
              "YEAR_BUILT_027                   0.052890  ...      0.159117\n",
              "TRAFFIC_LANES_ON_028A           -0.087648  ...      0.408159\n",
              "SERVICE_ON_042A                 -0.041729  ...      0.170260\n",
              "STRUCTURE_KIND_043A              0.035785  ...      0.184932\n",
              "MAX_SPAN_LEN_MT_048              0.122978  ...      0.861133\n",
              "DECK_WIDTH_MT_052                0.012604  ...      0.570754\n",
              "OPERATING_RATING_064             0.031727  ...      0.182806\n",
              "INVENTORY_RATING_066             0.036146  ...      0.145733\n",
              "STRUCTURAL_EVAL_067              0.046463  ...      0.153634\n",
              "SUFFICIENCY_RATING               0.053723  ...      0.139991\n",
              "binned                           0.052502  ...      0.156763\n",
              "surface_area                     0.073114  ...      1.000000\n",
              "\n",
              "[14 rows x 14 columns]"
            ]
          },
          "metadata": {
            "tags": []
          },
          "execution_count": 290
        }
      ]
    },
    {
      "cell_type": "markdown",
      "metadata": {
        "id": "PkVGWTNcyyBO",
        "colab_type": "text"
      },
      "source": [
        "**HEATMAP**"
      ]
    },
    {
      "cell_type": "code",
      "metadata": {
        "id": "TqoeJIaswMbR",
        "colab_type": "code",
        "outputId": "53e38c9e-309f-4479-f609-e6208b82ec33",
        "colab": {
          "base_uri": "https://localhost:8080/",
          "height": 841
        }
      },
      "source": [
        "plt.figure(figsize=(12,12))\n",
        "sns.heatmap(bridges99[n].corr(),annot=True,linewidth=0.5,cmap='coolwarm')"
      ],
      "execution_count": 291,
      "outputs": [
        {
          "output_type": "execute_result",
          "data": {
            "text/plain": [
              "<matplotlib.axes._subplots.AxesSubplot at 0x7f736fcfb438>"
            ]
          },
          "metadata": {
            "tags": []
          },
          "execution_count": 291
        },
        {
          "output_type": "display_data",
          "data": {
            "image/png": "[encoded data removed]",
            "text/plain": [
              "<Figure size 864x864 with 2 Axes>"
            ]
          },
          "metadata": {
            "tags": []
          }
        }
      ]
    },
    {
      "cell_type": "markdown",
      "metadata": {
        "id": "aQ47SWnYwXB8",
        "colab_type": "text"
      },
      "source": [
        "**OVERALL NOT MUCH CORREALTION -- I WILL DROP OPERATOR RATING .88 CORRELATION WITH INVENTORY RATING & YEAR_BUILT .995 CORRELATION WITH BINNED**"
      ]
    },
    {
      "cell_type": "code",
      "metadata": {
        "id": "HdY0rumhQ3_x",
        "colab_type": "code",
        "colab": {}
      },
      "source": [
        "bridges99.drop(['OPERATING_RATING_064','YEAR_BUILT_027'],axis=1,inplace=True)"
      ],
      "execution_count": 0,
      "outputs": []
    },
    {
      "cell_type": "code",
      "metadata": {
        "id": "Zb4Vpq-lRDJ0",
        "colab_type": "code",
        "outputId": "c3203da5-9963-416e-9dc9-7e96b1432b82",
        "colab": {
          "base_uri": "https://localhost:8080/",
          "height": 34
        }
      },
      "source": [
        "bridges99.shape"
      ],
      "execution_count": 293,
      "outputs": [
        {
          "output_type": "execute_result",
          "data": {
            "text/plain": [
              "(429341, 21)"
            ]
          },
          "metadata": {
            "tags": []
          },
          "execution_count": 293
        }
      ]
    },
    {
      "cell_type": "markdown",
      "metadata": {
        "id": "LTglHDymfZ2L",
        "colab_type": "text"
      },
      "source": [
        "  **CREATING SUBSET OF OBJECT FEATURES**"
      ]
    },
    {
      "cell_type": "code",
      "metadata": {
        "id": "1qLNe8n9HEsX",
        "colab_type": "code",
        "outputId": "79b2a523-aff2-4cae-a781-be25a48c3d8e",
        "colab": {
          "base_uri": "https://localhost:8080/",
          "height": 168
        }
      },
      "source": [
        "k=[col for col in list(bridges99) if bridges99[col].dtype==object]\n",
        "k"
      ],
      "execution_count": 294,
      "outputs": [
        {
          "output_type": "execute_result",
          "data": {
            "text/plain": [
              "['DESIGN_LOAD_031',\n",
              " 'DECK_COND_058',\n",
              " 'SUPERSTRUCTURE_COND_059',\n",
              " 'SUBSTRUCTURE_COND_060',\n",
              " 'DECK_GEOMETRY_EVAL_068',\n",
              " 'DECK_STRUCTURE_TYPE_107',\n",
              " 'SURFACE_TYPE_108A',\n",
              " 'MEMBRANE_TYPE_108B',\n",
              " 'DECK_PROTECTION_108C']"
            ]
          },
          "metadata": {
            "tags": []
          },
          "execution_count": 294
        }
      ]
    },
    {
      "cell_type": "markdown",
      "metadata": {
        "id": "l1tM5aqORvG2",
        "colab_type": "text"
      },
      "source": [
        "**GET VALUE_COUNT GETS FOR ALL CATEGORICALS**"
      ]
    },
    {
      "cell_type": "code",
      "metadata": {
        "id": "bfoME9kAR9wM",
        "colab_type": "code",
        "outputId": "cecf70ba-30de-420e-e11b-01b2054ca175",
        "colab": {
          "base_uri": "https://localhost:8080/",
          "height": 1000
        }
      },
      "source": [
        "for col in k:\n",
        "  print(col)\n",
        "  print(bridges99[col].value_counts())\n",
        "  print('')"
      ],
      "execution_count": 295,
      "outputs": [
        {
          "output_type": "stream",
          "text": [
            "DESIGN_LOAD_031\n",
            "5    171103\n",
            "0     77826\n",
            "6     45095\n",
            "2     34994\n",
            "4     31831\n",
            "9     26342\n",
            "A     16987\n",
            "1     15080\n",
            "3      7746\n",
            "C      1419\n",
            "B       840\n",
            "8        64\n",
            "7        14\n",
            "Name: DESIGN_LOAD_031, dtype: int64\n",
            "\n",
            "DECK_COND_058\n",
            "7    168582\n",
            "6     97477\n",
            "8     68432\n",
            "5     48227\n",
            "N     19696\n",
            "9     11884\n",
            "4     11810\n",
            "3      2213\n",
            "0       602\n",
            "2       338\n",
            "1        80\n",
            "Name: DECK_COND_058, dtype: int64\n",
            "\n",
            "SUPERSTRUCTURE_COND_059\n",
            "7    149850\n",
            "6     92993\n",
            "8     91063\n",
            "5     48257\n",
            "N     15075\n",
            "9     14526\n",
            "4     13537\n",
            "3      2755\n",
            "0       608\n",
            "2       508\n",
            "1       169\n",
            "Name: SUPERSTRUCTURE_COND_059, dtype: int64\n",
            "\n",
            "SUBSTRUCTURE_COND_060\n",
            "7    157724\n",
            "6     95323\n",
            "8     77522\n",
            "5     50827\n",
            "N     15201\n",
            "4     15041\n",
            "9     12457\n",
            "3      3580\n",
            "2       901\n",
            "0       615\n",
            "1       150\n",
            "Name: SUBSTRUCTURE_COND_060, dtype: int64\n",
            "\n",
            "DECK_GEOMETRY_EVAL_068\n",
            "6    95775\n",
            "5    95557\n",
            "4    74724\n",
            "7    53427\n",
            "9    31982\n",
            "2    30189\n",
            "3    26643\n",
            "N    10502\n",
            "8    10054\n",
            "0      485\n",
            "*        3\n",
            "Name: DECK_GEOMETRY_EVAL_068, dtype: int64\n",
            "\n",
            "DECK_STRUCTURE_TYPE_107\n",
            "1    297602\n",
            "2     51504\n",
            "8     28295\n",
            "N     25722\n",
            "9     11500\n",
            "6      9728\n",
            "3      2429\n",
            "5      1492\n",
            "4       966\n",
            "7       103\n",
            "Name: DECK_STRUCTURE_TYPE_107, dtype: int64\n",
            "\n",
            "SURFACE_TYPE_108A\n",
            "1    149357\n",
            "6    134846\n",
            "0     52286\n",
            "8     16823\n",
            "2     15688\n",
            "N     14045\n",
            "3     11654\n",
            "7     11464\n",
            "9      8919\n",
            "4      8378\n",
            "5      5881\n",
            "Name: SURFACE_TYPE_108A, dtype: int64\n",
            "\n",
            "MEMBRANE_TYPE_108B\n",
            "0    322969\n",
            "8     51826\n",
            "N     16869\n",
            "2     15217\n",
            "1     10796\n",
            "9      8042\n",
            "3      3622\n",
            "Name: MEMBRANE_TYPE_108B, dtype: int64\n",
            "\n",
            "DECK_PROTECTION_108C\n",
            "0    269723\n",
            "1     82935\n",
            "8     47631\n",
            "N     22064\n",
            "9      2955\n",
            "7      1341\n",
            "2      1242\n",
            "6       739\n",
            "3       450\n",
            "4       261\n",
            "Name: DECK_PROTECTION_108C, dtype: int64\n",
            "\n"
          ],
          "name": "stdout"
        }
      ]
    },
    {
      "cell_type": "code",
      "metadata": {
        "id": "dEsj_EuGV4PM",
        "colab_type": "code",
        "colab": {}
      },
      "source": [
        "#list(bridges99)"
      ],
      "execution_count": 0,
      "outputs": []
    },
    {
      "cell_type": "markdown",
      "metadata": {
        "id": "n9WnrBYi07KL",
        "colab_type": "text"
      },
      "source": [
        "**CHANGING TARGET TO BINARY**"
      ]
    },
    {
      "cell_type": "code",
      "metadata": {
        "id": "TN4MQM4YWNDO",
        "colab_type": "code",
        "colab": {}
      },
      "source": [
        "bridges99['STRUCTURAL_EVAL_067']=np.where(bridges99['STRUCTURAL_EVAL_067']<5,1,0)"
      ],
      "execution_count": 0,
      "outputs": []
    },
    {
      "cell_type": "code",
      "metadata": {
        "id": "LrjuPMCHWqAC",
        "colab_type": "code",
        "outputId": "3ef86557-0653-4af9-c1ac-4121bd2acdf9",
        "colab": {
          "base_uri": "https://localhost:8080/",
          "height": 67
        }
      },
      "source": [
        "bridges99['STRUCTURAL_EVAL_067'].value_counts()"
      ],
      "execution_count": 298,
      "outputs": [
        {
          "output_type": "execute_result",
          "data": {
            "text/plain": [
              "0    374505\n",
              "1     54836\n",
              "Name: STRUCTURAL_EVAL_067, dtype: int64"
            ]
          },
          "metadata": {
            "tags": []
          },
          "execution_count": 298
        }
      ]
    },
    {
      "cell_type": "code",
      "metadata": {
        "id": "D5Dz6SgOW3Fj",
        "colab_type": "code",
        "colab": {}
      },
      "source": [
        "y=bridges99['STRUCTURAL_EVAL_067']"
      ],
      "execution_count": 0,
      "outputs": []
    },
    {
      "cell_type": "markdown",
      "metadata": {
        "id": "mxTb4J9v8tNc",
        "colab_type": "text"
      },
      "source": [
        "**DROP COLUMNS HIGHLY CORRELATED WITH TARGET**"
      ]
    },
    {
      "cell_type": "code",
      "metadata": {
        "id": "aS5WhknepHEz",
        "colab_type": "code",
        "colab": {}
      },
      "source": [
        "X2=bridges99.drop(['STRUCTURAL_EVAL_067','SUFFICIENCY_RATING','SUBSTRUCTURE_COND_060'],axis=1)"
      ],
      "execution_count": 0,
      "outputs": []
    },
    {
      "cell_type": "markdown",
      "metadata": {
        "id": "uXiPCog_9ySM",
        "colab_type": "text"
      },
      "source": [
        "**ONE-HOT ENCODE**"
      ]
    },
    {
      "cell_type": "code",
      "metadata": {
        "id": "nc-kuNuzpa3z",
        "colab_type": "code",
        "colab": {}
      },
      "source": [
        "X2_dummy=pd.get_dummies(X2,drop_first=True)"
      ],
      "execution_count": 0,
      "outputs": []
    },
    {
      "cell_type": "markdown",
      "metadata": {
        "id": "9j0Q8ELs89EU",
        "colab_type": "text"
      },
      "source": [
        "**TRAIN_TEST_SPLIT**"
      ]
    },
    {
      "cell_type": "code",
      "metadata": {
        "id": "yCzJkhXH_dIM",
        "colab_type": "code",
        "colab": {}
      },
      "source": [
        "X_train,X_test,y_train,y_test= train_test_split(X2_dummy, y, test_size = 0.2, random_state = 465)"
      ],
      "execution_count": 0,
      "outputs": []
    },
    {
      "cell_type": "markdown",
      "metadata": {
        "id": "XYHu_m1O9H0h",
        "colab_type": "text"
      },
      "source": [
        "**`GRIDSEARCH**"
      ]
    },
    {
      "cell_type": "code",
      "metadata": {
        "id": "XrV2Uq91yxVV",
        "colab_type": "code",
        "colab": {}
      },
      "source": [
        "param_grid = {\n",
        "    'bootstrap': [True],\n",
        "    'max_depth': [4,8],\n",
        "    'max_features': [2, 3,4],\n",
        "    'min_samples_leaf': [3,5,8],\n",
        "    'min_samples_split': [8,12],\n",
        "    'n_estimators': [10, 20,30]\n",
        "}\n",
        "rfc = RandomForestClassifier()\n",
        "grid = GridSearchCV(rfc, param_grid=param_grid, refit = True, verbose = 3) "
      ],
      "execution_count": 0,
      "outputs": []
    },
    {
      "cell_type": "code",
      "metadata": {
        "id": "mdGtSeS3xB8C",
        "colab_type": "code",
        "outputId": "7242f718-9030-4bc6-a536-0e94dd6b2b25",
        "colab": {
          "base_uri": "https://localhost:8080/",
          "height": 1000
        }
      },
      "source": [
        "grid.fit(X_train,y_train)"
      ],
      "execution_count": 307,
      "outputs": [
        {
          "output_type": "stream",
          "text": [
            "Fitting 5 folds for each of 108 candidates, totalling 540 fits\n",
            "[CV] bootstrap=True, max_depth=4, max_features=2, min_samples_leaf=3, min_samples_split=8, n_estimators=10 \n"
          ],
          "name": "stdout"
        },
        {
          "output_type": "stream",
          "text": [
            "[Parallel(n_jobs=1)]: Using backend SequentialBackend with 1 concurrent workers.\n"
          ],
          "name": "stderr"
        },
        {
          "output_type": "stream",
          "text": [
            "[CV]  bootstrap=True, max_depth=4, max_features=2, min_samples_leaf=3, min_samples_split=8, n_estimators=10, score=0.872, total=   0.9s\n",
            "[CV] bootstrap=True, max_depth=4, max_features=2, min_samples_leaf=3, min_samples_split=8, n_estimators=10 \n"
          ],
          "name": "stdout"
        },
        {
          "output_type": "stream",
          "text": [
            "[Parallel(n_jobs=1)]: Done   1 out of   1 | elapsed:    0.9s remaining:    0.0s\n"
          ],
          "name": "stderr"
        },
        {
          "output_type": "stream",
          "text": [
            "[CV]  bootstrap=True, max_depth=4, max_features=2, min_samples_leaf=3, min_samples_split=8, n_estimators=10, score=0.872, total=   0.8s\n",
            "[CV] bootstrap=True, max_depth=4, max_features=2, min_samples_leaf=3, min_samples_split=8, n_estimators=10 \n"
          ],
          "name": "stdout"
        },
        {
          "output_type": "stream",
          "text": [
            "[Parallel(n_jobs=1)]: Done   2 out of   2 | elapsed:    1.7s remaining:    0.0s\n"
          ],
          "name": "stderr"
        },
        {
          "output_type": "stream",
          "text": [
            "[CV]  bootstrap=True, max_depth=4, max_features=2, min_samples_leaf=3, min_samples_split=8, n_estimators=10, score=0.873, total=   0.8s\n",
            "[CV] bootstrap=True, max_depth=4, max_features=2, min_samples_leaf=3, min_samples_split=8, n_estimators=10 \n",
            "[CV]  bootstrap=True, max_depth=4, max_features=2, min_samples_leaf=3, min_samples_split=8, n_estimators=10, score=0.872, total=   0.8s\n",
            "[CV] bootstrap=True, max_depth=4, max_features=2, min_samples_leaf=3, min_samples_split=8, n_estimators=10 \n",
            "[CV]  bootstrap=True, max_depth=4, max_features=2, min_samples_leaf=3, min_samples_split=8, n_estimators=10, score=0.877, total=   0.8s\n",
            "[CV] bootstrap=True, max_depth=4, max_features=2, min_samples_leaf=3, min_samples_split=8, n_estimators=20 \n",
            "[CV]  bootstrap=True, max_depth=4, max_features=2, min_samples_leaf=3, min_samples_split=8, n_estimators=20, score=0.872, total=   1.5s\n",
            "[CV] bootstrap=True, max_depth=4, max_features=2, min_samples_leaf=3, min_samples_split=8, n_estimators=20 \n",
            "[CV]  bootstrap=True, max_depth=4, max_features=2, min_samples_leaf=3, min_samples_split=8, n_estimators=20, score=0.873, total=   1.4s\n",
            "[CV] bootstrap=True, max_depth=4, max_features=2, min_samples_leaf=3, min_samples_split=8, n_estimators=20 \n",
            "[CV]  bootstrap=True, max_depth=4, max_features=2, min_samples_leaf=3, min_samples_split=8, n_estimators=20, score=0.872, total=   1.5s\n",
            "[CV] bootstrap=True, max_depth=4, max_features=2, min_samples_leaf=3, min_samples_split=8, n_estimators=20 \n",
            "[CV]  bootstrap=True, max_depth=4, max_features=2, min_samples_leaf=3, min_samples_split=8, n_estimators=20, score=0.872, total=   1.5s\n",
            "[CV] bootstrap=True, max_depth=4, max_features=2, min_samples_leaf=3, min_samples_split=8, n_estimators=20 \n",
            "[CV]  bootstrap=True, max_depth=4, max_features=2, min_samples_leaf=3, min_samples_split=8, n_estimators=20, score=0.875, total=   1.5s\n",
            "[CV] bootstrap=True, max_depth=4, max_features=2, min_samples_leaf=3, min_samples_split=8, n_estimators=30 \n",
            "[CV]  bootstrap=True, max_depth=4, max_features=2, min_samples_leaf=3, min_samples_split=8, n_estimators=30, score=0.872, total=   2.0s\n",
            "[CV] bootstrap=True, max_depth=4, max_features=2, min_samples_leaf=3, min_samples_split=8, n_estimators=30 \n",
            "[CV]  bootstrap=True, max_depth=4, max_features=2, min_samples_leaf=3, min_samples_split=8, n_estimators=30, score=0.873, total=   2.1s\n",
            "[CV] bootstrap=True, max_depth=4, max_features=2, min_samples_leaf=3, min_samples_split=8, n_estimators=30 \n",
            "[CV]  bootstrap=True, max_depth=4, max_features=2, min_samples_leaf=3, min_samples_split=8, n_estimators=30, score=0.872, total=   2.0s\n",
            "[CV] bootstrap=True, max_depth=4, max_features=2, min_samples_leaf=3, min_samples_split=8, n_estimators=30 \n",
            "[CV]  bootstrap=True, max_depth=4, max_features=2, min_samples_leaf=3, min_samples_split=8, n_estimators=30, score=0.872, total=   2.0s\n",
            "[CV] bootstrap=True, max_depth=4, max_features=2, min_samples_leaf=3, min_samples_split=8, n_estimators=30 \n",
            "[CV]  bootstrap=True, max_depth=4, max_features=2, min_samples_leaf=3, min_samples_split=8, n_estimators=30, score=0.872, total=   2.0s\n",
            "[CV] bootstrap=True, max_depth=4, max_features=2, min_samples_leaf=3, min_samples_split=12, n_estimators=10 \n",
            "[CV]  bootstrap=True, max_depth=4, max_features=2, min_samples_leaf=3, min_samples_split=12, n_estimators=10, score=0.876, total=   0.9s\n",
            "[CV] bootstrap=True, max_depth=4, max_features=2, min_samples_leaf=3, min_samples_split=12, n_estimators=10 \n",
            "[CV]  bootstrap=True, max_depth=4, max_features=2, min_samples_leaf=3, min_samples_split=12, n_estimators=10, score=0.872, total=   0.9s\n",
            "[CV] bootstrap=True, max_depth=4, max_features=2, min_samples_leaf=3, min_samples_split=12, n_estimators=10 \n",
            "[CV]  bootstrap=True, max_depth=4, max_features=2, min_samples_leaf=3, min_samples_split=12, n_estimators=10, score=0.872, total=   0.8s\n",
            "[CV] bootstrap=True, max_depth=4, max_features=2, min_samples_leaf=3, min_samples_split=12, n_estimators=10 \n",
            "[CV]  bootstrap=True, max_depth=4, max_features=2, min_samples_leaf=3, min_samples_split=12, n_estimators=10, score=0.874, total=   0.8s\n",
            "[CV] bootstrap=True, max_depth=4, max_features=2, min_samples_leaf=3, min_samples_split=12, n_estimators=10 \n",
            "[CV]  bootstrap=True, max_depth=4, max_features=2, min_samples_leaf=3, min_samples_split=12, n_estimators=10, score=0.876, total=   0.8s\n",
            "[CV] bootstrap=True, max_depth=4, max_features=2, min_samples_leaf=3, min_samples_split=12, n_estimators=20 \n",
            "[CV]  bootstrap=True, max_depth=4, max_features=2, min_samples_leaf=3, min_samples_split=12, n_estimators=20, score=0.873, total=   1.4s\n",
            "[CV] bootstrap=True, max_depth=4, max_features=2, min_samples_leaf=3, min_samples_split=12, n_estimators=20 \n",
            "[CV]  bootstrap=True, max_depth=4, max_features=2, min_samples_leaf=3, min_samples_split=12, n_estimators=20, score=0.872, total=   1.4s\n",
            "[CV] bootstrap=True, max_depth=4, max_features=2, min_samples_leaf=3, min_samples_split=12, n_estimators=20 \n",
            "[CV]  bootstrap=True, max_depth=4, max_features=2, min_samples_leaf=3, min_samples_split=12, n_estimators=20, score=0.875, total=   1.7s\n",
            "[CV] bootstrap=True, max_depth=4, max_features=2, min_samples_leaf=3, min_samples_split=12, n_estimators=20 \n",
            "[CV]  bootstrap=True, max_depth=4, max_features=2, min_samples_leaf=3, min_samples_split=12, n_estimators=20, score=0.873, total=   1.4s\n",
            "[CV] bootstrap=True, max_depth=4, max_features=2, min_samples_leaf=3, min_samples_split=12, n_estimators=20 \n",
            "[CV]  bootstrap=True, max_depth=4, max_features=2, min_samples_leaf=3, min_samples_split=12, n_estimators=20, score=0.875, total=   1.4s\n",
            "[CV] bootstrap=True, max_depth=4, max_features=2, min_samples_leaf=3, min_samples_split=12, n_estimators=30 \n",
            "[CV]  bootstrap=True, max_depth=4, max_features=2, min_samples_leaf=3, min_samples_split=12, n_estimators=30, score=0.872, total=   2.0s\n",
            "[CV] bootstrap=True, max_depth=4, max_features=2, min_samples_leaf=3, min_samples_split=12, n_estimators=30 \n",
            "[CV]  bootstrap=True, max_depth=4, max_features=2, min_samples_leaf=3, min_samples_split=12, n_estimators=30, score=0.872, total=   1.9s\n",
            "[CV] bootstrap=True, max_depth=4, max_features=2, min_samples_leaf=3, min_samples_split=12, n_estimators=30 \n",
            "[CV]  bootstrap=True, max_depth=4, max_features=2, min_samples_leaf=3, min_samples_split=12, n_estimators=30, score=0.872, total=   2.0s\n",
            "[CV] bootstrap=True, max_depth=4, max_features=2, min_samples_leaf=3, min_samples_split=12, n_estimators=30 \n",
            "[CV]  bootstrap=True, max_depth=4, max_features=2, min_samples_leaf=3, min_samples_split=12, n_estimators=30, score=0.873, total=   2.0s\n",
            "[CV] bootstrap=True, max_depth=4, max_features=2, min_samples_leaf=3, min_samples_split=12, n_estimators=30 \n",
            "[CV]  bootstrap=True, max_depth=4, max_features=2, min_samples_leaf=3, min_samples_split=12, n_estimators=30, score=0.873, total=   2.1s\n",
            "[CV] bootstrap=True, max_depth=4, max_features=2, min_samples_leaf=5, min_samples_split=8, n_estimators=10 \n",
            "[CV]  bootstrap=True, max_depth=4, max_features=2, min_samples_leaf=5, min_samples_split=8, n_estimators=10, score=0.873, total=   0.8s\n",
            "[CV] bootstrap=True, max_depth=4, max_features=2, min_samples_leaf=5, min_samples_split=8, n_estimators=10 \n",
            "[CV]  bootstrap=True, max_depth=4, max_features=2, min_samples_leaf=5, min_samples_split=8, n_estimators=10, score=0.885, total=   0.8s\n",
            "[CV] bootstrap=True, max_depth=4, max_features=2, min_samples_leaf=5, min_samples_split=8, n_estimators=10 \n",
            "[CV]  bootstrap=True, max_depth=4, max_features=2, min_samples_leaf=5, min_samples_split=8, n_estimators=10, score=0.872, total=   0.8s\n",
            "[CV] bootstrap=True, max_depth=4, max_features=2, min_samples_leaf=5, min_samples_split=8, n_estimators=10 \n",
            "[CV]  bootstrap=True, max_depth=4, max_features=2, min_samples_leaf=5, min_samples_split=8, n_estimators=10, score=0.874, total=   0.8s\n",
            "[CV] bootstrap=True, max_depth=4, max_features=2, min_samples_leaf=5, min_samples_split=8, n_estimators=10 \n",
            "[CV]  bootstrap=True, max_depth=4, max_features=2, min_samples_leaf=5, min_samples_split=8, n_estimators=10, score=0.872, total=   0.8s\n",
            "[CV] bootstrap=True, max_depth=4, max_features=2, min_samples_leaf=5, min_samples_split=8, n_estimators=20 \n",
            "[CV]  bootstrap=True, max_depth=4, max_features=2, min_samples_leaf=5, min_samples_split=8, n_estimators=20, score=0.874, total=   1.4s\n",
            "[CV] bootstrap=True, max_depth=4, max_features=2, min_samples_leaf=5, min_samples_split=8, n_estimators=20 \n",
            "[CV]  bootstrap=True, max_depth=4, max_features=2, min_samples_leaf=5, min_samples_split=8, n_estimators=20, score=0.873, total=   1.4s\n",
            "[CV] bootstrap=True, max_depth=4, max_features=2, min_samples_leaf=5, min_samples_split=8, n_estimators=20 \n",
            "[CV]  bootstrap=True, max_depth=4, max_features=2, min_samples_leaf=5, min_samples_split=8, n_estimators=20, score=0.872, total=   1.4s\n",
            "[CV] bootstrap=True, max_depth=4, max_features=2, min_samples_leaf=5, min_samples_split=8, n_estimators=20 \n",
            "[CV]  bootstrap=True, max_depth=4, max_features=2, min_samples_leaf=5, min_samples_split=8, n_estimators=20, score=0.872, total=   1.4s\n",
            "[CV] bootstrap=True, max_depth=4, max_features=2, min_samples_leaf=5, min_samples_split=8, n_estimators=20 \n",
            "[CV]  bootstrap=True, max_depth=4, max_features=2, min_samples_leaf=5, min_samples_split=8, n_estimators=20, score=0.882, total=   1.4s\n",
            "[CV] bootstrap=True, max_depth=4, max_features=2, min_samples_leaf=5, min_samples_split=8, n_estimators=30 \n",
            "[CV]  bootstrap=True, max_depth=4, max_features=2, min_samples_leaf=5, min_samples_split=8, n_estimators=30, score=0.872, total=   2.2s\n",
            "[CV] bootstrap=True, max_depth=4, max_features=2, min_samples_leaf=5, min_samples_split=8, n_estimators=30 \n",
            "[CV]  bootstrap=True, max_depth=4, max_features=2, min_samples_leaf=5, min_samples_split=8, n_estimators=30, score=0.872, total=   2.1s\n",
            "[CV] bootstrap=True, max_depth=4, max_features=2, min_samples_leaf=5, min_samples_split=8, n_estimators=30 \n",
            "[CV]  bootstrap=True, max_depth=4, max_features=2, min_samples_leaf=5, min_samples_split=8, n_estimators=30, score=0.872, total=   2.0s\n",
            "[CV] bootstrap=True, max_depth=4, max_features=2, min_samples_leaf=5, min_samples_split=8, n_estimators=30 \n",
            "[CV]  bootstrap=True, max_depth=4, max_features=2, min_samples_leaf=5, min_samples_split=8, n_estimators=30, score=0.873, total=   2.0s\n",
            "[CV] bootstrap=True, max_depth=4, max_features=2, min_samples_leaf=5, min_samples_split=8, n_estimators=30 \n",
            "[CV]  bootstrap=True, max_depth=4, max_features=2, min_samples_leaf=5, min_samples_split=8, n_estimators=30, score=0.872, total=   2.0s\n",
            "[CV] bootstrap=True, max_depth=4, max_features=2, min_samples_leaf=5, min_samples_split=12, n_estimators=10 \n",
            "[CV]  bootstrap=True, max_depth=4, max_features=2, min_samples_leaf=5, min_samples_split=12, n_estimators=10, score=0.872, total=   0.8s\n",
            "[CV] bootstrap=True, max_depth=4, max_features=2, min_samples_leaf=5, min_samples_split=12, n_estimators=10 \n",
            "[CV]  bootstrap=True, max_depth=4, max_features=2, min_samples_leaf=5, min_samples_split=12, n_estimators=10, score=0.884, total=   0.8s\n",
            "[CV] bootstrap=True, max_depth=4, max_features=2, min_samples_leaf=5, min_samples_split=12, n_estimators=10 \n",
            "[CV]  bootstrap=True, max_depth=4, max_features=2, min_samples_leaf=5, min_samples_split=12, n_estimators=10, score=0.876, total=   0.9s\n",
            "[CV] bootstrap=True, max_depth=4, max_features=2, min_samples_leaf=5, min_samples_split=12, n_estimators=10 \n",
            "[CV]  bootstrap=True, max_depth=4, max_features=2, min_samples_leaf=5, min_samples_split=12, n_estimators=10, score=0.873, total=   0.8s\n",
            "[CV] bootstrap=True, max_depth=4, max_features=2, min_samples_leaf=5, min_samples_split=12, n_estimators=10 \n",
            "[CV]  bootstrap=True, max_depth=4, max_features=2, min_samples_leaf=5, min_samples_split=12, n_estimators=10, score=0.884, total=   0.8s\n",
            "[CV] bootstrap=True, max_depth=4, max_features=2, min_samples_leaf=5, min_samples_split=12, n_estimators=20 \n",
            "[CV]  bootstrap=True, max_depth=4, max_features=2, min_samples_leaf=5, min_samples_split=12, n_estimators=20, score=0.872, total=   1.4s\n",
            "[CV] bootstrap=True, max_depth=4, max_features=2, min_samples_leaf=5, min_samples_split=12, n_estimators=20 \n",
            "[CV]  bootstrap=True, max_depth=4, max_features=2, min_samples_leaf=5, min_samples_split=12, n_estimators=20, score=0.872, total=   1.4s\n",
            "[CV] bootstrap=True, max_depth=4, max_features=2, min_samples_leaf=5, min_samples_split=12, n_estimators=20 \n",
            "[CV]  bootstrap=True, max_depth=4, max_features=2, min_samples_leaf=5, min_samples_split=12, n_estimators=20, score=0.872, total=   1.4s\n",
            "[CV] bootstrap=True, max_depth=4, max_features=2, min_samples_leaf=5, min_samples_split=12, n_estimators=20 \n",
            "[CV]  bootstrap=True, max_depth=4, max_features=2, min_samples_leaf=5, min_samples_split=12, n_estimators=20, score=0.872, total=   1.5s\n",
            "[CV] bootstrap=True, max_depth=4, max_features=2, min_samples_leaf=5, min_samples_split=12, n_estimators=20 \n",
            "[CV]  bootstrap=True, max_depth=4, max_features=2, min_samples_leaf=5, min_samples_split=12, n_estimators=20, score=0.872, total=   1.4s\n",
            "[CV] bootstrap=True, max_depth=4, max_features=2, min_samples_leaf=5, min_samples_split=12, n_estimators=30 \n",
            "[CV]  bootstrap=True, max_depth=4, max_features=2, min_samples_leaf=5, min_samples_split=12, n_estimators=30, score=0.872, total=   1.9s\n",
            "[CV] bootstrap=True, max_depth=4, max_features=2, min_samples_leaf=5, min_samples_split=12, n_estimators=30 \n",
            "[CV]  bootstrap=True, max_depth=4, max_features=2, min_samples_leaf=5, min_samples_split=12, n_estimators=30, score=0.872, total=   2.0s\n",
            "[CV] bootstrap=True, max_depth=4, max_features=2, min_samples_leaf=5, min_samples_split=12, n_estimators=30 \n",
            "[CV]  bootstrap=True, max_depth=4, max_features=2, min_samples_leaf=5, min_samples_split=12, n_estimators=30, score=0.872, total=   2.0s\n",
            "[CV] bootstrap=True, max_depth=4, max_features=2, min_samples_leaf=5, min_samples_split=12, n_estimators=30 \n",
            "[CV]  bootstrap=True, max_depth=4, max_features=2, min_samples_leaf=5, min_samples_split=12, n_estimators=30, score=0.872, total=   2.0s\n",
            "[CV] bootstrap=True, max_depth=4, max_features=2, min_samples_leaf=5, min_samples_split=12, n_estimators=30 \n",
            "[CV]  bootstrap=True, max_depth=4, max_features=2, min_samples_leaf=5, min_samples_split=12, n_estimators=30, score=0.872, total=   2.0s\n",
            "[CV] bootstrap=True, max_depth=4, max_features=2, min_samples_leaf=8, min_samples_split=8, n_estimators=10 \n",
            "[CV]  bootstrap=True, max_depth=4, max_features=2, min_samples_leaf=8, min_samples_split=8, n_estimators=10, score=0.873, total=   0.8s\n",
            "[CV] bootstrap=True, max_depth=4, max_features=2, min_samples_leaf=8, min_samples_split=8, n_estimators=10 \n",
            "[CV]  bootstrap=True, max_depth=4, max_features=2, min_samples_leaf=8, min_samples_split=8, n_estimators=10, score=0.872, total=   0.8s\n",
            "[CV] bootstrap=True, max_depth=4, max_features=2, min_samples_leaf=8, min_samples_split=8, n_estimators=10 \n",
            "[CV]  bootstrap=True, max_depth=4, max_features=2, min_samples_leaf=8, min_samples_split=8, n_estimators=10, score=0.872, total=   0.8s\n",
            "[CV] bootstrap=True, max_depth=4, max_features=2, min_samples_leaf=8, min_samples_split=8, n_estimators=10 \n",
            "[CV]  bootstrap=True, max_depth=4, max_features=2, min_samples_leaf=8, min_samples_split=8, n_estimators=10, score=0.872, total=   0.8s\n",
            "[CV] bootstrap=True, max_depth=4, max_features=2, min_samples_leaf=8, min_samples_split=8, n_estimators=10 \n",
            "[CV]  bootstrap=True, max_depth=4, max_features=2, min_samples_leaf=8, min_samples_split=8, n_estimators=10, score=0.872, total=   0.8s\n",
            "[CV] bootstrap=True, max_depth=4, max_features=2, min_samples_leaf=8, min_samples_split=8, n_estimators=20 \n",
            "[CV]  bootstrap=True, max_depth=4, max_features=2, min_samples_leaf=8, min_samples_split=8, n_estimators=20, score=0.872, total=   1.5s\n",
            "[CV] bootstrap=True, max_depth=4, max_features=2, min_samples_leaf=8, min_samples_split=8, n_estimators=20 \n",
            "[CV]  bootstrap=True, max_depth=4, max_features=2, min_samples_leaf=8, min_samples_split=8, n_estimators=20, score=0.872, total=   1.4s\n",
            "[CV] bootstrap=True, max_depth=4, max_features=2, min_samples_leaf=8, min_samples_split=8, n_estimators=20 \n",
            "[CV]  bootstrap=True, max_depth=4, max_features=2, min_samples_leaf=8, min_samples_split=8, n_estimators=20, score=0.872, total=   1.5s\n",
            "[CV] bootstrap=True, max_depth=4, max_features=2, min_samples_leaf=8, min_samples_split=8, n_estimators=20 \n",
            "[CV]  bootstrap=True, max_depth=4, max_features=2, min_samples_leaf=8, min_samples_split=8, n_estimators=20, score=0.873, total=   1.4s\n",
            "[CV] bootstrap=True, max_depth=4, max_features=2, min_samples_leaf=8, min_samples_split=8, n_estimators=20 \n",
            "[CV]  bootstrap=True, max_depth=4, max_features=2, min_samples_leaf=8, min_samples_split=8, n_estimators=20, score=0.872, total=   1.3s\n",
            "[CV] bootstrap=True, max_depth=4, max_features=2, min_samples_leaf=8, min_samples_split=8, n_estimators=30 \n",
            "[CV]  bootstrap=True, max_depth=4, max_features=2, min_samples_leaf=8, min_samples_split=8, n_estimators=30, score=0.872, total=   2.0s\n",
            "[CV] bootstrap=True, max_depth=4, max_features=2, min_samples_leaf=8, min_samples_split=8, n_estimators=30 \n",
            "[CV]  bootstrap=True, max_depth=4, max_features=2, min_samples_leaf=8, min_samples_split=8, n_estimators=30, score=0.877, total=   2.0s\n",
            "[CV] bootstrap=True, max_depth=4, max_features=2, min_samples_leaf=8, min_samples_split=8, n_estimators=30 \n",
            "[CV]  bootstrap=True, max_depth=4, max_features=2, min_samples_leaf=8, min_samples_split=8, n_estimators=30, score=0.872, total=   2.0s\n",
            "[CV] bootstrap=True, max_depth=4, max_features=2, min_samples_leaf=8, min_samples_split=8, n_estimators=30 \n",
            "[CV]  bootstrap=True, max_depth=4, max_features=2, min_samples_leaf=8, min_samples_split=8, n_estimators=30, score=0.872, total=   2.0s\n",
            "[CV] bootstrap=True, max_depth=4, max_features=2, min_samples_leaf=8, min_samples_split=8, n_estimators=30 \n",
            "[CV]  bootstrap=True, max_depth=4, max_features=2, min_samples_leaf=8, min_samples_split=8, n_estimators=30, score=0.872, total=   2.1s\n",
            "[CV] bootstrap=True, max_depth=4, max_features=2, min_samples_leaf=8, min_samples_split=12, n_estimators=10 \n",
            "[CV]  bootstrap=True, max_depth=4, max_features=2, min_samples_leaf=8, min_samples_split=12, n_estimators=10, score=0.872, total=   0.9s\n",
            "[CV] bootstrap=True, max_depth=4, max_features=2, min_samples_leaf=8, min_samples_split=12, n_estimators=10 \n",
            "[CV]  bootstrap=True, max_depth=4, max_features=2, min_samples_leaf=8, min_samples_split=12, n_estimators=10, score=0.890, total=   1.0s\n",
            "[CV] bootstrap=True, max_depth=4, max_features=2, min_samples_leaf=8, min_samples_split=12, n_estimators=10 \n",
            "[CV]  bootstrap=True, max_depth=4, max_features=2, min_samples_leaf=8, min_samples_split=12, n_estimators=10, score=0.872, total=   0.9s\n",
            "[CV] bootstrap=True, max_depth=4, max_features=2, min_samples_leaf=8, min_samples_split=12, n_estimators=10 \n",
            "[CV]  bootstrap=True, max_depth=4, max_features=2, min_samples_leaf=8, min_samples_split=12, n_estimators=10, score=0.888, total=   0.9s\n",
            "[CV] bootstrap=True, max_depth=4, max_features=2, min_samples_leaf=8, min_samples_split=12, n_estimators=10 \n",
            "[CV]  bootstrap=True, max_depth=4, max_features=2, min_samples_leaf=8, min_samples_split=12, n_estimators=10, score=0.873, total=   0.8s\n",
            "[CV] bootstrap=True, max_depth=4, max_features=2, min_samples_leaf=8, min_samples_split=12, n_estimators=20 \n",
            "[CV]  bootstrap=True, max_depth=4, max_features=2, min_samples_leaf=8, min_samples_split=12, n_estimators=20, score=0.879, total=   1.5s\n",
            "[CV] bootstrap=True, max_depth=4, max_features=2, min_samples_leaf=8, min_samples_split=12, n_estimators=20 \n",
            "[CV]  bootstrap=True, max_depth=4, max_features=2, min_samples_leaf=8, min_samples_split=12, n_estimators=20, score=0.872, total=   1.5s\n",
            "[CV] bootstrap=True, max_depth=4, max_features=2, min_samples_leaf=8, min_samples_split=12, n_estimators=20 \n",
            "[CV]  bootstrap=True, max_depth=4, max_features=2, min_samples_leaf=8, min_samples_split=12, n_estimators=20, score=0.872, total=   1.5s\n",
            "[CV] bootstrap=True, max_depth=4, max_features=2, min_samples_leaf=8, min_samples_split=12, n_estimators=20 \n",
            "[CV]  bootstrap=True, max_depth=4, max_features=2, min_samples_leaf=8, min_samples_split=12, n_estimators=20, score=0.873, total=   1.4s\n",
            "[CV] bootstrap=True, max_depth=4, max_features=2, min_samples_leaf=8, min_samples_split=12, n_estimators=20 \n",
            "[CV]  bootstrap=True, max_depth=4, max_features=2, min_samples_leaf=8, min_samples_split=12, n_estimators=20, score=0.872, total=   1.5s\n",
            "[CV] bootstrap=True, max_depth=4, max_features=2, min_samples_leaf=8, min_samples_split=12, n_estimators=30 \n",
            "[CV]  bootstrap=True, max_depth=4, max_features=2, min_samples_leaf=8, min_samples_split=12, n_estimators=30, score=0.873, total=   2.0s\n",
            "[CV] bootstrap=True, max_depth=4, max_features=2, min_samples_leaf=8, min_samples_split=12, n_estimators=30 \n",
            "[CV]  bootstrap=True, max_depth=4, max_features=2, min_samples_leaf=8, min_samples_split=12, n_estimators=30, score=0.873, total=   2.1s\n",
            "[CV] bootstrap=True, max_depth=4, max_features=2, min_samples_leaf=8, min_samples_split=12, n_estimators=30 \n",
            "[CV]  bootstrap=True, max_depth=4, max_features=2, min_samples_leaf=8, min_samples_split=12, n_estimators=30, score=0.872, total=   2.1s\n",
            "[CV] bootstrap=True, max_depth=4, max_features=2, min_samples_leaf=8, min_samples_split=12, n_estimators=30 \n",
            "[CV]  bootstrap=True, max_depth=4, max_features=2, min_samples_leaf=8, min_samples_split=12, n_estimators=30, score=0.872, total=   2.1s\n",
            "[CV] bootstrap=True, max_depth=4, max_features=2, min_samples_leaf=8, min_samples_split=12, n_estimators=30 \n",
            "[CV]  bootstrap=True, max_depth=4, max_features=2, min_samples_leaf=8, min_samples_split=12, n_estimators=30, score=0.876, total=   2.1s\n",
            "[CV] bootstrap=True, max_depth=4, max_features=3, min_samples_leaf=3, min_samples_split=8, n_estimators=10 \n",
            "[CV]  bootstrap=True, max_depth=4, max_features=3, min_samples_leaf=3, min_samples_split=8, n_estimators=10, score=0.887, total=   1.0s\n",
            "[CV] bootstrap=True, max_depth=4, max_features=3, min_samples_leaf=3, min_samples_split=8, n_estimators=10 \n",
            "[CV]  bootstrap=True, max_depth=4, max_features=3, min_samples_leaf=3, min_samples_split=8, n_estimators=10, score=0.876, total=   1.0s\n",
            "[CV] bootstrap=True, max_depth=4, max_features=3, min_samples_leaf=3, min_samples_split=8, n_estimators=10 \n",
            "[CV]  bootstrap=True, max_depth=4, max_features=3, min_samples_leaf=3, min_samples_split=8, n_estimators=10, score=0.877, total=   0.9s\n",
            "[CV] bootstrap=True, max_depth=4, max_features=3, min_samples_leaf=3, min_samples_split=8, n_estimators=10 \n",
            "[CV]  bootstrap=True, max_depth=4, max_features=3, min_samples_leaf=3, min_samples_split=8, n_estimators=10, score=0.874, total=   0.9s\n",
            "[CV] bootstrap=True, max_depth=4, max_features=3, min_samples_leaf=3, min_samples_split=8, n_estimators=10 \n",
            "[CV]  bootstrap=True, max_depth=4, max_features=3, min_samples_leaf=3, min_samples_split=8, n_estimators=10, score=0.873, total=   0.9s\n",
            "[CV] bootstrap=True, max_depth=4, max_features=3, min_samples_leaf=3, min_samples_split=8, n_estimators=20 \n",
            "[CV]  bootstrap=True, max_depth=4, max_features=3, min_samples_leaf=3, min_samples_split=8, n_estimators=20, score=0.874, total=   1.5s\n",
            "[CV] bootstrap=True, max_depth=4, max_features=3, min_samples_leaf=3, min_samples_split=8, n_estimators=20 \n",
            "[CV]  bootstrap=True, max_depth=4, max_features=3, min_samples_leaf=3, min_samples_split=8, n_estimators=20, score=0.884, total=   1.6s\n",
            "[CV] bootstrap=True, max_depth=4, max_features=3, min_samples_leaf=3, min_samples_split=8, n_estimators=20 \n",
            "[CV]  bootstrap=True, max_depth=4, max_features=3, min_samples_leaf=3, min_samples_split=8, n_estimators=20, score=0.877, total=   1.6s\n",
            "[CV] bootstrap=True, max_depth=4, max_features=3, min_samples_leaf=3, min_samples_split=8, n_estimators=20 \n",
            "[CV]  bootstrap=True, max_depth=4, max_features=3, min_samples_leaf=3, min_samples_split=8, n_estimators=20, score=0.874, total=   1.6s\n",
            "[CV] bootstrap=True, max_depth=4, max_features=3, min_samples_leaf=3, min_samples_split=8, n_estimators=20 \n",
            "[CV]  bootstrap=True, max_depth=4, max_features=3, min_samples_leaf=3, min_samples_split=8, n_estimators=20, score=0.883, total=   1.5s\n",
            "[CV] bootstrap=True, max_depth=4, max_features=3, min_samples_leaf=3, min_samples_split=8, n_estimators=30 \n",
            "[CV]  bootstrap=True, max_depth=4, max_features=3, min_samples_leaf=3, min_samples_split=8, n_estimators=30, score=0.874, total=   2.4s\n",
            "[CV] bootstrap=True, max_depth=4, max_features=3, min_samples_leaf=3, min_samples_split=8, n_estimators=30 \n",
            "[CV]  bootstrap=True, max_depth=4, max_features=3, min_samples_leaf=3, min_samples_split=8, n_estimators=30, score=0.900, total=   2.4s\n",
            "[CV] bootstrap=True, max_depth=4, max_features=3, min_samples_leaf=3, min_samples_split=8, n_estimators=30 \n",
            "[CV]  bootstrap=True, max_depth=4, max_features=3, min_samples_leaf=3, min_samples_split=8, n_estimators=30, score=0.884, total=   2.3s\n",
            "[CV] bootstrap=True, max_depth=4, max_features=3, min_samples_leaf=3, min_samples_split=8, n_estimators=30 \n",
            "[CV]  bootstrap=True, max_depth=4, max_features=3, min_samples_leaf=3, min_samples_split=8, n_estimators=30, score=0.876, total=   2.3s\n",
            "[CV] bootstrap=True, max_depth=4, max_features=3, min_samples_leaf=3, min_samples_split=8, n_estimators=30 \n",
            "[CV]  bootstrap=True, max_depth=4, max_features=3, min_samples_leaf=3, min_samples_split=8, n_estimators=30, score=0.874, total=   2.4s\n",
            "[CV] bootstrap=True, max_depth=4, max_features=3, min_samples_leaf=3, min_samples_split=12, n_estimators=10 \n",
            "[CV]  bootstrap=True, max_depth=4, max_features=3, min_samples_leaf=3, min_samples_split=12, n_estimators=10, score=0.886, total=   0.9s\n",
            "[CV] bootstrap=True, max_depth=4, max_features=3, min_samples_leaf=3, min_samples_split=12, n_estimators=10 \n",
            "[CV]  bootstrap=True, max_depth=4, max_features=3, min_samples_leaf=3, min_samples_split=12, n_estimators=10, score=0.881, total=   0.9s\n",
            "[CV] bootstrap=True, max_depth=4, max_features=3, min_samples_leaf=3, min_samples_split=12, n_estimators=10 \n",
            "[CV]  bootstrap=True, max_depth=4, max_features=3, min_samples_leaf=3, min_samples_split=12, n_estimators=10, score=0.875, total=   0.9s\n",
            "[CV] bootstrap=True, max_depth=4, max_features=3, min_samples_leaf=3, min_samples_split=12, n_estimators=10 \n",
            "[CV]  bootstrap=True, max_depth=4, max_features=3, min_samples_leaf=3, min_samples_split=12, n_estimators=10, score=0.876, total=   0.9s\n",
            "[CV] bootstrap=True, max_depth=4, max_features=3, min_samples_leaf=3, min_samples_split=12, n_estimators=10 \n",
            "[CV]  bootstrap=True, max_depth=4, max_features=3, min_samples_leaf=3, min_samples_split=12, n_estimators=10, score=0.882, total=   0.9s\n",
            "[CV] bootstrap=True, max_depth=4, max_features=3, min_samples_leaf=3, min_samples_split=12, n_estimators=20 \n",
            "[CV]  bootstrap=True, max_depth=4, max_features=3, min_samples_leaf=3, min_samples_split=12, n_estimators=20, score=0.874, total=   1.6s\n",
            "[CV] bootstrap=True, max_depth=4, max_features=3, min_samples_leaf=3, min_samples_split=12, n_estimators=20 \n",
            "[CV]  bootstrap=True, max_depth=4, max_features=3, min_samples_leaf=3, min_samples_split=12, n_estimators=20, score=0.882, total=   1.5s\n",
            "[CV] bootstrap=True, max_depth=4, max_features=3, min_samples_leaf=3, min_samples_split=12, n_estimators=20 \n",
            "[CV]  bootstrap=True, max_depth=4, max_features=3, min_samples_leaf=3, min_samples_split=12, n_estimators=20, score=0.876, total=   1.7s\n",
            "[CV] bootstrap=True, max_depth=4, max_features=3, min_samples_leaf=3, min_samples_split=12, n_estimators=20 \n",
            "[CV]  bootstrap=True, max_depth=4, max_features=3, min_samples_leaf=3, min_samples_split=12, n_estimators=20, score=0.880, total=   1.8s\n",
            "[CV] bootstrap=True, max_depth=4, max_features=3, min_samples_leaf=3, min_samples_split=12, n_estimators=20 \n",
            "[CV]  bootstrap=True, max_depth=4, max_features=3, min_samples_leaf=3, min_samples_split=12, n_estimators=20, score=0.877, total=   1.7s\n",
            "[CV] bootstrap=True, max_depth=4, max_features=3, min_samples_leaf=3, min_samples_split=12, n_estimators=30 \n",
            "[CV]  bootstrap=True, max_depth=4, max_features=3, min_samples_leaf=3, min_samples_split=12, n_estimators=30, score=0.877, total=   2.4s\n",
            "[CV] bootstrap=True, max_depth=4, max_features=3, min_samples_leaf=3, min_samples_split=12, n_estimators=30 \n",
            "[CV]  bootstrap=True, max_depth=4, max_features=3, min_samples_leaf=3, min_samples_split=12, n_estimators=30, score=0.872, total=   2.2s\n",
            "[CV] bootstrap=True, max_depth=4, max_features=3, min_samples_leaf=3, min_samples_split=12, n_estimators=30 \n",
            "[CV]  bootstrap=True, max_depth=4, max_features=3, min_samples_leaf=3, min_samples_split=12, n_estimators=30, score=0.872, total=   2.3s\n",
            "[CV] bootstrap=True, max_depth=4, max_features=3, min_samples_leaf=3, min_samples_split=12, n_estimators=30 \n",
            "[CV]  bootstrap=True, max_depth=4, max_features=3, min_samples_leaf=3, min_samples_split=12, n_estimators=30, score=0.872, total=   2.3s\n",
            "[CV] bootstrap=True, max_depth=4, max_features=3, min_samples_leaf=3, min_samples_split=12, n_estimators=30 \n",
            "[CV]  bootstrap=True, max_depth=4, max_features=3, min_samples_leaf=3, min_samples_split=12, n_estimators=30, score=0.879, total=   2.4s\n",
            "[CV] bootstrap=True, max_depth=4, max_features=3, min_samples_leaf=5, min_samples_split=8, n_estimators=10 \n",
            "[CV]  bootstrap=True, max_depth=4, max_features=3, min_samples_leaf=5, min_samples_split=8, n_estimators=10, score=0.872, total=   0.9s\n",
            "[CV] bootstrap=True, max_depth=4, max_features=3, min_samples_leaf=5, min_samples_split=8, n_estimators=10 \n",
            "[CV]  bootstrap=True, max_depth=4, max_features=3, min_samples_leaf=5, min_samples_split=8, n_estimators=10, score=0.880, total=   0.9s\n",
            "[CV] bootstrap=True, max_depth=4, max_features=3, min_samples_leaf=5, min_samples_split=8, n_estimators=10 \n",
            "[CV]  bootstrap=True, max_depth=4, max_features=3, min_samples_leaf=5, min_samples_split=8, n_estimators=10, score=0.873, total=   0.9s\n",
            "[CV] bootstrap=True, max_depth=4, max_features=3, min_samples_leaf=5, min_samples_split=8, n_estimators=10 \n",
            "[CV]  bootstrap=True, max_depth=4, max_features=3, min_samples_leaf=5, min_samples_split=8, n_estimators=10, score=0.880, total=   0.9s\n",
            "[CV] bootstrap=True, max_depth=4, max_features=3, min_samples_leaf=5, min_samples_split=8, n_estimators=10 \n",
            "[CV]  bootstrap=True, max_depth=4, max_features=3, min_samples_leaf=5, min_samples_split=8, n_estimators=10, score=0.918, total=   0.9s\n",
            "[CV] bootstrap=True, max_depth=4, max_features=3, min_samples_leaf=5, min_samples_split=8, n_estimators=20 \n",
            "[CV]  bootstrap=True, max_depth=4, max_features=3, min_samples_leaf=5, min_samples_split=8, n_estimators=20, score=0.875, total=   1.6s\n",
            "[CV] bootstrap=True, max_depth=4, max_features=3, min_samples_leaf=5, min_samples_split=8, n_estimators=20 \n",
            "[CV]  bootstrap=True, max_depth=4, max_features=3, min_samples_leaf=5, min_samples_split=8, n_estimators=20, score=0.873, total=   1.7s\n",
            "[CV] bootstrap=True, max_depth=4, max_features=3, min_samples_leaf=5, min_samples_split=8, n_estimators=20 \n",
            "[CV]  bootstrap=True, max_depth=4, max_features=3, min_samples_leaf=5, min_samples_split=8, n_estimators=20, score=0.874, total=   1.7s\n",
            "[CV] bootstrap=True, max_depth=4, max_features=3, min_samples_leaf=5, min_samples_split=8, n_estimators=20 \n",
            "[CV]  bootstrap=True, max_depth=4, max_features=3, min_samples_leaf=5, min_samples_split=8, n_estimators=20, score=0.878, total=   1.9s\n",
            "[CV] bootstrap=True, max_depth=4, max_features=3, min_samples_leaf=5, min_samples_split=8, n_estimators=20 \n",
            "[CV]  bootstrap=True, max_depth=4, max_features=3, min_samples_leaf=5, min_samples_split=8, n_estimators=20, score=0.878, total=   1.6s\n",
            "[CV] bootstrap=True, max_depth=4, max_features=3, min_samples_leaf=5, min_samples_split=8, n_estimators=30 \n",
            "[CV]  bootstrap=True, max_depth=4, max_features=3, min_samples_leaf=5, min_samples_split=8, n_estimators=30, score=0.875, total=   2.3s\n",
            "[CV] bootstrap=True, max_depth=4, max_features=3, min_samples_leaf=5, min_samples_split=8, n_estimators=30 \n",
            "[CV]  bootstrap=True, max_depth=4, max_features=3, min_samples_leaf=5, min_samples_split=8, n_estimators=30, score=0.872, total=   2.3s\n",
            "[CV] bootstrap=True, max_depth=4, max_features=3, min_samples_leaf=5, min_samples_split=8, n_estimators=30 \n",
            "[CV]  bootstrap=True, max_depth=4, max_features=3, min_samples_leaf=5, min_samples_split=8, n_estimators=30, score=0.874, total=   2.2s\n",
            "[CV] bootstrap=True, max_depth=4, max_features=3, min_samples_leaf=5, min_samples_split=8, n_estimators=30 \n",
            "[CV]  bootstrap=True, max_depth=4, max_features=3, min_samples_leaf=5, min_samples_split=8, n_estimators=30, score=0.874, total=   2.2s\n",
            "[CV] bootstrap=True, max_depth=4, max_features=3, min_samples_leaf=5, min_samples_split=8, n_estimators=30 \n",
            "[CV]  bootstrap=True, max_depth=4, max_features=3, min_samples_leaf=5, min_samples_split=8, n_estimators=30, score=0.875, total=   2.2s\n",
            "[CV] bootstrap=True, max_depth=4, max_features=3, min_samples_leaf=5, min_samples_split=12, n_estimators=10 \n",
            "[CV]  bootstrap=True, max_depth=4, max_features=3, min_samples_leaf=5, min_samples_split=12, n_estimators=10, score=0.876, total=   0.9s\n",
            "[CV] bootstrap=True, max_depth=4, max_features=3, min_samples_leaf=5, min_samples_split=12, n_estimators=10 \n",
            "[CV]  bootstrap=True, max_depth=4, max_features=3, min_samples_leaf=5, min_samples_split=12, n_estimators=10, score=0.872, total=   0.8s\n",
            "[CV] bootstrap=True, max_depth=4, max_features=3, min_samples_leaf=5, min_samples_split=12, n_estimators=10 \n",
            "[CV]  bootstrap=True, max_depth=4, max_features=3, min_samples_leaf=5, min_samples_split=12, n_estimators=10, score=0.876, total=   0.9s\n",
            "[CV] bootstrap=True, max_depth=4, max_features=3, min_samples_leaf=5, min_samples_split=12, n_estimators=10 \n",
            "[CV]  bootstrap=True, max_depth=4, max_features=3, min_samples_leaf=5, min_samples_split=12, n_estimators=10, score=0.879, total=   1.0s\n",
            "[CV] bootstrap=True, max_depth=4, max_features=3, min_samples_leaf=5, min_samples_split=12, n_estimators=10 \n",
            "[CV]  bootstrap=True, max_depth=4, max_features=3, min_samples_leaf=5, min_samples_split=12, n_estimators=10, score=0.883, total=   0.9s\n",
            "[CV] bootstrap=True, max_depth=4, max_features=3, min_samples_leaf=5, min_samples_split=12, n_estimators=20 \n",
            "[CV]  bootstrap=True, max_depth=4, max_features=3, min_samples_leaf=5, min_samples_split=12, n_estimators=20, score=0.876, total=   1.7s\n",
            "[CV] bootstrap=True, max_depth=4, max_features=3, min_samples_leaf=5, min_samples_split=12, n_estimators=20 \n",
            "[CV]  bootstrap=True, max_depth=4, max_features=3, min_samples_leaf=5, min_samples_split=12, n_estimators=20, score=0.883, total=   1.6s\n",
            "[CV] bootstrap=True, max_depth=4, max_features=3, min_samples_leaf=5, min_samples_split=12, n_estimators=20 \n",
            "[CV]  bootstrap=True, max_depth=4, max_features=3, min_samples_leaf=5, min_samples_split=12, n_estimators=20, score=0.874, total=   1.6s\n",
            "[CV] bootstrap=True, max_depth=4, max_features=3, min_samples_leaf=5, min_samples_split=12, n_estimators=20 \n",
            "[CV]  bootstrap=True, max_depth=4, max_features=3, min_samples_leaf=5, min_samples_split=12, n_estimators=20, score=0.877, total=   1.6s\n",
            "[CV] bootstrap=True, max_depth=4, max_features=3, min_samples_leaf=5, min_samples_split=12, n_estimators=20 \n",
            "[CV]  bootstrap=True, max_depth=4, max_features=3, min_samples_leaf=5, min_samples_split=12, n_estimators=20, score=0.875, total=   1.6s\n",
            "[CV] bootstrap=True, max_depth=4, max_features=3, min_samples_leaf=5, min_samples_split=12, n_estimators=30 \n",
            "[CV]  bootstrap=True, max_depth=4, max_features=3, min_samples_leaf=5, min_samples_split=12, n_estimators=30, score=0.879, total=   2.3s\n",
            "[CV] bootstrap=True, max_depth=4, max_features=3, min_samples_leaf=5, min_samples_split=12, n_estimators=30 \n",
            "[CV]  bootstrap=True, max_depth=4, max_features=3, min_samples_leaf=5, min_samples_split=12, n_estimators=30, score=0.879, total=   2.3s\n",
            "[CV] bootstrap=True, max_depth=4, max_features=3, min_samples_leaf=5, min_samples_split=12, n_estimators=30 \n",
            "[CV]  bootstrap=True, max_depth=4, max_features=3, min_samples_leaf=5, min_samples_split=12, n_estimators=30, score=0.873, total=   2.3s\n",
            "[CV] bootstrap=True, max_depth=4, max_features=3, min_samples_leaf=5, min_samples_split=12, n_estimators=30 \n",
            "[CV]  bootstrap=True, max_depth=4, max_features=3, min_samples_leaf=5, min_samples_split=12, n_estimators=30, score=0.877, total=   2.5s\n",
            "[CV] bootstrap=True, max_depth=4, max_features=3, min_samples_leaf=5, min_samples_split=12, n_estimators=30 \n",
            "[CV]  bootstrap=True, max_depth=4, max_features=3, min_samples_leaf=5, min_samples_split=12, n_estimators=30, score=0.875, total=   2.4s\n",
            "[CV] bootstrap=True, max_depth=4, max_features=3, min_samples_leaf=8, min_samples_split=8, n_estimators=10 \n",
            "[CV]  bootstrap=True, max_depth=4, max_features=3, min_samples_leaf=8, min_samples_split=8, n_estimators=10, score=0.875, total=   0.9s\n",
            "[CV] bootstrap=True, max_depth=4, max_features=3, min_samples_leaf=8, min_samples_split=8, n_estimators=10 \n",
            "[CV]  bootstrap=True, max_depth=4, max_features=3, min_samples_leaf=8, min_samples_split=8, n_estimators=10, score=0.899, total=   0.9s\n",
            "[CV] bootstrap=True, max_depth=4, max_features=3, min_samples_leaf=8, min_samples_split=8, n_estimators=10 \n",
            "[CV]  bootstrap=True, max_depth=4, max_features=3, min_samples_leaf=8, min_samples_split=8, n_estimators=10, score=0.879, total=   0.9s\n",
            "[CV] bootstrap=True, max_depth=4, max_features=3, min_samples_leaf=8, min_samples_split=8, n_estimators=10 \n",
            "[CV]  bootstrap=True, max_depth=4, max_features=3, min_samples_leaf=8, min_samples_split=8, n_estimators=10, score=0.903, total=   0.9s\n",
            "[CV] bootstrap=True, max_depth=4, max_features=3, min_samples_leaf=8, min_samples_split=8, n_estimators=10 \n",
            "[CV]  bootstrap=True, max_depth=4, max_features=3, min_samples_leaf=8, min_samples_split=8, n_estimators=10, score=0.882, total=   0.9s\n",
            "[CV] bootstrap=True, max_depth=4, max_features=3, min_samples_leaf=8, min_samples_split=8, n_estimators=20 \n",
            "[CV]  bootstrap=True, max_depth=4, max_features=3, min_samples_leaf=8, min_samples_split=8, n_estimators=20, score=0.894, total=   1.8s\n",
            "[CV] bootstrap=True, max_depth=4, max_features=3, min_samples_leaf=8, min_samples_split=8, n_estimators=20 \n",
            "[CV]  bootstrap=True, max_depth=4, max_features=3, min_samples_leaf=8, min_samples_split=8, n_estimators=20, score=0.899, total=   1.6s\n",
            "[CV] bootstrap=True, max_depth=4, max_features=3, min_samples_leaf=8, min_samples_split=8, n_estimators=20 \n",
            "[CV]  bootstrap=True, max_depth=4, max_features=3, min_samples_leaf=8, min_samples_split=8, n_estimators=20, score=0.873, total=   1.7s\n",
            "[CV] bootstrap=True, max_depth=4, max_features=3, min_samples_leaf=8, min_samples_split=8, n_estimators=20 \n",
            "[CV]  bootstrap=True, max_depth=4, max_features=3, min_samples_leaf=8, min_samples_split=8, n_estimators=20, score=0.875, total=   1.6s\n",
            "[CV] bootstrap=True, max_depth=4, max_features=3, min_samples_leaf=8, min_samples_split=8, n_estimators=20 \n",
            "[CV]  bootstrap=True, max_depth=4, max_features=3, min_samples_leaf=8, min_samples_split=8, n_estimators=20, score=0.881, total=   1.7s\n",
            "[CV] bootstrap=True, max_depth=4, max_features=3, min_samples_leaf=8, min_samples_split=8, n_estimators=30 \n",
            "[CV]  bootstrap=True, max_depth=4, max_features=3, min_samples_leaf=8, min_samples_split=8, n_estimators=30, score=0.884, total=   2.4s\n",
            "[CV] bootstrap=True, max_depth=4, max_features=3, min_samples_leaf=8, min_samples_split=8, n_estimators=30 \n",
            "[CV]  bootstrap=True, max_depth=4, max_features=3, min_samples_leaf=8, min_samples_split=8, n_estimators=30, score=0.879, total=   2.3s\n",
            "[CV] bootstrap=True, max_depth=4, max_features=3, min_samples_leaf=8, min_samples_split=8, n_estimators=30 \n",
            "[CV]  bootstrap=True, max_depth=4, max_features=3, min_samples_leaf=8, min_samples_split=8, n_estimators=30, score=0.873, total=   2.2s\n",
            "[CV] bootstrap=True, max_depth=4, max_features=3, min_samples_leaf=8, min_samples_split=8, n_estimators=30 \n",
            "[CV]  bootstrap=True, max_depth=4, max_features=3, min_samples_leaf=8, min_samples_split=8, n_estimators=30, score=0.887, total=   2.3s\n",
            "[CV] bootstrap=True, max_depth=4, max_features=3, min_samples_leaf=8, min_samples_split=8, n_estimators=30 \n",
            "[CV]  bootstrap=True, max_depth=4, max_features=3, min_samples_leaf=8, min_samples_split=8, n_estimators=30, score=0.875, total=   2.4s\n",
            "[CV] bootstrap=True, max_depth=4, max_features=3, min_samples_leaf=8, min_samples_split=12, n_estimators=10 \n",
            "[CV]  bootstrap=True, max_depth=4, max_features=3, min_samples_leaf=8, min_samples_split=12, n_estimators=10, score=0.875, total=   0.9s\n",
            "[CV] bootstrap=True, max_depth=4, max_features=3, min_samples_leaf=8, min_samples_split=12, n_estimators=10 \n",
            "[CV]  bootstrap=True, max_depth=4, max_features=3, min_samples_leaf=8, min_samples_split=12, n_estimators=10, score=0.874, total=   0.9s\n",
            "[CV] bootstrap=True, max_depth=4, max_features=3, min_samples_leaf=8, min_samples_split=12, n_estimators=10 \n",
            "[CV]  bootstrap=True, max_depth=4, max_features=3, min_samples_leaf=8, min_samples_split=12, n_estimators=10, score=0.887, total=   0.9s\n",
            "[CV] bootstrap=True, max_depth=4, max_features=3, min_samples_leaf=8, min_samples_split=12, n_estimators=10 \n",
            "[CV]  bootstrap=True, max_depth=4, max_features=3, min_samples_leaf=8, min_samples_split=12, n_estimators=10, score=0.872, total=   1.0s\n",
            "[CV] bootstrap=True, max_depth=4, max_features=3, min_samples_leaf=8, min_samples_split=12, n_estimators=10 \n",
            "[CV]  bootstrap=True, max_depth=4, max_features=3, min_samples_leaf=8, min_samples_split=12, n_estimators=10, score=0.887, total=   0.9s\n",
            "[CV] bootstrap=True, max_depth=4, max_features=3, min_samples_leaf=8, min_samples_split=12, n_estimators=20 \n",
            "[CV]  bootstrap=True, max_depth=4, max_features=3, min_samples_leaf=8, min_samples_split=12, n_estimators=20, score=0.877, total=   1.6s\n",
            "[CV] bootstrap=True, max_depth=4, max_features=3, min_samples_leaf=8, min_samples_split=12, n_estimators=20 \n",
            "[CV]  bootstrap=True, max_depth=4, max_features=3, min_samples_leaf=8, min_samples_split=12, n_estimators=20, score=0.874, total=   1.7s\n",
            "[CV] bootstrap=True, max_depth=4, max_features=3, min_samples_leaf=8, min_samples_split=12, n_estimators=20 \n",
            "[CV]  bootstrap=True, max_depth=4, max_features=3, min_samples_leaf=8, min_samples_split=12, n_estimators=20, score=0.878, total=   1.6s\n",
            "[CV] bootstrap=True, max_depth=4, max_features=3, min_samples_leaf=8, min_samples_split=12, n_estimators=20 \n",
            "[CV]  bootstrap=True, max_depth=4, max_features=3, min_samples_leaf=8, min_samples_split=12, n_estimators=20, score=0.872, total=   1.5s\n",
            "[CV] bootstrap=True, max_depth=4, max_features=3, min_samples_leaf=8, min_samples_split=12, n_estimators=20 \n",
            "[CV]  bootstrap=True, max_depth=4, max_features=3, min_samples_leaf=8, min_samples_split=12, n_estimators=20, score=0.884, total=   1.6s\n",
            "[CV] bootstrap=True, max_depth=4, max_features=3, min_samples_leaf=8, min_samples_split=12, n_estimators=30 \n",
            "[CV]  bootstrap=True, max_depth=4, max_features=3, min_samples_leaf=8, min_samples_split=12, n_estimators=30, score=0.873, total=   2.3s\n",
            "[CV] bootstrap=True, max_depth=4, max_features=3, min_samples_leaf=8, min_samples_split=12, n_estimators=30 \n",
            "[CV]  bootstrap=True, max_depth=4, max_features=3, min_samples_leaf=8, min_samples_split=12, n_estimators=30, score=0.872, total=   2.3s\n",
            "[CV] bootstrap=True, max_depth=4, max_features=3, min_samples_leaf=8, min_samples_split=12, n_estimators=30 \n",
            "[CV]  bootstrap=True, max_depth=4, max_features=3, min_samples_leaf=8, min_samples_split=12, n_estimators=30, score=0.879, total=   2.5s\n",
            "[CV] bootstrap=True, max_depth=4, max_features=3, min_samples_leaf=8, min_samples_split=12, n_estimators=30 \n",
            "[CV]  bootstrap=True, max_depth=4, max_features=3, min_samples_leaf=8, min_samples_split=12, n_estimators=30, score=0.872, total=   2.4s\n",
            "[CV] bootstrap=True, max_depth=4, max_features=3, min_samples_leaf=8, min_samples_split=12, n_estimators=30 \n",
            "[CV]  bootstrap=True, max_depth=4, max_features=3, min_samples_leaf=8, min_samples_split=12, n_estimators=30, score=0.876, total=   2.2s\n",
            "[CV] bootstrap=True, max_depth=4, max_features=4, min_samples_leaf=3, min_samples_split=8, n_estimators=10 \n",
            "[CV]  bootstrap=True, max_depth=4, max_features=4, min_samples_leaf=3, min_samples_split=8, n_estimators=10, score=0.884, total=   1.0s\n",
            "[CV] bootstrap=True, max_depth=4, max_features=4, min_samples_leaf=3, min_samples_split=8, n_estimators=10 \n",
            "[CV]  bootstrap=True, max_depth=4, max_features=4, min_samples_leaf=3, min_samples_split=8, n_estimators=10, score=0.885, total=   1.0s\n",
            "[CV] bootstrap=True, max_depth=4, max_features=4, min_samples_leaf=3, min_samples_split=8, n_estimators=10 \n",
            "[CV]  bootstrap=True, max_depth=4, max_features=4, min_samples_leaf=3, min_samples_split=8, n_estimators=10, score=0.874, total=   0.9s\n",
            "[CV] bootstrap=True, max_depth=4, max_features=4, min_samples_leaf=3, min_samples_split=8, n_estimators=10 \n",
            "[CV]  bootstrap=True, max_depth=4, max_features=4, min_samples_leaf=3, min_samples_split=8, n_estimators=10, score=0.905, total=   1.0s\n",
            "[CV] bootstrap=True, max_depth=4, max_features=4, min_samples_leaf=3, min_samples_split=8, n_estimators=10 \n",
            "[CV]  bootstrap=True, max_depth=4, max_features=4, min_samples_leaf=3, min_samples_split=8, n_estimators=10, score=0.889, total=   1.0s\n",
            "[CV] bootstrap=True, max_depth=4, max_features=4, min_samples_leaf=3, min_samples_split=8, n_estimators=20 \n",
            "[CV]  bootstrap=True, max_depth=4, max_features=4, min_samples_leaf=3, min_samples_split=8, n_estimators=20, score=0.892, total=   1.8s\n",
            "[CV] bootstrap=True, max_depth=4, max_features=4, min_samples_leaf=3, min_samples_split=8, n_estimators=20 \n",
            "[CV]  bootstrap=True, max_depth=4, max_features=4, min_samples_leaf=3, min_samples_split=8, n_estimators=20, score=0.890, total=   1.9s\n",
            "[CV] bootstrap=True, max_depth=4, max_features=4, min_samples_leaf=3, min_samples_split=8, n_estimators=20 \n",
            "[CV]  bootstrap=True, max_depth=4, max_features=4, min_samples_leaf=3, min_samples_split=8, n_estimators=20, score=0.882, total=   1.8s\n",
            "[CV] bootstrap=True, max_depth=4, max_features=4, min_samples_leaf=3, min_samples_split=8, n_estimators=20 \n",
            "[CV]  bootstrap=True, max_depth=4, max_features=4, min_samples_leaf=3, min_samples_split=8, n_estimators=20, score=0.879, total=   1.8s\n",
            "[CV] bootstrap=True, max_depth=4, max_features=4, min_samples_leaf=3, min_samples_split=8, n_estimators=20 \n",
            "[CV]  bootstrap=True, max_depth=4, max_features=4, min_samples_leaf=3, min_samples_split=8, n_estimators=20, score=0.898, total=   1.9s\n",
            "[CV] bootstrap=True, max_depth=4, max_features=4, min_samples_leaf=3, min_samples_split=8, n_estimators=30 \n",
            "[CV]  bootstrap=True, max_depth=4, max_features=4, min_samples_leaf=3, min_samples_split=8, n_estimators=30, score=0.889, total=   2.5s\n",
            "[CV] bootstrap=True, max_depth=4, max_features=4, min_samples_leaf=3, min_samples_split=8, n_estimators=30 \n",
            "[CV]  bootstrap=True, max_depth=4, max_features=4, min_samples_leaf=3, min_samples_split=8, n_estimators=30, score=0.887, total=   2.6s\n",
            "[CV] bootstrap=True, max_depth=4, max_features=4, min_samples_leaf=3, min_samples_split=8, n_estimators=30 \n",
            "[CV]  bootstrap=True, max_depth=4, max_features=4, min_samples_leaf=3, min_samples_split=8, n_estimators=30, score=0.882, total=   2.6s\n",
            "[CV] bootstrap=True, max_depth=4, max_features=4, min_samples_leaf=3, min_samples_split=8, n_estimators=30 \n",
            "[CV]  bootstrap=True, max_depth=4, max_features=4, min_samples_leaf=3, min_samples_split=8, n_estimators=30, score=0.883, total=   2.8s\n",
            "[CV] bootstrap=True, max_depth=4, max_features=4, min_samples_leaf=3, min_samples_split=8, n_estimators=30 \n",
            "[CV]  bootstrap=True, max_depth=4, max_features=4, min_samples_leaf=3, min_samples_split=8, n_estimators=30, score=0.899, total=   2.6s\n",
            "[CV] bootstrap=True, max_depth=4, max_features=4, min_samples_leaf=3, min_samples_split=12, n_estimators=10 \n",
            "[CV]  bootstrap=True, max_depth=4, max_features=4, min_samples_leaf=3, min_samples_split=12, n_estimators=10, score=0.888, total=   1.0s\n",
            "[CV] bootstrap=True, max_depth=4, max_features=4, min_samples_leaf=3, min_samples_split=12, n_estimators=10 \n",
            "[CV]  bootstrap=True, max_depth=4, max_features=4, min_samples_leaf=3, min_samples_split=12, n_estimators=10, score=0.880, total=   1.0s\n",
            "[CV] bootstrap=True, max_depth=4, max_features=4, min_samples_leaf=3, min_samples_split=12, n_estimators=10 \n",
            "[CV]  bootstrap=True, max_depth=4, max_features=4, min_samples_leaf=3, min_samples_split=12, n_estimators=10, score=0.924, total=   1.0s\n",
            "[CV] bootstrap=True, max_depth=4, max_features=4, min_samples_leaf=3, min_samples_split=12, n_estimators=10 \n",
            "[CV]  bootstrap=True, max_depth=4, max_features=4, min_samples_leaf=3, min_samples_split=12, n_estimators=10, score=0.890, total=   1.0s\n",
            "[CV] bootstrap=True, max_depth=4, max_features=4, min_samples_leaf=3, min_samples_split=12, n_estimators=10 \n",
            "[CV]  bootstrap=True, max_depth=4, max_features=4, min_samples_leaf=3, min_samples_split=12, n_estimators=10, score=0.875, total=   1.0s\n",
            "[CV] bootstrap=True, max_depth=4, max_features=4, min_samples_leaf=3, min_samples_split=12, n_estimators=20 \n",
            "[CV]  bootstrap=True, max_depth=4, max_features=4, min_samples_leaf=3, min_samples_split=12, n_estimators=20, score=0.884, total=   1.8s\n",
            "[CV] bootstrap=True, max_depth=4, max_features=4, min_samples_leaf=3, min_samples_split=12, n_estimators=20 \n",
            "[CV]  bootstrap=True, max_depth=4, max_features=4, min_samples_leaf=3, min_samples_split=12, n_estimators=20, score=0.903, total=   1.8s\n",
            "[CV] bootstrap=True, max_depth=4, max_features=4, min_samples_leaf=3, min_samples_split=12, n_estimators=20 \n",
            "[CV]  bootstrap=True, max_depth=4, max_features=4, min_samples_leaf=3, min_samples_split=12, n_estimators=20, score=0.888, total=   1.8s\n",
            "[CV] bootstrap=True, max_depth=4, max_features=4, min_samples_leaf=3, min_samples_split=12, n_estimators=20 \n",
            "[CV]  bootstrap=True, max_depth=4, max_features=4, min_samples_leaf=3, min_samples_split=12, n_estimators=20, score=0.902, total=   1.8s\n",
            "[CV] bootstrap=True, max_depth=4, max_features=4, min_samples_leaf=3, min_samples_split=12, n_estimators=20 \n",
            "[CV]  bootstrap=True, max_depth=4, max_features=4, min_samples_leaf=3, min_samples_split=12, n_estimators=20, score=0.883, total=   1.8s\n",
            "[CV] bootstrap=True, max_depth=4, max_features=4, min_samples_leaf=3, min_samples_split=12, n_estimators=30 \n",
            "[CV]  bootstrap=True, max_depth=4, max_features=4, min_samples_leaf=3, min_samples_split=12, n_estimators=30, score=0.898, total=   2.6s\n",
            "[CV] bootstrap=True, max_depth=4, max_features=4, min_samples_leaf=3, min_samples_split=12, n_estimators=30 \n",
            "[CV]  bootstrap=True, max_depth=4, max_features=4, min_samples_leaf=3, min_samples_split=12, n_estimators=30, score=0.883, total=   2.6s\n",
            "[CV] bootstrap=True, max_depth=4, max_features=4, min_samples_leaf=3, min_samples_split=12, n_estimators=30 \n",
            "[CV]  bootstrap=True, max_depth=4, max_features=4, min_samples_leaf=3, min_samples_split=12, n_estimators=30, score=0.882, total=   2.6s\n",
            "[CV] bootstrap=True, max_depth=4, max_features=4, min_samples_leaf=3, min_samples_split=12, n_estimators=30 \n",
            "[CV]  bootstrap=True, max_depth=4, max_features=4, min_samples_leaf=3, min_samples_split=12, n_estimators=30, score=0.885, total=   2.6s\n",
            "[CV] bootstrap=True, max_depth=4, max_features=4, min_samples_leaf=3, min_samples_split=12, n_estimators=30 \n",
            "[CV]  bootstrap=True, max_depth=4, max_features=4, min_samples_leaf=3, min_samples_split=12, n_estimators=30, score=0.883, total=   2.6s\n",
            "[CV] bootstrap=True, max_depth=4, max_features=4, min_samples_leaf=5, min_samples_split=8, n_estimators=10 \n",
            "[CV]  bootstrap=True, max_depth=4, max_features=4, min_samples_leaf=5, min_samples_split=8, n_estimators=10, score=0.909, total=   1.0s\n",
            "[CV] bootstrap=True, max_depth=4, max_features=4, min_samples_leaf=5, min_samples_split=8, n_estimators=10 \n",
            "[CV]  bootstrap=True, max_depth=4, max_features=4, min_samples_leaf=5, min_samples_split=8, n_estimators=10, score=0.889, total=   1.1s\n",
            "[CV] bootstrap=True, max_depth=4, max_features=4, min_samples_leaf=5, min_samples_split=8, n_estimators=10 \n",
            "[CV]  bootstrap=True, max_depth=4, max_features=4, min_samples_leaf=5, min_samples_split=8, n_estimators=10, score=0.895, total=   1.0s\n",
            "[CV] bootstrap=True, max_depth=4, max_features=4, min_samples_leaf=5, min_samples_split=8, n_estimators=10 \n",
            "[CV]  bootstrap=True, max_depth=4, max_features=4, min_samples_leaf=5, min_samples_split=8, n_estimators=10, score=0.890, total=   1.0s\n",
            "[CV] bootstrap=True, max_depth=4, max_features=4, min_samples_leaf=5, min_samples_split=8, n_estimators=10 \n",
            "[CV]  bootstrap=True, max_depth=4, max_features=4, min_samples_leaf=5, min_samples_split=8, n_estimators=10, score=0.900, total=   1.0s\n",
            "[CV] bootstrap=True, max_depth=4, max_features=4, min_samples_leaf=5, min_samples_split=8, n_estimators=20 \n",
            "[CV]  bootstrap=True, max_depth=4, max_features=4, min_samples_leaf=5, min_samples_split=8, n_estimators=20, score=0.876, total=   1.7s\n",
            "[CV] bootstrap=True, max_depth=4, max_features=4, min_samples_leaf=5, min_samples_split=8, n_estimators=20 \n",
            "[CV]  bootstrap=True, max_depth=4, max_features=4, min_samples_leaf=5, min_samples_split=8, n_estimators=20, score=0.875, total=   1.7s\n",
            "[CV] bootstrap=True, max_depth=4, max_features=4, min_samples_leaf=5, min_samples_split=8, n_estimators=20 \n",
            "[CV]  bootstrap=True, max_depth=4, max_features=4, min_samples_leaf=5, min_samples_split=8, n_estimators=20, score=0.880, total=   1.7s\n",
            "[CV] bootstrap=True, max_depth=4, max_features=4, min_samples_leaf=5, min_samples_split=8, n_estimators=20 \n",
            "[CV]  bootstrap=True, max_depth=4, max_features=4, min_samples_leaf=5, min_samples_split=8, n_estimators=20, score=0.881, total=   1.9s\n",
            "[CV] bootstrap=True, max_depth=4, max_features=4, min_samples_leaf=5, min_samples_split=8, n_estimators=20 \n",
            "[CV]  bootstrap=True, max_depth=4, max_features=4, min_samples_leaf=5, min_samples_split=8, n_estimators=20, score=0.884, total=   2.0s\n",
            "[CV] bootstrap=True, max_depth=4, max_features=4, min_samples_leaf=5, min_samples_split=8, n_estimators=30 \n",
            "[CV]  bootstrap=True, max_depth=4, max_features=4, min_samples_leaf=5, min_samples_split=8, n_estimators=30, score=0.896, total=   2.6s\n",
            "[CV] bootstrap=True, max_depth=4, max_features=4, min_samples_leaf=5, min_samples_split=8, n_estimators=30 \n",
            "[CV]  bootstrap=True, max_depth=4, max_features=4, min_samples_leaf=5, min_samples_split=8, n_estimators=30, score=0.893, total=   2.7s\n",
            "[CV] bootstrap=True, max_depth=4, max_features=4, min_samples_leaf=5, min_samples_split=8, n_estimators=30 \n",
            "[CV]  bootstrap=True, max_depth=4, max_features=4, min_samples_leaf=5, min_samples_split=8, n_estimators=30, score=0.893, total=   2.6s\n",
            "[CV] bootstrap=True, max_depth=4, max_features=4, min_samples_leaf=5, min_samples_split=8, n_estimators=30 \n",
            "[CV]  bootstrap=True, max_depth=4, max_features=4, min_samples_leaf=5, min_samples_split=8, n_estimators=30, score=0.876, total=   2.6s\n",
            "[CV] bootstrap=True, max_depth=4, max_features=4, min_samples_leaf=5, min_samples_split=8, n_estimators=30 \n",
            "[CV]  bootstrap=True, max_depth=4, max_features=4, min_samples_leaf=5, min_samples_split=8, n_estimators=30, score=0.882, total=   2.7s\n",
            "[CV] bootstrap=True, max_depth=4, max_features=4, min_samples_leaf=5, min_samples_split=12, n_estimators=10 \n",
            "[CV]  bootstrap=True, max_depth=4, max_features=4, min_samples_leaf=5, min_samples_split=12, n_estimators=10, score=0.900, total=   1.0s\n",
            "[CV] bootstrap=True, max_depth=4, max_features=4, min_samples_leaf=5, min_samples_split=12, n_estimators=10 \n",
            "[CV]  bootstrap=True, max_depth=4, max_features=4, min_samples_leaf=5, min_samples_split=12, n_estimators=10, score=0.890, total=   1.1s\n",
            "[CV] bootstrap=True, max_depth=4, max_features=4, min_samples_leaf=5, min_samples_split=12, n_estimators=10 \n",
            "[CV]  bootstrap=True, max_depth=4, max_features=4, min_samples_leaf=5, min_samples_split=12, n_estimators=10, score=0.897, total=   1.1s\n",
            "[CV] bootstrap=True, max_depth=4, max_features=4, min_samples_leaf=5, min_samples_split=12, n_estimators=10 \n",
            "[CV]  bootstrap=True, max_depth=4, max_features=4, min_samples_leaf=5, min_samples_split=12, n_estimators=10, score=0.919, total=   1.1s\n",
            "[CV] bootstrap=True, max_depth=4, max_features=4, min_samples_leaf=5, min_samples_split=12, n_estimators=10 \n",
            "[CV]  bootstrap=True, max_depth=4, max_features=4, min_samples_leaf=5, min_samples_split=12, n_estimators=10, score=0.895, total=   1.1s\n",
            "[CV] bootstrap=True, max_depth=4, max_features=4, min_samples_leaf=5, min_samples_split=12, n_estimators=20 \n",
            "[CV]  bootstrap=True, max_depth=4, max_features=4, min_samples_leaf=5, min_samples_split=12, n_estimators=20, score=0.876, total=   2.1s\n",
            "[CV] bootstrap=True, max_depth=4, max_features=4, min_samples_leaf=5, min_samples_split=12, n_estimators=20 \n",
            "[CV]  bootstrap=True, max_depth=4, max_features=4, min_samples_leaf=5, min_samples_split=12, n_estimators=20, score=0.893, total=   1.8s\n",
            "[CV] bootstrap=True, max_depth=4, max_features=4, min_samples_leaf=5, min_samples_split=12, n_estimators=20 \n",
            "[CV]  bootstrap=True, max_depth=4, max_features=4, min_samples_leaf=5, min_samples_split=12, n_estimators=20, score=0.894, total=   1.8s\n",
            "[CV] bootstrap=True, max_depth=4, max_features=4, min_samples_leaf=5, min_samples_split=12, n_estimators=20 \n",
            "[CV]  bootstrap=True, max_depth=4, max_features=4, min_samples_leaf=5, min_samples_split=12, n_estimators=20, score=0.876, total=   1.7s\n",
            "[CV] bootstrap=True, max_depth=4, max_features=4, min_samples_leaf=5, min_samples_split=12, n_estimators=20 \n",
            "[CV]  bootstrap=True, max_depth=4, max_features=4, min_samples_leaf=5, min_samples_split=12, n_estimators=20, score=0.891, total=   1.9s\n",
            "[CV] bootstrap=True, max_depth=4, max_features=4, min_samples_leaf=5, min_samples_split=12, n_estimators=30 \n",
            "[CV]  bootstrap=True, max_depth=4, max_features=4, min_samples_leaf=5, min_samples_split=12, n_estimators=30, score=0.894, total=   2.6s\n",
            "[CV] bootstrap=True, max_depth=4, max_features=4, min_samples_leaf=5, min_samples_split=12, n_estimators=30 \n",
            "[CV]  bootstrap=True, max_depth=4, max_features=4, min_samples_leaf=5, min_samples_split=12, n_estimators=30, score=0.886, total=   2.6s\n",
            "[CV] bootstrap=True, max_depth=4, max_features=4, min_samples_leaf=5, min_samples_split=12, n_estimators=30 \n",
            "[CV]  bootstrap=True, max_depth=4, max_features=4, min_samples_leaf=5, min_samples_split=12, n_estimators=30, score=0.877, total=   2.6s\n",
            "[CV] bootstrap=True, max_depth=4, max_features=4, min_samples_leaf=5, min_samples_split=12, n_estimators=30 \n",
            "[CV]  bootstrap=True, max_depth=4, max_features=4, min_samples_leaf=5, min_samples_split=12, n_estimators=30, score=0.893, total=   3.1s\n",
            "[CV] bootstrap=True, max_depth=4, max_features=4, min_samples_leaf=5, min_samples_split=12, n_estimators=30 \n",
            "[CV]  bootstrap=True, max_depth=4, max_features=4, min_samples_leaf=5, min_samples_split=12, n_estimators=30, score=0.887, total=   2.5s\n",
            "[CV] bootstrap=True, max_depth=4, max_features=4, min_samples_leaf=8, min_samples_split=8, n_estimators=10 \n",
            "[CV]  bootstrap=True, max_depth=4, max_features=4, min_samples_leaf=8, min_samples_split=8, n_estimators=10, score=0.887, total=   1.0s\n",
            "[CV] bootstrap=True, max_depth=4, max_features=4, min_samples_leaf=8, min_samples_split=8, n_estimators=10 \n",
            "[CV]  bootstrap=True, max_depth=4, max_features=4, min_samples_leaf=8, min_samples_split=8, n_estimators=10, score=0.883, total=   1.0s\n",
            "[CV] bootstrap=True, max_depth=4, max_features=4, min_samples_leaf=8, min_samples_split=8, n_estimators=10 \n",
            "[CV]  bootstrap=True, max_depth=4, max_features=4, min_samples_leaf=8, min_samples_split=8, n_estimators=10, score=0.880, total=   1.0s\n",
            "[CV] bootstrap=True, max_depth=4, max_features=4, min_samples_leaf=8, min_samples_split=8, n_estimators=10 \n",
            "[CV]  bootstrap=True, max_depth=4, max_features=4, min_samples_leaf=8, min_samples_split=8, n_estimators=10, score=0.894, total=   1.0s\n",
            "[CV] bootstrap=True, max_depth=4, max_features=4, min_samples_leaf=8, min_samples_split=8, n_estimators=10 \n",
            "[CV]  bootstrap=True, max_depth=4, max_features=4, min_samples_leaf=8, min_samples_split=8, n_estimators=10, score=0.885, total=   1.0s\n",
            "[CV] bootstrap=True, max_depth=4, max_features=4, min_samples_leaf=8, min_samples_split=8, n_estimators=20 \n",
            "[CV]  bootstrap=True, max_depth=4, max_features=4, min_samples_leaf=8, min_samples_split=8, n_estimators=20, score=0.878, total=   1.9s\n",
            "[CV] bootstrap=True, max_depth=4, max_features=4, min_samples_leaf=8, min_samples_split=8, n_estimators=20 \n",
            "[CV]  bootstrap=True, max_depth=4, max_features=4, min_samples_leaf=8, min_samples_split=8, n_estimators=20, score=0.888, total=   1.9s\n",
            "[CV] bootstrap=True, max_depth=4, max_features=4, min_samples_leaf=8, min_samples_split=8, n_estimators=20 \n",
            "[CV]  bootstrap=True, max_depth=4, max_features=4, min_samples_leaf=8, min_samples_split=8, n_estimators=20, score=0.885, total=   1.8s\n",
            "[CV] bootstrap=True, max_depth=4, max_features=4, min_samples_leaf=8, min_samples_split=8, n_estimators=20 \n",
            "[CV]  bootstrap=True, max_depth=4, max_features=4, min_samples_leaf=8, min_samples_split=8, n_estimators=20, score=0.882, total=   1.8s\n",
            "[CV] bootstrap=True, max_depth=4, max_features=4, min_samples_leaf=8, min_samples_split=8, n_estimators=20 \n",
            "[CV]  bootstrap=True, max_depth=4, max_features=4, min_samples_leaf=8, min_samples_split=8, n_estimators=20, score=0.887, total=   1.8s\n",
            "[CV] bootstrap=True, max_depth=4, max_features=4, min_samples_leaf=8, min_samples_split=8, n_estimators=30 \n",
            "[CV]  bootstrap=True, max_depth=4, max_features=4, min_samples_leaf=8, min_samples_split=8, n_estimators=30, score=0.884, total=   2.6s\n",
            "[CV] bootstrap=True, max_depth=4, max_features=4, min_samples_leaf=8, min_samples_split=8, n_estimators=30 \n",
            "[CV]  bootstrap=True, max_depth=4, max_features=4, min_samples_leaf=8, min_samples_split=8, n_estimators=30, score=0.889, total=   2.8s\n",
            "[CV] bootstrap=True, max_depth=4, max_features=4, min_samples_leaf=8, min_samples_split=8, n_estimators=30 \n",
            "[CV]  bootstrap=True, max_depth=4, max_features=4, min_samples_leaf=8, min_samples_split=8, n_estimators=30, score=0.884, total=   2.7s\n",
            "[CV] bootstrap=True, max_depth=4, max_features=4, min_samples_leaf=8, min_samples_split=8, n_estimators=30 \n",
            "[CV]  bootstrap=True, max_depth=4, max_features=4, min_samples_leaf=8, min_samples_split=8, n_estimators=30, score=0.883, total=   2.6s\n",
            "[CV] bootstrap=True, max_depth=4, max_features=4, min_samples_leaf=8, min_samples_split=8, n_estimators=30 \n",
            "[CV]  bootstrap=True, max_depth=4, max_features=4, min_samples_leaf=8, min_samples_split=8, n_estimators=30, score=0.878, total=   2.5s\n",
            "[CV] bootstrap=True, max_depth=4, max_features=4, min_samples_leaf=8, min_samples_split=12, n_estimators=10 \n",
            "[CV]  bootstrap=True, max_depth=4, max_features=4, min_samples_leaf=8, min_samples_split=12, n_estimators=10, score=0.915, total=   1.1s\n",
            "[CV] bootstrap=True, max_depth=4, max_features=4, min_samples_leaf=8, min_samples_split=12, n_estimators=10 \n",
            "[CV]  bootstrap=True, max_depth=4, max_features=4, min_samples_leaf=8, min_samples_split=12, n_estimators=10, score=0.884, total=   1.0s\n",
            "[CV] bootstrap=True, max_depth=4, max_features=4, min_samples_leaf=8, min_samples_split=12, n_estimators=10 \n",
            "[CV]  bootstrap=True, max_depth=4, max_features=4, min_samples_leaf=8, min_samples_split=12, n_estimators=10, score=0.884, total=   1.0s\n",
            "[CV] bootstrap=True, max_depth=4, max_features=4, min_samples_leaf=8, min_samples_split=12, n_estimators=10 \n",
            "[CV]  bootstrap=True, max_depth=4, max_features=4, min_samples_leaf=8, min_samples_split=12, n_estimators=10, score=0.882, total=   1.0s\n",
            "[CV] bootstrap=True, max_depth=4, max_features=4, min_samples_leaf=8, min_samples_split=12, n_estimators=10 \n",
            "[CV]  bootstrap=True, max_depth=4, max_features=4, min_samples_leaf=8, min_samples_split=12, n_estimators=10, score=0.895, total=   1.0s\n",
            "[CV] bootstrap=True, max_depth=4, max_features=4, min_samples_leaf=8, min_samples_split=12, n_estimators=20 \n",
            "[CV]  bootstrap=True, max_depth=4, max_features=4, min_samples_leaf=8, min_samples_split=12, n_estimators=20, score=0.900, total=   1.8s\n",
            "[CV] bootstrap=True, max_depth=4, max_features=4, min_samples_leaf=8, min_samples_split=12, n_estimators=20 \n",
            "[CV]  bootstrap=True, max_depth=4, max_features=4, min_samples_leaf=8, min_samples_split=12, n_estimators=20, score=0.882, total=   1.8s\n",
            "[CV] bootstrap=True, max_depth=4, max_features=4, min_samples_leaf=8, min_samples_split=12, n_estimators=20 \n",
            "[CV]  bootstrap=True, max_depth=4, max_features=4, min_samples_leaf=8, min_samples_split=12, n_estimators=20, score=0.887, total=   1.8s\n",
            "[CV] bootstrap=True, max_depth=4, max_features=4, min_samples_leaf=8, min_samples_split=12, n_estimators=20 \n",
            "[CV]  bootstrap=True, max_depth=4, max_features=4, min_samples_leaf=8, min_samples_split=12, n_estimators=20, score=0.884, total=   1.8s\n",
            "[CV] bootstrap=True, max_depth=4, max_features=4, min_samples_leaf=8, min_samples_split=12, n_estimators=20 \n",
            "[CV]  bootstrap=True, max_depth=4, max_features=4, min_samples_leaf=8, min_samples_split=12, n_estimators=20, score=0.881, total=   1.7s\n",
            "[CV] bootstrap=True, max_depth=4, max_features=4, min_samples_leaf=8, min_samples_split=12, n_estimators=30 \n",
            "[CV]  bootstrap=True, max_depth=4, max_features=4, min_samples_leaf=8, min_samples_split=12, n_estimators=30, score=0.884, total=   2.6s\n",
            "[CV] bootstrap=True, max_depth=4, max_features=4, min_samples_leaf=8, min_samples_split=12, n_estimators=30 \n",
            "[CV]  bootstrap=True, max_depth=4, max_features=4, min_samples_leaf=8, min_samples_split=12, n_estimators=30, score=0.891, total=   2.7s\n",
            "[CV] bootstrap=True, max_depth=4, max_features=4, min_samples_leaf=8, min_samples_split=12, n_estimators=30 \n",
            "[CV]  bootstrap=True, max_depth=4, max_features=4, min_samples_leaf=8, min_samples_split=12, n_estimators=30, score=0.894, total=   2.7s\n",
            "[CV] bootstrap=True, max_depth=4, max_features=4, min_samples_leaf=8, min_samples_split=12, n_estimators=30 \n",
            "[CV]  bootstrap=True, max_depth=4, max_features=4, min_samples_leaf=8, min_samples_split=12, n_estimators=30, score=0.879, total=   2.5s\n",
            "[CV] bootstrap=True, max_depth=4, max_features=4, min_samples_leaf=8, min_samples_split=12, n_estimators=30 \n",
            "[CV]  bootstrap=True, max_depth=4, max_features=4, min_samples_leaf=8, min_samples_split=12, n_estimators=30, score=0.886, total=   2.5s\n",
            "[CV] bootstrap=True, max_depth=8, max_features=2, min_samples_leaf=3, min_samples_split=8, n_estimators=10 \n",
            "[CV]  bootstrap=True, max_depth=8, max_features=2, min_samples_leaf=3, min_samples_split=8, n_estimators=10, score=0.894, total=   1.1s\n",
            "[CV] bootstrap=True, max_depth=8, max_features=2, min_samples_leaf=3, min_samples_split=8, n_estimators=10 \n",
            "[CV]  bootstrap=True, max_depth=8, max_features=2, min_samples_leaf=3, min_samples_split=8, n_estimators=10, score=0.890, total=   1.1s\n",
            "[CV] bootstrap=True, max_depth=8, max_features=2, min_samples_leaf=3, min_samples_split=8, n_estimators=10 \n",
            "[CV]  bootstrap=True, max_depth=8, max_features=2, min_samples_leaf=3, min_samples_split=8, n_estimators=10, score=0.885, total=   1.1s\n",
            "[CV] bootstrap=True, max_depth=8, max_features=2, min_samples_leaf=3, min_samples_split=8, n_estimators=10 \n",
            "[CV]  bootstrap=True, max_depth=8, max_features=2, min_samples_leaf=3, min_samples_split=8, n_estimators=10, score=0.919, total=   1.1s\n",
            "[CV] bootstrap=True, max_depth=8, max_features=2, min_samples_leaf=3, min_samples_split=8, n_estimators=10 \n",
            "[CV]  bootstrap=True, max_depth=8, max_features=2, min_samples_leaf=3, min_samples_split=8, n_estimators=10, score=0.888, total=   1.2s\n",
            "[CV] bootstrap=True, max_depth=8, max_features=2, min_samples_leaf=3, min_samples_split=8, n_estimators=20 \n",
            "[CV]  bootstrap=True, max_depth=8, max_features=2, min_samples_leaf=3, min_samples_split=8, n_estimators=20, score=0.882, total=   2.0s\n",
            "[CV] bootstrap=True, max_depth=8, max_features=2, min_samples_leaf=3, min_samples_split=8, n_estimators=20 \n",
            "[CV]  bootstrap=True, max_depth=8, max_features=2, min_samples_leaf=3, min_samples_split=8, n_estimators=20, score=0.884, total=   2.1s\n",
            "[CV] bootstrap=True, max_depth=8, max_features=2, min_samples_leaf=3, min_samples_split=8, n_estimators=20 \n",
            "[CV]  bootstrap=True, max_depth=8, max_features=2, min_samples_leaf=3, min_samples_split=8, n_estimators=20, score=0.893, total=   2.1s\n",
            "[CV] bootstrap=True, max_depth=8, max_features=2, min_samples_leaf=3, min_samples_split=8, n_estimators=20 \n",
            "[CV]  bootstrap=True, max_depth=8, max_features=2, min_samples_leaf=3, min_samples_split=8, n_estimators=20, score=0.901, total=   2.1s\n",
            "[CV] bootstrap=True, max_depth=8, max_features=2, min_samples_leaf=3, min_samples_split=8, n_estimators=20 \n",
            "[CV]  bootstrap=True, max_depth=8, max_features=2, min_samples_leaf=3, min_samples_split=8, n_estimators=20, score=0.886, total=   2.0s\n",
            "[CV] bootstrap=True, max_depth=8, max_features=2, min_samples_leaf=3, min_samples_split=8, n_estimators=30 \n",
            "[CV]  bootstrap=True, max_depth=8, max_features=2, min_samples_leaf=3, min_samples_split=8, n_estimators=30, score=0.882, total=   2.9s\n",
            "[CV] bootstrap=True, max_depth=8, max_features=2, min_samples_leaf=3, min_samples_split=8, n_estimators=30 \n",
            "[CV]  bootstrap=True, max_depth=8, max_features=2, min_samples_leaf=3, min_samples_split=8, n_estimators=30, score=0.884, total=   2.9s\n",
            "[CV] bootstrap=True, max_depth=8, max_features=2, min_samples_leaf=3, min_samples_split=8, n_estimators=30 \n",
            "[CV]  bootstrap=True, max_depth=8, max_features=2, min_samples_leaf=3, min_samples_split=8, n_estimators=30, score=0.876, total=   3.0s\n",
            "[CV] bootstrap=True, max_depth=8, max_features=2, min_samples_leaf=3, min_samples_split=8, n_estimators=30 \n",
            "[CV]  bootstrap=True, max_depth=8, max_features=2, min_samples_leaf=3, min_samples_split=8, n_estimators=30, score=0.891, total=   3.2s\n",
            "[CV] bootstrap=True, max_depth=8, max_features=2, min_samples_leaf=3, min_samples_split=8, n_estimators=30 \n",
            "[CV]  bootstrap=True, max_depth=8, max_features=2, min_samples_leaf=3, min_samples_split=8, n_estimators=30, score=0.893, total=   2.9s\n",
            "[CV] bootstrap=True, max_depth=8, max_features=2, min_samples_leaf=3, min_samples_split=12, n_estimators=10 \n",
            "[CV]  bootstrap=True, max_depth=8, max_features=2, min_samples_leaf=3, min_samples_split=12, n_estimators=10, score=0.890, total=   1.2s\n",
            "[CV] bootstrap=True, max_depth=8, max_features=2, min_samples_leaf=3, min_samples_split=12, n_estimators=10 \n",
            "[CV]  bootstrap=True, max_depth=8, max_features=2, min_samples_leaf=3, min_samples_split=12, n_estimators=10, score=0.881, total=   1.2s\n",
            "[CV] bootstrap=True, max_depth=8, max_features=2, min_samples_leaf=3, min_samples_split=12, n_estimators=10 \n",
            "[CV]  bootstrap=True, max_depth=8, max_features=2, min_samples_leaf=3, min_samples_split=12, n_estimators=10, score=0.898, total=   1.2s\n",
            "[CV] bootstrap=True, max_depth=8, max_features=2, min_samples_leaf=3, min_samples_split=12, n_estimators=10 \n",
            "[CV]  bootstrap=True, max_depth=8, max_features=2, min_samples_leaf=3, min_samples_split=12, n_estimators=10, score=0.883, total=   1.3s\n",
            "[CV] bootstrap=True, max_depth=8, max_features=2, min_samples_leaf=3, min_samples_split=12, n_estimators=10 \n",
            "[CV]  bootstrap=True, max_depth=8, max_features=2, min_samples_leaf=3, min_samples_split=12, n_estimators=10, score=0.891, total=   1.1s\n",
            "[CV] bootstrap=True, max_depth=8, max_features=2, min_samples_leaf=3, min_samples_split=12, n_estimators=20 \n",
            "[CV]  bootstrap=True, max_depth=8, max_features=2, min_samples_leaf=3, min_samples_split=12, n_estimators=20, score=0.882, total=   2.1s\n",
            "[CV] bootstrap=True, max_depth=8, max_features=2, min_samples_leaf=3, min_samples_split=12, n_estimators=20 \n",
            "[CV]  bootstrap=True, max_depth=8, max_features=2, min_samples_leaf=3, min_samples_split=12, n_estimators=20, score=0.883, total=   2.0s\n",
            "[CV] bootstrap=True, max_depth=8, max_features=2, min_samples_leaf=3, min_samples_split=12, n_estimators=20 \n",
            "[CV]  bootstrap=True, max_depth=8, max_features=2, min_samples_leaf=3, min_samples_split=12, n_estimators=20, score=0.878, total=   2.0s\n",
            "[CV] bootstrap=True, max_depth=8, max_features=2, min_samples_leaf=3, min_samples_split=12, n_estimators=20 \n",
            "[CV]  bootstrap=True, max_depth=8, max_features=2, min_samples_leaf=3, min_samples_split=12, n_estimators=20, score=0.911, total=   2.1s\n",
            "[CV] bootstrap=True, max_depth=8, max_features=2, min_samples_leaf=3, min_samples_split=12, n_estimators=20 \n",
            "[CV]  bootstrap=True, max_depth=8, max_features=2, min_samples_leaf=3, min_samples_split=12, n_estimators=20, score=0.880, total=   2.1s\n",
            "[CV] bootstrap=True, max_depth=8, max_features=2, min_samples_leaf=3, min_samples_split=12, n_estimators=30 \n",
            "[CV]  bootstrap=True, max_depth=8, max_features=2, min_samples_leaf=3, min_samples_split=12, n_estimators=30, score=0.900, total=   3.0s\n",
            "[CV] bootstrap=True, max_depth=8, max_features=2, min_samples_leaf=3, min_samples_split=12, n_estimators=30 \n",
            "[CV]  bootstrap=True, max_depth=8, max_features=2, min_samples_leaf=3, min_samples_split=12, n_estimators=30, score=0.884, total=   3.0s\n",
            "[CV] bootstrap=True, max_depth=8, max_features=2, min_samples_leaf=3, min_samples_split=12, n_estimators=30 \n",
            "[CV]  bootstrap=True, max_depth=8, max_features=2, min_samples_leaf=3, min_samples_split=12, n_estimators=30, score=0.890, total=   3.0s\n",
            "[CV] bootstrap=True, max_depth=8, max_features=2, min_samples_leaf=3, min_samples_split=12, n_estimators=30 \n",
            "[CV]  bootstrap=True, max_depth=8, max_features=2, min_samples_leaf=3, min_samples_split=12, n_estimators=30, score=0.882, total=   2.9s\n",
            "[CV] bootstrap=True, max_depth=8, max_features=2, min_samples_leaf=3, min_samples_split=12, n_estimators=30 \n",
            "[CV]  bootstrap=True, max_depth=8, max_features=2, min_samples_leaf=3, min_samples_split=12, n_estimators=30, score=0.885, total=   2.8s\n",
            "[CV] bootstrap=True, max_depth=8, max_features=2, min_samples_leaf=5, min_samples_split=8, n_estimators=10 \n",
            "[CV]  bootstrap=True, max_depth=8, max_features=2, min_samples_leaf=5, min_samples_split=8, n_estimators=10, score=0.911, total=   1.3s\n",
            "[CV] bootstrap=True, max_depth=8, max_features=2, min_samples_leaf=5, min_samples_split=8, n_estimators=10 \n",
            "[CV]  bootstrap=True, max_depth=8, max_features=2, min_samples_leaf=5, min_samples_split=8, n_estimators=10, score=0.917, total=   1.2s\n",
            "[CV] bootstrap=True, max_depth=8, max_features=2, min_samples_leaf=5, min_samples_split=8, n_estimators=10 \n",
            "[CV]  bootstrap=True, max_depth=8, max_features=2, min_samples_leaf=5, min_samples_split=8, n_estimators=10, score=0.884, total=   1.1s\n",
            "[CV] bootstrap=True, max_depth=8, max_features=2, min_samples_leaf=5, min_samples_split=8, n_estimators=10 \n",
            "[CV]  bootstrap=True, max_depth=8, max_features=2, min_samples_leaf=5, min_samples_split=8, n_estimators=10, score=0.885, total=   1.1s\n",
            "[CV] bootstrap=True, max_depth=8, max_features=2, min_samples_leaf=5, min_samples_split=8, n_estimators=10 \n",
            "[CV]  bootstrap=True, max_depth=8, max_features=2, min_samples_leaf=5, min_samples_split=8, n_estimators=10, score=0.885, total=   1.2s\n",
            "[CV] bootstrap=True, max_depth=8, max_features=2, min_samples_leaf=5, min_samples_split=8, n_estimators=20 \n",
            "[CV]  bootstrap=True, max_depth=8, max_features=2, min_samples_leaf=5, min_samples_split=8, n_estimators=20, score=0.886, total=   2.0s\n",
            "[CV] bootstrap=True, max_depth=8, max_features=2, min_samples_leaf=5, min_samples_split=8, n_estimators=20 \n",
            "[CV]  bootstrap=True, max_depth=8, max_features=2, min_samples_leaf=5, min_samples_split=8, n_estimators=20, score=0.900, total=   2.2s\n",
            "[CV] bootstrap=True, max_depth=8, max_features=2, min_samples_leaf=5, min_samples_split=8, n_estimators=20 \n",
            "[CV]  bootstrap=True, max_depth=8, max_features=2, min_samples_leaf=5, min_samples_split=8, n_estimators=20, score=0.889, total=   2.1s\n",
            "[CV] bootstrap=True, max_depth=8, max_features=2, min_samples_leaf=5, min_samples_split=8, n_estimators=20 \n",
            "[CV]  bootstrap=True, max_depth=8, max_features=2, min_samples_leaf=5, min_samples_split=8, n_estimators=20, score=0.917, total=   2.0s\n",
            "[CV] bootstrap=True, max_depth=8, max_features=2, min_samples_leaf=5, min_samples_split=8, n_estimators=20 \n",
            "[CV]  bootstrap=True, max_depth=8, max_features=2, min_samples_leaf=5, min_samples_split=8, n_estimators=20, score=0.884, total=   2.0s\n",
            "[CV] bootstrap=True, max_depth=8, max_features=2, min_samples_leaf=5, min_samples_split=8, n_estimators=30 \n",
            "[CV]  bootstrap=True, max_depth=8, max_features=2, min_samples_leaf=5, min_samples_split=8, n_estimators=30, score=0.887, total=   2.8s\n",
            "[CV] bootstrap=True, max_depth=8, max_features=2, min_samples_leaf=5, min_samples_split=8, n_estimators=30 \n",
            "[CV]  bootstrap=True, max_depth=8, max_features=2, min_samples_leaf=5, min_samples_split=8, n_estimators=30, score=0.893, total=   3.0s\n",
            "[CV] bootstrap=True, max_depth=8, max_features=2, min_samples_leaf=5, min_samples_split=8, n_estimators=30 \n",
            "[CV]  bootstrap=True, max_depth=8, max_features=2, min_samples_leaf=5, min_samples_split=8, n_estimators=30, score=0.885, total=   3.0s\n",
            "[CV] bootstrap=True, max_depth=8, max_features=2, min_samples_leaf=5, min_samples_split=8, n_estimators=30 \n",
            "[CV]  bootstrap=True, max_depth=8, max_features=2, min_samples_leaf=5, min_samples_split=8, n_estimators=30, score=0.877, total=   3.0s\n",
            "[CV] bootstrap=True, max_depth=8, max_features=2, min_samples_leaf=5, min_samples_split=8, n_estimators=30 \n",
            "[CV]  bootstrap=True, max_depth=8, max_features=2, min_samples_leaf=5, min_samples_split=8, n_estimators=30, score=0.891, total=   3.1s\n",
            "[CV] bootstrap=True, max_depth=8, max_features=2, min_samples_leaf=5, min_samples_split=12, n_estimators=10 \n",
            "[CV]  bootstrap=True, max_depth=8, max_features=2, min_samples_leaf=5, min_samples_split=12, n_estimators=10, score=0.909, total=   1.1s\n",
            "[CV] bootstrap=True, max_depth=8, max_features=2, min_samples_leaf=5, min_samples_split=12, n_estimators=10 \n",
            "[CV]  bootstrap=True, max_depth=8, max_features=2, min_samples_leaf=5, min_samples_split=12, n_estimators=10, score=0.891, total=   1.1s\n",
            "[CV] bootstrap=True, max_depth=8, max_features=2, min_samples_leaf=5, min_samples_split=12, n_estimators=10 \n",
            "[CV]  bootstrap=True, max_depth=8, max_features=2, min_samples_leaf=5, min_samples_split=12, n_estimators=10, score=0.882, total=   1.1s\n",
            "[CV] bootstrap=True, max_depth=8, max_features=2, min_samples_leaf=5, min_samples_split=12, n_estimators=10 \n",
            "[CV]  bootstrap=True, max_depth=8, max_features=2, min_samples_leaf=5, min_samples_split=12, n_estimators=10, score=0.902, total=   1.1s\n",
            "[CV] bootstrap=True, max_depth=8, max_features=2, min_samples_leaf=5, min_samples_split=12, n_estimators=10 \n",
            "[CV]  bootstrap=True, max_depth=8, max_features=2, min_samples_leaf=5, min_samples_split=12, n_estimators=10, score=0.905, total=   1.2s\n",
            "[CV] bootstrap=True, max_depth=8, max_features=2, min_samples_leaf=5, min_samples_split=12, n_estimators=20 \n",
            "[CV]  bootstrap=True, max_depth=8, max_features=2, min_samples_leaf=5, min_samples_split=12, n_estimators=20, score=0.883, total=   2.0s\n",
            "[CV] bootstrap=True, max_depth=8, max_features=2, min_samples_leaf=5, min_samples_split=12, n_estimators=20 \n",
            "[CV]  bootstrap=True, max_depth=8, max_features=2, min_samples_leaf=5, min_samples_split=12, n_estimators=20, score=0.894, total=   2.0s\n",
            "[CV] bootstrap=True, max_depth=8, max_features=2, min_samples_leaf=5, min_samples_split=12, n_estimators=20 \n",
            "[CV]  bootstrap=True, max_depth=8, max_features=2, min_samples_leaf=5, min_samples_split=12, n_estimators=20, score=0.885, total=   2.0s\n",
            "[CV] bootstrap=True, max_depth=8, max_features=2, min_samples_leaf=5, min_samples_split=12, n_estimators=20 \n",
            "[CV]  bootstrap=True, max_depth=8, max_features=2, min_samples_leaf=5, min_samples_split=12, n_estimators=20, score=0.881, total=   2.0s\n",
            "[CV] bootstrap=True, max_depth=8, max_features=2, min_samples_leaf=5, min_samples_split=12, n_estimators=20 \n",
            "[CV]  bootstrap=True, max_depth=8, max_features=2, min_samples_leaf=5, min_samples_split=12, n_estimators=20, score=0.916, total=   2.2s\n",
            "[CV] bootstrap=True, max_depth=8, max_features=2, min_samples_leaf=5, min_samples_split=12, n_estimators=30 \n",
            "[CV]  bootstrap=True, max_depth=8, max_features=2, min_samples_leaf=5, min_samples_split=12, n_estimators=30, score=0.889, total=   3.1s\n",
            "[CV] bootstrap=True, max_depth=8, max_features=2, min_samples_leaf=5, min_samples_split=12, n_estimators=30 \n",
            "[CV]  bootstrap=True, max_depth=8, max_features=2, min_samples_leaf=5, min_samples_split=12, n_estimators=30, score=0.887, total=   3.0s\n",
            "[CV] bootstrap=True, max_depth=8, max_features=2, min_samples_leaf=5, min_samples_split=12, n_estimators=30 \n",
            "[CV]  bootstrap=True, max_depth=8, max_features=2, min_samples_leaf=5, min_samples_split=12, n_estimators=30, score=0.886, total=   3.0s\n",
            "[CV] bootstrap=True, max_depth=8, max_features=2, min_samples_leaf=5, min_samples_split=12, n_estimators=30 \n",
            "[CV]  bootstrap=True, max_depth=8, max_features=2, min_samples_leaf=5, min_samples_split=12, n_estimators=30, score=0.891, total=   2.9s\n",
            "[CV] bootstrap=True, max_depth=8, max_features=2, min_samples_leaf=5, min_samples_split=12, n_estimators=30 \n",
            "[CV]  bootstrap=True, max_depth=8, max_features=2, min_samples_leaf=5, min_samples_split=12, n_estimators=30, score=0.882, total=   3.1s\n",
            "[CV] bootstrap=True, max_depth=8, max_features=2, min_samples_leaf=8, min_samples_split=8, n_estimators=10 \n",
            "[CV]  bootstrap=True, max_depth=8, max_features=2, min_samples_leaf=8, min_samples_split=8, n_estimators=10, score=0.877, total=   1.1s\n",
            "[CV] bootstrap=True, max_depth=8, max_features=2, min_samples_leaf=8, min_samples_split=8, n_estimators=10 \n",
            "[CV]  bootstrap=True, max_depth=8, max_features=2, min_samples_leaf=8, min_samples_split=8, n_estimators=10, score=0.893, total=   1.1s\n",
            "[CV] bootstrap=True, max_depth=8, max_features=2, min_samples_leaf=8, min_samples_split=8, n_estimators=10 \n",
            "[CV]  bootstrap=True, max_depth=8, max_features=2, min_samples_leaf=8, min_samples_split=8, n_estimators=10, score=0.884, total=   1.1s\n",
            "[CV] bootstrap=True, max_depth=8, max_features=2, min_samples_leaf=8, min_samples_split=8, n_estimators=10 \n",
            "[CV]  bootstrap=True, max_depth=8, max_features=2, min_samples_leaf=8, min_samples_split=8, n_estimators=10, score=0.876, total=   1.2s\n",
            "[CV] bootstrap=True, max_depth=8, max_features=2, min_samples_leaf=8, min_samples_split=8, n_estimators=10 \n",
            "[CV]  bootstrap=True, max_depth=8, max_features=2, min_samples_leaf=8, min_samples_split=8, n_estimators=10, score=0.892, total=   1.2s\n",
            "[CV] bootstrap=True, max_depth=8, max_features=2, min_samples_leaf=8, min_samples_split=8, n_estimators=20 \n",
            "[CV]  bootstrap=True, max_depth=8, max_features=2, min_samples_leaf=8, min_samples_split=8, n_estimators=20, score=0.889, total=   2.2s\n",
            "[CV] bootstrap=True, max_depth=8, max_features=2, min_samples_leaf=8, min_samples_split=8, n_estimators=20 \n",
            "[CV]  bootstrap=True, max_depth=8, max_features=2, min_samples_leaf=8, min_samples_split=8, n_estimators=20, score=0.905, total=   2.1s\n",
            "[CV] bootstrap=True, max_depth=8, max_features=2, min_samples_leaf=8, min_samples_split=8, n_estimators=20 \n",
            "[CV]  bootstrap=True, max_depth=8, max_features=2, min_samples_leaf=8, min_samples_split=8, n_estimators=20, score=0.894, total=   2.1s\n",
            "[CV] bootstrap=True, max_depth=8, max_features=2, min_samples_leaf=8, min_samples_split=8, n_estimators=20 \n",
            "[CV]  bootstrap=True, max_depth=8, max_features=2, min_samples_leaf=8, min_samples_split=8, n_estimators=20, score=0.898, total=   2.1s\n",
            "[CV] bootstrap=True, max_depth=8, max_features=2, min_samples_leaf=8, min_samples_split=8, n_estimators=20 \n",
            "[CV]  bootstrap=True, max_depth=8, max_features=2, min_samples_leaf=8, min_samples_split=8, n_estimators=20, score=0.889, total=   2.0s\n",
            "[CV] bootstrap=True, max_depth=8, max_features=2, min_samples_leaf=8, min_samples_split=8, n_estimators=30 \n",
            "[CV]  bootstrap=True, max_depth=8, max_features=2, min_samples_leaf=8, min_samples_split=8, n_estimators=30, score=0.884, total=   2.9s\n",
            "[CV] bootstrap=True, max_depth=8, max_features=2, min_samples_leaf=8, min_samples_split=8, n_estimators=30 \n",
            "[CV]  bootstrap=True, max_depth=8, max_features=2, min_samples_leaf=8, min_samples_split=8, n_estimators=30, score=0.880, total=   3.0s\n",
            "[CV] bootstrap=True, max_depth=8, max_features=2, min_samples_leaf=8, min_samples_split=8, n_estimators=30 \n",
            "[CV]  bootstrap=True, max_depth=8, max_features=2, min_samples_leaf=8, min_samples_split=8, n_estimators=30, score=0.881, total=   3.0s\n",
            "[CV] bootstrap=True, max_depth=8, max_features=2, min_samples_leaf=8, min_samples_split=8, n_estimators=30 \n",
            "[CV]  bootstrap=True, max_depth=8, max_features=2, min_samples_leaf=8, min_samples_split=8, n_estimators=30, score=0.895, total=   3.0s\n",
            "[CV] bootstrap=True, max_depth=8, max_features=2, min_samples_leaf=8, min_samples_split=8, n_estimators=30 \n",
            "[CV]  bootstrap=True, max_depth=8, max_features=2, min_samples_leaf=8, min_samples_split=8, n_estimators=30, score=0.885, total=   2.9s\n",
            "[CV] bootstrap=True, max_depth=8, max_features=2, min_samples_leaf=8, min_samples_split=12, n_estimators=10 \n",
            "[CV]  bootstrap=True, max_depth=8, max_features=2, min_samples_leaf=8, min_samples_split=12, n_estimators=10, score=0.911, total=   1.2s\n",
            "[CV] bootstrap=True, max_depth=8, max_features=2, min_samples_leaf=8, min_samples_split=12, n_estimators=10 \n",
            "[CV]  bootstrap=True, max_depth=8, max_features=2, min_samples_leaf=8, min_samples_split=12, n_estimators=10, score=0.891, total=   1.1s\n",
            "[CV] bootstrap=True, max_depth=8, max_features=2, min_samples_leaf=8, min_samples_split=12, n_estimators=10 \n",
            "[CV]  bootstrap=True, max_depth=8, max_features=2, min_samples_leaf=8, min_samples_split=12, n_estimators=10, score=0.894, total=   1.1s\n",
            "[CV] bootstrap=True, max_depth=8, max_features=2, min_samples_leaf=8, min_samples_split=12, n_estimators=10 \n",
            "[CV]  bootstrap=True, max_depth=8, max_features=2, min_samples_leaf=8, min_samples_split=12, n_estimators=10, score=0.902, total=   1.1s\n",
            "[CV] bootstrap=True, max_depth=8, max_features=2, min_samples_leaf=8, min_samples_split=12, n_estimators=10 \n",
            "[CV]  bootstrap=True, max_depth=8, max_features=2, min_samples_leaf=8, min_samples_split=12, n_estimators=10, score=0.882, total=   1.1s\n",
            "[CV] bootstrap=True, max_depth=8, max_features=2, min_samples_leaf=8, min_samples_split=12, n_estimators=20 \n",
            "[CV]  bootstrap=True, max_depth=8, max_features=2, min_samples_leaf=8, min_samples_split=12, n_estimators=20, score=0.893, total=   2.0s\n",
            "[CV] bootstrap=True, max_depth=8, max_features=2, min_samples_leaf=8, min_samples_split=12, n_estimators=20 \n",
            "[CV]  bootstrap=True, max_depth=8, max_features=2, min_samples_leaf=8, min_samples_split=12, n_estimators=20, score=0.882, total=   1.9s\n",
            "[CV] bootstrap=True, max_depth=8, max_features=2, min_samples_leaf=8, min_samples_split=12, n_estimators=20 \n",
            "[CV]  bootstrap=True, max_depth=8, max_features=2, min_samples_leaf=8, min_samples_split=12, n_estimators=20, score=0.879, total=   2.3s\n",
            "[CV] bootstrap=True, max_depth=8, max_features=2, min_samples_leaf=8, min_samples_split=12, n_estimators=20 \n",
            "[CV]  bootstrap=True, max_depth=8, max_features=2, min_samples_leaf=8, min_samples_split=12, n_estimators=20, score=0.897, total=   2.0s\n",
            "[CV] bootstrap=True, max_depth=8, max_features=2, min_samples_leaf=8, min_samples_split=12, n_estimators=20 \n",
            "[CV]  bootstrap=True, max_depth=8, max_features=2, min_samples_leaf=8, min_samples_split=12, n_estimators=20, score=0.889, total=   2.0s\n",
            "[CV] bootstrap=True, max_depth=8, max_features=2, min_samples_leaf=8, min_samples_split=12, n_estimators=30 \n",
            "[CV]  bootstrap=True, max_depth=8, max_features=2, min_samples_leaf=8, min_samples_split=12, n_estimators=30, score=0.897, total=   3.0s\n",
            "[CV] bootstrap=True, max_depth=8, max_features=2, min_samples_leaf=8, min_samples_split=12, n_estimators=30 \n",
            "[CV]  bootstrap=True, max_depth=8, max_features=2, min_samples_leaf=8, min_samples_split=12, n_estimators=30, score=0.885, total=   3.0s\n",
            "[CV] bootstrap=True, max_depth=8, max_features=2, min_samples_leaf=8, min_samples_split=12, n_estimators=30 \n",
            "[CV]  bootstrap=True, max_depth=8, max_features=2, min_samples_leaf=8, min_samples_split=12, n_estimators=30, score=0.895, total=   3.0s\n",
            "[CV] bootstrap=True, max_depth=8, max_features=2, min_samples_leaf=8, min_samples_split=12, n_estimators=30 \n",
            "[CV]  bootstrap=True, max_depth=8, max_features=2, min_samples_leaf=8, min_samples_split=12, n_estimators=30, score=0.893, total=   2.9s\n",
            "[CV] bootstrap=True, max_depth=8, max_features=2, min_samples_leaf=8, min_samples_split=12, n_estimators=30 \n",
            "[CV]  bootstrap=True, max_depth=8, max_features=2, min_samples_leaf=8, min_samples_split=12, n_estimators=30, score=0.885, total=   2.9s\n",
            "[CV] bootstrap=True, max_depth=8, max_features=3, min_samples_leaf=3, min_samples_split=8, n_estimators=10 \n",
            "[CV]  bootstrap=True, max_depth=8, max_features=3, min_samples_leaf=3, min_samples_split=8, n_estimators=10, score=0.937, total=   1.4s\n",
            "[CV] bootstrap=True, max_depth=8, max_features=3, min_samples_leaf=3, min_samples_split=8, n_estimators=10 \n",
            "[CV]  bootstrap=True, max_depth=8, max_features=3, min_samples_leaf=3, min_samples_split=8, n_estimators=10, score=0.895, total=   1.4s\n",
            "[CV] bootstrap=True, max_depth=8, max_features=3, min_samples_leaf=3, min_samples_split=8, n_estimators=10 \n",
            "[CV]  bootstrap=True, max_depth=8, max_features=3, min_samples_leaf=3, min_samples_split=8, n_estimators=10, score=0.908, total=   1.5s\n",
            "[CV] bootstrap=True, max_depth=8, max_features=3, min_samples_leaf=3, min_samples_split=8, n_estimators=10 \n",
            "[CV]  bootstrap=True, max_depth=8, max_features=3, min_samples_leaf=3, min_samples_split=8, n_estimators=10, score=0.950, total=   1.4s\n",
            "[CV] bootstrap=True, max_depth=8, max_features=3, min_samples_leaf=3, min_samples_split=8, n_estimators=10 \n",
            "[CV]  bootstrap=True, max_depth=8, max_features=3, min_samples_leaf=3, min_samples_split=8, n_estimators=10, score=0.930, total=   1.4s\n",
            "[CV] bootstrap=True, max_depth=8, max_features=3, min_samples_leaf=3, min_samples_split=8, n_estimators=20 \n",
            "[CV]  bootstrap=True, max_depth=8, max_features=3, min_samples_leaf=3, min_samples_split=8, n_estimators=20, score=0.921, total=   2.6s\n",
            "[CV] bootstrap=True, max_depth=8, max_features=3, min_samples_leaf=3, min_samples_split=8, n_estimators=20 \n",
            "[CV]  bootstrap=True, max_depth=8, max_features=3, min_samples_leaf=3, min_samples_split=8, n_estimators=20, score=0.903, total=   2.5s\n",
            "[CV] bootstrap=True, max_depth=8, max_features=3, min_samples_leaf=3, min_samples_split=8, n_estimators=20 \n",
            "[CV]  bootstrap=True, max_depth=8, max_features=3, min_samples_leaf=3, min_samples_split=8, n_estimators=20, score=0.912, total=   2.4s\n",
            "[CV] bootstrap=True, max_depth=8, max_features=3, min_samples_leaf=3, min_samples_split=8, n_estimators=20 \n",
            "[CV]  bootstrap=True, max_depth=8, max_features=3, min_samples_leaf=3, min_samples_split=8, n_estimators=20, score=0.901, total=   2.6s\n",
            "[CV] bootstrap=True, max_depth=8, max_features=3, min_samples_leaf=3, min_samples_split=8, n_estimators=20 \n",
            "[CV]  bootstrap=True, max_depth=8, max_features=3, min_samples_leaf=3, min_samples_split=8, n_estimators=20, score=0.912, total=   2.6s\n",
            "[CV] bootstrap=True, max_depth=8, max_features=3, min_samples_leaf=3, min_samples_split=8, n_estimators=30 \n",
            "[CV]  bootstrap=True, max_depth=8, max_features=3, min_samples_leaf=3, min_samples_split=8, n_estimators=30, score=0.920, total=   3.9s\n",
            "[CV] bootstrap=True, max_depth=8, max_features=3, min_samples_leaf=3, min_samples_split=8, n_estimators=30 \n",
            "[CV]  bootstrap=True, max_depth=8, max_features=3, min_samples_leaf=3, min_samples_split=8, n_estimators=30, score=0.914, total=   3.7s\n",
            "[CV] bootstrap=True, max_depth=8, max_features=3, min_samples_leaf=3, min_samples_split=8, n_estimators=30 \n",
            "[CV]  bootstrap=True, max_depth=8, max_features=3, min_samples_leaf=3, min_samples_split=8, n_estimators=30, score=0.920, total=   3.6s\n",
            "[CV] bootstrap=True, max_depth=8, max_features=3, min_samples_leaf=3, min_samples_split=8, n_estimators=30 \n",
            "[CV]  bootstrap=True, max_depth=8, max_features=3, min_samples_leaf=3, min_samples_split=8, n_estimators=30, score=0.908, total=   3.8s\n",
            "[CV] bootstrap=True, max_depth=8, max_features=3, min_samples_leaf=3, min_samples_split=8, n_estimators=30 \n",
            "[CV]  bootstrap=True, max_depth=8, max_features=3, min_samples_leaf=3, min_samples_split=8, n_estimators=30, score=0.908, total=   3.8s\n",
            "[CV] bootstrap=True, max_depth=8, max_features=3, min_samples_leaf=3, min_samples_split=12, n_estimators=10 \n",
            "[CV]  bootstrap=True, max_depth=8, max_features=3, min_samples_leaf=3, min_samples_split=12, n_estimators=10, score=0.899, total=   1.3s\n",
            "[CV] bootstrap=True, max_depth=8, max_features=3, min_samples_leaf=3, min_samples_split=12, n_estimators=10 \n",
            "[CV]  bootstrap=True, max_depth=8, max_features=3, min_samples_leaf=3, min_samples_split=12, n_estimators=10, score=0.900, total=   1.4s\n",
            "[CV] bootstrap=True, max_depth=8, max_features=3, min_samples_leaf=3, min_samples_split=12, n_estimators=10 \n",
            "[CV]  bootstrap=True, max_depth=8, max_features=3, min_samples_leaf=3, min_samples_split=12, n_estimators=10, score=0.911, total=   1.4s\n",
            "[CV] bootstrap=True, max_depth=8, max_features=3, min_samples_leaf=3, min_samples_split=12, n_estimators=10 \n",
            "[CV]  bootstrap=True, max_depth=8, max_features=3, min_samples_leaf=3, min_samples_split=12, n_estimators=10, score=0.907, total=   1.4s\n",
            "[CV] bootstrap=True, max_depth=8, max_features=3, min_samples_leaf=3, min_samples_split=12, n_estimators=10 \n",
            "[CV]  bootstrap=True, max_depth=8, max_features=3, min_samples_leaf=3, min_samples_split=12, n_estimators=10, score=0.917, total=   1.3s\n",
            "[CV] bootstrap=True, max_depth=8, max_features=3, min_samples_leaf=3, min_samples_split=12, n_estimators=20 \n",
            "[CV]  bootstrap=True, max_depth=8, max_features=3, min_samples_leaf=3, min_samples_split=12, n_estimators=20, score=0.913, total=   2.5s\n",
            "[CV] bootstrap=True, max_depth=8, max_features=3, min_samples_leaf=3, min_samples_split=12, n_estimators=20 \n",
            "[CV]  bootstrap=True, max_depth=8, max_features=3, min_samples_leaf=3, min_samples_split=12, n_estimators=20, score=0.904, total=   2.5s\n",
            "[CV] bootstrap=True, max_depth=8, max_features=3, min_samples_leaf=3, min_samples_split=12, n_estimators=20 \n",
            "[CV]  bootstrap=True, max_depth=8, max_features=3, min_samples_leaf=3, min_samples_split=12, n_estimators=20, score=0.928, total=   2.5s\n",
            "[CV] bootstrap=True, max_depth=8, max_features=3, min_samples_leaf=3, min_samples_split=12, n_estimators=20 \n",
            "[CV]  bootstrap=True, max_depth=8, max_features=3, min_samples_leaf=3, min_samples_split=12, n_estimators=20, score=0.908, total=   2.5s\n",
            "[CV] bootstrap=True, max_depth=8, max_features=3, min_samples_leaf=3, min_samples_split=12, n_estimators=20 \n",
            "[CV]  bootstrap=True, max_depth=8, max_features=3, min_samples_leaf=3, min_samples_split=12, n_estimators=20, score=0.895, total=   2.5s\n",
            "[CV] bootstrap=True, max_depth=8, max_features=3, min_samples_leaf=3, min_samples_split=12, n_estimators=30 \n",
            "[CV]  bootstrap=True, max_depth=8, max_features=3, min_samples_leaf=3, min_samples_split=12, n_estimators=30, score=0.911, total=   3.6s\n",
            "[CV] bootstrap=True, max_depth=8, max_features=3, min_samples_leaf=3, min_samples_split=12, n_estimators=30 \n",
            "[CV]  bootstrap=True, max_depth=8, max_features=3, min_samples_leaf=3, min_samples_split=12, n_estimators=30, score=0.922, total=   3.8s\n",
            "[CV] bootstrap=True, max_depth=8, max_features=3, min_samples_leaf=3, min_samples_split=12, n_estimators=30 \n",
            "[CV]  bootstrap=True, max_depth=8, max_features=3, min_samples_leaf=3, min_samples_split=12, n_estimators=30, score=0.906, total=   3.7s\n",
            "[CV] bootstrap=True, max_depth=8, max_features=3, min_samples_leaf=3, min_samples_split=12, n_estimators=30 \n",
            "[CV]  bootstrap=True, max_depth=8, max_features=3, min_samples_leaf=3, min_samples_split=12, n_estimators=30, score=0.898, total=   3.5s\n",
            "[CV] bootstrap=True, max_depth=8, max_features=3, min_samples_leaf=3, min_samples_split=12, n_estimators=30 \n",
            "[CV]  bootstrap=True, max_depth=8, max_features=3, min_samples_leaf=3, min_samples_split=12, n_estimators=30, score=0.913, total=   3.6s\n",
            "[CV] bootstrap=True, max_depth=8, max_features=3, min_samples_leaf=5, min_samples_split=8, n_estimators=10 \n",
            "[CV]  bootstrap=True, max_depth=8, max_features=3, min_samples_leaf=5, min_samples_split=8, n_estimators=10, score=0.929, total=   1.4s\n",
            "[CV] bootstrap=True, max_depth=8, max_features=3, min_samples_leaf=5, min_samples_split=8, n_estimators=10 \n",
            "[CV]  bootstrap=True, max_depth=8, max_features=3, min_samples_leaf=5, min_samples_split=8, n_estimators=10, score=0.946, total=   1.3s\n",
            "[CV] bootstrap=True, max_depth=8, max_features=3, min_samples_leaf=5, min_samples_split=8, n_estimators=10 \n",
            "[CV]  bootstrap=True, max_depth=8, max_features=3, min_samples_leaf=5, min_samples_split=8, n_estimators=10, score=0.917, total=   1.4s\n",
            "[CV] bootstrap=True, max_depth=8, max_features=3, min_samples_leaf=5, min_samples_split=8, n_estimators=10 \n",
            "[CV]  bootstrap=True, max_depth=8, max_features=3, min_samples_leaf=5, min_samples_split=8, n_estimators=10, score=0.901, total=   1.4s\n",
            "[CV] bootstrap=True, max_depth=8, max_features=3, min_samples_leaf=5, min_samples_split=8, n_estimators=10 \n",
            "[CV]  bootstrap=True, max_depth=8, max_features=3, min_samples_leaf=5, min_samples_split=8, n_estimators=10, score=0.900, total=   1.4s\n",
            "[CV] bootstrap=True, max_depth=8, max_features=3, min_samples_leaf=5, min_samples_split=8, n_estimators=20 \n",
            "[CV]  bootstrap=True, max_depth=8, max_features=3, min_samples_leaf=5, min_samples_split=8, n_estimators=20, score=0.934, total=   2.5s\n",
            "[CV] bootstrap=True, max_depth=8, max_features=3, min_samples_leaf=5, min_samples_split=8, n_estimators=20 \n",
            "[CV]  bootstrap=True, max_depth=8, max_features=3, min_samples_leaf=5, min_samples_split=8, n_estimators=20, score=0.935, total=   2.6s\n",
            "[CV] bootstrap=True, max_depth=8, max_features=3, min_samples_leaf=5, min_samples_split=8, n_estimators=20 \n",
            "[CV]  bootstrap=True, max_depth=8, max_features=3, min_samples_leaf=5, min_samples_split=8, n_estimators=20, score=0.921, total=   2.5s\n",
            "[CV] bootstrap=True, max_depth=8, max_features=3, min_samples_leaf=5, min_samples_split=8, n_estimators=20 \n",
            "[CV]  bootstrap=True, max_depth=8, max_features=3, min_samples_leaf=5, min_samples_split=8, n_estimators=20, score=0.898, total=   2.4s\n",
            "[CV] bootstrap=True, max_depth=8, max_features=3, min_samples_leaf=5, min_samples_split=8, n_estimators=20 \n",
            "[CV]  bootstrap=True, max_depth=8, max_features=3, min_samples_leaf=5, min_samples_split=8, n_estimators=20, score=0.906, total=   2.6s\n",
            "[CV] bootstrap=True, max_depth=8, max_features=3, min_samples_leaf=5, min_samples_split=8, n_estimators=30 \n",
            "[CV]  bootstrap=True, max_depth=8, max_features=3, min_samples_leaf=5, min_samples_split=8, n_estimators=30, score=0.910, total=   3.6s\n",
            "[CV] bootstrap=True, max_depth=8, max_features=3, min_samples_leaf=5, min_samples_split=8, n_estimators=30 \n",
            "[CV]  bootstrap=True, max_depth=8, max_features=3, min_samples_leaf=5, min_samples_split=8, n_estimators=30, score=0.923, total=   3.6s\n",
            "[CV] bootstrap=True, max_depth=8, max_features=3, min_samples_leaf=5, min_samples_split=8, n_estimators=30 \n",
            "[CV]  bootstrap=True, max_depth=8, max_features=3, min_samples_leaf=5, min_samples_split=8, n_estimators=30, score=0.913, total=   3.8s\n",
            "[CV] bootstrap=True, max_depth=8, max_features=3, min_samples_leaf=5, min_samples_split=8, n_estimators=30 \n",
            "[CV]  bootstrap=True, max_depth=8, max_features=3, min_samples_leaf=5, min_samples_split=8, n_estimators=30, score=0.918, total=   3.6s\n",
            "[CV] bootstrap=True, max_depth=8, max_features=3, min_samples_leaf=5, min_samples_split=8, n_estimators=30 \n",
            "[CV]  bootstrap=True, max_depth=8, max_features=3, min_samples_leaf=5, min_samples_split=8, n_estimators=30, score=0.911, total=   3.5s\n",
            "[CV] bootstrap=True, max_depth=8, max_features=3, min_samples_leaf=5, min_samples_split=12, n_estimators=10 \n",
            "[CV]  bootstrap=True, max_depth=8, max_features=3, min_samples_leaf=5, min_samples_split=12, n_estimators=10, score=0.910, total=   1.3s\n",
            "[CV] bootstrap=True, max_depth=8, max_features=3, min_samples_leaf=5, min_samples_split=12, n_estimators=10 \n",
            "[CV]  bootstrap=True, max_depth=8, max_features=3, min_samples_leaf=5, min_samples_split=12, n_estimators=10, score=0.917, total=   1.4s\n",
            "[CV] bootstrap=True, max_depth=8, max_features=3, min_samples_leaf=5, min_samples_split=12, n_estimators=10 \n",
            "[CV]  bootstrap=True, max_depth=8, max_features=3, min_samples_leaf=5, min_samples_split=12, n_estimators=10, score=0.916, total=   1.4s\n",
            "[CV] bootstrap=True, max_depth=8, max_features=3, min_samples_leaf=5, min_samples_split=12, n_estimators=10 \n",
            "[CV]  bootstrap=True, max_depth=8, max_features=3, min_samples_leaf=5, min_samples_split=12, n_estimators=10, score=0.931, total=   1.4s\n",
            "[CV] bootstrap=True, max_depth=8, max_features=3, min_samples_leaf=5, min_samples_split=12, n_estimators=10 \n",
            "[CV]  bootstrap=True, max_depth=8, max_features=3, min_samples_leaf=5, min_samples_split=12, n_estimators=10, score=0.904, total=   1.3s\n",
            "[CV] bootstrap=True, max_depth=8, max_features=3, min_samples_leaf=5, min_samples_split=12, n_estimators=20 \n",
            "[CV]  bootstrap=True, max_depth=8, max_features=3, min_samples_leaf=5, min_samples_split=12, n_estimators=20, score=0.907, total=   2.6s\n",
            "[CV] bootstrap=True, max_depth=8, max_features=3, min_samples_leaf=5, min_samples_split=12, n_estimators=20 \n",
            "[CV]  bootstrap=True, max_depth=8, max_features=3, min_samples_leaf=5, min_samples_split=12, n_estimators=20, score=0.899, total=   2.6s\n",
            "[CV] bootstrap=True, max_depth=8, max_features=3, min_samples_leaf=5, min_samples_split=12, n_estimators=20 \n",
            "[CV]  bootstrap=True, max_depth=8, max_features=3, min_samples_leaf=5, min_samples_split=12, n_estimators=20, score=0.907, total=   2.6s\n",
            "[CV] bootstrap=True, max_depth=8, max_features=3, min_samples_leaf=5, min_samples_split=12, n_estimators=20 \n",
            "[CV]  bootstrap=True, max_depth=8, max_features=3, min_samples_leaf=5, min_samples_split=12, n_estimators=20, score=0.905, total=   2.3s\n",
            "[CV] bootstrap=True, max_depth=8, max_features=3, min_samples_leaf=5, min_samples_split=12, n_estimators=20 \n",
            "[CV]  bootstrap=True, max_depth=8, max_features=3, min_samples_leaf=5, min_samples_split=12, n_estimators=20, score=0.914, total=   2.3s\n",
            "[CV] bootstrap=True, max_depth=8, max_features=3, min_samples_leaf=5, min_samples_split=12, n_estimators=30 \n",
            "[CV]  bootstrap=True, max_depth=8, max_features=3, min_samples_leaf=5, min_samples_split=12, n_estimators=30, score=0.905, total=   4.5s\n",
            "[CV] bootstrap=True, max_depth=8, max_features=3, min_samples_leaf=5, min_samples_split=12, n_estimators=30 \n",
            "[CV]  bootstrap=True, max_depth=8, max_features=3, min_samples_leaf=5, min_samples_split=12, n_estimators=30, score=0.905, total=   3.8s\n",
            "[CV] bootstrap=True, max_depth=8, max_features=3, min_samples_leaf=5, min_samples_split=12, n_estimators=30 \n",
            "[CV]  bootstrap=True, max_depth=8, max_features=3, min_samples_leaf=5, min_samples_split=12, n_estimators=30, score=0.910, total=   3.5s\n",
            "[CV] bootstrap=True, max_depth=8, max_features=3, min_samples_leaf=5, min_samples_split=12, n_estimators=30 \n",
            "[CV]  bootstrap=True, max_depth=8, max_features=3, min_samples_leaf=5, min_samples_split=12, n_estimators=30, score=0.914, total=   3.5s\n",
            "[CV] bootstrap=True, max_depth=8, max_features=3, min_samples_leaf=5, min_samples_split=12, n_estimators=30 \n",
            "[CV]  bootstrap=True, max_depth=8, max_features=3, min_samples_leaf=5, min_samples_split=12, n_estimators=30, score=0.922, total=   3.6s\n",
            "[CV] bootstrap=True, max_depth=8, max_features=3, min_samples_leaf=8, min_samples_split=8, n_estimators=10 \n",
            "[CV]  bootstrap=True, max_depth=8, max_features=3, min_samples_leaf=8, min_samples_split=8, n_estimators=10, score=0.888, total=   1.3s\n",
            "[CV] bootstrap=True, max_depth=8, max_features=3, min_samples_leaf=8, min_samples_split=8, n_estimators=10 \n",
            "[CV]  bootstrap=True, max_depth=8, max_features=3, min_samples_leaf=8, min_samples_split=8, n_estimators=10, score=0.919, total=   1.3s\n",
            "[CV] bootstrap=True, max_depth=8, max_features=3, min_samples_leaf=8, min_samples_split=8, n_estimators=10 \n",
            "[CV]  bootstrap=True, max_depth=8, max_features=3, min_samples_leaf=8, min_samples_split=8, n_estimators=10, score=0.882, total=   1.3s\n",
            "[CV] bootstrap=True, max_depth=8, max_features=3, min_samples_leaf=8, min_samples_split=8, n_estimators=10 \n",
            "[CV]  bootstrap=True, max_depth=8, max_features=3, min_samples_leaf=8, min_samples_split=8, n_estimators=10, score=0.908, total=   1.3s\n",
            "[CV] bootstrap=True, max_depth=8, max_features=3, min_samples_leaf=8, min_samples_split=8, n_estimators=10 \n",
            "[CV]  bootstrap=True, max_depth=8, max_features=3, min_samples_leaf=8, min_samples_split=8, n_estimators=10, score=0.909, total=   1.3s\n",
            "[CV] bootstrap=True, max_depth=8, max_features=3, min_samples_leaf=8, min_samples_split=8, n_estimators=20 \n",
            "[CV]  bootstrap=True, max_depth=8, max_features=3, min_samples_leaf=8, min_samples_split=8, n_estimators=20, score=0.908, total=   2.5s\n",
            "[CV] bootstrap=True, max_depth=8, max_features=3, min_samples_leaf=8, min_samples_split=8, n_estimators=20 \n",
            "[CV]  bootstrap=True, max_depth=8, max_features=3, min_samples_leaf=8, min_samples_split=8, n_estimators=20, score=0.919, total=   2.5s\n",
            "[CV] bootstrap=True, max_depth=8, max_features=3, min_samples_leaf=8, min_samples_split=8, n_estimators=20 \n",
            "[CV]  bootstrap=True, max_depth=8, max_features=3, min_samples_leaf=8, min_samples_split=8, n_estimators=20, score=0.926, total=   2.6s\n",
            "[CV] bootstrap=True, max_depth=8, max_features=3, min_samples_leaf=8, min_samples_split=8, n_estimators=20 \n",
            "[CV]  bootstrap=True, max_depth=8, max_features=3, min_samples_leaf=8, min_samples_split=8, n_estimators=20, score=0.917, total=   2.4s\n",
            "[CV] bootstrap=True, max_depth=8, max_features=3, min_samples_leaf=8, min_samples_split=8, n_estimators=20 \n",
            "[CV]  bootstrap=True, max_depth=8, max_features=3, min_samples_leaf=8, min_samples_split=8, n_estimators=20, score=0.912, total=   2.4s\n",
            "[CV] bootstrap=True, max_depth=8, max_features=3, min_samples_leaf=8, min_samples_split=8, n_estimators=30 \n",
            "[CV]  bootstrap=True, max_depth=8, max_features=3, min_samples_leaf=8, min_samples_split=8, n_estimators=30, score=0.906, total=   3.5s\n",
            "[CV] bootstrap=True, max_depth=8, max_features=3, min_samples_leaf=8, min_samples_split=8, n_estimators=30 \n",
            "[CV]  bootstrap=True, max_depth=8, max_features=3, min_samples_leaf=8, min_samples_split=8, n_estimators=30, score=0.902, total=   3.6s\n",
            "[CV] bootstrap=True, max_depth=8, max_features=3, min_samples_leaf=8, min_samples_split=8, n_estimators=30 \n",
            "[CV]  bootstrap=True, max_depth=8, max_features=3, min_samples_leaf=8, min_samples_split=8, n_estimators=30, score=0.919, total=   3.6s\n",
            "[CV] bootstrap=True, max_depth=8, max_features=3, min_samples_leaf=8, min_samples_split=8, n_estimators=30 \n",
            "[CV]  bootstrap=True, max_depth=8, max_features=3, min_samples_leaf=8, min_samples_split=8, n_estimators=30, score=0.930, total=   3.7s\n",
            "[CV] bootstrap=True, max_depth=8, max_features=3, min_samples_leaf=8, min_samples_split=8, n_estimators=30 \n",
            "[CV]  bootstrap=True, max_depth=8, max_features=3, min_samples_leaf=8, min_samples_split=8, n_estimators=30, score=0.911, total=   3.6s\n",
            "[CV] bootstrap=True, max_depth=8, max_features=3, min_samples_leaf=8, min_samples_split=12, n_estimators=10 \n",
            "[CV]  bootstrap=True, max_depth=8, max_features=3, min_samples_leaf=8, min_samples_split=12, n_estimators=10, score=0.932, total=   1.3s\n",
            "[CV] bootstrap=True, max_depth=8, max_features=3, min_samples_leaf=8, min_samples_split=12, n_estimators=10 \n",
            "[CV]  bootstrap=True, max_depth=8, max_features=3, min_samples_leaf=8, min_samples_split=12, n_estimators=10, score=0.909, total=   1.3s\n",
            "[CV] bootstrap=True, max_depth=8, max_features=3, min_samples_leaf=8, min_samples_split=12, n_estimators=10 \n",
            "[CV]  bootstrap=True, max_depth=8, max_features=3, min_samples_leaf=8, min_samples_split=12, n_estimators=10, score=0.915, total=   1.3s\n",
            "[CV] bootstrap=True, max_depth=8, max_features=3, min_samples_leaf=8, min_samples_split=12, n_estimators=10 \n",
            "[CV]  bootstrap=True, max_depth=8, max_features=3, min_samples_leaf=8, min_samples_split=12, n_estimators=10, score=0.910, total=   1.3s\n",
            "[CV] bootstrap=True, max_depth=8, max_features=3, min_samples_leaf=8, min_samples_split=12, n_estimators=10 \n",
            "[CV]  bootstrap=True, max_depth=8, max_features=3, min_samples_leaf=8, min_samples_split=12, n_estimators=10, score=0.907, total=   1.3s\n",
            "[CV] bootstrap=True, max_depth=8, max_features=3, min_samples_leaf=8, min_samples_split=12, n_estimators=20 \n",
            "[CV]  bootstrap=True, max_depth=8, max_features=3, min_samples_leaf=8, min_samples_split=12, n_estimators=20, score=0.927, total=   2.6s\n",
            "[CV] bootstrap=True, max_depth=8, max_features=3, min_samples_leaf=8, min_samples_split=12, n_estimators=20 \n",
            "[CV]  bootstrap=True, max_depth=8, max_features=3, min_samples_leaf=8, min_samples_split=12, n_estimators=20, score=0.902, total=   2.5s\n",
            "[CV] bootstrap=True, max_depth=8, max_features=3, min_samples_leaf=8, min_samples_split=12, n_estimators=20 \n",
            "[CV]  bootstrap=True, max_depth=8, max_features=3, min_samples_leaf=8, min_samples_split=12, n_estimators=20, score=0.900, total=   2.4s\n",
            "[CV] bootstrap=True, max_depth=8, max_features=3, min_samples_leaf=8, min_samples_split=12, n_estimators=20 \n",
            "[CV]  bootstrap=True, max_depth=8, max_features=3, min_samples_leaf=8, min_samples_split=12, n_estimators=20, score=0.906, total=   2.4s\n",
            "[CV] bootstrap=True, max_depth=8, max_features=3, min_samples_leaf=8, min_samples_split=12, n_estimators=20 \n",
            "[CV]  bootstrap=True, max_depth=8, max_features=3, min_samples_leaf=8, min_samples_split=12, n_estimators=20, score=0.944, total=   2.5s\n",
            "[CV] bootstrap=True, max_depth=8, max_features=3, min_samples_leaf=8, min_samples_split=12, n_estimators=30 \n",
            "[CV]  bootstrap=True, max_depth=8, max_features=3, min_samples_leaf=8, min_samples_split=12, n_estimators=30, score=0.901, total=   3.6s\n",
            "[CV] bootstrap=True, max_depth=8, max_features=3, min_samples_leaf=8, min_samples_split=12, n_estimators=30 \n",
            "[CV]  bootstrap=True, max_depth=8, max_features=3, min_samples_leaf=8, min_samples_split=12, n_estimators=30, score=0.927, total=   3.6s\n",
            "[CV] bootstrap=True, max_depth=8, max_features=3, min_samples_leaf=8, min_samples_split=12, n_estimators=30 \n",
            "[CV]  bootstrap=True, max_depth=8, max_features=3, min_samples_leaf=8, min_samples_split=12, n_estimators=30, score=0.919, total=   3.4s\n",
            "[CV] bootstrap=True, max_depth=8, max_features=3, min_samples_leaf=8, min_samples_split=12, n_estimators=30 \n",
            "[CV]  bootstrap=True, max_depth=8, max_features=3, min_samples_leaf=8, min_samples_split=12, n_estimators=30, score=0.906, total=   4.0s\n",
            "[CV] bootstrap=True, max_depth=8, max_features=3, min_samples_leaf=8, min_samples_split=12, n_estimators=30 \n",
            "[CV]  bootstrap=True, max_depth=8, max_features=3, min_samples_leaf=8, min_samples_split=12, n_estimators=30, score=0.906, total=   3.6s\n",
            "[CV] bootstrap=True, max_depth=8, max_features=4, min_samples_leaf=3, min_samples_split=8, n_estimators=10 \n",
            "[CV]  bootstrap=True, max_depth=8, max_features=4, min_samples_leaf=3, min_samples_split=8, n_estimators=10, score=0.939, total=   1.5s\n",
            "[CV] bootstrap=True, max_depth=8, max_features=4, min_samples_leaf=3, min_samples_split=8, n_estimators=10 \n",
            "[CV]  bootstrap=True, max_depth=8, max_features=4, min_samples_leaf=3, min_samples_split=8, n_estimators=10, score=0.929, total=   1.6s\n",
            "[CV] bootstrap=True, max_depth=8, max_features=4, min_samples_leaf=3, min_samples_split=8, n_estimators=10 \n",
            "[CV]  bootstrap=True, max_depth=8, max_features=4, min_samples_leaf=3, min_samples_split=8, n_estimators=10, score=0.954, total=   1.5s\n",
            "[CV] bootstrap=True, max_depth=8, max_features=4, min_samples_leaf=3, min_samples_split=8, n_estimators=10 \n",
            "[CV]  bootstrap=True, max_depth=8, max_features=4, min_samples_leaf=3, min_samples_split=8, n_estimators=10, score=0.939, total=   1.5s\n",
            "[CV] bootstrap=True, max_depth=8, max_features=4, min_samples_leaf=3, min_samples_split=8, n_estimators=10 \n",
            "[CV]  bootstrap=True, max_depth=8, max_features=4, min_samples_leaf=3, min_samples_split=8, n_estimators=10, score=0.922, total=   1.5s\n",
            "[CV] bootstrap=True, max_depth=8, max_features=4, min_samples_leaf=3, min_samples_split=8, n_estimators=20 \n",
            "[CV]  bootstrap=True, max_depth=8, max_features=4, min_samples_leaf=3, min_samples_split=8, n_estimators=20, score=0.934, total=   2.9s\n",
            "[CV] bootstrap=True, max_depth=8, max_features=4, min_samples_leaf=3, min_samples_split=8, n_estimators=20 \n",
            "[CV]  bootstrap=True, max_depth=8, max_features=4, min_samples_leaf=3, min_samples_split=8, n_estimators=20, score=0.929, total=   2.9s\n",
            "[CV] bootstrap=True, max_depth=8, max_features=4, min_samples_leaf=3, min_samples_split=8, n_estimators=20 \n",
            "[CV]  bootstrap=True, max_depth=8, max_features=4, min_samples_leaf=3, min_samples_split=8, n_estimators=20, score=0.921, total=   3.0s\n",
            "[CV] bootstrap=True, max_depth=8, max_features=4, min_samples_leaf=3, min_samples_split=8, n_estimators=20 \n",
            "[CV]  bootstrap=True, max_depth=8, max_features=4, min_samples_leaf=3, min_samples_split=8, n_estimators=20, score=0.931, total=   2.9s\n",
            "[CV] bootstrap=True, max_depth=8, max_features=4, min_samples_leaf=3, min_samples_split=8, n_estimators=20 \n",
            "[CV]  bootstrap=True, max_depth=8, max_features=4, min_samples_leaf=3, min_samples_split=8, n_estimators=20, score=0.927, total=   2.9s\n",
            "[CV] bootstrap=True, max_depth=8, max_features=4, min_samples_leaf=3, min_samples_split=8, n_estimators=30 \n",
            "[CV]  bootstrap=True, max_depth=8, max_features=4, min_samples_leaf=3, min_samples_split=8, n_estimators=30, score=0.918, total=   4.2s\n",
            "[CV] bootstrap=True, max_depth=8, max_features=4, min_samples_leaf=3, min_samples_split=8, n_estimators=30 \n",
            "[CV]  bootstrap=True, max_depth=8, max_features=4, min_samples_leaf=3, min_samples_split=8, n_estimators=30, score=0.920, total=   4.3s\n",
            "[CV] bootstrap=True, max_depth=8, max_features=4, min_samples_leaf=3, min_samples_split=8, n_estimators=30 \n",
            "[CV]  bootstrap=True, max_depth=8, max_features=4, min_samples_leaf=3, min_samples_split=8, n_estimators=30, score=0.932, total=   4.4s\n",
            "[CV] bootstrap=True, max_depth=8, max_features=4, min_samples_leaf=3, min_samples_split=8, n_estimators=30 \n",
            "[CV]  bootstrap=True, max_depth=8, max_features=4, min_samples_leaf=3, min_samples_split=8, n_estimators=30, score=0.933, total=   4.2s\n",
            "[CV] bootstrap=True, max_depth=8, max_features=4, min_samples_leaf=3, min_samples_split=8, n_estimators=30 \n",
            "[CV]  bootstrap=True, max_depth=8, max_features=4, min_samples_leaf=3, min_samples_split=8, n_estimators=30, score=0.924, total=   4.1s\n",
            "[CV] bootstrap=True, max_depth=8, max_features=4, min_samples_leaf=3, min_samples_split=12, n_estimators=10 \n",
            "[CV]  bootstrap=True, max_depth=8, max_features=4, min_samples_leaf=3, min_samples_split=12, n_estimators=10, score=0.916, total=   1.5s\n",
            "[CV] bootstrap=True, max_depth=8, max_features=4, min_samples_leaf=3, min_samples_split=12, n_estimators=10 \n",
            "[CV]  bootstrap=True, max_depth=8, max_features=4, min_samples_leaf=3, min_samples_split=12, n_estimators=10, score=0.912, total=   1.6s\n",
            "[CV] bootstrap=True, max_depth=8, max_features=4, min_samples_leaf=3, min_samples_split=12, n_estimators=10 \n",
            "[CV]  bootstrap=True, max_depth=8, max_features=4, min_samples_leaf=3, min_samples_split=12, n_estimators=10, score=0.914, total=   1.6s\n",
            "[CV] bootstrap=True, max_depth=8, max_features=4, min_samples_leaf=3, min_samples_split=12, n_estimators=10 \n",
            "[CV]  bootstrap=True, max_depth=8, max_features=4, min_samples_leaf=3, min_samples_split=12, n_estimators=10, score=0.927, total=   1.5s\n",
            "[CV] bootstrap=True, max_depth=8, max_features=4, min_samples_leaf=3, min_samples_split=12, n_estimators=10 \n",
            "[CV]  bootstrap=True, max_depth=8, max_features=4, min_samples_leaf=3, min_samples_split=12, n_estimators=10, score=0.938, total=   1.5s\n",
            "[CV] bootstrap=True, max_depth=8, max_features=4, min_samples_leaf=3, min_samples_split=12, n_estimators=20 \n",
            "[CV]  bootstrap=True, max_depth=8, max_features=4, min_samples_leaf=3, min_samples_split=12, n_estimators=20, score=0.935, total=   2.8s\n",
            "[CV] bootstrap=True, max_depth=8, max_features=4, min_samples_leaf=3, min_samples_split=12, n_estimators=20 \n",
            "[CV]  bootstrap=True, max_depth=8, max_features=4, min_samples_leaf=3, min_samples_split=12, n_estimators=20, score=0.924, total=   2.9s\n",
            "[CV] bootstrap=True, max_depth=8, max_features=4, min_samples_leaf=3, min_samples_split=12, n_estimators=20 \n",
            "[CV]  bootstrap=True, max_depth=8, max_features=4, min_samples_leaf=3, min_samples_split=12, n_estimators=20, score=0.933, total=   3.0s\n",
            "[CV] bootstrap=True, max_depth=8, max_features=4, min_samples_leaf=3, min_samples_split=12, n_estimators=20 \n",
            "[CV]  bootstrap=True, max_depth=8, max_features=4, min_samples_leaf=3, min_samples_split=12, n_estimators=20, score=0.934, total=   2.8s\n",
            "[CV] bootstrap=True, max_depth=8, max_features=4, min_samples_leaf=3, min_samples_split=12, n_estimators=20 \n",
            "[CV]  bootstrap=True, max_depth=8, max_features=4, min_samples_leaf=3, min_samples_split=12, n_estimators=20, score=0.928, total=   2.8s\n",
            "[CV] bootstrap=True, max_depth=8, max_features=4, min_samples_leaf=3, min_samples_split=12, n_estimators=30 \n",
            "[CV]  bootstrap=True, max_depth=8, max_features=4, min_samples_leaf=3, min_samples_split=12, n_estimators=30, score=0.943, total=   4.2s\n",
            "[CV] bootstrap=True, max_depth=8, max_features=4, min_samples_leaf=3, min_samples_split=12, n_estimators=30 \n",
            "[CV]  bootstrap=True, max_depth=8, max_features=4, min_samples_leaf=3, min_samples_split=12, n_estimators=30, score=0.932, total=   4.3s\n",
            "[CV] bootstrap=True, max_depth=8, max_features=4, min_samples_leaf=3, min_samples_split=12, n_estimators=30 \n",
            "[CV]  bootstrap=True, max_depth=8, max_features=4, min_samples_leaf=3, min_samples_split=12, n_estimators=30, score=0.928, total=   4.4s\n",
            "[CV] bootstrap=True, max_depth=8, max_features=4, min_samples_leaf=3, min_samples_split=12, n_estimators=30 \n",
            "[CV]  bootstrap=True, max_depth=8, max_features=4, min_samples_leaf=3, min_samples_split=12, n_estimators=30, score=0.923, total=   4.2s\n",
            "[CV] bootstrap=True, max_depth=8, max_features=4, min_samples_leaf=3, min_samples_split=12, n_estimators=30 \n",
            "[CV]  bootstrap=True, max_depth=8, max_features=4, min_samples_leaf=3, min_samples_split=12, n_estimators=30, score=0.933, total=   4.2s\n",
            "[CV] bootstrap=True, max_depth=8, max_features=4, min_samples_leaf=5, min_samples_split=8, n_estimators=10 \n",
            "[CV]  bootstrap=True, max_depth=8, max_features=4, min_samples_leaf=5, min_samples_split=8, n_estimators=10, score=0.924, total=   1.6s\n",
            "[CV] bootstrap=True, max_depth=8, max_features=4, min_samples_leaf=5, min_samples_split=8, n_estimators=10 \n",
            "[CV]  bootstrap=True, max_depth=8, max_features=4, min_samples_leaf=5, min_samples_split=8, n_estimators=10, score=0.927, total=   1.6s\n",
            "[CV] bootstrap=True, max_depth=8, max_features=4, min_samples_leaf=5, min_samples_split=8, n_estimators=10 \n",
            "[CV]  bootstrap=True, max_depth=8, max_features=4, min_samples_leaf=5, min_samples_split=8, n_estimators=10, score=0.933, total=   1.6s\n",
            "[CV] bootstrap=True, max_depth=8, max_features=4, min_samples_leaf=5, min_samples_split=8, n_estimators=10 \n",
            "[CV]  bootstrap=True, max_depth=8, max_features=4, min_samples_leaf=5, min_samples_split=8, n_estimators=10, score=0.913, total=   1.7s\n",
            "[CV] bootstrap=True, max_depth=8, max_features=4, min_samples_leaf=5, min_samples_split=8, n_estimators=10 \n",
            "[CV]  bootstrap=True, max_depth=8, max_features=4, min_samples_leaf=5, min_samples_split=8, n_estimators=10, score=0.944, total=   1.6s\n",
            "[CV] bootstrap=True, max_depth=8, max_features=4, min_samples_leaf=5, min_samples_split=8, n_estimators=20 \n",
            "[CV]  bootstrap=True, max_depth=8, max_features=4, min_samples_leaf=5, min_samples_split=8, n_estimators=20, score=0.930, total=   3.0s\n",
            "[CV] bootstrap=True, max_depth=8, max_features=4, min_samples_leaf=5, min_samples_split=8, n_estimators=20 \n",
            "[CV]  bootstrap=True, max_depth=8, max_features=4, min_samples_leaf=5, min_samples_split=8, n_estimators=20, score=0.922, total=   3.0s\n",
            "[CV] bootstrap=True, max_depth=8, max_features=4, min_samples_leaf=5, min_samples_split=8, n_estimators=20 \n",
            "[CV]  bootstrap=True, max_depth=8, max_features=4, min_samples_leaf=5, min_samples_split=8, n_estimators=20, score=0.927, total=   2.9s\n",
            "[CV] bootstrap=True, max_depth=8, max_features=4, min_samples_leaf=5, min_samples_split=8, n_estimators=20 \n",
            "[CV]  bootstrap=True, max_depth=8, max_features=4, min_samples_leaf=5, min_samples_split=8, n_estimators=20, score=0.921, total=   3.0s\n",
            "[CV] bootstrap=True, max_depth=8, max_features=4, min_samples_leaf=5, min_samples_split=8, n_estimators=20 \n",
            "[CV]  bootstrap=True, max_depth=8, max_features=4, min_samples_leaf=5, min_samples_split=8, n_estimators=20, score=0.953, total=   2.9s\n",
            "[CV] bootstrap=True, max_depth=8, max_features=4, min_samples_leaf=5, min_samples_split=8, n_estimators=30 \n",
            "[CV]  bootstrap=True, max_depth=8, max_features=4, min_samples_leaf=5, min_samples_split=8, n_estimators=30, score=0.935, total=   4.2s\n",
            "[CV] bootstrap=True, max_depth=8, max_features=4, min_samples_leaf=5, min_samples_split=8, n_estimators=30 \n",
            "[CV]  bootstrap=True, max_depth=8, max_features=4, min_samples_leaf=5, min_samples_split=8, n_estimators=30, score=0.928, total=   4.2s\n",
            "[CV] bootstrap=True, max_depth=8, max_features=4, min_samples_leaf=5, min_samples_split=8, n_estimators=30 \n",
            "[CV]  bootstrap=True, max_depth=8, max_features=4, min_samples_leaf=5, min_samples_split=8, n_estimators=30, score=0.914, total=   4.2s\n",
            "[CV] bootstrap=True, max_depth=8, max_features=4, min_samples_leaf=5, min_samples_split=8, n_estimators=30 \n",
            "[CV]  bootstrap=True, max_depth=8, max_features=4, min_samples_leaf=5, min_samples_split=8, n_estimators=30, score=0.932, total=   4.0s\n",
            "[CV] bootstrap=True, max_depth=8, max_features=4, min_samples_leaf=5, min_samples_split=8, n_estimators=30 \n",
            "[CV]  bootstrap=True, max_depth=8, max_features=4, min_samples_leaf=5, min_samples_split=8, n_estimators=30, score=0.941, total=   4.2s\n",
            "[CV] bootstrap=True, max_depth=8, max_features=4, min_samples_leaf=5, min_samples_split=12, n_estimators=10 \n",
            "[CV]  bootstrap=True, max_depth=8, max_features=4, min_samples_leaf=5, min_samples_split=12, n_estimators=10, score=0.925, total=   1.5s\n",
            "[CV] bootstrap=True, max_depth=8, max_features=4, min_samples_leaf=5, min_samples_split=12, n_estimators=10 \n",
            "[CV]  bootstrap=True, max_depth=8, max_features=4, min_samples_leaf=5, min_samples_split=12, n_estimators=10, score=0.924, total=   1.5s\n",
            "[CV] bootstrap=True, max_depth=8, max_features=4, min_samples_leaf=5, min_samples_split=12, n_estimators=10 \n",
            "[CV]  bootstrap=True, max_depth=8, max_features=4, min_samples_leaf=5, min_samples_split=12, n_estimators=10, score=0.946, total=   1.6s\n",
            "[CV] bootstrap=True, max_depth=8, max_features=4, min_samples_leaf=5, min_samples_split=12, n_estimators=10 \n",
            "[CV]  bootstrap=True, max_depth=8, max_features=4, min_samples_leaf=5, min_samples_split=12, n_estimators=10, score=0.914, total=   1.5s\n",
            "[CV] bootstrap=True, max_depth=8, max_features=4, min_samples_leaf=5, min_samples_split=12, n_estimators=10 \n",
            "[CV]  bootstrap=True, max_depth=8, max_features=4, min_samples_leaf=5, min_samples_split=12, n_estimators=10, score=0.941, total=   1.5s\n",
            "[CV] bootstrap=True, max_depth=8, max_features=4, min_samples_leaf=5, min_samples_split=12, n_estimators=20 \n",
            "[CV]  bootstrap=True, max_depth=8, max_features=4, min_samples_leaf=5, min_samples_split=12, n_estimators=20, score=0.935, total=   3.0s\n",
            "[CV] bootstrap=True, max_depth=8, max_features=4, min_samples_leaf=5, min_samples_split=12, n_estimators=20 \n",
            "[CV]  bootstrap=True, max_depth=8, max_features=4, min_samples_leaf=5, min_samples_split=12, n_estimators=20, score=0.923, total=   2.9s\n",
            "[CV] bootstrap=True, max_depth=8, max_features=4, min_samples_leaf=5, min_samples_split=12, n_estimators=20 \n",
            "[CV]  bootstrap=True, max_depth=8, max_features=4, min_samples_leaf=5, min_samples_split=12, n_estimators=20, score=0.935, total=   2.8s\n",
            "[CV] bootstrap=True, max_depth=8, max_features=4, min_samples_leaf=5, min_samples_split=12, n_estimators=20 \n",
            "[CV]  bootstrap=True, max_depth=8, max_features=4, min_samples_leaf=5, min_samples_split=12, n_estimators=20, score=0.921, total=   2.8s\n",
            "[CV] bootstrap=True, max_depth=8, max_features=4, min_samples_leaf=5, min_samples_split=12, n_estimators=20 \n",
            "[CV]  bootstrap=True, max_depth=8, max_features=4, min_samples_leaf=5, min_samples_split=12, n_estimators=20, score=0.920, total=   3.1s\n",
            "[CV] bootstrap=True, max_depth=8, max_features=4, min_samples_leaf=5, min_samples_split=12, n_estimators=30 \n",
            "[CV]  bootstrap=True, max_depth=8, max_features=4, min_samples_leaf=5, min_samples_split=12, n_estimators=30, score=0.934, total=   4.2s\n",
            "[CV] bootstrap=True, max_depth=8, max_features=4, min_samples_leaf=5, min_samples_split=12, n_estimators=30 \n",
            "[CV]  bootstrap=True, max_depth=8, max_features=4, min_samples_leaf=5, min_samples_split=12, n_estimators=30, score=0.920, total=   4.3s\n",
            "[CV] bootstrap=True, max_depth=8, max_features=4, min_samples_leaf=5, min_samples_split=12, n_estimators=30 \n",
            "[CV]  bootstrap=True, max_depth=8, max_features=4, min_samples_leaf=5, min_samples_split=12, n_estimators=30, score=0.925, total=   4.3s\n",
            "[CV] bootstrap=True, max_depth=8, max_features=4, min_samples_leaf=5, min_samples_split=12, n_estimators=30 \n",
            "[CV]  bootstrap=True, max_depth=8, max_features=4, min_samples_leaf=5, min_samples_split=12, n_estimators=30, score=0.930, total=   4.3s\n",
            "[CV] bootstrap=True, max_depth=8, max_features=4, min_samples_leaf=5, min_samples_split=12, n_estimators=30 \n",
            "[CV]  bootstrap=True, max_depth=8, max_features=4, min_samples_leaf=5, min_samples_split=12, n_estimators=30, score=0.924, total=   4.1s\n",
            "[CV] bootstrap=True, max_depth=8, max_features=4, min_samples_leaf=8, min_samples_split=8, n_estimators=10 \n",
            "[CV]  bootstrap=True, max_depth=8, max_features=4, min_samples_leaf=8, min_samples_split=8, n_estimators=10, score=0.926, total=   1.7s\n",
            "[CV] bootstrap=True, max_depth=8, max_features=4, min_samples_leaf=8, min_samples_split=8, n_estimators=10 \n",
            "[CV]  bootstrap=True, max_depth=8, max_features=4, min_samples_leaf=8, min_samples_split=8, n_estimators=10, score=0.928, total=   1.6s\n",
            "[CV] bootstrap=True, max_depth=8, max_features=4, min_samples_leaf=8, min_samples_split=8, n_estimators=10 \n",
            "[CV]  bootstrap=True, max_depth=8, max_features=4, min_samples_leaf=8, min_samples_split=8, n_estimators=10, score=0.924, total=   1.7s\n",
            "[CV] bootstrap=True, max_depth=8, max_features=4, min_samples_leaf=8, min_samples_split=8, n_estimators=10 \n",
            "[CV]  bootstrap=True, max_depth=8, max_features=4, min_samples_leaf=8, min_samples_split=8, n_estimators=10, score=0.931, total=   1.6s\n",
            "[CV] bootstrap=True, max_depth=8, max_features=4, min_samples_leaf=8, min_samples_split=8, n_estimators=10 \n",
            "[CV]  bootstrap=True, max_depth=8, max_features=4, min_samples_leaf=8, min_samples_split=8, n_estimators=10, score=0.929, total=   1.5s\n",
            "[CV] bootstrap=True, max_depth=8, max_features=4, min_samples_leaf=8, min_samples_split=8, n_estimators=20 \n",
            "[CV]  bootstrap=True, max_depth=8, max_features=4, min_samples_leaf=8, min_samples_split=8, n_estimators=20, score=0.919, total=   2.9s\n",
            "[CV] bootstrap=True, max_depth=8, max_features=4, min_samples_leaf=8, min_samples_split=8, n_estimators=20 \n",
            "[CV]  bootstrap=True, max_depth=8, max_features=4, min_samples_leaf=8, min_samples_split=8, n_estimators=20, score=0.945, total=   2.8s\n",
            "[CV] bootstrap=True, max_depth=8, max_features=4, min_samples_leaf=8, min_samples_split=8, n_estimators=20 \n",
            "[CV]  bootstrap=True, max_depth=8, max_features=4, min_samples_leaf=8, min_samples_split=8, n_estimators=20, score=0.928, total=   3.0s\n",
            "[CV] bootstrap=True, max_depth=8, max_features=4, min_samples_leaf=8, min_samples_split=8, n_estimators=20 \n",
            "[CV]  bootstrap=True, max_depth=8, max_features=4, min_samples_leaf=8, min_samples_split=8, n_estimators=20, score=0.934, total=   2.8s\n",
            "[CV] bootstrap=True, max_depth=8, max_features=4, min_samples_leaf=8, min_samples_split=8, n_estimators=20 \n",
            "[CV]  bootstrap=True, max_depth=8, max_features=4, min_samples_leaf=8, min_samples_split=8, n_estimators=20, score=0.945, total=   3.0s\n",
            "[CV] bootstrap=True, max_depth=8, max_features=4, min_samples_leaf=8, min_samples_split=8, n_estimators=30 \n",
            "[CV]  bootstrap=True, max_depth=8, max_features=4, min_samples_leaf=8, min_samples_split=8, n_estimators=30, score=0.923, total=   4.2s\n",
            "[CV] bootstrap=True, max_depth=8, max_features=4, min_samples_leaf=8, min_samples_split=8, n_estimators=30 \n",
            "[CV]  bootstrap=True, max_depth=8, max_features=4, min_samples_leaf=8, min_samples_split=8, n_estimators=30, score=0.919, total=   4.1s\n",
            "[CV] bootstrap=True, max_depth=8, max_features=4, min_samples_leaf=8, min_samples_split=8, n_estimators=30 \n",
            "[CV]  bootstrap=True, max_depth=8, max_features=4, min_samples_leaf=8, min_samples_split=8, n_estimators=30, score=0.922, total=   4.1s\n",
            "[CV] bootstrap=True, max_depth=8, max_features=4, min_samples_leaf=8, min_samples_split=8, n_estimators=30 \n",
            "[CV]  bootstrap=True, max_depth=8, max_features=4, min_samples_leaf=8, min_samples_split=8, n_estimators=30, score=0.935, total=   4.4s\n",
            "[CV] bootstrap=True, max_depth=8, max_features=4, min_samples_leaf=8, min_samples_split=8, n_estimators=30 \n",
            "[CV]  bootstrap=True, max_depth=8, max_features=4, min_samples_leaf=8, min_samples_split=8, n_estimators=30, score=0.945, total=   4.2s\n",
            "[CV] bootstrap=True, max_depth=8, max_features=4, min_samples_leaf=8, min_samples_split=12, n_estimators=10 \n",
            "[CV]  bootstrap=True, max_depth=8, max_features=4, min_samples_leaf=8, min_samples_split=12, n_estimators=10, score=0.946, total=   1.6s\n",
            "[CV] bootstrap=True, max_depth=8, max_features=4, min_samples_leaf=8, min_samples_split=12, n_estimators=10 \n",
            "[CV]  bootstrap=True, max_depth=8, max_features=4, min_samples_leaf=8, min_samples_split=12, n_estimators=10, score=0.933, total=   1.5s\n",
            "[CV] bootstrap=True, max_depth=8, max_features=4, min_samples_leaf=8, min_samples_split=12, n_estimators=10 \n",
            "[CV]  bootstrap=True, max_depth=8, max_features=4, min_samples_leaf=8, min_samples_split=12, n_estimators=10, score=0.931, total=   1.5s\n",
            "[CV] bootstrap=True, max_depth=8, max_features=4, min_samples_leaf=8, min_samples_split=12, n_estimators=10 \n",
            "[CV]  bootstrap=True, max_depth=8, max_features=4, min_samples_leaf=8, min_samples_split=12, n_estimators=10, score=0.923, total=   1.6s\n",
            "[CV] bootstrap=True, max_depth=8, max_features=4, min_samples_leaf=8, min_samples_split=12, n_estimators=10 \n",
            "[CV]  bootstrap=True, max_depth=8, max_features=4, min_samples_leaf=8, min_samples_split=12, n_estimators=10, score=0.931, total=   1.6s\n",
            "[CV] bootstrap=True, max_depth=8, max_features=4, min_samples_leaf=8, min_samples_split=12, n_estimators=20 \n",
            "[CV]  bootstrap=True, max_depth=8, max_features=4, min_samples_leaf=8, min_samples_split=12, n_estimators=20, score=0.930, total=   3.0s\n",
            "[CV] bootstrap=True, max_depth=8, max_features=4, min_samples_leaf=8, min_samples_split=12, n_estimators=20 \n",
            "[CV]  bootstrap=True, max_depth=8, max_features=4, min_samples_leaf=8, min_samples_split=12, n_estimators=20, score=0.947, total=   2.9s\n",
            "[CV] bootstrap=True, max_depth=8, max_features=4, min_samples_leaf=8, min_samples_split=12, n_estimators=20 \n",
            "[CV]  bootstrap=True, max_depth=8, max_features=4, min_samples_leaf=8, min_samples_split=12, n_estimators=20, score=0.929, total=   2.7s\n",
            "[CV] bootstrap=True, max_depth=8, max_features=4, min_samples_leaf=8, min_samples_split=12, n_estimators=20 \n",
            "[CV]  bootstrap=True, max_depth=8, max_features=4, min_samples_leaf=8, min_samples_split=12, n_estimators=20, score=0.918, total=   3.3s\n",
            "[CV] bootstrap=True, max_depth=8, max_features=4, min_samples_leaf=8, min_samples_split=12, n_estimators=20 \n",
            "[CV]  bootstrap=True, max_depth=8, max_features=4, min_samples_leaf=8, min_samples_split=12, n_estimators=20, score=0.932, total=   2.9s\n",
            "[CV] bootstrap=True, max_depth=8, max_features=4, min_samples_leaf=8, min_samples_split=12, n_estimators=30 \n",
            "[CV]  bootstrap=True, max_depth=8, max_features=4, min_samples_leaf=8, min_samples_split=12, n_estimators=30, score=0.919, total=   4.2s\n",
            "[CV] bootstrap=True, max_depth=8, max_features=4, min_samples_leaf=8, min_samples_split=12, n_estimators=30 \n",
            "[CV]  bootstrap=True, max_depth=8, max_features=4, min_samples_leaf=8, min_samples_split=12, n_estimators=30, score=0.930, total=   4.2s\n",
            "[CV] bootstrap=True, max_depth=8, max_features=4, min_samples_leaf=8, min_samples_split=12, n_estimators=30 \n",
            "[CV]  bootstrap=True, max_depth=8, max_features=4, min_samples_leaf=8, min_samples_split=12, n_estimators=30, score=0.944, total=   4.2s\n",
            "[CV] bootstrap=True, max_depth=8, max_features=4, min_samples_leaf=8, min_samples_split=12, n_estimators=30 \n",
            "[CV]  bootstrap=True, max_depth=8, max_features=4, min_samples_leaf=8, min_samples_split=12, n_estimators=30, score=0.936, total=   4.4s\n",
            "[CV] bootstrap=True, max_depth=8, max_features=4, min_samples_leaf=8, min_samples_split=12, n_estimators=30 \n",
            "[CV]  bootstrap=True, max_depth=8, max_features=4, min_samples_leaf=8, min_samples_split=12, n_estimators=30, score=0.928, total=   4.3s\n"
          ],
          "name": "stdout"
        },
        {
          "output_type": "stream",
          "text": [
            "[Parallel(n_jobs=1)]: Done 540 out of 540 | elapsed: 18.6min finished\n"
          ],
          "name": "stderr"
        },
        {
          "output_type": "execute_result",
          "data": {
            "text/plain": [
              "GridSearchCV(cv=None, error_score=nan,\n",
              "             estimator=RandomForestClassifier(bootstrap=True, ccp_alpha=0.0,\n",
              "                                              class_weight=None,\n",
              "                                              criterion='gini', max_depth=None,\n",
              "                                              max_features='auto',\n",
              "                                              max_leaf_nodes=None,\n",
              "                                              max_samples=None,\n",
              "                                              min_impurity_decrease=0.0,\n",
              "                                              min_impurity_split=None,\n",
              "                                              min_samples_leaf=1,\n",
              "                                              min_samples_split=2,\n",
              "                                              min_weight_fraction_leaf=0.0,\n",
              "                                              n_estimators=100, n_jobs=None,\n",
              "                                              oob_score=False,\n",
              "                                              random_state=None, verbose=0,\n",
              "                                              warm_start=False),\n",
              "             iid='deprecated', n_jobs=None,\n",
              "             param_grid={'bootstrap': [True], 'max_depth': [4, 8],\n",
              "                         'max_features': [2, 3, 4],\n",
              "                         'min_samples_leaf': [3, 5, 8],\n",
              "                         'min_samples_split': [8, 12],\n",
              "                         'n_estimators': [10, 20, 30]},\n",
              "             pre_dispatch='2*n_jobs', refit=True, return_train_score=False,\n",
              "             scoring=None, verbose=3)"
            ]
          },
          "metadata": {
            "tags": []
          },
          "execution_count": 307
        }
      ]
    },
    {
      "cell_type": "code",
      "metadata": {
        "id": "dNIU-HDWzZQZ",
        "colab_type": "code",
        "outputId": "403b0505-a0ae-4733-b259-dcc89bb4e53d",
        "colab": {
          "base_uri": "https://localhost:8080/",
          "height": 168
        }
      },
      "source": [
        "# print best parameter after tuning \n",
        "print(grid.best_params_) \n",
        "  \n",
        "# print how our model looks after hyper-parameter tuning \n",
        "print(grid.best_estimator_) "
      ],
      "execution_count": 308,
      "outputs": [
        {
          "output_type": "stream",
          "text": [
            "{'bootstrap': True, 'max_depth': 8, 'max_features': 4, 'min_samples_leaf': 3, 'min_samples_split': 8, 'n_estimators': 10}\n",
            "RandomForestClassifier(bootstrap=True, ccp_alpha=0.0, class_weight=None,\n",
            "                       criterion='gini', max_depth=8, max_features=4,\n",
            "                       max_leaf_nodes=None, max_samples=None,\n",
            "                       min_impurity_decrease=0.0, min_impurity_split=None,\n",
            "                       min_samples_leaf=3, min_samples_split=8,\n",
            "                       min_weight_fraction_leaf=0.0, n_estimators=10,\n",
            "                       n_jobs=None, oob_score=False, random_state=None,\n",
            "                       verbose=0, warm_start=False)\n"
          ],
          "name": "stdout"
        }
      ]
    },
    {
      "cell_type": "markdown",
      "metadata": {
        "id": "WOZDZa-w9V0I",
        "colab_type": "text"
      },
      "source": [
        "#**RANDOMFOREST**"
      ]
    },
    {
      "cell_type": "code",
      "metadata": {
        "id": "rhdbwkdIA90E",
        "colab_type": "code",
        "outputId": "daf9e1da-80ea-4877-a7f1-5eaa743617be",
        "colab": {
          "base_uri": "https://localhost:8080/",
          "height": 151
        }
      },
      "source": [
        "rfc=RandomForestClassifier(max_depth=8,max_features=4,min_samples_leaf=3,min_samples_split=8,n_estimators=10)\n",
        "rfc.fit(X_train,y_train)"
      ],
      "execution_count": 309,
      "outputs": [
        {
          "output_type": "execute_result",
          "data": {
            "text/plain": [
              "RandomForestClassifier(bootstrap=True, ccp_alpha=0.0, class_weight=None,\n",
              "                       criterion='gini', max_depth=8, max_features=4,\n",
              "                       max_leaf_nodes=None, max_samples=None,\n",
              "                       min_impurity_decrease=0.0, min_impurity_split=None,\n",
              "                       min_samples_leaf=3, min_samples_split=8,\n",
              "                       min_weight_fraction_leaf=0.0, n_estimators=10,\n",
              "                       n_jobs=None, oob_score=False, random_state=None,\n",
              "                       verbose=0, warm_start=False)"
            ]
          },
          "metadata": {
            "tags": []
          },
          "execution_count": 309
        }
      ]
    },
    {
      "cell_type": "markdown",
      "metadata": {
        "id": "pXabvMmb9b-O",
        "colab_type": "text"
      },
      "source": [
        "**RESULTS**"
      ]
    },
    {
      "cell_type": "code",
      "metadata": {
        "id": "kuLK6dAhEzPn",
        "colab_type": "code",
        "colab": {}
      },
      "source": [
        "rf_predictions = rfc.predict(X_test)"
      ],
      "execution_count": 0,
      "outputs": []
    },
    {
      "cell_type": "code",
      "metadata": {
        "id": "_Pvp3KG7mdDc",
        "colab_type": "code",
        "colab": {
          "base_uri": "https://localhost:8080/",
          "height": 106
        },
        "outputId": "0967220d-8252-4553-b837-7e6a94183afb"
      },
      "source": [
        "cm = pd.DataFrame(confusion_matrix(y_test, rf_predictions))\n",
        "cm"
      ],
      "execution_count": 314,
      "outputs": [
        {
          "output_type": "execute_result",
          "data": {
            "text/html": [
              "<div>\n",
              "<style scoped>\n",
              "    .dataframe tbody tr th:only-of-type {\n",
              "        vertical-align: middle;\n",
              "    }\n",
              "\n",
              "    .dataframe tbody tr th {\n",
              "        vertical-align: top;\n",
              "    }\n",
              "\n",
              "    .dataframe thead th {\n",
              "        text-align: right;\n",
              "    }\n",
              "</style>\n",
              "<table border=\"1\" class=\"dataframe\">\n",
              "  <thead>\n",
              "    <tr style=\"text-align: right;\">\n",
              "      <th></th>\n",
              "      <th>0</th>\n",
              "      <th>1</th>\n",
              "    </tr>\n",
              "  </thead>\n",
              "  <tbody>\n",
              "    <tr>\n",
              "      <th>0</th>\n",
              "      <td>74973</td>\n",
              "      <td>30</td>\n",
              "    </tr>\n",
              "    <tr>\n",
              "      <th>1</th>\n",
              "      <td>6176</td>\n",
              "      <td>4690</td>\n",
              "    </tr>\n",
              "  </tbody>\n",
              "</table>\n",
              "</div>"
            ],
            "text/plain": [
              "       0     1\n",
              "0  74973    30\n",
              "1   6176  4690"
            ]
          },
          "metadata": {
            "tags": []
          },
          "execution_count": 314
        }
      ]
    },
    {
      "cell_type": "code",
      "metadata": {
        "id": "JCkvMj7VEi3L",
        "colab_type": "code",
        "outputId": "a51a39d8-8236-46c8-e782-d6ef2fbac48f",
        "colab": {
          "base_uri": "https://localhost:8080/",
          "height": 34
        }
      },
      "source": [
        "rfc.score(X_train,y_train)"
      ],
      "execution_count": 311,
      "outputs": [
        {
          "output_type": "execute_result",
          "data": {
            "text/plain": [
              "0.9271643685657055"
            ]
          },
          "metadata": {
            "tags": []
          },
          "execution_count": 311
        }
      ]
    },
    {
      "cell_type": "code",
      "metadata": {
        "id": "bRdd9q0KKUsD",
        "colab_type": "code",
        "outputId": "c3669949-cbea-46e0-d7a2-78a223739d50",
        "colab": {
          "base_uri": "https://localhost:8080/",
          "height": 34
        }
      },
      "source": [
        "rfc.score(X_test,y_test)"
      ],
      "execution_count": 312,
      "outputs": [
        {
          "output_type": "execute_result",
          "data": {
            "text/plain": [
              "0.9277271192164809"
            ]
          },
          "metadata": {
            "tags": []
          },
          "execution_count": 312
        }
      ]
    },
    {
      "cell_type": "code",
      "metadata": {
        "id": "Wink3kbKmtF6",
        "colab_type": "code",
        "colab": {}
      },
      "source": [
        "train_probs = rfc.predict_proba(X_train)\n",
        "test_probs = rfc.predict_proba(X_test)"
      ],
      "execution_count": 0,
      "outputs": []
    },
    {
      "cell_type": "code",
      "metadata": {
        "id": "_ibrHOu2nDVq",
        "colab_type": "code",
        "colab": {
          "base_uri": "https://localhost:8080/",
          "height": 34
        },
        "outputId": "c418a97e-9060-4b03-bbc8-86607d2a4c1d"
      },
      "source": [
        "log_loss(y_train, train_probs)"
      ],
      "execution_count": 316,
      "outputs": [
        {
          "output_type": "execute_result",
          "data": {
            "text/plain": [
              "0.19523097534753855"
            ]
          },
          "metadata": {
            "tags": []
          },
          "execution_count": 316
        }
      ]
    },
    {
      "cell_type": "code",
      "metadata": {
        "id": "5kaBuJJ4nL39",
        "colab_type": "code",
        "colab": {
          "base_uri": "https://localhost:8080/",
          "height": 34
        },
        "outputId": "af28f233-685d-43a3-a0c0-2baee977d57c"
      },
      "source": [
        "log_loss(y_test, test_probs)"
      ],
      "execution_count": 317,
      "outputs": [
        {
          "output_type": "execute_result",
          "data": {
            "text/plain": [
              "0.19386826852904207"
            ]
          },
          "metadata": {
            "tags": []
          },
          "execution_count": 317
        }
      ]
    },
    {
      "cell_type": "code",
      "metadata": {
        "id": "Wc37ahJFHq2M",
        "colab_type": "code",
        "outputId": "8c31dec9-1ff1-405c-da96-5bf84699fa20",
        "colab": {
          "base_uri": "https://localhost:8080/",
          "height": 54
        }
      },
      "source": [
        "# answer below:\n",
        "important_features_dict = {}\n",
        "for x,i in enumerate(rfc.feature_importances_):\n",
        "    important_features_dict[x]=i\n",
        "\n",
        "\n",
        "important_features_list = sorted(important_features_dict,\n",
        "                                 key=important_features_dict.get,\n",
        "                                 reverse=True)\n",
        "\n",
        "print ('Most important features: %s' %important_features_list)"
      ],
      "execution_count": 318,
      "outputs": [
        {
          "output_type": "stream",
          "text": [
            "Most important features: [7, 35, 9, 25, 67, 8, 39, 34, 1, 14, 26, 28, 24, 6, 4, 29, 5, 2, 36, 58, 41, 38, 77, 10, 48, 30, 44, 61, 60, 43, 27, 40, 37, 45, 13, 19, 42, 15, 52, 50, 49, 47, 18, 66, 63, 11, 0, 74, 33, 83, 68, 3, 72, 46, 65, 70, 59, 21, 53, 71, 56, 85, 82, 69, 54, 31, 75, 55, 84, 12, 76, 23, 51, 78, 62, 32, 79, 64, 73, 81, 80, 16, 17, 20, 22, 57]\n"
          ],
          "name": "stdout"
        }
      ]
    },
    {
      "cell_type": "markdown",
      "metadata": {
        "id": "JV6PCeaUGfd4",
        "colab_type": "text"
      },
      "source": [
        "//////////////////////////////////////////////////////////////////////////////////////////////////////////\n"
      ]
    },
    {
      "cell_type": "code",
      "metadata": {
        "id": "y9zMxMXdGnCW",
        "colab_type": "code",
        "colab": {}
      },
      "source": [
        "importances = rfc.feature_importances_"
      ],
      "execution_count": 0,
      "outputs": []
    },
    {
      "cell_type": "code",
      "metadata": {
        "id": "FPF7_sgoGteL",
        "colab_type": "code",
        "colab": {}
      },
      "source": [
        "indices = np.argsort(importances)"
      ],
      "execution_count": 0,
      "outputs": []
    },
    {
      "cell_type": "code",
      "metadata": {
        "id": "MiQ60AedGzw5",
        "colab_type": "code",
        "colab": {}
      },
      "source": [
        "features = X2_dummy.columns"
      ],
      "execution_count": 0,
      "outputs": []
    },
    {
      "cell_type": "markdown",
      "metadata": {
        "id": "IlhrShAa9lo8",
        "colab_type": "text"
      },
      "source": [
        "**PLOT OF FEATURE IMPORTANCE**"
      ]
    },
    {
      "cell_type": "code",
      "metadata": {
        "id": "frOSwrl_HYeo",
        "colab_type": "code",
        "outputId": "6a68d56a-d698-4aab-f458-2c71c61cd1e8",
        "colab": {
          "base_uri": "https://localhost:8080/",
          "height": 1000
        }
      },
      "source": [
        "from matplotlib.pyplot import figure\n",
        "figure(num=None, figsize=(20,20), dpi=80, facecolor='w', edgecolor='k')\n",
        "plt.figure(1)\n",
        "plt.title('Feature Importances')\n",
        "plt.barh(range(len(indices)), importances[indices], color='b', align='center')\n",
        "plt.yticks(range(len(indices)), features[indices])\n",
        "plt.xlabel('Relative Importance')"
      ],
      "execution_count": 322,
      "outputs": [
        {
          "output_type": "execute_result",
          "data": {
            "text/plain": [
              "Text(0.5, 0, 'Relative Importance')"
            ]
          },
          "metadata": {
            "tags": []
          },
          "execution_count": 322
        },
        {
          "output_type": "display_data",
          "data": {
            "image/png": "[encoded data removed]",
            "text/plain": [
              "<Figure size 1600x1600 with 1 Axes>"
            ]
          },
          "metadata": {
            "tags": []
          }
        }
      ]
    },
    {
      "cell_type": "markdown",
      "metadata": {
        "id": "aCJXT_KDGkMU",
        "colab_type": "text"
      },
      "source": [
        "//////////////////////////////////////////////////////////////////////////////////////////////////////"
      ]
    },
    {
      "cell_type": "markdown",
      "metadata": {
        "id": "cYPQWlVHYS-k",
        "colab_type": "text"
      },
      "source": [
        "////////////////////////////////////////////////////////////////////////////////////////////////////////////////////////////"
      ]
    },
    {
      "cell_type": "markdown",
      "metadata": {
        "id": "e32FEsX5LOUZ",
        "colab_type": "text"
      },
      "source": [
        "#**LOGISTIC REGRESSION**"
      ]
    },
    {
      "cell_type": "code",
      "metadata": {
        "id": "88Y6sHtNLWyk",
        "colab_type": "code",
        "colab": {}
      },
      "source": [
        "scaler = StandardScaler()\n",
        "X_train = scaler.fit_transform(X_train)\n",
        "X_test = scaler.transform(X_test)"
      ],
      "execution_count": 0,
      "outputs": []
    },
    {
      "cell_type": "code",
      "metadata": {
        "id": "M2fg2oWhLgyg",
        "colab_type": "code",
        "colab": {}
      },
      "source": [
        "logistic = linear_model.LogisticRegression(solver='liblinear')"
      ],
      "execution_count": 0,
      "outputs": []
    },
    {
      "cell_type": "code",
      "metadata": {
        "id": "5A9R-DsYLqtG",
        "colab_type": "code",
        "outputId": "e800870a-1c71-4349-a3bb-8dff3328a868",
        "colab": {
          "base_uri": "https://localhost:8080/",
          "height": 101
        }
      },
      "source": [
        "logistic.fit(X_train,y_train)"
      ],
      "execution_count": 0,
      "outputs": [
        {
          "output_type": "execute_result",
          "data": {
            "text/plain": [
              "LogisticRegression(C=1.0, class_weight=None, dual=False, fit_intercept=True,\n",
              "                   intercept_scaling=1, l1_ratio=None, max_iter=100,\n",
              "                   multi_class='auto', n_jobs=None, penalty='l2',\n",
              "                   random_state=None, solver='liblinear', tol=0.0001, verbose=0,\n",
              "                   warm_start=False)"
            ]
          },
          "metadata": {
            "tags": []
          },
          "execution_count": 160
        }
      ]
    },
    {
      "cell_type": "code",
      "metadata": {
        "id": "ld67sSn4MYzv",
        "colab_type": "code",
        "colab": {}
      },
      "source": [
        "logistic_predictions = logistic.predict(X_test)"
      ],
      "execution_count": 0,
      "outputs": []
    },
    {
      "cell_type": "markdown",
      "metadata": {
        "id": "G424j0XSOKUc",
        "colab_type": "text"
      },
      "source": [
        "**CONFUSION MATRIX**"
      ]
    },
    {
      "cell_type": "code",
      "metadata": {
        "id": "TkwbsI_LN5lv",
        "colab_type": "code",
        "outputId": "adc4ea9a-8a4d-464c-a2ff-721e0614e617",
        "colab": {
          "base_uri": "https://localhost:8080/",
          "height": 106
        }
      },
      "source": [
        "cm = pd.DataFrame(confusion_matrix(y_test, logistic_predictions))\n",
        "cm"
      ],
      "execution_count": 0,
      "outputs": [
        {
          "output_type": "execute_result",
          "data": {
            "text/html": [
              "<div>\n",
              "<style scoped>\n",
              "    .dataframe tbody tr th:only-of-type {\n",
              "        vertical-align: middle;\n",
              "    }\n",
              "\n",
              "    .dataframe tbody tr th {\n",
              "        vertical-align: top;\n",
              "    }\n",
              "\n",
              "    .dataframe thead th {\n",
              "        text-align: right;\n",
              "    }\n",
              "</style>\n",
              "<table border=\"1\" class=\"dataframe\">\n",
              "  <thead>\n",
              "    <tr style=\"text-align: right;\">\n",
              "      <th></th>\n",
              "      <th>0</th>\n",
              "      <th>1</th>\n",
              "    </tr>\n",
              "  </thead>\n",
              "  <tbody>\n",
              "    <tr>\n",
              "      <th>0</th>\n",
              "      <td>74349</td>\n",
              "      <td>654</td>\n",
              "    </tr>\n",
              "    <tr>\n",
              "      <th>1</th>\n",
              "      <td>2542</td>\n",
              "      <td>8324</td>\n",
              "    </tr>\n",
              "  </tbody>\n",
              "</table>\n",
              "</div>"
            ],
            "text/plain": [
              "       0     1\n",
              "0  74349   654\n",
              "1   2542  8324"
            ]
          },
          "metadata": {
            "tags": []
          },
          "execution_count": 173
        }
      ]
    },
    {
      "cell_type": "code",
      "metadata": {
        "id": "2MQ-9Vl1MpFd",
        "colab_type": "code",
        "outputId": "6b43edcd-b15a-449c-8dd4-06db8dd431d3",
        "colab": {
          "base_uri": "https://localhost:8080/",
          "height": 34
        }
      },
      "source": [
        "logistic.score(X_train,y_train)"
      ],
      "execution_count": 0,
      "outputs": [
        {
          "output_type": "execute_result",
          "data": {
            "text/plain": [
              "0.962637420226394"
            ]
          },
          "metadata": {
            "tags": []
          },
          "execution_count": 162
        }
      ]
    },
    {
      "cell_type": "code",
      "metadata": {
        "id": "VflYN5iNMwB5",
        "colab_type": "code",
        "outputId": "5e5d96c0-0d9f-46d2-a566-0768a01ef5b2",
        "colab": {
          "base_uri": "https://localhost:8080/",
          "height": 34
        }
      },
      "source": [
        "logistic.score(X_test,y_test)"
      ],
      "execution_count": 0,
      "outputs": [
        {
          "output_type": "execute_result",
          "data": {
            "text/plain": [
              "0.9627805145046524"
            ]
          },
          "metadata": {
            "tags": []
          },
          "execution_count": 164
        }
      ]
    },
    {
      "cell_type": "code",
      "metadata": {
        "id": "IHGuve90M_AZ",
        "colab_type": "code",
        "colab": {}
      },
      "source": [
        "train_probs = logistic.predict_proba(X_train)\n",
        "test_probs = logistic.predict_proba(X_test)"
      ],
      "execution_count": 0,
      "outputs": []
    },
    {
      "cell_type": "code",
      "metadata": {
        "id": "2h2VEflxNbjh",
        "colab_type": "code",
        "colab": {}
      },
      "source": [
        "from sklearn.metrics import confusion_matrix, log_loss"
      ],
      "execution_count": 0,
      "outputs": []
    },
    {
      "cell_type": "markdown",
      "metadata": {
        "id": "WXopZmqiOQQu",
        "colab_type": "text"
      },
      "source": [
        "**`LOG-LOSS`**"
      ]
    },
    {
      "cell_type": "code",
      "metadata": {
        "id": "ufjJbDVcNQdi",
        "colab_type": "code",
        "outputId": "da9ba885-9b4b-4d6f-f4c7-1dad3d7c14e0",
        "colab": {
          "base_uri": "https://localhost:8080/",
          "height": 34
        }
      },
      "source": [
        "log_loss(y_train, train_probs)"
      ],
      "execution_count": 0,
      "outputs": [
        {
          "output_type": "execute_result",
          "data": {
            "text/plain": [
              "0.1313612351196324"
            ]
          },
          "metadata": {
            "tags": []
          },
          "execution_count": 194
        }
      ]
    },
    {
      "cell_type": "code",
      "metadata": {
        "id": "m0gx27sRNkfd",
        "colab_type": "code",
        "outputId": "86eea754-f3d6-4293-92e6-96a41573eacd",
        "colab": {
          "base_uri": "https://localhost:8080/",
          "height": 34
        }
      },
      "source": [
        "log_loss(y_test, test_probs)"
      ],
      "execution_count": 0,
      "outputs": [
        {
          "output_type": "execute_result",
          "data": {
            "text/plain": [
              "0.1281437105177606"
            ]
          },
          "metadata": {
            "tags": []
          },
          "execution_count": 170
        }
      ]
    },
    {
      "cell_type": "markdown",
      "metadata": {
        "id": "e8AWPGDIZr--",
        "colab_type": "text"
      },
      "source": [
        "**CONCLUSION -- LOGISITIC REGRESSION IS BEST MODEL FOR THIS CLASSIFICATION PROBLEM**\n",
        "\n",
        "**HIGHER ACCURACY -- LOWER LOG_LOSS**"
      ]
    }
  ]
}
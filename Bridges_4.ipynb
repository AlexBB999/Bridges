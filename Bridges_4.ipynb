{
  "nbformat": 4,
  "nbformat_minor": 0,
  "metadata": {
    "colab": {
      "name": "Bridges - 4.ipynb",
      "provenance": [],
      "collapsed_sections": [],
      "include_colab_link": true
    },
    "kernelspec": {
      "name": "python3",
      "display_name": "Python 3"
    }
  },
  "cells": [
    {
      "cell_type": "markdown",
      "metadata": {
        "id": "view-in-github",
        "colab_type": "text"
      },
      "source": [
        "<a href=\"https://colab.research.google.com/github/AlexBB999/Bridges/blob/master/Bridges_4.ipynb\" target=\"_parent\"><img src=\"https://colab.research.google.com/assets/colab-badge.svg\" alt=\"Open In Colab\"/></a>"
      ]
    },
    {
      "cell_type": "markdown",
      "metadata": {
        "id": "-GrZs_CNcsCr",
        "colab_type": "text"
      },
      "source": [
        "**IMPORT EVERYTHING I MAY USE**"
      ]
    },
    {
      "cell_type": "code",
      "metadata": {
        "id": "hBzn0dCgeDW-",
        "colab_type": "code",
        "colab": {}
      },
      "source": [
        "% matplotlib inline\n",
        "import pandas as pd\n",
        "import numpy as np\n",
        "import matplotlib.pyplot as plt\n",
        "from scipy import stats\n",
        "from scipy.stats import shapiro\n",
        "import statistics\n",
        "from scipy.stats import normaltest\n",
        "from scipy.stats import anderson\n",
        "from sklearn import linear_model\n",
        "from sklearn.ensemble import RandomForestRegressor\n",
        "import statsmodels.api as sm\n",
        "from sklearn.linear_model import LogisticRegression\n",
        "import seaborn as sns\n",
        "from sklearn.model_selection import train_test_split\n",
        "from sklearn.metrics import classification_report, confusion_matrix, roc_auc_score, recall_score\n",
        "from sklearn.preprocessing import StandardScaler\n",
        "from sklearn.ensemble import GradientBoostingClassifier\n",
        "from xgboost import XGBClassifier\n",
        "from sklearn.model_selection import GridSearchCV\n",
        "import warnings\n",
        "warnings.filterwarnings('ignore')"
      ],
      "execution_count": 0,
      "outputs": []
    },
    {
      "cell_type": "code",
      "metadata": {
        "id": "yPEwuhBXYxuD",
        "colab_type": "code",
        "colab": {}
      },
      "source": [
        "from google.colab import drive"
      ],
      "execution_count": 0,
      "outputs": []
    },
    {
      "cell_type": "code",
      "metadata": {
        "colab_type": "code",
        "id": "Wdjbc-TTZDUk",
        "outputId": "30dc46db-29ef-4ce2-9ce8-73c817ec4450",
        "colab": {
          "base_uri": "https://localhost:8080/",
          "height": 124
        }
      },
      "source": [
        "drive.mount('/content/drive')"
      ],
      "execution_count": 0,
      "outputs": [
        {
          "output_type": "stream",
          "text": [
            "Go to this URL in a browser: https://accounts.google.com/o/oauth2/auth?client_id=947318989803-6bn6qk8qdgf4n4g3pfee6491hc0brc4i.apps.googleusercontent.com&redirect_uri=urn%3aietf%3awg%3aoauth%3a2.0%3aoob&response_type=code&scope=email%20https%3a%2f%2fwww.googleapis.com%2fauth%2fdocs.test%20https%3a%2f%2fwww.googleapis.com%2fauth%2fdrive%20https%3a%2f%2fwww.googleapis.com%2fauth%2fdrive.photos.readonly%20https%3a%2f%2fwww.googleapis.com%2fauth%2fpeopleapi.readonly\n",
            "\n",
            "Enter your authorization code:\n",
            "··········\n",
            "Mounted at /content/drive\n"
          ],
          "name": "stdout"
        }
      ]
    },
    {
      "cell_type": "markdown",
      "metadata": {
        "id": "BNmAkdSLmcim",
        "colab_type": "text"
      },
      "source": [
        "#**The current system for inspecting bridges is expensive, time-consuming and inefficient**\n",
        "\n",
        "The FHWA requires evaluation of all bridges however; it is costly having a\n",
        "bi­annual inspection cost of $2.7 billion for the U.S\n",
        "\n",
        "where  the  average inspection costper bridge ranges from $4,500 to $10,000.  This requires closing lanes for the span of theinspection, which can take 1 to 3 days causing traffic congestions.\n",
        "\n",
        "**https://catsr.vse.gmu.edu/SYST490/490_2014_BI/BIS_FinalReport.pdf**"
      ]
    },
    {
      "cell_type": "markdown",
      "metadata": {
        "id": "jx3F-b-im3YG",
        "colab_type": "text"
      },
      "source": [
        "**My objective in this project is adding granualrity/priortization to the process to help address at least part of the aforementioned shortcomings.** "
      ]
    },
    {
      "cell_type": "markdown",
      "metadata": {
        "id": "EddDUg3xnhWC",
        "colab_type": "text"
      },
      "source": [
        "The current system assigns a score called the \"Structural Evaluation\" to each brdge. It is a 10 point scale. A score of 4 or less marks the bridge as \"Structurally Deficient\" -- meaning the bridge needs repairs -- possibly replacement. It now has a priority when allocating limited funds for bridge maintenance. But the scoring of  0,1,2,3,4 is not as granular as need be. For example -- if two bridges have a score of 3 -- which one  do we repair first? If we allow decimals then we could have a score of 3.1 versus 3.5 so we know which is the first to get our limited funds."
      ]
    },
    {
      "cell_type": "markdown",
      "metadata": {
        "id": "y49_xRYrpX1E",
        "colab_type": "text"
      },
      "source": [
        "#**STAKEHOLDERS**\n",
        "\n",
        "The stakeholders have been clearly defined in the above quoted article:\n",
        "\n",
        "The primary stakeholders of the bridge inspection systems are the Federal\n",
        "Highway Administration (FHWA), District Department of Transportation (DDOT),\n",
        "Bridge Design Engineers, Bridge Construction Team, and the Inspection Team which are directly involved with the construction and inspection of the bridge. The secondary stakeholders are groups of people that are not directly involved with the construction andinspection but are impacted indirectly such as the traveling public or the Bridge Users.\n",
        "\n",
        "**My immediate audience (cohorts+instructor+you) are secondary stakeholders. But clearly this is of value to primary stakeholders**.\n"
      ]
    },
    {
      "cell_type": "markdown",
      "metadata": {
        "id": "yX_gnNizqfy_",
        "colab_type": "text"
      },
      "source": [
        "#**EXPLANATION FOR COULMNS DROPPED BEFORE ANY ANALYSIS**\n",
        "\n",
        "I am not creating a dashboard so any columns having to do with location/identification are **not** relevent at this time. Thus, I have dropped the following columns:\n",
        "\n",
        "State_code\n",
        "\n",
        "Record_type\n",
        "\n",
        "Route_prefix\n",
        "\n",
        "Route_number\n",
        "\n",
        "Direction\n",
        "\n",
        "Highway District\n",
        "\n",
        "County_code\n",
        "\n",
        "Place_code\n",
        "\n",
        "Features_Desc\n",
        "\n",
        "Location\n",
        "\n",
        "Kilopoint\n",
        "\n",
        "Base_Hwy_network\n",
        "\n",
        "LRS_Inv_Route\n",
        "\n",
        "Subroute\n",
        "\n",
        "Latitude\n",
        "\n",
        "Longitude\n",
        "\n",
        "Detour Kilos\n",
        "\n",
        "Cat 10\n",
        "\n",
        "Cat 23\n",
        "\n",
        "Without goiing into the same level of deatil , I have dropped all columns having to do with water/navigation and other irrelevant columns like Right_curb and Left_curb. I am not stating that this information is not useful -- I am simply simplifying this project. To factor in all 136 features and many subfeatures is not a project -- it's a full-time job."
      ]
    },
    {
      "cell_type": "code",
      "metadata": {
        "id": "kjC4QJs1h07q",
        "colab_type": "code",
        "colab": {}
      },
      "source": [
        "bridges9 = pd.read_csv('/content/drive/My Drive/2017HwyBridgesDelimitedAllStates.txt', sep=',',encoding='ISO-8859-1',low_memory=False)"
      ],
      "execution_count": 0,
      "outputs": []
    },
    {
      "cell_type": "markdown",
      "metadata": {
        "id": "f4-hIZdpjMiq",
        "colab_type": "text"
      },
      "source": [
        "**IDENTIFYING FEATURES BY COLUMN NUMBER**"
      ]
    },
    {
      "cell_type": "code",
      "metadata": {
        "id": "BFGnanTPiQCc",
        "colab_type": "code",
        "colab": {}
      },
      "source": [
        "g=list(range(1,138))"
      ],
      "execution_count": 0,
      "outputs": []
    },
    {
      "cell_type": "code",
      "metadata": {
        "id": "CzBKmXI8iZjt",
        "colab_type": "code",
        "colab": {}
      },
      "source": [
        "z=zip(g,list(bridges9))"
      ],
      "execution_count": 0,
      "outputs": []
    },
    {
      "cell_type": "code",
      "metadata": {
        "id": "XtVO5hKnifNE",
        "colab_type": "code",
        "outputId": "1aa3e4df-78ad-4226-a9a4-b5662dd2b9f9",
        "colab": {
          "base_uri": "https://localhost:8080/",
          "height": 1000
        }
      },
      "source": [
        "list(z)"
      ],
      "execution_count": 0,
      "outputs": [
        {
          "output_type": "execute_result",
          "data": {
            "text/plain": [
              "[(1, 'STATE_CODE_001'),\n",
              " (2, 'STRUCTURE_NUMBER_008'),\n",
              " (3, 'RECORD_TYPE_005A'),\n",
              " (4, 'ROUTE_PREFIX_005B'),\n",
              " (5, 'SERVICE_LEVEL_005C'),\n",
              " (6, 'ROUTE_NUMBER_005D'),\n",
              " (7, 'DIRECTION_005E'),\n",
              " (8, 'HIGHWAY_DISTRICT_002'),\n",
              " (9, 'COUNTY_CODE_003'),\n",
              " (10, 'PLACE_CODE_004'),\n",
              " (11, 'FEATURES_DESC_006A'),\n",
              " (12, 'CRITICAL_FACILITY_006B'),\n",
              " (13, 'FACILITY_CARRIED_007'),\n",
              " (14, 'LOCATION_009'),\n",
              " (15, 'MIN_VERT_CLR_010'),\n",
              " (16, 'KILOPOINT_011'),\n",
              " (17, 'BASE_HWY_NETWORK_012'),\n",
              " (18, 'LRS_INV_ROUTE_013A'),\n",
              " (19, 'SUBROUTE_NO_013B'),\n",
              " (20, 'LAT_016'),\n",
              " (21, 'LONG_017'),\n",
              " (22, 'DETOUR_KILOS_019'),\n",
              " (23, 'TOLL_020'),\n",
              " (24, 'MAINTENANCE_021'),\n",
              " (25, 'OWNER_022'),\n",
              " (26, 'FUNCTIONAL_CLASS_026'),\n",
              " (27, 'YEAR_BUILT_027'),\n",
              " (28, 'TRAFFIC_LANES_ON_028A'),\n",
              " (29, 'TRAFFIC_LANES_UND_028B'),\n",
              " (30, 'ADT_029'),\n",
              " (31, 'YEAR_ADT_030'),\n",
              " (32, 'DESIGN_LOAD_031'),\n",
              " (33, 'APPR_WIDTH_MT_032'),\n",
              " (34, 'MEDIAN_CODE_033'),\n",
              " (35, 'DEGREES_SKEW_034'),\n",
              " (36, 'STRUCTURE_FLARED_035'),\n",
              " (37, 'RAILINGS_036A'),\n",
              " (38, 'TRANSITIONS_036B'),\n",
              " (39, 'APPR_RAIL_036C'),\n",
              " (40, 'APPR_RAIL_END_036D'),\n",
              " (41, 'HISTORY_037'),\n",
              " (42, 'NAVIGATION_038'),\n",
              " (43, 'NAV_VERT_CLR_MT_039'),\n",
              " (44, 'NAV_HORR_CLR_MT_040'),\n",
              " (45, 'OPEN_CLOSED_POSTED_041'),\n",
              " (46, 'SERVICE_ON_042A'),\n",
              " (47, 'SERVICE_UND_042B'),\n",
              " (48, 'STRUCTURE_KIND_043A'),\n",
              " (49, 'STRUCTURE_TYPE_043B'),\n",
              " (50, 'APPR_KIND_044A'),\n",
              " (51, 'APPR_TYPE_044B'),\n",
              " (52, 'MAIN_UNIT_SPANS_045'),\n",
              " (53, 'APPR_SPANS_046'),\n",
              " (54, 'HORR_CLR_MT_047'),\n",
              " (55, 'MAX_SPAN_LEN_MT_048'),\n",
              " (56, 'STRUCTURE_LEN_MT_049'),\n",
              " (57, 'LEFT_CURB_MT_050A'),\n",
              " (58, 'RIGHT_CURB_MT_050B'),\n",
              " (59, 'ROADWAY_WIDTH_MT_051'),\n",
              " (60, 'DECK_WIDTH_MT_052'),\n",
              " (61, 'VERT_CLR_OVER_MT_053'),\n",
              " (62, 'VERT_CLR_UND_REF_054A'),\n",
              " (63, 'VERT_CLR_UND_054B'),\n",
              " (64, 'LAT_UND_REF_055A'),\n",
              " (65, 'LAT_UND_MT_055B'),\n",
              " (66, 'LEFT_LAT_UND_MT_056'),\n",
              " (67, 'DECK_COND_058'),\n",
              " (68, 'SUPERSTRUCTURE_COND_059'),\n",
              " (69, 'SUBSTRUCTURE_COND_060'),\n",
              " (70, 'CHANNEL_COND_061'),\n",
              " (71, 'CULVERT_COND_062'),\n",
              " (72, 'OPR_RATING_METH_063'),\n",
              " (73, 'OPERATING_RATING_064'),\n",
              " (74, 'INV_RATING_METH_065'),\n",
              " (75, 'INVENTORY_RATING_066'),\n",
              " (76, 'STRUCTURAL_EVAL_067'),\n",
              " (77, 'DECK_GEOMETRY_EVAL_068'),\n",
              " (78, 'UNDCLRENCE_EVAL_069'),\n",
              " (79, 'POSTING_EVAL_070'),\n",
              " (80, 'WATERWAY_EVAL_071'),\n",
              " (81, 'APPR_ROAD_EVAL_072'),\n",
              " (82, 'WORK_PROPOSED_075A'),\n",
              " (83, 'WORK_DONE_BY_075B'),\n",
              " (84, 'IMP_LEN_MT_076'),\n",
              " (85, 'DATE_OF_INSPECT_090'),\n",
              " (86, 'INSPECT_FREQ_MONTHS_091'),\n",
              " (87, 'FRACTURE_092A'),\n",
              " (88, 'UNDWATER_LOOK_SEE_092B'),\n",
              " (89, 'SPEC_INSPECT_092C'),\n",
              " (90, 'FRACTURE_LAST_DATE_093A'),\n",
              " (91, 'UNDWATER_LAST_DATE_093B'),\n",
              " (92, 'SPEC_LAST_DATE_093C'),\n",
              " (93, 'BRIDGE_IMP_COST_094'),\n",
              " (94, 'ROADWAY_IMP_COST_095'),\n",
              " (95, 'TOTAL_IMP_COST_096'),\n",
              " (96, 'YEAR_OF_IMP_097'),\n",
              " (97, 'OTHER_STATE_CODE_098A'),\n",
              " (98, 'OTHER_STATE_PCNT_098B'),\n",
              " (99, 'OTHR_STATE_STRUC_NO_099'),\n",
              " (100, 'STRAHNET_HIGHWAY_100'),\n",
              " (101, 'PARALLEL_STRUCTURE_101'),\n",
              " (102, 'TRAFFIC_DIRECTION_102'),\n",
              " (103, 'TEMP_STRUCTURE_103'),\n",
              " (104, 'HIGHWAY_SYSTEM_104'),\n",
              " (105, 'FEDERAL_LANDS_105'),\n",
              " (106, 'YEAR_RECONSTRUCTED_106'),\n",
              " (107, 'DECK_STRUCTURE_TYPE_107'),\n",
              " (108, 'SURFACE_TYPE_108A'),\n",
              " (109, 'MEMBRANE_TYPE_108B'),\n",
              " (110, 'DECK_PROTECTION_108C'),\n",
              " (111, 'PERCENT_ADT_TRUCK_109'),\n",
              " (112, 'NATIONAL_NETWORK_110'),\n",
              " (113, 'PIER_PROTECTION_111'),\n",
              " (114, 'BRIDGE_LEN_IND_112'),\n",
              " (115, 'SCOUR_CRITICAL_113'),\n",
              " (116, 'FUTURE_ADT_114'),\n",
              " (117, 'YEAR_OF_FUTURE_ADT_115'),\n",
              " (118, 'MIN_NAV_CLR_MT_116'),\n",
              " (119, 'FED_AGENCY'),\n",
              " (120, 'DATE_LAST_UPDATE'),\n",
              " (121, 'TYPE_LAST_UPDATE'),\n",
              " (122, 'DEDUCT_CODE'),\n",
              " (123, 'REMARKS'),\n",
              " (124, 'PROGRAM_CODE'),\n",
              " (125, 'PROJ_NO'),\n",
              " (126, 'PROJ_SUFFIX'),\n",
              " (127, 'NBI_TYPE_OF_IMP'),\n",
              " (128, 'DTL_TYPE_OF_IMP'),\n",
              " (129, 'SPECIAL_CODE'),\n",
              " (130, 'STEP_CODE'),\n",
              " (131, 'STATUS_WITH_10YR_RULE'),\n",
              " (132, 'SUFFICIENCY_ASTERC'),\n",
              " (133, 'SUFFICIENCY_RATING'),\n",
              " (134, 'STATUS_NO_10YR_RULE'),\n",
              " (135, 'CAT10'),\n",
              " (136, 'CAT23'),\n",
              " (137, 'CAT29')]"
            ]
          },
          "metadata": {
            "tags": []
          },
          "execution_count": 7
        }
      ]
    },
    {
      "cell_type": "code",
      "metadata": {
        "id": "qxRELBieIXca",
        "colab_type": "code",
        "outputId": "d3c64567-bd9b-48b1-e86c-c3b9ec838ab1",
        "colab": {
          "base_uri": "https://localhost:8080/",
          "height": 407
        }
      },
      "source": [
        "bridges9.head()"
      ],
      "execution_count": 0,
      "outputs": [
        {
          "output_type": "execute_result",
          "data": {
            "text/html": [
              "<div>\n",
              "<style scoped>\n",
              "    .dataframe tbody tr th:only-of-type {\n",
              "        vertical-align: middle;\n",
              "    }\n",
              "\n",
              "    .dataframe tbody tr th {\n",
              "        vertical-align: top;\n",
              "    }\n",
              "\n",
              "    .dataframe thead th {\n",
              "        text-align: right;\n",
              "    }\n",
              "</style>\n",
              "<table border=\"1\" class=\"dataframe\">\n",
              "  <thead>\n",
              "    <tr style=\"text-align: right;\">\n",
              "      <th></th>\n",
              "      <th>STATE_CODE_001</th>\n",
              "      <th>STRUCTURE_NUMBER_008</th>\n",
              "      <th>RECORD_TYPE_005A</th>\n",
              "      <th>ROUTE_PREFIX_005B</th>\n",
              "      <th>SERVICE_LEVEL_005C</th>\n",
              "      <th>ROUTE_NUMBER_005D</th>\n",
              "      <th>DIRECTION_005E</th>\n",
              "      <th>HIGHWAY_DISTRICT_002</th>\n",
              "      <th>COUNTY_CODE_003</th>\n",
              "      <th>PLACE_CODE_004</th>\n",
              "      <th>FEATURES_DESC_006A</th>\n",
              "      <th>CRITICAL_FACILITY_006B</th>\n",
              "      <th>FACILITY_CARRIED_007</th>\n",
              "      <th>LOCATION_009</th>\n",
              "      <th>MIN_VERT_CLR_010</th>\n",
              "      <th>KILOPOINT_011</th>\n",
              "      <th>BASE_HWY_NETWORK_012</th>\n",
              "      <th>LRS_INV_ROUTE_013A</th>\n",
              "      <th>SUBROUTE_NO_013B</th>\n",
              "      <th>LAT_016</th>\n",
              "      <th>LONG_017</th>\n",
              "      <th>DETOUR_KILOS_019</th>\n",
              "      <th>TOLL_020</th>\n",
              "      <th>MAINTENANCE_021</th>\n",
              "      <th>OWNER_022</th>\n",
              "      <th>FUNCTIONAL_CLASS_026</th>\n",
              "      <th>YEAR_BUILT_027</th>\n",
              "      <th>TRAFFIC_LANES_ON_028A</th>\n",
              "      <th>TRAFFIC_LANES_UND_028B</th>\n",
              "      <th>ADT_029</th>\n",
              "      <th>YEAR_ADT_030</th>\n",
              "      <th>DESIGN_LOAD_031</th>\n",
              "      <th>APPR_WIDTH_MT_032</th>\n",
              "      <th>MEDIAN_CODE_033</th>\n",
              "      <th>DEGREES_SKEW_034</th>\n",
              "      <th>STRUCTURE_FLARED_035</th>\n",
              "      <th>RAILINGS_036A</th>\n",
              "      <th>TRANSITIONS_036B</th>\n",
              "      <th>APPR_RAIL_036C</th>\n",
              "      <th>APPR_RAIL_END_036D</th>\n",
              "      <th>...</th>\n",
              "      <th>OTHER_STATE_PCNT_098B</th>\n",
              "      <th>OTHR_STATE_STRUC_NO_099</th>\n",
              "      <th>STRAHNET_HIGHWAY_100</th>\n",
              "      <th>PARALLEL_STRUCTURE_101</th>\n",
              "      <th>TRAFFIC_DIRECTION_102</th>\n",
              "      <th>TEMP_STRUCTURE_103</th>\n",
              "      <th>HIGHWAY_SYSTEM_104</th>\n",
              "      <th>FEDERAL_LANDS_105</th>\n",
              "      <th>YEAR_RECONSTRUCTED_106</th>\n",
              "      <th>DECK_STRUCTURE_TYPE_107</th>\n",
              "      <th>SURFACE_TYPE_108A</th>\n",
              "      <th>MEMBRANE_TYPE_108B</th>\n",
              "      <th>DECK_PROTECTION_108C</th>\n",
              "      <th>PERCENT_ADT_TRUCK_109</th>\n",
              "      <th>NATIONAL_NETWORK_110</th>\n",
              "      <th>PIER_PROTECTION_111</th>\n",
              "      <th>BRIDGE_LEN_IND_112</th>\n",
              "      <th>SCOUR_CRITICAL_113</th>\n",
              "      <th>FUTURE_ADT_114</th>\n",
              "      <th>YEAR_OF_FUTURE_ADT_115</th>\n",
              "      <th>MIN_NAV_CLR_MT_116</th>\n",
              "      <th>FED_AGENCY</th>\n",
              "      <th>DATE_LAST_UPDATE</th>\n",
              "      <th>TYPE_LAST_UPDATE</th>\n",
              "      <th>DEDUCT_CODE</th>\n",
              "      <th>REMARKS</th>\n",
              "      <th>PROGRAM_CODE</th>\n",
              "      <th>PROJ_NO</th>\n",
              "      <th>PROJ_SUFFIX</th>\n",
              "      <th>NBI_TYPE_OF_IMP</th>\n",
              "      <th>DTL_TYPE_OF_IMP</th>\n",
              "      <th>SPECIAL_CODE</th>\n",
              "      <th>STEP_CODE</th>\n",
              "      <th>STATUS_WITH_10YR_RULE</th>\n",
              "      <th>SUFFICIENCY_ASTERC</th>\n",
              "      <th>SUFFICIENCY_RATING</th>\n",
              "      <th>STATUS_NO_10YR_RULE</th>\n",
              "      <th>CAT10</th>\n",
              "      <th>CAT23</th>\n",
              "      <th>CAT29</th>\n",
              "    </tr>\n",
              "  </thead>\n",
              "  <tbody>\n",
              "    <tr>\n",
              "      <th>0</th>\n",
              "      <td>1</td>\n",
              "      <td>00000000000S702</td>\n",
              "      <td>1</td>\n",
              "      <td>6.0</td>\n",
              "      <td>1.0</td>\n",
              "      <td>04007</td>\n",
              "      <td>0.0</td>\n",
              "      <td>09</td>\n",
              "      <td>53.0</td>\n",
              "      <td>0</td>\n",
              "      <td>'           PERDIDO CREEK'</td>\n",
              "      <td>NaN</td>\n",
              "      <td>'  IRR BIA RTE 4007'</td>\n",
              "      <td>'  11.4KM NW OF ATMORE  AL'</td>\n",
              "      <td>99.99</td>\n",
              "      <td>1.500</td>\n",
              "      <td>0.0</td>\n",
              "      <td>0000000000</td>\n",
              "      <td>0.0</td>\n",
              "      <td>31061110.0</td>\n",
              "      <td>87341340.0</td>\n",
              "      <td>3</td>\n",
              "      <td>3</td>\n",
              "      <td>62</td>\n",
              "      <td>62</td>\n",
              "      <td>9.0</td>\n",
              "      <td>1999</td>\n",
              "      <td>2.0</td>\n",
              "      <td>0</td>\n",
              "      <td>50</td>\n",
              "      <td>2014.0</td>\n",
              "      <td>5</td>\n",
              "      <td>9.7</td>\n",
              "      <td>0.0</td>\n",
              "      <td>30</td>\n",
              "      <td>0.0</td>\n",
              "      <td>1</td>\n",
              "      <td>1</td>\n",
              "      <td>1</td>\n",
              "      <td>1</td>\n",
              "      <td>...</td>\n",
              "      <td>0.0</td>\n",
              "      <td>NaN</td>\n",
              "      <td>0.0</td>\n",
              "      <td>N</td>\n",
              "      <td>2.0</td>\n",
              "      <td>NaN</td>\n",
              "      <td>0</td>\n",
              "      <td>1.0</td>\n",
              "      <td>0.0</td>\n",
              "      <td>2</td>\n",
              "      <td>6</td>\n",
              "      <td>0</td>\n",
              "      <td>1</td>\n",
              "      <td>1.0</td>\n",
              "      <td>0.0</td>\n",
              "      <td>NaN</td>\n",
              "      <td>Y</td>\n",
              "      <td>8</td>\n",
              "      <td>100</td>\n",
              "      <td>2034.0</td>\n",
              "      <td>0.0</td>\n",
              "      <td>Y</td>\n",
              "      <td>5/24/2017</td>\n",
              "      <td>B</td>\n",
              "      <td>Z</td>\n",
              "      <td>NaN</td>\n",
              "      <td>NaN</td>\n",
              "      <td>NaN</td>\n",
              "      <td>NaN</td>\n",
              "      <td>NaN</td>\n",
              "      <td>NaN</td>\n",
              "      <td>NaN</td>\n",
              "      <td>NaN</td>\n",
              "      <td>0</td>\n",
              "      <td>NaN</td>\n",
              "      <td>100.0</td>\n",
              "      <td>0</td>\n",
              "      <td>G</td>\n",
              "      <td>7</td>\n",
              "      <td>145.50</td>\n",
              "    </tr>\n",
              "    <tr>\n",
              "      <th>1</th>\n",
              "      <td>1</td>\n",
              "      <td>00000000000S703</td>\n",
              "      <td>1</td>\n",
              "      <td>6.0</td>\n",
              "      <td>1.0</td>\n",
              "      <td>04003</td>\n",
              "      <td>0.0</td>\n",
              "      <td>09</td>\n",
              "      <td>53.0</td>\n",
              "      <td>3004</td>\n",
              "      <td>'           PERDIDO CREEK'</td>\n",
              "      <td>NaN</td>\n",
              "      <td>'  IRR BIA RTE 4003'</td>\n",
              "      <td>'       ON LYNN MCGEE ROAD'</td>\n",
              "      <td>99.99</td>\n",
              "      <td>1.100</td>\n",
              "      <td>0.0</td>\n",
              "      <td>0000000000</td>\n",
              "      <td>0.0</td>\n",
              "      <td>31062020.0</td>\n",
              "      <td>87340890.0</td>\n",
              "      <td>3</td>\n",
              "      <td>3</td>\n",
              "      <td>62</td>\n",
              "      <td>62</td>\n",
              "      <td>9.0</td>\n",
              "      <td>2002</td>\n",
              "      <td>2.0</td>\n",
              "      <td>0</td>\n",
              "      <td>159</td>\n",
              "      <td>2014.0</td>\n",
              "      <td>5</td>\n",
              "      <td>6.5</td>\n",
              "      <td>0.0</td>\n",
              "      <td>0</td>\n",
              "      <td>0.0</td>\n",
              "      <td>1</td>\n",
              "      <td>1</td>\n",
              "      <td>1</td>\n",
              "      <td>1</td>\n",
              "      <td>...</td>\n",
              "      <td>0.0</td>\n",
              "      <td>NaN</td>\n",
              "      <td>0.0</td>\n",
              "      <td>N</td>\n",
              "      <td>2.0</td>\n",
              "      <td>NaN</td>\n",
              "      <td>0</td>\n",
              "      <td>1.0</td>\n",
              "      <td>0.0</td>\n",
              "      <td>2</td>\n",
              "      <td>6</td>\n",
              "      <td>0</td>\n",
              "      <td>8</td>\n",
              "      <td>1.0</td>\n",
              "      <td>0.0</td>\n",
              "      <td>NaN</td>\n",
              "      <td>Y</td>\n",
              "      <td>8</td>\n",
              "      <td>200</td>\n",
              "      <td>2034.0</td>\n",
              "      <td>0.0</td>\n",
              "      <td>Y</td>\n",
              "      <td>5/24/2017</td>\n",
              "      <td>B</td>\n",
              "      <td>Z</td>\n",
              "      <td>NaN</td>\n",
              "      <td>NaN</td>\n",
              "      <td>NaN</td>\n",
              "      <td>NaN</td>\n",
              "      <td>NaN</td>\n",
              "      <td>NaN</td>\n",
              "      <td>NaN</td>\n",
              "      <td>NaN</td>\n",
              "      <td>0</td>\n",
              "      <td>NaN</td>\n",
              "      <td>100.0</td>\n",
              "      <td>0</td>\n",
              "      <td>G</td>\n",
              "      <td>7</td>\n",
              "      <td>133.28</td>\n",
              "    </tr>\n",
              "    <tr>\n",
              "      <th>2</th>\n",
              "      <td>1</td>\n",
              "      <td>0000000000M0022</td>\n",
              "      <td>1</td>\n",
              "      <td>8.0</td>\n",
              "      <td>1.0</td>\n",
              "      <td>00000</td>\n",
              "      <td>0.0</td>\n",
              "      <td>00</td>\n",
              "      <td>113.0</td>\n",
              "      <td>27568</td>\n",
              "      <td>'UCHEE CREEK             '</td>\n",
              "      <td>NaN</td>\n",
              "      <td>'101ST AIRBORNE RD '</td>\n",
              "      <td>'3.4 KM S OF SUNSHINE RD  '</td>\n",
              "      <td>99.99</td>\n",
              "      <td>0.000</td>\n",
              "      <td>0.0</td>\n",
              "      <td>NaN</td>\n",
              "      <td>NaN</td>\n",
              "      <td>32174328.0</td>\n",
              "      <td>84583800.0</td>\n",
              "      <td>18</td>\n",
              "      <td>3</td>\n",
              "      <td>74</td>\n",
              "      <td>74</td>\n",
              "      <td>9.0</td>\n",
              "      <td>1942</td>\n",
              "      <td>2.0</td>\n",
              "      <td>0</td>\n",
              "      <td>375</td>\n",
              "      <td>2015.0</td>\n",
              "      <td>4</td>\n",
              "      <td>10.4</td>\n",
              "      <td>0.0</td>\n",
              "      <td>0</td>\n",
              "      <td>0.0</td>\n",
              "      <td>0</td>\n",
              "      <td>0</td>\n",
              "      <td>1</td>\n",
              "      <td>1</td>\n",
              "      <td>...</td>\n",
              "      <td>NaN</td>\n",
              "      <td>NaN</td>\n",
              "      <td>0.0</td>\n",
              "      <td>N</td>\n",
              "      <td>2.0</td>\n",
              "      <td>NaN</td>\n",
              "      <td>0</td>\n",
              "      <td>0.0</td>\n",
              "      <td>0.0</td>\n",
              "      <td>1</td>\n",
              "      <td>1</td>\n",
              "      <td>0</td>\n",
              "      <td>0</td>\n",
              "      <td>35.0</td>\n",
              "      <td>0.0</td>\n",
              "      <td>NaN</td>\n",
              "      <td>Y</td>\n",
              "      <td>8</td>\n",
              "      <td>400</td>\n",
              "      <td>2037.0</td>\n",
              "      <td>NaN</td>\n",
              "      <td>Y</td>\n",
              "      <td>5/20/2016</td>\n",
              "      <td>B</td>\n",
              "      <td>Z</td>\n",
              "      <td>NaN</td>\n",
              "      <td>NaN</td>\n",
              "      <td>NaN</td>\n",
              "      <td>NaN</td>\n",
              "      <td>NaN</td>\n",
              "      <td>NaN</td>\n",
              "      <td>NaN</td>\n",
              "      <td>NaN</td>\n",
              "      <td>0</td>\n",
              "      <td>NaN</td>\n",
              "      <td>69.5</td>\n",
              "      <td>0</td>\n",
              "      <td>F</td>\n",
              "      <td>5</td>\n",
              "      <td>387.00</td>\n",
              "    </tr>\n",
              "    <tr>\n",
              "      <th>3</th>\n",
              "      <td>1</td>\n",
              "      <td>000000883039900</td>\n",
              "      <td>1</td>\n",
              "      <td>4.0</td>\n",
              "      <td>1.0</td>\n",
              "      <td>00088</td>\n",
              "      <td>0.0</td>\n",
              "      <td>02</td>\n",
              "      <td>59.0</td>\n",
              "      <td>0</td>\n",
              "      <td>'LITTLE BEAR CR. DAM SPW '</td>\n",
              "      <td>NaN</td>\n",
              "      <td>'CO. RD 88         '</td>\n",
              "      <td>'LITTLE BEAR CR DAM       '</td>\n",
              "      <td>99.99</td>\n",
              "      <td>0.000</td>\n",
              "      <td>0.0</td>\n",
              "      <td>NaN</td>\n",
              "      <td>NaN</td>\n",
              "      <td>34270600.0</td>\n",
              "      <td>87581200.0</td>\n",
              "      <td>16</td>\n",
              "      <td>3</td>\n",
              "      <td>67</td>\n",
              "      <td>67</td>\n",
              "      <td>8.0</td>\n",
              "      <td>1974</td>\n",
              "      <td>2.0</td>\n",
              "      <td>0</td>\n",
              "      <td>300</td>\n",
              "      <td>2013.0</td>\n",
              "      <td>5</td>\n",
              "      <td>11.6</td>\n",
              "      <td>0.0</td>\n",
              "      <td>99</td>\n",
              "      <td>0.0</td>\n",
              "      <td>1</td>\n",
              "      <td>1</td>\n",
              "      <td>1</td>\n",
              "      <td>1</td>\n",
              "      <td>...</td>\n",
              "      <td>NaN</td>\n",
              "      <td>NaN</td>\n",
              "      <td>0.0</td>\n",
              "      <td>N</td>\n",
              "      <td>2.0</td>\n",
              "      <td>NaN</td>\n",
              "      <td>0</td>\n",
              "      <td>0.0</td>\n",
              "      <td>0.0</td>\n",
              "      <td>1</td>\n",
              "      <td>1</td>\n",
              "      <td>0</td>\n",
              "      <td>0</td>\n",
              "      <td>5.0</td>\n",
              "      <td>0.0</td>\n",
              "      <td>NaN</td>\n",
              "      <td>Y</td>\n",
              "      <td>8</td>\n",
              "      <td>350</td>\n",
              "      <td>2032.0</td>\n",
              "      <td>NaN</td>\n",
              "      <td>Y</td>\n",
              "      <td>5/10/2017</td>\n",
              "      <td>B</td>\n",
              "      <td>Z</td>\n",
              "      <td>NaN</td>\n",
              "      <td>NaN</td>\n",
              "      <td>NaN</td>\n",
              "      <td>NaN</td>\n",
              "      <td>NaN</td>\n",
              "      <td>NaN</td>\n",
              "      <td>NaN</td>\n",
              "      <td>NaN</td>\n",
              "      <td>0</td>\n",
              "      <td>NaN</td>\n",
              "      <td>90.2</td>\n",
              "      <td>0</td>\n",
              "      <td>G</td>\n",
              "      <td>7</td>\n",
              "      <td>687.75</td>\n",
              "    </tr>\n",
              "    <tr>\n",
              "      <th>4</th>\n",
              "      <td>1</td>\n",
              "      <td>000001014002450</td>\n",
              "      <td>1</td>\n",
              "      <td>3.0</td>\n",
              "      <td>1.0</td>\n",
              "      <td>00101</td>\n",
              "      <td>0.0</td>\n",
              "      <td>02</td>\n",
              "      <td>79.0</td>\n",
              "      <td>0</td>\n",
              "      <td>'TENNESSEE RIVER         '</td>\n",
              "      <td>NaN</td>\n",
              "      <td>'SR 101            '</td>\n",
              "      <td>'ON WHEELER DAM           '</td>\n",
              "      <td>4.52</td>\n",
              "      <td>39.429</td>\n",
              "      <td>0.0</td>\n",
              "      <td>NaN</td>\n",
              "      <td>NaN</td>\n",
              "      <td>34481800.0</td>\n",
              "      <td>87225400.0</td>\n",
              "      <td>42</td>\n",
              "      <td>3</td>\n",
              "      <td>67</td>\n",
              "      <td>67</td>\n",
              "      <td>6.0</td>\n",
              "      <td>1937</td>\n",
              "      <td>2.0</td>\n",
              "      <td>0</td>\n",
              "      <td>6200</td>\n",
              "      <td>2014.0</td>\n",
              "      <td>4</td>\n",
              "      <td>7.9</td>\n",
              "      <td>0.0</td>\n",
              "      <td>0</td>\n",
              "      <td>0.0</td>\n",
              "      <td>1</td>\n",
              "      <td>0</td>\n",
              "      <td>0</td>\n",
              "      <td>0</td>\n",
              "      <td>...</td>\n",
              "      <td>NaN</td>\n",
              "      <td>NaN</td>\n",
              "      <td>0.0</td>\n",
              "      <td>N</td>\n",
              "      <td>2.0</td>\n",
              "      <td>NaN</td>\n",
              "      <td>0</td>\n",
              "      <td>0.0</td>\n",
              "      <td>1962.0</td>\n",
              "      <td>1</td>\n",
              "      <td>1</td>\n",
              "      <td>0</td>\n",
              "      <td>0</td>\n",
              "      <td>10.0</td>\n",
              "      <td>0.0</td>\n",
              "      <td>1.0</td>\n",
              "      <td>Y</td>\n",
              "      <td>9</td>\n",
              "      <td>10000</td>\n",
              "      <td>2030.0</td>\n",
              "      <td>NaN</td>\n",
              "      <td>Y</td>\n",
              "      <td>5/27/2016</td>\n",
              "      <td>B</td>\n",
              "      <td>C</td>\n",
              "      <td>NaN</td>\n",
              "      <td>NaN</td>\n",
              "      <td>NaN</td>\n",
              "      <td>NaN</td>\n",
              "      <td>NaN</td>\n",
              "      <td>NaN</td>\n",
              "      <td>NaN</td>\n",
              "      <td>NaN</td>\n",
              "      <td>2</td>\n",
              "      <td>NaN</td>\n",
              "      <td>49.9</td>\n",
              "      <td>2</td>\n",
              "      <td>F</td>\n",
              "      <td>6</td>\n",
              "      <td>15453.36</td>\n",
              "    </tr>\n",
              "  </tbody>\n",
              "</table>\n",
              "<p>5 rows × 137 columns</p>\n",
              "</div>"
            ],
            "text/plain": [
              "   STATE_CODE_001 STRUCTURE_NUMBER_008  RECORD_TYPE_005A  ...  CAT10  CAT23     CAT29\n",
              "0               1      00000000000S702                 1  ...      G      7    145.50\n",
              "1               1      00000000000S703                 1  ...      G      7    133.28\n",
              "2               1      0000000000M0022                 1  ...      F      5    387.00\n",
              "3               1      000000883039900                 1  ...      G      7    687.75\n",
              "4               1      000001014002450                 1  ...      F      6  15453.36\n",
              "\n",
              "[5 rows x 137 columns]"
            ]
          },
          "metadata": {
            "tags": []
          },
          "execution_count": 8
        }
      ]
    },
    {
      "cell_type": "code",
      "metadata": {
        "id": "WykG_858Tm3b",
        "colab_type": "code",
        "outputId": "d35e89a5-a2c7-495f-a5b0-305b3ff219c4",
        "colab": {
          "base_uri": "https://localhost:8080/",
          "height": 1000
        }
      },
      "source": [
        "bridges9.info(137)"
      ],
      "execution_count": 0,
      "outputs": [
        {
          "output_type": "stream",
          "text": [
            "<class 'pandas.core.frame.DataFrame'>\n",
            "RangeIndex: 615002 entries, 0 to 615001\n",
            "Data columns (total 137 columns):\n",
            "STATE_CODE_001             int64\n",
            "STRUCTURE_NUMBER_008       object\n",
            "RECORD_TYPE_005A           int64\n",
            "ROUTE_PREFIX_005B          float64\n",
            "SERVICE_LEVEL_005C         float64\n",
            "ROUTE_NUMBER_005D          object\n",
            "DIRECTION_005E             float64\n",
            "HIGHWAY_DISTRICT_002       object\n",
            "COUNTY_CODE_003            float64\n",
            "PLACE_CODE_004             int64\n",
            "FEATURES_DESC_006A         object\n",
            "CRITICAL_FACILITY_006B     float64\n",
            "FACILITY_CARRIED_007       object\n",
            "LOCATION_009               object\n",
            "MIN_VERT_CLR_010           float64\n",
            "KILOPOINT_011              float64\n",
            "BASE_HWY_NETWORK_012       float64\n",
            "LRS_INV_ROUTE_013A         object\n",
            "SUBROUTE_NO_013B           float64\n",
            "LAT_016                    float64\n",
            "LONG_017                   float64\n",
            "DETOUR_KILOS_019           int64\n",
            "TOLL_020                   int64\n",
            "MAINTENANCE_021            int64\n",
            "OWNER_022                  int64\n",
            "FUNCTIONAL_CLASS_026       float64\n",
            "YEAR_BUILT_027             int64\n",
            "TRAFFIC_LANES_ON_028A      float64\n",
            "TRAFFIC_LANES_UND_028B     int64\n",
            "ADT_029                    int64\n",
            "YEAR_ADT_030               float64\n",
            "DESIGN_LOAD_031            object\n",
            "APPR_WIDTH_MT_032          float64\n",
            "MEDIAN_CODE_033            float64\n",
            "DEGREES_SKEW_034           int64\n",
            "STRUCTURE_FLARED_035       float64\n",
            "RAILINGS_036A              object\n",
            "TRANSITIONS_036B           object\n",
            "APPR_RAIL_036C             object\n",
            "APPR_RAIL_END_036D         object\n",
            "HISTORY_037                int64\n",
            "NAVIGATION_038             object\n",
            "NAV_VERT_CLR_MT_039        float64\n",
            "NAV_HORR_CLR_MT_040        float64\n",
            "OPEN_CLOSED_POSTED_041     object\n",
            "SERVICE_ON_042A            int64\n",
            "SERVICE_UND_042B           int64\n",
            "STRUCTURE_KIND_043A        int64\n",
            "STRUCTURE_TYPE_043B        int64\n",
            "APPR_KIND_044A             int64\n",
            "APPR_TYPE_044B             int64\n",
            "MAIN_UNIT_SPANS_045        int64\n",
            "APPR_SPANS_046             int64\n",
            "HORR_CLR_MT_047            float64\n",
            "MAX_SPAN_LEN_MT_048        float64\n",
            "STRUCTURE_LEN_MT_049       float64\n",
            "LEFT_CURB_MT_050A          float64\n",
            "RIGHT_CURB_MT_050B         float64\n",
            "ROADWAY_WIDTH_MT_051       float64\n",
            "DECK_WIDTH_MT_052          float64\n",
            "VERT_CLR_OVER_MT_053       float64\n",
            "VERT_CLR_UND_REF_054A      object\n",
            "VERT_CLR_UND_054B          float64\n",
            "LAT_UND_REF_055A           object\n",
            "LAT_UND_MT_055B            float64\n",
            "LEFT_LAT_UND_MT_056        float64\n",
            "DECK_COND_058              object\n",
            "SUPERSTRUCTURE_COND_059    object\n",
            "SUBSTRUCTURE_COND_060      object\n",
            "CHANNEL_COND_061           object\n",
            "CULVERT_COND_062           object\n",
            "OPR_RATING_METH_063        object\n",
            "OPERATING_RATING_064       float64\n",
            "INV_RATING_METH_065        object\n",
            "INVENTORY_RATING_066       float64\n",
            "STRUCTURAL_EVAL_067        object\n",
            "DECK_GEOMETRY_EVAL_068     object\n",
            "UNDCLRENCE_EVAL_069        object\n",
            "POSTING_EVAL_070           float64\n",
            "WATERWAY_EVAL_071          object\n",
            "APPR_ROAD_EVAL_072         float64\n",
            "WORK_PROPOSED_075A         float64\n",
            "WORK_DONE_BY_075B          float64\n",
            "IMP_LEN_MT_076             float64\n",
            "DATE_OF_INSPECT_090        float64\n",
            "INSPECT_FREQ_MONTHS_091    float64\n",
            "FRACTURE_092A              object\n",
            "UNDWATER_LOOK_SEE_092B     object\n",
            "SPEC_INSPECT_092C          object\n",
            "FRACTURE_LAST_DATE_093A    float64\n",
            "UNDWATER_LAST_DATE_093B    float64\n",
            "SPEC_LAST_DATE_093C        float64\n",
            "BRIDGE_IMP_COST_094        float64\n",
            "ROADWAY_IMP_COST_095       float64\n",
            "TOTAL_IMP_COST_096         float64\n",
            "YEAR_OF_IMP_097            float64\n",
            "OTHER_STATE_CODE_098A      object\n",
            "OTHER_STATE_PCNT_098B      float64\n",
            "OTHR_STATE_STRUC_NO_099    object\n",
            "STRAHNET_HIGHWAY_100       float64\n",
            "PARALLEL_STRUCTURE_101     object\n",
            "TRAFFIC_DIRECTION_102      float64\n",
            "TEMP_STRUCTURE_103         object\n",
            "HIGHWAY_SYSTEM_104         int64\n",
            "FEDERAL_LANDS_105          float64\n",
            "YEAR_RECONSTRUCTED_106     float64\n",
            "DECK_STRUCTURE_TYPE_107    object\n",
            "SURFACE_TYPE_108A          object\n",
            "MEMBRANE_TYPE_108B         object\n",
            "DECK_PROTECTION_108C       object\n",
            "PERCENT_ADT_TRUCK_109      float64\n",
            "NATIONAL_NETWORK_110       float64\n",
            "PIER_PROTECTION_111        float64\n",
            "BRIDGE_LEN_IND_112         object\n",
            "SCOUR_CRITICAL_113         object\n",
            "FUTURE_ADT_114             int64\n",
            "YEAR_OF_FUTURE_ADT_115     float64\n",
            "MIN_NAV_CLR_MT_116         float64\n",
            "FED_AGENCY                 object\n",
            "DATE_LAST_UPDATE           object\n",
            "TYPE_LAST_UPDATE           object\n",
            "DEDUCT_CODE                object\n",
            "REMARKS                    float64\n",
            "PROGRAM_CODE               object\n",
            "PROJ_NO                    object\n",
            "PROJ_SUFFIX                float64\n",
            "NBI_TYPE_OF_IMP            float64\n",
            "DTL_TYPE_OF_IMP            float64\n",
            "SPECIAL_CODE               float64\n",
            "STEP_CODE                  float64\n",
            "STATUS_WITH_10YR_RULE      int64\n",
            "SUFFICIENCY_ASTERC         object\n",
            "SUFFICIENCY_RATING         float64\n",
            "STATUS_NO_10YR_RULE        int64\n",
            "CAT10                      object\n",
            "CAT23                      object\n",
            "CAT29                      float64\n",
            "dtypes: float64(64), int64(24), object(49)\n",
            "memory usage: 642.8+ MB\n"
          ],
          "name": "stdout"
        }
      ]
    },
    {
      "cell_type": "markdown",
      "metadata": {
        "id": "wnKtl2gOKCKD",
        "colab_type": "text"
      },
      "source": [
        "**I HAVE ALREADY DONE SOME FEATURE SELECTION, AS NOTED ABOVE,  SO I AM NOT USING ALL 136 FEATURES**"
      ]
    },
    {
      "cell_type": "code",
      "metadata": {
        "colab_type": "code",
        "id": "bniB3AumxiMD",
        "colab": {}
      },
      "source": [
        "bridges99=bridges9.iloc[:,[4,22,23,26,27,31,45,47,54,59,66,67,68,72,74,75,76,106,107,108,109,132]]"
      ],
      "execution_count": 0,
      "outputs": []
    },
    {
      "cell_type": "code",
      "metadata": {
        "id": "xoRhE0BOAODI",
        "colab_type": "code",
        "outputId": "44d93b92-85de-497b-b3d9-7a22297f77d7",
        "colab": {
          "base_uri": "https://localhost:8080/",
          "height": 222
        }
      },
      "source": [
        "bridges99.head()"
      ],
      "execution_count": 0,
      "outputs": [
        {
          "output_type": "execute_result",
          "data": {
            "text/html": [
              "<div>\n",
              "<style scoped>\n",
              "    .dataframe tbody tr th:only-of-type {\n",
              "        vertical-align: middle;\n",
              "    }\n",
              "\n",
              "    .dataframe tbody tr th {\n",
              "        vertical-align: top;\n",
              "    }\n",
              "\n",
              "    .dataframe thead th {\n",
              "        text-align: right;\n",
              "    }\n",
              "</style>\n",
              "<table border=\"1\" class=\"dataframe\">\n",
              "  <thead>\n",
              "    <tr style=\"text-align: right;\">\n",
              "      <th></th>\n",
              "      <th>SERVICE_LEVEL_005C</th>\n",
              "      <th>TOLL_020</th>\n",
              "      <th>MAINTENANCE_021</th>\n",
              "      <th>YEAR_BUILT_027</th>\n",
              "      <th>TRAFFIC_LANES_ON_028A</th>\n",
              "      <th>DESIGN_LOAD_031</th>\n",
              "      <th>SERVICE_ON_042A</th>\n",
              "      <th>STRUCTURE_KIND_043A</th>\n",
              "      <th>MAX_SPAN_LEN_MT_048</th>\n",
              "      <th>DECK_WIDTH_MT_052</th>\n",
              "      <th>DECK_COND_058</th>\n",
              "      <th>SUPERSTRUCTURE_COND_059</th>\n",
              "      <th>SUBSTRUCTURE_COND_060</th>\n",
              "      <th>OPERATING_RATING_064</th>\n",
              "      <th>INVENTORY_RATING_066</th>\n",
              "      <th>STRUCTURAL_EVAL_067</th>\n",
              "      <th>DECK_GEOMETRY_EVAL_068</th>\n",
              "      <th>DECK_STRUCTURE_TYPE_107</th>\n",
              "      <th>SURFACE_TYPE_108A</th>\n",
              "      <th>MEMBRANE_TYPE_108B</th>\n",
              "      <th>DECK_PROTECTION_108C</th>\n",
              "      <th>SUFFICIENCY_RATING</th>\n",
              "    </tr>\n",
              "  </thead>\n",
              "  <tbody>\n",
              "    <tr>\n",
              "      <th>0</th>\n",
              "      <td>1.0</td>\n",
              "      <td>3</td>\n",
              "      <td>62</td>\n",
              "      <td>1999</td>\n",
              "      <td>2.0</td>\n",
              "      <td>5</td>\n",
              "      <td>1</td>\n",
              "      <td>5</td>\n",
              "      <td>14.7</td>\n",
              "      <td>9.7</td>\n",
              "      <td>8</td>\n",
              "      <td>8</td>\n",
              "      <td>7</td>\n",
              "      <td>44.2</td>\n",
              "      <td>32.4</td>\n",
              "      <td>7</td>\n",
              "      <td>7</td>\n",
              "      <td>2</td>\n",
              "      <td>6</td>\n",
              "      <td>0</td>\n",
              "      <td>1</td>\n",
              "      <td>100.0</td>\n",
              "    </tr>\n",
              "    <tr>\n",
              "      <th>1</th>\n",
              "      <td>1.0</td>\n",
              "      <td>3</td>\n",
              "      <td>62</td>\n",
              "      <td>2002</td>\n",
              "      <td>2.0</td>\n",
              "      <td>5</td>\n",
              "      <td>1</td>\n",
              "      <td>5</td>\n",
              "      <td>12.9</td>\n",
              "      <td>9.8</td>\n",
              "      <td>8</td>\n",
              "      <td>8</td>\n",
              "      <td>7</td>\n",
              "      <td>84.2</td>\n",
              "      <td>34.6</td>\n",
              "      <td>7</td>\n",
              "      <td>6</td>\n",
              "      <td>2</td>\n",
              "      <td>6</td>\n",
              "      <td>0</td>\n",
              "      <td>8</td>\n",
              "      <td>100.0</td>\n",
              "    </tr>\n",
              "    <tr>\n",
              "      <th>2</th>\n",
              "      <td>1.0</td>\n",
              "      <td>3</td>\n",
              "      <td>74</td>\n",
              "      <td>1942</td>\n",
              "      <td>2.0</td>\n",
              "      <td>4</td>\n",
              "      <td>1</td>\n",
              "      <td>1</td>\n",
              "      <td>18.3</td>\n",
              "      <td>9.0</td>\n",
              "      <td>5</td>\n",
              "      <td>5</td>\n",
              "      <td>6</td>\n",
              "      <td>51.7</td>\n",
              "      <td>37.2</td>\n",
              "      <td>5</td>\n",
              "      <td>4</td>\n",
              "      <td>1</td>\n",
              "      <td>1</td>\n",
              "      <td>0</td>\n",
              "      <td>0</td>\n",
              "      <td>69.5</td>\n",
              "    </tr>\n",
              "    <tr>\n",
              "      <th>3</th>\n",
              "      <td>1.0</td>\n",
              "      <td>3</td>\n",
              "      <td>67</td>\n",
              "      <td>1974</td>\n",
              "      <td>2.0</td>\n",
              "      <td>5</td>\n",
              "      <td>1</td>\n",
              "      <td>5</td>\n",
              "      <td>14.0</td>\n",
              "      <td>10.5</td>\n",
              "      <td>7</td>\n",
              "      <td>7</td>\n",
              "      <td>7</td>\n",
              "      <td>44.2</td>\n",
              "      <td>26.6</td>\n",
              "      <td>6</td>\n",
              "      <td>6</td>\n",
              "      <td>1</td>\n",
              "      <td>1</td>\n",
              "      <td>0</td>\n",
              "      <td>0</td>\n",
              "      <td>90.2</td>\n",
              "    </tr>\n",
              "    <tr>\n",
              "      <th>4</th>\n",
              "      <td>1.0</td>\n",
              "      <td>3</td>\n",
              "      <td>67</td>\n",
              "      <td>1937</td>\n",
              "      <td>2.0</td>\n",
              "      <td>4</td>\n",
              "      <td>5</td>\n",
              "      <td>3</td>\n",
              "      <td>53.3</td>\n",
              "      <td>7.8</td>\n",
              "      <td>6</td>\n",
              "      <td>6</td>\n",
              "      <td>7</td>\n",
              "      <td>40.0</td>\n",
              "      <td>23.9</td>\n",
              "      <td>5</td>\n",
              "      <td>2</td>\n",
              "      <td>1</td>\n",
              "      <td>1</td>\n",
              "      <td>0</td>\n",
              "      <td>0</td>\n",
              "      <td>49.9</td>\n",
              "    </tr>\n",
              "  </tbody>\n",
              "</table>\n",
              "</div>"
            ],
            "text/plain": [
              "   SERVICE_LEVEL_005C  TOLL_020  ...  DECK_PROTECTION_108C  SUFFICIENCY_RATING\n",
              "0                 1.0         3  ...                     1               100.0\n",
              "1                 1.0         3  ...                     8               100.0\n",
              "2                 1.0         3  ...                     0                69.5\n",
              "3                 1.0         3  ...                     0                90.2\n",
              "4                 1.0         3  ...                     0                49.9\n",
              "\n",
              "[5 rows x 22 columns]"
            ]
          },
          "metadata": {
            "tags": []
          },
          "execution_count": 11
        }
      ]
    },
    {
      "cell_type": "markdown",
      "metadata": {
        "id": "mFAA33RJeVv8",
        "colab_type": "text"
      },
      "source": [
        "**GET AN OVERVIEW OF OUR DATA**"
      ]
    },
    {
      "cell_type": "code",
      "metadata": {
        "id": "sUtqBS9teNUX",
        "colab_type": "code",
        "outputId": "536dce87-c501-4691-88da-18c6dae3fb7d",
        "colab": {
          "base_uri": "https://localhost:8080/",
          "height": 485
        }
      },
      "source": [
        "bridges99.info()"
      ],
      "execution_count": 0,
      "outputs": [
        {
          "output_type": "stream",
          "text": [
            "<class 'pandas.core.frame.DataFrame'>\n",
            "RangeIndex: 615002 entries, 0 to 615001\n",
            "Data columns (total 22 columns):\n",
            "SERVICE_LEVEL_005C         614999 non-null float64\n",
            "TOLL_020                   615002 non-null int64\n",
            "MAINTENANCE_021            615002 non-null int64\n",
            "YEAR_BUILT_027             615002 non-null int64\n",
            "TRAFFIC_LANES_ON_028A      614998 non-null float64\n",
            "DESIGN_LOAD_031            615002 non-null object\n",
            "SERVICE_ON_042A            615002 non-null int64\n",
            "STRUCTURE_KIND_043A        615002 non-null int64\n",
            "MAX_SPAN_LEN_MT_048        615002 non-null float64\n",
            "DECK_WIDTH_MT_052          614998 non-null float64\n",
            "DECK_COND_058              615002 non-null object\n",
            "SUPERSTRUCTURE_COND_059    615002 non-null object\n",
            "SUBSTRUCTURE_COND_060      615002 non-null object\n",
            "OPERATING_RATING_064       611057 non-null float64\n",
            "INVENTORY_RATING_066       611093 non-null float64\n",
            "STRUCTURAL_EVAL_067        615002 non-null object\n",
            "DECK_GEOMETRY_EVAL_068     615002 non-null object\n",
            "DECK_STRUCTURE_TYPE_107    615002 non-null object\n",
            "SURFACE_TYPE_108A          615001 non-null object\n",
            "MEMBRANE_TYPE_108B         615000 non-null object\n",
            "DECK_PROTECTION_108C       615001 non-null object\n",
            "SUFFICIENCY_RATING         615002 non-null float64\n",
            "dtypes: float64(7), int64(5), object(10)\n",
            "memory usage: 103.2+ MB\n"
          ],
          "name": "stdout"
        }
      ]
    },
    {
      "cell_type": "code",
      "metadata": {
        "id": "NATOnuPaZtxh",
        "colab_type": "code",
        "outputId": "d6fa81ac-c773-465f-f8a5-6f90e10bdf3f",
        "colab": {
          "base_uri": "https://localhost:8080/",
          "height": 222
        }
      },
      "source": [
        "bridges99.head()"
      ],
      "execution_count": 0,
      "outputs": [
        {
          "output_type": "execute_result",
          "data": {
            "text/html": [
              "<div>\n",
              "<style scoped>\n",
              "    .dataframe tbody tr th:only-of-type {\n",
              "        vertical-align: middle;\n",
              "    }\n",
              "\n",
              "    .dataframe tbody tr th {\n",
              "        vertical-align: top;\n",
              "    }\n",
              "\n",
              "    .dataframe thead th {\n",
              "        text-align: right;\n",
              "    }\n",
              "</style>\n",
              "<table border=\"1\" class=\"dataframe\">\n",
              "  <thead>\n",
              "    <tr style=\"text-align: right;\">\n",
              "      <th></th>\n",
              "      <th>SERVICE_LEVEL_005C</th>\n",
              "      <th>TOLL_020</th>\n",
              "      <th>MAINTENANCE_021</th>\n",
              "      <th>YEAR_BUILT_027</th>\n",
              "      <th>TRAFFIC_LANES_ON_028A</th>\n",
              "      <th>DESIGN_LOAD_031</th>\n",
              "      <th>SERVICE_ON_042A</th>\n",
              "      <th>STRUCTURE_KIND_043A</th>\n",
              "      <th>MAX_SPAN_LEN_MT_048</th>\n",
              "      <th>DECK_WIDTH_MT_052</th>\n",
              "      <th>DECK_COND_058</th>\n",
              "      <th>SUPERSTRUCTURE_COND_059</th>\n",
              "      <th>SUBSTRUCTURE_COND_060</th>\n",
              "      <th>OPERATING_RATING_064</th>\n",
              "      <th>INVENTORY_RATING_066</th>\n",
              "      <th>STRUCTURAL_EVAL_067</th>\n",
              "      <th>DECK_GEOMETRY_EVAL_068</th>\n",
              "      <th>DECK_STRUCTURE_TYPE_107</th>\n",
              "      <th>SURFACE_TYPE_108A</th>\n",
              "      <th>MEMBRANE_TYPE_108B</th>\n",
              "      <th>DECK_PROTECTION_108C</th>\n",
              "      <th>SUFFICIENCY_RATING</th>\n",
              "    </tr>\n",
              "  </thead>\n",
              "  <tbody>\n",
              "    <tr>\n",
              "      <th>0</th>\n",
              "      <td>1.0</td>\n",
              "      <td>3</td>\n",
              "      <td>62</td>\n",
              "      <td>1999</td>\n",
              "      <td>2.0</td>\n",
              "      <td>5</td>\n",
              "      <td>1</td>\n",
              "      <td>5</td>\n",
              "      <td>14.7</td>\n",
              "      <td>9.7</td>\n",
              "      <td>8</td>\n",
              "      <td>8</td>\n",
              "      <td>7</td>\n",
              "      <td>44.2</td>\n",
              "      <td>32.4</td>\n",
              "      <td>7</td>\n",
              "      <td>7</td>\n",
              "      <td>2</td>\n",
              "      <td>6</td>\n",
              "      <td>0</td>\n",
              "      <td>1</td>\n",
              "      <td>100.0</td>\n",
              "    </tr>\n",
              "    <tr>\n",
              "      <th>1</th>\n",
              "      <td>1.0</td>\n",
              "      <td>3</td>\n",
              "      <td>62</td>\n",
              "      <td>2002</td>\n",
              "      <td>2.0</td>\n",
              "      <td>5</td>\n",
              "      <td>1</td>\n",
              "      <td>5</td>\n",
              "      <td>12.9</td>\n",
              "      <td>9.8</td>\n",
              "      <td>8</td>\n",
              "      <td>8</td>\n",
              "      <td>7</td>\n",
              "      <td>84.2</td>\n",
              "      <td>34.6</td>\n",
              "      <td>7</td>\n",
              "      <td>6</td>\n",
              "      <td>2</td>\n",
              "      <td>6</td>\n",
              "      <td>0</td>\n",
              "      <td>8</td>\n",
              "      <td>100.0</td>\n",
              "    </tr>\n",
              "    <tr>\n",
              "      <th>2</th>\n",
              "      <td>1.0</td>\n",
              "      <td>3</td>\n",
              "      <td>74</td>\n",
              "      <td>1942</td>\n",
              "      <td>2.0</td>\n",
              "      <td>4</td>\n",
              "      <td>1</td>\n",
              "      <td>1</td>\n",
              "      <td>18.3</td>\n",
              "      <td>9.0</td>\n",
              "      <td>5</td>\n",
              "      <td>5</td>\n",
              "      <td>6</td>\n",
              "      <td>51.7</td>\n",
              "      <td>37.2</td>\n",
              "      <td>5</td>\n",
              "      <td>4</td>\n",
              "      <td>1</td>\n",
              "      <td>1</td>\n",
              "      <td>0</td>\n",
              "      <td>0</td>\n",
              "      <td>69.5</td>\n",
              "    </tr>\n",
              "    <tr>\n",
              "      <th>3</th>\n",
              "      <td>1.0</td>\n",
              "      <td>3</td>\n",
              "      <td>67</td>\n",
              "      <td>1974</td>\n",
              "      <td>2.0</td>\n",
              "      <td>5</td>\n",
              "      <td>1</td>\n",
              "      <td>5</td>\n",
              "      <td>14.0</td>\n",
              "      <td>10.5</td>\n",
              "      <td>7</td>\n",
              "      <td>7</td>\n",
              "      <td>7</td>\n",
              "      <td>44.2</td>\n",
              "      <td>26.6</td>\n",
              "      <td>6</td>\n",
              "      <td>6</td>\n",
              "      <td>1</td>\n",
              "      <td>1</td>\n",
              "      <td>0</td>\n",
              "      <td>0</td>\n",
              "      <td>90.2</td>\n",
              "    </tr>\n",
              "    <tr>\n",
              "      <th>4</th>\n",
              "      <td>1.0</td>\n",
              "      <td>3</td>\n",
              "      <td>67</td>\n",
              "      <td>1937</td>\n",
              "      <td>2.0</td>\n",
              "      <td>4</td>\n",
              "      <td>5</td>\n",
              "      <td>3</td>\n",
              "      <td>53.3</td>\n",
              "      <td>7.8</td>\n",
              "      <td>6</td>\n",
              "      <td>6</td>\n",
              "      <td>7</td>\n",
              "      <td>40.0</td>\n",
              "      <td>23.9</td>\n",
              "      <td>5</td>\n",
              "      <td>2</td>\n",
              "      <td>1</td>\n",
              "      <td>1</td>\n",
              "      <td>0</td>\n",
              "      <td>0</td>\n",
              "      <td>49.9</td>\n",
              "    </tr>\n",
              "  </tbody>\n",
              "</table>\n",
              "</div>"
            ],
            "text/plain": [
              "   SERVICE_LEVEL_005C  TOLL_020  ...  DECK_PROTECTION_108C  SUFFICIENCY_RATING\n",
              "0                 1.0         3  ...                     1               100.0\n",
              "1                 1.0         3  ...                     8               100.0\n",
              "2                 1.0         3  ...                     0                69.5\n",
              "3                 1.0         3  ...                     0                90.2\n",
              "4                 1.0         3  ...                     0                49.9\n",
              "\n",
              "[5 rows x 22 columns]"
            ]
          },
          "metadata": {
            "tags": []
          },
          "execution_count": 13
        }
      ]
    },
    {
      "cell_type": "markdown",
      "metadata": {
        "id": "tI8bldZyn-Zr",
        "colab_type": "text"
      },
      "source": [
        "**CHECK FOR NAN**"
      ]
    },
    {
      "cell_type": "code",
      "metadata": {
        "id": "ZjEZv8-EnzRl",
        "colab_type": "code",
        "outputId": "449c7701-6b69-4dc1-91d9-af94a8dd87fb",
        "colab": {
          "base_uri": "https://localhost:8080/",
          "height": 416
        }
      },
      "source": [
        "bridges99.isna().sum()"
      ],
      "execution_count": 0,
      "outputs": [
        {
          "output_type": "execute_result",
          "data": {
            "text/plain": [
              "SERVICE_LEVEL_005C            3\n",
              "TOLL_020                      0\n",
              "MAINTENANCE_021               0\n",
              "YEAR_BUILT_027                0\n",
              "TRAFFIC_LANES_ON_028A         4\n",
              "DESIGN_LOAD_031               0\n",
              "SERVICE_ON_042A               0\n",
              "STRUCTURE_KIND_043A           0\n",
              "MAX_SPAN_LEN_MT_048           0\n",
              "DECK_WIDTH_MT_052             4\n",
              "DECK_COND_058                 0\n",
              "SUPERSTRUCTURE_COND_059       0\n",
              "SUBSTRUCTURE_COND_060         0\n",
              "OPERATING_RATING_064       3945\n",
              "INVENTORY_RATING_066       3909\n",
              "STRUCTURAL_EVAL_067           0\n",
              "DECK_GEOMETRY_EVAL_068        0\n",
              "DECK_STRUCTURE_TYPE_107       0\n",
              "SURFACE_TYPE_108A             1\n",
              "MEMBRANE_TYPE_108B            2\n",
              "DECK_PROTECTION_108C          1\n",
              "SUFFICIENCY_RATING            0\n",
              "dtype: int64"
            ]
          },
          "metadata": {
            "tags": []
          },
          "execution_count": 14
        }
      ]
    },
    {
      "cell_type": "markdown",
      "metadata": {
        "id": "-sZtu7HazYmY",
        "colab_type": "text"
      },
      "source": [
        "**DROP NANs -- LESS THAN .6% OF DATA**"
      ]
    },
    {
      "cell_type": "code",
      "metadata": {
        "id": "uU5IQopbXB00",
        "colab_type": "code",
        "colab": {}
      },
      "source": [
        "bridges99.dropna(how='any',inplace=True,axis=0)"
      ],
      "execution_count": 0,
      "outputs": []
    },
    {
      "cell_type": "code",
      "metadata": {
        "id": "VeedaPE_o3h_",
        "colab_type": "code",
        "outputId": "7b2039be-a10a-45af-cb81-0a489e48e0c3",
        "colab": {
          "base_uri": "https://localhost:8080/",
          "height": 485
        }
      },
      "source": [
        "bridges99.info()"
      ],
      "execution_count": 0,
      "outputs": [
        {
          "output_type": "stream",
          "text": [
            "<class 'pandas.core.frame.DataFrame'>\n",
            "Int64Index: 611039 entries, 0 to 615001\n",
            "Data columns (total 22 columns):\n",
            "SERVICE_LEVEL_005C         611039 non-null float64\n",
            "TOLL_020                   611039 non-null int64\n",
            "MAINTENANCE_021            611039 non-null int64\n",
            "YEAR_BUILT_027             611039 non-null int64\n",
            "TRAFFIC_LANES_ON_028A      611039 non-null float64\n",
            "DESIGN_LOAD_031            611039 non-null object\n",
            "SERVICE_ON_042A            611039 non-null int64\n",
            "STRUCTURE_KIND_043A        611039 non-null int64\n",
            "MAX_SPAN_LEN_MT_048        611039 non-null float64\n",
            "DECK_WIDTH_MT_052          611039 non-null float64\n",
            "DECK_COND_058              611039 non-null object\n",
            "SUPERSTRUCTURE_COND_059    611039 non-null object\n",
            "SUBSTRUCTURE_COND_060      611039 non-null object\n",
            "OPERATING_RATING_064       611039 non-null float64\n",
            "INVENTORY_RATING_066       611039 non-null float64\n",
            "STRUCTURAL_EVAL_067        611039 non-null object\n",
            "DECK_GEOMETRY_EVAL_068     611039 non-null object\n",
            "DECK_STRUCTURE_TYPE_107    611039 non-null object\n",
            "SURFACE_TYPE_108A          611039 non-null object\n",
            "MEMBRANE_TYPE_108B         611039 non-null object\n",
            "DECK_PROTECTION_108C       611039 non-null object\n",
            "SUFFICIENCY_RATING         611039 non-null float64\n",
            "dtypes: float64(7), int64(5), object(10)\n",
            "memory usage: 107.2+ MB\n"
          ],
          "name": "stdout"
        }
      ]
    },
    {
      "cell_type": "code",
      "metadata": {
        "id": "GmN8aZv6oZq4",
        "colab_type": "code",
        "outputId": "e9ecbcdd-f0d8-4145-d5a0-e39b4a4c9b71",
        "colab": {
          "base_uri": "https://localhost:8080/",
          "height": 191
        }
      },
      "source": [
        "bridges99['STRUCTURAL_EVAL_067'].value_counts(dropna=False)"
      ],
      "execution_count": 0,
      "outputs": [
        {
          "output_type": "execute_result",
          "data": {
            "text/plain": [
              "7    176798\n",
              "6    172466\n",
              "5    106191\n",
              "8     72235\n",
              "4     44467\n",
              "2     15137\n",
              "3     10676\n",
              "9      9818\n",
              "0      3251\n",
              "Name: STRUCTURAL_EVAL_067, dtype: int64"
            ]
          },
          "metadata": {
            "tags": []
          },
          "execution_count": 17
        }
      ]
    },
    {
      "cell_type": "markdown",
      "metadata": {
        "id": "UaMv415Ajegq",
        "colab_type": "text"
      },
      "source": [
        "**THE TARGET IS STRUCTURAL_EVALUATION**\n",
        "\n",
        "**THIS IS HOW NBI DETERMINES IF BRIDGE IS \"STRUCTURALLY DEFICIENT\"**"
      ]
    },
    {
      "cell_type": "markdown",
      "metadata": {
        "id": "EQqNiSFzBu3n",
        "colab_type": "text"
      },
      "source": [
        "**CREATE NEW FEATURE - MAIN SPAN SURFACE AREA  =MAX_SPAN_LEN_MT_048 X DECK_WIDTH_MT_052**\n",
        "\n",
        "**THE TOTAL SURFACE AREA OF THE MAIN SPAN HAS BEEN USED IN SOME STUDIES**"
      ]
    },
    {
      "cell_type": "code",
      "metadata": {
        "id": "3TT70qkmCIc6",
        "colab_type": "code",
        "colab": {}
      },
      "source": [
        "bridges99['surface_area']=bridges99['MAX_SPAN_LEN_MT_048']*bridges99['DECK_WIDTH_MT_052']"
      ],
      "execution_count": 0,
      "outputs": []
    },
    {
      "cell_type": "code",
      "metadata": {
        "id": "lsx9ETe7Cgal",
        "colab_type": "code",
        "outputId": "dafcb3ed-a7e6-428d-949b-e8155457b97d",
        "colab": {
          "base_uri": "https://localhost:8080/",
          "height": 222
        }
      },
      "source": [
        "bridges99.head()"
      ],
      "execution_count": 0,
      "outputs": [
        {
          "output_type": "execute_result",
          "data": {
            "text/html": [
              "<div>\n",
              "<style scoped>\n",
              "    .dataframe tbody tr th:only-of-type {\n",
              "        vertical-align: middle;\n",
              "    }\n",
              "\n",
              "    .dataframe tbody tr th {\n",
              "        vertical-align: top;\n",
              "    }\n",
              "\n",
              "    .dataframe thead th {\n",
              "        text-align: right;\n",
              "    }\n",
              "</style>\n",
              "<table border=\"1\" class=\"dataframe\">\n",
              "  <thead>\n",
              "    <tr style=\"text-align: right;\">\n",
              "      <th></th>\n",
              "      <th>SERVICE_LEVEL_005C</th>\n",
              "      <th>TOLL_020</th>\n",
              "      <th>MAINTENANCE_021</th>\n",
              "      <th>YEAR_BUILT_027</th>\n",
              "      <th>TRAFFIC_LANES_ON_028A</th>\n",
              "      <th>DESIGN_LOAD_031</th>\n",
              "      <th>SERVICE_ON_042A</th>\n",
              "      <th>STRUCTURE_KIND_043A</th>\n",
              "      <th>MAX_SPAN_LEN_MT_048</th>\n",
              "      <th>DECK_WIDTH_MT_052</th>\n",
              "      <th>DECK_COND_058</th>\n",
              "      <th>SUPERSTRUCTURE_COND_059</th>\n",
              "      <th>SUBSTRUCTURE_COND_060</th>\n",
              "      <th>OPERATING_RATING_064</th>\n",
              "      <th>INVENTORY_RATING_066</th>\n",
              "      <th>STRUCTURAL_EVAL_067</th>\n",
              "      <th>DECK_GEOMETRY_EVAL_068</th>\n",
              "      <th>DECK_STRUCTURE_TYPE_107</th>\n",
              "      <th>SURFACE_TYPE_108A</th>\n",
              "      <th>MEMBRANE_TYPE_108B</th>\n",
              "      <th>DECK_PROTECTION_108C</th>\n",
              "      <th>SUFFICIENCY_RATING</th>\n",
              "      <th>surface_area</th>\n",
              "    </tr>\n",
              "  </thead>\n",
              "  <tbody>\n",
              "    <tr>\n",
              "      <th>0</th>\n",
              "      <td>1.0</td>\n",
              "      <td>3</td>\n",
              "      <td>62</td>\n",
              "      <td>1999</td>\n",
              "      <td>2.0</td>\n",
              "      <td>5</td>\n",
              "      <td>1</td>\n",
              "      <td>5</td>\n",
              "      <td>14.7</td>\n",
              "      <td>9.7</td>\n",
              "      <td>8</td>\n",
              "      <td>8</td>\n",
              "      <td>7</td>\n",
              "      <td>44.2</td>\n",
              "      <td>32.4</td>\n",
              "      <td>7</td>\n",
              "      <td>7</td>\n",
              "      <td>2</td>\n",
              "      <td>6</td>\n",
              "      <td>0</td>\n",
              "      <td>1</td>\n",
              "      <td>100.0</td>\n",
              "      <td>142.59</td>\n",
              "    </tr>\n",
              "    <tr>\n",
              "      <th>1</th>\n",
              "      <td>1.0</td>\n",
              "      <td>3</td>\n",
              "      <td>62</td>\n",
              "      <td>2002</td>\n",
              "      <td>2.0</td>\n",
              "      <td>5</td>\n",
              "      <td>1</td>\n",
              "      <td>5</td>\n",
              "      <td>12.9</td>\n",
              "      <td>9.8</td>\n",
              "      <td>8</td>\n",
              "      <td>8</td>\n",
              "      <td>7</td>\n",
              "      <td>84.2</td>\n",
              "      <td>34.6</td>\n",
              "      <td>7</td>\n",
              "      <td>6</td>\n",
              "      <td>2</td>\n",
              "      <td>6</td>\n",
              "      <td>0</td>\n",
              "      <td>8</td>\n",
              "      <td>100.0</td>\n",
              "      <td>126.42</td>\n",
              "    </tr>\n",
              "    <tr>\n",
              "      <th>2</th>\n",
              "      <td>1.0</td>\n",
              "      <td>3</td>\n",
              "      <td>74</td>\n",
              "      <td>1942</td>\n",
              "      <td>2.0</td>\n",
              "      <td>4</td>\n",
              "      <td>1</td>\n",
              "      <td>1</td>\n",
              "      <td>18.3</td>\n",
              "      <td>9.0</td>\n",
              "      <td>5</td>\n",
              "      <td>5</td>\n",
              "      <td>6</td>\n",
              "      <td>51.7</td>\n",
              "      <td>37.2</td>\n",
              "      <td>5</td>\n",
              "      <td>4</td>\n",
              "      <td>1</td>\n",
              "      <td>1</td>\n",
              "      <td>0</td>\n",
              "      <td>0</td>\n",
              "      <td>69.5</td>\n",
              "      <td>164.70</td>\n",
              "    </tr>\n",
              "    <tr>\n",
              "      <th>3</th>\n",
              "      <td>1.0</td>\n",
              "      <td>3</td>\n",
              "      <td>67</td>\n",
              "      <td>1974</td>\n",
              "      <td>2.0</td>\n",
              "      <td>5</td>\n",
              "      <td>1</td>\n",
              "      <td>5</td>\n",
              "      <td>14.0</td>\n",
              "      <td>10.5</td>\n",
              "      <td>7</td>\n",
              "      <td>7</td>\n",
              "      <td>7</td>\n",
              "      <td>44.2</td>\n",
              "      <td>26.6</td>\n",
              "      <td>6</td>\n",
              "      <td>6</td>\n",
              "      <td>1</td>\n",
              "      <td>1</td>\n",
              "      <td>0</td>\n",
              "      <td>0</td>\n",
              "      <td>90.2</td>\n",
              "      <td>147.00</td>\n",
              "    </tr>\n",
              "    <tr>\n",
              "      <th>4</th>\n",
              "      <td>1.0</td>\n",
              "      <td>3</td>\n",
              "      <td>67</td>\n",
              "      <td>1937</td>\n",
              "      <td>2.0</td>\n",
              "      <td>4</td>\n",
              "      <td>5</td>\n",
              "      <td>3</td>\n",
              "      <td>53.3</td>\n",
              "      <td>7.8</td>\n",
              "      <td>6</td>\n",
              "      <td>6</td>\n",
              "      <td>7</td>\n",
              "      <td>40.0</td>\n",
              "      <td>23.9</td>\n",
              "      <td>5</td>\n",
              "      <td>2</td>\n",
              "      <td>1</td>\n",
              "      <td>1</td>\n",
              "      <td>0</td>\n",
              "      <td>0</td>\n",
              "      <td>49.9</td>\n",
              "      <td>415.74</td>\n",
              "    </tr>\n",
              "  </tbody>\n",
              "</table>\n",
              "</div>"
            ],
            "text/plain": [
              "   SERVICE_LEVEL_005C  TOLL_020  ...  SUFFICIENCY_RATING  surface_area\n",
              "0                 1.0         3  ...               100.0        142.59\n",
              "1                 1.0         3  ...               100.0        126.42\n",
              "2                 1.0         3  ...                69.5        164.70\n",
              "3                 1.0         3  ...                90.2        147.00\n",
              "4                 1.0         3  ...                49.9        415.74\n",
              "\n",
              "[5 rows x 23 columns]"
            ]
          },
          "metadata": {
            "tags": []
          },
          "execution_count": 19
        }
      ]
    },
    {
      "cell_type": "code",
      "metadata": {
        "id": "CrF8pcXm0CTq",
        "colab_type": "code",
        "outputId": "6ae9ac9a-64d0-4d16-bf2f-e2700937d6cd",
        "colab": {
          "base_uri": "https://localhost:8080/",
          "height": 225
        }
      },
      "source": [
        "bridges99['SURFACE_TYPE_108A'].value_counts()"
      ],
      "execution_count": 0,
      "outputs": [
        {
          "output_type": "execute_result",
          "data": {
            "text/plain": [
              "6    181006\n",
              "1    172795\n",
              "N     96629\n",
              "0     62881\n",
              "8     26041\n",
              "2     17381\n",
              "7     14473\n",
              "3     13362\n",
              "9     10668\n",
              "4      9249\n",
              "5      6554\n",
              "Name: SURFACE_TYPE_108A, dtype: int64"
            ]
          },
          "metadata": {
            "tags": []
          },
          "execution_count": 20
        }
      ]
    },
    {
      "cell_type": "markdown",
      "metadata": {
        "id": "YYGVdKMHtwwv",
        "colab_type": "text"
      },
      "source": [
        "Type of Service On Bridge\n",
        "\n",
        "Code            Description\n",
        "\n",
        "1                  Highway\n",
        "\n",
        "2                  Railroad\n",
        "\n",
        "3                  Pedestrian-bicycle\n",
        "\n",
        "4                  Highway-railroad\n",
        "\n",
        "5                  Highway-pedestrian\n",
        "\n",
        "6                  Overpass structure at an interchange or second level of a multilevel interchange\n",
        "\n",
        "7                  Third level (Interchange)\n",
        "\n",
        "8                  Fourth level (Interchange)\n",
        "\n",
        "9                  Building of plaza\n",
        "\n",
        "\n",
        "0                  Other\n",
        "\n",
        "99                 Miscoded data"
      ]
    },
    {
      "cell_type": "markdown",
      "metadata": {
        "id": "lS8ouamnHyeL",
        "colab_type": "text"
      },
      "source": [
        "**KEEP ONLY BRIDGES THAT ARE HIGHWAY OR HIGHWAY-PEDESTRIAN (10,246 dropped)**\n",
        "\n",
        "**Again, I have to limit this project so I am keeping the two designation that make up over 90% of the bridges**."
      ]
    },
    {
      "cell_type": "code",
      "metadata": {
        "id": "xHRiET75X0Vq",
        "colab_type": "code",
        "outputId": "8c64e6b4-79fa-41ab-f675-99b9b797c31f",
        "colab": {
          "base_uri": "https://localhost:8080/",
          "height": 139
        }
      },
      "source": [
        "bridges9['SERVICE_ON_042A'].value_counts(dropna=False)"
      ],
      "execution_count": 0,
      "outputs": [
        {
          "output_type": "execute_result",
          "data": {
            "text/plain": [
              "1    550652\n",
              "5     53308\n",
              "6     10074\n",
              "7       575\n",
              "4       223\n",
              "8       170\n",
              "Name: SERVICE_ON_042A, dtype: int64"
            ]
          },
          "metadata": {
            "tags": []
          },
          "execution_count": 21
        }
      ]
    },
    {
      "cell_type": "code",
      "metadata": {
        "id": "wPIUcF520yKX",
        "colab_type": "code",
        "colab": {}
      },
      "source": [
        "bridges99=bridges99[(bridges99['SERVICE_ON_042A']==1) | (bridges99['SERVICE_ON_042A']==5) ]"
      ],
      "execution_count": 0,
      "outputs": []
    },
    {
      "cell_type": "code",
      "metadata": {
        "id": "u7TBj293vEFq",
        "colab_type": "code",
        "outputId": "13310188-46c6-4047-da82-1f192551c4bc",
        "colab": {
          "base_uri": "https://localhost:8080/",
          "height": 69
        }
      },
      "source": [
        "bridges99['SERVICE_ON_042A'].value_counts()"
      ],
      "execution_count": 0,
      "outputs": [
        {
          "output_type": "execute_result",
          "data": {
            "text/plain": [
              "1    546824\n",
              "5     53186\n",
              "Name: SERVICE_ON_042A, dtype: int64"
            ]
          },
          "metadata": {
            "tags": []
          },
          "execution_count": 23
        }
      ]
    },
    {
      "cell_type": "code",
      "metadata": {
        "id": "M6MF_YgeCDlS",
        "colab_type": "code",
        "outputId": "f5cc64e5-a427-4a65-9366-bbe2e68d8038",
        "colab": {
          "base_uri": "https://localhost:8080/",
          "height": 35
        }
      },
      "source": [
        "bridges99.shape"
      ],
      "execution_count": 0,
      "outputs": [
        {
          "output_type": "execute_result",
          "data": {
            "text/plain": [
              "(600010, 23)"
            ]
          },
          "metadata": {
            "tags": []
          },
          "execution_count": 24
        }
      ]
    },
    {
      "cell_type": "markdown",
      "metadata": {
        "id": "4aqCWEi8ls_m",
        "colab_type": "text"
      },
      "source": [
        "**CONVERT STRUCTURAL_EVALUATION TO NUMERIC**"
      ]
    },
    {
      "cell_type": "code",
      "metadata": {
        "id": "f94vkKzLmwr5",
        "colab_type": "code",
        "outputId": "c4304c75-9dd6-4d82-997f-b090fcbeec6c",
        "colab": {
          "base_uri": "https://localhost:8080/",
          "height": 35
        }
      },
      "source": [
        "bridges99['STRUCTURAL_EVAL_067']=bridges99['STRUCTURAL_EVAL_067'].str.strip('()')\n",
        "type(bridges99['STRUCTURAL_EVAL_067'][0])"
      ],
      "execution_count": 0,
      "outputs": [
        {
          "output_type": "execute_result",
          "data": {
            "text/plain": [
              "str"
            ]
          },
          "metadata": {
            "tags": []
          },
          "execution_count": 25
        }
      ]
    },
    {
      "cell_type": "code",
      "metadata": {
        "id": "h_Z1LLU0dbSY",
        "colab_type": "code",
        "colab": {}
      },
      "source": [
        "bridges99['STRUCTURAL_EVAL_067']=bridges99['STRUCTURAL_EVAL_067'].astype(int)"
      ],
      "execution_count": 0,
      "outputs": []
    },
    {
      "cell_type": "code",
      "metadata": {
        "id": "Ims3uA3Qav3k",
        "colab_type": "code",
        "outputId": "8a3e5282-6708-46cf-908e-829b45a65317",
        "colab": {
          "base_uri": "https://localhost:8080/",
          "height": 503
        }
      },
      "source": [
        "bridges99.info()"
      ],
      "execution_count": 0,
      "outputs": [
        {
          "output_type": "stream",
          "text": [
            "<class 'pandas.core.frame.DataFrame'>\n",
            "Int64Index: 600010 entries, 0 to 615001\n",
            "Data columns (total 23 columns):\n",
            "SERVICE_LEVEL_005C         600010 non-null float64\n",
            "TOLL_020                   600010 non-null int64\n",
            "MAINTENANCE_021            600010 non-null int64\n",
            "YEAR_BUILT_027             600010 non-null int64\n",
            "TRAFFIC_LANES_ON_028A      600010 non-null float64\n",
            "DESIGN_LOAD_031            600010 non-null object\n",
            "SERVICE_ON_042A            600010 non-null int64\n",
            "STRUCTURE_KIND_043A        600010 non-null int64\n",
            "MAX_SPAN_LEN_MT_048        600010 non-null float64\n",
            "DECK_WIDTH_MT_052          600010 non-null float64\n",
            "DECK_COND_058              600010 non-null object\n",
            "SUPERSTRUCTURE_COND_059    600010 non-null object\n",
            "SUBSTRUCTURE_COND_060      600010 non-null object\n",
            "OPERATING_RATING_064       600010 non-null float64\n",
            "INVENTORY_RATING_066       600010 non-null float64\n",
            "STRUCTURAL_EVAL_067        600010 non-null int64\n",
            "DECK_GEOMETRY_EVAL_068     600010 non-null object\n",
            "DECK_STRUCTURE_TYPE_107    600010 non-null object\n",
            "SURFACE_TYPE_108A          600010 non-null object\n",
            "MEMBRANE_TYPE_108B         600010 non-null object\n",
            "DECK_PROTECTION_108C       600010 non-null object\n",
            "SUFFICIENCY_RATING         600010 non-null float64\n",
            "surface_area               600010 non-null float64\n",
            "dtypes: float64(8), int64(6), object(9)\n",
            "memory usage: 129.9+ MB\n"
          ],
          "name": "stdout"
        }
      ]
    },
    {
      "cell_type": "markdown",
      "metadata": {
        "id": "V_jqkj1Tgy13",
        "colab_type": "text"
      },
      "source": [
        "**HISTOGRAMS OF NUMERICAL FEATURES**\n",
        "\n",
        "**TO HELP WITH FEATURE ENGINEERING**"
      ]
    },
    {
      "cell_type": "code",
      "metadata": {
        "id": "J-0LxIYAK879",
        "colab_type": "code",
        "outputId": "f7b1d2cd-df56-4b15-dce8-dc64805ea706",
        "colab": {
          "base_uri": "https://localhost:8080/",
          "height": 657
        }
      },
      "source": [
        "plt.rcParams[\"figure.figsize\"] = [12,9]\n",
        "bridges99.hist()\n",
        "plt.tight_layout()"
      ],
      "execution_count": 0,
      "outputs": [
        {
          "output_type": "display_data",
          "data": {
            "image/png": "[encoded data removed]",
            "text/plain": [
              "<Figure size 864x648 with 16 Axes>"
            ]
          },
          "metadata": {
            "tags": []
          }
        }
      ]
    },
    {
      "cell_type": "code",
      "metadata": {
        "id": "MEg0t5KbFJEf",
        "colab_type": "code",
        "outputId": "9316acf8-bba2-4f37-f6b8-ec23a04f4cd6",
        "colab": {
          "base_uri": "https://localhost:8080/",
          "height": 222
        }
      },
      "source": [
        "bridges99.head()"
      ],
      "execution_count": 0,
      "outputs": [
        {
          "output_type": "execute_result",
          "data": {
            "text/html": [
              "<div>\n",
              "<style scoped>\n",
              "    .dataframe tbody tr th:only-of-type {\n",
              "        vertical-align: middle;\n",
              "    }\n",
              "\n",
              "    .dataframe tbody tr th {\n",
              "        vertical-align: top;\n",
              "    }\n",
              "\n",
              "    .dataframe thead th {\n",
              "        text-align: right;\n",
              "    }\n",
              "</style>\n",
              "<table border=\"1\" class=\"dataframe\">\n",
              "  <thead>\n",
              "    <tr style=\"text-align: right;\">\n",
              "      <th></th>\n",
              "      <th>SERVICE_LEVEL_005C</th>\n",
              "      <th>TOLL_020</th>\n",
              "      <th>MAINTENANCE_021</th>\n",
              "      <th>YEAR_BUILT_027</th>\n",
              "      <th>TRAFFIC_LANES_ON_028A</th>\n",
              "      <th>DESIGN_LOAD_031</th>\n",
              "      <th>SERVICE_ON_042A</th>\n",
              "      <th>STRUCTURE_KIND_043A</th>\n",
              "      <th>MAX_SPAN_LEN_MT_048</th>\n",
              "      <th>DECK_WIDTH_MT_052</th>\n",
              "      <th>DECK_COND_058</th>\n",
              "      <th>SUPERSTRUCTURE_COND_059</th>\n",
              "      <th>SUBSTRUCTURE_COND_060</th>\n",
              "      <th>OPERATING_RATING_064</th>\n",
              "      <th>INVENTORY_RATING_066</th>\n",
              "      <th>STRUCTURAL_EVAL_067</th>\n",
              "      <th>DECK_GEOMETRY_EVAL_068</th>\n",
              "      <th>DECK_STRUCTURE_TYPE_107</th>\n",
              "      <th>SURFACE_TYPE_108A</th>\n",
              "      <th>MEMBRANE_TYPE_108B</th>\n",
              "      <th>DECK_PROTECTION_108C</th>\n",
              "      <th>SUFFICIENCY_RATING</th>\n",
              "      <th>surface_area</th>\n",
              "    </tr>\n",
              "  </thead>\n",
              "  <tbody>\n",
              "    <tr>\n",
              "      <th>0</th>\n",
              "      <td>1.0</td>\n",
              "      <td>3</td>\n",
              "      <td>62</td>\n",
              "      <td>1999</td>\n",
              "      <td>2.0</td>\n",
              "      <td>5</td>\n",
              "      <td>1</td>\n",
              "      <td>5</td>\n",
              "      <td>14.7</td>\n",
              "      <td>9.7</td>\n",
              "      <td>8</td>\n",
              "      <td>8</td>\n",
              "      <td>7</td>\n",
              "      <td>44.2</td>\n",
              "      <td>32.4</td>\n",
              "      <td>7</td>\n",
              "      <td>7</td>\n",
              "      <td>2</td>\n",
              "      <td>6</td>\n",
              "      <td>0</td>\n",
              "      <td>1</td>\n",
              "      <td>100.0</td>\n",
              "      <td>142.59</td>\n",
              "    </tr>\n",
              "    <tr>\n",
              "      <th>1</th>\n",
              "      <td>1.0</td>\n",
              "      <td>3</td>\n",
              "      <td>62</td>\n",
              "      <td>2002</td>\n",
              "      <td>2.0</td>\n",
              "      <td>5</td>\n",
              "      <td>1</td>\n",
              "      <td>5</td>\n",
              "      <td>12.9</td>\n",
              "      <td>9.8</td>\n",
              "      <td>8</td>\n",
              "      <td>8</td>\n",
              "      <td>7</td>\n",
              "      <td>84.2</td>\n",
              "      <td>34.6</td>\n",
              "      <td>7</td>\n",
              "      <td>6</td>\n",
              "      <td>2</td>\n",
              "      <td>6</td>\n",
              "      <td>0</td>\n",
              "      <td>8</td>\n",
              "      <td>100.0</td>\n",
              "      <td>126.42</td>\n",
              "    </tr>\n",
              "    <tr>\n",
              "      <th>2</th>\n",
              "      <td>1.0</td>\n",
              "      <td>3</td>\n",
              "      <td>74</td>\n",
              "      <td>1942</td>\n",
              "      <td>2.0</td>\n",
              "      <td>4</td>\n",
              "      <td>1</td>\n",
              "      <td>1</td>\n",
              "      <td>18.3</td>\n",
              "      <td>9.0</td>\n",
              "      <td>5</td>\n",
              "      <td>5</td>\n",
              "      <td>6</td>\n",
              "      <td>51.7</td>\n",
              "      <td>37.2</td>\n",
              "      <td>5</td>\n",
              "      <td>4</td>\n",
              "      <td>1</td>\n",
              "      <td>1</td>\n",
              "      <td>0</td>\n",
              "      <td>0</td>\n",
              "      <td>69.5</td>\n",
              "      <td>164.70</td>\n",
              "    </tr>\n",
              "    <tr>\n",
              "      <th>3</th>\n",
              "      <td>1.0</td>\n",
              "      <td>3</td>\n",
              "      <td>67</td>\n",
              "      <td>1974</td>\n",
              "      <td>2.0</td>\n",
              "      <td>5</td>\n",
              "      <td>1</td>\n",
              "      <td>5</td>\n",
              "      <td>14.0</td>\n",
              "      <td>10.5</td>\n",
              "      <td>7</td>\n",
              "      <td>7</td>\n",
              "      <td>7</td>\n",
              "      <td>44.2</td>\n",
              "      <td>26.6</td>\n",
              "      <td>6</td>\n",
              "      <td>6</td>\n",
              "      <td>1</td>\n",
              "      <td>1</td>\n",
              "      <td>0</td>\n",
              "      <td>0</td>\n",
              "      <td>90.2</td>\n",
              "      <td>147.00</td>\n",
              "    </tr>\n",
              "    <tr>\n",
              "      <th>4</th>\n",
              "      <td>1.0</td>\n",
              "      <td>3</td>\n",
              "      <td>67</td>\n",
              "      <td>1937</td>\n",
              "      <td>2.0</td>\n",
              "      <td>4</td>\n",
              "      <td>5</td>\n",
              "      <td>3</td>\n",
              "      <td>53.3</td>\n",
              "      <td>7.8</td>\n",
              "      <td>6</td>\n",
              "      <td>6</td>\n",
              "      <td>7</td>\n",
              "      <td>40.0</td>\n",
              "      <td>23.9</td>\n",
              "      <td>5</td>\n",
              "      <td>2</td>\n",
              "      <td>1</td>\n",
              "      <td>1</td>\n",
              "      <td>0</td>\n",
              "      <td>0</td>\n",
              "      <td>49.9</td>\n",
              "      <td>415.74</td>\n",
              "    </tr>\n",
              "  </tbody>\n",
              "</table>\n",
              "</div>"
            ],
            "text/plain": [
              "   SERVICE_LEVEL_005C  TOLL_020  ...  SUFFICIENCY_RATING  surface_area\n",
              "0                 1.0         3  ...               100.0        142.59\n",
              "1                 1.0         3  ...               100.0        126.42\n",
              "2                 1.0         3  ...                69.5        164.70\n",
              "3                 1.0         3  ...                90.2        147.00\n",
              "4                 1.0         3  ...                49.9        415.74\n",
              "\n",
              "[5 rows x 23 columns]"
            ]
          },
          "metadata": {
            "tags": []
          },
          "execution_count": 29
        }
      ]
    },
    {
      "cell_type": "markdown",
      "metadata": {
        "id": "9j5KKzqfGYZT",
        "colab_type": "text"
      },
      "source": [
        "**NOW THAT ALL TOLL VALUES ARE IDENTICAL TOLL  CONTRIBUTES NOTHING TO MODEL SO DROP** "
      ]
    },
    {
      "cell_type": "code",
      "metadata": {
        "id": "LeIQzvgdGpUS",
        "colab_type": "code",
        "colab": {}
      },
      "source": [
        "bridges99.drop('TOLL_020',axis=1,inplace=True)"
      ],
      "execution_count": 0,
      "outputs": []
    },
    {
      "cell_type": "code",
      "metadata": {
        "id": "Ow6i3DdJG6lB",
        "colab_type": "code",
        "outputId": "7ff9252c-87eb-469e-9016-63e5f95dea90",
        "colab": {
          "base_uri": "https://localhost:8080/",
          "height": 222
        }
      },
      "source": [
        "bridges99.head()"
      ],
      "execution_count": 0,
      "outputs": [
        {
          "output_type": "execute_result",
          "data": {
            "text/html": [
              "<div>\n",
              "<style scoped>\n",
              "    .dataframe tbody tr th:only-of-type {\n",
              "        vertical-align: middle;\n",
              "    }\n",
              "\n",
              "    .dataframe tbody tr th {\n",
              "        vertical-align: top;\n",
              "    }\n",
              "\n",
              "    .dataframe thead th {\n",
              "        text-align: right;\n",
              "    }\n",
              "</style>\n",
              "<table border=\"1\" class=\"dataframe\">\n",
              "  <thead>\n",
              "    <tr style=\"text-align: right;\">\n",
              "      <th></th>\n",
              "      <th>SERVICE_LEVEL_005C</th>\n",
              "      <th>MAINTENANCE_021</th>\n",
              "      <th>YEAR_BUILT_027</th>\n",
              "      <th>TRAFFIC_LANES_ON_028A</th>\n",
              "      <th>DESIGN_LOAD_031</th>\n",
              "      <th>SERVICE_ON_042A</th>\n",
              "      <th>STRUCTURE_KIND_043A</th>\n",
              "      <th>MAX_SPAN_LEN_MT_048</th>\n",
              "      <th>DECK_WIDTH_MT_052</th>\n",
              "      <th>DECK_COND_058</th>\n",
              "      <th>SUPERSTRUCTURE_COND_059</th>\n",
              "      <th>SUBSTRUCTURE_COND_060</th>\n",
              "      <th>OPERATING_RATING_064</th>\n",
              "      <th>INVENTORY_RATING_066</th>\n",
              "      <th>STRUCTURAL_EVAL_067</th>\n",
              "      <th>DECK_GEOMETRY_EVAL_068</th>\n",
              "      <th>DECK_STRUCTURE_TYPE_107</th>\n",
              "      <th>SURFACE_TYPE_108A</th>\n",
              "      <th>MEMBRANE_TYPE_108B</th>\n",
              "      <th>DECK_PROTECTION_108C</th>\n",
              "      <th>SUFFICIENCY_RATING</th>\n",
              "      <th>surface_area</th>\n",
              "    </tr>\n",
              "  </thead>\n",
              "  <tbody>\n",
              "    <tr>\n",
              "      <th>0</th>\n",
              "      <td>1.0</td>\n",
              "      <td>62</td>\n",
              "      <td>1999</td>\n",
              "      <td>2.0</td>\n",
              "      <td>5</td>\n",
              "      <td>1</td>\n",
              "      <td>5</td>\n",
              "      <td>14.7</td>\n",
              "      <td>9.7</td>\n",
              "      <td>8</td>\n",
              "      <td>8</td>\n",
              "      <td>7</td>\n",
              "      <td>44.2</td>\n",
              "      <td>32.4</td>\n",
              "      <td>7</td>\n",
              "      <td>7</td>\n",
              "      <td>2</td>\n",
              "      <td>6</td>\n",
              "      <td>0</td>\n",
              "      <td>1</td>\n",
              "      <td>100.0</td>\n",
              "      <td>142.59</td>\n",
              "    </tr>\n",
              "    <tr>\n",
              "      <th>1</th>\n",
              "      <td>1.0</td>\n",
              "      <td>62</td>\n",
              "      <td>2002</td>\n",
              "      <td>2.0</td>\n",
              "      <td>5</td>\n",
              "      <td>1</td>\n",
              "      <td>5</td>\n",
              "      <td>12.9</td>\n",
              "      <td>9.8</td>\n",
              "      <td>8</td>\n",
              "      <td>8</td>\n",
              "      <td>7</td>\n",
              "      <td>84.2</td>\n",
              "      <td>34.6</td>\n",
              "      <td>7</td>\n",
              "      <td>6</td>\n",
              "      <td>2</td>\n",
              "      <td>6</td>\n",
              "      <td>0</td>\n",
              "      <td>8</td>\n",
              "      <td>100.0</td>\n",
              "      <td>126.42</td>\n",
              "    </tr>\n",
              "    <tr>\n",
              "      <th>2</th>\n",
              "      <td>1.0</td>\n",
              "      <td>74</td>\n",
              "      <td>1942</td>\n",
              "      <td>2.0</td>\n",
              "      <td>4</td>\n",
              "      <td>1</td>\n",
              "      <td>1</td>\n",
              "      <td>18.3</td>\n",
              "      <td>9.0</td>\n",
              "      <td>5</td>\n",
              "      <td>5</td>\n",
              "      <td>6</td>\n",
              "      <td>51.7</td>\n",
              "      <td>37.2</td>\n",
              "      <td>5</td>\n",
              "      <td>4</td>\n",
              "      <td>1</td>\n",
              "      <td>1</td>\n",
              "      <td>0</td>\n",
              "      <td>0</td>\n",
              "      <td>69.5</td>\n",
              "      <td>164.70</td>\n",
              "    </tr>\n",
              "    <tr>\n",
              "      <th>3</th>\n",
              "      <td>1.0</td>\n",
              "      <td>67</td>\n",
              "      <td>1974</td>\n",
              "      <td>2.0</td>\n",
              "      <td>5</td>\n",
              "      <td>1</td>\n",
              "      <td>5</td>\n",
              "      <td>14.0</td>\n",
              "      <td>10.5</td>\n",
              "      <td>7</td>\n",
              "      <td>7</td>\n",
              "      <td>7</td>\n",
              "      <td>44.2</td>\n",
              "      <td>26.6</td>\n",
              "      <td>6</td>\n",
              "      <td>6</td>\n",
              "      <td>1</td>\n",
              "      <td>1</td>\n",
              "      <td>0</td>\n",
              "      <td>0</td>\n",
              "      <td>90.2</td>\n",
              "      <td>147.00</td>\n",
              "    </tr>\n",
              "    <tr>\n",
              "      <th>4</th>\n",
              "      <td>1.0</td>\n",
              "      <td>67</td>\n",
              "      <td>1937</td>\n",
              "      <td>2.0</td>\n",
              "      <td>4</td>\n",
              "      <td>5</td>\n",
              "      <td>3</td>\n",
              "      <td>53.3</td>\n",
              "      <td>7.8</td>\n",
              "      <td>6</td>\n",
              "      <td>6</td>\n",
              "      <td>7</td>\n",
              "      <td>40.0</td>\n",
              "      <td>23.9</td>\n",
              "      <td>5</td>\n",
              "      <td>2</td>\n",
              "      <td>1</td>\n",
              "      <td>1</td>\n",
              "      <td>0</td>\n",
              "      <td>0</td>\n",
              "      <td>49.9</td>\n",
              "      <td>415.74</td>\n",
              "    </tr>\n",
              "  </tbody>\n",
              "</table>\n",
              "</div>"
            ],
            "text/plain": [
              "   SERVICE_LEVEL_005C  MAINTENANCE_021  ...  SUFFICIENCY_RATING  surface_area\n",
              "0                 1.0               62  ...               100.0        142.59\n",
              "1                 1.0               62  ...               100.0        126.42\n",
              "2                 1.0               74  ...                69.5        164.70\n",
              "3                 1.0               67  ...                90.2        147.00\n",
              "4                 1.0               67  ...                49.9        415.74\n",
              "\n",
              "[5 rows x 22 columns]"
            ]
          },
          "metadata": {
            "tags": []
          },
          "execution_count": 31
        }
      ]
    },
    {
      "cell_type": "markdown",
      "metadata": {
        "id": "WKDDC-0wbIUY",
        "colab_type": "text"
      },
      "source": [
        "**6.1 METERS IS FEDERAL MINIMUM TO BE A BRIDGE**\n",
        "\n",
        "**REMOVE BRIDGES LESS THAN 6.1 METERS MAIN SPAN**  (152,926)\n",
        "\n",
        "**About 25% of the listed bridges meet state definitions of a bridge. I am only looking at those that meet the federal definition**."
      ]
    },
    {
      "cell_type": "code",
      "metadata": {
        "id": "R6zLUkFQJtpj",
        "colab_type": "code",
        "colab": {}
      },
      "source": [
        "bridges99=bridges99[bridges99['MAX_SPAN_LEN_MT_048']>=6.1]"
      ],
      "execution_count": 0,
      "outputs": []
    },
    {
      "cell_type": "code",
      "metadata": {
        "id": "TVWMuRJ2ARcd",
        "colab_type": "code",
        "outputId": "bb673693-aea5-4f84-9301-8ab95af86568",
        "colab": {
          "base_uri": "https://localhost:8080/",
          "height": 35
        }
      },
      "source": [
        "bridges99.shape"
      ],
      "execution_count": 0,
      "outputs": [
        {
          "output_type": "execute_result",
          "data": {
            "text/plain": [
              "(448505, 22)"
            ]
          },
          "metadata": {
            "tags": []
          },
          "execution_count": 33
        }
      ]
    },
    {
      "cell_type": "code",
      "metadata": {
        "id": "3NkRtr1xrUwk",
        "colab_type": "code",
        "outputId": "41fe3062-5c4e-46bc-8768-468ce4c92931",
        "colab": {
          "base_uri": "https://localhost:8080/",
          "height": 657
        }
      },
      "source": [
        "plt.rcParams[\"figure.figsize\"] = [12,9]\n",
        "bridges99.hist()\n",
        "plt.tight_layout()"
      ],
      "execution_count": 0,
      "outputs": [
        {
          "output_type": "display_data",
          "data": {
            "image/png": "[encoded data removed]",
            "text/plain": [
              "<Figure size 864x648 with 16 Axes>"
            ]
          },
          "metadata": {
            "tags": []
          }
        }
      ]
    },
    {
      "cell_type": "code",
      "metadata": {
        "id": "CudZGVvdUNSN",
        "colab_type": "code",
        "outputId": "bbbb9033-da4b-40e5-c04d-6886fe7f59bf",
        "colab": {
          "base_uri": "https://localhost:8080/",
          "height": 35
        }
      },
      "source": [
        "bridges99.shape"
      ],
      "execution_count": 0,
      "outputs": [
        {
          "output_type": "execute_result",
          "data": {
            "text/plain": [
              "(448505, 22)"
            ]
          },
          "metadata": {
            "tags": []
          },
          "execution_count": 35
        }
      ]
    },
    {
      "cell_type": "markdown",
      "metadata": {
        "id": "VLAHCTloUZW6",
        "colab_type": "text"
      },
      "source": [
        "**SOME CRAZY NUMBERS IN LANE COUNT LIKE 80 LANES --  TYPOS?**\n",
        "\n",
        "**WILL KEEP TOP 4 SUBCATEGORIES -- 1,2,3,4 lanes -- THEY MAKE UP OVER 95% OF VALUES**"
      ]
    },
    {
      "cell_type": "code",
      "metadata": {
        "id": "9CUU25XhT45q",
        "colab_type": "code",
        "outputId": "cb49e330-ac6c-4e3a-a63a-157f834b922e",
        "colab": {
          "base_uri": "https://localhost:8080/",
          "height": 572
        }
      },
      "source": [
        "bridges99['TRAFFIC_LANES_ON_028A'].value_counts()"
      ],
      "execution_count": 0,
      "outputs": [
        {
          "output_type": "execute_result",
          "data": {
            "text/plain": [
              "2.0     352442\n",
              "1.0      35371\n",
              "4.0      25187\n",
              "3.0      17971\n",
              "5.0       6316\n",
              "6.0       6001\n",
              "8.0       1740\n",
              "7.0       1475\n",
              "10.0       713\n",
              "9.0        537\n",
              "12.0       267\n",
              "11.0       231\n",
              "13.0        92\n",
              "14.0        79\n",
              "20.0        31\n",
              "15.0        15\n",
              "16.0        10\n",
              "40.0         5\n",
              "50.0         5\n",
              "17.0         4\n",
              "45.0         2\n",
              "18.0         2\n",
              "19.0         1\n",
              "70.0         1\n",
              "80.0         1\n",
              "82.0         1\n",
              "21.0         1\n",
              "30.0         1\n",
              "25.0         1\n",
              "22.0         1\n",
              "60.0         1\n",
              "Name: TRAFFIC_LANES_ON_028A, dtype: int64"
            ]
          },
          "metadata": {
            "tags": []
          },
          "execution_count": 36
        }
      ]
    },
    {
      "cell_type": "code",
      "metadata": {
        "id": "kcXoZPj2YQWp",
        "colab_type": "code",
        "colab": {}
      },
      "source": [
        "bridges99=bridges99[(bridges99['TRAFFIC_LANES_ON_028A']==1) | (bridges99['TRAFFIC_LANES_ON_028A']==2) |(bridges99['TRAFFIC_LANES_ON_028A']==3)| (bridges99['TRAFFIC_LANES_ON_028A']==4)]"
      ],
      "execution_count": 0,
      "outputs": []
    },
    {
      "cell_type": "code",
      "metadata": {
        "id": "8NXQlYgQYtCg",
        "colab_type": "code",
        "outputId": "a3ddc1d3-5f5d-4576-897d-baf39c406c6c",
        "colab": {
          "base_uri": "https://localhost:8080/",
          "height": 104
        }
      },
      "source": [
        "bridges99['TRAFFIC_LANES_ON_028A'].value_counts()"
      ],
      "execution_count": 0,
      "outputs": [
        {
          "output_type": "execute_result",
          "data": {
            "text/plain": [
              "2.0    352442\n",
              "1.0     35371\n",
              "4.0     25187\n",
              "3.0     17971\n",
              "Name: TRAFFIC_LANES_ON_028A, dtype: int64"
            ]
          },
          "metadata": {
            "tags": []
          },
          "execution_count": 38
        }
      ]
    },
    {
      "cell_type": "code",
      "metadata": {
        "id": "MRAnpllFjfQh",
        "colab_type": "code",
        "outputId": "126f3394-1115-47be-b900-8c91dc226e0a",
        "colab": {
          "base_uri": "https://localhost:8080/",
          "height": 35
        }
      },
      "source": [
        "bridges99.shape"
      ],
      "execution_count": 0,
      "outputs": [
        {
          "output_type": "execute_result",
          "data": {
            "text/plain": [
              "(430971, 22)"
            ]
          },
          "metadata": {
            "tags": []
          },
          "execution_count": 39
        }
      ]
    },
    {
      "cell_type": "markdown",
      "metadata": {
        "id": "6aC1TrE3gZRQ",
        "colab_type": "text"
      },
      "source": [
        "df.groupby('city').filter(lambda x : len(x)>3)\n",
        "\n",
        "Solution two transform\n",
        "\n",
        "sub_df = df[df.groupby('city').city.transform('count')>3].copy()"
      ]
    },
    {
      "cell_type": "markdown",
      "metadata": {
        "id": "P2WrrOWIvsl_",
        "colab_type": "text"
      },
      "source": [
        "**CREATING SUBSET OF NUMERICAL FEATURES**"
      ]
    },
    {
      "cell_type": "code",
      "metadata": {
        "id": "GnbmfwJVvcJ1",
        "colab_type": "code",
        "outputId": "084d21dd-c2d5-45dd-c6ac-c87d521870ab",
        "colab": {
          "base_uri": "https://localhost:8080/",
          "height": 243
        }
      },
      "source": [
        "n=[col for col in list(bridges99) if bridges99[col].dtype!=object]\n",
        "n"
      ],
      "execution_count": 0,
      "outputs": [
        {
          "output_type": "execute_result",
          "data": {
            "text/plain": [
              "['SERVICE_LEVEL_005C',\n",
              " 'MAINTENANCE_021',\n",
              " 'YEAR_BUILT_027',\n",
              " 'TRAFFIC_LANES_ON_028A',\n",
              " 'SERVICE_ON_042A',\n",
              " 'STRUCTURE_KIND_043A',\n",
              " 'MAX_SPAN_LEN_MT_048',\n",
              " 'DECK_WIDTH_MT_052',\n",
              " 'OPERATING_RATING_064',\n",
              " 'INVENTORY_RATING_066',\n",
              " 'STRUCTURAL_EVAL_067',\n",
              " 'SUFFICIENCY_RATING',\n",
              " 'surface_area']"
            ]
          },
          "metadata": {
            "tags": []
          },
          "execution_count": 40
        }
      ]
    },
    {
      "cell_type": "markdown",
      "metadata": {
        "id": "huCtODDav92a",
        "colab_type": "text"
      },
      "source": [
        "**BIVARIATE ANALYSIS**\n",
        "\n",
        "temporarily add the target back in to numerical features"
      ]
    },
    {
      "cell_type": "code",
      "metadata": {
        "id": "inSspMTYv1wd",
        "colab_type": "code",
        "outputId": "0ef572ce-0869-4aaf-e9d8-efd83afd2555",
        "colab": {
          "base_uri": "https://localhost:8080/",
          "height": 467
        }
      },
      "source": [
        "bridges99[n].corr()"
      ],
      "execution_count": 0,
      "outputs": [
        {
          "output_type": "execute_result",
          "data": {
            "text/html": [
              "<div>\n",
              "<style scoped>\n",
              "    .dataframe tbody tr th:only-of-type {\n",
              "        vertical-align: middle;\n",
              "    }\n",
              "\n",
              "    .dataframe tbody tr th {\n",
              "        vertical-align: top;\n",
              "    }\n",
              "\n",
              "    .dataframe thead th {\n",
              "        text-align: right;\n",
              "    }\n",
              "</style>\n",
              "<table border=\"1\" class=\"dataframe\">\n",
              "  <thead>\n",
              "    <tr style=\"text-align: right;\">\n",
              "      <th></th>\n",
              "      <th>SERVICE_LEVEL_005C</th>\n",
              "      <th>MAINTENANCE_021</th>\n",
              "      <th>YEAR_BUILT_027</th>\n",
              "      <th>TRAFFIC_LANES_ON_028A</th>\n",
              "      <th>SERVICE_ON_042A</th>\n",
              "      <th>STRUCTURE_KIND_043A</th>\n",
              "      <th>MAX_SPAN_LEN_MT_048</th>\n",
              "      <th>DECK_WIDTH_MT_052</th>\n",
              "      <th>OPERATING_RATING_064</th>\n",
              "      <th>INVENTORY_RATING_066</th>\n",
              "      <th>STRUCTURAL_EVAL_067</th>\n",
              "      <th>SUFFICIENCY_RATING</th>\n",
              "      <th>surface_area</th>\n",
              "    </tr>\n",
              "  </thead>\n",
              "  <tbody>\n",
              "    <tr>\n",
              "      <th>SERVICE_LEVEL_005C</th>\n",
              "      <td>1.000000</td>\n",
              "      <td>0.006780</td>\n",
              "      <td>0.054470</td>\n",
              "      <td>-0.086543</td>\n",
              "      <td>-0.042021</td>\n",
              "      <td>0.034531</td>\n",
              "      <td>0.122368</td>\n",
              "      <td>0.012676</td>\n",
              "      <td>0.032130</td>\n",
              "      <td>0.036527</td>\n",
              "      <td>0.047170</td>\n",
              "      <td>0.054556</td>\n",
              "      <td>0.073099</td>\n",
              "    </tr>\n",
              "    <tr>\n",
              "      <th>MAINTENANCE_021</th>\n",
              "      <td>0.006780</td>\n",
              "      <td>1.000000</td>\n",
              "      <td>-0.000624</td>\n",
              "      <td>-0.069326</td>\n",
              "      <td>0.020857</td>\n",
              "      <td>0.044238</td>\n",
              "      <td>0.019518</td>\n",
              "      <td>-0.030361</td>\n",
              "      <td>-0.040467</td>\n",
              "      <td>-0.005638</td>\n",
              "      <td>-0.010980</td>\n",
              "      <td>-0.034150</td>\n",
              "      <td>0.003389</td>\n",
              "    </tr>\n",
              "    <tr>\n",
              "      <th>YEAR_BUILT_027</th>\n",
              "      <td>0.054470</td>\n",
              "      <td>-0.000624</td>\n",
              "      <td>1.000000</td>\n",
              "      <td>0.084600</td>\n",
              "      <td>-0.064702</td>\n",
              "      <td>0.250085</td>\n",
              "      <td>0.149713</td>\n",
              "      <td>0.115903</td>\n",
              "      <td>0.318658</td>\n",
              "      <td>0.337202</td>\n",
              "      <td>0.582258</td>\n",
              "      <td>0.552313</td>\n",
              "      <td>0.157493</td>\n",
              "    </tr>\n",
              "    <tr>\n",
              "      <th>TRAFFIC_LANES_ON_028A</th>\n",
              "      <td>-0.086543</td>\n",
              "      <td>-0.069326</td>\n",
              "      <td>0.084600</td>\n",
              "      <td>1.000000</td>\n",
              "      <td>0.220105</td>\n",
              "      <td>0.021393</td>\n",
              "      <td>0.168535</td>\n",
              "      <td>0.571129</td>\n",
              "      <td>0.160844</td>\n",
              "      <td>0.147694</td>\n",
              "      <td>0.149896</td>\n",
              "      <td>0.143413</td>\n",
              "      <td>0.407769</td>\n",
              "    </tr>\n",
              "    <tr>\n",
              "      <th>SERVICE_ON_042A</th>\n",
              "      <td>-0.042021</td>\n",
              "      <td>0.020857</td>\n",
              "      <td>-0.064702</td>\n",
              "      <td>0.220105</td>\n",
              "      <td>1.000000</td>\n",
              "      <td>-0.001834</td>\n",
              "      <td>0.092158</td>\n",
              "      <td>0.264131</td>\n",
              "      <td>0.087118</td>\n",
              "      <td>0.069292</td>\n",
              "      <td>-0.001081</td>\n",
              "      <td>-0.039007</td>\n",
              "      <td>0.170062</td>\n",
              "    </tr>\n",
              "    <tr>\n",
              "      <th>STRUCTURE_KIND_043A</th>\n",
              "      <td>0.034531</td>\n",
              "      <td>0.044238</td>\n",
              "      <td>0.250085</td>\n",
              "      <td>0.021393</td>\n",
              "      <td>-0.001834</td>\n",
              "      <td>1.000000</td>\n",
              "      <td>0.222388</td>\n",
              "      <td>0.075072</td>\n",
              "      <td>0.099025</td>\n",
              "      <td>0.077836</td>\n",
              "      <td>0.140719</td>\n",
              "      <td>0.139243</td>\n",
              "      <td>0.182569</td>\n",
              "    </tr>\n",
              "    <tr>\n",
              "      <th>MAX_SPAN_LEN_MT_048</th>\n",
              "      <td>0.122368</td>\n",
              "      <td>0.019518</td>\n",
              "      <td>0.149713</td>\n",
              "      <td>0.168535</td>\n",
              "      <td>0.092158</td>\n",
              "      <td>0.222388</td>\n",
              "      <td>1.000000</td>\n",
              "      <td>0.235462</td>\n",
              "      <td>0.151991</td>\n",
              "      <td>0.110738</td>\n",
              "      <td>0.125917</td>\n",
              "      <td>0.087531</td>\n",
              "      <td>0.859826</td>\n",
              "    </tr>\n",
              "    <tr>\n",
              "      <th>DECK_WIDTH_MT_052</th>\n",
              "      <td>0.012676</td>\n",
              "      <td>-0.030361</td>\n",
              "      <td>0.115903</td>\n",
              "      <td>0.571129</td>\n",
              "      <td>0.264131</td>\n",
              "      <td>0.075072</td>\n",
              "      <td>0.235462</td>\n",
              "      <td>1.000000</td>\n",
              "      <td>0.213389</td>\n",
              "      <td>0.181138</td>\n",
              "      <td>0.184165</td>\n",
              "      <td>0.222289</td>\n",
              "      <td>0.570139</td>\n",
              "    </tr>\n",
              "    <tr>\n",
              "      <th>OPERATING_RATING_064</th>\n",
              "      <td>0.032130</td>\n",
              "      <td>-0.040467</td>\n",
              "      <td>0.318658</td>\n",
              "      <td>0.160844</td>\n",
              "      <td>0.087118</td>\n",
              "      <td>0.099025</td>\n",
              "      <td>0.151991</td>\n",
              "      <td>0.213389</td>\n",
              "      <td>1.000000</td>\n",
              "      <td>0.880073</td>\n",
              "      <td>0.539251</td>\n",
              "      <td>0.547272</td>\n",
              "      <td>0.182584</td>\n",
              "    </tr>\n",
              "    <tr>\n",
              "      <th>INVENTORY_RATING_066</th>\n",
              "      <td>0.036527</td>\n",
              "      <td>-0.005638</td>\n",
              "      <td>0.337202</td>\n",
              "      <td>0.147694</td>\n",
              "      <td>0.069292</td>\n",
              "      <td>0.077836</td>\n",
              "      <td>0.110738</td>\n",
              "      <td>0.181138</td>\n",
              "      <td>0.880073</td>\n",
              "      <td>1.000000</td>\n",
              "      <td>0.565231</td>\n",
              "      <td>0.561306</td>\n",
              "      <td>0.145381</td>\n",
              "    </tr>\n",
              "    <tr>\n",
              "      <th>STRUCTURAL_EVAL_067</th>\n",
              "      <td>0.047170</td>\n",
              "      <td>-0.010980</td>\n",
              "      <td>0.582258</td>\n",
              "      <td>0.149896</td>\n",
              "      <td>-0.001081</td>\n",
              "      <td>0.140719</td>\n",
              "      <td>0.125917</td>\n",
              "      <td>0.184165</td>\n",
              "      <td>0.539251</td>\n",
              "      <td>0.565231</td>\n",
              "      <td>1.000000</td>\n",
              "      <td>0.819248</td>\n",
              "      <td>0.153660</td>\n",
              "    </tr>\n",
              "    <tr>\n",
              "      <th>SUFFICIENCY_RATING</th>\n",
              "      <td>0.054556</td>\n",
              "      <td>-0.034150</td>\n",
              "      <td>0.552313</td>\n",
              "      <td>0.143413</td>\n",
              "      <td>-0.039007</td>\n",
              "      <td>0.139243</td>\n",
              "      <td>0.087531</td>\n",
              "      <td>0.222289</td>\n",
              "      <td>0.547272</td>\n",
              "      <td>0.561306</td>\n",
              "      <td>0.819248</td>\n",
              "      <td>1.000000</td>\n",
              "      <td>0.140074</td>\n",
              "    </tr>\n",
              "    <tr>\n",
              "      <th>surface_area</th>\n",
              "      <td>0.073099</td>\n",
              "      <td>0.003389</td>\n",
              "      <td>0.157493</td>\n",
              "      <td>0.407769</td>\n",
              "      <td>0.170062</td>\n",
              "      <td>0.182569</td>\n",
              "      <td>0.859826</td>\n",
              "      <td>0.570139</td>\n",
              "      <td>0.182584</td>\n",
              "      <td>0.145381</td>\n",
              "      <td>0.153660</td>\n",
              "      <td>0.140074</td>\n",
              "      <td>1.000000</td>\n",
              "    </tr>\n",
              "  </tbody>\n",
              "</table>\n",
              "</div>"
            ],
            "text/plain": [
              "                       SERVICE_LEVEL_005C  ...  surface_area\n",
              "SERVICE_LEVEL_005C               1.000000  ...      0.073099\n",
              "MAINTENANCE_021                  0.006780  ...      0.003389\n",
              "YEAR_BUILT_027                   0.054470  ...      0.157493\n",
              "TRAFFIC_LANES_ON_028A           -0.086543  ...      0.407769\n",
              "SERVICE_ON_042A                 -0.042021  ...      0.170062\n",
              "STRUCTURE_KIND_043A              0.034531  ...      0.182569\n",
              "MAX_SPAN_LEN_MT_048              0.122368  ...      0.859826\n",
              "DECK_WIDTH_MT_052                0.012676  ...      0.570139\n",
              "OPERATING_RATING_064             0.032130  ...      0.182584\n",
              "INVENTORY_RATING_066             0.036527  ...      0.145381\n",
              "STRUCTURAL_EVAL_067              0.047170  ...      0.153660\n",
              "SUFFICIENCY_RATING               0.054556  ...      0.140074\n",
              "surface_area                     0.073099  ...      1.000000\n",
              "\n",
              "[13 rows x 13 columns]"
            ]
          },
          "metadata": {
            "tags": []
          },
          "execution_count": 41
        }
      ]
    },
    {
      "cell_type": "markdown",
      "metadata": {
        "id": "PkVGWTNcyyBO",
        "colab_type": "text"
      },
      "source": [
        "**HEATMAP**"
      ]
    },
    {
      "cell_type": "code",
      "metadata": {
        "id": "TqoeJIaswMbR",
        "colab_type": "code",
        "outputId": "f76a1a13-379f-4e8f-ad85-da9bd4e49f49",
        "colab": {
          "base_uri": "https://localhost:8080/",
          "height": 733
        }
      },
      "source": [
        "plt.figure(figsize=(10,10))\n",
        "sns.heatmap(bridges99[n].corr(),annot=True,linewidth=0.5,cmap='coolwarm')"
      ],
      "execution_count": 0,
      "outputs": [
        {
          "output_type": "execute_result",
          "data": {
            "text/plain": [
              "<matplotlib.axes._subplots.AxesSubplot at 0x7f25219bb358>"
            ]
          },
          "metadata": {
            "tags": []
          },
          "execution_count": 42
        },
        {
          "output_type": "display_data",
          "data": {
            "image/png": "[encoded data removed]",
            "text/plain": [
              "<Figure size 720x720 with 2 Axes>"
            ]
          },
          "metadata": {
            "tags": []
          }
        }
      ]
    },
    {
      "cell_type": "markdown",
      "metadata": {
        "id": "aQ47SWnYwXB8",
        "colab_type": "text"
      },
      "source": [
        "**OVERALL NOT MUCH CORREALTION -- I WILL DROP OPERATOR RATING .88 CORRELATION WITH INVENTORY RATING**"
      ]
    },
    {
      "cell_type": "code",
      "metadata": {
        "id": "HdY0rumhQ3_x",
        "colab_type": "code",
        "colab": {}
      },
      "source": [
        "bridges99.drop('OPERATING_RATING_064',axis=1,inplace=True)"
      ],
      "execution_count": 0,
      "outputs": []
    },
    {
      "cell_type": "code",
      "metadata": {
        "id": "Zb4Vpq-lRDJ0",
        "colab_type": "code",
        "outputId": "cfed6609-e2cd-4bbc-d822-1bfd8642ed76",
        "colab": {
          "base_uri": "https://localhost:8080/",
          "height": 35
        }
      },
      "source": [
        "bridges99.shape"
      ],
      "execution_count": 0,
      "outputs": [
        {
          "output_type": "execute_result",
          "data": {
            "text/plain": [
              "(430971, 21)"
            ]
          },
          "metadata": {
            "tags": []
          },
          "execution_count": 44
        }
      ]
    },
    {
      "cell_type": "markdown",
      "metadata": {
        "id": "LTglHDymfZ2L",
        "colab_type": "text"
      },
      "source": [
        "  **CREATING SUBSET OF OBJECT FEATURES**"
      ]
    },
    {
      "cell_type": "code",
      "metadata": {
        "id": "1qLNe8n9HEsX",
        "colab_type": "code",
        "outputId": "42b9fc3a-dbab-4942-eedf-b2d7e854e4c5",
        "colab": {
          "base_uri": "https://localhost:8080/",
          "height": 173
        }
      },
      "source": [
        "k=[col for col in list(bridges99) if bridges99[col].dtype==object]\n",
        "k"
      ],
      "execution_count": 0,
      "outputs": [
        {
          "output_type": "execute_result",
          "data": {
            "text/plain": [
              "['DESIGN_LOAD_031',\n",
              " 'DECK_COND_058',\n",
              " 'SUPERSTRUCTURE_COND_059',\n",
              " 'SUBSTRUCTURE_COND_060',\n",
              " 'DECK_GEOMETRY_EVAL_068',\n",
              " 'DECK_STRUCTURE_TYPE_107',\n",
              " 'SURFACE_TYPE_108A',\n",
              " 'MEMBRANE_TYPE_108B',\n",
              " 'DECK_PROTECTION_108C']"
            ]
          },
          "metadata": {
            "tags": []
          },
          "execution_count": 45
        }
      ]
    },
    {
      "cell_type": "markdown",
      "metadata": {
        "id": "l1tM5aqORvG2",
        "colab_type": "text"
      },
      "source": [
        "**GET VALUE_COUNT GETS FOR ALL CATEGORICALS**"
      ]
    },
    {
      "cell_type": "code",
      "metadata": {
        "id": "bfoME9kAR9wM",
        "colab_type": "code",
        "outputId": "7ed4b649-d3b0-44b2-c29c-418e83e3a244",
        "colab": {
          "base_uri": "https://localhost:8080/",
          "height": 1000
        }
      },
      "source": [
        "for col in k:\n",
        "  print(col)\n",
        "  print(bridges99[col].value_counts())\n",
        "  print('')"
      ],
      "execution_count": 0,
      "outputs": [
        {
          "output_type": "stream",
          "text": [
            "DESIGN_LOAD_031\n",
            "5    171365\n",
            "0     78803\n",
            "6     45125\n",
            "2     35111\n",
            "4     31930\n",
            "9     26386\n",
            "A     17008\n",
            "1     15125\n",
            "3      7761\n",
            "C      1434\n",
            "B       840\n",
            "8        69\n",
            "7        14\n",
            "Name: DESIGN_LOAD_031, dtype: int64\n",
            "\n",
            "DECK_COND_058\n",
            "7    168936\n",
            "6     97857\n",
            "8     68595\n",
            "5     48430\n",
            "N     20014\n",
            "9     11923\n",
            "4     11903\n",
            "3      2245\n",
            "0       633\n",
            "2       348\n",
            "1        87\n",
            "Name: DECK_COND_058, dtype: int64\n",
            "\n",
            "SUPERSTRUCTURE_COND_059\n",
            "7    150158\n",
            "6     93389\n",
            "8     91153\n",
            "5     48638\n",
            "N     15108\n",
            "9     14544\n",
            "4     13766\n",
            "3      2843\n",
            "0       648\n",
            "2       525\n",
            "1       199\n",
            "Name: SUPERSTRUCTURE_COND_059, dtype: int64\n",
            "\n",
            "SUBSTRUCTURE_COND_060\n",
            "7    158086\n",
            "6     95794\n",
            "8     77594\n",
            "5     51252\n",
            "N     15236\n",
            "4     15218\n",
            "9     12461\n",
            "3      3617\n",
            "2       917\n",
            "0       639\n",
            "1       157\n",
            "Name: SUBSTRUCTURE_COND_060, dtype: int64\n",
            "\n",
            "DECK_GEOMETRY_EVAL_068\n",
            "6    95855\n",
            "5    95725\n",
            "4    74948\n",
            "7    53453\n",
            "9    32011\n",
            "2    30920\n",
            "3    26875\n",
            "N    10545\n",
            "8    10076\n",
            "0      560\n",
            "*        3\n",
            "Name: DECK_GEOMETRY_EVAL_068, dtype: int64\n",
            "\n",
            "DECK_STRUCTURE_TYPE_107\n",
            "1    297919\n",
            "2     51566\n",
            "8     28909\n",
            "N     26095\n",
            "9     11564\n",
            "6      9766\n",
            "3      2540\n",
            "5      1510\n",
            "4       999\n",
            "7       103\n",
            "Name: DECK_STRUCTURE_TYPE_107, dtype: int64\n",
            "\n",
            "SURFACE_TYPE_108A\n",
            "1    149481\n",
            "6    135399\n",
            "0     52488\n",
            "8     16837\n",
            "2     15713\n",
            "N     14266\n",
            "7     11882\n",
            "3     11665\n",
            "9      8973\n",
            "4      8381\n",
            "5      5886\n",
            "Name: SURFACE_TYPE_108A, dtype: int64\n",
            "\n",
            "MEMBRANE_TYPE_108B\n",
            "0    324083\n",
            "8     51893\n",
            "N     17153\n",
            "2     15263\n",
            "1     10873\n",
            "9      8080\n",
            "3      3626\n",
            "Name: MEMBRANE_TYPE_108B, dtype: int64\n",
            "\n",
            "DECK_PROTECTION_108C\n",
            "0    270747\n",
            "1     83083\n",
            "8     47676\n",
            "N     22405\n",
            "9      2971\n",
            "7      1387\n",
            "2      1251\n",
            "6       740\n",
            "3       450\n",
            "4       261\n",
            "Name: DECK_PROTECTION_108C, dtype: int64\n",
            "\n"
          ],
          "name": "stdout"
        }
      ]
    },
    {
      "cell_type": "code",
      "metadata": {
        "id": "gYb8uB1Db_s4",
        "colab_type": "code",
        "colab": {}
      },
      "source": [
        "from sklearn.preprocessing import LabelEncoder\n",
        "le = LabelEncoder()"
      ],
      "execution_count": 0,
      "outputs": []
    },
    {
      "cell_type": "code",
      "metadata": {
        "id": "nmemZabYcggi",
        "colab_type": "code",
        "colab": {}
      },
      "source": [
        "#df_encoded = df.apply(le.fit_transform)\n",
        "bridges99_encoded=bridges99.apply(le.fit_transform)"
      ],
      "execution_count": 0,
      "outputs": []
    },
    {
      "cell_type": "code",
      "metadata": {
        "id": "ffFB1PwFb6fW",
        "colab_type": "code",
        "outputId": "28285b76-0638-4ac5-92fa-82be5b0f66e6",
        "colab": {
          "base_uri": "https://localhost:8080/",
          "height": 435
        }
      },
      "source": [
        "bridges99_encoded"
      ],
      "execution_count": 0,
      "outputs": [
        {
          "output_type": "execute_result",
          "data": {
            "text/html": [
              "<div>\n",
              "<style scoped>\n",
              "    .dataframe tbody tr th:only-of-type {\n",
              "        vertical-align: middle;\n",
              "    }\n",
              "\n",
              "    .dataframe tbody tr th {\n",
              "        vertical-align: top;\n",
              "    }\n",
              "\n",
              "    .dataframe thead th {\n",
              "        text-align: right;\n",
              "    }\n",
              "</style>\n",
              "<table border=\"1\" class=\"dataframe\">\n",
              "  <thead>\n",
              "    <tr style=\"text-align: right;\">\n",
              "      <th></th>\n",
              "      <th>SERVICE_LEVEL_005C</th>\n",
              "      <th>MAINTENANCE_021</th>\n",
              "      <th>YEAR_BUILT_027</th>\n",
              "      <th>TRAFFIC_LANES_ON_028A</th>\n",
              "      <th>DESIGN_LOAD_031</th>\n",
              "      <th>SERVICE_ON_042A</th>\n",
              "      <th>STRUCTURE_KIND_043A</th>\n",
              "      <th>MAX_SPAN_LEN_MT_048</th>\n",
              "      <th>DECK_WIDTH_MT_052</th>\n",
              "      <th>DECK_COND_058</th>\n",
              "      <th>SUPERSTRUCTURE_COND_059</th>\n",
              "      <th>SUBSTRUCTURE_COND_060</th>\n",
              "      <th>INVENTORY_RATING_066</th>\n",
              "      <th>STRUCTURAL_EVAL_067</th>\n",
              "      <th>DECK_GEOMETRY_EVAL_068</th>\n",
              "      <th>DECK_STRUCTURE_TYPE_107</th>\n",
              "      <th>SURFACE_TYPE_108A</th>\n",
              "      <th>MEMBRANE_TYPE_108B</th>\n",
              "      <th>DECK_PROTECTION_108C</th>\n",
              "      <th>SUFFICIENCY_RATING</th>\n",
              "      <th>surface_area</th>\n",
              "    </tr>\n",
              "  </thead>\n",
              "  <tbody>\n",
              "    <tr>\n",
              "      <th>0</th>\n",
              "      <td>1</td>\n",
              "      <td>17</td>\n",
              "      <td>191</td>\n",
              "      <td>1</td>\n",
              "      <td>5</td>\n",
              "      <td>0</td>\n",
              "      <td>5</td>\n",
              "      <td>86</td>\n",
              "      <td>89</td>\n",
              "      <td>8</td>\n",
              "      <td>8</td>\n",
              "      <td>7</td>\n",
              "      <td>321</td>\n",
              "      <td>6</td>\n",
              "      <td>7</td>\n",
              "      <td>1</td>\n",
              "      <td>6</td>\n",
              "      <td>0</td>\n",
              "      <td>1</td>\n",
              "      <td>977</td>\n",
              "      <td>5044</td>\n",
              "    </tr>\n",
              "    <tr>\n",
              "      <th>1</th>\n",
              "      <td>1</td>\n",
              "      <td>17</td>\n",
              "      <td>194</td>\n",
              "      <td>1</td>\n",
              "      <td>5</td>\n",
              "      <td>0</td>\n",
              "      <td>5</td>\n",
              "      <td>68</td>\n",
              "      <td>90</td>\n",
              "      <td>8</td>\n",
              "      <td>8</td>\n",
              "      <td>7</td>\n",
              "      <td>343</td>\n",
              "      <td>6</td>\n",
              "      <td>6</td>\n",
              "      <td>1</td>\n",
              "      <td>6</td>\n",
              "      <td>0</td>\n",
              "      <td>7</td>\n",
              "      <td>977</td>\n",
              "      <td>4317</td>\n",
              "    </tr>\n",
              "    <tr>\n",
              "      <th>2</th>\n",
              "      <td>1</td>\n",
              "      <td>27</td>\n",
              "      <td>134</td>\n",
              "      <td>1</td>\n",
              "      <td>4</td>\n",
              "      <td>0</td>\n",
              "      <td>1</td>\n",
              "      <td>122</td>\n",
              "      <td>82</td>\n",
              "      <td>5</td>\n",
              "      <td>5</td>\n",
              "      <td>6</td>\n",
              "      <td>369</td>\n",
              "      <td>4</td>\n",
              "      <td>4</td>\n",
              "      <td>0</td>\n",
              "      <td>1</td>\n",
              "      <td>0</td>\n",
              "      <td>0</td>\n",
              "      <td>672</td>\n",
              "      <td>5999</td>\n",
              "    </tr>\n",
              "    <tr>\n",
              "      <th>3</th>\n",
              "      <td>1</td>\n",
              "      <td>21</td>\n",
              "      <td>166</td>\n",
              "      <td>1</td>\n",
              "      <td>5</td>\n",
              "      <td>0</td>\n",
              "      <td>5</td>\n",
              "      <td>79</td>\n",
              "      <td>97</td>\n",
              "      <td>7</td>\n",
              "      <td>7</td>\n",
              "      <td>7</td>\n",
              "      <td>263</td>\n",
              "      <td>5</td>\n",
              "      <td>6</td>\n",
              "      <td>0</td>\n",
              "      <td>1</td>\n",
              "      <td>0</td>\n",
              "      <td>0</td>\n",
              "      <td>879</td>\n",
              "      <td>5243</td>\n",
              "    </tr>\n",
              "    <tr>\n",
              "      <th>4</th>\n",
              "      <td>1</td>\n",
              "      <td>21</td>\n",
              "      <td>129</td>\n",
              "      <td>1</td>\n",
              "      <td>4</td>\n",
              "      <td>1</td>\n",
              "      <td>3</td>\n",
              "      <td>472</td>\n",
              "      <td>70</td>\n",
              "      <td>6</td>\n",
              "      <td>6</td>\n",
              "      <td>7</td>\n",
              "      <td>236</td>\n",
              "      <td>4</td>\n",
              "      <td>2</td>\n",
              "      <td>0</td>\n",
              "      <td>1</td>\n",
              "      <td>0</td>\n",
              "      <td>0</td>\n",
              "      <td>476</td>\n",
              "      <td>16182</td>\n",
              "    </tr>\n",
              "    <tr>\n",
              "      <th>...</th>\n",
              "      <td>...</td>\n",
              "      <td>...</td>\n",
              "      <td>...</td>\n",
              "      <td>...</td>\n",
              "      <td>...</td>\n",
              "      <td>...</td>\n",
              "      <td>...</td>\n",
              "      <td>...</td>\n",
              "      <td>...</td>\n",
              "      <td>...</td>\n",
              "      <td>...</td>\n",
              "      <td>...</td>\n",
              "      <td>...</td>\n",
              "      <td>...</td>\n",
              "      <td>...</td>\n",
              "      <td>...</td>\n",
              "      <td>...</td>\n",
              "      <td>...</td>\n",
              "      <td>...</td>\n",
              "      <td>...</td>\n",
              "      <td>...</td>\n",
              "    </tr>\n",
              "    <tr>\n",
              "      <th>614989</th>\n",
              "      <td>7</td>\n",
              "      <td>3</td>\n",
              "      <td>204</td>\n",
              "      <td>1</td>\n",
              "      <td>5</td>\n",
              "      <td>0</td>\n",
              "      <td>3</td>\n",
              "      <td>19</td>\n",
              "      <td>72</td>\n",
              "      <td>6</td>\n",
              "      <td>6</td>\n",
              "      <td>7</td>\n",
              "      <td>472</td>\n",
              "      <td>5</td>\n",
              "      <td>2</td>\n",
              "      <td>0</td>\n",
              "      <td>1</td>\n",
              "      <td>6</td>\n",
              "      <td>9</td>\n",
              "      <td>787</td>\n",
              "      <td>1549</td>\n",
              "    </tr>\n",
              "    <tr>\n",
              "      <th>614990</th>\n",
              "      <td>0</td>\n",
              "      <td>0</td>\n",
              "      <td>208</td>\n",
              "      <td>1</td>\n",
              "      <td>6</td>\n",
              "      <td>0</td>\n",
              "      <td>5</td>\n",
              "      <td>33</td>\n",
              "      <td>31</td>\n",
              "      <td>8</td>\n",
              "      <td>8</td>\n",
              "      <td>8</td>\n",
              "      <td>555</td>\n",
              "      <td>7</td>\n",
              "      <td>2</td>\n",
              "      <td>9</td>\n",
              "      <td>10</td>\n",
              "      <td>6</td>\n",
              "      <td>9</td>\n",
              "      <td>787</td>\n",
              "      <td>411</td>\n",
              "    </tr>\n",
              "    <tr>\n",
              "      <th>614992</th>\n",
              "      <td>1</td>\n",
              "      <td>18</td>\n",
              "      <td>202</td>\n",
              "      <td>1</td>\n",
              "      <td>0</td>\n",
              "      <td>0</td>\n",
              "      <td>3</td>\n",
              "      <td>149</td>\n",
              "      <td>49</td>\n",
              "      <td>8</td>\n",
              "      <td>8</td>\n",
              "      <td>8</td>\n",
              "      <td>324</td>\n",
              "      <td>7</td>\n",
              "      <td>4</td>\n",
              "      <td>4</td>\n",
              "      <td>6</td>\n",
              "      <td>0</td>\n",
              "      <td>0</td>\n",
              "      <td>822</td>\n",
              "      <td>4010</td>\n",
              "    </tr>\n",
              "    <tr>\n",
              "      <th>614993</th>\n",
              "      <td>0</td>\n",
              "      <td>18</td>\n",
              "      <td>204</td>\n",
              "      <td>1</td>\n",
              "      <td>10</td>\n",
              "      <td>0</td>\n",
              "      <td>5</td>\n",
              "      <td>152</td>\n",
              "      <td>67</td>\n",
              "      <td>8</td>\n",
              "      <td>8</td>\n",
              "      <td>8</td>\n",
              "      <td>414</td>\n",
              "      <td>7</td>\n",
              "      <td>4</td>\n",
              "      <td>0</td>\n",
              "      <td>1</td>\n",
              "      <td>0</td>\n",
              "      <td>0</td>\n",
              "      <td>956</td>\n",
              "      <td>5782</td>\n",
              "    </tr>\n",
              "    <tr>\n",
              "      <th>614994</th>\n",
              "      <td>1</td>\n",
              "      <td>18</td>\n",
              "      <td>202</td>\n",
              "      <td>1</td>\n",
              "      <td>0</td>\n",
              "      <td>0</td>\n",
              "      <td>3</td>\n",
              "      <td>119</td>\n",
              "      <td>49</td>\n",
              "      <td>8</td>\n",
              "      <td>8</td>\n",
              "      <td>8</td>\n",
              "      <td>324</td>\n",
              "      <td>7</td>\n",
              "      <td>4</td>\n",
              "      <td>4</td>\n",
              "      <td>6</td>\n",
              "      <td>0</td>\n",
              "      <td>0</td>\n",
              "      <td>812</td>\n",
              "      <td>3225</td>\n",
              "    </tr>\n",
              "  </tbody>\n",
              "</table>\n",
              "<p>430971 rows × 21 columns</p>\n",
              "</div>"
            ],
            "text/plain": [
              "        SERVICE_LEVEL_005C  MAINTENANCE_021  ...  SUFFICIENCY_RATING  surface_area\n",
              "0                        1               17  ...                 977          5044\n",
              "1                        1               17  ...                 977          4317\n",
              "2                        1               27  ...                 672          5999\n",
              "3                        1               21  ...                 879          5243\n",
              "4                        1               21  ...                 476         16182\n",
              "...                    ...              ...  ...                 ...           ...\n",
              "614989                   7                3  ...                 787          1549\n",
              "614990                   0                0  ...                 787           411\n",
              "614992                   1               18  ...                 822          4010\n",
              "614993                   0               18  ...                 956          5782\n",
              "614994                   1               18  ...                 812          3225\n",
              "\n",
              "[430971 rows x 21 columns]"
            ]
          },
          "metadata": {
            "tags": []
          },
          "execution_count": 49
        }
      ]
    },
    {
      "cell_type": "code",
      "metadata": {
        "id": "Yu9pKwMog8eT",
        "colab_type": "code",
        "outputId": "dcc372b4-56ed-4b1b-c0c2-bb76194dc179",
        "colab": {
          "base_uri": "https://localhost:8080/",
          "height": 35
        }
      },
      "source": [
        "type(bridges99_encoded)"
      ],
      "execution_count": 0,
      "outputs": [
        {
          "output_type": "execute_result",
          "data": {
            "text/plain": [
              "pandas.core.frame.DataFrame"
            ]
          },
          "metadata": {
            "tags": []
          },
          "execution_count": 50
        }
      ]
    },
    {
      "cell_type": "code",
      "metadata": {
        "id": "P09R26Q6fKCE",
        "colab_type": "code",
        "colab": {}
      },
      "source": [
        "n2=['SERVICE_LEVEL_005C',\n",
        " 'MAINTENANCE_021',\n",
        " 'YEAR_BUILT_027',\n",
        " 'TRAFFIC_LANES_ON_028A',\n",
        " 'SERVICE_ON_042A',\n",
        " 'STRUCTURE_KIND_043A',\n",
        " 'MAX_SPAN_LEN_MT_048',\n",
        " 'DECK_WIDTH_MT_052',\n",
        " 'INVENTORY_RATING_066',\n",
        " 'SUFFICIENCY_RATING',\n",
        " 'surface_area']"
      ],
      "execution_count": 0,
      "outputs": []
    },
    {
      "cell_type": "code",
      "metadata": {
        "id": "plrqSuQye-5X",
        "colab_type": "code",
        "outputId": "b6a31f35-1688-4838-df95-fcd784101937",
        "colab": {
          "base_uri": "https://localhost:8080/",
          "height": 35
        }
      },
      "source": [
        "bridges99[n2].shape"
      ],
      "execution_count": 0,
      "outputs": [
        {
          "output_type": "execute_result",
          "data": {
            "text/plain": [
              "(430971, 11)"
            ]
          },
          "metadata": {
            "tags": []
          },
          "execution_count": 53
        }
      ]
    },
    {
      "cell_type": "code",
      "metadata": {
        "id": "ubh35qxj_EFY",
        "colab_type": "code",
        "colab": {}
      },
      "source": [
        "dat1 = pd.concat([bridges99[n2], bridges99_encoded], axis=1)"
      ],
      "execution_count": 0,
      "outputs": []
    },
    {
      "cell_type": "code",
      "metadata": {
        "id": "g5ObiQ1I_WFl",
        "colab_type": "code",
        "outputId": "cabe039a-1e4d-46bf-9cdd-caaa24c8e9c6",
        "colab": {
          "base_uri": "https://localhost:8080/",
          "height": 435
        }
      },
      "source": [
        "dat1"
      ],
      "execution_count": 0,
      "outputs": [
        {
          "output_type": "execute_result",
          "data": {
            "text/html": [
              "<div>\n",
              "<style scoped>\n",
              "    .dataframe tbody tr th:only-of-type {\n",
              "        vertical-align: middle;\n",
              "    }\n",
              "\n",
              "    .dataframe tbody tr th {\n",
              "        vertical-align: top;\n",
              "    }\n",
              "\n",
              "    .dataframe thead th {\n",
              "        text-align: right;\n",
              "    }\n",
              "</style>\n",
              "<table border=\"1\" class=\"dataframe\">\n",
              "  <thead>\n",
              "    <tr style=\"text-align: right;\">\n",
              "      <th></th>\n",
              "      <th>SERVICE_LEVEL_005C</th>\n",
              "      <th>MAINTENANCE_021</th>\n",
              "      <th>YEAR_BUILT_027</th>\n",
              "      <th>TRAFFIC_LANES_ON_028A</th>\n",
              "      <th>SERVICE_ON_042A</th>\n",
              "      <th>STRUCTURE_KIND_043A</th>\n",
              "      <th>MAX_SPAN_LEN_MT_048</th>\n",
              "      <th>DECK_WIDTH_MT_052</th>\n",
              "      <th>INVENTORY_RATING_066</th>\n",
              "      <th>SUFFICIENCY_RATING</th>\n",
              "      <th>surface_area</th>\n",
              "      <th>SERVICE_LEVEL_005C</th>\n",
              "      <th>MAINTENANCE_021</th>\n",
              "      <th>YEAR_BUILT_027</th>\n",
              "      <th>TRAFFIC_LANES_ON_028A</th>\n",
              "      <th>DESIGN_LOAD_031</th>\n",
              "      <th>SERVICE_ON_042A</th>\n",
              "      <th>STRUCTURE_KIND_043A</th>\n",
              "      <th>MAX_SPAN_LEN_MT_048</th>\n",
              "      <th>DECK_WIDTH_MT_052</th>\n",
              "      <th>DECK_COND_058</th>\n",
              "      <th>SUPERSTRUCTURE_COND_059</th>\n",
              "      <th>SUBSTRUCTURE_COND_060</th>\n",
              "      <th>INVENTORY_RATING_066</th>\n",
              "      <th>STRUCTURAL_EVAL_067</th>\n",
              "      <th>DECK_GEOMETRY_EVAL_068</th>\n",
              "      <th>DECK_STRUCTURE_TYPE_107</th>\n",
              "      <th>SURFACE_TYPE_108A</th>\n",
              "      <th>MEMBRANE_TYPE_108B</th>\n",
              "      <th>DECK_PROTECTION_108C</th>\n",
              "      <th>SUFFICIENCY_RATING</th>\n",
              "      <th>surface_area</th>\n",
              "    </tr>\n",
              "  </thead>\n",
              "  <tbody>\n",
              "    <tr>\n",
              "      <th>0</th>\n",
              "      <td>1.0</td>\n",
              "      <td>62</td>\n",
              "      <td>1999</td>\n",
              "      <td>2.0</td>\n",
              "      <td>1</td>\n",
              "      <td>5</td>\n",
              "      <td>14.7</td>\n",
              "      <td>9.7</td>\n",
              "      <td>32.4</td>\n",
              "      <td>100.0</td>\n",
              "      <td>142.59</td>\n",
              "      <td>1</td>\n",
              "      <td>17</td>\n",
              "      <td>191</td>\n",
              "      <td>1</td>\n",
              "      <td>5</td>\n",
              "      <td>0</td>\n",
              "      <td>5</td>\n",
              "      <td>86</td>\n",
              "      <td>89</td>\n",
              "      <td>8</td>\n",
              "      <td>8</td>\n",
              "      <td>7</td>\n",
              "      <td>321</td>\n",
              "      <td>6</td>\n",
              "      <td>7</td>\n",
              "      <td>1</td>\n",
              "      <td>6</td>\n",
              "      <td>0</td>\n",
              "      <td>1</td>\n",
              "      <td>977</td>\n",
              "      <td>5044</td>\n",
              "    </tr>\n",
              "    <tr>\n",
              "      <th>1</th>\n",
              "      <td>1.0</td>\n",
              "      <td>62</td>\n",
              "      <td>2002</td>\n",
              "      <td>2.0</td>\n",
              "      <td>1</td>\n",
              "      <td>5</td>\n",
              "      <td>12.9</td>\n",
              "      <td>9.8</td>\n",
              "      <td>34.6</td>\n",
              "      <td>100.0</td>\n",
              "      <td>126.42</td>\n",
              "      <td>1</td>\n",
              "      <td>17</td>\n",
              "      <td>194</td>\n",
              "      <td>1</td>\n",
              "      <td>5</td>\n",
              "      <td>0</td>\n",
              "      <td>5</td>\n",
              "      <td>68</td>\n",
              "      <td>90</td>\n",
              "      <td>8</td>\n",
              "      <td>8</td>\n",
              "      <td>7</td>\n",
              "      <td>343</td>\n",
              "      <td>6</td>\n",
              "      <td>6</td>\n",
              "      <td>1</td>\n",
              "      <td>6</td>\n",
              "      <td>0</td>\n",
              "      <td>7</td>\n",
              "      <td>977</td>\n",
              "      <td>4317</td>\n",
              "    </tr>\n",
              "    <tr>\n",
              "      <th>2</th>\n",
              "      <td>1.0</td>\n",
              "      <td>74</td>\n",
              "      <td>1942</td>\n",
              "      <td>2.0</td>\n",
              "      <td>1</td>\n",
              "      <td>1</td>\n",
              "      <td>18.3</td>\n",
              "      <td>9.0</td>\n",
              "      <td>37.2</td>\n",
              "      <td>69.5</td>\n",
              "      <td>164.70</td>\n",
              "      <td>1</td>\n",
              "      <td>27</td>\n",
              "      <td>134</td>\n",
              "      <td>1</td>\n",
              "      <td>4</td>\n",
              "      <td>0</td>\n",
              "      <td>1</td>\n",
              "      <td>122</td>\n",
              "      <td>82</td>\n",
              "      <td>5</td>\n",
              "      <td>5</td>\n",
              "      <td>6</td>\n",
              "      <td>369</td>\n",
              "      <td>4</td>\n",
              "      <td>4</td>\n",
              "      <td>0</td>\n",
              "      <td>1</td>\n",
              "      <td>0</td>\n",
              "      <td>0</td>\n",
              "      <td>672</td>\n",
              "      <td>5999</td>\n",
              "    </tr>\n",
              "    <tr>\n",
              "      <th>3</th>\n",
              "      <td>1.0</td>\n",
              "      <td>67</td>\n",
              "      <td>1974</td>\n",
              "      <td>2.0</td>\n",
              "      <td>1</td>\n",
              "      <td>5</td>\n",
              "      <td>14.0</td>\n",
              "      <td>10.5</td>\n",
              "      <td>26.6</td>\n",
              "      <td>90.2</td>\n",
              "      <td>147.00</td>\n",
              "      <td>1</td>\n",
              "      <td>21</td>\n",
              "      <td>166</td>\n",
              "      <td>1</td>\n",
              "      <td>5</td>\n",
              "      <td>0</td>\n",
              "      <td>5</td>\n",
              "      <td>79</td>\n",
              "      <td>97</td>\n",
              "      <td>7</td>\n",
              "      <td>7</td>\n",
              "      <td>7</td>\n",
              "      <td>263</td>\n",
              "      <td>5</td>\n",
              "      <td>6</td>\n",
              "      <td>0</td>\n",
              "      <td>1</td>\n",
              "      <td>0</td>\n",
              "      <td>0</td>\n",
              "      <td>879</td>\n",
              "      <td>5243</td>\n",
              "    </tr>\n",
              "    <tr>\n",
              "      <th>4</th>\n",
              "      <td>1.0</td>\n",
              "      <td>67</td>\n",
              "      <td>1937</td>\n",
              "      <td>2.0</td>\n",
              "      <td>5</td>\n",
              "      <td>3</td>\n",
              "      <td>53.3</td>\n",
              "      <td>7.8</td>\n",
              "      <td>23.9</td>\n",
              "      <td>49.9</td>\n",
              "      <td>415.74</td>\n",
              "      <td>1</td>\n",
              "      <td>21</td>\n",
              "      <td>129</td>\n",
              "      <td>1</td>\n",
              "      <td>4</td>\n",
              "      <td>1</td>\n",
              "      <td>3</td>\n",
              "      <td>472</td>\n",
              "      <td>70</td>\n",
              "      <td>6</td>\n",
              "      <td>6</td>\n",
              "      <td>7</td>\n",
              "      <td>236</td>\n",
              "      <td>4</td>\n",
              "      <td>2</td>\n",
              "      <td>0</td>\n",
              "      <td>1</td>\n",
              "      <td>0</td>\n",
              "      <td>0</td>\n",
              "      <td>476</td>\n",
              "      <td>16182</td>\n",
              "    </tr>\n",
              "    <tr>\n",
              "      <th>...</th>\n",
              "      <td>...</td>\n",
              "      <td>...</td>\n",
              "      <td>...</td>\n",
              "      <td>...</td>\n",
              "      <td>...</td>\n",
              "      <td>...</td>\n",
              "      <td>...</td>\n",
              "      <td>...</td>\n",
              "      <td>...</td>\n",
              "      <td>...</td>\n",
              "      <td>...</td>\n",
              "      <td>...</td>\n",
              "      <td>...</td>\n",
              "      <td>...</td>\n",
              "      <td>...</td>\n",
              "      <td>...</td>\n",
              "      <td>...</td>\n",
              "      <td>...</td>\n",
              "      <td>...</td>\n",
              "      <td>...</td>\n",
              "      <td>...</td>\n",
              "      <td>...</td>\n",
              "      <td>...</td>\n",
              "      <td>...</td>\n",
              "      <td>...</td>\n",
              "      <td>...</td>\n",
              "      <td>...</td>\n",
              "      <td>...</td>\n",
              "      <td>...</td>\n",
              "      <td>...</td>\n",
              "      <td>...</td>\n",
              "      <td>...</td>\n",
              "    </tr>\n",
              "    <tr>\n",
              "      <th>614989</th>\n",
              "      <td>8.0</td>\n",
              "      <td>4</td>\n",
              "      <td>2012</td>\n",
              "      <td>2.0</td>\n",
              "      <td>1</td>\n",
              "      <td>3</td>\n",
              "      <td>8.0</td>\n",
              "      <td>8.0</td>\n",
              "      <td>47.5</td>\n",
              "      <td>81.0</td>\n",
              "      <td>64.00</td>\n",
              "      <td>7</td>\n",
              "      <td>3</td>\n",
              "      <td>204</td>\n",
              "      <td>1</td>\n",
              "      <td>5</td>\n",
              "      <td>0</td>\n",
              "      <td>3</td>\n",
              "      <td>19</td>\n",
              "      <td>72</td>\n",
              "      <td>6</td>\n",
              "      <td>6</td>\n",
              "      <td>7</td>\n",
              "      <td>472</td>\n",
              "      <td>5</td>\n",
              "      <td>2</td>\n",
              "      <td>0</td>\n",
              "      <td>1</td>\n",
              "      <td>6</td>\n",
              "      <td>9</td>\n",
              "      <td>787</td>\n",
              "      <td>1549</td>\n",
              "    </tr>\n",
              "    <tr>\n",
              "      <th>614990</th>\n",
              "      <td>0.0</td>\n",
              "      <td>1</td>\n",
              "      <td>2016</td>\n",
              "      <td>2.0</td>\n",
              "      <td>1</td>\n",
              "      <td>5</td>\n",
              "      <td>9.4</td>\n",
              "      <td>3.9</td>\n",
              "      <td>55.8</td>\n",
              "      <td>81.0</td>\n",
              "      <td>36.66</td>\n",
              "      <td>0</td>\n",
              "      <td>0</td>\n",
              "      <td>208</td>\n",
              "      <td>1</td>\n",
              "      <td>6</td>\n",
              "      <td>0</td>\n",
              "      <td>5</td>\n",
              "      <td>33</td>\n",
              "      <td>31</td>\n",
              "      <td>8</td>\n",
              "      <td>8</td>\n",
              "      <td>8</td>\n",
              "      <td>555</td>\n",
              "      <td>7</td>\n",
              "      <td>2</td>\n",
              "      <td>9</td>\n",
              "      <td>10</td>\n",
              "      <td>6</td>\n",
              "      <td>9</td>\n",
              "      <td>787</td>\n",
              "      <td>411</td>\n",
              "    </tr>\n",
              "    <tr>\n",
              "      <th>614992</th>\n",
              "      <td>1.0</td>\n",
              "      <td>63</td>\n",
              "      <td>2010</td>\n",
              "      <td>2.0</td>\n",
              "      <td>1</td>\n",
              "      <td>3</td>\n",
              "      <td>21.0</td>\n",
              "      <td>5.7</td>\n",
              "      <td>32.7</td>\n",
              "      <td>84.5</td>\n",
              "      <td>119.70</td>\n",
              "      <td>1</td>\n",
              "      <td>18</td>\n",
              "      <td>202</td>\n",
              "      <td>1</td>\n",
              "      <td>0</td>\n",
              "      <td>0</td>\n",
              "      <td>3</td>\n",
              "      <td>149</td>\n",
              "      <td>49</td>\n",
              "      <td>8</td>\n",
              "      <td>8</td>\n",
              "      <td>8</td>\n",
              "      <td>324</td>\n",
              "      <td>7</td>\n",
              "      <td>4</td>\n",
              "      <td>4</td>\n",
              "      <td>6</td>\n",
              "      <td>0</td>\n",
              "      <td>0</td>\n",
              "      <td>822</td>\n",
              "      <td>4010</td>\n",
              "    </tr>\n",
              "    <tr>\n",
              "      <th>614993</th>\n",
              "      <td>0.0</td>\n",
              "      <td>63</td>\n",
              "      <td>2012</td>\n",
              "      <td>2.0</td>\n",
              "      <td>1</td>\n",
              "      <td>5</td>\n",
              "      <td>21.3</td>\n",
              "      <td>7.5</td>\n",
              "      <td>41.7</td>\n",
              "      <td>97.9</td>\n",
              "      <td>159.75</td>\n",
              "      <td>0</td>\n",
              "      <td>18</td>\n",
              "      <td>204</td>\n",
              "      <td>1</td>\n",
              "      <td>10</td>\n",
              "      <td>0</td>\n",
              "      <td>5</td>\n",
              "      <td>152</td>\n",
              "      <td>67</td>\n",
              "      <td>8</td>\n",
              "      <td>8</td>\n",
              "      <td>8</td>\n",
              "      <td>414</td>\n",
              "      <td>7</td>\n",
              "      <td>4</td>\n",
              "      <td>0</td>\n",
              "      <td>1</td>\n",
              "      <td>0</td>\n",
              "      <td>0</td>\n",
              "      <td>956</td>\n",
              "      <td>5782</td>\n",
              "    </tr>\n",
              "    <tr>\n",
              "      <th>614994</th>\n",
              "      <td>1.0</td>\n",
              "      <td>63</td>\n",
              "      <td>2010</td>\n",
              "      <td>2.0</td>\n",
              "      <td>1</td>\n",
              "      <td>3</td>\n",
              "      <td>18.0</td>\n",
              "      <td>5.7</td>\n",
              "      <td>32.7</td>\n",
              "      <td>83.5</td>\n",
              "      <td>102.60</td>\n",
              "      <td>1</td>\n",
              "      <td>18</td>\n",
              "      <td>202</td>\n",
              "      <td>1</td>\n",
              "      <td>0</td>\n",
              "      <td>0</td>\n",
              "      <td>3</td>\n",
              "      <td>119</td>\n",
              "      <td>49</td>\n",
              "      <td>8</td>\n",
              "      <td>8</td>\n",
              "      <td>8</td>\n",
              "      <td>324</td>\n",
              "      <td>7</td>\n",
              "      <td>4</td>\n",
              "      <td>4</td>\n",
              "      <td>6</td>\n",
              "      <td>0</td>\n",
              "      <td>0</td>\n",
              "      <td>812</td>\n",
              "      <td>3225</td>\n",
              "    </tr>\n",
              "  </tbody>\n",
              "</table>\n",
              "<p>430971 rows × 32 columns</p>\n",
              "</div>"
            ],
            "text/plain": [
              "        SERVICE_LEVEL_005C  MAINTENANCE_021  ...  SUFFICIENCY_RATING  surface_area\n",
              "0                      1.0               62  ...                 977          5044\n",
              "1                      1.0               62  ...                 977          4317\n",
              "2                      1.0               74  ...                 672          5999\n",
              "3                      1.0               67  ...                 879          5243\n",
              "4                      1.0               67  ...                 476         16182\n",
              "...                    ...              ...  ...                 ...           ...\n",
              "614989                 8.0                4  ...                 787          1549\n",
              "614990                 0.0                1  ...                 787           411\n",
              "614992                 1.0               63  ...                 822          4010\n",
              "614993                 0.0               63  ...                 956          5782\n",
              "614994                 1.0               63  ...                 812          3225\n",
              "\n",
              "[430971 rows x 32 columns]"
            ]
          },
          "metadata": {
            "tags": []
          },
          "execution_count": 67
        }
      ]
    },
    {
      "cell_type": "code",
      "metadata": {
        "id": "yCzJkhXH_dIM",
        "colab_type": "code",
        "colab": {}
      },
      "source": [
        "X=dat1.drop('STRUCTURAL_EVAL_067',axis=1)\n",
        "y=bridges99['STRUCTURAL_EVAL_067']\n",
        "X_train,X_test,y_train,y_test= train_test_split(X, y, test_size = 0.2, random_state = 465)"
      ],
      "execution_count": 0,
      "outputs": []
    },
    {
      "cell_type": "markdown",
      "metadata": {
        "id": "g3aXavnxAqav",
        "colab_type": "text"
      },
      "source": [
        "X_train=StandardScaler.fit_transform(X_train)\n"
      ]
    },
    {
      "cell_type": "code",
      "metadata": {
        "id": "rhdbwkdIA90E",
        "colab_type": "code",
        "outputId": "33f73272-272c-439f-8d0b-84238b6fe7ef",
        "colab": {
          "base_uri": "https://localhost:8080/",
          "height": 139
        }
      },
      "source": [
        "rfc=RandomForestRegressor(max_depth=2)\n",
        "rfc.fit(X_train,y_train)"
      ],
      "execution_count": 0,
      "outputs": [
        {
          "output_type": "execute_result",
          "data": {
            "text/plain": [
              "RandomForestRegressor(bootstrap=True, ccp_alpha=0.0, criterion='mse',\n",
              "                      max_depth=2, max_features='auto', max_leaf_nodes=None,\n",
              "                      max_samples=None, min_impurity_decrease=0.0,\n",
              "                      min_impurity_split=None, min_samples_leaf=1,\n",
              "                      min_samples_split=2, min_weight_fraction_leaf=0.0,\n",
              "                      n_estimators=100, n_jobs=None, oob_score=False,\n",
              "                      random_state=None, verbose=0, warm_start=False)"
            ]
          },
          "metadata": {
            "tags": []
          },
          "execution_count": 96
        }
      ]
    },
    {
      "cell_type": "code",
      "metadata": {
        "id": "kuLK6dAhEzPn",
        "colab_type": "code",
        "colab": {}
      },
      "source": [
        "rf_predictions = rfc.predict(X_test)"
      ],
      "execution_count": 0,
      "outputs": []
    },
    {
      "cell_type": "code",
      "metadata": {
        "id": "JCkvMj7VEi3L",
        "colab_type": "code",
        "outputId": "85e0ea78-91ea-4e97-ab80-775835331260",
        "colab": {
          "base_uri": "https://localhost:8080/",
          "height": 35
        }
      },
      "source": [
        "rfc.score(X_train,y_train)"
      ],
      "execution_count": 0,
      "outputs": [
        {
          "output_type": "execute_result",
          "data": {
            "text/plain": [
              "0.7087355281704499"
            ]
          },
          "metadata": {
            "tags": []
          },
          "execution_count": 98
        }
      ]
    },
    {
      "cell_type": "code",
      "metadata": {
        "id": "bRdd9q0KKUsD",
        "colab_type": "code",
        "outputId": "d880ef5b-afc3-4605-d6f4-3199136dbab6",
        "colab": {
          "base_uri": "https://localhost:8080/",
          "height": 35
        }
      },
      "source": [
        "rfc.score(X_test,y_test)"
      ],
      "execution_count": 0,
      "outputs": [
        {
          "output_type": "execute_result",
          "data": {
            "text/plain": [
              "0.7115633666259095"
            ]
          },
          "metadata": {
            "tags": []
          },
          "execution_count": 99
        }
      ]
    },
    {
      "cell_type": "code",
      "metadata": {
        "id": "Wc37ahJFHq2M",
        "colab_type": "code",
        "outputId": "f9a03017-ae28-431f-c385-3bf5384067a5",
        "colab": {
          "base_uri": "https://localhost:8080/",
          "height": 35
        }
      },
      "source": [
        "# answer below:\n",
        "important_features_dict = {}\n",
        "for x,i in enumerate(rfc.feature_importances_):\n",
        "    important_features_dict[x]=i\n",
        "\n",
        "\n",
        "important_features_list = sorted(important_features_dict,\n",
        "                                 key=important_features_dict.get,\n",
        "                                 reverse=True)\n",
        "\n",
        "print ('Most important features: %s' %important_features_list)"
      ],
      "execution_count": 0,
      "outputs": [
        {
          "output_type": "stream",
          "text": [
            "Most important features: [29, 9, 22, 8, 23, 0, 1, 2, 3, 4, 5, 6, 7, 10, 11, 12, 13, 14, 15, 16, 17, 18, 19, 20, 21, 24, 25, 26, 27, 28, 30]\n"
          ],
          "name": "stdout"
        }
      ]
    },
    {
      "cell_type": "markdown",
      "metadata": {
        "id": "JV6PCeaUGfd4",
        "colab_type": "text"
      },
      "source": [
        "//////////////////////////////////////////////////////////////////////////////////////////////////////////\n"
      ]
    },
    {
      "cell_type": "code",
      "metadata": {
        "id": "y9zMxMXdGnCW",
        "colab_type": "code",
        "colab": {}
      },
      "source": [
        "importances = rfc.feature_importances_"
      ],
      "execution_count": 0,
      "outputs": []
    },
    {
      "cell_type": "code",
      "metadata": {
        "id": "FPF7_sgoGteL",
        "colab_type": "code",
        "colab": {}
      },
      "source": [
        "indices = np.argsort(importances)"
      ],
      "execution_count": 0,
      "outputs": []
    },
    {
      "cell_type": "code",
      "metadata": {
        "id": "MiQ60AedGzw5",
        "colab_type": "code",
        "colab": {}
      },
      "source": [
        "features = X.columns"
      ],
      "execution_count": 0,
      "outputs": []
    },
    {
      "cell_type": "code",
      "metadata": {
        "id": "pMDITnZsKgOv",
        "colab_type": "code",
        "outputId": "acf195f3-6872-4c66-c14c-982a4d8a4246",
        "colab": {
          "base_uri": "https://localhost:8080/",
          "height": 572
        }
      },
      "source": [
        "list(dat1)"
      ],
      "execution_count": 0,
      "outputs": [
        {
          "output_type": "execute_result",
          "data": {
            "text/plain": [
              "['SERVICE_LEVEL_005C',\n",
              " 'MAINTENANCE_021',\n",
              " 'YEAR_BUILT_027',\n",
              " 'TRAFFIC_LANES_ON_028A',\n",
              " 'SERVICE_ON_042A',\n",
              " 'STRUCTURE_KIND_043A',\n",
              " 'MAX_SPAN_LEN_MT_048',\n",
              " 'DECK_WIDTH_MT_052',\n",
              " 'INVENTORY_RATING_066',\n",
              " 'SUFFICIENCY_RATING',\n",
              " 'surface_area',\n",
              " 'SERVICE_LEVEL_005C',\n",
              " 'MAINTENANCE_021',\n",
              " 'YEAR_BUILT_027',\n",
              " 'TRAFFIC_LANES_ON_028A',\n",
              " 'DESIGN_LOAD_031',\n",
              " 'SERVICE_ON_042A',\n",
              " 'STRUCTURE_KIND_043A',\n",
              " 'MAX_SPAN_LEN_MT_048',\n",
              " 'DECK_WIDTH_MT_052',\n",
              " 'DECK_COND_058',\n",
              " 'SUPERSTRUCTURE_COND_059',\n",
              " 'SUBSTRUCTURE_COND_060',\n",
              " 'INVENTORY_RATING_066',\n",
              " 'STRUCTURAL_EVAL_067',\n",
              " 'DECK_GEOMETRY_EVAL_068',\n",
              " 'DECK_STRUCTURE_TYPE_107',\n",
              " 'SURFACE_TYPE_108A',\n",
              " 'MEMBRANE_TYPE_108B',\n",
              " 'DECK_PROTECTION_108C',\n",
              " 'SUFFICIENCY_RATING',\n",
              " 'surface_area']"
            ]
          },
          "metadata": {
            "tags": []
          },
          "execution_count": 94
        }
      ]
    },
    {
      "cell_type": "code",
      "metadata": {
        "id": "frOSwrl_HYeo",
        "colab_type": "code",
        "outputId": "d2c22846-fe2e-4264-c044-fe261c63ea3d",
        "colab": {
          "base_uri": "https://localhost:8080/",
          "height": 1000
        }
      },
      "source": [
        "from matplotlib.pyplot import figure\n",
        "figure(num=None, figsize=(20,15), dpi=80, facecolor='w', edgecolor='k')\n",
        "plt.figure(1)\n",
        "plt.title('Feature Importances')\n",
        "plt.barh(range(len(indices)), importances[indices], color='b', align='center')\n",
        "plt.yticks(range(len(indices)), features[indices])\n",
        "plt.xlabel('Relative Importance')"
      ],
      "execution_count": 0,
      "outputs": [
        {
          "output_type": "execute_result",
          "data": {
            "text/plain": [
              "Text(0.5, 0, 'Relative Importance')"
            ]
          },
          "metadata": {
            "tags": []
          },
          "execution_count": 104
        },
        {
          "output_type": "display_data",
          "data": {
            "image/png": "[encoded data removed]",
            "text/plain": [
              "<Figure size 1600x1200 with 1 Axes>"
            ]
          },
          "metadata": {
            "tags": []
          }
        }
      ]
    },
    {
      "cell_type": "markdown",
      "metadata": {
        "id": "aCJXT_KDGkMU",
        "colab_type": "text"
      },
      "source": [
        "//////////////////////////////////////////////////////////////////////////////////////////////////////"
      ]
    },
    {
      "cell_type": "code",
      "metadata": {
        "id": "sU8iJi7_FF-4",
        "colab_type": "code",
        "outputId": "0243fb1e-91d8-474c-9995-4874ff582e1b",
        "colab": {
          "base_uri": "https://localhost:8080/",
          "height": 139
        }
      },
      "source": [
        "rfc.feature_importances_"
      ],
      "execution_count": 0,
      "outputs": [
        {
          "output_type": "execute_result",
          "data": {
            "text/plain": [
              "array([0.        , 0.        , 0.        , 0.        , 0.        ,\n",
              "       0.        , 0.        , 0.        , 0.08547802, 0.32732312,\n",
              "       0.        , 0.        , 0.        , 0.        , 0.        ,\n",
              "       0.        , 0.        , 0.        , 0.        , 0.        ,\n",
              "       0.        , 0.        , 0.17079652, 0.06177233, 0.        ,\n",
              "       0.        , 0.        , 0.        , 0.        , 0.35463001,\n",
              "       0.        ])"
            ]
          },
          "metadata": {
            "tags": []
          },
          "execution_count": 105
        }
      ]
    },
    {
      "cell_type": "code",
      "metadata": {
        "id": "XhYK_tYL9ymH",
        "colab_type": "code",
        "outputId": "39763d14-649c-4075-ac5a-53892eb9c175",
        "colab": {
          "base_uri": "https://localhost:8080/",
          "height": 435
        }
      },
      "source": [
        "bridges_complete"
      ],
      "execution_count": 0,
      "outputs": [
        {
          "output_type": "execute_result",
          "data": {
            "text/html": [
              "<div>\n",
              "<style scoped>\n",
              "    .dataframe tbody tr th:only-of-type {\n",
              "        vertical-align: middle;\n",
              "    }\n",
              "\n",
              "    .dataframe tbody tr th {\n",
              "        vertical-align: top;\n",
              "    }\n",
              "\n",
              "    .dataframe thead th {\n",
              "        text-align: right;\n",
              "    }\n",
              "</style>\n",
              "<table border=\"1\" class=\"dataframe\">\n",
              "  <thead>\n",
              "    <tr style=\"text-align: right;\">\n",
              "      <th></th>\n",
              "      <th>DECK_COND_058</th>\n",
              "      <th>DECK_GEOMETRY_EVAL_068</th>\n",
              "      <th>DECK_PROTECTION_108C</th>\n",
              "      <th>DECK_STRUCTURE_TYPE_107</th>\n",
              "      <th>DECK_WIDTH_MT_052</th>\n",
              "      <th>DESIGN_LOAD_031</th>\n",
              "      <th>INVENTORY_RATING_066</th>\n",
              "      <th>MAINTENANCE_021</th>\n",
              "      <th>MAX_SPAN_LEN_MT_048</th>\n",
              "      <th>MEMBRANE_TYPE_108B</th>\n",
              "      <th>SERVICE_LEVEL_005C</th>\n",
              "      <th>SERVICE_ON_042A</th>\n",
              "      <th>STRUCTURAL_EVAL_067</th>\n",
              "      <th>STRUCTURE_KIND_043A</th>\n",
              "      <th>SUBSTRUCTURE_COND_060</th>\n",
              "      <th>SUFFICIENCY_RATING</th>\n",
              "      <th>SUPERSTRUCTURE_COND_059</th>\n",
              "      <th>SURFACE_TYPE_108A</th>\n",
              "      <th>TRAFFIC_LANES_ON_028A</th>\n",
              "      <th>YEAR_BUILT_027</th>\n",
              "      <th>surface_area</th>\n",
              "    </tr>\n",
              "  </thead>\n",
              "  <tbody>\n",
              "    <tr>\n",
              "      <th>0</th>\n",
              "      <td>NaN</td>\n",
              "      <td>NaN</td>\n",
              "      <td>NaN</td>\n",
              "      <td>NaN</td>\n",
              "      <td>9.7</td>\n",
              "      <td>NaN</td>\n",
              "      <td>32.4</td>\n",
              "      <td>62</td>\n",
              "      <td>14.7</td>\n",
              "      <td>NaN</td>\n",
              "      <td>1.0</td>\n",
              "      <td>1</td>\n",
              "      <td>NaN</td>\n",
              "      <td>5</td>\n",
              "      <td>NaN</td>\n",
              "      <td>100.0</td>\n",
              "      <td>NaN</td>\n",
              "      <td>NaN</td>\n",
              "      <td>2.0</td>\n",
              "      <td>1999</td>\n",
              "      <td>142.59</td>\n",
              "    </tr>\n",
              "    <tr>\n",
              "      <th>1</th>\n",
              "      <td>NaN</td>\n",
              "      <td>NaN</td>\n",
              "      <td>NaN</td>\n",
              "      <td>NaN</td>\n",
              "      <td>9.8</td>\n",
              "      <td>NaN</td>\n",
              "      <td>34.6</td>\n",
              "      <td>62</td>\n",
              "      <td>12.9</td>\n",
              "      <td>NaN</td>\n",
              "      <td>1.0</td>\n",
              "      <td>1</td>\n",
              "      <td>NaN</td>\n",
              "      <td>5</td>\n",
              "      <td>NaN</td>\n",
              "      <td>100.0</td>\n",
              "      <td>NaN</td>\n",
              "      <td>NaN</td>\n",
              "      <td>2.0</td>\n",
              "      <td>2002</td>\n",
              "      <td>126.42</td>\n",
              "    </tr>\n",
              "    <tr>\n",
              "      <th>2</th>\n",
              "      <td>NaN</td>\n",
              "      <td>NaN</td>\n",
              "      <td>NaN</td>\n",
              "      <td>NaN</td>\n",
              "      <td>9.0</td>\n",
              "      <td>NaN</td>\n",
              "      <td>37.2</td>\n",
              "      <td>74</td>\n",
              "      <td>18.3</td>\n",
              "      <td>NaN</td>\n",
              "      <td>1.0</td>\n",
              "      <td>1</td>\n",
              "      <td>NaN</td>\n",
              "      <td>1</td>\n",
              "      <td>NaN</td>\n",
              "      <td>69.5</td>\n",
              "      <td>NaN</td>\n",
              "      <td>NaN</td>\n",
              "      <td>2.0</td>\n",
              "      <td>1942</td>\n",
              "      <td>164.70</td>\n",
              "    </tr>\n",
              "    <tr>\n",
              "      <th>3</th>\n",
              "      <td>NaN</td>\n",
              "      <td>NaN</td>\n",
              "      <td>NaN</td>\n",
              "      <td>NaN</td>\n",
              "      <td>10.5</td>\n",
              "      <td>NaN</td>\n",
              "      <td>26.6</td>\n",
              "      <td>67</td>\n",
              "      <td>14.0</td>\n",
              "      <td>NaN</td>\n",
              "      <td>1.0</td>\n",
              "      <td>1</td>\n",
              "      <td>NaN</td>\n",
              "      <td>5</td>\n",
              "      <td>NaN</td>\n",
              "      <td>90.2</td>\n",
              "      <td>NaN</td>\n",
              "      <td>NaN</td>\n",
              "      <td>2.0</td>\n",
              "      <td>1974</td>\n",
              "      <td>147.00</td>\n",
              "    </tr>\n",
              "    <tr>\n",
              "      <th>4</th>\n",
              "      <td>NaN</td>\n",
              "      <td>NaN</td>\n",
              "      <td>NaN</td>\n",
              "      <td>NaN</td>\n",
              "      <td>7.8</td>\n",
              "      <td>NaN</td>\n",
              "      <td>23.9</td>\n",
              "      <td>67</td>\n",
              "      <td>53.3</td>\n",
              "      <td>NaN</td>\n",
              "      <td>1.0</td>\n",
              "      <td>5</td>\n",
              "      <td>NaN</td>\n",
              "      <td>3</td>\n",
              "      <td>NaN</td>\n",
              "      <td>49.9</td>\n",
              "      <td>NaN</td>\n",
              "      <td>NaN</td>\n",
              "      <td>2.0</td>\n",
              "      <td>1937</td>\n",
              "      <td>415.74</td>\n",
              "    </tr>\n",
              "    <tr>\n",
              "      <th>...</th>\n",
              "      <td>...</td>\n",
              "      <td>...</td>\n",
              "      <td>...</td>\n",
              "      <td>...</td>\n",
              "      <td>...</td>\n",
              "      <td>...</td>\n",
              "      <td>...</td>\n",
              "      <td>...</td>\n",
              "      <td>...</td>\n",
              "      <td>...</td>\n",
              "      <td>...</td>\n",
              "      <td>...</td>\n",
              "      <td>...</td>\n",
              "      <td>...</td>\n",
              "      <td>...</td>\n",
              "      <td>...</td>\n",
              "      <td>...</td>\n",
              "      <td>...</td>\n",
              "      <td>...</td>\n",
              "      <td>...</td>\n",
              "      <td>...</td>\n",
              "    </tr>\n",
              "    <tr>\n",
              "      <th>614989</th>\n",
              "      <td>6.0</td>\n",
              "      <td>2.0</td>\n",
              "      <td>9.0</td>\n",
              "      <td>0.0</td>\n",
              "      <td>72.0</td>\n",
              "      <td>5.0</td>\n",
              "      <td>472.0</td>\n",
              "      <td>3</td>\n",
              "      <td>19.0</td>\n",
              "      <td>6.0</td>\n",
              "      <td>7.0</td>\n",
              "      <td>0</td>\n",
              "      <td>5.0</td>\n",
              "      <td>3</td>\n",
              "      <td>7.0</td>\n",
              "      <td>787.0</td>\n",
              "      <td>6.0</td>\n",
              "      <td>1.0</td>\n",
              "      <td>1.0</td>\n",
              "      <td>204</td>\n",
              "      <td>1549.00</td>\n",
              "    </tr>\n",
              "    <tr>\n",
              "      <th>614990</th>\n",
              "      <td>8.0</td>\n",
              "      <td>2.0</td>\n",
              "      <td>9.0</td>\n",
              "      <td>9.0</td>\n",
              "      <td>31.0</td>\n",
              "      <td>6.0</td>\n",
              "      <td>555.0</td>\n",
              "      <td>0</td>\n",
              "      <td>33.0</td>\n",
              "      <td>6.0</td>\n",
              "      <td>0.0</td>\n",
              "      <td>0</td>\n",
              "      <td>7.0</td>\n",
              "      <td>5</td>\n",
              "      <td>8.0</td>\n",
              "      <td>787.0</td>\n",
              "      <td>8.0</td>\n",
              "      <td>10.0</td>\n",
              "      <td>1.0</td>\n",
              "      <td>208</td>\n",
              "      <td>411.00</td>\n",
              "    </tr>\n",
              "    <tr>\n",
              "      <th>614992</th>\n",
              "      <td>8.0</td>\n",
              "      <td>4.0</td>\n",
              "      <td>0.0</td>\n",
              "      <td>4.0</td>\n",
              "      <td>49.0</td>\n",
              "      <td>0.0</td>\n",
              "      <td>324.0</td>\n",
              "      <td>18</td>\n",
              "      <td>149.0</td>\n",
              "      <td>0.0</td>\n",
              "      <td>1.0</td>\n",
              "      <td>0</td>\n",
              "      <td>7.0</td>\n",
              "      <td>3</td>\n",
              "      <td>8.0</td>\n",
              "      <td>822.0</td>\n",
              "      <td>8.0</td>\n",
              "      <td>6.0</td>\n",
              "      <td>1.0</td>\n",
              "      <td>202</td>\n",
              "      <td>4010.00</td>\n",
              "    </tr>\n",
              "    <tr>\n",
              "      <th>614993</th>\n",
              "      <td>8.0</td>\n",
              "      <td>4.0</td>\n",
              "      <td>0.0</td>\n",
              "      <td>0.0</td>\n",
              "      <td>67.0</td>\n",
              "      <td>10.0</td>\n",
              "      <td>414.0</td>\n",
              "      <td>18</td>\n",
              "      <td>152.0</td>\n",
              "      <td>0.0</td>\n",
              "      <td>0.0</td>\n",
              "      <td>0</td>\n",
              "      <td>7.0</td>\n",
              "      <td>5</td>\n",
              "      <td>8.0</td>\n",
              "      <td>956.0</td>\n",
              "      <td>8.0</td>\n",
              "      <td>1.0</td>\n",
              "      <td>1.0</td>\n",
              "      <td>204</td>\n",
              "      <td>5782.00</td>\n",
              "    </tr>\n",
              "    <tr>\n",
              "      <th>614994</th>\n",
              "      <td>8.0</td>\n",
              "      <td>4.0</td>\n",
              "      <td>0.0</td>\n",
              "      <td>4.0</td>\n",
              "      <td>49.0</td>\n",
              "      <td>0.0</td>\n",
              "      <td>324.0</td>\n",
              "      <td>18</td>\n",
              "      <td>119.0</td>\n",
              "      <td>0.0</td>\n",
              "      <td>1.0</td>\n",
              "      <td>0</td>\n",
              "      <td>7.0</td>\n",
              "      <td>3</td>\n",
              "      <td>8.0</td>\n",
              "      <td>812.0</td>\n",
              "      <td>8.0</td>\n",
              "      <td>6.0</td>\n",
              "      <td>1.0</td>\n",
              "      <td>202</td>\n",
              "      <td>3225.00</td>\n",
              "    </tr>\n",
              "  </tbody>\n",
              "</table>\n",
              "<p>861942 rows × 21 columns</p>\n",
              "</div>"
            ],
            "text/plain": [
              "        DECK_COND_058  DECK_GEOMETRY_EVAL_068  ...  YEAR_BUILT_027  surface_area\n",
              "0                 NaN                     NaN  ...            1999        142.59\n",
              "1                 NaN                     NaN  ...            2002        126.42\n",
              "2                 NaN                     NaN  ...            1942        164.70\n",
              "3                 NaN                     NaN  ...            1974        147.00\n",
              "4                 NaN                     NaN  ...            1937        415.74\n",
              "...               ...                     ...  ...             ...           ...\n",
              "614989            6.0                     2.0  ...             204       1549.00\n",
              "614990            8.0                     2.0  ...             208        411.00\n",
              "614992            8.0                     4.0  ...             202       4010.00\n",
              "614993            8.0                     4.0  ...             204       5782.00\n",
              "614994            8.0                     4.0  ...             202       3225.00\n",
              "\n",
              "[861942 rows x 21 columns]"
            ]
          },
          "metadata": {
            "tags": []
          },
          "execution_count": 63
        }
      ]
    },
    {
      "cell_type": "code",
      "metadata": {
        "id": "UTxwFmdkiiDa",
        "colab_type": "code",
        "outputId": "bb03b344-a7bf-4d1f-e02e-26cbdbaee987",
        "colab": {
          "base_uri": "https://localhost:8080/",
          "height": 69
        }
      },
      "source": [
        "bridges99[n2].merge(bridges99_encoded)"
      ],
      "execution_count": 0,
      "outputs": [
        {
          "output_type": "execute_result",
          "data": {
            "text/html": [
              "<div>\n",
              "<style scoped>\n",
              "    .dataframe tbody tr th:only-of-type {\n",
              "        vertical-align: middle;\n",
              "    }\n",
              "\n",
              "    .dataframe tbody tr th {\n",
              "        vertical-align: top;\n",
              "    }\n",
              "\n",
              "    .dataframe thead th {\n",
              "        text-align: right;\n",
              "    }\n",
              "</style>\n",
              "<table border=\"1\" class=\"dataframe\">\n",
              "  <thead>\n",
              "    <tr style=\"text-align: right;\">\n",
              "      <th></th>\n",
              "      <th>SERVICE_LEVEL_005C</th>\n",
              "      <th>MAINTENANCE_021</th>\n",
              "      <th>YEAR_BUILT_027</th>\n",
              "      <th>TRAFFIC_LANES_ON_028A</th>\n",
              "      <th>SERVICE_ON_042A</th>\n",
              "      <th>STRUCTURE_KIND_043A</th>\n",
              "      <th>MAX_SPAN_LEN_MT_048</th>\n",
              "      <th>DECK_WIDTH_MT_052</th>\n",
              "      <th>INVENTORY_RATING_066</th>\n",
              "      <th>SUFFICIENCY_RATING</th>\n",
              "      <th>surface_area</th>\n",
              "      <th>DESIGN_LOAD_031</th>\n",
              "      <th>DECK_COND_058</th>\n",
              "      <th>SUPERSTRUCTURE_COND_059</th>\n",
              "      <th>SUBSTRUCTURE_COND_060</th>\n",
              "      <th>STRUCTURAL_EVAL_067</th>\n",
              "      <th>DECK_GEOMETRY_EVAL_068</th>\n",
              "      <th>DECK_STRUCTURE_TYPE_107</th>\n",
              "      <th>SURFACE_TYPE_108A</th>\n",
              "      <th>MEMBRANE_TYPE_108B</th>\n",
              "      <th>DECK_PROTECTION_108C</th>\n",
              "    </tr>\n",
              "  </thead>\n",
              "  <tbody>\n",
              "  </tbody>\n",
              "</table>\n",
              "</div>"
            ],
            "text/plain": [
              "Empty DataFrame\n",
              "Columns: [SERVICE_LEVEL_005C, MAINTENANCE_021, YEAR_BUILT_027, TRAFFIC_LANES_ON_028A, SERVICE_ON_042A, STRUCTURE_KIND_043A, MAX_SPAN_LEN_MT_048, DECK_WIDTH_MT_052, INVENTORY_RATING_066, SUFFICIENCY_RATING, surface_area, DESIGN_LOAD_031, DECK_COND_058, SUPERSTRUCTURE_COND_059, SUBSTRUCTURE_COND_060, STRUCTURAL_EVAL_067, DECK_GEOMETRY_EVAL_068, DECK_STRUCTURE_TYPE_107, SURFACE_TYPE_108A, MEMBRANE_TYPE_108B, DECK_PROTECTION_108C]\n",
              "Index: []"
            ]
          },
          "metadata": {
            "tags": []
          },
          "execution_count": 60
        }
      ]
    },
    {
      "cell_type": "markdown",
      "metadata": {
        "id": "I509WZ8Rk9zs",
        "colab_type": "text"
      },
      "source": [
        "**PLOT CATEGORICAL SUBFEATURES IN ORDER OF IMPORTANCE**"
      ]
    },
    {
      "cell_type": "code",
      "metadata": {
        "id": "0REdmpV15BpT",
        "colab_type": "code",
        "outputId": "29f1d165-1302-49b8-a22f-e7e10012a043",
        "colab": {
          "base_uri": "https://localhost:8080/",
          "height": 655
        }
      },
      "source": [
        "cat_data = bridges99.select_dtypes(exclude=[np.number])\n",
        "plt.rcParams['figure.figsize'] = (10.0, 8.0)\n",
        "cat = [f for f in bridges99.columns if bridges99.dtypes[f] == 'object']\n",
        "def anova(frame):\n",
        "    anv = pd.DataFrame()\n",
        "    anv['features'] = cat\n",
        "    pvals = []\n",
        "    for c in cat:\n",
        "           samples = []\n",
        "           for cls in frame[c].unique():\n",
        "                 \n",
        "                  s = frame[frame[c] == cls]['STRUCTURAL_EVAL_067'].values\n",
        "               \n",
        "                  samples.append(s)\n",
        "           #print('samples   ',samples)\n",
        "           pval = stats.f_oneway(*samples)[1]\n",
        "          \n",
        "           pvals.append(pval)\n",
        "    anv['pval'] = pvals\n",
        "    return anv.sort_values('pval')\n",
        "\n",
        "cat_data['STRUCTURAL_EVAL_067'] = bridges99.STRUCTURAL_EVAL_067.values\n",
        "k = anova(cat_data) \n",
        "k['disparity'] = np.log(1./k['pval'].values) \n",
        "sns.barplot(data=k, x = 'features', y='disparity') \n",
        "plt.xticks(rotation=90) \n",
        "\n",
        "plt "
      ],
      "execution_count": 0,
      "outputs": [
        {
          "output_type": "execute_result",
          "data": {
            "text/plain": [
              "<module 'matplotlib.pyplot' from '/usr/local/lib/python3.6/dist-packages/matplotlib/pyplot.py'>"
            ]
          },
          "metadata": {
            "tags": []
          },
          "execution_count": 59
        },
        {
          "output_type": "display_data",
          "data": {
            "image/png": "[encoded data removed]",
            "text/plain": [
              "<Figure size 720x576 with 1 Axes>"
            ]
          },
          "metadata": {
            "tags": []
          }
        }
      ]
    },
    {
      "cell_type": "code",
      "metadata": {
        "id": "hvQR4iNW-m3k",
        "colab_type": "code",
        "colab": {}
      },
      "source": [
        ""
      ],
      "execution_count": 0,
      "outputs": []
    },
    {
      "cell_type": "code",
      "metadata": {
        "colab_type": "code",
        "id": "tJ8ZbdTd5S28",
        "colab": {}
      },
      "source": [
        "a=bridges99[bridges99['DESIGN_LOAD_031']=='5']['STRUCTURAL_EVAL_067'].values     \n",
        "b=bridges99[bridges99['DESIGN_LOAD_031']=='4']['STRUCTURAL_EVAL_067'].values   \n",
        "c=bridges99[bridges99['DESIGN_LOAD_031']=='3']['STRUCTURAL_EVAL_067'].values   \n",
        "d=bridges99[bridges99['DESIGN_LOAD_031']=='1']['STRUCTURAL_EVAL_067'].values   "
      ],
      "execution_count": 0,
      "outputs": []
    },
    {
      "cell_type": "code",
      "metadata": {
        "id": "ufsScSY79dQA",
        "colab_type": "code",
        "outputId": "88b378d6-c62f-4b5d-bd40-eacf0f7aa8e3",
        "colab": {
          "base_uri": "https://localhost:8080/",
          "height": 35
        }
      },
      "source": [
        "stats.f_oneway(a,b)"
      ],
      "execution_count": 0,
      "outputs": [
        {
          "output_type": "execute_result",
          "data": {
            "text/plain": [
              "F_onewayResult(statistic=11781.18004641202, pvalue=0.0)"
            ]
          },
          "metadata": {
            "tags": []
          },
          "execution_count": 57
        }
      ]
    },
    {
      "cell_type": "code",
      "metadata": {
        "id": "rwd5dTTvyAsc",
        "colab_type": "code",
        "outputId": "b72d7d5d-3609-4180-e8c3-aec0bb059966",
        "colab": {
          "base_uri": "https://localhost:8080/",
          "height": 52
        }
      },
      "source": [
        "bridges99['DESIGN_LOAD_031'].unique()"
      ],
      "execution_count": 0,
      "outputs": [
        {
          "output_type": "execute_result",
          "data": {
            "text/plain": [
              "array(['5', '4', '3', '1', '2', '0', '6', 'A', '9', 'C', 'B', '8', '7'],\n",
              "      dtype=object)"
            ]
          },
          "metadata": {
            "tags": []
          },
          "execution_count": 58
        }
      ]
    },
    {
      "cell_type": "code",
      "metadata": {
        "id": "onwlLmBGzyW8",
        "colab_type": "code",
        "colab": {}
      },
      "source": [
        ""
      ],
      "execution_count": 0,
      "outputs": []
    }
  ]
}